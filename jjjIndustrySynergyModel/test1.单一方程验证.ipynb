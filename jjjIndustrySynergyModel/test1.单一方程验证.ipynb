{
 "cells": [
  {
   "cell_type": "markdown",
   "metadata": {},
   "source": [
    "- 方法相同、拟合参数表达不同 ：  模拟拟合参数不同，EQ13\n",
    "- 单一方程式 ：预测与excel有差异 ，excel预测值是“联立方程的预测结果”？\n",
    "- 单一方程参数 = 联立方程参数 ？ 基线拟合参数 = 场景拟合参数"
   ]
  },
  {
   "cell_type": "code",
   "execution_count": 1,
   "metadata": {
    "ExecuteTime": {
     "end_time": "2020-07-09T06:11:50.279264Z",
     "start_time": "2020-07-09T06:11:48.536591Z"
    }
   },
   "outputs": [],
   "source": [
    "#引包：引入所需python包\n",
    "import xlrd\n",
    "import os\n",
    "import re\n",
    "import pandas as pd\n",
    "import numpy as np\n",
    "import statsmodels.formula.api as sm\n",
    "\n",
    "from sklearn.metrics import roc_curve,auc\n",
    "import matplotlib as mpl\n",
    "from matplotlib import pyplot as plt\n",
    "from numpy import nan\n",
    "from sklearn import linear_model, datasets\n",
    "from sklearn.model_selection import train_test_split\n",
    "import seaborn as sns\n",
    "import time\n",
    "\n",
    "from scipy.stats import kstest\n",
    "from scipy import stats\n",
    "\n",
    "import warnings\n",
    "warnings.filterwarnings('ignore')"
   ]
  },
  {
   "cell_type": "code",
   "execution_count": 2,
   "metadata": {
    "ExecuteTime": {
     "end_time": "2020-07-09T06:11:50.286642Z",
     "start_time": "2020-07-09T06:11:50.281956Z"
    }
   },
   "outputs": [
    {
     "name": "stdout",
     "output_type": "stream",
     "text": [
      "['【20200703】-预测误差(2015-2017).xls', '【20200703】-模拟（2016，10）-3.xls', '【20200703】-模拟（2016，6-8）-2.xls', '【20200703】-模拟（2016,1-4）-1.xls', '其它数据.csv', '.ipynb_checkpoints']\n"
     ]
    }
   ],
   "source": [
    "dir = r\"./data/\"\n",
    "print(os.listdir(dir))  #手术种类"
   ]
  },
  {
   "cell_type": "markdown",
   "metadata": {},
   "source": [
    "# 数据源"
   ]
  },
  {
   "cell_type": "markdown",
   "metadata": {},
   "source": [
    "## excel数据源\n",
    "- 通过\"预测误差表\"获得数据源；\n",
    "\n",
    "- 也可以通过模拟误差获得数据源，但是那样更复杂一些。"
   ]
  },
  {
   "cell_type": "code",
   "execution_count": 3,
   "metadata": {
    "ExecuteTime": {
     "end_time": "2020-07-09T06:11:50.369536Z",
     "start_time": "2020-07-09T06:11:50.288868Z"
    }
   },
   "outputs": [
    {
     "name": "stdout",
     "output_type": "stream",
     "text": [
      "Index([1996, 1997, 1998, 1999, 2000, 2001, 2002, 2003, 2004, 2005, 2006, 2007,\n",
      "       2008, 2009, 2010, 2011, 2012, 2013, 2014, 2015, 2016, 2017, 2018, 2019,\n",
      "       2020],\n",
      "      dtype='object', name='obs')\n"
     ]
    }
   ],
   "source": [
    "file = \"【20200703】-预测误差(2015-2017).xls\"\n",
    "df_e1= pd.read_excel(dir+file,\"e1\",index_col = 0 ,na_values=['9999'])\n",
    "df_e1 = df_e1.iloc[:list(df_e1.index.isna()).index(True),:]  #取index为na前所有行的数据\n",
    "print(df_e1.index)"
   ]
  },
  {
   "cell_type": "code",
   "execution_count": 4,
   "metadata": {
    "ExecuteTime": {
     "end_time": "2020-07-09T06:11:50.444218Z",
     "start_time": "2020-07-09T06:11:50.372584Z"
    }
   },
   "outputs": [
    {
     "name": "stdout",
     "output_type": "stream",
     "text": [
      "Index([1996, 1997, 1998, 1999, 2000, 2001, 2002, 2003, 2004, 2005, 2006, 2007,\n",
      "       2008, 2009, 2010, 2011, 2012, 2013, 2014, 2015, 2016, 2017, 2018, 2019,\n",
      "       2020],\n",
      "      dtype='object', name='obs')\n"
     ]
    }
   ],
   "source": [
    "df_e2= pd.read_excel(dir+file,\"e2\",index_col = 0 ,na_values=['9999'])\n",
    "df_e2 = df_e2.iloc[:list(df_e2.index.isna()).index(True),:]\n",
    "print(df_e2.index)"
   ]
  },
  {
   "cell_type": "code",
   "execution_count": 5,
   "metadata": {
    "ExecuteTime": {
     "end_time": "2020-07-09T06:11:50.506480Z",
     "start_time": "2020-07-09T06:11:50.446332Z"
    }
   },
   "outputs": [
    {
     "name": "stdout",
     "output_type": "stream",
     "text": [
      "Index([1996, 1997, 1998, 1999, 2000, 2001, 2002, 2003, 2004, 2005, 2006, 2007,\n",
      "       2008, 2009, 2010, 2011, 2012, 2013, 2014, 2015, 2016, 2017, 2018, 2019,\n",
      "       2020],\n",
      "      dtype='object', name='obs')\n"
     ]
    }
   ],
   "source": [
    "df_e3= pd.read_excel(dir+file,\"e3\",index_col = 0 ,na_values=['9999'])\n",
    "df_e3 = df_e3.iloc[:list(df_e3.index.isna()).index(True),:]\n",
    "print(df_e3.index)"
   ]
  },
  {
   "cell_type": "code",
   "execution_count": 6,
   "metadata": {
    "ExecuteTime": {
     "end_time": "2020-07-09T06:11:50.525478Z",
     "start_time": "2020-07-09T06:11:50.508565Z"
    }
   },
   "outputs": [
    {
     "data": {
      "text/plain": [
       "['con_fn_bj',\n",
       " 'con_fn_bj_0',\n",
       " 'con_fn_hb',\n",
       " 'con_fn_hb_0',\n",
       " 'con_fn_tj',\n",
       " 'con_fn_tj_0',\n",
       " 'con_fr_bj',\n",
       " 'con_fr_bj_0',\n",
       " 'con_fr_tj',\n",
       " 'con_fr_tj_0',\n",
       " 'con_gn_bj',\n",
       " 'con_gn_bj_0',\n",
       " 'con_gn_tj',\n",
       " 'con_gn_tj_0',\n",
       " 'con_gr_bj',\n",
       " 'con_gr_bj_0',\n",
       " 'con_gr_tj',\n",
       " 'con_gr_tj_0',\n",
       " 'con_pn_bj',\n",
       " 'con_pn_bj_0',\n",
       " 'con_pn_tj',\n",
       " 'con_pn_tj_0',\n",
       " 'con_pr_bj',\n",
       " 'con_pr_bj_0',\n",
       " 'con_pr_tj',\n",
       " 'con_pr_tj_0',\n",
       " 'con_prn_bj',\n",
       " 'con_prn_bj_0',\n",
       " 'con_prn_tj',\n",
       " 'con_prn_tj_0',\n",
       " 'con_prr_bj',\n",
       " 'con_prr_bj_0',\n",
       " 'con_prr_tj',\n",
       " 'con_prr_tj_0',\n",
       " 'con_pun_bj',\n",
       " 'con_pun_bj_0',\n",
       " 'con_pun_tj',\n",
       " 'con_pun_tj_0',\n",
       " 'con_pur_bj',\n",
       " 'con_pur_bj_0',\n",
       " 'con_pur_tj',\n",
       " 'con_pur_tj_0',\n",
       " 'cone_rn_bj',\n",
       " 'cone_rn_bj_0',\n",
       " 'cone_rn_hb',\n",
       " 'cone_rn_hb_0',\n",
       " 'cone_rn_tj',\n",
       " 'cone_rn_tj_0',\n",
       " 'cone_un_bj',\n",
       " 'cone_un_bj_0',\n",
       " 'cone_un_hb',\n",
       " 'cone_un_hb_0',\n",
       " 'cone_un_tj',\n",
       " 'cone_un_tj_0',\n",
       " 'conet_rn_bj',\n",
       " 'conet_rn_bj_0',\n",
       " 'conet_rn_hb',\n",
       " 'conet_rn_hb_0',\n",
       " 'conet_rn_tj',\n",
       " 'conet_rn_tj_0',\n",
       " 'conet_un_bj',\n",
       " 'conet_un_bj_0',\n",
       " 'conet_un_hb',\n",
       " 'conet_un_hb_0',\n",
       " 'conet_un_tj',\n",
       " 'conet_un_tj_0',\n",
       " 'consn_bj',\n",
       " 'consn_bj_0',\n",
       " 'consn_hb',\n",
       " 'consn_hb_0',\n",
       " 'consn_tj',\n",
       " 'consn_tj_0',\n",
       " 'consr_bj',\n",
       " 'consr_bj_0',\n",
       " 'consr_hb',\n",
       " 'consr_hb_0',\n",
       " 'consr_tj',\n",
       " 'consr_tj_0',\n",
       " 'cpi_bj',\n",
       " 'cpi_bj_0',\n",
       " 'cpi_hb',\n",
       " 'cpi_hb_0',\n",
       " 'cpi_tj',\n",
       " 'cpi_tj_0',\n",
       " 'dep_san_bj',\n",
       " 'dep_san_bj_0',\n",
       " 'dep_san_hb',\n",
       " 'dep_san_hb_0',\n",
       " 'dep_san_tj',\n",
       " 'dep_san_tj_0',\n",
       " 'depn_bj',\n",
       " 'depn_bj_0',\n",
       " 'depn_hb',\n",
       " 'depn_hb_0',\n",
       " 'depn_tj',\n",
       " 'depn_tj_0',\n",
       " 'emp1_bj',\n",
       " 'emp1_bj_0',\n",
       " 'emp1_hb',\n",
       " 'emp1_hb_0',\n",
       " 'emp1_tj',\n",
       " 'emp1_tj_0',\n",
       " 'emp2_bj',\n",
       " 'emp2_bj_0',\n",
       " 'emp2_hb',\n",
       " 'emp2_hb_0',\n",
       " 'emp2_tj',\n",
       " 'emp2_tj_0',\n",
       " 'emp3_bj',\n",
       " 'emp3_bj_0',\n",
       " 'emp3_hb',\n",
       " 'emp3_hb_0',\n",
       " 'emp3_tj',\n",
       " 'emp3_tj_0',\n",
       " 'exusd_bj',\n",
       " 'exusd_bj_0',\n",
       " 'exusd_hb',\n",
       " 'exusd_hb_0',\n",
       " 'exusd_tj',\n",
       " 'exusd_tj_0',\n",
       " 'faipi_bj',\n",
       " 'faipi_bj_0',\n",
       " 'faipi_hb',\n",
       " 'faipi_hb_0',\n",
       " 'faipi_tj',\n",
       " 'faipi_tj_0',\n",
       " 'fen_bj',\n",
       " 'fen_bj_0',\n",
       " 'fen_bj1',\n",
       " 'fen_bj1_0',\n",
       " 'fen_bj2',\n",
       " 'fen_bj2_0',\n",
       " 'fen_hb',\n",
       " 'fen_hb_0',\n",
       " 'fen_hb1',\n",
       " 'fen_hb1_0',\n",
       " 'fen_hb2',\n",
       " 'fen_hb2_0',\n",
       " 'fen_tj',\n",
       " 'fen_tj_0',\n",
       " 'fen_tj1',\n",
       " 'fen_tj1_0',\n",
       " 'fen_tj2',\n",
       " 'fen_tj2_0',\n",
       " 'frn_bj',\n",
       " 'frn_bj_0',\n",
       " 'frn_hb',\n",
       " 'frn_hb_0',\n",
       " 'frn_tj',\n",
       " 'frn_tj_0',\n",
       " 'gdp1d_bj',\n",
       " 'gdp1d_bj_0',\n",
       " 'gdp1d_hb',\n",
       " 'gdp1d_hb_0',\n",
       " 'gdp1d_tj',\n",
       " 'gdp1d_tj_0',\n",
       " 'gdp1n_bj',\n",
       " 'gdp1n_bj_0',\n",
       " 'gdp1n_hb',\n",
       " 'gdp1n_hb_0',\n",
       " 'gdp1n_tj',\n",
       " 'gdp1n_tj_0',\n",
       " 'gdp1r_bj',\n",
       " 'gdp1r_bj_0',\n",
       " 'gdp1r_hb',\n",
       " 'gdp1r_hb_0',\n",
       " 'gdp1r_tj',\n",
       " 'gdp1r_tj_0',\n",
       " 'gdp2_airn_tj',\n",
       " 'gdp2_airn_tj_0',\n",
       " 'gdp2_bindan_bj',\n",
       " 'gdp2_bindan_bj_0',\n",
       " 'gdp2_bindan_hb',\n",
       " 'gdp2_bindan_hb_0',\n",
       " 'gdp2_bindan_tj',\n",
       " 'gdp2_bindan_tj_0',\n",
       " 'gdp2_bindar_bj',\n",
       " 'gdp2_bindar_bj_0',\n",
       " 'gdp2_bindar_hb',\n",
       " 'gdp2_bindar_hb_0',\n",
       " 'gdp2_bindar_tj',\n",
       " 'gdp2_bindar_tj_0',\n",
       " 'gdp2_birn_tj',\n",
       " 'gdp2_birn_tj_0',\n",
       " 'gdp2_caln_tj',\n",
       " 'gdp2_caln_tj_0',\n",
       " 'gdp2_emin_hb',\n",
       " 'gdp2_emin_hb_0',\n",
       " 'gdp2_emin_tj',\n",
       " 'gdp2_emin_tj_0',\n",
       " 'gdp2_emir_hb',\n",
       " 'gdp2_emir_hb_0',\n",
       " 'gdp2_epin_tj',\n",
       " 'gdp2_epin_tj_0',\n",
       " 'gdp2_hemin_tj',\n",
       " 'gdp2_hemin_tj_0',\n",
       " 'gdp2_indan_bj',\n",
       " 'gdp2_indan_bj_0',\n",
       " 'gdp2_indan_hb',\n",
       " 'gdp2_indan_hb_0',\n",
       " 'gdp2_indan_tj',\n",
       " 'gdp2_indan_tj_0',\n",
       " 'gdp2_indar_bj',\n",
       " 'gdp2_indar_bj_0',\n",
       " 'gdp2_indar_hb',\n",
       " 'gdp2_indar_hb_0',\n",
       " 'gdp2_indar_tj',\n",
       " 'gdp2_indar_tj_0',\n",
       " 'gdp2_mecn_tj',\n",
       " 'gdp2_mecn_tj_0',\n",
       " 'gdp2_medn_tj',\n",
       " 'gdp2_medn_tj_0',\n",
       " 'gdp2_necin_tj',\n",
       " 'gdp2_necin_tj_0',\n",
       " 'gdp2_nein_tj',\n",
       " 'gdp2_nein_tj_0',\n",
       " 'gdp2_nmin_tj',\n",
       " 'gdp2_nmin_tj_0',\n",
       " 'gdp2_tecn_hb',\n",
       " 'gdp2_tecn_hb_0',\n",
       " 'gdp2_tecn_hb1',\n",
       " 'gdp2_tecn_hb1_0',\n",
       " 'gdp2_tecn_hb2',\n",
       " 'gdp2_tecn_hb2_0',\n",
       " 'gdp2_tecn_tj',\n",
       " 'gdp2_tecn_tj_0',\n",
       " 'gdp2_tecn_tj1',\n",
       " 'gdp2_tecn_tj1_0',\n",
       " 'gdp2_tecn_tj2',\n",
       " 'gdp2_tecn_tj2_0',\n",
       " 'gdp2_tecr_hb',\n",
       " 'gdp2_tecr_hb_0',\n",
       " 'gdp2_tran_tj',\n",
       " 'gdp2_tran_tj_0',\n",
       " 'gdp2d_bj',\n",
       " 'gdp2d_bj_0',\n",
       " 'gdp2d_hb',\n",
       " 'gdp2d_hb_0',\n",
       " 'gdp2d_tj',\n",
       " 'gdp2d_tj_0',\n",
       " 'gdp2n_bj',\n",
       " 'gdp2n_bj_0',\n",
       " 'gdp2n_hb',\n",
       " 'gdp2n_hb_0',\n",
       " 'gdp2n_tj',\n",
       " 'gdp2n_tj_0',\n",
       " 'gdp2r_bj',\n",
       " 'gdp2r_bj_0',\n",
       " 'gdp2r_bj1',\n",
       " 'gdp2r_bj1_0',\n",
       " 'gdp2r_bj2',\n",
       " 'gdp2r_bj2_0',\n",
       " 'gdp2r_hb',\n",
       " 'gdp2r_hb_0',\n",
       " 'gdp2r_hb1',\n",
       " 'gdp2r_hb1_0',\n",
       " 'gdp2r_hb2',\n",
       " 'gdp2r_hb2_0',\n",
       " 'gdp2r_tj',\n",
       " 'gdp2r_tj_0',\n",
       " 'gdp2r_tj1',\n",
       " 'gdp2r_tj1_0',\n",
       " 'gdp2r_tj2',\n",
       " 'gdp2r_tj2_0',\n",
       " 'gdp3_fian_bj',\n",
       " 'gdp3_fian_bj_0',\n",
       " 'gdp3_fian_hb',\n",
       " 'gdp3_fian_hb_0',\n",
       " 'gdp3_fian_tj',\n",
       " 'gdp3_fian_tj_0',\n",
       " 'gdp3_fiar_bj',\n",
       " 'gdp3_fiar_bj_0',\n",
       " 'gdp3_fiar_tj',\n",
       " 'gdp3_fiar_tj_0',\n",
       " 'gdp3_infn_bj',\n",
       " 'gdp3_infn_bj_0',\n",
       " 'gdp3_infn_hb',\n",
       " 'gdp3_infn_hb_0',\n",
       " 'gdp3_infn_tj',\n",
       " 'gdp3_infn_tj_0',\n",
       " 'gdp3_infr_bj',\n",
       " 'gdp3_infr_bj_0',\n",
       " 'gdp3_infr_tj',\n",
       " 'gdp3_infr_tj_0',\n",
       " 'gdp3_infwn_tj',\n",
       " 'gdp3_infwn_tj_0',\n",
       " 'gdp3_rean_bj',\n",
       " 'gdp3_rean_bj_0',\n",
       " 'gdp3_rean_hb',\n",
       " 'gdp3_rean_hb_0',\n",
       " 'gdp3_rean_tj',\n",
       " 'gdp3_rean_tj_0',\n",
       " 'gdp3_rear_bj',\n",
       " 'gdp3_rear_bj_0',\n",
       " 'gdp3_rear_tj',\n",
       " 'gdp3_rear_tj_0',\n",
       " 'gdp3_renn_bj',\n",
       " 'gdp3_renn_bj_0',\n",
       " 'gdp3_renn_hb',\n",
       " 'gdp3_renn_hb_0',\n",
       " 'gdp3_renn_tj',\n",
       " 'gdp3_renn_tj_0',\n",
       " 'gdp3_renr_bj',\n",
       " 'gdp3_renr_bj_0',\n",
       " 'gdp3_renr_tj',\n",
       " 'gdp3_renr_tj_0',\n",
       " 'gdp3_sicn_bj',\n",
       " 'gdp3_sicn_bj_0',\n",
       " 'gdp3_sicn_hb',\n",
       " 'gdp3_sicn_hb_0',\n",
       " 'gdp3_sicn_tj',\n",
       " 'gdp3_sicn_tj_0',\n",
       " 'gdp3_sicr_bj',\n",
       " 'gdp3_sicr_bj_0',\n",
       " 'gdp3_sicr_tj',\n",
       " 'gdp3_sicr_tj_0',\n",
       " 'gdp3_tspan_bj',\n",
       " 'gdp3_tspan_bj_0',\n",
       " 'gdp3_tspan_hb',\n",
       " 'gdp3_tspan_hb_0',\n",
       " 'gdp3_tspan_tj',\n",
       " 'gdp3_tspan_tj_0',\n",
       " 'gdp3_tspar_bj',\n",
       " 'gdp3_tspar_bj_0',\n",
       " 'gdp3_tspar_tj',\n",
       " 'gdp3_tspar_tj_0',\n",
       " 'gdp3_wran_bj',\n",
       " 'gdp3_wran_bj_0',\n",
       " 'gdp3_wran_hb',\n",
       " 'gdp3_wran_hb_0',\n",
       " 'gdp3_wran_tj',\n",
       " 'gdp3_wran_tj_0',\n",
       " 'gdp3_wrar_bj',\n",
       " 'gdp3_wrar_bj_0',\n",
       " 'gdp3_wrar_tj',\n",
       " 'gdp3_wrar_tj_0',\n",
       " 'gdp3d_bj',\n",
       " 'gdp3d_bj_0',\n",
       " 'gdp3d_hb',\n",
       " 'gdp3d_hb_0',\n",
       " 'gdp3d_tj',\n",
       " 'gdp3d_tj_0',\n",
       " 'gdp3n_bj',\n",
       " 'gdp3n_bj_0',\n",
       " 'gdp3n_hb',\n",
       " 'gdp3n_hb_0',\n",
       " 'gdp3n_tj',\n",
       " 'gdp3n_tj_0',\n",
       " 'gdp3r_bj',\n",
       " 'gdp3r_bj_0',\n",
       " 'gdp3r_hb',\n",
       " 'gdp3r_hb_0',\n",
       " 'gdp3r_tj',\n",
       " 'gdp3r_tj_0',\n",
       " 'gdp_infn_bj',\n",
       " 'gdp_infn_bj_0',\n",
       " 'gdp_momn_bj',\n",
       " 'gdp_momn_bj_0',\n",
       " 'gdp_mosn_bj',\n",
       " 'gdp_mosn_bj_0',\n",
       " 'gdp_tecn_bj',\n",
       " 'gdp_tecn_bj_0',\n",
       " 'gdp_tran_bj',\n",
       " 'gdp_tran_bj_0',\n",
       " 'gdpd_bj',\n",
       " 'gdpd_bj_0',\n",
       " 'gdpd_hb',\n",
       " 'gdpd_hb_0',\n",
       " 'gdpd_tj',\n",
       " 'gdpd_tj_0',\n",
       " 'gdpen_bj',\n",
       " 'gdpen_bj_0',\n",
       " 'gdpen_hb',\n",
       " 'gdpen_hb_0',\n",
       " 'gdpen_tj',\n",
       " 'gdpen_tj_0',\n",
       " 'gdper_bj',\n",
       " 'gdper_bj_0',\n",
       " 'gdper_hb',\n",
       " 'gdper_hb_0',\n",
       " 'gdper_tj',\n",
       " 'gdper_tj_0',\n",
       " 'gdpn_bj',\n",
       " 'gdpn_bj_0',\n",
       " 'gdpn_hb',\n",
       " 'gdpn_hb_0',\n",
       " 'gdpn_tj',\n",
       " 'gdpn_tj_0',\n",
       " 'gdpr_bj',\n",
       " 'gdpr_bj_0',\n",
       " 'gdpr_hb',\n",
       " 'gdpr_hb_0',\n",
       " 'gdpr_tj',\n",
       " 'gdpr_tj_0',\n",
       " 'imusd_bj',\n",
       " 'imusd_bj_0',\n",
       " 'imusd_hb',\n",
       " 'imusd_hb_0',\n",
       " 'imusd_tj',\n",
       " 'imusd_tj_0',\n",
       " 'inv_chn_bj',\n",
       " 'inv_chn_bj_0',\n",
       " 'inv_chn_tj',\n",
       " 'inv_chn_tj_0',\n",
       " 'inv_fin_bj',\n",
       " 'inv_fin_bj_0',\n",
       " 'inv_fin_tj',\n",
       " 'inv_fin_tj_0',\n",
       " 'inv_fir_bj',\n",
       " 'inv_fir_bj_0',\n",
       " 'inv_fir_tj',\n",
       " 'inv_fir_tj_0',\n",
       " 'inv_fon_bj',\n",
       " 'inv_fon_bj_0',\n",
       " 'inv_fon_tj',\n",
       " 'inv_fon_tj_0',\n",
       " 'inv_for_bj',\n",
       " 'inv_for_bj_0',\n",
       " 'inv_for_tj',\n",
       " 'inv_for_tj_0',\n",
       " 'investn_bj',\n",
       " 'investn_bj_0',\n",
       " 'investn_hb',\n",
       " 'investn_hb_0',\n",
       " 'investn_tj',\n",
       " 'investn_tj_0',\n",
       " 'investr_bj',\n",
       " 'investr_bj_0',\n",
       " 'investr_hb',\n",
       " 'investr_hb_0',\n",
       " 'investr_tj',\n",
       " 'investr_tj_0',\n",
       " 'loan_ln_bj',\n",
       " 'loan_ln_bj_0',\n",
       " 'loan_ln_hb',\n",
       " 'loan_ln_hb_0',\n",
       " 'loan_ln_tj',\n",
       " 'loan_ln_tj_0',\n",
       " 'loann_bj',\n",
       " 'loann_bj_0',\n",
       " 'loann_hb',\n",
       " 'loann_hb_0',\n",
       " 'loann_tj',\n",
       " 'loann_tj_0',\n",
       " 'nex_gsn_bj',\n",
       " 'nex_gsn_bj_0',\n",
       " 'nex_gsn_tj',\n",
       " 'nex_gsn_tj_0',\n",
       " 'nex_gsr_bj',\n",
       " 'nex_gsr_bj_0',\n",
       " 'nex_gsr_tj',\n",
       " 'nex_gsr_tj_0',\n",
       " 'popr_bj',\n",
       " 'popr_bj_0',\n",
       " 'popr_hb',\n",
       " 'popr_hb_0',\n",
       " 'popr_tj',\n",
       " 'popr_tj_0',\n",
       " 'popu_bj',\n",
       " 'popu_bj_0',\n",
       " 'popu_hb',\n",
       " 'popu_hb_0',\n",
       " 'popu_tj',\n",
       " 'popu_tj_0',\n",
       " 'ppi_bj',\n",
       " 'ppi_bj_0',\n",
       " 'ppi_hb',\n",
       " 'ppi_hb_0',\n",
       " 'ppi_tj',\n",
       " 'ppi_tj_0',\n",
       " 'rpi_bj',\n",
       " 'rpi_bj_0',\n",
       " 'rpi_hb',\n",
       " 'rpi_hb_0',\n",
       " 'rpi_tj',\n",
       " 'rpi_tj_0',\n",
       " 'tax_cinn_bj',\n",
       " 'tax_cinn_bj_0',\n",
       " 'tax_cinn_hb',\n",
       " 'tax_cinn_hb_0',\n",
       " 'tax_cinn_tj',\n",
       " 'tax_cinn_tj_0',\n",
       " 'tax_pinn_bj',\n",
       " 'tax_pinn_bj_0',\n",
       " 'tax_pinn_hb',\n",
       " 'tax_pinn_hb_0',\n",
       " 'tax_pinn_tj',\n",
       " 'tax_pinn_tj_0',\n",
       " 'tax_vadn_bj',\n",
       " 'tax_vadn_bj_0',\n",
       " 'tax_vadn_hb',\n",
       " 'tax_vadn_hb_0',\n",
       " 'tax_vadn_tj',\n",
       " 'tax_vadn_tj_0',\n",
       " 'taxn_bj',\n",
       " 'taxn_bj_0',\n",
       " 'taxn_bj1',\n",
       " 'taxn_bj1_0',\n",
       " 'taxn_bj2',\n",
       " 'taxn_bj2_0',\n",
       " 'taxn_hb',\n",
       " 'taxn_hb_0',\n",
       " 'taxn_hb1',\n",
       " 'taxn_hb1_0',\n",
       " 'taxn_hb2',\n",
       " 'taxn_hb2_0',\n",
       " 'taxn_tj',\n",
       " 'taxn_tj_0',\n",
       " 'taxn_tj1',\n",
       " 'taxn_tj1_0',\n",
       " 'taxn_tj2',\n",
       " 'taxn_tj2_0',\n",
       " 'totemp_bj',\n",
       " 'totemp_bj_0',\n",
       " 'totemp_hb',\n",
       " 'totemp_hb_0',\n",
       " 'totemp_tj',\n",
       " 'totemp_tj_0',\n",
       " 'totpop_bj',\n",
       " 'totpop_bj_0',\n",
       " 'totpop_hb',\n",
       " 'totpop_hb_0',\n",
       " 'totpop_tj',\n",
       " 'totpop_tj_0',\n",
       " 'tta_bj',\n",
       " 'tta_bj_0',\n",
       " 'tta_f_bj',\n",
       " 'tta_f_bj_0',\n",
       " 'tta_hb',\n",
       " 'tta_hb_0',\n",
       " 'tta_tj',\n",
       " 'tta_tj_0',\n",
       " 'yh_rn_bj',\n",
       " 'yh_rn_bj_0',\n",
       " 'yh_rn_hb',\n",
       " 'yh_rn_hb_0',\n",
       " 'yh_rn_tj',\n",
       " 'yh_rn_tj_0',\n",
       " 'yh_un_bj',\n",
       " 'yh_un_bj_0',\n",
       " 'yh_un_hb',\n",
       " 'yh_un_hb_0',\n",
       " 'yh_un_tj',\n",
       " 'yh_un_tj_0',\n",
       " 'yhn_bj',\n",
       " 'yhn_bj_0',\n",
       " 'yhn_hb',\n",
       " 'yhn_hb_0',\n",
       " 'yhn_tj',\n",
       " 'yhn_tj_0',\n",
       " 'yht_n_bj',\n",
       " 'yht_n_bj_0',\n",
       " 'yht_n_hb',\n",
       " 'yht_n_hb_0',\n",
       " 'yht_n_tj',\n",
       " 'yht_n_tj_0',\n",
       " 'yht_rn_bj',\n",
       " 'yht_rn_bj_0',\n",
       " 'yht_rn_hb',\n",
       " 'yht_rn_hb_0',\n",
       " 'yht_rn_tj',\n",
       " 'yht_rn_tj_0',\n",
       " 'yht_un_bj',\n",
       " 'yht_un_bj_0',\n",
       " 'yht_un_hb',\n",
       " 'yht_un_hb_0',\n",
       " 'yht_un_tj',\n",
       " 'yht_un_tj_0']"
      ]
     },
     "execution_count": 6,
     "metadata": {},
     "output_type": "execute_result"
    }
   ],
   "source": [
    "df_es = df_e1.merge(df_e2,how = \"left\" ,left_index =True ,right_index =True)\n",
    "df_es = df_es.merge(df_e3,how = \"left\" ,left_index =True ,right_index =True)\n",
    "df_es.columns = df_es.columns.str.lower()\n",
    "list(df_es.columns )"
   ]
  },
  {
   "cell_type": "markdown",
   "metadata": {},
   "source": [
    "## Eviews数据源\n",
    "一定要右键黏贴"
   ]
  },
  {
   "cell_type": "code",
   "execution_count": 25,
   "metadata": {
    "ExecuteTime": {
     "end_time": "2020-07-09T06:47:59.649691Z",
     "start_time": "2020-07-09T06:47:59.614408Z"
    }
   },
   "outputs": [
    {
     "data": {
      "text/html": [
       "<div>\n",
       "<style scoped>\n",
       "    .dataframe tbody tr th:only-of-type {\n",
       "        vertical-align: middle;\n",
       "    }\n",
       "\n",
       "    .dataframe tbody tr th {\n",
       "        vertical-align: top;\n",
       "    }\n",
       "\n",
       "    .dataframe thead th {\n",
       "        text-align: right;\n",
       "    }\n",
       "</style>\n",
       "<table border=\"1\" class=\"dataframe\">\n",
       "  <thead>\n",
       "    <tr style=\"text-align: right;\">\n",
       "      <th></th>\n",
       "      <th>d_gdp1r_bj</th>\n",
       "      <th>cul_area_bj</th>\n",
       "      <th>d_gdp2r_bj_1</th>\n",
       "      <th>exrate_cn</th>\n",
       "      <th>d_gdp2_indar_bj</th>\n",
       "      <th>pcon_gd_bj</th>\n",
       "      <th>pcon_pud_bj</th>\n",
       "      <th>pcon_prd_bj</th>\n",
       "      <th>pinv_fon_bj</th>\n",
       "      <th>inv_chr_bj</th>\n",
       "      <th>pinv_chd_bj</th>\n",
       "      <th>consn_bj</th>\n",
       "      <th>inv_fir_bj</th>\n",
       "      <th>pinv_fid_bj</th>\n",
       "      <th>con_fn_bj</th>\n",
       "      <th>con_fr_bj</th>\n",
       "      <th>nex_gsr_bj</th>\n",
       "      <th>pnex_gsd_bj</th>\n",
       "    </tr>\n",
       "  </thead>\n",
       "  <tbody>\n",
       "    <tr>\n",
       "      <th>1996</th>\n",
       "      <td>0.0</td>\n",
       "      <td>34.400000</td>\n",
       "      <td>0.0</td>\n",
       "      <td>831.42</td>\n",
       "      <td>0.0</td>\n",
       "      <td>NaN</td>\n",
       "      <td>NaN</td>\n",
       "      <td>NaN</td>\n",
       "      <td>NaN</td>\n",
       "      <td>NaN</td>\n",
       "      <td>NaN</td>\n",
       "      <td>1061.6000</td>\n",
       "      <td>NaN</td>\n",
       "      <td>NaN</td>\n",
       "      <td>1010.0</td>\n",
       "      <td>NaN</td>\n",
       "      <td>NaN</td>\n",
       "      <td>NaN</td>\n",
       "    </tr>\n",
       "    <tr>\n",
       "      <th>1997</th>\n",
       "      <td>0.0</td>\n",
       "      <td>34.200000</td>\n",
       "      <td>0.0</td>\n",
       "      <td>828.98</td>\n",
       "      <td>0.0</td>\n",
       "      <td>NaN</td>\n",
       "      <td>NaN</td>\n",
       "      <td>NaN</td>\n",
       "      <td>NaN</td>\n",
       "      <td>NaN</td>\n",
       "      <td>NaN</td>\n",
       "      <td>1208.5000</td>\n",
       "      <td>NaN</td>\n",
       "      <td>NaN</td>\n",
       "      <td>1199.1</td>\n",
       "      <td>NaN</td>\n",
       "      <td>NaN</td>\n",
       "      <td>NaN</td>\n",
       "    </tr>\n",
       "    <tr>\n",
       "      <th>1998</th>\n",
       "      <td>0.0</td>\n",
       "      <td>34.100000</td>\n",
       "      <td>0.0</td>\n",
       "      <td>827.91</td>\n",
       "      <td>0.0</td>\n",
       "      <td>NaN</td>\n",
       "      <td>NaN</td>\n",
       "      <td>NaN</td>\n",
       "      <td>NaN</td>\n",
       "      <td>NaN</td>\n",
       "      <td>NaN</td>\n",
       "      <td>1373.6000</td>\n",
       "      <td>NaN</td>\n",
       "      <td>NaN</td>\n",
       "      <td>1307.1</td>\n",
       "      <td>NaN</td>\n",
       "      <td>NaN</td>\n",
       "      <td>NaN</td>\n",
       "    </tr>\n",
       "    <tr>\n",
       "      <th>1999</th>\n",
       "      <td>0.0</td>\n",
       "      <td>33.800000</td>\n",
       "      <td>0.0</td>\n",
       "      <td>827.83</td>\n",
       "      <td>0.0</td>\n",
       "      <td>NaN</td>\n",
       "      <td>NaN</td>\n",
       "      <td>NaN</td>\n",
       "      <td>NaN</td>\n",
       "      <td>NaN</td>\n",
       "      <td>NaN</td>\n",
       "      <td>1509.3000</td>\n",
       "      <td>NaN</td>\n",
       "      <td>NaN</td>\n",
       "      <td>1482.1</td>\n",
       "      <td>NaN</td>\n",
       "      <td>NaN</td>\n",
       "      <td>NaN</td>\n",
       "    </tr>\n",
       "    <tr>\n",
       "      <th>2000</th>\n",
       "      <td>0.0</td>\n",
       "      <td>32.900000</td>\n",
       "      <td>0.0</td>\n",
       "      <td>827.84</td>\n",
       "      <td>0.0</td>\n",
       "      <td>NaN</td>\n",
       "      <td>NaN</td>\n",
       "      <td>NaN</td>\n",
       "      <td>NaN</td>\n",
       "      <td>NaN</td>\n",
       "      <td>NaN</td>\n",
       "      <td>1658.7000</td>\n",
       "      <td>NaN</td>\n",
       "      <td>NaN</td>\n",
       "      <td>1636.0</td>\n",
       "      <td>NaN</td>\n",
       "      <td>NaN</td>\n",
       "      <td>NaN</td>\n",
       "    </tr>\n",
       "    <tr>\n",
       "      <th>2001</th>\n",
       "      <td>0.2</td>\n",
       "      <td>29.200000</td>\n",
       "      <td>0.0</td>\n",
       "      <td>827.70</td>\n",
       "      <td>0.0</td>\n",
       "      <td>NaN</td>\n",
       "      <td>NaN</td>\n",
       "      <td>NaN</td>\n",
       "      <td>NaN</td>\n",
       "      <td>NaN</td>\n",
       "      <td>NaN</td>\n",
       "      <td>1831.4000</td>\n",
       "      <td>NaN</td>\n",
       "      <td>NaN</td>\n",
       "      <td>1859.1</td>\n",
       "      <td>NaN</td>\n",
       "      <td>NaN</td>\n",
       "      <td>NaN</td>\n",
       "    </tr>\n",
       "    <tr>\n",
       "      <th>2002</th>\n",
       "      <td>0.1</td>\n",
       "      <td>27.500000</td>\n",
       "      <td>0.0</td>\n",
       "      <td>827.70</td>\n",
       "      <td>0.0</td>\n",
       "      <td>NaN</td>\n",
       "      <td>NaN</td>\n",
       "      <td>NaN</td>\n",
       "      <td>NaN</td>\n",
       "      <td>NaN</td>\n",
       "      <td>NaN</td>\n",
       "      <td>2005.2000</td>\n",
       "      <td>NaN</td>\n",
       "      <td>NaN</td>\n",
       "      <td>2232.0</td>\n",
       "      <td>NaN</td>\n",
       "      <td>NaN</td>\n",
       "      <td>NaN</td>\n",
       "    </tr>\n",
       "    <tr>\n",
       "      <th>2003</th>\n",
       "      <td>-0.3</td>\n",
       "      <td>26.000000</td>\n",
       "      <td>0.0</td>\n",
       "      <td>827.70</td>\n",
       "      <td>0.0</td>\n",
       "      <td>NaN</td>\n",
       "      <td>NaN</td>\n",
       "      <td>NaN</td>\n",
       "      <td>NaN</td>\n",
       "      <td>NaN</td>\n",
       "      <td>NaN</td>\n",
       "      <td>2296.9000</td>\n",
       "      <td>NaN</td>\n",
       "      <td>NaN</td>\n",
       "      <td>2558.0</td>\n",
       "      <td>NaN</td>\n",
       "      <td>NaN</td>\n",
       "      <td>NaN</td>\n",
       "    </tr>\n",
       "    <tr>\n",
       "      <th>2004</th>\n",
       "      <td>0.0</td>\n",
       "      <td>23.600000</td>\n",
       "      <td>0.0</td>\n",
       "      <td>827.68</td>\n",
       "      <td>0.0</td>\n",
       "      <td>NaN</td>\n",
       "      <td>NaN</td>\n",
       "      <td>NaN</td>\n",
       "      <td>NaN</td>\n",
       "      <td>NaN</td>\n",
       "      <td>NaN</td>\n",
       "      <td>2626.6000</td>\n",
       "      <td>NaN</td>\n",
       "      <td>NaN</td>\n",
       "      <td>3002.7</td>\n",
       "      <td>NaN</td>\n",
       "      <td>NaN</td>\n",
       "      <td>NaN</td>\n",
       "    </tr>\n",
       "    <tr>\n",
       "      <th>2005</th>\n",
       "      <td>-0.5</td>\n",
       "      <td>23.300000</td>\n",
       "      <td>-0.5</td>\n",
       "      <td>819.17</td>\n",
       "      <td>0.0</td>\n",
       "      <td>NaN</td>\n",
       "      <td>NaN</td>\n",
       "      <td>NaN</td>\n",
       "      <td>NaN</td>\n",
       "      <td>NaN</td>\n",
       "      <td>NaN</td>\n",
       "      <td>2911.7000</td>\n",
       "      <td>NaN</td>\n",
       "      <td>NaN</td>\n",
       "      <td>3401.8</td>\n",
       "      <td>NaN</td>\n",
       "      <td>NaN</td>\n",
       "      <td>NaN</td>\n",
       "    </tr>\n",
       "    <tr>\n",
       "      <th>2006</th>\n",
       "      <td>0.0</td>\n",
       "      <td>23.300000</td>\n",
       "      <td>-0.2</td>\n",
       "      <td>797.18</td>\n",
       "      <td>0.0</td>\n",
       "      <td>73.967037</td>\n",
       "      <td>72.975723</td>\n",
       "      <td>87.181188</td>\n",
       "      <td>69.244994</td>\n",
       "      <td>736.090269</td>\n",
       "      <td>52.384879</td>\n",
       "      <td>3295.3000</td>\n",
       "      <td>5367.600097</td>\n",
       "      <td>71.557119</td>\n",
       "      <td>4043.6</td>\n",
       "      <td>5259.641815</td>\n",
       "      <td>-528.530591</td>\n",
       "      <td>-8.041162</td>\n",
       "    </tr>\n",
       "    <tr>\n",
       "      <th>2007</th>\n",
       "      <td>0.0</td>\n",
       "      <td>23.200000</td>\n",
       "      <td>0.0</td>\n",
       "      <td>760.40</td>\n",
       "      <td>0.0</td>\n",
       "      <td>80.079437</td>\n",
       "      <td>79.804149</td>\n",
       "      <td>83.655900</td>\n",
       "      <td>71.500929</td>\n",
       "      <td>819.483437</td>\n",
       "      <td>54.509949</td>\n",
       "      <td>3835.2000</td>\n",
       "      <td>5931.198107</td>\n",
       "      <td>73.850172</td>\n",
       "      <td>4976.2</td>\n",
       "      <td>6022.289879</td>\n",
       "      <td>-377.806493</td>\n",
       "      <td>-71.174002</td>\n",
       "    </tr>\n",
       "    <tr>\n",
       "      <th>2008</th>\n",
       "      <td>0.0</td>\n",
       "      <td>23.200000</td>\n",
       "      <td>-2.0</td>\n",
       "      <td>694.51</td>\n",
       "      <td>0.0</td>\n",
       "      <td>82.845661</td>\n",
       "      <td>82.325046</td>\n",
       "      <td>89.695232</td>\n",
       "      <td>85.218009</td>\n",
       "      <td>880.898146</td>\n",
       "      <td>83.255936</td>\n",
       "      <td>4645.5000</td>\n",
       "      <td>5154.211155</td>\n",
       "      <td>85.553344</td>\n",
       "      <td>5883.3</td>\n",
       "      <td>7154.480376</td>\n",
       "      <td>321.336534</td>\n",
       "      <td>113.805920</td>\n",
       "    </tr>\n",
       "    <tr>\n",
       "      <th>2009</th>\n",
       "      <td>1.0</td>\n",
       "      <td>22.700000</td>\n",
       "      <td>0.0</td>\n",
       "      <td>683.10</td>\n",
       "      <td>-1.2</td>\n",
       "      <td>84.850984</td>\n",
       "      <td>84.105266</td>\n",
       "      <td>94.787089</td>\n",
       "      <td>80.129936</td>\n",
       "      <td>954.181215</td>\n",
       "      <td>64.442686</td>\n",
       "      <td>5387.4596</td>\n",
       "      <td>5865.492294</td>\n",
       "      <td>82.680187</td>\n",
       "      <td>6781.8</td>\n",
       "      <td>8091.717305</td>\n",
       "      <td>-49.633899</td>\n",
       "      <td>-347.947678</td>\n",
       "    </tr>\n",
       "    <tr>\n",
       "      <th>2010</th>\n",
       "      <td>-0.5</td>\n",
       "      <td>22.400000</td>\n",
       "      <td>1.0</td>\n",
       "      <td>676.95</td>\n",
       "      <td>0.0</td>\n",
       "      <td>85.287752</td>\n",
       "      <td>84.272154</td>\n",
       "      <td>99.510403</td>\n",
       "      <td>89.642791</td>\n",
       "      <td>800.807332</td>\n",
       "      <td>89.572107</td>\n",
       "      <td>6340.3000</td>\n",
       "      <td>6557.620385</td>\n",
       "      <td>89.651423</td>\n",
       "      <td>7824.3</td>\n",
       "      <td>9151.732272</td>\n",
       "      <td>-102.445102</td>\n",
       "      <td>-20.596397</td>\n",
       "    </tr>\n",
       "    <tr>\n",
       "      <th>2011</th>\n",
       "      <td>0.0</td>\n",
       "      <td>22.200000</td>\n",
       "      <td>0.0</td>\n",
       "      <td>645.88</td>\n",
       "      <td>0.0</td>\n",
       "      <td>90.025073</td>\n",
       "      <td>88.890062</td>\n",
       "      <td>108.977756</td>\n",
       "      <td>96.994969</td>\n",
       "      <td>741.335263</td>\n",
       "      <td>98.443988</td>\n",
       "      <td>7222.2000</td>\n",
       "      <td>6793.694719</td>\n",
       "      <td>96.838322</td>\n",
       "      <td>9239.2</td>\n",
       "      <td>10240.788410</td>\n",
       "      <td>-39.535645</td>\n",
       "      <td>-202.601981</td>\n",
       "    </tr>\n",
       "    <tr>\n",
       "      <th>2012</th>\n",
       "      <td>0.5</td>\n",
       "      <td>22.100000</td>\n",
       "      <td>0.0</td>\n",
       "      <td>631.25</td>\n",
       "      <td>0.0</td>\n",
       "      <td>92.314734</td>\n",
       "      <td>91.326466</td>\n",
       "      <td>108.817056</td>\n",
       "      <td>99.630688</td>\n",
       "      <td>347.688544</td>\n",
       "      <td>108.372855</td>\n",
       "      <td>8123.5000</td>\n",
       "      <td>7812.748927</td>\n",
       "      <td>99.241638</td>\n",
       "      <td>10405.0</td>\n",
       "      <td>11223.904100</td>\n",
       "      <td>-229.130010</td>\n",
       "      <td>80.871118</td>\n",
       "    </tr>\n",
       "    <tr>\n",
       "      <th>2013</th>\n",
       "      <td>0.4</td>\n",
       "      <td>22.100000</td>\n",
       "      <td>0.0</td>\n",
       "      <td>619.32</td>\n",
       "      <td>0.0</td>\n",
       "      <td>96.717657</td>\n",
       "      <td>95.553350</td>\n",
       "      <td>113.664710</td>\n",
       "      <td>100.662324</td>\n",
       "      <td>247.022759</td>\n",
       "      <td>112.216381</td>\n",
       "      <td>8872.1000</td>\n",
       "      <td>8484.645334</td>\n",
       "      <td>100.325938</td>\n",
       "      <td>11877.5</td>\n",
       "      <td>12200.383760</td>\n",
       "      <td>-301.599582</td>\n",
       "      <td>111.737555</td>\n",
       "    </tr>\n",
       "    <tr>\n",
       "      <th>2014</th>\n",
       "      <td>0.0</td>\n",
       "      <td>22.000000</td>\n",
       "      <td>0.0</td>\n",
       "      <td>614.28</td>\n",
       "      <td>0.0</td>\n",
       "      <td>98.533275</td>\n",
       "      <td>97.403077</td>\n",
       "      <td>114.293271</td>\n",
       "      <td>100.933441</td>\n",
       "      <td>341.750123</td>\n",
       "      <td>103.057754</td>\n",
       "      <td>9638.0000</td>\n",
       "      <td>8739.184694</td>\n",
       "      <td>100.850369</td>\n",
       "      <td>13086.2</td>\n",
       "      <td>13261.817140</td>\n",
       "      <td>-185.985406</td>\n",
       "      <td>165.496857</td>\n",
       "    </tr>\n",
       "    <tr>\n",
       "      <th>2015</th>\n",
       "      <td>-3.0</td>\n",
       "      <td>21.932649</td>\n",
       "      <td>-1.0</td>\n",
       "      <td>622.84</td>\n",
       "      <td>0.0</td>\n",
       "      <td>100.000000</td>\n",
       "      <td>100.000000</td>\n",
       "      <td>100.000000</td>\n",
       "      <td>100.000000</td>\n",
       "      <td>334.600000</td>\n",
       "      <td>100.000000</td>\n",
       "      <td>10338.0000</td>\n",
       "      <td>9074.600000</td>\n",
       "      <td>100.000000</td>\n",
       "      <td>14255.5</td>\n",
       "      <td>14255.500000</td>\n",
       "      <td>21.000000</td>\n",
       "      <td>100.000000</td>\n",
       "    </tr>\n",
       "    <tr>\n",
       "      <th>2016</th>\n",
       "      <td>-2.0</td>\n",
       "      <td>21.600000</td>\n",
       "      <td>0.2</td>\n",
       "      <td>664.23</td>\n",
       "      <td>0.0</td>\n",
       "      <td>100.805927</td>\n",
       "      <td>100.808231</td>\n",
       "      <td>100.773893</td>\n",
       "      <td>101.581108</td>\n",
       "      <td>361.743000</td>\n",
       "      <td>98.965288</td>\n",
       "      <td>11005.1000</td>\n",
       "      <td>9555.553800</td>\n",
       "      <td>101.680135</td>\n",
       "      <td>15406.5</td>\n",
       "      <td>15253.385000</td>\n",
       "      <td>125.800330</td>\n",
       "      <td>149.840624</td>\n",
       "    </tr>\n",
       "    <tr>\n",
       "      <th>2017</th>\n",
       "      <td>-1.5</td>\n",
       "      <td>21.400000</td>\n",
       "      <td>0.0</td>\n",
       "      <td>675.18</td>\n",
       "      <td>0.0</td>\n",
       "      <td>103.179584</td>\n",
       "      <td>103.211991</td>\n",
       "      <td>102.728886</td>\n",
       "      <td>104.324994</td>\n",
       "      <td>583.390724</td>\n",
       "      <td>97.876085</td>\n",
       "      <td>11575.4000</td>\n",
       "      <td>9909.109291</td>\n",
       "      <td>104.704668</td>\n",
       "      <td>16842.1</td>\n",
       "      <td>16366.882110</td>\n",
       "      <td>131.695195</td>\n",
       "      <td>171.988051</td>\n",
       "    </tr>\n",
       "    <tr>\n",
       "      <th>2018</th>\n",
       "      <td>0.0</td>\n",
       "      <td>NaN</td>\n",
       "      <td>-0.8</td>\n",
       "      <td>661.74</td>\n",
       "      <td>1.0</td>\n",
       "      <td>105.582669</td>\n",
       "      <td>105.667540</td>\n",
       "      <td>104.418758</td>\n",
       "      <td>105.453755</td>\n",
       "      <td>545.512992</td>\n",
       "      <td>88.885142</td>\n",
       "      <td>11747.6796</td>\n",
       "      <td>10156.837020</td>\n",
       "      <td>106.343638</td>\n",
       "      <td>18508.9</td>\n",
       "      <td>17627.132030</td>\n",
       "      <td>443.277458</td>\n",
       "      <td>118.458539</td>\n",
       "    </tr>\n",
       "    <tr>\n",
       "      <th>2019</th>\n",
       "      <td>0.0</td>\n",
       "      <td>NaN</td>\n",
       "      <td>0.0</td>\n",
       "      <td>689.85</td>\n",
       "      <td>0.0</td>\n",
       "      <td>NaN</td>\n",
       "      <td>NaN</td>\n",
       "      <td>NaN</td>\n",
       "      <td>NaN</td>\n",
       "      <td>NaN</td>\n",
       "      <td>NaN</td>\n",
       "      <td>12270.1000</td>\n",
       "      <td>NaN</td>\n",
       "      <td>NaN</td>\n",
       "      <td>NaN</td>\n",
       "      <td>NaN</td>\n",
       "      <td>NaN</td>\n",
       "      <td>81.589537</td>\n",
       "    </tr>\n",
       "    <tr>\n",
       "      <th>2020</th>\n",
       "      <td>0.0</td>\n",
       "      <td>NaN</td>\n",
       "      <td>0.0</td>\n",
       "      <td>NaN</td>\n",
       "      <td>0.0</td>\n",
       "      <td>NaN</td>\n",
       "      <td>NaN</td>\n",
       "      <td>NaN</td>\n",
       "      <td>NaN</td>\n",
       "      <td>NaN</td>\n",
       "      <td>NaN</td>\n",
       "      <td>NaN</td>\n",
       "      <td>NaN</td>\n",
       "      <td>NaN</td>\n",
       "      <td>NaN</td>\n",
       "      <td>NaN</td>\n",
       "      <td>NaN</td>\n",
       "      <td>NaN</td>\n",
       "    </tr>\n",
       "  </tbody>\n",
       "</table>\n",
       "</div>"
      ],
      "text/plain": [
       "      d_gdp1r_bj  cul_area_bj  d_gdp2r_bj_1  exrate_cn  d_gdp2_indar_bj  \\\n",
       "1996         0.0    34.400000           0.0     831.42              0.0   \n",
       "1997         0.0    34.200000           0.0     828.98              0.0   \n",
       "1998         0.0    34.100000           0.0     827.91              0.0   \n",
       "1999         0.0    33.800000           0.0     827.83              0.0   \n",
       "2000         0.0    32.900000           0.0     827.84              0.0   \n",
       "2001         0.2    29.200000           0.0     827.70              0.0   \n",
       "2002         0.1    27.500000           0.0     827.70              0.0   \n",
       "2003        -0.3    26.000000           0.0     827.70              0.0   \n",
       "2004         0.0    23.600000           0.0     827.68              0.0   \n",
       "2005        -0.5    23.300000          -0.5     819.17              0.0   \n",
       "2006         0.0    23.300000          -0.2     797.18              0.0   \n",
       "2007         0.0    23.200000           0.0     760.40              0.0   \n",
       "2008         0.0    23.200000          -2.0     694.51              0.0   \n",
       "2009         1.0    22.700000           0.0     683.10             -1.2   \n",
       "2010        -0.5    22.400000           1.0     676.95              0.0   \n",
       "2011         0.0    22.200000           0.0     645.88              0.0   \n",
       "2012         0.5    22.100000           0.0     631.25              0.0   \n",
       "2013         0.4    22.100000           0.0     619.32              0.0   \n",
       "2014         0.0    22.000000           0.0     614.28              0.0   \n",
       "2015        -3.0    21.932649          -1.0     622.84              0.0   \n",
       "2016        -2.0    21.600000           0.2     664.23              0.0   \n",
       "2017        -1.5    21.400000           0.0     675.18              0.0   \n",
       "2018         0.0          NaN          -0.8     661.74              1.0   \n",
       "2019         0.0          NaN           0.0     689.85              0.0   \n",
       "2020         0.0          NaN           0.0        NaN              0.0   \n",
       "\n",
       "      pcon_gd_bj  pcon_pud_bj  pcon_prd_bj  pinv_fon_bj  inv_chr_bj  \\\n",
       "1996         NaN          NaN          NaN          NaN         NaN   \n",
       "1997         NaN          NaN          NaN          NaN         NaN   \n",
       "1998         NaN          NaN          NaN          NaN         NaN   \n",
       "1999         NaN          NaN          NaN          NaN         NaN   \n",
       "2000         NaN          NaN          NaN          NaN         NaN   \n",
       "2001         NaN          NaN          NaN          NaN         NaN   \n",
       "2002         NaN          NaN          NaN          NaN         NaN   \n",
       "2003         NaN          NaN          NaN          NaN         NaN   \n",
       "2004         NaN          NaN          NaN          NaN         NaN   \n",
       "2005         NaN          NaN          NaN          NaN         NaN   \n",
       "2006   73.967037    72.975723    87.181188    69.244994  736.090269   \n",
       "2007   80.079437    79.804149    83.655900    71.500929  819.483437   \n",
       "2008   82.845661    82.325046    89.695232    85.218009  880.898146   \n",
       "2009   84.850984    84.105266    94.787089    80.129936  954.181215   \n",
       "2010   85.287752    84.272154    99.510403    89.642791  800.807332   \n",
       "2011   90.025073    88.890062   108.977756    96.994969  741.335263   \n",
       "2012   92.314734    91.326466   108.817056    99.630688  347.688544   \n",
       "2013   96.717657    95.553350   113.664710   100.662324  247.022759   \n",
       "2014   98.533275    97.403077   114.293271   100.933441  341.750123   \n",
       "2015  100.000000   100.000000   100.000000   100.000000  334.600000   \n",
       "2016  100.805927   100.808231   100.773893   101.581108  361.743000   \n",
       "2017  103.179584   103.211991   102.728886   104.324994  583.390724   \n",
       "2018  105.582669   105.667540   104.418758   105.453755  545.512992   \n",
       "2019         NaN          NaN          NaN          NaN         NaN   \n",
       "2020         NaN          NaN          NaN          NaN         NaN   \n",
       "\n",
       "      pinv_chd_bj    consn_bj    inv_fir_bj  pinv_fid_bj  con_fn_bj  \\\n",
       "1996          NaN   1061.6000           NaN          NaN     1010.0   \n",
       "1997          NaN   1208.5000           NaN          NaN     1199.1   \n",
       "1998          NaN   1373.6000           NaN          NaN     1307.1   \n",
       "1999          NaN   1509.3000           NaN          NaN     1482.1   \n",
       "2000          NaN   1658.7000           NaN          NaN     1636.0   \n",
       "2001          NaN   1831.4000           NaN          NaN     1859.1   \n",
       "2002          NaN   2005.2000           NaN          NaN     2232.0   \n",
       "2003          NaN   2296.9000           NaN          NaN     2558.0   \n",
       "2004          NaN   2626.6000           NaN          NaN     3002.7   \n",
       "2005          NaN   2911.7000           NaN          NaN     3401.8   \n",
       "2006    52.384879   3295.3000   5367.600097    71.557119     4043.6   \n",
       "2007    54.509949   3835.2000   5931.198107    73.850172     4976.2   \n",
       "2008    83.255936   4645.5000   5154.211155    85.553344     5883.3   \n",
       "2009    64.442686   5387.4596   5865.492294    82.680187     6781.8   \n",
       "2010    89.572107   6340.3000   6557.620385    89.651423     7824.3   \n",
       "2011    98.443988   7222.2000   6793.694719    96.838322     9239.2   \n",
       "2012   108.372855   8123.5000   7812.748927    99.241638    10405.0   \n",
       "2013   112.216381   8872.1000   8484.645334   100.325938    11877.5   \n",
       "2014   103.057754   9638.0000   8739.184694   100.850369    13086.2   \n",
       "2015   100.000000  10338.0000   9074.600000   100.000000    14255.5   \n",
       "2016    98.965288  11005.1000   9555.553800   101.680135    15406.5   \n",
       "2017    97.876085  11575.4000   9909.109291   104.704668    16842.1   \n",
       "2018    88.885142  11747.6796  10156.837020   106.343638    18508.9   \n",
       "2019          NaN  12270.1000           NaN          NaN        NaN   \n",
       "2020          NaN         NaN           NaN          NaN        NaN   \n",
       "\n",
       "         con_fr_bj  nex_gsr_bj  pnex_gsd_bj  \n",
       "1996           NaN         NaN          NaN  \n",
       "1997           NaN         NaN          NaN  \n",
       "1998           NaN         NaN          NaN  \n",
       "1999           NaN         NaN          NaN  \n",
       "2000           NaN         NaN          NaN  \n",
       "2001           NaN         NaN          NaN  \n",
       "2002           NaN         NaN          NaN  \n",
       "2003           NaN         NaN          NaN  \n",
       "2004           NaN         NaN          NaN  \n",
       "2005           NaN         NaN          NaN  \n",
       "2006   5259.641815 -528.530591    -8.041162  \n",
       "2007   6022.289879 -377.806493   -71.174002  \n",
       "2008   7154.480376  321.336534   113.805920  \n",
       "2009   8091.717305  -49.633899  -347.947678  \n",
       "2010   9151.732272 -102.445102   -20.596397  \n",
       "2011  10240.788410  -39.535645  -202.601981  \n",
       "2012  11223.904100 -229.130010    80.871118  \n",
       "2013  12200.383760 -301.599582   111.737555  \n",
       "2014  13261.817140 -185.985406   165.496857  \n",
       "2015  14255.500000   21.000000   100.000000  \n",
       "2016  15253.385000  125.800330   149.840624  \n",
       "2017  16366.882110  131.695195   171.988051  \n",
       "2018  17627.132030  443.277458   118.458539  \n",
       "2019           NaN         NaN    81.589537  \n",
       "2020           NaN         NaN          NaN  "
      ]
     },
     "execution_count": 25,
     "metadata": {},
     "output_type": "execute_result"
    }
   ],
   "source": [
    "df_other = pd.read_csv(\"./data/其它数据.csv\",index_col=0)\n",
    "df_other"
   ]
  },
  {
   "cell_type": "markdown",
   "metadata": {},
   "source": [
    "## 衍生变量\n",
    "- 根据定义式衍生的变量"
   ]
  },
  {
   "cell_type": "code",
   "execution_count": 8,
   "metadata": {
    "ExecuteTime": {
     "end_time": "2020-07-09T06:11:50.586156Z",
     "start_time": "2020-07-09T06:11:50.556103Z"
    }
   },
   "outputs": [
    {
     "data": {
      "text/html": [
       "<div>\n",
       "<style scoped>\n",
       "    .dataframe tbody tr th:only-of-type {\n",
       "        vertical-align: middle;\n",
       "    }\n",
       "\n",
       "    .dataframe tbody tr th {\n",
       "        vertical-align: top;\n",
       "    }\n",
       "\n",
       "    .dataframe thead th {\n",
       "        text-align: right;\n",
       "    }\n",
       "</style>\n",
       "<table border=\"1\" class=\"dataframe\">\n",
       "  <thead>\n",
       "    <tr style=\"text-align: right;\">\n",
       "      <th></th>\n",
       "      <th>gdp2_indad_bj</th>\n",
       "      <th>gdp2_bindad_bj</th>\n",
       "      <th>gdp2r_erro_bj</th>\n",
       "      <th>gdplr_bj_s1</th>\n",
       "      <th>gdp2r_bj1_s1</th>\n",
       "    </tr>\n",
       "    <tr>\n",
       "      <th>obs</th>\n",
       "      <th></th>\n",
       "      <th></th>\n",
       "      <th></th>\n",
       "      <th></th>\n",
       "      <th></th>\n",
       "    </tr>\n",
       "  </thead>\n",
       "  <tbody>\n",
       "    <tr>\n",
       "      <th>1996</th>\n",
       "      <td>83.709520</td>\n",
       "      <td>74.150505</td>\n",
       "      <td>18.010553</td>\n",
       "      <td>NaN</td>\n",
       "      <td>NaN</td>\n",
       "    </tr>\n",
       "    <tr>\n",
       "      <th>1997</th>\n",
       "      <td>85.047474</td>\n",
       "      <td>74.365462</td>\n",
       "      <td>9.446457</td>\n",
       "      <td>124.041239</td>\n",
       "      <td>897.383655</td>\n",
       "    </tr>\n",
       "    <tr>\n",
       "      <th>1998</th>\n",
       "      <td>82.595662</td>\n",
       "      <td>75.936530</td>\n",
       "      <td>5.434022</td>\n",
       "      <td>126.272872</td>\n",
       "      <td>958.614649</td>\n",
       "    </tr>\n",
       "    <tr>\n",
       "      <th>1999</th>\n",
       "      <td>79.152690</td>\n",
       "      <td>75.781070</td>\n",
       "      <td>10.995119</td>\n",
       "      <td>127.361097</td>\n",
       "      <td>1049.066999</td>\n",
       "    </tr>\n",
       "    <tr>\n",
       "      <th>2000</th>\n",
       "      <td>81.639835</td>\n",
       "      <td>76.727743</td>\n",
       "      <td>11.335207</td>\n",
       "      <td>130.820954</td>\n",
       "      <td>1177.348150</td>\n",
       "    </tr>\n",
       "    <tr>\n",
       "      <th>2001</th>\n",
       "      <td>82.435618</td>\n",
       "      <td>77.414788</td>\n",
       "      <td>7.835879</td>\n",
       "      <td>134.439627</td>\n",
       "      <td>1305.811813</td>\n",
       "    </tr>\n",
       "    <tr>\n",
       "      <th>2002</th>\n",
       "      <td>83.107575</td>\n",
       "      <td>78.441288</td>\n",
       "      <td>4.143980</td>\n",
       "      <td>138.971821</td>\n",
       "      <td>1422.533804</td>\n",
       "    </tr>\n",
       "    <tr>\n",
       "      <th>2003</th>\n",
       "      <td>88.825732</td>\n",
       "      <td>81.372863</td>\n",
       "      <td>6.037147</td>\n",
       "      <td>142.686523</td>\n",
       "      <td>1541.245248</td>\n",
       "    </tr>\n",
       "    <tr>\n",
       "      <th>2004</th>\n",
       "      <td>94.522739</td>\n",
       "      <td>87.173392</td>\n",
       "      <td>11.836135</td>\n",
       "      <td>140.573841</td>\n",
       "      <td>1725.142316</td>\n",
       "    </tr>\n",
       "    <tr>\n",
       "      <th>2005</th>\n",
       "      <td>93.755118</td>\n",
       "      <td>87.722952</td>\n",
       "      <td>8.937330</td>\n",
       "      <td>140.391340</td>\n",
       "      <td>2023.418698</td>\n",
       "    </tr>\n",
       "    <tr>\n",
       "      <th>2006</th>\n",
       "      <td>91.583346</td>\n",
       "      <td>87.545172</td>\n",
       "      <td>1.957706</td>\n",
       "      <td>137.756210</td>\n",
       "      <td>2224.489155</td>\n",
       "    </tr>\n",
       "    <tr>\n",
       "      <th>2007</th>\n",
       "      <td>92.581717</td>\n",
       "      <td>91.132078</td>\n",
       "      <td>-1.596687</td>\n",
       "      <td>138.672350</td>\n",
       "      <td>2457.204907</td>\n",
       "    </tr>\n",
       "    <tr>\n",
       "      <th>2008</th>\n",
       "      <td>94.855037</td>\n",
       "      <td>101.970192</td>\n",
       "      <td>-35.979671</td>\n",
       "      <td>141.232242</td>\n",
       "      <td>2759.732683</td>\n",
       "    </tr>\n",
       "    <tr>\n",
       "      <th>2009</th>\n",
       "      <td>94.129953</td>\n",
       "      <td>96.139594</td>\n",
       "      <td>-58.065580</td>\n",
       "      <td>142.724052</td>\n",
       "      <td>2747.479385</td>\n",
       "    </tr>\n",
       "    <tr>\n",
       "      <th>2010</th>\n",
       "      <td>98.365664</td>\n",
       "      <td>100.369965</td>\n",
       "      <td>-58.389837</td>\n",
       "      <td>149.237610</td>\n",
       "      <td>3018.955288</td>\n",
       "    </tr>\n",
       "    <tr>\n",
       "      <th>2011</th>\n",
       "      <td>100.992280</td>\n",
       "      <td>109.853966</td>\n",
       "      <td>-71.289039</td>\n",
       "      <td>147.165622</td>\n",
       "      <td>3436.680910</td>\n",
       "    </tr>\n",
       "    <tr>\n",
       "      <th>2012</th>\n",
       "      <td>102.082925</td>\n",
       "      <td>108.882138</td>\n",
       "      <td>-92.998903</td>\n",
       "      <td>148.418572</td>\n",
       "      <td>3661.966559</td>\n",
       "    </tr>\n",
       "    <tr>\n",
       "      <th>2013</th>\n",
       "      <td>102.626980</td>\n",
       "      <td>107.969589</td>\n",
       "      <td>-117.843167</td>\n",
       "      <td>153.059582</td>\n",
       "      <td>3931.478870</td>\n",
       "    </tr>\n",
       "    <tr>\n",
       "      <th>2014</th>\n",
       "      <td>101.862955</td>\n",
       "      <td>106.346144</td>\n",
       "      <td>-122.422209</td>\n",
       "      <td>157.533902</td>\n",
       "      <td>4227.285418</td>\n",
       "    </tr>\n",
       "    <tr>\n",
       "      <th>2015</th>\n",
       "      <td>100.000000</td>\n",
       "      <td>100.000000</td>\n",
       "      <td>-132.000000</td>\n",
       "      <td>157.515500</td>\n",
       "      <td>4523.132764</td>\n",
       "    </tr>\n",
       "    <tr>\n",
       "      <th>2016</th>\n",
       "      <td>100.014638</td>\n",
       "      <td>98.805263</td>\n",
       "      <td>-108.328406</td>\n",
       "      <td>140.400000</td>\n",
       "      <td>4614.110000</td>\n",
       "    </tr>\n",
       "    <tr>\n",
       "      <th>2017</th>\n",
       "      <td>100.718628</td>\n",
       "      <td>108.288778</td>\n",
       "      <td>-109.555174</td>\n",
       "      <td>128.226331</td>\n",
       "      <td>4955.218000</td>\n",
       "    </tr>\n",
       "    <tr>\n",
       "      <th>2018</th>\n",
       "      <td>100.678340</td>\n",
       "      <td>117.152421</td>\n",
       "      <td>-120.556015</td>\n",
       "      <td>120.648922</td>\n",
       "      <td>5242.187000</td>\n",
       "    </tr>\n",
       "    <tr>\n",
       "      <th>2019</th>\n",
       "      <td>92.852752</td>\n",
       "      <td>NaN</td>\n",
       "      <td>NaN</td>\n",
       "      <td>117.824003</td>\n",
       "      <td>5402.203301</td>\n",
       "    </tr>\n",
       "    <tr>\n",
       "      <th>2020</th>\n",
       "      <td>NaN</td>\n",
       "      <td>NaN</td>\n",
       "      <td>NaN</td>\n",
       "      <td>114.979379</td>\n",
       "      <td>NaN</td>\n",
       "    </tr>\n",
       "  </tbody>\n",
       "</table>\n",
       "</div>"
      ],
      "text/plain": [
       "      gdp2_indad_bj  gdp2_bindad_bj  gdp2r_erro_bj  gdplr_bj_s1  gdp2r_bj1_s1\n",
       "obs                                                                          \n",
       "1996      83.709520       74.150505      18.010553          NaN           NaN\n",
       "1997      85.047474       74.365462       9.446457   124.041239    897.383655\n",
       "1998      82.595662       75.936530       5.434022   126.272872    958.614649\n",
       "1999      79.152690       75.781070      10.995119   127.361097   1049.066999\n",
       "2000      81.639835       76.727743      11.335207   130.820954   1177.348150\n",
       "2001      82.435618       77.414788       7.835879   134.439627   1305.811813\n",
       "2002      83.107575       78.441288       4.143980   138.971821   1422.533804\n",
       "2003      88.825732       81.372863       6.037147   142.686523   1541.245248\n",
       "2004      94.522739       87.173392      11.836135   140.573841   1725.142316\n",
       "2005      93.755118       87.722952       8.937330   140.391340   2023.418698\n",
       "2006      91.583346       87.545172       1.957706   137.756210   2224.489155\n",
       "2007      92.581717       91.132078      -1.596687   138.672350   2457.204907\n",
       "2008      94.855037      101.970192     -35.979671   141.232242   2759.732683\n",
       "2009      94.129953       96.139594     -58.065580   142.724052   2747.479385\n",
       "2010      98.365664      100.369965     -58.389837   149.237610   3018.955288\n",
       "2011     100.992280      109.853966     -71.289039   147.165622   3436.680910\n",
       "2012     102.082925      108.882138     -92.998903   148.418572   3661.966559\n",
       "2013     102.626980      107.969589    -117.843167   153.059582   3931.478870\n",
       "2014     101.862955      106.346144    -122.422209   157.533902   4227.285418\n",
       "2015     100.000000      100.000000    -132.000000   157.515500   4523.132764\n",
       "2016     100.014638       98.805263    -108.328406   140.400000   4614.110000\n",
       "2017     100.718628      108.288778    -109.555174   128.226331   4955.218000\n",
       "2018     100.678340      117.152421    -120.556015   120.648922   5242.187000\n",
       "2019      92.852752             NaN            NaN   117.824003   5402.203301\n",
       "2020            NaN             NaN            NaN   114.979379           NaN"
      ]
     },
     "execution_count": 8,
     "metadata": {},
     "output_type": "execute_result"
    }
   ],
   "source": [
    "df_der = pd.DataFrame()\n",
    "df_der[\"gdp2_indad_bj\"] = df_es[\"gdp2_indan_bj\"]/df_es[\"gdp2_indar_bj\"]*100\n",
    "df_der[\"gdp2_bindad_bj\"] = df_es[\"gdp2_bindan_bj\"]/df_es[\"gdp2_bindar_bj\"]*100\n",
    "df_der[\"gdp2r_erro_bj\"] = df_es[\"gdp2r_bj\"]-df_es[\"gdp2_indar_bj\"]-df_es[\"gdp2_bindar_bj\"]\n",
    "df_der[\"gdplr_bj_s1\"] = df_es[\"gdp1r_bj\"].shift(1)   #直接写进表达式，结果有差异\n",
    "df_der[\"gdp2r_bj1_s1\"] = df_es[\"gdp2r_bj1\"].shift(1)  #\n",
    "df_der"
   ]
  },
  {
   "cell_type": "markdown",
   "metadata": {},
   "source": [
    "# 定义\n",
    "## 参数\n",
    "- 时间段 ： 1996-2008 ,每个表达式的时间段可能不一样\n",
    "- 数据源 ： [df_es,df_other,df_der]"
   ]
  },
  {
   "cell_type": "code",
   "execution_count": 29,
   "metadata": {
    "ExecuteTime": {
     "end_time": "2020-07-09T06:49:25.409325Z",
     "start_time": "2020-07-09T06:49:25.406184Z"
    }
   },
   "outputs": [],
   "source": [
    "df_list = [df_es,df_other,df_der]"
   ]
  },
  {
   "cell_type": "markdown",
   "metadata": {},
   "source": [
    "## 函数"
   ]
  },
  {
   "cell_type": "code",
   "execution_count": 30,
   "metadata": {
    "ExecuteTime": {
     "end_time": "2020-07-09T06:49:27.266921Z",
     "start_time": "2020-07-09T06:49:27.262287Z"
    }
   },
   "outputs": [],
   "source": [
    "def whereis (list1,df_list = df_list ) :\n",
    "    for col1 in list1 :\n",
    "        for i in range(len(df_list )):\n",
    "            df = df_list[i]\n",
    "            if  col1 in list(df.columns):\n",
    "                print(col1 , \"在第 \",i+1,\" 个数据框中\")"
   ]
  },
  {
   "cell_type": "markdown",
   "metadata": {},
   "source": [
    "# 北京\n",
    "## Eq 1 : gdp1r_bj 行为方程 ok\n",
    "行为方程 ： gdp1r_bj  = cul_area_bj + gdp1r_bj(-1) + d_gdp1r_bj"
   ]
  },
  {
   "cell_type": "code",
   "execution_count": 111,
   "metadata": {
    "ExecuteTime": {
     "end_time": "2020-07-08T10:07:51.841229Z",
     "start_time": "2020-07-08T10:07:51.824726Z"
    }
   },
   "outputs": [
    {
     "data": {
      "text/html": [
       "<div>\n",
       "<style scoped>\n",
       "    .dataframe tbody tr th:only-of-type {\n",
       "        vertical-align: middle;\n",
       "    }\n",
       "\n",
       "    .dataframe tbody tr th {\n",
       "        vertical-align: top;\n",
       "    }\n",
       "\n",
       "    .dataframe thead th {\n",
       "        text-align: right;\n",
       "    }\n",
       "</style>\n",
       "<table border=\"1\" class=\"dataframe\">\n",
       "  <thead>\n",
       "    <tr style=\"text-align: right;\">\n",
       "      <th></th>\n",
       "      <th>gdp1r_bj</th>\n",
       "      <th>cul_area_bj</th>\n",
       "      <th>d_gdp1r_bj</th>\n",
       "      <th>gdplr_bj_s1</th>\n",
       "    </tr>\n",
       "    <tr>\n",
       "      <th>obs</th>\n",
       "      <th></th>\n",
       "      <th></th>\n",
       "      <th></th>\n",
       "      <th></th>\n",
       "    </tr>\n",
       "  </thead>\n",
       "  <tbody>\n",
       "    <tr>\n",
       "      <th>1997</th>\n",
       "      <td>126.272872</td>\n",
       "      <td>34.2</td>\n",
       "      <td>0.0</td>\n",
       "      <td>124.041239</td>\n",
       "    </tr>\n",
       "    <tr>\n",
       "      <th>1998</th>\n",
       "      <td>127.361097</td>\n",
       "      <td>34.1</td>\n",
       "      <td>0.0</td>\n",
       "      <td>126.272872</td>\n",
       "    </tr>\n",
       "  </tbody>\n",
       "</table>\n",
       "</div>"
      ],
      "text/plain": [
       "        gdp1r_bj  cul_area_bj  d_gdp1r_bj  gdplr_bj_s1\n",
       "obs                                                   \n",
       "1997  126.272872         34.2         0.0   124.041239\n",
       "1998  127.361097         34.1         0.0   126.272872"
      ]
     },
     "execution_count": 111,
     "metadata": {},
     "output_type": "execute_result"
    }
   ],
   "source": [
    "test1 = pd.concat([df_es[\"gdp1r_bj\"],df_other[[\"cul_area_bj\",\"d_gdp1r_bj\"]],df_der[\"gdplr_bj_s1\"]],axis =1)\n",
    "test1 = test1[(test1.index>1996) & (test1.index <2018)]\n",
    "test1.head(2)"
   ]
  },
  {
   "cell_type": "code",
   "execution_count": 112,
   "metadata": {
    "ExecuteTime": {
     "end_time": "2020-07-08T10:07:52.856884Z",
     "start_time": "2020-07-08T10:07:52.830656Z"
    }
   },
   "outputs": [
    {
     "data": {
      "text/html": [
       "<table class=\"simpletable\">\n",
       "<caption>OLS Regression Results</caption>\n",
       "<tr>\n",
       "  <th>Dep. Variable:</th>        <td>gdp1r_bj</td>     <th>  R-squared:         </th> <td>   0.990</td>\n",
       "</tr>\n",
       "<tr>\n",
       "  <th>Model:</th>                   <td>OLS</td>       <th>  Adj. R-squared:    </th> <td>   0.988</td>\n",
       "</tr>\n",
       "<tr>\n",
       "  <th>Method:</th>             <td>Least Squares</td>  <th>  F-statistic:       </th> <td>   552.1</td>\n",
       "</tr>\n",
       "<tr>\n",
       "  <th>Date:</th>             <td>Wed, 08 Jul 2020</td> <th>  Prob (F-statistic):</th> <td>3.91e-17</td>\n",
       "</tr>\n",
       "<tr>\n",
       "  <th>Time:</th>                 <td>10:07:52</td>     <th>  Log-Likelihood:    </th> <td> -29.414</td>\n",
       "</tr>\n",
       "<tr>\n",
       "  <th>No. Observations:</th>      <td>    21</td>      <th>  AIC:               </th> <td>   66.83</td>\n",
       "</tr>\n",
       "<tr>\n",
       "  <th>Df Residuals:</th>          <td>    17</td>      <th>  BIC:               </th> <td>   71.01</td>\n",
       "</tr>\n",
       "<tr>\n",
       "  <th>Df Model:</th>              <td>     3</td>      <th>                     </th>     <td> </td>   \n",
       "</tr>\n",
       "<tr>\n",
       "  <th>Covariance Type:</th>      <td>nonrobust</td>    <th>                     </th>     <td> </td>   \n",
       "</tr>\n",
       "</table>\n",
       "<table class=\"simpletable\">\n",
       "<tr>\n",
       "       <td></td>          <th>coef</th>     <th>std err</th>      <th>t</th>      <th>P>|t|</th>  <th>[0.025</th>    <th>0.975]</th>  \n",
       "</tr>\n",
       "<tr>\n",
       "  <th>Intercept</th>   <td>   -1.0219</td> <td>    6.900</td> <td>   -0.148</td> <td> 0.884</td> <td>  -15.580</td> <td>   13.536</td>\n",
       "</tr>\n",
       "<tr>\n",
       "  <th>cul_area_bj</th> <td>    0.1348</td> <td>    0.080</td> <td>    1.675</td> <td> 0.112</td> <td>   -0.035</td> <td>    0.305</td>\n",
       "</tr>\n",
       "<tr>\n",
       "  <th>gdplr_bj_s1</th> <td>    0.9935</td> <td>    0.037</td> <td>   26.537</td> <td> 0.000</td> <td>    0.915</td> <td>    1.073</td>\n",
       "</tr>\n",
       "<tr>\n",
       "  <th>d_gdp1r_bj</th>  <td>    6.1976</td> <td>    0.285</td> <td>   21.764</td> <td> 0.000</td> <td>    5.597</td> <td>    6.798</td>\n",
       "</tr>\n",
       "</table>\n",
       "<table class=\"simpletable\">\n",
       "<tr>\n",
       "  <th>Omnibus:</th>       <td> 2.799</td> <th>  Durbin-Watson:     </th> <td>   1.673</td>\n",
       "</tr>\n",
       "<tr>\n",
       "  <th>Prob(Omnibus):</th> <td> 0.247</td> <th>  Jarque-Bera (JB):  </th> <td>   1.433</td>\n",
       "</tr>\n",
       "<tr>\n",
       "  <th>Skew:</th>          <td>-0.303</td> <th>  Prob(JB):          </th> <td>   0.488</td>\n",
       "</tr>\n",
       "<tr>\n",
       "  <th>Kurtosis:</th>      <td> 1.872</td> <th>  Cond. No.          </th> <td>4.14e+03</td>\n",
       "</tr>\n",
       "</table><br/><br/>Warnings:<br/>[1] Standard Errors assume that the covariance matrix of the errors is correctly specified.<br/>[2] The condition number is large, 4.14e+03. This might indicate that there are<br/>strong multicollinearity or other numerical problems."
      ],
      "text/plain": [
       "<class 'statsmodels.iolib.summary.Summary'>\n",
       "\"\"\"\n",
       "                            OLS Regression Results                            \n",
       "==============================================================================\n",
       "Dep. Variable:               gdp1r_bj   R-squared:                       0.990\n",
       "Model:                            OLS   Adj. R-squared:                  0.988\n",
       "Method:                 Least Squares   F-statistic:                     552.1\n",
       "Date:                Wed, 08 Jul 2020   Prob (F-statistic):           3.91e-17\n",
       "Time:                        10:07:52   Log-Likelihood:                -29.414\n",
       "No. Observations:                  21   AIC:                             66.83\n",
       "Df Residuals:                      17   BIC:                             71.01\n",
       "Df Model:                           3                                         \n",
       "Covariance Type:            nonrobust                                         \n",
       "===============================================================================\n",
       "                  coef    std err          t      P>|t|      [0.025      0.975]\n",
       "-------------------------------------------------------------------------------\n",
       "Intercept      -1.0219      6.900     -0.148      0.884     -15.580      13.536\n",
       "cul_area_bj     0.1348      0.080      1.675      0.112      -0.035       0.305\n",
       "gdplr_bj_s1     0.9935      0.037     26.537      0.000       0.915       1.073\n",
       "d_gdp1r_bj      6.1976      0.285     21.764      0.000       5.597       6.798\n",
       "==============================================================================\n",
       "Omnibus:                        2.799   Durbin-Watson:                   1.673\n",
       "Prob(Omnibus):                  0.247   Jarque-Bera (JB):                1.433\n",
       "Skew:                          -0.303   Prob(JB):                        0.488\n",
       "Kurtosis:                       1.872   Cond. No.                     4.14e+03\n",
       "==============================================================================\n",
       "\n",
       "Warnings:\n",
       "[1] Standard Errors assume that the covariance matrix of the errors is correctly specified.\n",
       "[2] The condition number is large, 4.14e+03. This might indicate that there are\n",
       "strong multicollinearity or other numerical problems.\n",
       "\"\"\""
      ]
     },
     "execution_count": 112,
     "metadata": {},
     "output_type": "execute_result"
    }
   ],
   "source": [
    "results = sm.ols(formula = \"gdp1r_bj ~ cul_area_bj  + gdplr_bj_s1 + d_gdp1r_bj\",data = test1).fit()\n",
    "results.summary()"
   ]
  },
  {
   "cell_type": "code",
   "execution_count": 114,
   "metadata": {
    "ExecuteTime": {
     "end_time": "2020-07-08T10:08:12.817346Z",
     "start_time": "2020-07-08T10:08:12.811667Z"
    }
   },
   "outputs": [
    {
     "data": {
      "text/plain": [
       "array([126.82820558, 129.03194867, 130.07270933, 133.38891309,\n",
       "       137.72502094, 141.37904066, 142.38851322, 141.8252671 ,\n",
       "       138.50468726, 138.98539273, 139.88213844, 142.42550053,\n",
       "       150.03792225, 147.17252221, 148.18577519, 152.51597548,\n",
       "       156.50725341, 158.46014552, 139.83986369, 128.98768591,\n",
       "       119.96448788])"
      ]
     },
     "execution_count": 114,
     "metadata": {},
     "output_type": "execute_result"
    }
   ],
   "source": [
    "results.predict()"
   ]
  },
  {
   "cell_type": "code",
   "execution_count": 115,
   "metadata": {
    "ExecuteTime": {
     "end_time": "2020-07-08T10:08:48.181547Z",
     "start_time": "2020-07-08T10:08:48.176117Z"
    }
   },
   "outputs": [
    {
     "data": {
      "text/plain": [
       "obs\n",
       "1997    126.272872\n",
       "1998    127.361097\n",
       "1999    130.820954\n",
       "2000    134.439627\n",
       "2001    138.971821\n",
       "2002    142.686523\n",
       "2003    140.573841\n",
       "2004    140.391340\n",
       "2005    137.756210\n",
       "2006    138.672350\n",
       "2007    141.232242\n",
       "2008    142.724052\n",
       "2009    149.237610\n",
       "2010    147.165622\n",
       "2011    148.418572\n",
       "2012    153.059582\n",
       "2013    157.533902\n",
       "2014    157.515500\n",
       "2015    140.400000\n",
       "2016    128.226331\n",
       "2017    120.648922\n",
       "Name: gdp1r_bj, dtype: float64"
      ]
     },
     "execution_count": 115,
     "metadata": {},
     "output_type": "execute_result"
    }
   ],
   "source": [
    "test1[\"gdp1r_bj\"]"
   ]
  },
  {
   "cell_type": "markdown",
   "metadata": {},
   "source": [
    "## Eq2: gdpn_bj 定义方程 ok\n",
    "定义方程 ： gdpn_bj  = gdp1n_bj  + gdp2n_bj  + gdp3n_bj"
   ]
  },
  {
   "cell_type": "code",
   "execution_count": 14,
   "metadata": {
    "ExecuteTime": {
     "end_time": "2020-07-08T03:44:08.051679Z",
     "start_time": "2020-07-08T03:44:08.046255Z"
    }
   },
   "outputs": [
    {
     "name": "stdout",
     "output_type": "stream",
     "text": [
      "gdpn_bj 在第  1  个数据框中\n",
      "gdp1n_bj 在第  1  个数据框中\n",
      "gdp2n_bj 在第  1  个数据框中\n",
      "gdp3n_bj 在第  1  个数据框中\n"
     ]
    }
   ],
   "source": [
    "whereis([\"gdpn_bj\",\"gdp1n_bj\",\"gdp2n_bj\",\"gdp3n_bj\"])"
   ]
  },
  {
   "cell_type": "code",
   "execution_count": 15,
   "metadata": {
    "ExecuteTime": {
     "end_time": "2020-07-08T03:44:08.121494Z",
     "start_time": "2020-07-08T03:44:08.053484Z"
    }
   },
   "outputs": [
    {
     "data": {
      "text/html": [
       "<div>\n",
       "<style scoped>\n",
       "    .dataframe tbody tr th:only-of-type {\n",
       "        vertical-align: middle;\n",
       "    }\n",
       "\n",
       "    .dataframe tbody tr th {\n",
       "        vertical-align: top;\n",
       "    }\n",
       "\n",
       "    .dataframe thead th {\n",
       "        text-align: right;\n",
       "    }\n",
       "</style>\n",
       "<table border=\"1\" class=\"dataframe\">\n",
       "  <thead>\n",
       "    <tr style=\"text-align: right;\">\n",
       "      <th></th>\n",
       "      <th>gdpn_bj</th>\n",
       "      <th>gdp1n_bj</th>\n",
       "      <th>gdp2n_bj</th>\n",
       "      <th>gdp3n_bj</th>\n",
       "      <th>验证结果</th>\n",
       "    </tr>\n",
       "    <tr>\n",
       "      <th>obs</th>\n",
       "      <th></th>\n",
       "      <th></th>\n",
       "      <th></th>\n",
       "      <th></th>\n",
       "      <th></th>\n",
       "    </tr>\n",
       "  </thead>\n",
       "  <tbody>\n",
       "    <tr>\n",
       "      <th>1997</th>\n",
       "      <td>2096.8</td>\n",
       "      <td>77.2</td>\n",
       "      <td>783.6</td>\n",
       "      <td>1236.0</td>\n",
       "      <td>2096.8</td>\n",
       "    </tr>\n",
       "    <tr>\n",
       "      <th>1998</th>\n",
       "      <td>2406.2</td>\n",
       "      <td>77.9</td>\n",
       "      <td>844.4</td>\n",
       "      <td>1483.9</td>\n",
       "      <td>2406.2</td>\n",
       "    </tr>\n",
       "  </tbody>\n",
       "</table>\n",
       "</div>"
      ],
      "text/plain": [
       "      gdpn_bj  gdp1n_bj  gdp2n_bj  gdp3n_bj    验证结果\n",
       "obs                                                \n",
       "1997   2096.8      77.2     783.6    1236.0  2096.8\n",
       "1998   2406.2      77.9     844.4    1483.9  2406.2"
      ]
     },
     "execution_count": 15,
     "metadata": {},
     "output_type": "execute_result"
    }
   ],
   "source": [
    "test1 = df_es[[\"gdpn_bj\",\"gdp1n_bj\",\"gdp2n_bj\",\"gdp3n_bj\"]]\n",
    "test1 = test1[(test1.index>1996) & (test1.index <2018)]\n",
    "test1[\"预测\"] = test1[\"gdp1n_bj\"] + test1[\"gdp2n_bj\"] + test1[\"gdp3n_bj\"]\n",
    "test1.head(2)"
   ]
  },
  {
   "cell_type": "markdown",
   "metadata": {},
   "source": [
    "## Eq3 ：gdpr_bj 定义方程 ok\n",
    "定义方程 ： gdpr_bj  = gdp1r_bj  + gdp2r_bj  + gdp3r_bj"
   ]
  },
  {
   "cell_type": "code",
   "execution_count": 16,
   "metadata": {
    "ExecuteTime": {
     "end_time": "2020-07-08T03:44:08.128850Z",
     "start_time": "2020-07-08T03:44:08.123190Z"
    }
   },
   "outputs": [
    {
     "name": "stdout",
     "output_type": "stream",
     "text": [
      "gdpr_bj 在第  1  个数据框中\n",
      "gdp1r_bj 在第  1  个数据框中\n",
      "gdp2r_bj 在第  1  个数据框中\n",
      "gdp3r_bj 在第  1  个数据框中\n"
     ]
    }
   ],
   "source": [
    "whereis([\"gdpr_bj\",\"gdp1r_bj\",\"gdp2r_bj\",\"gdp3r_bj\"])"
   ]
  },
  {
   "cell_type": "code",
   "execution_count": 17,
   "metadata": {
    "ExecuteTime": {
     "end_time": "2020-07-08T03:44:08.209146Z",
     "start_time": "2020-07-08T03:44:08.130998Z"
    }
   },
   "outputs": [
    {
     "data": {
      "text/html": [
       "<div>\n",
       "<style scoped>\n",
       "    .dataframe tbody tr th:only-of-type {\n",
       "        vertical-align: middle;\n",
       "    }\n",
       "\n",
       "    .dataframe tbody tr th {\n",
       "        vertical-align: top;\n",
       "    }\n",
       "\n",
       "    .dataframe thead th {\n",
       "        text-align: right;\n",
       "    }\n",
       "</style>\n",
       "<table border=\"1\" class=\"dataframe\">\n",
       "  <thead>\n",
       "    <tr style=\"text-align: right;\">\n",
       "      <th></th>\n",
       "      <th>gdpr_bj</th>\n",
       "      <th>gdp1r_bj</th>\n",
       "      <th>gdp2r_bj</th>\n",
       "      <th>gdp3r_bj</th>\n",
       "      <th>验证结果</th>\n",
       "    </tr>\n",
       "    <tr>\n",
       "      <th>obs</th>\n",
       "      <th></th>\n",
       "      <th></th>\n",
       "      <th></th>\n",
       "      <th></th>\n",
       "      <th></th>\n",
       "    </tr>\n",
       "  </thead>\n",
       "  <tbody>\n",
       "    <tr>\n",
       "      <th>1997</th>\n",
       "      <td>3954.928483</td>\n",
       "      <td>126.272872</td>\n",
       "      <td>958.614649</td>\n",
       "      <td>2870.040962</td>\n",
       "      <td>3954.928483</td>\n",
       "    </tr>\n",
       "    <tr>\n",
       "      <th>1998</th>\n",
       "      <td>4334.706383</td>\n",
       "      <td>127.361097</td>\n",
       "      <td>1049.066999</td>\n",
       "      <td>3158.278288</td>\n",
       "      <td>4334.706383</td>\n",
       "    </tr>\n",
       "  </tbody>\n",
       "</table>\n",
       "</div>"
      ],
      "text/plain": [
       "          gdpr_bj    gdp1r_bj     gdp2r_bj     gdp3r_bj         验证结果\n",
       "obs                                                                 \n",
       "1997  3954.928483  126.272872   958.614649  2870.040962  3954.928483\n",
       "1998  4334.706383  127.361097  1049.066999  3158.278288  4334.706383"
      ]
     },
     "execution_count": 17,
     "metadata": {},
     "output_type": "execute_result"
    }
   ],
   "source": [
    "test1 = df_es[[\"gdpr_bj\",\"gdp1r_bj\",\"gdp2r_bj\",\"gdp3r_bj\"]]\n",
    "test1 = test1[(test1.index>1996) & (test1.index <2018)]\n",
    "test1[\"预测\"] = test1[\"gdp1r_bj\"] + test1[\"gdp2r_bj\"] + test1[\"gdp3r_bj\"]\n",
    "test1.head(2)"
   ]
  },
  {
   "cell_type": "markdown",
   "metadata": {},
   "source": [
    "## Eq4 : gdp1n_bj 定义方程 ok\n",
    "定义方程 ： gdp1n_bj  = gdp1r_bj  * gdp1d_bj  / 100"
   ]
  },
  {
   "cell_type": "code",
   "execution_count": 18,
   "metadata": {
    "ExecuteTime": {
     "end_time": "2020-07-08T03:44:08.216682Z",
     "start_time": "2020-07-08T03:44:08.211326Z"
    }
   },
   "outputs": [
    {
     "name": "stdout",
     "output_type": "stream",
     "text": [
      "gdp1n_bj 在第  1  个数据框中\n",
      "gdp1r_bj 在第  1  个数据框中\n",
      "gdp1d_bj 在第  1  个数据框中\n"
     ]
    }
   ],
   "source": [
    "whereis([\"gdp1n_bj\",\"gdp1r_bj\",\"gdp1d_bj\"])"
   ]
  },
  {
   "cell_type": "code",
   "execution_count": 19,
   "metadata": {
    "ExecuteTime": {
     "end_time": "2020-07-08T03:44:08.298585Z",
     "start_time": "2020-07-08T03:44:08.218711Z"
    }
   },
   "outputs": [
    {
     "data": {
      "text/html": [
       "<div>\n",
       "<style scoped>\n",
       "    .dataframe tbody tr th:only-of-type {\n",
       "        vertical-align: middle;\n",
       "    }\n",
       "\n",
       "    .dataframe tbody tr th {\n",
       "        vertical-align: top;\n",
       "    }\n",
       "\n",
       "    .dataframe thead th {\n",
       "        text-align: right;\n",
       "    }\n",
       "</style>\n",
       "<table border=\"1\" class=\"dataframe\">\n",
       "  <thead>\n",
       "    <tr style=\"text-align: right;\">\n",
       "      <th></th>\n",
       "      <th>gdp1n_bj</th>\n",
       "      <th>gdp1r_bj</th>\n",
       "      <th>gdp1d_bj</th>\n",
       "      <th>验证结果</th>\n",
       "    </tr>\n",
       "    <tr>\n",
       "      <th>obs</th>\n",
       "      <th></th>\n",
       "      <th></th>\n",
       "      <th></th>\n",
       "      <th></th>\n",
       "    </tr>\n",
       "  </thead>\n",
       "  <tbody>\n",
       "    <tr>\n",
       "      <th>1997</th>\n",
       "      <td>77.2</td>\n",
       "      <td>126.272872</td>\n",
       "      <td>61.137439</td>\n",
       "      <td>77.2</td>\n",
       "    </tr>\n",
       "    <tr>\n",
       "      <th>1998</th>\n",
       "      <td>77.9</td>\n",
       "      <td>127.361097</td>\n",
       "      <td>61.164674</td>\n",
       "      <td>77.9</td>\n",
       "    </tr>\n",
       "  </tbody>\n",
       "</table>\n",
       "</div>"
      ],
      "text/plain": [
       "      gdp1n_bj    gdp1r_bj   gdp1d_bj  验证结果\n",
       "obs                                        \n",
       "1997      77.2  126.272872  61.137439  77.2\n",
       "1998      77.9  127.361097  61.164674  77.9"
      ]
     },
     "execution_count": 19,
     "metadata": {},
     "output_type": "execute_result"
    }
   ],
   "source": [
    "test1 = df_es[[\"gdp1n_bj\",\"gdp1r_bj\",\"gdp1d_bj\"]]\n",
    "test1 = test1[(test1.index>1996) & (test1.index <2018)]\n",
    "test1[\"验证结果\"] = test1[\"gdp1r_bj\"]*test1[\"gdp1d_bj\"]/100\n",
    "test1.head(2)"
   ]
  },
  {
   "cell_type": "markdown",
   "metadata": {},
   "source": [
    "## Eq5 : gdp2_indan_bj 定义方程 ok\n",
    "定义方程 ： gdp2_indan_bj  = gdp2_indar_bj  * gdp2_indad_bj  / 100\n"
   ]
  },
  {
   "cell_type": "code",
   "execution_count": 20,
   "metadata": {
    "ExecuteTime": {
     "end_time": "2020-07-08T03:44:08.310578Z",
     "start_time": "2020-07-08T03:44:08.302277Z"
    }
   },
   "outputs": [
    {
     "name": "stdout",
     "output_type": "stream",
     "text": [
      "gdp2_indan_bj 在第  1  个数据框中\n",
      "gdp2_indar_bj 在第  1  个数据框中\n",
      "gdp2_indad_bj 在第  3  个数据框中\n"
     ]
    }
   ],
   "source": [
    "whereis([\"gdp2_indan_bj\",\"gdp2_indar_bj\",\"gdp2_indad_bj\"])"
   ]
  },
  {
   "cell_type": "code",
   "execution_count": 21,
   "metadata": {
    "ExecuteTime": {
     "end_time": "2020-07-08T03:44:08.377333Z",
     "start_time": "2020-07-08T03:44:08.313335Z"
    }
   },
   "outputs": [
    {
     "data": {
      "text/html": [
       "<div>\n",
       "<style scoped>\n",
       "    .dataframe tbody tr th:only-of-type {\n",
       "        vertical-align: middle;\n",
       "    }\n",
       "\n",
       "    .dataframe tbody tr th {\n",
       "        vertical-align: top;\n",
       "    }\n",
       "\n",
       "    .dataframe thead th {\n",
       "        text-align: right;\n",
       "    }\n",
       "</style>\n",
       "<table border=\"1\" class=\"dataframe\">\n",
       "  <thead>\n",
       "    <tr style=\"text-align: right;\">\n",
       "      <th></th>\n",
       "      <th>gdp2_indan_bj</th>\n",
       "      <th>gdp2_indar_bj</th>\n",
       "      <th>gdp2_indad_bj</th>\n",
       "      <th>验证结果</th>\n",
       "    </tr>\n",
       "    <tr>\n",
       "      <th>obs</th>\n",
       "      <th></th>\n",
       "      <th></th>\n",
       "      <th></th>\n",
       "      <th></th>\n",
       "    </tr>\n",
       "  </thead>\n",
       "  <tbody>\n",
       "    <tr>\n",
       "      <th>1997</th>\n",
       "      <td>639.7</td>\n",
       "      <td>752.168139</td>\n",
       "      <td>85.047474</td>\n",
       "      <td>639.7</td>\n",
       "    </tr>\n",
       "    <tr>\n",
       "      <th>1998</th>\n",
       "      <td>676.0</td>\n",
       "      <td>818.444916</td>\n",
       "      <td>82.595662</td>\n",
       "      <td>676.0</td>\n",
       "    </tr>\n",
       "  </tbody>\n",
       "</table>\n",
       "</div>"
      ],
      "text/plain": [
       "      gdp2_indan_bj  gdp2_indar_bj  gdp2_indad_bj   验证结果\n",
       "obs                                                     \n",
       "1997          639.7     752.168139      85.047474  639.7\n",
       "1998          676.0     818.444916      82.595662  676.0"
      ]
     },
     "execution_count": 21,
     "metadata": {},
     "output_type": "execute_result"
    }
   ],
   "source": [
    "test1 = pd.concat([df_es[[\"gdp2_indan_bj\",\"gdp2_indar_bj\"]],df_der[\"gdp2_indad_bj\"]],axis =1)\n",
    "test1 = test1[(test1.index>1996) & (test1.index <2018)]\n",
    "test1[\"验证结果\"] = test1[\"gdp2_indar_bj\"]*test1[\"gdp2_indad_bj\"]/100\n",
    "test1.head(2)"
   ]
  },
  {
   "cell_type": "markdown",
   "metadata": {},
   "source": [
    "## Eq6 ：gdp2_bindan_bj 定义方程 ok\n",
    "定义方程 ： gdp2_bindan_bj  = gdp2_bindar_bj  * gdp2_bindad_bj  / 100"
   ]
  },
  {
   "cell_type": "code",
   "execution_count": 22,
   "metadata": {
    "ExecuteTime": {
     "end_time": "2020-07-08T03:44:08.383275Z",
     "start_time": "2020-07-08T03:44:08.378934Z"
    }
   },
   "outputs": [
    {
     "name": "stdout",
     "output_type": "stream",
     "text": [
      "gdp2_bindan_bj 在第  1  个数据框中\n",
      "gdp2_bindar_bj 在第  1  个数据框中\n",
      "gdp2_bindad_bj 在第  3  个数据框中\n"
     ]
    }
   ],
   "source": [
    "whereis([\"gdp2_bindan_bj\",\"gdp2_bindar_bj\",\"gdp2_bindad_bj\"])"
   ]
  },
  {
   "cell_type": "code",
   "execution_count": 23,
   "metadata": {
    "ExecuteTime": {
     "end_time": "2020-07-08T03:44:08.443547Z",
     "start_time": "2020-07-08T03:44:08.387232Z"
    }
   },
   "outputs": [
    {
     "data": {
      "text/html": [
       "<div>\n",
       "<style scoped>\n",
       "    .dataframe tbody tr th:only-of-type {\n",
       "        vertical-align: middle;\n",
       "    }\n",
       "\n",
       "    .dataframe tbody tr th {\n",
       "        vertical-align: top;\n",
       "    }\n",
       "\n",
       "    .dataframe thead th {\n",
       "        text-align: right;\n",
       "    }\n",
       "</style>\n",
       "<table border=\"1\" class=\"dataframe\">\n",
       "  <thead>\n",
       "    <tr style=\"text-align: right;\">\n",
       "      <th></th>\n",
       "      <th>gdp2_bindan_bj</th>\n",
       "      <th>gdp2_bindar_bj</th>\n",
       "      <th>gdp2_bindad_bj</th>\n",
       "      <th>验证结果</th>\n",
       "    </tr>\n",
       "    <tr>\n",
       "      <th>obs</th>\n",
       "      <th></th>\n",
       "      <th></th>\n",
       "      <th></th>\n",
       "      <th></th>\n",
       "    </tr>\n",
       "  </thead>\n",
       "  <tbody>\n",
       "    <tr>\n",
       "      <th>1997</th>\n",
       "      <td>146.5</td>\n",
       "      <td>197.000053</td>\n",
       "      <td>74.365462</td>\n",
       "      <td>146.5</td>\n",
       "    </tr>\n",
       "    <tr>\n",
       "      <th>1998</th>\n",
       "      <td>171.0</td>\n",
       "      <td>225.188061</td>\n",
       "      <td>75.936530</td>\n",
       "      <td>171.0</td>\n",
       "    </tr>\n",
       "  </tbody>\n",
       "</table>\n",
       "</div>"
      ],
      "text/plain": [
       "      gdp2_bindan_bj  gdp2_bindar_bj  gdp2_bindad_bj   验证结果\n",
       "obs                                                        \n",
       "1997           146.5      197.000053       74.365462  146.5\n",
       "1998           171.0      225.188061       75.936530  171.0"
      ]
     },
     "execution_count": 23,
     "metadata": {},
     "output_type": "execute_result"
    }
   ],
   "source": [
    "test1 = pd.concat([df_es[[\"gdp2_bindan_bj\",\"gdp2_bindar_bj\"]],df_der[\"gdp2_bindad_bj\"]],axis =1)\n",
    "test1 = test1[(test1.index>1996) & (test1.index <2018)]\n",
    "test1[\"验证结果\"] = test1[\"gdp2_bindar_bj\"]*test1[\"gdp2_bindad_bj\"]/100\n",
    "test1.head(2)"
   ]
  },
  {
   "cell_type": "markdown",
   "metadata": {},
   "source": [
    "## Eq7 : gdp2n_bj 定义方程 ok\n",
    "定义方程 ： gdp2n_bj  = gdp2r_bj  * gdp2d_bj  / 100\n"
   ]
  },
  {
   "cell_type": "code",
   "execution_count": 24,
   "metadata": {
    "ExecuteTime": {
     "end_time": "2020-07-08T03:44:08.449843Z",
     "start_time": "2020-07-08T03:44:08.445808Z"
    }
   },
   "outputs": [
    {
     "name": "stdout",
     "output_type": "stream",
     "text": [
      "gdp2n_bj 在第  1  个数据框中\n",
      "gdp2r_bj 在第  1  个数据框中\n",
      "gdp2d_bj 在第  1  个数据框中\n"
     ]
    }
   ],
   "source": [
    "whereis([\"gdp2n_bj\",\"gdp2r_bj\",\"gdp2d_bj\"])"
   ]
  },
  {
   "cell_type": "code",
   "execution_count": 25,
   "metadata": {
    "ExecuteTime": {
     "end_time": "2020-07-08T03:44:08.527440Z",
     "start_time": "2020-07-08T03:44:08.451472Z"
    }
   },
   "outputs": [
    {
     "data": {
      "text/html": [
       "<div>\n",
       "<style scoped>\n",
       "    .dataframe tbody tr th:only-of-type {\n",
       "        vertical-align: middle;\n",
       "    }\n",
       "\n",
       "    .dataframe tbody tr th {\n",
       "        vertical-align: top;\n",
       "    }\n",
       "\n",
       "    .dataframe thead th {\n",
       "        text-align: right;\n",
       "    }\n",
       "</style>\n",
       "<table border=\"1\" class=\"dataframe\">\n",
       "  <thead>\n",
       "    <tr style=\"text-align: right;\">\n",
       "      <th></th>\n",
       "      <th>gdp2n_bj</th>\n",
       "      <th>gdp2r_bj</th>\n",
       "      <th>gdp2d_bj</th>\n",
       "      <th>验证结果</th>\n",
       "    </tr>\n",
       "    <tr>\n",
       "      <th>obs</th>\n",
       "      <th></th>\n",
       "      <th></th>\n",
       "      <th></th>\n",
       "      <th></th>\n",
       "    </tr>\n",
       "  </thead>\n",
       "  <tbody>\n",
       "    <tr>\n",
       "      <th>1997</th>\n",
       "      <td>783.6</td>\n",
       "      <td>958.614649</td>\n",
       "      <td>81.742961</td>\n",
       "      <td>783.6</td>\n",
       "    </tr>\n",
       "    <tr>\n",
       "      <th>1998</th>\n",
       "      <td>844.4</td>\n",
       "      <td>1049.066999</td>\n",
       "      <td>80.490569</td>\n",
       "      <td>844.4</td>\n",
       "    </tr>\n",
       "  </tbody>\n",
       "</table>\n",
       "</div>"
      ],
      "text/plain": [
       "      gdp2n_bj     gdp2r_bj   gdp2d_bj   验证结果\n",
       "obs                                          \n",
       "1997     783.6   958.614649  81.742961  783.6\n",
       "1998     844.4  1049.066999  80.490569  844.4"
      ]
     },
     "execution_count": 25,
     "metadata": {},
     "output_type": "execute_result"
    }
   ],
   "source": [
    "test1 = df_es[[\"gdp2n_bj\",\"gdp2r_bj\",\"gdp2d_bj\"]]\n",
    "test1 = test1[(test1.index>1996) & (test1.index <2018)]\n",
    "test1[\"验证结果\"] = test1[\"gdp2r_bj\"]*test1[\"gdp2d_bj\"]/100\n",
    "test1.head(2)"
   ]
  },
  {
   "cell_type": "markdown",
   "metadata": {},
   "source": [
    "## Eq8 ： gdp2r_bj2 定义方程 ok\n",
    "定义方程 ： gdp2r_bj2  = gdp2_indar_bj  + gdp2_bindar_bj  + gdp2r_erro_bj"
   ]
  },
  {
   "cell_type": "code",
   "execution_count": 26,
   "metadata": {
    "ExecuteTime": {
     "end_time": "2020-07-08T03:44:08.534640Z",
     "start_time": "2020-07-08T03:44:08.529448Z"
    }
   },
   "outputs": [
    {
     "name": "stdout",
     "output_type": "stream",
     "text": [
      "gdp2r_bj2 在第  1  个数据框中\n",
      "gdp2_indar_bj 在第  1  个数据框中\n",
      "gdp2_bindar_bj 在第  1  个数据框中\n",
      "gdp2r_erro_bj 在第  3  个数据框中\n"
     ]
    }
   ],
   "source": [
    "whereis([\"gdp2r_bj2\",\"gdp2_indar_bj\",\"gdp2_bindar_bj\",\"gdp2r_erro_bj\"])"
   ]
  },
  {
   "cell_type": "code",
   "execution_count": 27,
   "metadata": {
    "ExecuteTime": {
     "end_time": "2020-07-08T03:44:08.606478Z",
     "start_time": "2020-07-08T03:44:08.536227Z"
    }
   },
   "outputs": [
    {
     "data": {
      "text/html": [
       "<div>\n",
       "<style scoped>\n",
       "    .dataframe tbody tr th:only-of-type {\n",
       "        vertical-align: middle;\n",
       "    }\n",
       "\n",
       "    .dataframe tbody tr th {\n",
       "        vertical-align: top;\n",
       "    }\n",
       "\n",
       "    .dataframe thead th {\n",
       "        text-align: right;\n",
       "    }\n",
       "</style>\n",
       "<table border=\"1\" class=\"dataframe\">\n",
       "  <thead>\n",
       "    <tr style=\"text-align: right;\">\n",
       "      <th></th>\n",
       "      <th>gdp2r_bj2</th>\n",
       "      <th>gdp2_indar_bj</th>\n",
       "      <th>gdp2_bindar_bj</th>\n",
       "      <th>gdp2r_erro_bj</th>\n",
       "      <th>验证结果</th>\n",
       "    </tr>\n",
       "    <tr>\n",
       "      <th>obs</th>\n",
       "      <th></th>\n",
       "      <th></th>\n",
       "      <th></th>\n",
       "      <th></th>\n",
       "      <th></th>\n",
       "    </tr>\n",
       "  </thead>\n",
       "  <tbody>\n",
       "    <tr>\n",
       "      <th>1997</th>\n",
       "      <td>958.614649</td>\n",
       "      <td>752.168139</td>\n",
       "      <td>197.000053</td>\n",
       "      <td>9.446457</td>\n",
       "      <td>958.614649</td>\n",
       "    </tr>\n",
       "    <tr>\n",
       "      <th>1998</th>\n",
       "      <td>1049.066999</td>\n",
       "      <td>818.444916</td>\n",
       "      <td>225.188061</td>\n",
       "      <td>5.434022</td>\n",
       "      <td>1049.066999</td>\n",
       "    </tr>\n",
       "  </tbody>\n",
       "</table>\n",
       "</div>"
      ],
      "text/plain": [
       "        gdp2r_bj2  gdp2_indar_bj  gdp2_bindar_bj  gdp2r_erro_bj         验证结果\n",
       "obs                                                                         \n",
       "1997   958.614649     752.168139      197.000053       9.446457   958.614649\n",
       "1998  1049.066999     818.444916      225.188061       5.434022  1049.066999"
      ]
     },
     "execution_count": 27,
     "metadata": {},
     "output_type": "execute_result"
    }
   ],
   "source": [
    "test1 = pd.concat([df_es[[\"gdp2r_bj2\",\"gdp2_indar_bj\",\"gdp2_bindar_bj\"]],df_der[\"gdp2r_erro_bj\"]],axis =1)\n",
    "test1 = test1[(test1.index>1996) & (test1.index <2018)]\n",
    "test1[\"验证结果\"] = test1[\"gdp2_indar_bj\"] + test1[\"gdp2_bindar_bj\"] + test1[\"gdp2r_erro_bj\"]\n",
    "test1.head(2)"
   ]
  },
  {
   "cell_type": "markdown",
   "metadata": {},
   "source": [
    "## Eq9 : gdp2r_bj1 行为方程 ok\n",
    "行为方程 ： gdp2r_bj1  = @coef(1)  + @coef(2) * gdp_tecn_bj / gdp2d_bj  + @coef(3) * gdp2r_bj1(-1)  + @coef(4) * d_gdp2r_bj_1\n",
    "\n",
    "- gdp_tecn_bj / gdp2d_bj : 可以将表达式写入方程中，但参数估计结果不一样"
   ]
  },
  {
   "cell_type": "code",
   "execution_count": 28,
   "metadata": {
    "ExecuteTime": {
     "end_time": "2020-07-08T03:44:08.613303Z",
     "start_time": "2020-07-08T03:44:08.608162Z"
    }
   },
   "outputs": [
    {
     "name": "stdout",
     "output_type": "stream",
     "text": [
      "gdp2r_bj1 在第  1  个数据框中\n",
      "gdp_tecn_bj 在第  1  个数据框中\n",
      "gdp2d_bj 在第  1  个数据框中\n",
      "d_gdp2r_bj_1 在第  2  个数据框中\n"
     ]
    }
   ],
   "source": [
    "whereis([\"gdp2r_bj1\",\"gdp_tecn_bj\",\"gdp2d_bj\",\"d_gdp2r_bj_1\"])"
   ]
  },
  {
   "cell_type": "code",
   "execution_count": 29,
   "metadata": {
    "ExecuteTime": {
     "end_time": "2020-07-08T03:44:08.630949Z",
     "start_time": "2020-07-08T03:44:08.615066Z"
    },
    "scrolled": true
   },
   "outputs": [
    {
     "data": {
      "text/html": [
       "<div>\n",
       "<style scoped>\n",
       "    .dataframe tbody tr th:only-of-type {\n",
       "        vertical-align: middle;\n",
       "    }\n",
       "\n",
       "    .dataframe tbody tr th {\n",
       "        vertical-align: top;\n",
       "    }\n",
       "\n",
       "    .dataframe thead th {\n",
       "        text-align: right;\n",
       "    }\n",
       "</style>\n",
       "<table border=\"1\" class=\"dataframe\">\n",
       "  <thead>\n",
       "    <tr style=\"text-align: right;\">\n",
       "      <th></th>\n",
       "      <th>gdp2r_bj1</th>\n",
       "      <th>gdp_tecn_bj</th>\n",
       "      <th>gdp2d_bj</th>\n",
       "      <th>d_gdp2r_bj_1</th>\n",
       "      <th>gdp2r_bj1_s1</th>\n",
       "      <th>gdp_tecn_gdp2d</th>\n",
       "    </tr>\n",
       "    <tr>\n",
       "      <th>obs</th>\n",
       "      <th></th>\n",
       "      <th></th>\n",
       "      <th></th>\n",
       "      <th></th>\n",
       "      <th></th>\n",
       "      <th></th>\n",
       "    </tr>\n",
       "  </thead>\n",
       "  <tbody>\n",
       "    <tr>\n",
       "      <th>2004</th>\n",
       "      <td>2023.418698</td>\n",
       "      <td>370.6</td>\n",
       "      <td>92.304178</td>\n",
       "      <td>0.0</td>\n",
       "      <td>1725.142316</td>\n",
       "      <td>4.014986</td>\n",
       "    </tr>\n",
       "    <tr>\n",
       "      <th>2005</th>\n",
       "      <td>2224.489155</td>\n",
       "      <td>504.4</td>\n",
       "      <td>91.958192</td>\n",
       "      <td>-0.5</td>\n",
       "      <td>2023.418698</td>\n",
       "      <td>5.485101</td>\n",
       "    </tr>\n",
       "  </tbody>\n",
       "</table>\n",
       "</div>"
      ],
      "text/plain": [
       "        gdp2r_bj1  gdp_tecn_bj   gdp2d_bj  d_gdp2r_bj_1  gdp2r_bj1_s1  \\\n",
       "obs                                                                     \n",
       "2004  2023.418698        370.6  92.304178           0.0   1725.142316   \n",
       "2005  2224.489155        504.4  91.958192          -0.5   2023.418698   \n",
       "\n",
       "      gdp_tecn_gdp2d  \n",
       "obs                   \n",
       "2004        4.014986  \n",
       "2005        5.485101  "
      ]
     },
     "execution_count": 29,
     "metadata": {},
     "output_type": "execute_result"
    }
   ],
   "source": [
    "test1 = pd.concat([df_es[[\"gdp2r_bj1\",\"gdp_tecn_bj\",\"gdp2d_bj\"]],df_other[\"d_gdp2r_bj_1\"],df_der[\"gdp2r_bj1_s1\"]],axis=1)\n",
    "test1[\"gdp_tecn_gdp2d\"] = test1[\"gdp_tecn_bj\"]/test1[\"gdp2d_bj\"]\n",
    "test1 = test1[(test1.index>2003) & (test1.index <2019)]\n",
    "test1.head(2)"
   ]
  },
  {
   "cell_type": "code",
   "execution_count": 30,
   "metadata": {
    "ExecuteTime": {
     "end_time": "2020-07-08T03:44:08.655723Z",
     "start_time": "2020-07-08T03:44:08.632452Z"
    }
   },
   "outputs": [
    {
     "data": {
      "text/html": [
       "<table class=\"simpletable\">\n",
       "<caption>OLS Regression Results</caption>\n",
       "<tr>\n",
       "  <th>Dep. Variable:</th>        <td>gdp2r_bj1</td>    <th>  R-squared:         </th> <td>   1.000</td> \n",
       "</tr>\n",
       "<tr>\n",
       "  <th>Model:</th>                   <td>OLS</td>       <th>  Adj. R-squared:    </th> <td>   1.000</td> \n",
       "</tr>\n",
       "<tr>\n",
       "  <th>Method:</th>             <td>Least Squares</td>  <th>  F-statistic:       </th> <td>1.283e+04</td>\n",
       "</tr>\n",
       "<tr>\n",
       "  <th>Date:</th>             <td>Wed, 08 Jul 2020</td> <th>  Prob (F-statistic):</th> <td>9.06e-20</td> \n",
       "</tr>\n",
       "<tr>\n",
       "  <th>Time:</th>                 <td>03:44:08</td>     <th>  Log-Likelihood:    </th> <td> -64.871</td> \n",
       "</tr>\n",
       "<tr>\n",
       "  <th>No. Observations:</th>      <td>    15</td>      <th>  AIC:               </th> <td>   137.7</td> \n",
       "</tr>\n",
       "<tr>\n",
       "  <th>Df Residuals:</th>          <td>    11</td>      <th>  BIC:               </th> <td>   140.6</td> \n",
       "</tr>\n",
       "<tr>\n",
       "  <th>Df Model:</th>              <td>     3</td>      <th>                     </th>     <td> </td>    \n",
       "</tr>\n",
       "<tr>\n",
       "  <th>Covariance Type:</th>      <td>nonrobust</td>    <th>                     </th>     <td> </td>    \n",
       "</tr>\n",
       "</table>\n",
       "<table class=\"simpletable\">\n",
       "<tr>\n",
       "         <td></td>           <th>coef</th>     <th>std err</th>      <th>t</th>      <th>P>|t|</th>  <th>[0.025</th>    <th>0.975]</th>  \n",
       "</tr>\n",
       "<tr>\n",
       "  <th>Intercept</th>      <td>  342.4635</td> <td>   33.177</td> <td>   10.322</td> <td> 0.000</td> <td>  269.442</td> <td>  415.485</td>\n",
       "</tr>\n",
       "<tr>\n",
       "  <th>gdp_tecn_gdp2d</th> <td>    1.4938</td> <td>    0.641</td> <td>    2.330</td> <td> 0.040</td> <td>    0.082</td> <td>    2.905</td>\n",
       "</tr>\n",
       "<tr>\n",
       "  <th>gdp2r_bj1_s1</th>   <td>    0.9700</td> <td>    0.014</td> <td>   69.798</td> <td> 0.000</td> <td>    0.939</td> <td>    1.001</td>\n",
       "</tr>\n",
       "<tr>\n",
       "  <th>d_gdp2r_bj_1</th>   <td>  155.2133</td> <td>    8.618</td> <td>   18.011</td> <td> 0.000</td> <td>  136.246</td> <td>  174.180</td>\n",
       "</tr>\n",
       "</table>\n",
       "<table class=\"simpletable\">\n",
       "<tr>\n",
       "  <th>Omnibus:</th>       <td> 1.380</td> <th>  Durbin-Watson:     </th> <td>   2.420</td>\n",
       "</tr>\n",
       "<tr>\n",
       "  <th>Prob(Omnibus):</th> <td> 0.501</td> <th>  Jarque-Bera (JB):  </th> <td>   1.054</td>\n",
       "</tr>\n",
       "<tr>\n",
       "  <th>Skew:</th>          <td>-0.593</td> <th>  Prob(JB):          </th> <td>   0.590</td>\n",
       "</tr>\n",
       "<tr>\n",
       "  <th>Kurtosis:</th>      <td> 2.470</td> <th>  Cond. No.          </th> <td>2.17e+04</td>\n",
       "</tr>\n",
       "</table><br/><br/>Warnings:<br/>[1] Standard Errors assume that the covariance matrix of the errors is correctly specified.<br/>[2] The condition number is large, 2.17e+04. This might indicate that there are<br/>strong multicollinearity or other numerical problems."
      ],
      "text/plain": [
       "<class 'statsmodels.iolib.summary.Summary'>\n",
       "\"\"\"\n",
       "                            OLS Regression Results                            \n",
       "==============================================================================\n",
       "Dep. Variable:              gdp2r_bj1   R-squared:                       1.000\n",
       "Model:                            OLS   Adj. R-squared:                  1.000\n",
       "Method:                 Least Squares   F-statistic:                 1.283e+04\n",
       "Date:                Wed, 08 Jul 2020   Prob (F-statistic):           9.06e-20\n",
       "Time:                        03:44:08   Log-Likelihood:                -64.871\n",
       "No. Observations:                  15   AIC:                             137.7\n",
       "Df Residuals:                      11   BIC:                             140.6\n",
       "Df Model:                           3                                         \n",
       "Covariance Type:            nonrobust                                         \n",
       "==================================================================================\n",
       "                     coef    std err          t      P>|t|      [0.025      0.975]\n",
       "----------------------------------------------------------------------------------\n",
       "Intercept        342.4635     33.177     10.322      0.000     269.442     415.485\n",
       "gdp_tecn_gdp2d     1.4938      0.641      2.330      0.040       0.082       2.905\n",
       "gdp2r_bj1_s1       0.9700      0.014     69.798      0.000       0.939       1.001\n",
       "d_gdp2r_bj_1     155.2133      8.618     18.011      0.000     136.246     174.180\n",
       "==============================================================================\n",
       "Omnibus:                        1.380   Durbin-Watson:                   2.420\n",
       "Prob(Omnibus):                  0.501   Jarque-Bera (JB):                1.054\n",
       "Skew:                          -0.593   Prob(JB):                        0.590\n",
       "Kurtosis:                       2.470   Cond. No.                     2.17e+04\n",
       "==============================================================================\n",
       "\n",
       "Warnings:\n",
       "[1] Standard Errors assume that the covariance matrix of the errors is correctly specified.\n",
       "[2] The condition number is large, 2.17e+04. This might indicate that there are\n",
       "strong multicollinearity or other numerical problems.\n",
       "\"\"\""
      ]
     },
     "execution_count": 30,
     "metadata": {},
     "output_type": "execute_result"
    }
   ],
   "source": [
    "#results = sm.ols(formula = \"gdp2r_bj1 ~ gdp_tecn_bj/gdp2d_bj  + gdp2r_bj1.shift(1) + d_gdp2r_bj_1\",data = test1 ).fit()\n",
    "results = sm.ols(formula = \"gdp2r_bj1 ~ gdp_tecn_gdp2d  + gdp2r_bj1_s1 + d_gdp2r_bj_1\",data = test1 ).fit()\n",
    "results.summary()"
   ]
  },
  {
   "cell_type": "markdown",
   "metadata": {},
   "source": [
    "## Eq10 ：gdp2r_bj 定义方程  ok\n",
    "定义方程 ： gdp2r_bj  = (gdp2r_bj1  + gdp2r_bj2)  / 2"
   ]
  },
  {
   "cell_type": "code",
   "execution_count": 31,
   "metadata": {
    "ExecuteTime": {
     "end_time": "2020-07-08T03:44:08.661759Z",
     "start_time": "2020-07-08T03:44:08.657429Z"
    }
   },
   "outputs": [
    {
     "name": "stdout",
     "output_type": "stream",
     "text": [
      "gdp2r_bj 在第  1  个数据框中\n",
      "gdp2r_bj1 在第  1  个数据框中\n",
      "gdp2r_bj2 在第  1  个数据框中\n"
     ]
    }
   ],
   "source": [
    "whereis([\"gdp2r_bj\",\"gdp2r_bj1\",\"gdp2r_bj2\"])"
   ]
  },
  {
   "cell_type": "code",
   "execution_count": 32,
   "metadata": {
    "ExecuteTime": {
     "end_time": "2020-07-08T03:44:08.728485Z",
     "start_time": "2020-07-08T03:44:08.663435Z"
    }
   },
   "outputs": [
    {
     "data": {
      "text/html": [
       "<div>\n",
       "<style scoped>\n",
       "    .dataframe tbody tr th:only-of-type {\n",
       "        vertical-align: middle;\n",
       "    }\n",
       "\n",
       "    .dataframe tbody tr th {\n",
       "        vertical-align: top;\n",
       "    }\n",
       "\n",
       "    .dataframe thead th {\n",
       "        text-align: right;\n",
       "    }\n",
       "</style>\n",
       "<table border=\"1\" class=\"dataframe\">\n",
       "  <thead>\n",
       "    <tr style=\"text-align: right;\">\n",
       "      <th></th>\n",
       "      <th>gdp2r_bj</th>\n",
       "      <th>gdp2r_bj1</th>\n",
       "      <th>gdp2r_bj2</th>\n",
       "      <th>验证结果</th>\n",
       "    </tr>\n",
       "    <tr>\n",
       "      <th>obs</th>\n",
       "      <th></th>\n",
       "      <th></th>\n",
       "      <th></th>\n",
       "      <th></th>\n",
       "    </tr>\n",
       "  </thead>\n",
       "  <tbody>\n",
       "    <tr>\n",
       "      <th>1997</th>\n",
       "      <td>958.614649</td>\n",
       "      <td>958.614649</td>\n",
       "      <td>958.614649</td>\n",
       "      <td>958.614649</td>\n",
       "    </tr>\n",
       "    <tr>\n",
       "      <th>1998</th>\n",
       "      <td>1049.066999</td>\n",
       "      <td>1049.066999</td>\n",
       "      <td>1049.066999</td>\n",
       "      <td>1049.066999</td>\n",
       "    </tr>\n",
       "  </tbody>\n",
       "</table>\n",
       "</div>"
      ],
      "text/plain": [
       "         gdp2r_bj    gdp2r_bj1    gdp2r_bj2         验证结果\n",
       "obs                                                     \n",
       "1997   958.614649   958.614649   958.614649   958.614649\n",
       "1998  1049.066999  1049.066999  1049.066999  1049.066999"
      ]
     },
     "execution_count": 32,
     "metadata": {},
     "output_type": "execute_result"
    }
   ],
   "source": [
    "test1 = df_es[[\"gdp2r_bj\",\"gdp2r_bj1\",\"gdp2r_bj2\"]]\n",
    "test1 = test1[(test1.index>1996) & (test1.index <2018)]\n",
    "test1[\"验证结果\"] = (test1[\"gdp2r_bj1\"] + test1[\"gdp2r_bj2\"])/2\n",
    "test1.head(2)"
   ]
  },
  {
   "cell_type": "markdown",
   "metadata": {},
   "source": [
    "## Eq11 :gdp3n_bj 定义方程 ok\n",
    "定义方程 ： gdp3n_bj  = gdp3r_bj  * gdp3d_bj  / 100"
   ]
  },
  {
   "cell_type": "code",
   "execution_count": 33,
   "metadata": {
    "ExecuteTime": {
     "end_time": "2020-07-08T03:44:08.735353Z",
     "start_time": "2020-07-08T03:44:08.730558Z"
    }
   },
   "outputs": [
    {
     "name": "stdout",
     "output_type": "stream",
     "text": [
      "gdp3n_bj 在第  1  个数据框中\n",
      "gdp3r_bj 在第  1  个数据框中\n",
      "gdp3d_bj 在第  1  个数据框中\n"
     ]
    }
   ],
   "source": [
    "whereis([\"gdp3n_bj\",\"gdp3r_bj\",\"gdp3d_bj\"])"
   ]
  },
  {
   "cell_type": "code",
   "execution_count": 34,
   "metadata": {
    "ExecuteTime": {
     "end_time": "2020-07-08T03:44:08.801786Z",
     "start_time": "2020-07-08T03:44:08.736996Z"
    }
   },
   "outputs": [
    {
     "data": {
      "text/html": [
       "<div>\n",
       "<style scoped>\n",
       "    .dataframe tbody tr th:only-of-type {\n",
       "        vertical-align: middle;\n",
       "    }\n",
       "\n",
       "    .dataframe tbody tr th {\n",
       "        vertical-align: top;\n",
       "    }\n",
       "\n",
       "    .dataframe thead th {\n",
       "        text-align: right;\n",
       "    }\n",
       "</style>\n",
       "<table border=\"1\" class=\"dataframe\">\n",
       "  <thead>\n",
       "    <tr style=\"text-align: right;\">\n",
       "      <th></th>\n",
       "      <th>gdp3n_bj</th>\n",
       "      <th>gdp3r_bj</th>\n",
       "      <th>gdp3d_bj</th>\n",
       "      <th>验证结果</th>\n",
       "    </tr>\n",
       "    <tr>\n",
       "      <th>obs</th>\n",
       "      <th></th>\n",
       "      <th></th>\n",
       "      <th></th>\n",
       "      <th></th>\n",
       "    </tr>\n",
       "  </thead>\n",
       "  <tbody>\n",
       "    <tr>\n",
       "      <th>1997</th>\n",
       "      <td>1236.0</td>\n",
       "      <td>2870.040962</td>\n",
       "      <td>43.065587</td>\n",
       "      <td>1236.0</td>\n",
       "    </tr>\n",
       "    <tr>\n",
       "      <th>1998</th>\n",
       "      <td>1483.9</td>\n",
       "      <td>3158.278288</td>\n",
       "      <td>46.984460</td>\n",
       "      <td>1483.9</td>\n",
       "    </tr>\n",
       "  </tbody>\n",
       "</table>\n",
       "</div>"
      ],
      "text/plain": [
       "      gdp3n_bj     gdp3r_bj   gdp3d_bj    验证结果\n",
       "obs                                           \n",
       "1997    1236.0  2870.040962  43.065587  1236.0\n",
       "1998    1483.9  3158.278288  46.984460  1483.9"
      ]
     },
     "execution_count": 34,
     "metadata": {},
     "output_type": "execute_result"
    }
   ],
   "source": [
    "test1 = df_es[[\"gdp3n_bj\",\"gdp3r_bj\",\"gdp3d_bj\"]]\n",
    "test1 = test1[(test1.index>1996) & (test1.index <2018)]\n",
    "test1[\"验证结果\"] = (test1[\"gdp3r_bj\"] * test1[\"gdp3d_bj\"])/100\n",
    "test1.head(2)"
   ]
  },
  {
   "cell_type": "markdown",
   "metadata": {
    "ExecuteTime": {
     "end_time": "2020-07-07T08:19:40.438826Z",
     "start_time": "2020-07-07T08:19:40.436178Z"
    }
   },
   "source": [
    "## Eq12 : gdp2_indar_bj 行为方程 ok\n",
    "log(gdp2_indar_bj)  = @coef(1)  + @coef(2) * log(consr_bj)  + @coef(3) * log(investr_bj)  + @coef(4) * log(exusd_bj * exrate_cn)  + @coef(5) * d_gdp2_indar_bj"
   ]
  },
  {
   "cell_type": "code",
   "execution_count": 35,
   "metadata": {
    "ExecuteTime": {
     "end_time": "2020-07-08T03:44:08.809284Z",
     "start_time": "2020-07-08T03:44:08.803583Z"
    }
   },
   "outputs": [
    {
     "name": "stdout",
     "output_type": "stream",
     "text": [
      "gdp2_indar_bj 在第  1  个数据框中\n",
      "consr_bj 在第  1  个数据框中\n",
      "investr_bj 在第  1  个数据框中\n",
      "exusd_bj 在第  1  个数据框中\n",
      "exrate_cn 在第  2  个数据框中\n",
      "d_gdp2_indar_bj 在第  2  个数据框中\n"
     ]
    }
   ],
   "source": [
    "whereis([\"gdp2_indar_bj\",\"consr_bj\",\"investr_bj\",\"exusd_bj\",\"exrate_cn\",\"d_gdp2_indar_bj\"])"
   ]
  },
  {
   "cell_type": "code",
   "execution_count": 36,
   "metadata": {
    "ExecuteTime": {
     "end_time": "2020-07-08T03:44:08.825408Z",
     "start_time": "2020-07-08T03:44:08.811032Z"
    }
   },
   "outputs": [
    {
     "data": {
      "text/html": [
       "<div>\n",
       "<style scoped>\n",
       "    .dataframe tbody tr th:only-of-type {\n",
       "        vertical-align: middle;\n",
       "    }\n",
       "\n",
       "    .dataframe tbody tr th {\n",
       "        vertical-align: top;\n",
       "    }\n",
       "\n",
       "    .dataframe thead th {\n",
       "        text-align: right;\n",
       "    }\n",
       "</style>\n",
       "<table border=\"1\" class=\"dataframe\">\n",
       "  <thead>\n",
       "    <tr style=\"text-align: right;\">\n",
       "      <th></th>\n",
       "      <th>gdp2_indar_bj</th>\n",
       "      <th>consr_bj</th>\n",
       "      <th>investr_bj</th>\n",
       "      <th>exusd_bj</th>\n",
       "      <th>exrate_cn</th>\n",
       "      <th>d_gdp2_indar_bj</th>\n",
       "    </tr>\n",
       "    <tr>\n",
       "      <th>obs</th>\n",
       "      <th></th>\n",
       "      <th></th>\n",
       "      <th></th>\n",
       "      <th></th>\n",
       "      <th></th>\n",
       "      <th></th>\n",
       "    </tr>\n",
       "  </thead>\n",
       "  <tbody>\n",
       "    <tr>\n",
       "      <th>1996</th>\n",
       "      <td>691.916524</td>\n",
       "      <td>1582.300379</td>\n",
       "      <td>1148.028576</td>\n",
       "      <td>81.1975</td>\n",
       "      <td>831.42</td>\n",
       "      <td>0.0</td>\n",
       "    </tr>\n",
       "    <tr>\n",
       "      <th>1997</th>\n",
       "      <td>752.168139</td>\n",
       "      <td>1710.591485</td>\n",
       "      <td>1225.309912</td>\n",
       "      <td>96.1103</td>\n",
       "      <td>828.98</td>\n",
       "      <td>0.0</td>\n",
       "    </tr>\n",
       "  </tbody>\n",
       "</table>\n",
       "</div>"
      ],
      "text/plain": [
       "      gdp2_indar_bj     consr_bj   investr_bj  exusd_bj  exrate_cn  \\\n",
       "obs                                                                  \n",
       "1996     691.916524  1582.300379  1148.028576   81.1975     831.42   \n",
       "1997     752.168139  1710.591485  1225.309912   96.1103     828.98   \n",
       "\n",
       "      d_gdp2_indar_bj  \n",
       "obs                    \n",
       "1996              0.0  \n",
       "1997              0.0  "
      ]
     },
     "execution_count": 36,
     "metadata": {},
     "output_type": "execute_result"
    }
   ],
   "source": [
    "test1 = pd.concat([df_es[[\"gdp2_indar_bj\",\"consr_bj\",\"investr_bj\",\"exusd_bj\"]],df_other[[\"exrate_cn\",\"d_gdp2_indar_bj\"]]],axis=1)\n",
    "test1 = test1[(test1.index>1995) & (test1.index <2019)]\n",
    "test1.head(2)"
   ]
  },
  {
   "cell_type": "code",
   "execution_count": 37,
   "metadata": {
    "ExecuteTime": {
     "end_time": "2020-07-08T03:44:08.853692Z",
     "start_time": "2020-07-08T03:44:08.827023Z"
    }
   },
   "outputs": [
    {
     "data": {
      "text/html": [
       "<table class=\"simpletable\">\n",
       "<caption>OLS Regression Results</caption>\n",
       "<tr>\n",
       "  <th>Dep. Variable:</th>    <td>np.log(gdp2_indar_bj)</td> <th>  R-squared:         </th> <td>   0.997</td>\n",
       "</tr>\n",
       "<tr>\n",
       "  <th>Model:</th>                     <td>OLS</td>          <th>  Adj. R-squared:    </th> <td>   0.996</td>\n",
       "</tr>\n",
       "<tr>\n",
       "  <th>Method:</th>               <td>Least Squares</td>     <th>  F-statistic:       </th> <td>   1529.</td>\n",
       "</tr>\n",
       "<tr>\n",
       "  <th>Date:</th>               <td>Wed, 08 Jul 2020</td>    <th>  Prob (F-statistic):</th> <td>1.61e-22</td>\n",
       "</tr>\n",
       "<tr>\n",
       "  <th>Time:</th>                   <td>03:44:08</td>        <th>  Log-Likelihood:    </th> <td>  46.404</td>\n",
       "</tr>\n",
       "<tr>\n",
       "  <th>No. Observations:</th>        <td>    23</td>         <th>  AIC:               </th> <td>  -82.81</td>\n",
       "</tr>\n",
       "<tr>\n",
       "  <th>Df Residuals:</th>            <td>    18</td>         <th>  BIC:               </th> <td>  -77.13</td>\n",
       "</tr>\n",
       "<tr>\n",
       "  <th>Df Model:</th>                <td>     4</td>         <th>                     </th>     <td> </td>   \n",
       "</tr>\n",
       "<tr>\n",
       "  <th>Covariance Type:</th>        <td>nonrobust</td>       <th>                     </th>     <td> </td>   \n",
       "</tr>\n",
       "</table>\n",
       "<table class=\"simpletable\">\n",
       "<tr>\n",
       "                <td></td>                  <th>coef</th>     <th>std err</th>      <th>t</th>      <th>P>|t|</th>  <th>[0.025</th>    <th>0.975]</th>  \n",
       "</tr>\n",
       "<tr>\n",
       "  <th>Intercept</th>                    <td>   -0.1461</td> <td>    0.193</td> <td>   -0.757</td> <td> 0.459</td> <td>   -0.552</td> <td>    0.260</td>\n",
       "</tr>\n",
       "<tr>\n",
       "  <th>np.log(consr_bj)</th>             <td>    0.2604</td> <td>    0.092</td> <td>    2.840</td> <td> 0.011</td> <td>    0.068</td> <td>    0.453</td>\n",
       "</tr>\n",
       "<tr>\n",
       "  <th>np.log(investr_bj)</th>           <td>    0.5564</td> <td>    0.104</td> <td>    5.365</td> <td> 0.000</td> <td>    0.339</td> <td>    0.774</td>\n",
       "</tr>\n",
       "<tr>\n",
       "  <th>np.log(exusd_bj * exrate_cn)</th> <td>    0.0796</td> <td>    0.037</td> <td>    2.159</td> <td> 0.045</td> <td>    0.002</td> <td>    0.157</td>\n",
       "</tr>\n",
       "<tr>\n",
       "  <th>d_gdp2_indar_bj</th>              <td>    0.0901</td> <td>    0.024</td> <td>    3.682</td> <td> 0.002</td> <td>    0.039</td> <td>    0.141</td>\n",
       "</tr>\n",
       "</table>\n",
       "<table class=\"simpletable\">\n",
       "<tr>\n",
       "  <th>Omnibus:</th>       <td> 0.116</td> <th>  Durbin-Watson:     </th> <td>   1.399</td>\n",
       "</tr>\n",
       "<tr>\n",
       "  <th>Prob(Omnibus):</th> <td> 0.944</td> <th>  Jarque-Bera (JB):  </th> <td>   0.067</td>\n",
       "</tr>\n",
       "<tr>\n",
       "  <th>Skew:</th>          <td>-0.078</td> <th>  Prob(JB):          </th> <td>   0.967</td>\n",
       "</tr>\n",
       "<tr>\n",
       "  <th>Kurtosis:</th>      <td> 2.786</td> <th>  Cond. No.          </th> <td>    465.</td>\n",
       "</tr>\n",
       "</table><br/><br/>Warnings:<br/>[1] Standard Errors assume that the covariance matrix of the errors is correctly specified."
      ],
      "text/plain": [
       "<class 'statsmodels.iolib.summary.Summary'>\n",
       "\"\"\"\n",
       "                              OLS Regression Results                             \n",
       "=================================================================================\n",
       "Dep. Variable:     np.log(gdp2_indar_bj)   R-squared:                       0.997\n",
       "Model:                               OLS   Adj. R-squared:                  0.996\n",
       "Method:                    Least Squares   F-statistic:                     1529.\n",
       "Date:                   Wed, 08 Jul 2020   Prob (F-statistic):           1.61e-22\n",
       "Time:                           03:44:08   Log-Likelihood:                 46.404\n",
       "No. Observations:                     23   AIC:                            -82.81\n",
       "Df Residuals:                         18   BIC:                            -77.13\n",
       "Df Model:                              4                                         \n",
       "Covariance Type:               nonrobust                                         \n",
       "================================================================================================\n",
       "                                   coef    std err          t      P>|t|      [0.025      0.975]\n",
       "------------------------------------------------------------------------------------------------\n",
       "Intercept                       -0.1461      0.193     -0.757      0.459      -0.552       0.260\n",
       "np.log(consr_bj)                 0.2604      0.092      2.840      0.011       0.068       0.453\n",
       "np.log(investr_bj)               0.5564      0.104      5.365      0.000       0.339       0.774\n",
       "np.log(exusd_bj * exrate_cn)     0.0796      0.037      2.159      0.045       0.002       0.157\n",
       "d_gdp2_indar_bj                  0.0901      0.024      3.682      0.002       0.039       0.141\n",
       "==============================================================================\n",
       "Omnibus:                        0.116   Durbin-Watson:                   1.399\n",
       "Prob(Omnibus):                  0.944   Jarque-Bera (JB):                0.067\n",
       "Skew:                          -0.078   Prob(JB):                        0.967\n",
       "Kurtosis:                       2.786   Cond. No.                         465.\n",
       "==============================================================================\n",
       "\n",
       "Warnings:\n",
       "[1] Standard Errors assume that the covariance matrix of the errors is correctly specified.\n",
       "\"\"\""
      ]
     },
     "execution_count": 37,
     "metadata": {},
     "output_type": "execute_result"
    }
   ],
   "source": [
    "results = sm.ols(formula = \"np.log(gdp2_indar_bj) ~ np.log(consr_bj)  + np.log(investr_bj) + np.log(exusd_bj * exrate_cn) + d_gdp2_indar_bj\",data = test1 ).fit()\n",
    "results.summary()"
   ]
  },
  {
   "cell_type": "markdown",
   "metadata": {},
   "source": [
    "## Eq13 ：gdp2_bindar_bj 行为方程 NO 系数表达不一样"
   ]
  },
  {
   "cell_type": "code",
   "execution_count": 38,
   "metadata": {
    "ExecuteTime": {
     "end_time": "2020-07-08T03:44:08.859254Z",
     "start_time": "2020-07-08T03:44:08.855232Z"
    }
   },
   "outputs": [
    {
     "name": "stdout",
     "output_type": "stream",
     "text": [
      "gdp2_bindar_bj 在第  1  个数据框中\n",
      "investr_bj 在第  1  个数据框中\n"
     ]
    }
   ],
   "source": [
    "whereis([\"gdp2_bindar_bj\",\"investr_bj\"])"
   ]
  },
  {
   "cell_type": "code",
   "execution_count": 116,
   "metadata": {
    "ExecuteTime": {
     "end_time": "2020-07-08T10:13:11.173999Z",
     "start_time": "2020-07-08T10:13:11.042517Z"
    }
   },
   "outputs": [
    {
     "data": {
      "text/html": [
       "<table class=\"simpletable\">\n",
       "<caption>SARIMAX Results</caption>\n",
       "<tr>\n",
       "  <th>Dep. Variable:</th>     <td>gdp2_bindar_bj</td>   <th>  No. Observations:  </th>   <td>22</td>   \n",
       "</tr>\n",
       "<tr>\n",
       "  <th>Model:</th>           <td>SARIMAX([2], 0, 0)</td> <th>  Log Likelihood     </th> <td>36.230</td> \n",
       "</tr>\n",
       "<tr>\n",
       "  <th>Date:</th>             <td>Wed, 08 Jul 2020</td>  <th>  AIC                </th> <td>-64.459</td>\n",
       "</tr>\n",
       "<tr>\n",
       "  <th>Time:</th>                 <td>10:13:11</td>      <th>  BIC                </th> <td>-60.476</td>\n",
       "</tr>\n",
       "<tr>\n",
       "  <th>Sample:</th>              <td>01-01-1970</td>     <th>  HQIC               </th> <td>-63.682</td>\n",
       "</tr>\n",
       "<tr>\n",
       "  <th></th>                    <td>- 01-01-1970</td>    <th>                     </th>    <td> </td>   \n",
       "</tr>\n",
       "<tr>\n",
       "  <th>Covariance Type:</th>         <td>opg</td>        <th>                     </th>    <td> </td>   \n",
       "</tr>\n",
       "</table>\n",
       "<table class=\"simpletable\">\n",
       "<tr>\n",
       "       <td></td>         <th>coef</th>     <th>std err</th>      <th>z</th>      <th>P>|z|</th>  <th>[0.025</th>    <th>0.975]</th>  \n",
       "</tr>\n",
       "<tr>\n",
       "  <th>intercept</th>  <td>   -0.0572</td> <td>    0.139</td> <td>   -0.411</td> <td> 0.681</td> <td>   -0.330</td> <td>    0.216</td>\n",
       "</tr>\n",
       "<tr>\n",
       "  <th>investr_bj</th> <td>    0.3882</td> <td>    0.149</td> <td>    2.604</td> <td> 0.009</td> <td>    0.096</td> <td>    0.680</td>\n",
       "</tr>\n",
       "<tr>\n",
       "  <th>ar.L2</th>      <td>    1.0515</td> <td>    0.058</td> <td>   18.000</td> <td> 0.000</td> <td>    0.937</td> <td>    1.166</td>\n",
       "</tr>\n",
       "<tr>\n",
       "  <th>sigma2</th>     <td>    0.0016</td> <td>    0.001</td> <td>    2.277</td> <td> 0.023</td> <td>    0.000</td> <td>    0.003</td>\n",
       "</tr>\n",
       "</table>\n",
       "<table class=\"simpletable\">\n",
       "<tr>\n",
       "  <th>Ljung-Box (Q):</th>          <td>22.17</td> <th>  Jarque-Bera (JB):  </th> <td>0.66</td> \n",
       "</tr>\n",
       "<tr>\n",
       "  <th>Prob(Q):</th>                <td>0.28</td>  <th>  Prob(JB):          </th> <td>0.72</td> \n",
       "</tr>\n",
       "<tr>\n",
       "  <th>Heteroskedasticity (H):</th> <td>0.41</td>  <th>  Skew:              </th> <td>-0.35</td>\n",
       "</tr>\n",
       "<tr>\n",
       "  <th>Prob(H) (two-sided):</th>    <td>0.27</td>  <th>  Kurtosis:          </th> <td>2.44</td> \n",
       "</tr>\n",
       "</table><br/><br/>Warnings:<br/>[1] Covariance matrix calculated using the outer product of gradients (complex-step)."
      ],
      "text/plain": [
       "<class 'statsmodels.iolib.summary.Summary'>\n",
       "\"\"\"\n",
       "                               SARIMAX Results                                \n",
       "==============================================================================\n",
       "Dep. Variable:         gdp2_bindar_bj   No. Observations:                   22\n",
       "Model:             SARIMAX([2], 0, 0)   Log Likelihood                  36.230\n",
       "Date:                Wed, 08 Jul 2020   AIC                            -64.459\n",
       "Time:                        10:13:11   BIC                            -60.476\n",
       "Sample:                    01-01-1970   HQIC                           -63.682\n",
       "                         - 01-01-1970                                         \n",
       "Covariance Type:                  opg                                         \n",
       "==============================================================================\n",
       "                 coef    std err          z      P>|z|      [0.025      0.975]\n",
       "------------------------------------------------------------------------------\n",
       "intercept     -0.0572      0.139     -0.411      0.681      -0.330       0.216\n",
       "investr_bj     0.3882      0.149      2.604      0.009       0.096       0.680\n",
       "ar.L2          1.0515      0.058     18.000      0.000       0.937       1.166\n",
       "sigma2         0.0016      0.001      2.277      0.023       0.000       0.003\n",
       "===================================================================================\n",
       "Ljung-Box (Q):                       22.17   Jarque-Bera (JB):                 0.66\n",
       "Prob(Q):                              0.28   Prob(JB):                         0.72\n",
       "Heteroskedasticity (H):               0.41   Skew:                            -0.35\n",
       "Prob(H) (two-sided):                  0.27   Kurtosis:                         2.44\n",
       "===================================================================================\n",
       "\n",
       "Warnings:\n",
       "[1] Covariance matrix calculated using the outer product of gradients (complex-step).\n",
       "\"\"\""
      ]
     },
     "execution_count": 116,
     "metadata": {},
     "output_type": "execute_result"
    }
   ],
   "source": [
    "from statsmodels.tsa.statespace.sarimax import SARIMAX\n",
    "test1 = df_es[[\"gdp2_bindar_bj\",\"investr_bj\"]]\n",
    "test1 = test1[(test1.index>1996) & (test1.index <2019)]\n",
    "ar = (0,1) \n",
    "ma = 0\n",
    "mod = SARIMAX(endog = np.log(test1[\"gdp2_bindar_bj\"])  , exog = np.log(test1[\"investr_bj\"]) ,order =(ar,0,ma),enforce_invertibility= False , trend = 'c', enforce_stationarity = False)\n",
    "results = mod.fit()\n",
    "\n",
    "results.summary() #results.summary().tables[1]"
   ]
  },
  {
   "cell_type": "code",
   "execution_count": 118,
   "metadata": {
    "ExecuteTime": {
     "end_time": "2020-07-08T10:13:13.143618Z",
     "start_time": "2020-07-08T10:13:13.132611Z"
    }
   },
   "outputs": [
    {
     "data": {
      "text/html": [
       "<div>\n",
       "<style scoped>\n",
       "    .dataframe tbody tr th:only-of-type {\n",
       "        vertical-align: middle;\n",
       "    }\n",
       "\n",
       "    .dataframe tbody tr th {\n",
       "        vertical-align: top;\n",
       "    }\n",
       "\n",
       "    .dataframe thead th {\n",
       "        text-align: right;\n",
       "    }\n",
       "</style>\n",
       "<table border=\"1\" class=\"dataframe\">\n",
       "  <thead>\n",
       "    <tr style=\"text-align: right;\">\n",
       "      <th></th>\n",
       "      <th>obs</th>\n",
       "    </tr>\n",
       "  </thead>\n",
       "  <tbody>\n",
       "    <tr>\n",
       "      <th>7</th>\n",
       "      <td>1998</td>\n",
       "    </tr>\n",
       "    <tr>\n",
       "      <th>244</th>\n",
       "      <td>1999</td>\n",
       "    </tr>\n",
       "    <tr>\n",
       "      <th>153</th>\n",
       "      <td>2000</td>\n",
       "    </tr>\n",
       "    <tr>\n",
       "      <th>273</th>\n",
       "      <td>2001</td>\n",
       "    </tr>\n",
       "    <tr>\n",
       "      <th>300</th>\n",
       "      <td>2002</td>\n",
       "    </tr>\n",
       "    <tr>\n",
       "      <th>329</th>\n",
       "      <td>2003</td>\n",
       "    </tr>\n",
       "    <tr>\n",
       "      <th>356</th>\n",
       "      <td>2004</td>\n",
       "    </tr>\n",
       "    <tr>\n",
       "      <th>378</th>\n",
       "      <td>2005</td>\n",
       "    </tr>\n",
       "    <tr>\n",
       "      <th>414</th>\n",
       "      <td>2006</td>\n",
       "    </tr>\n",
       "    <tr>\n",
       "      <th>475</th>\n",
       "      <td>2007</td>\n",
       "    </tr>\n",
       "    <tr>\n",
       "      <th>482</th>\n",
       "      <td>2008</td>\n",
       "    </tr>\n",
       "    <tr>\n",
       "      <th>559</th>\n",
       "      <td>2009</td>\n",
       "    </tr>\n",
       "    <tr>\n",
       "      <th>632</th>\n",
       "      <td>2010</td>\n",
       "    </tr>\n",
       "    <tr>\n",
       "      <th>664</th>\n",
       "      <td>2011</td>\n",
       "    </tr>\n",
       "    <tr>\n",
       "      <th>703</th>\n",
       "      <td>2012</td>\n",
       "    </tr>\n",
       "    <tr>\n",
       "      <th>781</th>\n",
       "      <td>2013</td>\n",
       "    </tr>\n",
       "    <tr>\n",
       "      <th>837</th>\n",
       "      <td>2014</td>\n",
       "    </tr>\n",
       "    <tr>\n",
       "      <th>926</th>\n",
       "      <td>2015</td>\n",
       "    </tr>\n",
       "    <tr>\n",
       "      <th>1030</th>\n",
       "      <td>2016</td>\n",
       "    </tr>\n",
       "    <tr>\n",
       "      <th>1090</th>\n",
       "      <td>2017</td>\n",
       "    </tr>\n",
       "    <tr>\n",
       "      <th>1074</th>\n",
       "      <td>2018</td>\n",
       "    </tr>\n",
       "  </tbody>\n",
       "</table>\n",
       "</div>"
      ],
      "text/plain": [
       "       obs\n",
       "7     1998\n",
       "244   1999\n",
       "153   2000\n",
       "273   2001\n",
       "300   2002\n",
       "329   2003\n",
       "356   2004\n",
       "378   2005\n",
       "414   2006\n",
       "475   2007\n",
       "482   2008\n",
       "559   2009\n",
       "632   2010\n",
       "664   2011\n",
       "703   2012\n",
       "781   2013\n",
       "837   2014\n",
       "926   2015\n",
       "1030  2016\n",
       "1090  2017\n",
       "1074  2018"
      ]
     },
     "execution_count": 118,
     "metadata": {},
     "output_type": "execute_result"
    }
   ],
   "source": [
    "predict = np.exp(results.predict(exog = np.log(df_es[\"investr_bj\"])))\n",
    "#re1 = pd.DataFrame(test1.index , predict)\n",
    "re1"
   ]
  },
  {
   "cell_type": "markdown",
   "metadata": {},
   "source": [
    "## Eq14 ：gdp3r_bj 行为方程  ok\n",
    "行为方程 ：log(gdp3r_bj)  = @coef(1)  + @coef(2) * log(gdp2r_bj)  + @coef(3) * log(exusd_bj * exrate_cn)  + @coef(4) * log(gdp3r_bj(-1))"
   ]
  },
  {
   "cell_type": "code",
   "execution_count": 123,
   "metadata": {
    "ExecuteTime": {
     "end_time": "2020-07-08T10:17:20.506765Z",
     "start_time": "2020-07-08T10:17:20.501120Z"
    }
   },
   "outputs": [
    {
     "name": "stdout",
     "output_type": "stream",
     "text": [
      "gdp3r_bj 在第  1  个数据框中\n",
      "gdp2r_bj 在第  1  个数据框中\n",
      "exusd_bj 在第  1  个数据框中\n",
      "exrate_cn 在第  2  个数据框中\n"
     ]
    }
   ],
   "source": [
    "whereis([\"gdp3r_bj\",\"gdp2r_bj\",\"exusd_bj\",\"exrate_cn\"])"
   ]
  },
  {
   "cell_type": "code",
   "execution_count": 132,
   "metadata": {
    "ExecuteTime": {
     "end_time": "2020-07-08T10:28:12.237115Z",
     "start_time": "2020-07-08T10:28:12.217462Z"
    }
   },
   "outputs": [
    {
     "data": {
      "text/html": [
       "<div>\n",
       "<style scoped>\n",
       "    .dataframe tbody tr th:only-of-type {\n",
       "        vertical-align: middle;\n",
       "    }\n",
       "\n",
       "    .dataframe tbody tr th {\n",
       "        vertical-align: top;\n",
       "    }\n",
       "\n",
       "    .dataframe thead th {\n",
       "        text-align: right;\n",
       "    }\n",
       "</style>\n",
       "<table border=\"1\" class=\"dataframe\">\n",
       "  <thead>\n",
       "    <tr style=\"text-align: right;\">\n",
       "      <th></th>\n",
       "      <th>gdp3r_bj</th>\n",
       "      <th>gdp2r_bj</th>\n",
       "      <th>exusd_bj</th>\n",
       "      <th>exrate_cn</th>\n",
       "      <th>exusexrte</th>\n",
       "      <th>gdp3r_bj_s1</th>\n",
       "    </tr>\n",
       "    <tr>\n",
       "      <th>obs</th>\n",
       "      <th></th>\n",
       "      <th></th>\n",
       "      <th></th>\n",
       "      <th></th>\n",
       "      <th></th>\n",
       "      <th></th>\n",
       "    </tr>\n",
       "  </thead>\n",
       "  <tbody>\n",
       "    <tr>\n",
       "      <th>1997</th>\n",
       "      <td>2870.040962</td>\n",
       "      <td>958.614649</td>\n",
       "      <td>96.1103</td>\n",
       "      <td>828.98</td>\n",
       "      <td>79673.516494</td>\n",
       "      <td>2567.476266</td>\n",
       "    </tr>\n",
       "    <tr>\n",
       "      <th>1998</th>\n",
       "      <td>3158.278288</td>\n",
       "      <td>1049.066999</td>\n",
       "      <td>105.1293</td>\n",
       "      <td>827.91</td>\n",
       "      <td>87037.598763</td>\n",
       "      <td>2870.040962</td>\n",
       "    </tr>\n",
       "  </tbody>\n",
       "</table>\n",
       "</div>"
      ],
      "text/plain": [
       "         gdp3r_bj     gdp2r_bj  exusd_bj  exrate_cn     exusexrte  gdp3r_bj_s1\n",
       "obs                                                                           \n",
       "1997  2870.040962   958.614649   96.1103     828.98  79673.516494  2567.476266\n",
       "1998  3158.278288  1049.066999  105.1293     827.91  87037.598763  2870.040962"
      ]
     },
     "execution_count": 132,
     "metadata": {},
     "output_type": "execute_result"
    }
   ],
   "source": [
    "test1 = pd.concat([df_es[[\"gdp3r_bj\",\"gdp2r_bj\",\"exusd_bj\"]],df_other[\"exrate_cn\"]],axis =1)\n",
    "test1[\"exusexrte\"] = test1[\"exusd_bj\"]*test1[\"exrate_cn\"]\n",
    "test1[\"gdp3r_bj_s1\"] = test1[\"gdp3r_bj\"].shift(1)           \n",
    "test1 = test1[(test1.index>1996) & (test1.index <2019)]\n",
    "test1.head(2)"
   ]
  },
  {
   "cell_type": "code",
   "execution_count": 133,
   "metadata": {
    "ExecuteTime": {
     "end_time": "2020-07-08T10:28:17.419448Z",
     "start_time": "2020-07-08T10:28:17.392006Z"
    }
   },
   "outputs": [
    {
     "data": {
      "text/html": [
       "<table class=\"simpletable\">\n",
       "<caption>OLS Regression Results</caption>\n",
       "<tr>\n",
       "  <th>Dep. Variable:</th>    <td>np.log(gdp3r_bj)</td> <th>  R-squared:         </th> <td>   1.000</td> \n",
       "</tr>\n",
       "<tr>\n",
       "  <th>Model:</th>                   <td>OLS</td>       <th>  Adj. R-squared:    </th> <td>   1.000</td> \n",
       "</tr>\n",
       "<tr>\n",
       "  <th>Method:</th>             <td>Least Squares</td>  <th>  F-statistic:       </th> <td>2.808e+04</td>\n",
       "</tr>\n",
       "<tr>\n",
       "  <th>Date:</th>             <td>Wed, 08 Jul 2020</td> <th>  Prob (F-statistic):</th> <td>3.27e-33</td> \n",
       "</tr>\n",
       "<tr>\n",
       "  <th>Time:</th>                 <td>10:28:17</td>     <th>  Log-Likelihood:    </th> <td>  70.938</td> \n",
       "</tr>\n",
       "<tr>\n",
       "  <th>No. Observations:</th>      <td>    22</td>      <th>  AIC:               </th> <td>  -133.9</td> \n",
       "</tr>\n",
       "<tr>\n",
       "  <th>Df Residuals:</th>          <td>    18</td>      <th>  BIC:               </th> <td>  -129.5</td> \n",
       "</tr>\n",
       "<tr>\n",
       "  <th>Df Model:</th>              <td>     3</td>      <th>                     </th>     <td> </td>    \n",
       "</tr>\n",
       "<tr>\n",
       "  <th>Covariance Type:</th>      <td>nonrobust</td>    <th>                     </th>     <td> </td>    \n",
       "</tr>\n",
       "</table>\n",
       "<table class=\"simpletable\">\n",
       "<tr>\n",
       "           <td></td>              <th>coef</th>     <th>std err</th>      <th>t</th>      <th>P>|t|</th>  <th>[0.025</th>    <th>0.975]</th>  \n",
       "</tr>\n",
       "<tr>\n",
       "  <th>Intercept</th>           <td>    0.0381</td> <td>    0.058</td> <td>    0.659</td> <td> 0.518</td> <td>   -0.083</td> <td>    0.159</td>\n",
       "</tr>\n",
       "<tr>\n",
       "  <th>np.log(gdp2r_bj)</th>    <td>    0.2144</td> <td>    0.069</td> <td>    3.094</td> <td> 0.006</td> <td>    0.069</td> <td>    0.360</td>\n",
       "</tr>\n",
       "<tr>\n",
       "  <th>np.log(exusexrte)</th>   <td>    0.0333</td> <td>    0.011</td> <td>    3.040</td> <td> 0.007</td> <td>    0.010</td> <td>    0.056</td>\n",
       "</tr>\n",
       "<tr>\n",
       "  <th>np.log(gdp3r_bj_s1)</th> <td>    0.7745</td> <td>    0.053</td> <td>   14.716</td> <td> 0.000</td> <td>    0.664</td> <td>    0.885</td>\n",
       "</tr>\n",
       "</table>\n",
       "<table class=\"simpletable\">\n",
       "<tr>\n",
       "  <th>Omnibus:</th>       <td> 0.367</td> <th>  Durbin-Watson:     </th> <td>   0.973</td>\n",
       "</tr>\n",
       "<tr>\n",
       "  <th>Prob(Omnibus):</th> <td> 0.832</td> <th>  Jarque-Bera (JB):  </th> <td>   0.481</td>\n",
       "</tr>\n",
       "<tr>\n",
       "  <th>Skew:</th>          <td> 0.249</td> <th>  Prob(JB):          </th> <td>   0.786</td>\n",
       "</tr>\n",
       "<tr>\n",
       "  <th>Kurtosis:</th>      <td> 2.474</td> <th>  Cond. No.          </th> <td>    691.</td>\n",
       "</tr>\n",
       "</table><br/><br/>Warnings:<br/>[1] Standard Errors assume that the covariance matrix of the errors is correctly specified."
      ],
      "text/plain": [
       "<class 'statsmodels.iolib.summary.Summary'>\n",
       "\"\"\"\n",
       "                            OLS Regression Results                            \n",
       "==============================================================================\n",
       "Dep. Variable:       np.log(gdp3r_bj)   R-squared:                       1.000\n",
       "Model:                            OLS   Adj. R-squared:                  1.000\n",
       "Method:                 Least Squares   F-statistic:                 2.808e+04\n",
       "Date:                Wed, 08 Jul 2020   Prob (F-statistic):           3.27e-33\n",
       "Time:                        10:28:17   Log-Likelihood:                 70.938\n",
       "No. Observations:                  22   AIC:                            -133.9\n",
       "Df Residuals:                      18   BIC:                            -129.5\n",
       "Df Model:                           3                                         \n",
       "Covariance Type:            nonrobust                                         \n",
       "=======================================================================================\n",
       "                          coef    std err          t      P>|t|      [0.025      0.975]\n",
       "---------------------------------------------------------------------------------------\n",
       "Intercept               0.0381      0.058      0.659      0.518      -0.083       0.159\n",
       "np.log(gdp2r_bj)        0.2144      0.069      3.094      0.006       0.069       0.360\n",
       "np.log(exusexrte)       0.0333      0.011      3.040      0.007       0.010       0.056\n",
       "np.log(gdp3r_bj_s1)     0.7745      0.053     14.716      0.000       0.664       0.885\n",
       "==============================================================================\n",
       "Omnibus:                        0.367   Durbin-Watson:                   0.973\n",
       "Prob(Omnibus):                  0.832   Jarque-Bera (JB):                0.481\n",
       "Skew:                           0.249   Prob(JB):                        0.786\n",
       "Kurtosis:                       2.474   Cond. No.                         691.\n",
       "==============================================================================\n",
       "\n",
       "Warnings:\n",
       "[1] Standard Errors assume that the covariance matrix of the errors is correctly specified.\n",
       "\"\"\""
      ]
     },
     "execution_count": 133,
     "metadata": {},
     "output_type": "execute_result"
    }
   ],
   "source": [
    "results = sm.ols(formula = \"np.log(gdp3r_bj) ~ np.log(gdp2r_bj)  + np.log(exusexrte) +  np.log(gdp3r_bj_s1)\",data = test1 ).fit()\n",
    "results.summary()"
   ]
  },
  {
   "cell_type": "markdown",
   "metadata": {},
   "source": [
    "## Eq15：con_fr_bj 定义方程 NO  结果不一致(都是数据源？）\n",
    "\n",
    "定义方程 ： con_fr_bj  = con_pr_bj  + con_gr_bj\n"
   ]
  },
  {
   "cell_type": "code",
   "execution_count": 134,
   "metadata": {
    "ExecuteTime": {
     "end_time": "2020-07-08T10:29:46.138571Z",
     "start_time": "2020-07-08T10:29:46.133490Z"
    }
   },
   "outputs": [
    {
     "name": "stdout",
     "output_type": "stream",
     "text": [
      "con_fr_bj 在第  1  个数据框中\n",
      "con_pr_bj 在第  1  个数据框中\n",
      "con_gr_bj 在第  1  个数据框中\n"
     ]
    }
   ],
   "source": [
    "whereis([\"con_fr_bj\" ,\"con_pr_bj\" , \"con_gr_bj\"])"
   ]
  },
  {
   "cell_type": "code",
   "execution_count": 138,
   "metadata": {
    "ExecuteTime": {
     "end_time": "2020-07-08T10:31:37.970175Z",
     "start_time": "2020-07-08T10:31:37.903351Z"
    }
   },
   "outputs": [
    {
     "data": {
      "text/html": [
       "<div>\n",
       "<style scoped>\n",
       "    .dataframe tbody tr th:only-of-type {\n",
       "        vertical-align: middle;\n",
       "    }\n",
       "\n",
       "    .dataframe tbody tr th {\n",
       "        vertical-align: top;\n",
       "    }\n",
       "\n",
       "    .dataframe thead th {\n",
       "        text-align: right;\n",
       "    }\n",
       "</style>\n",
       "<table border=\"1\" class=\"dataframe\">\n",
       "  <thead>\n",
       "    <tr style=\"text-align: right;\">\n",
       "      <th></th>\n",
       "      <th>con_fr_bj</th>\n",
       "      <th>con_pr_bj</th>\n",
       "      <th>con_gr_bj</th>\n",
       "      <th>验证结果</th>\n",
       "    </tr>\n",
       "    <tr>\n",
       "      <th>obs</th>\n",
       "      <th></th>\n",
       "      <th></th>\n",
       "      <th></th>\n",
       "      <th></th>\n",
       "    </tr>\n",
       "  </thead>\n",
       "  <tbody>\n",
       "    <tr>\n",
       "      <th>2017</th>\n",
       "      <td>16366.882105</td>\n",
       "      <td>11137.377728</td>\n",
       "      <td>5228.473914</td>\n",
       "      <td>16365.851642</td>\n",
       "    </tr>\n",
       "    <tr>\n",
       "      <th>2018</th>\n",
       "      <td>17627.132027</td>\n",
       "      <td>11794.483014</td>\n",
       "      <td>5829.748414</td>\n",
       "      <td>17624.231428</td>\n",
       "    </tr>\n",
       "    <tr>\n",
       "      <th>2019</th>\n",
       "      <td>NaN</td>\n",
       "      <td>NaN</td>\n",
       "      <td>NaN</td>\n",
       "      <td>NaN</td>\n",
       "    </tr>\n",
       "    <tr>\n",
       "      <th>2020</th>\n",
       "      <td>NaN</td>\n",
       "      <td>NaN</td>\n",
       "      <td>NaN</td>\n",
       "      <td>NaN</td>\n",
       "    </tr>\n",
       "  </tbody>\n",
       "</table>\n",
       "</div>"
      ],
      "text/plain": [
       "         con_fr_bj     con_pr_bj    con_gr_bj          验证结果\n",
       "obs                                                        \n",
       "2017  16366.882105  11137.377728  5228.473914  16365.851642\n",
       "2018  17627.132027  11794.483014  5829.748414  17624.231428\n",
       "2019           NaN           NaN          NaN           NaN\n",
       "2020           NaN           NaN          NaN           NaN"
      ]
     },
     "execution_count": 138,
     "metadata": {},
     "output_type": "execute_result"
    }
   ],
   "source": [
    "test1 = df_es[[\"con_fr_bj\" ,\"con_pr_bj\" , \"con_gr_bj\"]]\n",
    "test1[\"验证结果\"] = (test1[\"con_pr_bj\"] + test1[\"con_gr_bj\"])\n",
    "test1.tail(4)"
   ]
  },
  {
   "cell_type": "markdown",
   "metadata": {},
   "source": [
    "## Eq16：con_gr_bj 定义方程 ok\n",
    "定义方程 ： con_gr_bj  = con_gn_bj  / pcon_gd_bj  * 100"
   ]
  },
  {
   "cell_type": "code",
   "execution_count": 11,
   "metadata": {
    "ExecuteTime": {
     "end_time": "2020-07-09T01:30:49.124495Z",
     "start_time": "2020-07-09T01:30:49.118275Z"
    }
   },
   "outputs": [
    {
     "name": "stdout",
     "output_type": "stream",
     "text": [
      "con_gr_bj 在第  1  个数据框中\n",
      "con_gn_bj 在第  1  个数据框中\n"
     ]
    }
   ],
   "source": [
    "whereis([\"con_gr_bj\" ,\"con_gn_bj\" , \"pcon_gd_bj\"])"
   ]
  },
  {
   "cell_type": "code",
   "execution_count": 17,
   "metadata": {
    "ExecuteTime": {
     "end_time": "2020-07-09T01:33:28.404008Z",
     "start_time": "2020-07-09T01:33:28.389276Z"
    }
   },
   "outputs": [
    {
     "data": {
      "text/html": [
       "<div>\n",
       "<style scoped>\n",
       "    .dataframe tbody tr th:only-of-type {\n",
       "        vertical-align: middle;\n",
       "    }\n",
       "\n",
       "    .dataframe tbody tr th {\n",
       "        vertical-align: top;\n",
       "    }\n",
       "\n",
       "    .dataframe thead th {\n",
       "        text-align: right;\n",
       "    }\n",
       "</style>\n",
       "<table border=\"1\" class=\"dataframe\">\n",
       "  <thead>\n",
       "    <tr style=\"text-align: right;\">\n",
       "      <th></th>\n",
       "      <th>con_gr_bj</th>\n",
       "      <th>con_gn_bj</th>\n",
       "      <th>pcon_gd_bj</th>\n",
       "      <th>验证结果</th>\n",
       "    </tr>\n",
       "    <tr>\n",
       "      <th>obs</th>\n",
       "      <th></th>\n",
       "      <th></th>\n",
       "      <th></th>\n",
       "      <th></th>\n",
       "    </tr>\n",
       "  </thead>\n",
       "  <tbody>\n",
       "    <tr>\n",
       "      <th>2017</th>\n",
       "      <td>5228.473914</td>\n",
       "      <td>5350.60</td>\n",
       "      <td>103.179584</td>\n",
       "      <td>5185.715815</td>\n",
       "    </tr>\n",
       "    <tr>\n",
       "      <th>2018</th>\n",
       "      <td>5829.748414</td>\n",
       "      <td>6055.97</td>\n",
       "      <td>105.582669</td>\n",
       "      <td>5735.761409</td>\n",
       "    </tr>\n",
       "    <tr>\n",
       "      <th>2019</th>\n",
       "      <td>NaN</td>\n",
       "      <td>NaN</td>\n",
       "      <td>NaN</td>\n",
       "      <td>NaN</td>\n",
       "    </tr>\n",
       "    <tr>\n",
       "      <th>2020</th>\n",
       "      <td>NaN</td>\n",
       "      <td>NaN</td>\n",
       "      <td>NaN</td>\n",
       "      <td>NaN</td>\n",
       "    </tr>\n",
       "  </tbody>\n",
       "</table>\n",
       "</div>"
      ],
      "text/plain": [
       "        con_gr_bj  con_gn_bj  pcon_gd_bj         验证结果\n",
       "obs                                                  \n",
       "2017  5228.473914    5350.60  103.179584  5185.715815\n",
       "2018  5829.748414    6055.97  105.582669  5735.761409\n",
       "2019          NaN        NaN         NaN          NaN\n",
       "2020          NaN        NaN         NaN          NaN"
      ]
     },
     "execution_count": 17,
     "metadata": {},
     "output_type": "execute_result"
    }
   ],
   "source": [
    "test1 = pd.concat([df_es[[\"con_gr_bj\" ,\"con_gn_bj\"]],df_other[\"pcon_gd_bj\"]],axis =1)\n",
    "test1[\"验证结果\"] = (test1[\"con_gn_bj\"] /test1[\"pcon_gd_bj\"])*100\n",
    "test1.tail(4)"
   ]
  },
  {
   "cell_type": "markdown",
   "metadata": {},
   "source": [
    "## Eq17 ： con_pr_bj 定义方程 ok\n",
    "\n",
    "定义方程 ： con_pr_bj  = con_pur_bj  + con_prr_bj\n"
   ]
  },
  {
   "cell_type": "code",
   "execution_count": 18,
   "metadata": {
    "ExecuteTime": {
     "end_time": "2020-07-09T01:34:41.508516Z",
     "start_time": "2020-07-09T01:34:41.503129Z"
    }
   },
   "outputs": [
    {
     "name": "stdout",
     "output_type": "stream",
     "text": [
      "con_pr_bj 在第  1  个数据框中\n",
      "con_pur_bj 在第  1  个数据框中\n",
      "con_prr_bj 在第  1  个数据框中\n"
     ]
    }
   ],
   "source": [
    "whereis([\"con_pr_bj\" ,\"con_pur_bj\" , \"con_prr_bj\"])"
   ]
  },
  {
   "cell_type": "code",
   "execution_count": 20,
   "metadata": {
    "ExecuteTime": {
     "end_time": "2020-07-09T01:36:24.110483Z",
     "start_time": "2020-07-09T01:36:24.034015Z"
    }
   },
   "outputs": [
    {
     "data": {
      "text/html": [
       "<div>\n",
       "<style scoped>\n",
       "    .dataframe tbody tr th:only-of-type {\n",
       "        vertical-align: middle;\n",
       "    }\n",
       "\n",
       "    .dataframe tbody tr th {\n",
       "        vertical-align: top;\n",
       "    }\n",
       "\n",
       "    .dataframe thead th {\n",
       "        text-align: right;\n",
       "    }\n",
       "</style>\n",
       "<table border=\"1\" class=\"dataframe\">\n",
       "  <thead>\n",
       "    <tr style=\"text-align: right;\">\n",
       "      <th></th>\n",
       "      <th>con_pr_bj</th>\n",
       "      <th>con_pur_bj</th>\n",
       "      <th>con_prr_bj</th>\n",
       "      <th>预测</th>\n",
       "    </tr>\n",
       "    <tr>\n",
       "      <th>obs</th>\n",
       "      <th></th>\n",
       "      <th></th>\n",
       "      <th></th>\n",
       "      <th></th>\n",
       "    </tr>\n",
       "  </thead>\n",
       "  <tbody>\n",
       "    <tr>\n",
       "      <th>2017</th>\n",
       "      <td>11137.377728</td>\n",
       "      <td>10390.265568</td>\n",
       "      <td>747.112160</td>\n",
       "      <td>11137.377728</td>\n",
       "    </tr>\n",
       "    <tr>\n",
       "      <th>2018</th>\n",
       "      <td>11794.483014</td>\n",
       "      <td>10992.900971</td>\n",
       "      <td>801.582043</td>\n",
       "      <td>11794.483014</td>\n",
       "    </tr>\n",
       "    <tr>\n",
       "      <th>2019</th>\n",
       "      <td>NaN</td>\n",
       "      <td>NaN</td>\n",
       "      <td>NaN</td>\n",
       "      <td>NaN</td>\n",
       "    </tr>\n",
       "    <tr>\n",
       "      <th>2020</th>\n",
       "      <td>NaN</td>\n",
       "      <td>NaN</td>\n",
       "      <td>NaN</td>\n",
       "      <td>NaN</td>\n",
       "    </tr>\n",
       "  </tbody>\n",
       "</table>\n",
       "</div>"
      ],
      "text/plain": [
       "         con_pr_bj    con_pur_bj  con_prr_bj            预测\n",
       "obs                                                       \n",
       "2017  11137.377728  10390.265568  747.112160  11137.377728\n",
       "2018  11794.483014  10992.900971  801.582043  11794.483014\n",
       "2019           NaN           NaN         NaN           NaN\n",
       "2020           NaN           NaN         NaN           NaN"
      ]
     },
     "execution_count": 20,
     "metadata": {},
     "output_type": "execute_result"
    }
   ],
   "source": [
    "test1 = df_es[[\"con_pr_bj\" ,\"con_pur_bj\" , \"con_prr_bj\"]]\n",
    "test1[\"预测\"] = (test1[\"con_pur_bj\"] + test1[\"con_prr_bj\"])\n",
    "test1.tail(4)"
   ]
  },
  {
   "cell_type": "markdown",
   "metadata": {},
   "source": [
    "## Eq18 ：con_fn_bj 定义方程 ok\n",
    "con_fn_bj  = con_pn_bj  + con_gn_bj"
   ]
  },
  {
   "cell_type": "code",
   "execution_count": 21,
   "metadata": {
    "ExecuteTime": {
     "end_time": "2020-07-09T01:40:22.603272Z",
     "start_time": "2020-07-09T01:40:22.598791Z"
    }
   },
   "outputs": [
    {
     "name": "stdout",
     "output_type": "stream",
     "text": [
      "con_fn_bj 在第  1  个数据框中\n",
      "con_pn_bj 在第  1  个数据框中\n",
      "con_gn_bj 在第  1  个数据框中\n"
     ]
    }
   ],
   "source": [
    "whereis([\"con_fn_bj\" ,\"con_pn_bj\" , \"con_gn_bj\"])"
   ]
  },
  {
   "cell_type": "code",
   "execution_count": 22,
   "metadata": {
    "ExecuteTime": {
     "end_time": "2020-07-09T01:40:57.195876Z",
     "start_time": "2020-07-09T01:40:57.123820Z"
    }
   },
   "outputs": [
    {
     "data": {
      "text/html": [
       "<div>\n",
       "<style scoped>\n",
       "    .dataframe tbody tr th:only-of-type {\n",
       "        vertical-align: middle;\n",
       "    }\n",
       "\n",
       "    .dataframe tbody tr th {\n",
       "        vertical-align: top;\n",
       "    }\n",
       "\n",
       "    .dataframe thead th {\n",
       "        text-align: right;\n",
       "    }\n",
       "</style>\n",
       "<table border=\"1\" class=\"dataframe\">\n",
       "  <thead>\n",
       "    <tr style=\"text-align: right;\">\n",
       "      <th></th>\n",
       "      <th>con_fn_bj</th>\n",
       "      <th>con_pn_bj</th>\n",
       "      <th>con_gn_bj</th>\n",
       "      <th>预测</th>\n",
       "    </tr>\n",
       "    <tr>\n",
       "      <th>obs</th>\n",
       "      <th></th>\n",
       "      <th></th>\n",
       "      <th></th>\n",
       "      <th></th>\n",
       "    </tr>\n",
       "  </thead>\n",
       "  <tbody>\n",
       "    <tr>\n",
       "      <th>2017</th>\n",
       "      <td>16842.1</td>\n",
       "      <td>11491.50</td>\n",
       "      <td>5350.60</td>\n",
       "      <td>16842.1</td>\n",
       "    </tr>\n",
       "    <tr>\n",
       "      <th>2018</th>\n",
       "      <td>18508.9</td>\n",
       "      <td>12452.93</td>\n",
       "      <td>6055.97</td>\n",
       "      <td>18508.9</td>\n",
       "    </tr>\n",
       "    <tr>\n",
       "      <th>2019</th>\n",
       "      <td>NaN</td>\n",
       "      <td>NaN</td>\n",
       "      <td>NaN</td>\n",
       "      <td>NaN</td>\n",
       "    </tr>\n",
       "    <tr>\n",
       "      <th>2020</th>\n",
       "      <td>NaN</td>\n",
       "      <td>NaN</td>\n",
       "      <td>NaN</td>\n",
       "      <td>NaN</td>\n",
       "    </tr>\n",
       "  </tbody>\n",
       "</table>\n",
       "</div>"
      ],
      "text/plain": [
       "      con_fn_bj  con_pn_bj  con_gn_bj       预测\n",
       "obs                                           \n",
       "2017    16842.1   11491.50    5350.60  16842.1\n",
       "2018    18508.9   12452.93    6055.97  18508.9\n",
       "2019        NaN        NaN        NaN      NaN\n",
       "2020        NaN        NaN        NaN      NaN"
      ]
     },
     "execution_count": 22,
     "metadata": {},
     "output_type": "execute_result"
    }
   ],
   "source": [
    "test1 = df_es[[\"con_fn_bj\" ,\"con_pn_bj\" , \"con_gn_bj\"]]\n",
    "test1[\"预测\"] = (test1[\"con_pn_bj\"] + test1[\"con_gn_bj\"])\n",
    "test1.tail(4)"
   ]
  },
  {
   "cell_type": "markdown",
   "metadata": {},
   "source": [
    "## Eq19 ：con_pn_bj 定义方程 ok\n",
    "con_pn_bj  = con_pun_bj  + con_prn_bj"
   ]
  },
  {
   "cell_type": "code",
   "execution_count": 23,
   "metadata": {
    "ExecuteTime": {
     "end_time": "2020-07-09T01:42:35.898942Z",
     "start_time": "2020-07-09T01:42:35.893748Z"
    }
   },
   "outputs": [
    {
     "name": "stdout",
     "output_type": "stream",
     "text": [
      "con_pn_bj 在第  1  个数据框中\n",
      "con_pun_bj 在第  1  个数据框中\n",
      "con_prn_bj 在第  1  个数据框中\n"
     ]
    }
   ],
   "source": [
    "whereis([\"con_pn_bj\" ,\"con_pun_bj\" , \"con_prn_bj\"])"
   ]
  },
  {
   "cell_type": "code",
   "execution_count": 25,
   "metadata": {
    "ExecuteTime": {
     "end_time": "2020-07-09T01:43:12.032671Z",
     "start_time": "2020-07-09T01:43:11.956119Z"
    }
   },
   "outputs": [
    {
     "data": {
      "text/html": [
       "<div>\n",
       "<style scoped>\n",
       "    .dataframe tbody tr th:only-of-type {\n",
       "        vertical-align: middle;\n",
       "    }\n",
       "\n",
       "    .dataframe tbody tr th {\n",
       "        vertical-align: top;\n",
       "    }\n",
       "\n",
       "    .dataframe thead th {\n",
       "        text-align: right;\n",
       "    }\n",
       "</style>\n",
       "<table border=\"1\" class=\"dataframe\">\n",
       "  <thead>\n",
       "    <tr style=\"text-align: right;\">\n",
       "      <th></th>\n",
       "      <th>con_pn_bj</th>\n",
       "      <th>con_pun_bj</th>\n",
       "      <th>con_prn_bj</th>\n",
       "      <th>预测</th>\n",
       "    </tr>\n",
       "    <tr>\n",
       "      <th>obs</th>\n",
       "      <th></th>\n",
       "      <th></th>\n",
       "      <th></th>\n",
       "      <th></th>\n",
       "    </tr>\n",
       "  </thead>\n",
       "  <tbody>\n",
       "    <tr>\n",
       "      <th>2017</th>\n",
       "      <td>11491.50</td>\n",
       "      <td>10724.000000</td>\n",
       "      <td>767.500000</td>\n",
       "      <td>11491.50</td>\n",
       "    </tr>\n",
       "    <tr>\n",
       "      <th>2018</th>\n",
       "      <td>12452.93</td>\n",
       "      <td>11615.927984</td>\n",
       "      <td>837.002016</td>\n",
       "      <td>12452.93</td>\n",
       "    </tr>\n",
       "    <tr>\n",
       "      <th>2019</th>\n",
       "      <td>NaN</td>\n",
       "      <td>NaN</td>\n",
       "      <td>NaN</td>\n",
       "      <td>NaN</td>\n",
       "    </tr>\n",
       "    <tr>\n",
       "      <th>2020</th>\n",
       "      <td>NaN</td>\n",
       "      <td>NaN</td>\n",
       "      <td>NaN</td>\n",
       "      <td>NaN</td>\n",
       "    </tr>\n",
       "  </tbody>\n",
       "</table>\n",
       "</div>"
      ],
      "text/plain": [
       "      con_pn_bj    con_pun_bj  con_prn_bj        预测\n",
       "obs                                                \n",
       "2017   11491.50  10724.000000  767.500000  11491.50\n",
       "2018   12452.93  11615.927984  837.002016  12452.93\n",
       "2019        NaN           NaN         NaN       NaN\n",
       "2020        NaN           NaN         NaN       NaN"
      ]
     },
     "execution_count": 25,
     "metadata": {},
     "output_type": "execute_result"
    }
   ],
   "source": [
    "test1 = df_es[[\"con_pn_bj\" ,\"con_pun_bj\" , \"con_prn_bj\"]]\n",
    "test1[\"预测\"] = (test1[\"con_pun_bj\"] + test1[\"con_prn_bj\"])\n",
    "test1.tail(4)"
   ]
  },
  {
   "cell_type": "markdown",
   "metadata": {},
   "source": [
    "## Eq20 ：con_pun_bj 定义方程 ok\n",
    "con_pun_bj  = con_pur_bj  * pcon_pud_bj  / 100"
   ]
  },
  {
   "cell_type": "code",
   "execution_count": 30,
   "metadata": {
    "ExecuteTime": {
     "end_time": "2020-07-09T01:49:57.309299Z",
     "start_time": "2020-07-09T01:49:57.304654Z"
    }
   },
   "outputs": [
    {
     "name": "stdout",
     "output_type": "stream",
     "text": [
      "con_pun_bj 在第  1  个数据框中\n",
      "con_pur_bj 在第  1  个数据框中\n"
     ]
    }
   ],
   "source": [
    "whereis([\"con_pun_bj\" ,\"con_pur_bj\" , \"pcon_pud_bj\"])"
   ]
  },
  {
   "cell_type": "code",
   "execution_count": 32,
   "metadata": {
    "ExecuteTime": {
     "end_time": "2020-07-09T01:51:16.855803Z",
     "start_time": "2020-07-09T01:51:16.840025Z"
    }
   },
   "outputs": [
    {
     "data": {
      "text/html": [
       "<div>\n",
       "<style scoped>\n",
       "    .dataframe tbody tr th:only-of-type {\n",
       "        vertical-align: middle;\n",
       "    }\n",
       "\n",
       "    .dataframe tbody tr th {\n",
       "        vertical-align: top;\n",
       "    }\n",
       "\n",
       "    .dataframe thead th {\n",
       "        text-align: right;\n",
       "    }\n",
       "</style>\n",
       "<table border=\"1\" class=\"dataframe\">\n",
       "  <thead>\n",
       "    <tr style=\"text-align: right;\">\n",
       "      <th></th>\n",
       "      <th>con_pun_bj</th>\n",
       "      <th>con_pur_bj</th>\n",
       "      <th>pcon_pud_bj</th>\n",
       "      <th>验证结果</th>\n",
       "    </tr>\n",
       "    <tr>\n",
       "      <th>obs</th>\n",
       "      <th></th>\n",
       "      <th></th>\n",
       "      <th></th>\n",
       "      <th></th>\n",
       "    </tr>\n",
       "  </thead>\n",
       "  <tbody>\n",
       "    <tr>\n",
       "      <th>2017</th>\n",
       "      <td>10724.000000</td>\n",
       "      <td>10390.265568</td>\n",
       "      <td>103.211991</td>\n",
       "      <td>10724.000005</td>\n",
       "    </tr>\n",
       "    <tr>\n",
       "      <th>2018</th>\n",
       "      <td>11615.927984</td>\n",
       "      <td>10992.900971</td>\n",
       "      <td>105.667540</td>\n",
       "      <td>11615.927987</td>\n",
       "    </tr>\n",
       "    <tr>\n",
       "      <th>2019</th>\n",
       "      <td>NaN</td>\n",
       "      <td>NaN</td>\n",
       "      <td>NaN</td>\n",
       "      <td>NaN</td>\n",
       "    </tr>\n",
       "    <tr>\n",
       "      <th>2020</th>\n",
       "      <td>NaN</td>\n",
       "      <td>NaN</td>\n",
       "      <td>NaN</td>\n",
       "      <td>NaN</td>\n",
       "    </tr>\n",
       "  </tbody>\n",
       "</table>\n",
       "</div>"
      ],
      "text/plain": [
       "        con_pun_bj    con_pur_bj  pcon_pud_bj          验证结果\n",
       "obs                                                        \n",
       "2017  10724.000000  10390.265568   103.211991  10724.000005\n",
       "2018  11615.927984  10992.900971   105.667540  11615.927987\n",
       "2019           NaN           NaN          NaN           NaN\n",
       "2020           NaN           NaN          NaN           NaN"
      ]
     },
     "execution_count": 32,
     "metadata": {},
     "output_type": "execute_result"
    }
   ],
   "source": [
    "test1 = pd.concat([df_es[[\"con_pun_bj\" ,\"con_pur_bj\"]],df_other[\"pcon_pud_bj\"]],axis =1)\n",
    "test1[\"验证结果\"] = (test1[\"con_pur_bj\"] * test1[\"pcon_pud_bj\"])/100\n",
    "test1.tail(4)"
   ]
  },
  {
   "cell_type": "markdown",
   "metadata": {},
   "source": [
    "## Eq21 ：con_prn_bj 定义方程 ok\n",
    "con_prn_bj  = con_prr_bj  * pcon_prd_bj  / 100"
   ]
  },
  {
   "cell_type": "code",
   "execution_count": 35,
   "metadata": {
    "ExecuteTime": {
     "end_time": "2020-07-09T01:59:30.473483Z",
     "start_time": "2020-07-09T01:59:30.468694Z"
    }
   },
   "outputs": [
    {
     "name": "stdout",
     "output_type": "stream",
     "text": [
      "con_prn_bj 在第  1  个数据框中\n",
      "con_prr_bj 在第  1  个数据框中\n"
     ]
    }
   ],
   "source": [
    "whereis([\"con_prn_bj\" ,\"con_prr_bj\" , \"pcon_prd_bj\"])"
   ]
  },
  {
   "cell_type": "code",
   "execution_count": 36,
   "metadata": {
    "ExecuteTime": {
     "end_time": "2020-07-09T02:01:33.733408Z",
     "start_time": "2020-07-09T02:01:33.718055Z"
    }
   },
   "outputs": [
    {
     "data": {
      "text/html": [
       "<div>\n",
       "<style scoped>\n",
       "    .dataframe tbody tr th:only-of-type {\n",
       "        vertical-align: middle;\n",
       "    }\n",
       "\n",
       "    .dataframe tbody tr th {\n",
       "        vertical-align: top;\n",
       "    }\n",
       "\n",
       "    .dataframe thead th {\n",
       "        text-align: right;\n",
       "    }\n",
       "</style>\n",
       "<table border=\"1\" class=\"dataframe\">\n",
       "  <thead>\n",
       "    <tr style=\"text-align: right;\">\n",
       "      <th></th>\n",
       "      <th>con_prn_bj</th>\n",
       "      <th>con_prr_bj</th>\n",
       "      <th>pcon_prd_bj</th>\n",
       "      <th>验证结果</th>\n",
       "    </tr>\n",
       "    <tr>\n",
       "      <th>obs</th>\n",
       "      <th></th>\n",
       "      <th></th>\n",
       "      <th></th>\n",
       "      <th></th>\n",
       "    </tr>\n",
       "  </thead>\n",
       "  <tbody>\n",
       "    <tr>\n",
       "      <th>2017</th>\n",
       "      <td>767.500000</td>\n",
       "      <td>747.112160</td>\n",
       "      <td>102.728886</td>\n",
       "      <td>767.500000</td>\n",
       "    </tr>\n",
       "    <tr>\n",
       "      <th>2018</th>\n",
       "      <td>837.002016</td>\n",
       "      <td>801.582043</td>\n",
       "      <td>104.418758</td>\n",
       "      <td>837.002016</td>\n",
       "    </tr>\n",
       "    <tr>\n",
       "      <th>2019</th>\n",
       "      <td>NaN</td>\n",
       "      <td>NaN</td>\n",
       "      <td>NaN</td>\n",
       "      <td>NaN</td>\n",
       "    </tr>\n",
       "    <tr>\n",
       "      <th>2020</th>\n",
       "      <td>NaN</td>\n",
       "      <td>NaN</td>\n",
       "      <td>NaN</td>\n",
       "      <td>NaN</td>\n",
       "    </tr>\n",
       "  </tbody>\n",
       "</table>\n",
       "</div>"
      ],
      "text/plain": [
       "      con_prn_bj  con_prr_bj  pcon_prd_bj        验证结果\n",
       "obs                                                  \n",
       "2017  767.500000  747.112160   102.728886  767.500000\n",
       "2018  837.002016  801.582043   104.418758  837.002016\n",
       "2019         NaN         NaN          NaN         NaN\n",
       "2020         NaN         NaN          NaN         NaN"
      ]
     },
     "execution_count": 36,
     "metadata": {},
     "output_type": "execute_result"
    }
   ],
   "source": [
    "test1 = pd.concat([df_es[[\"con_prn_bj\" ,\"con_prr_bj\"]],df_other[\"pcon_prd_bj\"]],axis =1)\n",
    "test1[\"验证结果\"] = (test1[\"con_prr_bj\"] * test1[\"pcon_prd_bj\"])/100\n",
    "test1.tail(4)"
   ]
  },
  {
   "cell_type": "markdown",
   "metadata": {},
   "source": [
    "## Eq22 : con_gn_bj 行为方程 ok\n",
    "con_gn_bj  = @coef(1)  + @coef(2) * fen_bj"
   ]
  },
  {
   "cell_type": "code",
   "execution_count": 37,
   "metadata": {
    "ExecuteTime": {
     "end_time": "2020-07-09T02:04:08.593790Z",
     "start_time": "2020-07-09T02:04:08.588979Z"
    }
   },
   "outputs": [
    {
     "name": "stdout",
     "output_type": "stream",
     "text": [
      "con_gn_bj 在第  1  个数据框中\n",
      "fen_bj 在第  1  个数据框中\n"
     ]
    }
   ],
   "source": [
    "whereis([\"con_gn_bj\" ,\"fen_bj\" ])"
   ]
  },
  {
   "cell_type": "code",
   "execution_count": 38,
   "metadata": {
    "ExecuteTime": {
     "end_time": "2020-07-09T02:06:10.880386Z",
     "start_time": "2020-07-09T02:06:10.868142Z"
    }
   },
   "outputs": [
    {
     "data": {
      "text/html": [
       "<div>\n",
       "<style scoped>\n",
       "    .dataframe tbody tr th:only-of-type {\n",
       "        vertical-align: middle;\n",
       "    }\n",
       "\n",
       "    .dataframe tbody tr th {\n",
       "        vertical-align: top;\n",
       "    }\n",
       "\n",
       "    .dataframe thead th {\n",
       "        text-align: right;\n",
       "    }\n",
       "</style>\n",
       "<table border=\"1\" class=\"dataframe\">\n",
       "  <thead>\n",
       "    <tr style=\"text-align: right;\">\n",
       "      <th></th>\n",
       "      <th>con_gn_bj</th>\n",
       "      <th>fen_bj</th>\n",
       "    </tr>\n",
       "    <tr>\n",
       "      <th>obs</th>\n",
       "      <th></th>\n",
       "      <th></th>\n",
       "    </tr>\n",
       "  </thead>\n",
       "  <tbody>\n",
       "    <tr>\n",
       "      <th>1997</th>\n",
       "      <td>205.4</td>\n",
       "      <td>236.39</td>\n",
       "    </tr>\n",
       "    <tr>\n",
       "      <th>1998</th>\n",
       "      <td>238.4</td>\n",
       "      <td>280.68</td>\n",
       "    </tr>\n",
       "  </tbody>\n",
       "</table>\n",
       "</div>"
      ],
      "text/plain": [
       "      con_gn_bj  fen_bj\n",
       "obs                    \n",
       "1997      205.4  236.39\n",
       "1998      238.4  280.68"
      ]
     },
     "execution_count": 38,
     "metadata": {},
     "output_type": "execute_result"
    }
   ],
   "source": [
    "test1 = df_es[[\"con_gn_bj\",\"fen_bj\"]]\n",
    "test1 = test1[(test1.index>1996) & (test1.index <2019)]\n",
    "test1.head(2)"
   ]
  },
  {
   "cell_type": "code",
   "execution_count": 39,
   "metadata": {
    "ExecuteTime": {
     "end_time": "2020-07-09T02:07:18.424676Z",
     "start_time": "2020-07-09T02:07:18.393678Z"
    }
   },
   "outputs": [
    {
     "data": {
      "text/html": [
       "<table class=\"simpletable\">\n",
       "<caption>OLS Regression Results</caption>\n",
       "<tr>\n",
       "  <th>Dep. Variable:</th>        <td>con_gn_bj</td>    <th>  R-squared:         </th> <td>   0.992</td>\n",
       "</tr>\n",
       "<tr>\n",
       "  <th>Model:</th>                   <td>OLS</td>       <th>  Adj. R-squared:    </th> <td>   0.991</td>\n",
       "</tr>\n",
       "<tr>\n",
       "  <th>Method:</th>             <td>Least Squares</td>  <th>  F-statistic:       </th> <td>   2370.</td>\n",
       "</tr>\n",
       "<tr>\n",
       "  <th>Date:</th>             <td>Thu, 09 Jul 2020</td> <th>  Prob (F-statistic):</th> <td>2.97e-22</td>\n",
       "</tr>\n",
       "<tr>\n",
       "  <th>Time:</th>                 <td>02:07:18</td>     <th>  Log-Likelihood:    </th> <td> -143.60</td>\n",
       "</tr>\n",
       "<tr>\n",
       "  <th>No. Observations:</th>      <td>    22</td>      <th>  AIC:               </th> <td>   291.2</td>\n",
       "</tr>\n",
       "<tr>\n",
       "  <th>Df Residuals:</th>          <td>    20</td>      <th>  BIC:               </th> <td>   293.4</td>\n",
       "</tr>\n",
       "<tr>\n",
       "  <th>Df Model:</th>              <td>     1</td>      <th>                     </th>     <td> </td>   \n",
       "</tr>\n",
       "<tr>\n",
       "  <th>Covariance Type:</th>      <td>nonrobust</td>    <th>                     </th>     <td> </td>   \n",
       "</tr>\n",
       "</table>\n",
       "<table class=\"simpletable\">\n",
       "<tr>\n",
       "      <td></td>         <th>coef</th>     <th>std err</th>      <th>t</th>      <th>P>|t|</th>  <th>[0.025</th>    <th>0.975]</th>  \n",
       "</tr>\n",
       "<tr>\n",
       "  <th>Intercept</th> <td>  100.0392</td> <td>   56.115</td> <td>    1.783</td> <td> 0.090</td> <td>  -17.014</td> <td>  217.092</td>\n",
       "</tr>\n",
       "<tr>\n",
       "  <th>fen_bj</th>    <td>    0.7902</td> <td>    0.016</td> <td>   48.686</td> <td> 0.000</td> <td>    0.756</td> <td>    0.824</td>\n",
       "</tr>\n",
       "</table>\n",
       "<table class=\"simpletable\">\n",
       "<tr>\n",
       "  <th>Omnibus:</th>       <td> 1.814</td> <th>  Durbin-Watson:     </th> <td>   1.059</td>\n",
       "</tr>\n",
       "<tr>\n",
       "  <th>Prob(Omnibus):</th> <td> 0.404</td> <th>  Jarque-Bera (JB):  </th> <td>   0.560</td>\n",
       "</tr>\n",
       "<tr>\n",
       "  <th>Skew:</th>          <td> 0.244</td> <th>  Prob(JB):          </th> <td>   0.756</td>\n",
       "</tr>\n",
       "<tr>\n",
       "  <th>Kurtosis:</th>      <td> 3.610</td> <th>  Cond. No.          </th> <td>5.25e+03</td>\n",
       "</tr>\n",
       "</table><br/><br/>Warnings:<br/>[1] Standard Errors assume that the covariance matrix of the errors is correctly specified.<br/>[2] The condition number is large, 5.25e+03. This might indicate that there are<br/>strong multicollinearity or other numerical problems."
      ],
      "text/plain": [
       "<class 'statsmodels.iolib.summary.Summary'>\n",
       "\"\"\"\n",
       "                            OLS Regression Results                            \n",
       "==============================================================================\n",
       "Dep. Variable:              con_gn_bj   R-squared:                       0.992\n",
       "Model:                            OLS   Adj. R-squared:                  0.991\n",
       "Method:                 Least Squares   F-statistic:                     2370.\n",
       "Date:                Thu, 09 Jul 2020   Prob (F-statistic):           2.97e-22\n",
       "Time:                        02:07:18   Log-Likelihood:                -143.60\n",
       "No. Observations:                  22   AIC:                             291.2\n",
       "Df Residuals:                      20   BIC:                             293.4\n",
       "Df Model:                           1                                         \n",
       "Covariance Type:            nonrobust                                         \n",
       "==============================================================================\n",
       "                 coef    std err          t      P>|t|      [0.025      0.975]\n",
       "------------------------------------------------------------------------------\n",
       "Intercept    100.0392     56.115      1.783      0.090     -17.014     217.092\n",
       "fen_bj         0.7902      0.016     48.686      0.000       0.756       0.824\n",
       "==============================================================================\n",
       "Omnibus:                        1.814   Durbin-Watson:                   1.059\n",
       "Prob(Omnibus):                  0.404   Jarque-Bera (JB):                0.560\n",
       "Skew:                           0.244   Prob(JB):                        0.756\n",
       "Kurtosis:                       3.610   Cond. No.                     5.25e+03\n",
       "==============================================================================\n",
       "\n",
       "Warnings:\n",
       "[1] Standard Errors assume that the covariance matrix of the errors is correctly specified.\n",
       "[2] The condition number is large, 5.25e+03. This might indicate that there are\n",
       "strong multicollinearity or other numerical problems.\n",
       "\"\"\""
      ]
     },
     "execution_count": 39,
     "metadata": {},
     "output_type": "execute_result"
    }
   ],
   "source": [
    "results = sm.ols(formula = \"con_gn_bj ~ fen_bj\",data = test1).fit()\n",
    "results.summary()"
   ]
  },
  {
   "cell_type": "markdown",
   "metadata": {},
   "source": [
    "## Eq23 ： investn_bj 定义方程 ok\n",
    "investn_bj  = investr_bj  * faipi_bj  / 100"
   ]
  },
  {
   "cell_type": "code",
   "execution_count": 40,
   "metadata": {
    "ExecuteTime": {
     "end_time": "2020-07-09T02:10:42.157845Z",
     "start_time": "2020-07-09T02:10:42.152712Z"
    }
   },
   "outputs": [
    {
     "name": "stdout",
     "output_type": "stream",
     "text": [
      "investn_bj 在第  1  个数据框中\n",
      "investr_bj 在第  1  个数据框中\n",
      "faipi_bj 在第  1  个数据框中\n"
     ]
    }
   ],
   "source": [
    "whereis([\"investn_bj\" ,\"investr_bj\" , \"faipi_bj\"])"
   ]
  },
  {
   "cell_type": "code",
   "execution_count": 41,
   "metadata": {
    "ExecuteTime": {
     "end_time": "2020-07-09T02:12:23.914323Z",
     "start_time": "2020-07-09T02:12:23.823128Z"
    }
   },
   "outputs": [
    {
     "data": {
      "text/html": [
       "<div>\n",
       "<style scoped>\n",
       "    .dataframe tbody tr th:only-of-type {\n",
       "        vertical-align: middle;\n",
       "    }\n",
       "\n",
       "    .dataframe tbody tr th {\n",
       "        vertical-align: top;\n",
       "    }\n",
       "\n",
       "    .dataframe thead th {\n",
       "        text-align: right;\n",
       "    }\n",
       "</style>\n",
       "<table border=\"1\" class=\"dataframe\">\n",
       "  <thead>\n",
       "    <tr style=\"text-align: right;\">\n",
       "      <th></th>\n",
       "      <th>investn_bj</th>\n",
       "      <th>investr_bj</th>\n",
       "      <th>faipi_bj</th>\n",
       "      <th>预测</th>\n",
       "    </tr>\n",
       "    <tr>\n",
       "      <th>obs</th>\n",
       "      <th></th>\n",
       "      <th></th>\n",
       "      <th></th>\n",
       "      <th></th>\n",
       "    </tr>\n",
       "  </thead>\n",
       "  <tbody>\n",
       "    <tr>\n",
       "      <th>2017</th>\n",
       "      <td>8948.1000</td>\n",
       "      <td>8572.134742</td>\n",
       "      <td>104.385900</td>\n",
       "      <td>8948.1000</td>\n",
       "    </tr>\n",
       "    <tr>\n",
       "      <th>2018</th>\n",
       "      <td>8062.2381</td>\n",
       "      <td>7440.745089</td>\n",
       "      <td>108.352564</td>\n",
       "      <td>8062.2381</td>\n",
       "    </tr>\n",
       "    <tr>\n",
       "      <th>2019</th>\n",
       "      <td>NaN</td>\n",
       "      <td>NaN</td>\n",
       "      <td>110.627968</td>\n",
       "      <td>NaN</td>\n",
       "    </tr>\n",
       "    <tr>\n",
       "      <th>2020</th>\n",
       "      <td>NaN</td>\n",
       "      <td>NaN</td>\n",
       "      <td>NaN</td>\n",
       "      <td>NaN</td>\n",
       "    </tr>\n",
       "  </tbody>\n",
       "</table>\n",
       "</div>"
      ],
      "text/plain": [
       "      investn_bj   investr_bj    faipi_bj         预测\n",
       "obs                                                 \n",
       "2017   8948.1000  8572.134742  104.385900  8948.1000\n",
       "2018   8062.2381  7440.745089  108.352564  8062.2381\n",
       "2019         NaN          NaN  110.627968        NaN\n",
       "2020         NaN          NaN         NaN        NaN"
      ]
     },
     "execution_count": 41,
     "metadata": {},
     "output_type": "execute_result"
    }
   ],
   "source": [
    "test1 = df_es[[\"investn_bj\" ,\"investr_bj\" , \"faipi_bj\"]]\n",
    "test1[\"预测\"] = (test1[\"investr_bj\"] * test1[\"faipi_bj\"]) /100\n",
    "test1.tail(4)"
   ]
  },
  {
   "cell_type": "markdown",
   "metadata": {},
   "source": [
    "## Eq24 : inv_fon_bj 定义方程  ok\n",
    "inv_fon_bj  = inv_for_bj  * pinv_fod_bj  / 100"
   ]
  },
  {
   "cell_type": "code",
   "execution_count": 61,
   "metadata": {
    "ExecuteTime": {
     "end_time": "2020-07-09T02:28:04.868293Z",
     "start_time": "2020-07-09T02:28:04.863198Z"
    }
   },
   "outputs": [
    {
     "name": "stdout",
     "output_type": "stream",
     "text": [
      "inv_fon_bj 在第  1  个数据框中\n",
      "inv_fon_bj 在第  2  个数据框中\n",
      "inv_for_bj 在第  1  个数据框中\n"
     ]
    }
   ],
   "source": [
    "whereis([\"inv_fon_bj\" ,\"inv_for_bj\" , \"pinv_fod_bj\"])"
   ]
  },
  {
   "cell_type": "code",
   "execution_count": 62,
   "metadata": {
    "ExecuteTime": {
     "end_time": "2020-07-09T02:28:09.905260Z",
     "start_time": "2020-07-09T02:28:09.900599Z"
    }
   },
   "outputs": [
    {
     "data": {
      "text/plain": [
       "Index(['d_gdp1r_bj', 'cul_area_bj', 'd_gdp2r_bj_1', 'exrate_cn',\n",
       "       'd_gdp2_indar_bj', 'pcon_gd_bj', 'pcon_pud_bj', 'pcon_prd_bj',\n",
       "       'pinv_fod_bj'],\n",
       "      dtype='object')"
      ]
     },
     "execution_count": 62,
     "metadata": {},
     "output_type": "execute_result"
    }
   ],
   "source": [
    "df_other.columns"
   ]
  },
  {
   "cell_type": "code",
   "execution_count": 63,
   "metadata": {
    "ExecuteTime": {
     "end_time": "2020-07-09T02:28:16.301269Z",
     "start_time": "2020-07-09T02:28:16.283095Z"
    }
   },
   "outputs": [
    {
     "data": {
      "text/html": [
       "<div>\n",
       "<style scoped>\n",
       "    .dataframe tbody tr th:only-of-type {\n",
       "        vertical-align: middle;\n",
       "    }\n",
       "\n",
       "    .dataframe tbody tr th {\n",
       "        vertical-align: top;\n",
       "    }\n",
       "\n",
       "    .dataframe thead th {\n",
       "        text-align: right;\n",
       "    }\n",
       "</style>\n",
       "<table border=\"1\" class=\"dataframe\">\n",
       "  <thead>\n",
       "    <tr style=\"text-align: right;\">\n",
       "      <th></th>\n",
       "      <th>inv_fon_bj</th>\n",
       "      <th>inv_for_bj</th>\n",
       "      <th>pinv_fod_bj</th>\n",
       "      <th>验证结果</th>\n",
       "    </tr>\n",
       "    <tr>\n",
       "      <th>obs</th>\n",
       "      <th></th>\n",
       "      <th></th>\n",
       "      <th></th>\n",
       "      <th></th>\n",
       "    </tr>\n",
       "  </thead>\n",
       "  <tbody>\n",
       "    <tr>\n",
       "      <th>2017</th>\n",
       "      <td>10946.30</td>\n",
       "      <td>10492.500014</td>\n",
       "      <td>104.324994</td>\n",
       "      <td>10946.300000</td>\n",
       "    </tr>\n",
       "    <tr>\n",
       "      <th>2018</th>\n",
       "      <td>11286.03</td>\n",
       "      <td>10702.350015</td>\n",
       "      <td>105.453755</td>\n",
       "      <td>11286.029996</td>\n",
       "    </tr>\n",
       "    <tr>\n",
       "      <th>2019</th>\n",
       "      <td>NaN</td>\n",
       "      <td>NaN</td>\n",
       "      <td>NaN</td>\n",
       "      <td>NaN</td>\n",
       "    </tr>\n",
       "    <tr>\n",
       "      <th>2020</th>\n",
       "      <td>NaN</td>\n",
       "      <td>NaN</td>\n",
       "      <td>NaN</td>\n",
       "      <td>NaN</td>\n",
       "    </tr>\n",
       "  </tbody>\n",
       "</table>\n",
       "</div>"
      ],
      "text/plain": [
       "      inv_fon_bj    inv_for_bj  pinv_fod_bj          验证结果\n",
       "obs                                                      \n",
       "2017    10946.30  10492.500014   104.324994  10946.300000\n",
       "2018    11286.03  10702.350015   105.453755  11286.029996\n",
       "2019         NaN           NaN          NaN           NaN\n",
       "2020         NaN           NaN          NaN           NaN"
      ]
     },
     "execution_count": 63,
     "metadata": {},
     "output_type": "execute_result"
    }
   ],
   "source": [
    "test1 = pd.concat([df_es[[\"inv_fon_bj\" ,\"inv_for_bj\"]],df_other[\"pinv_fod_bj\"]],axis =1)\n",
    "test1[\"验证结果\"] = (test1[\"inv_for_bj\"] * test1[\"pinv_fod_bj\"])/100\n",
    "test1.tail(4)"
   ]
  },
  {
   "cell_type": "markdown",
   "metadata": {},
   "source": [
    "## Eq25 : inv_chn_bj 定义方程 ok\n",
    "inv_chn_bj  = inv_chr_bj  * pinv_chd_bj  / 100"
   ]
  },
  {
   "cell_type": "code",
   "execution_count": 15,
   "metadata": {
    "ExecuteTime": {
     "end_time": "2020-07-09T06:15:00.454972Z",
     "start_time": "2020-07-09T06:15:00.449756Z"
    }
   },
   "outputs": [
    {
     "name": "stdout",
     "output_type": "stream",
     "text": [
      "inv_chn_bj 在第  1  个数据框中\n",
      "inv_chr_bj 在第  2  个数据框中\n",
      "pinv_chd_bj 在第  2  个数据框中\n"
     ]
    }
   ],
   "source": [
    "whereis([\"inv_chn_bj\" ,\"inv_chr_bj\" , \"pinv_chd_bj\"])"
   ]
  },
  {
   "cell_type": "code",
   "execution_count": 17,
   "metadata": {
    "ExecuteTime": {
     "end_time": "2020-07-09T06:19:09.951898Z",
     "start_time": "2020-07-09T06:19:09.936498Z"
    }
   },
   "outputs": [
    {
     "data": {
      "text/html": [
       "<div>\n",
       "<style scoped>\n",
       "    .dataframe tbody tr th:only-of-type {\n",
       "        vertical-align: middle;\n",
       "    }\n",
       "\n",
       "    .dataframe tbody tr th {\n",
       "        vertical-align: top;\n",
       "    }\n",
       "\n",
       "    .dataframe thead th {\n",
       "        text-align: right;\n",
       "    }\n",
       "</style>\n",
       "<table border=\"1\" class=\"dataframe\">\n",
       "  <thead>\n",
       "    <tr style=\"text-align: right;\">\n",
       "      <th></th>\n",
       "      <th>inv_chn_bj</th>\n",
       "      <th>inv_chr_bj</th>\n",
       "      <th>pinv_chd_bj</th>\n",
       "      <th>预测</th>\n",
       "    </tr>\n",
       "    <tr>\n",
       "      <th>obs</th>\n",
       "      <th></th>\n",
       "      <th></th>\n",
       "      <th></th>\n",
       "      <th></th>\n",
       "    </tr>\n",
       "  </thead>\n",
       "  <tbody>\n",
       "    <tr>\n",
       "      <th>1996</th>\n",
       "      <td>85.2</td>\n",
       "      <td>NaN</td>\n",
       "      <td>NaN</td>\n",
       "      <td>NaN</td>\n",
       "    </tr>\n",
       "    <tr>\n",
       "      <th>1997</th>\n",
       "      <td>195.1</td>\n",
       "      <td>NaN</td>\n",
       "      <td>NaN</td>\n",
       "      <td>NaN</td>\n",
       "    </tr>\n",
       "  </tbody>\n",
       "</table>\n",
       "</div>"
      ],
      "text/plain": [
       "      inv_chn_bj  inv_chr_bj  pinv_chd_bj  预测\n",
       "obs                                          \n",
       "1996        85.2         NaN          NaN NaN\n",
       "1997       195.1         NaN          NaN NaN"
      ]
     },
     "execution_count": 17,
     "metadata": {},
     "output_type": "execute_result"
    }
   ],
   "source": [
    "test1 = pd.concat([df_es[\"inv_chn_bj\" ],df_other[[\"inv_chr_bj\" , \"pinv_chd_bj\"]]],axis =1)\n",
    "test1[\"预测\"] = (test1[\"inv_chr_bj\"] * test1[\"pinv_chd_bj\"])/100\n",
    "test1.head(2)"
   ]
  },
  {
   "cell_type": "markdown",
   "metadata": {},
   "source": [
    "## Eq 26 : consr_bj   定义方程  no 预测与真实值相差较大\n",
    "consr_bj  = consn_bj  / rpi_bj  * 100"
   ]
  },
  {
   "cell_type": "code",
   "execution_count": 33,
   "metadata": {
    "ExecuteTime": {
     "end_time": "2020-07-09T06:50:27.036160Z",
     "start_time": "2020-07-09T06:50:27.030463Z"
    }
   },
   "outputs": [
    {
     "name": "stdout",
     "output_type": "stream",
     "text": [
      "consr_bj 在第  1  个数据框中\n",
      "consn_bj 在第  1  个数据框中\n",
      "consn_bj 在第  2  个数据框中\n",
      "rpi_bj 在第  1  个数据框中\n"
     ]
    }
   ],
   "source": [
    "whereis([\"consr_bj\" ,\"consn_bj\" , \"rpi_bj\"])"
   ]
  },
  {
   "cell_type": "code",
   "execution_count": 36,
   "metadata": {
    "ExecuteTime": {
     "end_time": "2020-07-09T06:52:52.293493Z",
     "start_time": "2020-07-09T06:52:52.212319Z"
    }
   },
   "outputs": [
    {
     "data": {
      "text/html": [
       "<div>\n",
       "<style scoped>\n",
       "    .dataframe tbody tr th:only-of-type {\n",
       "        vertical-align: middle;\n",
       "    }\n",
       "\n",
       "    .dataframe tbody tr th {\n",
       "        vertical-align: top;\n",
       "    }\n",
       "\n",
       "    .dataframe thead th {\n",
       "        text-align: right;\n",
       "    }\n",
       "</style>\n",
       "<table border=\"1\" class=\"dataframe\">\n",
       "  <thead>\n",
       "    <tr style=\"text-align: right;\">\n",
       "      <th></th>\n",
       "      <th>consr_bj</th>\n",
       "      <th>consn_bj</th>\n",
       "      <th>rpi_bj</th>\n",
       "      <th>预测</th>\n",
       "    </tr>\n",
       "    <tr>\n",
       "      <th>obs</th>\n",
       "      <th></th>\n",
       "      <th></th>\n",
       "      <th></th>\n",
       "      <th></th>\n",
       "    </tr>\n",
       "  </thead>\n",
       "  <tbody>\n",
       "    <tr>\n",
       "      <th>1996</th>\n",
       "      <td>1582.300379</td>\n",
       "      <td>1061.6</td>\n",
       "      <td>101.439268</td>\n",
       "      <td>1046.537519</td>\n",
       "    </tr>\n",
       "    <tr>\n",
       "      <th>1997</th>\n",
       "      <td>1710.591485</td>\n",
       "      <td>1208.5</td>\n",
       "      <td>105.293960</td>\n",
       "      <td>1147.739146</td>\n",
       "    </tr>\n",
       "  </tbody>\n",
       "</table>\n",
       "</div>"
      ],
      "text/plain": [
       "         consr_bj  consn_bj      rpi_bj           预测\n",
       "obs                                                 \n",
       "1996  1582.300379    1061.6  101.439268  1046.537519\n",
       "1997  1710.591485    1208.5  105.293960  1147.739146"
      ]
     },
     "execution_count": 36,
     "metadata": {},
     "output_type": "execute_result"
    }
   ],
   "source": [
    "test1 = df_es[[\"consr_bj\" ,\"consn_bj\" , \"rpi_bj\"]]\n",
    "test1[\"预测\"] = (test1[\"consn_bj\"] / test1[\"rpi_bj\"])*100\n",
    "test1.head(2)"
   ]
  },
  {
   "cell_type": "markdown",
   "metadata": {},
   "source": [
    "## Eq 27 :  inv_for_bj  定义方程 ok\n",
    "inv_for_bj  = inv_fir_bj  + inv_chr_bj"
   ]
  },
  {
   "cell_type": "code",
   "execution_count": 35,
   "metadata": {
    "ExecuteTime": {
     "end_time": "2020-07-09T06:52:14.707237Z",
     "start_time": "2020-07-09T06:52:14.700822Z"
    }
   },
   "outputs": [
    {
     "name": "stdout",
     "output_type": "stream",
     "text": [
      "inv_for_bj 在第  1  个数据框中\n",
      "inv_fir_bj 在第  1  个数据框中\n",
      "inv_fir_bj 在第  2  个数据框中\n",
      "inv_chr_bj 在第  2  个数据框中\n"
     ]
    }
   ],
   "source": [
    "whereis([\"inv_for_bj\" ,\"inv_fir_bj\" , \"inv_chr_bj\"])"
   ]
  },
  {
   "cell_type": "code",
   "execution_count": 43,
   "metadata": {
    "ExecuteTime": {
     "end_time": "2020-07-09T06:57:31.969642Z",
     "start_time": "2020-07-09T06:57:31.954313Z"
    }
   },
   "outputs": [
    {
     "data": {
      "text/html": [
       "<div>\n",
       "<style scoped>\n",
       "    .dataframe tbody tr th:only-of-type {\n",
       "        vertical-align: middle;\n",
       "    }\n",
       "\n",
       "    .dataframe tbody tr th {\n",
       "        vertical-align: top;\n",
       "    }\n",
       "\n",
       "    .dataframe thead th {\n",
       "        text-align: right;\n",
       "    }\n",
       "</style>\n",
       "<table border=\"1\" class=\"dataframe\">\n",
       "  <thead>\n",
       "    <tr style=\"text-align: right;\">\n",
       "      <th></th>\n",
       "      <th>inv_for_bj</th>\n",
       "      <th>inv_fir_bj</th>\n",
       "      <th>inv_chr_bj</th>\n",
       "      <th>预测</th>\n",
       "    </tr>\n",
       "    <tr>\n",
       "      <th>obs</th>\n",
       "      <th></th>\n",
       "      <th></th>\n",
       "      <th></th>\n",
       "      <th></th>\n",
       "    </tr>\n",
       "  </thead>\n",
       "  <tbody>\n",
       "    <tr>\n",
       "      <th>2017</th>\n",
       "      <td>10492.500014</td>\n",
       "      <td>9909.109291</td>\n",
       "      <td>583.390724</td>\n",
       "      <td>10492.500014</td>\n",
       "    </tr>\n",
       "    <tr>\n",
       "      <th>2018</th>\n",
       "      <td>10702.350015</td>\n",
       "      <td>10156.837023</td>\n",
       "      <td>545.512992</td>\n",
       "      <td>10702.350015</td>\n",
       "    </tr>\n",
       "    <tr>\n",
       "      <th>2019</th>\n",
       "      <td>NaN</td>\n",
       "      <td>NaN</td>\n",
       "      <td>NaN</td>\n",
       "      <td>NaN</td>\n",
       "    </tr>\n",
       "    <tr>\n",
       "      <th>2020</th>\n",
       "      <td>NaN</td>\n",
       "      <td>NaN</td>\n",
       "      <td>NaN</td>\n",
       "      <td>NaN</td>\n",
       "    </tr>\n",
       "  </tbody>\n",
       "</table>\n",
       "</div>"
      ],
      "text/plain": [
       "        inv_for_bj    inv_fir_bj  inv_chr_bj            预测\n",
       "obs                                                       \n",
       "2017  10492.500014   9909.109291  583.390724  10492.500014\n",
       "2018  10702.350015  10156.837023  545.512992  10702.350015\n",
       "2019           NaN           NaN         NaN           NaN\n",
       "2020           NaN           NaN         NaN           NaN"
      ]
     },
     "execution_count": 43,
     "metadata": {},
     "output_type": "execute_result"
    }
   ],
   "source": [
    "test1 = pd.concat([df_es[[\"inv_for_bj\" ,\"inv_fir_bj\"]] , df_other[\"inv_chr_bj\"]],axis =1)\n",
    "test1[\"预测\"] = test1[\"inv_fir_bj\"] + test1[\"inv_chr_bj\"]\n",
    "test1.tail(4)"
   ]
  },
  {
   "cell_type": "markdown",
   "metadata": {},
   "source": [
    "## Eq 28 : inv_fin_bj   定义方程 ok\n",
    "inv_fin_bj  = inv_fir_bj  * pinv_fid_bj  / 100"
   ]
  },
  {
   "cell_type": "code",
   "execution_count": 45,
   "metadata": {
    "ExecuteTime": {
     "end_time": "2020-07-09T06:57:53.882854Z",
     "start_time": "2020-07-09T06:57:53.877132Z"
    }
   },
   "outputs": [
    {
     "name": "stdout",
     "output_type": "stream",
     "text": [
      "inv_fin_bj 在第  1  个数据框中\n",
      "inv_fir_bj 在第  1  个数据框中\n",
      "inv_fir_bj 在第  2  个数据框中\n",
      "pinv_fid_bj 在第  2  个数据框中\n"
     ]
    }
   ],
   "source": [
    "whereis([\"inv_fin_bj\" ,\"inv_fir_bj\" , \"pinv_fid_bj\"])"
   ]
  },
  {
   "cell_type": "code",
   "execution_count": 48,
   "metadata": {
    "ExecuteTime": {
     "end_time": "2020-07-09T06:59:39.304852Z",
     "start_time": "2020-07-09T06:59:39.287793Z"
    }
   },
   "outputs": [
    {
     "data": {
      "text/html": [
       "<div>\n",
       "<style scoped>\n",
       "    .dataframe tbody tr th:only-of-type {\n",
       "        vertical-align: middle;\n",
       "    }\n",
       "\n",
       "    .dataframe tbody tr th {\n",
       "        vertical-align: top;\n",
       "    }\n",
       "\n",
       "    .dataframe thead th {\n",
       "        text-align: right;\n",
       "    }\n",
       "</style>\n",
       "<table border=\"1\" class=\"dataframe\">\n",
       "  <thead>\n",
       "    <tr style=\"text-align: right;\">\n",
       "      <th></th>\n",
       "      <th>inv_fin_bj</th>\n",
       "      <th>inv_fir_bj</th>\n",
       "      <th>pinv_fid_bj</th>\n",
       "      <th>预测</th>\n",
       "    </tr>\n",
       "    <tr>\n",
       "      <th>obs</th>\n",
       "      <th></th>\n",
       "      <th></th>\n",
       "      <th></th>\n",
       "      <th></th>\n",
       "    </tr>\n",
       "  </thead>\n",
       "  <tbody>\n",
       "    <tr>\n",
       "      <th>2017</th>\n",
       "      <td>10375.30</td>\n",
       "      <td>9909.109291</td>\n",
       "      <td>104.704668</td>\n",
       "      <td>10375.300004</td>\n",
       "    </tr>\n",
       "    <tr>\n",
       "      <th>2018</th>\n",
       "      <td>10801.15</td>\n",
       "      <td>10156.837023</td>\n",
       "      <td>106.343638</td>\n",
       "      <td>10801.149996</td>\n",
       "    </tr>\n",
       "    <tr>\n",
       "      <th>2019</th>\n",
       "      <td>NaN</td>\n",
       "      <td>NaN</td>\n",
       "      <td>NaN</td>\n",
       "      <td>NaN</td>\n",
       "    </tr>\n",
       "    <tr>\n",
       "      <th>2020</th>\n",
       "      <td>NaN</td>\n",
       "      <td>NaN</td>\n",
       "      <td>NaN</td>\n",
       "      <td>NaN</td>\n",
       "    </tr>\n",
       "  </tbody>\n",
       "</table>\n",
       "</div>"
      ],
      "text/plain": [
       "      inv_fin_bj    inv_fir_bj  pinv_fid_bj            预测\n",
       "obs                                                      \n",
       "2017    10375.30   9909.109291   104.704668  10375.300004\n",
       "2018    10801.15  10156.837023   106.343638  10801.149996\n",
       "2019         NaN           NaN          NaN           NaN\n",
       "2020         NaN           NaN          NaN           NaN"
      ]
     },
     "execution_count": 48,
     "metadata": {},
     "output_type": "execute_result"
    }
   ],
   "source": [
    "test1 = pd.concat([df_es[[\"inv_fin_bj\" ,\"inv_fir_bj\"]] , df_other[\"pinv_fid_bj\"]],axis =1)\n",
    "test1[\"预测\"] = (test1[\"inv_fir_bj\"] * test1[\"pinv_fid_bj\"])/100\n",
    "test1.tail(4)"
   ]
  },
  {
   "cell_type": "markdown",
   "metadata": {},
   "source": [
    "## Eq 29 :  gdper_bj  定义方程 ok\n",
    "gdper_bj  = con_fr_bj  + inv_for_bj  + nex_gsr_bj"
   ]
  },
  {
   "cell_type": "code",
   "execution_count": 46,
   "metadata": {
    "ExecuteTime": {
     "end_time": "2020-07-09T06:57:56.881840Z",
     "start_time": "2020-07-09T06:57:56.874988Z"
    }
   },
   "outputs": [
    {
     "name": "stdout",
     "output_type": "stream",
     "text": [
      "gdper_bj 在第  1  个数据框中\n",
      "con_fr_bj 在第  1  个数据框中\n",
      "con_fr_bj 在第  2  个数据框中\n",
      "inv_for_bj 在第  1  个数据框中\n",
      "nex_gsr_bj 在第  1  个数据框中\n",
      "nex_gsr_bj 在第  2  个数据框中\n"
     ]
    }
   ],
   "source": [
    "whereis([\"gdper_bj\" ,\"con_fr_bj\" , \"inv_for_bj\",\"nex_gsr_bj\"])"
   ]
  },
  {
   "cell_type": "code",
   "execution_count": 49,
   "metadata": {
    "ExecuteTime": {
     "end_time": "2020-07-09T07:03:30.964563Z",
     "start_time": "2020-07-09T07:03:30.880220Z"
    }
   },
   "outputs": [
    {
     "data": {
      "text/html": [
       "<div>\n",
       "<style scoped>\n",
       "    .dataframe tbody tr th:only-of-type {\n",
       "        vertical-align: middle;\n",
       "    }\n",
       "\n",
       "    .dataframe tbody tr th {\n",
       "        vertical-align: top;\n",
       "    }\n",
       "\n",
       "    .dataframe thead th {\n",
       "        text-align: right;\n",
       "    }\n",
       "</style>\n",
       "<table border=\"1\" class=\"dataframe\">\n",
       "  <thead>\n",
       "    <tr style=\"text-align: right;\">\n",
       "      <th></th>\n",
       "      <th>gdper_bj</th>\n",
       "      <th>con_fr_bj</th>\n",
       "      <th>inv_for_bj</th>\n",
       "      <th>nex_gsr_bj</th>\n",
       "      <th>预测</th>\n",
       "    </tr>\n",
       "    <tr>\n",
       "      <th>obs</th>\n",
       "      <th></th>\n",
       "      <th></th>\n",
       "      <th></th>\n",
       "      <th></th>\n",
       "      <th></th>\n",
       "    </tr>\n",
       "  </thead>\n",
       "  <tbody>\n",
       "    <tr>\n",
       "      <th>2017</th>\n",
       "      <td>26991.077315</td>\n",
       "      <td>16366.882105</td>\n",
       "      <td>10492.500014</td>\n",
       "      <td>131.695195</td>\n",
       "      <td>26991.077315</td>\n",
       "    </tr>\n",
       "    <tr>\n",
       "      <th>2018</th>\n",
       "      <td>28772.759500</td>\n",
       "      <td>17627.132027</td>\n",
       "      <td>10702.350015</td>\n",
       "      <td>443.277458</td>\n",
       "      <td>28772.759500</td>\n",
       "    </tr>\n",
       "    <tr>\n",
       "      <th>2019</th>\n",
       "      <td>30527.897830</td>\n",
       "      <td>NaN</td>\n",
       "      <td>NaN</td>\n",
       "      <td>NaN</td>\n",
       "      <td>NaN</td>\n",
       "    </tr>\n",
       "    <tr>\n",
       "      <th>2020</th>\n",
       "      <td>NaN</td>\n",
       "      <td>NaN</td>\n",
       "      <td>NaN</td>\n",
       "      <td>NaN</td>\n",
       "      <td>NaN</td>\n",
       "    </tr>\n",
       "  </tbody>\n",
       "</table>\n",
       "</div>"
      ],
      "text/plain": [
       "          gdper_bj     con_fr_bj    inv_for_bj  nex_gsr_bj            预测\n",
       "obs                                                                     \n",
       "2017  26991.077315  16366.882105  10492.500014  131.695195  26991.077315\n",
       "2018  28772.759500  17627.132027  10702.350015  443.277458  28772.759500\n",
       "2019  30527.897830           NaN           NaN         NaN           NaN\n",
       "2020           NaN           NaN           NaN         NaN           NaN"
      ]
     },
     "execution_count": 49,
     "metadata": {},
     "output_type": "execute_result"
    }
   ],
   "source": [
    "test1 = df_es[[\"gdper_bj\" ,\"con_fr_bj\",\"inv_for_bj\",\"nex_gsr_bj\"]]\n",
    "test1[\"预测\"] = test1[\"con_fr_bj\"] + test1[\"inv_for_bj\"] + test1[\"nex_gsr_bj\"]\n",
    "test1.tail(4)"
   ]
  },
  {
   "cell_type": "markdown",
   "metadata": {},
   "source": [
    "## Eq 30 : gdpen_bj   定义方程 ok\n",
    "gdpen_bj  = con_fn_bj  + inv_fon_bj  + nex_gsn_bj"
   ]
  },
  {
   "cell_type": "code",
   "execution_count": 51,
   "metadata": {
    "ExecuteTime": {
     "end_time": "2020-07-09T07:04:31.934825Z",
     "start_time": "2020-07-09T07:04:31.928527Z"
    }
   },
   "outputs": [
    {
     "name": "stdout",
     "output_type": "stream",
     "text": [
      "gdpen_bj 在第  1  个数据框中\n",
      "con_fn_bj 在第  1  个数据框中\n",
      "con_fn_bj 在第  2  个数据框中\n",
      "inv_fon_bj 在第  1  个数据框中\n",
      "nex_gsn_bj 在第  1  个数据框中\n"
     ]
    }
   ],
   "source": [
    "whereis([\"gdpen_bj\" ,\"con_fn_bj\" , \"inv_fon_bj\",\"nex_gsn_bj\"])"
   ]
  },
  {
   "cell_type": "code",
   "execution_count": 52,
   "metadata": {
    "ExecuteTime": {
     "end_time": "2020-07-09T07:05:20.106810Z",
     "start_time": "2020-07-09T07:05:20.023272Z"
    }
   },
   "outputs": [
    {
     "data": {
      "text/html": [
       "<div>\n",
       "<style scoped>\n",
       "    .dataframe tbody tr th:only-of-type {\n",
       "        vertical-align: middle;\n",
       "    }\n",
       "\n",
       "    .dataframe tbody tr th {\n",
       "        vertical-align: top;\n",
       "    }\n",
       "\n",
       "    .dataframe thead th {\n",
       "        text-align: right;\n",
       "    }\n",
       "</style>\n",
       "<table border=\"1\" class=\"dataframe\">\n",
       "  <thead>\n",
       "    <tr style=\"text-align: right;\">\n",
       "      <th></th>\n",
       "      <th>gdpen_bj</th>\n",
       "      <th>con_fn_bj</th>\n",
       "      <th>inv_fon_bj</th>\n",
       "      <th>nex_gsn_bj</th>\n",
       "      <th>预测</th>\n",
       "    </tr>\n",
       "    <tr>\n",
       "      <th>obs</th>\n",
       "      <th></th>\n",
       "      <th></th>\n",
       "      <th></th>\n",
       "      <th></th>\n",
       "      <th></th>\n",
       "    </tr>\n",
       "  </thead>\n",
       "  <tbody>\n",
       "    <tr>\n",
       "      <th>2017</th>\n",
       "      <td>28014.9</td>\n",
       "      <td>16842.1</td>\n",
       "      <td>10946.30</td>\n",
       "      <td>226.5</td>\n",
       "      <td>28014.90</td>\n",
       "    </tr>\n",
       "    <tr>\n",
       "      <th>2018</th>\n",
       "      <td>30320.0</td>\n",
       "      <td>18508.9</td>\n",
       "      <td>11286.03</td>\n",
       "      <td>525.1</td>\n",
       "      <td>30320.03</td>\n",
       "    </tr>\n",
       "    <tr>\n",
       "      <th>2019</th>\n",
       "      <td>NaN</td>\n",
       "      <td>NaN</td>\n",
       "      <td>NaN</td>\n",
       "      <td>NaN</td>\n",
       "      <td>NaN</td>\n",
       "    </tr>\n",
       "    <tr>\n",
       "      <th>2020</th>\n",
       "      <td>NaN</td>\n",
       "      <td>NaN</td>\n",
       "      <td>NaN</td>\n",
       "      <td>NaN</td>\n",
       "      <td>NaN</td>\n",
       "    </tr>\n",
       "  </tbody>\n",
       "</table>\n",
       "</div>"
      ],
      "text/plain": [
       "      gdpen_bj  con_fn_bj  inv_fon_bj  nex_gsn_bj        预测\n",
       "obs                                                        \n",
       "2017   28014.9    16842.1    10946.30       226.5  28014.90\n",
       "2018   30320.0    18508.9    11286.03       525.1  30320.03\n",
       "2019       NaN        NaN         NaN         NaN       NaN\n",
       "2020       NaN        NaN         NaN         NaN       NaN"
      ]
     },
     "execution_count": 52,
     "metadata": {},
     "output_type": "execute_result"
    }
   ],
   "source": [
    "test1 = df_es[[\"gdpen_bj\" ,\"con_fn_bj\" , \"inv_fon_bj\",\"nex_gsn_bj\"]]\n",
    "test1[\"预测\"] = test1[\"con_fn_bj\"] + test1[\"inv_fon_bj\"] + test1[\"nex_gsn_bj\"]\n",
    "test1.tail(4)"
   ]
  },
  {
   "cell_type": "markdown",
   "metadata": {},
   "source": [
    "## Eq 31 :  nex_gsn_bj   定义方程 ok\n",
    "nex_gsn_bj  = nex_gsr_bj  * pnex_gsd_bj  / 100\n"
   ]
  },
  {
   "cell_type": "code",
   "execution_count": 53,
   "metadata": {
    "ExecuteTime": {
     "end_time": "2020-07-09T07:05:54.334853Z",
     "start_time": "2020-07-09T07:05:54.329423Z"
    }
   },
   "outputs": [
    {
     "name": "stdout",
     "output_type": "stream",
     "text": [
      "nex_gsn_bj 在第  1  个数据框中\n",
      "nex_gsr_bj 在第  1  个数据框中\n",
      "nex_gsr_bj 在第  2  个数据框中\n",
      "pnex_gsd_bj 在第  2  个数据框中\n"
     ]
    }
   ],
   "source": [
    "whereis([\"nex_gsn_bj\" ,\"nex_gsr_bj\" , \"pnex_gsd_bj\"])"
   ]
  },
  {
   "cell_type": "code",
   "execution_count": 54,
   "metadata": {
    "ExecuteTime": {
     "end_time": "2020-07-09T07:06:57.725857Z",
     "start_time": "2020-07-09T07:06:57.709850Z"
    }
   },
   "outputs": [
    {
     "data": {
      "text/html": [
       "<div>\n",
       "<style scoped>\n",
       "    .dataframe tbody tr th:only-of-type {\n",
       "        vertical-align: middle;\n",
       "    }\n",
       "\n",
       "    .dataframe tbody tr th {\n",
       "        vertical-align: top;\n",
       "    }\n",
       "\n",
       "    .dataframe thead th {\n",
       "        text-align: right;\n",
       "    }\n",
       "</style>\n",
       "<table border=\"1\" class=\"dataframe\">\n",
       "  <thead>\n",
       "    <tr style=\"text-align: right;\">\n",
       "      <th></th>\n",
       "      <th>nex_gsn_bj</th>\n",
       "      <th>nex_gsr_bj</th>\n",
       "      <th>pnex_gsd_bj</th>\n",
       "      <th>预测</th>\n",
       "    </tr>\n",
       "    <tr>\n",
       "      <th>obs</th>\n",
       "      <th></th>\n",
       "      <th></th>\n",
       "      <th></th>\n",
       "      <th></th>\n",
       "    </tr>\n",
       "  </thead>\n",
       "  <tbody>\n",
       "    <tr>\n",
       "      <th>2017</th>\n",
       "      <td>226.5</td>\n",
       "      <td>131.695195</td>\n",
       "      <td>171.988051</td>\n",
       "      <td>226.5</td>\n",
       "    </tr>\n",
       "    <tr>\n",
       "      <th>2018</th>\n",
       "      <td>525.1</td>\n",
       "      <td>443.277458</td>\n",
       "      <td>118.458539</td>\n",
       "      <td>525.1</td>\n",
       "    </tr>\n",
       "    <tr>\n",
       "      <th>2019</th>\n",
       "      <td>NaN</td>\n",
       "      <td>NaN</td>\n",
       "      <td>81.589537</td>\n",
       "      <td>NaN</td>\n",
       "    </tr>\n",
       "    <tr>\n",
       "      <th>2020</th>\n",
       "      <td>NaN</td>\n",
       "      <td>NaN</td>\n",
       "      <td>NaN</td>\n",
       "      <td>NaN</td>\n",
       "    </tr>\n",
       "  </tbody>\n",
       "</table>\n",
       "</div>"
      ],
      "text/plain": [
       "      nex_gsn_bj  nex_gsr_bj  pnex_gsd_bj     预测\n",
       "obs                                             \n",
       "2017       226.5  131.695195   171.988051  226.5\n",
       "2018       525.1  443.277458   118.458539  525.1\n",
       "2019         NaN         NaN    81.589537    NaN\n",
       "2020         NaN         NaN          NaN    NaN"
      ]
     },
     "execution_count": 54,
     "metadata": {},
     "output_type": "execute_result"
    }
   ],
   "source": [
    "test1 = pd.concat([df_es[[\"nex_gsn_bj\" ,\"nex_gsr_bj\"]] , df_other[\"pnex_gsd_bj\"]],axis =1)\n",
    "test1[\"预测\"] = (test1[\"nex_gsr_bj\"] * test1[\"pnex_gsd_bj\"])/100\n",
    "test1.tail(4)"
   ]
  },
  {
   "cell_type": "markdown",
   "metadata": {},
   "source": [
    "## Eq32 : con_pur_bj 行为方程 ok\n",
    "con_pur_bj  = @coef(1)  + @coef(2) * yht_un_bj / pcon_pud_bj * 100"
   ]
  },
  {
   "cell_type": "code",
   "execution_count": 55,
   "metadata": {
    "ExecuteTime": {
     "end_time": "2020-07-09T07:17:09.179016Z",
     "start_time": "2020-07-09T07:17:09.173780Z"
    }
   },
   "outputs": [
    {
     "name": "stdout",
     "output_type": "stream",
     "text": [
      "con_pur_bj 在第  1  个数据框中\n",
      "yht_un_bj 在第  1  个数据框中\n",
      "pcon_pud_bj 在第  2  个数据框中\n"
     ]
    }
   ],
   "source": [
    "whereis([\"con_pur_bj\" ,\"yht_un_bj\" , \"pcon_pud_bj\"])"
   ]
  },
  {
   "cell_type": "code",
   "execution_count": 60,
   "metadata": {
    "ExecuteTime": {
     "end_time": "2020-07-09T07:22:39.799862Z",
     "start_time": "2020-07-09T07:22:39.783165Z"
    }
   },
   "outputs": [
    {
     "data": {
      "text/html": [
       "<div>\n",
       "<style scoped>\n",
       "    .dataframe tbody tr th:only-of-type {\n",
       "        vertical-align: middle;\n",
       "    }\n",
       "\n",
       "    .dataframe tbody tr th {\n",
       "        vertical-align: top;\n",
       "    }\n",
       "\n",
       "    .dataframe thead th {\n",
       "        text-align: right;\n",
       "    }\n",
       "</style>\n",
       "<table border=\"1\" class=\"dataframe\">\n",
       "  <thead>\n",
       "    <tr style=\"text-align: right;\">\n",
       "      <th></th>\n",
       "      <th>con_pur_bj</th>\n",
       "      <th>yht_un_bj</th>\n",
       "      <th>pcon_pud_bj</th>\n",
       "      <th>yht_pcon_100</th>\n",
       "    </tr>\n",
       "    <tr>\n",
       "      <th>obs</th>\n",
       "      <th></th>\n",
       "      <th></th>\n",
       "      <th></th>\n",
       "      <th></th>\n",
       "    </tr>\n",
       "  </thead>\n",
       "  <tbody>\n",
       "    <tr>\n",
       "      <th>2006</th>\n",
       "      <td>3705.167054</td>\n",
       "      <td>2891.476489</td>\n",
       "      <td>72.975723</td>\n",
       "      <td>3962.244413</td>\n",
       "    </tr>\n",
       "    <tr>\n",
       "      <th>2007</th>\n",
       "      <td>4079.388927</td>\n",
       "      <td>3363.789827</td>\n",
       "      <td>79.804149</td>\n",
       "      <td>4215.056310</td>\n",
       "    </tr>\n",
       "  </tbody>\n",
       "</table>\n",
       "</div>"
      ],
      "text/plain": [
       "       con_pur_bj    yht_un_bj  pcon_pud_bj  yht_pcon_100\n",
       "obs                                                      \n",
       "2006  3705.167054  2891.476489    72.975723   3962.244413\n",
       "2007  4079.388927  3363.789827    79.804149   4215.056310"
      ]
     },
     "execution_count": 60,
     "metadata": {},
     "output_type": "execute_result"
    }
   ],
   "source": [
    "test1 = pd.concat([df_es[[\"con_pur_bj\" ,\"yht_un_bj\"]],df_other[\"pcon_pud_bj\"]],axis=1)\n",
    "test1[\"yht_pcon_100\"] = test1[\"yht_un_bj\"]/test1[\"pcon_pud_bj\"]*100\n",
    "test1 = test1[(test1.index>2005) & (test1.index <2019)]\n",
    "test1.head(2)"
   ]
  },
  {
   "cell_type": "code",
   "execution_count": 61,
   "metadata": {
    "ExecuteTime": {
     "end_time": "2020-07-09T07:22:42.128294Z",
     "start_time": "2020-07-09T07:22:42.106157Z"
    }
   },
   "outputs": [
    {
     "data": {
      "text/html": [
       "<table class=\"simpletable\">\n",
       "<caption>OLS Regression Results</caption>\n",
       "<tr>\n",
       "  <th>Dep. Variable:</th>       <td>con_pur_bj</td>    <th>  R-squared:         </th> <td>   0.999</td> \n",
       "</tr>\n",
       "<tr>\n",
       "  <th>Model:</th>                   <td>OLS</td>       <th>  Adj. R-squared:    </th> <td>   0.999</td> \n",
       "</tr>\n",
       "<tr>\n",
       "  <th>Method:</th>             <td>Least Squares</td>  <th>  F-statistic:       </th> <td>1.063e+04</td>\n",
       "</tr>\n",
       "<tr>\n",
       "  <th>Date:</th>             <td>Thu, 09 Jul 2020</td> <th>  Prob (F-statistic):</th> <td>8.94e-18</td> \n",
       "</tr>\n",
       "<tr>\n",
       "  <th>Time:</th>                 <td>07:22:42</td>     <th>  Log-Likelihood:    </th> <td> -74.748</td> \n",
       "</tr>\n",
       "<tr>\n",
       "  <th>No. Observations:</th>      <td>    13</td>      <th>  AIC:               </th> <td>   153.5</td> \n",
       "</tr>\n",
       "<tr>\n",
       "  <th>Df Residuals:</th>          <td>    11</td>      <th>  BIC:               </th> <td>   154.6</td> \n",
       "</tr>\n",
       "<tr>\n",
       "  <th>Df Model:</th>              <td>     1</td>      <th>                     </th>     <td> </td>    \n",
       "</tr>\n",
       "<tr>\n",
       "  <th>Covariance Type:</th>      <td>nonrobust</td>    <th>                     </th>     <td> </td>    \n",
       "</tr>\n",
       "</table>\n",
       "<table class=\"simpletable\">\n",
       "<tr>\n",
       "        <td></td>          <th>coef</th>     <th>std err</th>      <th>t</th>      <th>P>|t|</th>  <th>[0.025</th>    <th>0.975]</th>  \n",
       "</tr>\n",
       "<tr>\n",
       "  <th>Intercept</th>    <td>  160.4162</td> <td>   72.731</td> <td>    2.206</td> <td> 0.050</td> <td>    0.336</td> <td>  320.497</td>\n",
       "</tr>\n",
       "<tr>\n",
       "  <th>yht_pcon_100</th> <td>    0.9123</td> <td>    0.009</td> <td>  103.096</td> <td> 0.000</td> <td>    0.893</td> <td>    0.932</td>\n",
       "</tr>\n",
       "</table>\n",
       "<table class=\"simpletable\">\n",
       "<tr>\n",
       "  <th>Omnibus:</th>       <td> 5.568</td> <th>  Durbin-Watson:     </th> <td>   1.979</td>\n",
       "</tr>\n",
       "<tr>\n",
       "  <th>Prob(Omnibus):</th> <td> 0.062</td> <th>  Jarque-Bera (JB):  </th> <td>   1.379</td>\n",
       "</tr>\n",
       "<tr>\n",
       "  <th>Skew:</th>          <td>-0.041</td> <th>  Prob(JB):          </th> <td>   0.502</td>\n",
       "</tr>\n",
       "<tr>\n",
       "  <th>Kurtosis:</th>      <td> 1.407</td> <th>  Cond. No.          </th> <td>2.61e+04</td>\n",
       "</tr>\n",
       "</table><br/><br/>Warnings:<br/>[1] Standard Errors assume that the covariance matrix of the errors is correctly specified.<br/>[2] The condition number is large, 2.61e+04. This might indicate that there are<br/>strong multicollinearity or other numerical problems."
      ],
      "text/plain": [
       "<class 'statsmodels.iolib.summary.Summary'>\n",
       "\"\"\"\n",
       "                            OLS Regression Results                            \n",
       "==============================================================================\n",
       "Dep. Variable:             con_pur_bj   R-squared:                       0.999\n",
       "Model:                            OLS   Adj. R-squared:                  0.999\n",
       "Method:                 Least Squares   F-statistic:                 1.063e+04\n",
       "Date:                Thu, 09 Jul 2020   Prob (F-statistic):           8.94e-18\n",
       "Time:                        07:22:42   Log-Likelihood:                -74.748\n",
       "No. Observations:                  13   AIC:                             153.5\n",
       "Df Residuals:                      11   BIC:                             154.6\n",
       "Df Model:                           1                                         \n",
       "Covariance Type:            nonrobust                                         \n",
       "================================================================================\n",
       "                   coef    std err          t      P>|t|      [0.025      0.975]\n",
       "--------------------------------------------------------------------------------\n",
       "Intercept      160.4162     72.731      2.206      0.050       0.336     320.497\n",
       "yht_pcon_100     0.9123      0.009    103.096      0.000       0.893       0.932\n",
       "==============================================================================\n",
       "Omnibus:                        5.568   Durbin-Watson:                   1.979\n",
       "Prob(Omnibus):                  0.062   Jarque-Bera (JB):                1.379\n",
       "Skew:                          -0.041   Prob(JB):                        0.502\n",
       "Kurtosis:                       1.407   Cond. No.                     2.61e+04\n",
       "==============================================================================\n",
       "\n",
       "Warnings:\n",
       "[1] Standard Errors assume that the covariance matrix of the errors is correctly specified.\n",
       "[2] The condition number is large, 2.61e+04. This might indicate that there are\n",
       "strong multicollinearity or other numerical problems.\n",
       "\"\"\""
      ]
     },
     "execution_count": 61,
     "metadata": {},
     "output_type": "execute_result"
    }
   ],
   "source": [
    "results = sm.ols(formula = \"con_pur_bj ~ yht_pcon_100\",data = test1 ).fit()\n",
    "results.summary()"
   ]
  },
  {
   "cell_type": "markdown",
   "metadata": {},
   "source": [
    "## Eq33 : con_prr_bj 行为方程 ok\n",
    "eviews :function :d(x) :first difference ,d(x) = x - x(-1)\n",
    "\n",
    "方程 ： con_prr_bj  = @coef(1)  + @coef(2) * yht_rn_bj / pcon_prd_bj * 100  + @coef(3) * d(con_prr_bj(-1))"
   ]
  },
  {
   "cell_type": "code",
   "execution_count": 62,
   "metadata": {
    "ExecuteTime": {
     "end_time": "2020-07-09T07:30:21.138154Z",
     "start_time": "2020-07-09T07:30:21.132832Z"
    }
   },
   "outputs": [
    {
     "name": "stdout",
     "output_type": "stream",
     "text": [
      "con_prr_bj 在第  1  个数据框中\n",
      "yht_rn_bj 在第  1  个数据框中\n",
      "pcon_prd_bj 在第  2  个数据框中\n"
     ]
    }
   ],
   "source": [
    "whereis([\"con_prr_bj\" ,\"yht_rn_bj\" , \"pcon_prd_bj\"])"
   ]
  },
  {
   "cell_type": "code",
   "execution_count": 63,
   "metadata": {
    "ExecuteTime": {
     "end_time": "2020-07-09T07:35:14.637739Z",
     "start_time": "2020-07-09T07:35:14.618557Z"
    }
   },
   "outputs": [
    {
     "data": {
      "text/html": [
       "<div>\n",
       "<style scoped>\n",
       "    .dataframe tbody tr th:only-of-type {\n",
       "        vertical-align: middle;\n",
       "    }\n",
       "\n",
       "    .dataframe tbody tr th {\n",
       "        vertical-align: top;\n",
       "    }\n",
       "\n",
       "    .dataframe thead th {\n",
       "        text-align: right;\n",
       "    }\n",
       "</style>\n",
       "<table border=\"1\" class=\"dataframe\">\n",
       "  <thead>\n",
       "    <tr style=\"text-align: right;\">\n",
       "      <th></th>\n",
       "      <th>con_prr_bj</th>\n",
       "      <th>yht_rn_bj</th>\n",
       "      <th>pcon_prd_bj</th>\n",
       "      <th>yht_pcon_100</th>\n",
       "      <th>diff_con_prr</th>\n",
       "    </tr>\n",
       "    <tr>\n",
       "      <th>obs</th>\n",
       "      <th></th>\n",
       "      <th></th>\n",
       "      <th></th>\n",
       "      <th></th>\n",
       "      <th></th>\n",
       "    </tr>\n",
       "  </thead>\n",
       "  <tbody>\n",
       "    <tr>\n",
       "      <th>2008</th>\n",
       "      <td>346.029075</td>\n",
       "      <td>268.777750</td>\n",
       "      <td>89.695232</td>\n",
       "      <td>299.656676</td>\n",
       "      <td>36.040065</td>\n",
       "    </tr>\n",
       "    <tr>\n",
       "      <th>2009</th>\n",
       "      <td>384.730111</td>\n",
       "      <td>305.178093</td>\n",
       "      <td>94.787089</td>\n",
       "      <td>321.961669</td>\n",
       "      <td>32.030453</td>\n",
       "    </tr>\n",
       "  </tbody>\n",
       "</table>\n",
       "</div>"
      ],
      "text/plain": [
       "      con_prr_bj   yht_rn_bj  pcon_prd_bj  yht_pcon_100  diff_con_prr\n",
       "obs                                                                  \n",
       "2008  346.029075  268.777750    89.695232    299.656676     36.040065\n",
       "2009  384.730111  305.178093    94.787089    321.961669     32.030453"
      ]
     },
     "execution_count": 63,
     "metadata": {},
     "output_type": "execute_result"
    }
   ],
   "source": [
    "test1 = pd.concat([df_es[[\"con_prr_bj\" ,\"yht_rn_bj\"]],df_other[\"pcon_prd_bj\"]],axis=1)\n",
    "test1[\"yht_pcon_100\"] = test1[\"yht_rn_bj\"]/test1[\"pcon_prd_bj\"]*100\n",
    "test1[\"diff_con_prr\"] = test1[\"con_prr_bj\"].shift(1)-test1[\"con_prr_bj\"].shift(2)\n",
    "test1 = test1[(test1.index>2007) & (test1.index <2019)]\n",
    "test1.head(2)"
   ]
  },
  {
   "cell_type": "code",
   "execution_count": 64,
   "metadata": {
    "ExecuteTime": {
     "end_time": "2020-07-09T07:36:35.170645Z",
     "start_time": "2020-07-09T07:36:35.146875Z"
    }
   },
   "outputs": [
    {
     "data": {
      "text/html": [
       "<table class=\"simpletable\">\n",
       "<caption>OLS Regression Results</caption>\n",
       "<tr>\n",
       "  <th>Dep. Variable:</th>       <td>con_prr_bj</td>    <th>  R-squared:         </th> <td>   0.980</td>\n",
       "</tr>\n",
       "<tr>\n",
       "  <th>Model:</th>                   <td>OLS</td>       <th>  Adj. R-squared:    </th> <td>   0.975</td>\n",
       "</tr>\n",
       "<tr>\n",
       "  <th>Method:</th>             <td>Least Squares</td>  <th>  F-statistic:       </th> <td>   199.3</td>\n",
       "</tr>\n",
       "<tr>\n",
       "  <th>Date:</th>             <td>Thu, 09 Jul 2020</td> <th>  Prob (F-statistic):</th> <td>1.50e-07</td>\n",
       "</tr>\n",
       "<tr>\n",
       "  <th>Time:</th>                 <td>07:36:35</td>     <th>  Log-Likelihood:    </th> <td> -49.318</td>\n",
       "</tr>\n",
       "<tr>\n",
       "  <th>No. Observations:</th>      <td>    11</td>      <th>  AIC:               </th> <td>   104.6</td>\n",
       "</tr>\n",
       "<tr>\n",
       "  <th>Df Residuals:</th>          <td>     8</td>      <th>  BIC:               </th> <td>   105.8</td>\n",
       "</tr>\n",
       "<tr>\n",
       "  <th>Df Model:</th>              <td>     2</td>      <th>                     </th>     <td> </td>   \n",
       "</tr>\n",
       "<tr>\n",
       "  <th>Covariance Type:</th>      <td>nonrobust</td>    <th>                     </th>     <td> </td>   \n",
       "</tr>\n",
       "</table>\n",
       "<table class=\"simpletable\">\n",
       "<tr>\n",
       "        <td></td>          <th>coef</th>     <th>std err</th>      <th>t</th>      <th>P>|t|</th>  <th>[0.025</th>    <th>0.975]</th>  \n",
       "</tr>\n",
       "<tr>\n",
       "  <th>Intercept</th>    <td>   65.9612</td> <td>   25.621</td> <td>    2.574</td> <td> 0.033</td> <td>    6.878</td> <td>  125.044</td>\n",
       "</tr>\n",
       "<tr>\n",
       "  <th>yht_pcon_100</th> <td>    0.9533</td> <td>    0.051</td> <td>   18.630</td> <td> 0.000</td> <td>    0.835</td> <td>    1.071</td>\n",
       "</tr>\n",
       "<tr>\n",
       "  <th>diff_con_prr</th> <td>    0.5949</td> <td>    0.263</td> <td>    2.263</td> <td> 0.053</td> <td>   -0.011</td> <td>    1.201</td>\n",
       "</tr>\n",
       "</table>\n",
       "<table class=\"simpletable\">\n",
       "<tr>\n",
       "  <th>Omnibus:</th>       <td> 0.898</td> <th>  Durbin-Watson:     </th> <td>   1.690</td>\n",
       "</tr>\n",
       "<tr>\n",
       "  <th>Prob(Omnibus):</th> <td> 0.638</td> <th>  Jarque-Bera (JB):  </th> <td>   0.603</td>\n",
       "</tr>\n",
       "<tr>\n",
       "  <th>Skew:</th>          <td> 0.511</td> <th>  Prob(JB):          </th> <td>   0.740</td>\n",
       "</tr>\n",
       "<tr>\n",
       "  <th>Kurtosis:</th>      <td> 2.480</td> <th>  Cond. No.          </th> <td>1.72e+03</td>\n",
       "</tr>\n",
       "</table><br/><br/>Warnings:<br/>[1] Standard Errors assume that the covariance matrix of the errors is correctly specified.<br/>[2] The condition number is large, 1.72e+03. This might indicate that there are<br/>strong multicollinearity or other numerical problems."
      ],
      "text/plain": [
       "<class 'statsmodels.iolib.summary.Summary'>\n",
       "\"\"\"\n",
       "                            OLS Regression Results                            \n",
       "==============================================================================\n",
       "Dep. Variable:             con_prr_bj   R-squared:                       0.980\n",
       "Model:                            OLS   Adj. R-squared:                  0.975\n",
       "Method:                 Least Squares   F-statistic:                     199.3\n",
       "Date:                Thu, 09 Jul 2020   Prob (F-statistic):           1.50e-07\n",
       "Time:                        07:36:35   Log-Likelihood:                -49.318\n",
       "No. Observations:                  11   AIC:                             104.6\n",
       "Df Residuals:                       8   BIC:                             105.8\n",
       "Df Model:                           2                                         \n",
       "Covariance Type:            nonrobust                                         \n",
       "================================================================================\n",
       "                   coef    std err          t      P>|t|      [0.025      0.975]\n",
       "--------------------------------------------------------------------------------\n",
       "Intercept       65.9612     25.621      2.574      0.033       6.878     125.044\n",
       "yht_pcon_100     0.9533      0.051     18.630      0.000       0.835       1.071\n",
       "diff_con_prr     0.5949      0.263      2.263      0.053      -0.011       1.201\n",
       "==============================================================================\n",
       "Omnibus:                        0.898   Durbin-Watson:                   1.690\n",
       "Prob(Omnibus):                  0.638   Jarque-Bera (JB):                0.603\n",
       "Skew:                           0.511   Prob(JB):                        0.740\n",
       "Kurtosis:                       2.480   Cond. No.                     1.72e+03\n",
       "==============================================================================\n",
       "\n",
       "Warnings:\n",
       "[1] Standard Errors assume that the covariance matrix of the errors is correctly specified.\n",
       "[2] The condition number is large, 1.72e+03. This might indicate that there are\n",
       "strong multicollinearity or other numerical problems.\n",
       "\"\"\""
      ]
     },
     "execution_count": 64,
     "metadata": {},
     "output_type": "execute_result"
    }
   ],
   "source": [
    "results = sm.ols(formula = \"con_prr_bj ~ yht_pcon_100 + diff_con_prr\",data = test1 ).fit()\n",
    "results.summary()"
   ]
  },
  {
   "cell_type": "markdown",
   "metadata": {},
   "source": [
    "## Eq34 : investr_bj 行为方程\n",
    "investr_bj  = @coef(1)  + @coef(2) * loann_bj / faipi_bj * 100  + @coef(3) * d_investr_bj"
   ]
  },
  {
   "cell_type": "code",
   "execution_count": 66,
   "metadata": {
    "ExecuteTime": {
     "end_time": "2020-07-09T07:39:02.472044Z",
     "start_time": "2020-07-09T07:39:02.467011Z"
    }
   },
   "outputs": [
    {
     "name": "stdout",
     "output_type": "stream",
     "text": [
      "investr_bj 在第  1  个数据框中\n",
      "loann_bj 在第  1  个数据框中\n",
      "faipi_bj 在第  1  个数据框中\n"
     ]
    }
   ],
   "source": [
    "whereis([\"investr_bj\" ,\"loann_bj\" , \"faipi_bj\",\"d_investr_bj\"])"
   ]
  },
  {
   "cell_type": "code",
   "execution_count": null,
   "metadata": {},
   "outputs": [],
   "source": []
  },
  {
   "cell_type": "markdown",
   "metadata": {},
   "source": [
    "## Eq35 : inv_fir_bj 行为方程\n",
    "inv_fir_bj  = @coef(1)  + @coef(2) * investr_bj  + @coef(3) * inv_fir_bj(-1)"
   ]
  },
  {
   "cell_type": "code",
   "execution_count": 67,
   "metadata": {
    "ExecuteTime": {
     "end_time": "2020-07-09T07:41:14.731565Z",
     "start_time": "2020-07-09T07:41:14.726521Z"
    }
   },
   "outputs": [
    {
     "name": "stdout",
     "output_type": "stream",
     "text": [
      "inv_fir_bj 在第  1  个数据框中\n",
      "inv_fir_bj 在第  2  个数据框中\n",
      "investr_bj 在第  1  个数据框中\n"
     ]
    }
   ],
   "source": [
    "whereis([\"inv_fir_bj\" ,\"investr_bj\" ])"
   ]
  },
  {
   "cell_type": "markdown",
   "metadata": {},
   "source": [
    "## Eq36 : nex_gsr_bj 行为方程\n",
    "nex_gsr_bj  = @coef(1)  + @coef(2) * gdpr_bj  + @coef(3) * nex_gsr_bj(-1)  + @coef(4) * d_nex_gsr_bj"
   ]
  },
  {
   "cell_type": "code",
   "execution_count": 68,
   "metadata": {
    "ExecuteTime": {
     "end_time": "2020-07-09T07:42:10.637578Z",
     "start_time": "2020-07-09T07:42:10.632261Z"
    }
   },
   "outputs": [
    {
     "name": "stdout",
     "output_type": "stream",
     "text": [
      "nex_gsr_bj 在第  1  个数据框中\n",
      "nex_gsr_bj 在第  2  个数据框中\n",
      "gdpr_bj 在第  1  个数据框中\n"
     ]
    }
   ],
   "source": [
    "whereis([\"nex_gsr_bj\" ,\"gdpr_bj\",\"d_nex_gsr_bj\" ])"
   ]
  },
  {
   "cell_type": "code",
   "execution_count": null,
   "metadata": {},
   "outputs": [],
   "source": []
  },
  {
   "cell_type": "markdown",
   "metadata": {},
   "source": [
    "## Eq37 : consn_bj 行为方程\n",
    "consn_bj  = @coef(1)  + @coef(2) * (yht_n_bj - yht_n_bj(-1))  + @coef(3) * consn_bj(-1)  + @coef(4) * d_consn_bj"
   ]
  },
  {
   "cell_type": "code",
   "execution_count": 69,
   "metadata": {
    "ExecuteTime": {
     "end_time": "2020-07-09T07:43:48.739006Z",
     "start_time": "2020-07-09T07:43:48.733914Z"
    }
   },
   "outputs": [
    {
     "name": "stdout",
     "output_type": "stream",
     "text": [
      "consn_bj 在第  1  个数据框中\n",
      "consn_bj 在第  2  个数据框中\n",
      "yht_n_bj 在第  1  个数据框中\n"
     ]
    }
   ],
   "source": [
    "whereis([\"consn_bj\" ,\"yht_n_bj\" , \"d_consn_bj\"])"
   ]
  },
  {
   "cell_type": "markdown",
   "metadata": {},
   "source": [
    "## Eq38: exusd_bj 行为方程\n",
    "exusd_bj  = @coef(1)  + @coef(2) * exusd_ch  + @coef(3) * exusd_bj(-1)  + @coef(4) * (exusd_bj(-1) - exusd_bj(-2))  + @coef(5) * d_exusd_bj\n"
   ]
  },
  {
   "cell_type": "code",
   "execution_count": 74,
   "metadata": {
    "ExecuteTime": {
     "end_time": "2020-07-09T07:53:19.645486Z",
     "start_time": "2020-07-09T07:53:19.641263Z"
    }
   },
   "outputs": [
    {
     "name": "stdout",
     "output_type": "stream",
     "text": [
      "exusd_bj 在第  1  个数据框中\n"
     ]
    }
   ],
   "source": [
    "whereis([\"exusd_bj\" ,\"exusd_ch\" , \"d_exusd_bj\"])"
   ]
  },
  {
   "cell_type": "markdown",
   "metadata": {},
   "source": [
    "## Eq39 : imusd_bj 行为方程\n",
    "log(imusd_bj)  = @coef(1)  + @coef(2) * log(imusd_bj(-1))  + @coef(3) * log(exusd_bj)  + @coef(4) * d_imusd_bj"
   ]
  },
  {
   "cell_type": "code",
   "execution_count": 73,
   "metadata": {
    "ExecuteTime": {
     "end_time": "2020-07-09T07:52:11.040816Z",
     "start_time": "2020-07-09T07:52:11.035314Z"
    }
   },
   "outputs": [
    {
     "name": "stdout",
     "output_type": "stream",
     "text": [
      "imusd_bj 在第  1  个数据框中\n",
      "exusd_bj 在第  1  个数据框中\n"
     ]
    }
   ],
   "source": [
    "whereis([\"imusd_bj\" ,\"exusd_bj\" , \"d_imusd_bj\"])"
   ]
  },
  {
   "cell_type": "code",
   "execution_count": null,
   "metadata": {},
   "outputs": [],
   "source": []
  },
  {
   "cell_type": "markdown",
   "metadata": {},
   "source": [
    "# 模型（联立方程）"
   ]
  },
  {
   "cell_type": "code",
   "execution_count": null,
   "metadata": {},
   "outputs": [],
   "source": []
  }
 ],
 "metadata": {
  "hide_input": false,
  "kernelspec": {
   "display_name": "Python 3",
   "language": "python",
   "name": "python3"
  },
  "language_info": {
   "codemirror_mode": {
    "name": "ipython",
    "version": 3
   },
   "file_extension": ".py",
   "mimetype": "text/x-python",
   "name": "python",
   "nbconvert_exporter": "python",
   "pygments_lexer": "ipython3",
   "version": "3.7.3"
  },
  "toc": {
   "base_numbering": 1,
   "nav_menu": {},
   "number_sections": true,
   "sideBar": true,
   "skip_h1_title": false,
   "title_cell": "Table of Contents",
   "title_sidebar": "Contents",
   "toc_cell": false,
   "toc_position": {
    "height": "calc(100% - 180px)",
    "left": "10px",
    "top": "150px",
    "width": "356.641px"
   },
   "toc_section_display": true,
   "toc_window_display": true
  }
 },
 "nbformat": 4,
 "nbformat_minor": 2
}
