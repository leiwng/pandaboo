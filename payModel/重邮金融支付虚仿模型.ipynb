{
 "cells": [
  {
   "cell_type": "markdown",
   "metadata": {},
   "source": [
    "word文档 问题：==》修改\n",
    "-  斜率是否这样计算？这个推理不应该是对的： 即每一个单位(上升或下降的值为a) 的利率参数变动对应客户数量的变动为.特别是$i_{\\min }$不为零情况\n",
    "\n",
    "<font size = 4 color =\"blue\">\n",
    "\n",
    "x轴=利率变化 :  $\\frac{i_{\\max }}{a}$ - $\\frac{i_{\\min }}{a}$   \n",
    "\n",
    "y轴=客户数变化 :  N - 0 = N\n",
    "\n",
    "y/x利率:   $\\frac{N * a} {(i_{\\max } - i_{\\min })}$\n",
    "\n",
    "如果 $i_{\\min }$ = 0 ,$\\frac{N * a} {i_{\\max }}$\n",
    "</font>\n",
    "\n",
    "\n",
    "- 模型\n",
    "\n",
    "N/B\n"
   ]
  },
  {
   "cell_type": "markdown",
   "metadata": {},
   "source": [
    "# 1.需求\n",
    "多名学生分别扮演多个银行，同时对各自的利率和手续费等影响因素进\n",
    "行调节，在每个学生分别调节完后录入仿真试验系统中。通过特定的模型\n",
    "算法产生对抗，根据每个学生操作的银行的影响因素的大小进行反馈并给\n",
    "出客户数量和总的资金流。该项仿真试验模型的创新点为运用统计和计量\n",
    "经济学知识，结合金融的EGARCH 模型思想已经宏观经济学中的动态均\n",
    "衡思想。<br>\n",
    "<b>输入：</b>利率(α的倍数）和手续费（b的倍数）等影响成本的因<br>\n",
    "<b>输出：</b>客户数和资金流。<br>\n",
    "<b>算法：</b>EGARCH <br>\n",
    "<b>场景:</b>\n",
    "-\t单一银行的单一要素对客户和资金流的分布的具体影响；\n",
    "-\t单一银行的多种要素同时变动，多种要素对客户和资金流的分布的混合影响；\n",
    "-\t多个银行同时存在时，多个银行分别调整单一要素同时作用于客户和资金流，客户和资金流会被如何影响；\n",
    "-\t多个银行同时存在时，并且多种要素同时变动时，多个银行分别调整多种要素并同时作用于客户和资金流，客户和资金流会被如何影响；\n"
   ]
  },
  {
   "cell_type": "code",
   "execution_count": 2,
   "metadata": {},
   "outputs": [],
   "source": [
    "import ipywidgets as widgets\n",
    "import numpy as np"
   ]
  },
  {
   "cell_type": "markdown",
   "metadata": {},
   "source": [
    "# 2.模型\n",
    "<b>银行</b>：市场上存在B家银行，银行的利率参数$\\mathrm{r}_{\\mathrm{m}, 1}$（可以在一个区间内调节：$\\dot{I} \\in\\left[\\mathrm{i}_{\\mathrm{min}}, \\mathrm{i}_{\\mathrm{max}}\\right]$。）和手续成本参数r_(m,2)(在一个区间内调节：$c \\in\\left[0, c_{\\max }\\right]$)\n",
    "<br>\n",
    "<b>客户</b>：市场上存在N个客户（商户），每个客户带来的资金量为固定值M, 则该虚拟仿真市场上存在的总资金量为N 乘以M；同时定义在最初时刻（即试验最开始环节），每家银行分到的客户和资金量为均等的，其对应的值为NM/B ；\n",
    "\n",
    "<b> 客户量$\\mathrm{N}_{\\mathrm{m}}$ =N；资金流$M_{m}=N_{m} M$</b>\n",
    "<font color =\"blue\" size =4>\n",
    "$\\begin{aligned} N_{m}^{*}=N / B+p_{m, 1}(B-1)\\left(\\right.\\text {change} \\left._{m, 1}\\right)-& \\sum_{k \\neq m}^{B} p_{k, 1} \\operatorname{change}_{k, 1} +p_{m, 2}(B-1)\\left(\\right.\\text {change} \\left._{m, 2}\\right)-\\sum_{k \\neq m}^{B} p_{k, 2} \\operatorname{change}_{k, 2} \\end{aligned}$\n",
    " \n",
    " $N_{m}^{*}=N / B+ B* \\left(p_{m, 1}\\right.$ change $\\left._{m, 1}\\right)-\\sum_{k }^{B} p_{k, 1}$ change $_{k, 1}+ B *\\left(p_{m, 2}\\right.$ change $\\left._{m, 2}\\right)-\\sum_{k }^{B} p_{k, 2}$ change $_{k, 2}$\n",
    " \n",
    "或 ：<br>\n",
    "$\\begin{aligned} N_{m}^{*}=N / B+\\sum_{k=1 }^{B}\\left(p_{m, 1}\\right.\\text {change} \\left._{m, 1}- p_{k, 1} \\text {change}_{k, 1}\\right) +\\sum_{k=1 }^{B}\\left(p_{m, 2}\\right.\\text {change} \\left._{m, 2}- p_{k, 2} \\text {change}_{k, 2}\\right)\\end{aligned}$\n",
    "\n",
    "$\\begin{aligned} N_{m}^{*}=N / B+ factor1 +factor2\\end{aligned}$\n",
    "  \n",
    "</font>\n",
    "已证明 ：市场永远均衡，客户数和等于总客户数\n",
    "    \n",
    "# 3.老师参数\n",
    "global_paras"
   ]
  },
  {
   "cell_type": "code",
   "execution_count": 3,
   "metadata": {},
   "outputs": [],
   "source": [
    "# 市场上有B家银行\n",
    "B = 5\n",
    "# 市场上有100个客户\n",
    "N = 100\n",
    "# 每个客户的资金量，单位：元\n",
    "M =10000\n",
    "# 市场上的利率区间,存款利率\n",
    "i_min = 0\n",
    "i_max = 1\n",
    "# 市场上的手续费区间区间\n",
    "c_min = 0\n",
    "c_max = 0.5\n",
    "# 市场上利率调节，幅度步长 a%\n",
    "a = 0.25\n",
    "# 市场上手续费条件，幅度步长b%\n",
    "b = 0.001\n",
    "# 利率影响因素权重\n",
    "w1 = 0.3"
   ]
  },
  {
   "cell_type": "code",
   "execution_count": 4,
   "metadata": {},
   "outputs": [
    {
     "data": {
      "text/plain": [
       "['bank_1', 'bank_2', 'bank_3', 'bank_4', 'bank_5']"
      ]
     },
     "execution_count": 4,
     "metadata": {},
     "output_type": "execute_result"
    }
   ],
   "source": [
    "bank_list = [\"bank_\"+str(i+1) for i in range(B)]\n",
    "bank_list"
   ]
  },
  {
   "cell_type": "markdown",
   "metadata": {},
   "source": [
    "<font color =\"blue\" size =4>定义模型 </font>"
   ]
  },
  {
   "cell_type": "code",
   "execution_count": 5,
   "metadata": {},
   "outputs": [],
   "source": [
    "class bank():\n",
    "    def __init__(self,B,N,M,i_min,i_max,c_min,c_max,a,b,w1):\n",
    "        self.B = B\n",
    "        self.N = N\n",
    "        self.M = M\n",
    "        self.i_min = i_min\n",
    "        self.i_max = i_max\n",
    "        self.c_min = c_min\n",
    "        self.c_max = c_max        \n",
    "        self.a = a\n",
    "        self.b = b\n",
    "        self.w1 = w1\n",
    "                \n",
    "       # 交易手续费影响权重\n",
    "        self.w2 = 1 - w1 \n",
    "        \n",
    "    def  cal_n(self,p1,p2,r1,r2) :  \n",
    "        #斜率\n",
    "        perc1 =  self.N /(self.i_max - self.i_min)\n",
    "        perc2 =  -self.N /(self.c_max - self.c_min)  #附利率 ,可以带入等式中使用\n",
    "        \n",
    "        change1 = [self.w1 * x * perc1 for x in r1]  # x - 0\n",
    "        change2 = [self.w2 * x * perc2 for x in r2]\n",
    "\n",
    "        f1 =  np.array(p1) * np.array(change1)\n",
    "        factor1 = self.B*f1 - sum(f1)\n",
    "\n",
    "        f2 =  np.array(p2) * np.array(change2)\n",
    "        factor2 = self.B * f2 - sum(f2)\n",
    "\n",
    "        N_cust = [int(x) for x in [self.N/self.B] + factor1 + factor2]  # 客户数\n",
    "        N_money = [x * self.M for x in N_cust]                       # 资金量\n",
    "        print (\"客户数     资金量\")\n",
    "        return N_cust ,N_money\n",
    "my_scen = bank(B,N,M,i_min,i_max,c_min,c_max ,a,b,w1) #场景"
   ]
  },
  {
   "cell_type": "markdown",
   "metadata": {},
   "source": [
    "# 4.初始状态\n",
    "ini_set"
   ]
  },
  {
   "cell_type": "code",
   "execution_count": 6,
   "metadata": {},
   "outputs": [
    {
     "data": {
      "text/plain": [
       "[0, 0, 0, 0, 0]"
      ]
     },
     "execution_count": 6,
     "metadata": {},
     "output_type": "execute_result"
    }
   ],
   "source": [
    "p1 = [0]*B \n",
    "p2 = [0]*B\n",
    "r1 = [0]*B  #利率调整幅度\n",
    "r2 = [0]*B  #手续费调整幅度\n",
    "p2"
   ]
  },
  {
   "cell_type": "markdown",
   "metadata": {},
   "source": [
    "# 5.学生设置\n",
    "student_paras\n",
    "## 场景选择\n",
    "\n",
    "### 5.1 单一银行的单一要素对客户和资金流的分布的具体影响；"
   ]
  },
  {
   "cell_type": "code",
   "execution_count": 22,
   "metadata": {},
   "outputs": [
    {
     "data": {
      "application/vnd.jupyter.widget-view+json": {
       "model_id": "ebec4576835a4ccfb21cb510910b5c95",
       "version_major": 2,
       "version_minor": 0
      },
      "text/plain": [
       "HBox(children=(Dropdown(description='银行:', options=('bank_1', 'bank_2', 'bank_3', 'bank_4', 'bank_5'), value='…"
      ]
     },
     "metadata": {},
     "output_type": "display_data"
    }
   ],
   "source": [
    "one_one = widgets.HBox([\n",
    " widgets.Dropdown(\n",
    "    options=bank_list,\n",
    "    value='bank_1',\n",
    "    description='银行:',\n",
    "    disabled=False,\n",
    "),\n",
    "widgets.RadioButtons(\n",
    "    options=['利率', '手续费'],\n",
    "#     value='pineapple',\n",
    "    description='调节指标:',\n",
    "    disabled=False\n",
    "),\n",
    "widgets.RadioButtons(\n",
    "    options=[\"上升\", \"下降\"],\n",
    "#     value='pineapple',\n",
    "    description='调节方向:',\n",
    "    disabled=False\n",
    "),\n",
    "widgets.BoundedFloatText(\n",
    "    value=0,\n",
    "    min=0,\n",
    "    max=1,\n",
    "    step=0.25,  # 是关于指标类型的变量\n",
    "    description='调整幅度(%):',\n",
    "    disabled=False\n",
    ")    \n",
    "    \n",
    "])\n",
    "one_one"
   ]
  },
  {
   "cell_type": "code",
   "execution_count": 8,
   "metadata": {},
   "outputs": [
    {
     "name": "stdout",
     "output_type": "stream",
     "text": [
      "利率p1 : [1, 0, 0, 0, 0],  手续费p2 : [0, 0, 0, 0, 0] , 利率r1 : [0.0, 0, 0, 0, 0] ,  手续费r2 : [0, 0, 0, 0, 0]\n"
     ]
    }
   ],
   "source": [
    "# 初始状态\n",
    "p1 = [0]*B \n",
    "p2 = [0]*B\n",
    "r1 = [0]*B  #利率调整幅度\n",
    "r2 = [0]*B  #手续费调整幅度\n",
    "\n",
    "i = list(one_one.children[0].options).index(one_one.children[0].value) # 第i家银行指标有变动\n",
    "if one_one.children[1].value == \"利率\" :\n",
    "    p1[i] = 1 if one_one.children[2].value == \"上升\" else -1\n",
    "    r1[i] = one_one.children[3].value\n",
    "elif   one_one.children[1].value == \"手续费\" :  \n",
    "    p2[i] = 1 if one_one.children[2].value == \"上升\" else -1\n",
    "    r2[i] = one_one.children[3].value\n",
    "print(\"利率p1 : {},  手续费p2 : {} , 利率r1 : {} ,  手续费r2 : {}\".format(p1,p2,r1,r2))"
   ]
  },
  {
   "cell_type": "markdown",
   "metadata": {},
   "source": [
    "<font color =\"red\" size =4>调用模型 </font>"
   ]
  },
  {
   "cell_type": "code",
   "execution_count": 9,
   "metadata": {},
   "outputs": [
    {
     "name": "stdout",
     "output_type": "stream",
     "text": [
      "客户数     资金量\n"
     ]
    },
    {
     "data": {
      "text/plain": [
       "([20, 20, 20, 20, 20], [200000, 200000, 200000, 200000, 200000])"
      ]
     },
     "execution_count": 9,
     "metadata": {},
     "output_type": "execute_result"
    }
   ],
   "source": [
    "my_scen.cal_n(p1,p2,r1,r2)"
   ]
  },
  {
   "cell_type": "markdown",
   "metadata": {},
   "source": [
    "### 5.2 单一银行的多种要素同时变动，多种要素对客户和资金流的分布的混合影响；"
   ]
  },
  {
   "cell_type": "code",
   "execution_count": 23,
   "metadata": {},
   "outputs": [
    {
     "data": {
      "application/vnd.jupyter.widget-view+json": {
       "model_id": "aae26726aa104ed599ea7b978b078714",
       "version_major": 2,
       "version_minor": 0
      },
      "text/plain": [
       "VBox(children=(Dropdown(description='银行:', options=('bank_1', 'bank_2', 'bank_3', 'bank_4', 'bank_5'), value='…"
      ]
     },
     "metadata": {},
     "output_type": "display_data"
    }
   ],
   "source": [
    "one_mul = widgets.VBox([ widgets.Dropdown(\n",
    "    options=bank_list,\n",
    "    value= \"bank_1\",\n",
    "    description='银行:',\n",
    "    disabled=False,\n",
    "),widgets.HBox([\n",
    "widgets.Label(value=\"  调解利率\") ,\n",
    "widgets.RadioButtons(\n",
    "    options=[\"上升\", \"下降\"],\n",
    "#     value='pineapple',\n",
    "    description='调节方向:',\n",
    "    disabled=False\n",
    "),\n",
    "widgets.BoundedFloatText(\n",
    "    value=0,\n",
    "    min=0,\n",
    "    max=1,\n",
    "    step=0.25,  # 是关于指标类型的变量\n",
    "    description='调整幅度(%):',\n",
    "    disabled=False\n",
    ")    \n",
    "    \n",
    "]),widgets.HBox([\n",
    "widgets.Label(value=\"  调解手续费\") ,\n",
    "widgets.RadioButtons(\n",
    "    options=[\"上升\", \"下降\"],\n",
    "#     value='pineapple',\n",
    "    description='调节方向:',\n",
    "    disabled=False\n",
    "),\n",
    "widgets.BoundedFloatText(\n",
    "    value=0,\n",
    "    min=0,\n",
    "    max=1,\n",
    "    step=0.001,  # 是关于指标类型的变量\n",
    "    description='调整幅度(%):',\n",
    "    disabled=False\n",
    ")    \n",
    "    \n",
    "])\n",
    "                       ])\n",
    "one_mul"
   ]
  },
  {
   "cell_type": "code",
   "execution_count": 11,
   "metadata": {},
   "outputs": [
    {
     "name": "stdout",
     "output_type": "stream",
     "text": [
      "利率 p1 : [1, 0, 0, 0, 0],  手续费 p2 : [1, 0, 0, 0, 0] , 利率 r1 : [0.0, 0, 0, 0, 0] ,  手续费 r2 : [0.0, 0, 0, 0, 0]\n"
     ]
    }
   ],
   "source": [
    "# 初始状态\n",
    "p1 = [0]*B \n",
    "p2 = [0]*B\n",
    "r1 = [0]*B  #利率调整幅度\n",
    "r2 = [0]*B  #手续费调整幅度\n",
    "\n",
    "# 读取修改数据\n",
    "i = list(one_mul.children[0].options).index(one_mul.children[0].value) # 第i家银行指标有变动\n",
    "\n",
    "p1[i] = 1 if one_mul.children[1].children[1].value == \"上升\" else -1\n",
    "r1[i] = one_mul.children[1].children[2].value\n",
    "\n",
    "p2[i] = 1 if one_mul.children[2].children[1].value == \"上升\" else -1\n",
    "r2[i] = one_mul.children[2].children[2].value\n",
    "print(\"利率 p1 : {},  手续费 p2 : {} , 利率 r1 : {} ,  手续费 r2 : {}\".format(p1,p2,r1,r2))"
   ]
  },
  {
   "cell_type": "code",
   "execution_count": 12,
   "metadata": {},
   "outputs": [
    {
     "name": "stdout",
     "output_type": "stream",
     "text": [
      "客户数     资金量\n"
     ]
    },
    {
     "data": {
      "text/plain": [
       "([20, 20, 20, 20, 20], [200000, 200000, 200000, 200000, 200000])"
      ]
     },
     "execution_count": 12,
     "metadata": {},
     "output_type": "execute_result"
    }
   ],
   "source": [
    "# 调用模型\n",
    "my_scen.cal_n(p1,p2,r1,r2)"
   ]
  },
  {
   "cell_type": "markdown",
   "metadata": {},
   "source": [
    "### 5.3 多个银行同时存在时，多个银行分别调整单一要素同时作用于客户和资金流，客户和资金流会被如何影响；"
   ]
  },
  {
   "cell_type": "code",
   "execution_count": 13,
   "metadata": {},
   "outputs": [
    {
     "data": {
      "application/vnd.jupyter.widget-view+json": {
       "model_id": "daecec4147504cf38217329b69534a5d",
       "version_major": 2,
       "version_minor": 0
      },
      "text/plain": [
       "VBox(children=(RadioButtons(description='调节指标:', options=('利率', '手续费'), value='利率'), HBox(children=(Dropdown(d…"
      ]
     },
     "metadata": {},
     "output_type": "display_data"
    }
   ],
   "source": [
    "list_box = [widgets.RadioButtons(\n",
    "    options=['利率', '手续费'],\n",
    "#     value='pineapple',\n",
    "    description='调节指标:',\n",
    "    disabled=False\n",
    ")]\n",
    "for i in range(B):\n",
    "    one_bank = widgets.HBox([\n",
    "                 widgets.Dropdown(\n",
    "                    options=['A', 'B', 'C'],\n",
    "                    value='B',\n",
    "                    description='银行:',\n",
    "                    disabled=False,\n",
    "                ),\n",
    "                widgets.RadioButtons(\n",
    "                    options=[\"上升\", \"下降\"],\n",
    "                #     value='pineapple',\n",
    "                    description='调节方向:',\n",
    "                    disabled=False\n",
    "                ),\n",
    "                widgets.BoundedFloatText(\n",
    "                    value=0,\n",
    "                    min=0,\n",
    "                    max=1,\n",
    "                    step=0.25,  # 是关于指标类型的变量\n",
    "                    description='调整幅度(%):',\n",
    "                    disabled=False\n",
    "                )    \n",
    "\n",
    "                ])\n",
    "    list_box.append(one_bank)\n",
    "list_box.append(widgets.Button(\n",
    "    description='确定',\n",
    "    disabled=False,\n",
    "    button_style='warning', # 'success', 'info', 'warning', 'danger' or ''\n",
    "    tooltip='',\n",
    "    icon='check'\n",
    ") )\n",
    "mul_one = widgets.VBox(list_box)\n",
    "mul_one"
   ]
  },
  {
   "cell_type": "code",
   "execution_count": 14,
   "metadata": {},
   "outputs": [
    {
     "name": "stdout",
     "output_type": "stream",
     "text": [
      "利率 p1 : [1, 1, 1, 1, 1],  手续费 p2 : [0, 0, 0, 0, 0] , 利率 r1 : [0.0, 0.0, 0.0, 0.0, 0.0] ,  手续费 r2 : [0, 0, 0, 0, 0]\n"
     ]
    }
   ],
   "source": [
    "# 初始状态\n",
    "p1 = [0]*B \n",
    "p2 = [0]*B\n",
    "r1 = [0]*B  #利率调整幅度\n",
    "r2 = [0]*B  #手续费调整幅度\n",
    "\n",
    "# 读取修改数据\n",
    "\n",
    "if mul_one.children[0].value  == \"利率\":\n",
    "    for i in range(B) :\n",
    "        p1[i] = 1 if mul_one.children[i+1].children[1].value == \"上升\" else -1\n",
    "        r1[i] = mul_one.children[i+1].children[2].value        \n",
    "elif mul_one.children[0].value  == \"手续费\":\n",
    "    for i in range(B) :\n",
    "        p2[i] = 1 if mul_one.children[i+1].children[1].value == \"上升\" else -1\n",
    "        r2[i] = mul_one.children[i+1].children[2].value\n",
    "print(\"利率 p1 : {},  手续费 p2 : {} , 利率 r1 : {} ,  手续费 r2 : {}\".format(p1,p2,r1,r2))"
   ]
  },
  {
   "cell_type": "code",
   "execution_count": 15,
   "metadata": {},
   "outputs": [
    {
     "name": "stdout",
     "output_type": "stream",
     "text": [
      "客户数     资金量\n"
     ]
    },
    {
     "data": {
      "text/plain": [
       "([20, 20, 20, 20, 20], [200000, 200000, 200000, 200000, 200000])"
      ]
     },
     "execution_count": 15,
     "metadata": {},
     "output_type": "execute_result"
    }
   ],
   "source": [
    "# 调用模型\n",
    "my_scen.cal_n(p1,p2,r1,r2)"
   ]
  },
  {
   "cell_type": "markdown",
   "metadata": {},
   "source": [
    "### 5.4 多个银行同时存在时，并且多种要素同时变动时，多个银行分别调整多种要素并同时作用于客户和资金流，客户和资金流会被如何影响；"
   ]
  },
  {
   "cell_type": "code",
   "execution_count": null,
   "metadata": {},
   "outputs": [],
   "source": []
  },
  {
   "cell_type": "code",
   "execution_count": 16,
   "metadata": {},
   "outputs": [
    {
     "data": {
      "application/vnd.jupyter.widget-view+json": {
       "model_id": "87670abd94a64574a5c95606a3938bb1",
       "version_major": 2,
       "version_minor": 0
      },
      "text/plain": [
       "VBox(children=(HBox(children=(Dropdown(description='银行:', options=('bank_1', 'bank_2', 'bank_3', 'bank_4', 'ba…"
      ]
     },
     "metadata": {},
     "output_type": "display_data"
    }
   ],
   "source": [
    "# 和B有关\n",
    "list_box = []\n",
    "for i in range(B) :\n",
    "    \n",
    "        one_box = widgets.HBox([ widgets.Dropdown(\n",
    "            options=bank_list,\n",
    "            value='bank_1',\n",
    "            description='银行:',\n",
    "            disabled=False,\n",
    "        ),widgets.HBox([\n",
    "\n",
    "        widgets.RadioButtons(\n",
    "            options=[\"上升\", \"下降\"],\n",
    "        #     value='pineapple',\n",
    "            description='调节利率:',\n",
    "            disabled=False\n",
    "        ),\n",
    "        widgets.BoundedFloatText(\n",
    "            value=0,\n",
    "            min=0,\n",
    "            max=1,\n",
    "            step=0.25,  # 是关于指标类型的变量\n",
    "            description='幅度(%):',\n",
    "            disabled=False\n",
    "        )    \n",
    "\n",
    "        ]),\n",
    "         widgets.HBox([\n",
    "\n",
    "\n",
    "         widgets.RadioButtons(\n",
    "            options=[\"上升\", \"下降\"],\n",
    "        #     value='pineapple',\n",
    "            description='调节手续费:',\n",
    "            disabled=False\n",
    "        ),\n",
    "        widgets.BoundedFloatText(\n",
    "            value=0,\n",
    "            min=0,\n",
    "            max=1,\n",
    "            step=0.001,\n",
    "            description='幅度(%):',\n",
    "            disabled=False\n",
    "        )    \n",
    "\n",
    "        ]),\n",
    "\n",
    "\n",
    "                                ])\n",
    "        list_box.append(one_box)\n",
    "mul_mul = widgets.VBox(list_box)\n",
    "mul_mul"
   ]
  },
  {
   "cell_type": "code",
   "execution_count": 17,
   "metadata": {},
   "outputs": [
    {
     "data": {
      "text/plain": [
       "0.0"
      ]
     },
     "execution_count": 17,
     "metadata": {},
     "output_type": "execute_result"
    }
   ],
   "source": [
    "mul_mul.children[0].children[2].children[1].value"
   ]
  },
  {
   "cell_type": "code",
   "execution_count": 18,
   "metadata": {},
   "outputs": [
    {
     "name": "stdout",
     "output_type": "stream",
     "text": [
      "利率 p1 : [1, 1, 1, 1, 1],  手续费 p2 : [1, 1, 1, 1, 1] , 利率 r1 : [0.0, 0.0, 0.0, 0.0, 0.0] ,  手续费 r2 : [0.0, 0.0, 0.0, 0.0, 0.0]\n"
     ]
    }
   ],
   "source": [
    "# 初始状态\n",
    "p1 = [0]*B \n",
    "p2 = [0]*B\n",
    "r1 = [0]*B  #利率调整幅度\n",
    "r2 = [0]*B  #手续费调整幅度\n",
    "\n",
    "# 读取修改数据\n",
    "for i in range(B):\n",
    "    p1[i] = 1 if mul_mul.children[i].children[1].children[0].value == \"上升\" else -1\n",
    "    r1[i] = mul_mul.children[i].children[1].children[1].value\n",
    "    p2[i] = 1 if mul_mul.children[i].children[2].children[0].value == \"上升\" else -1\n",
    "    r2[i] = mul_mul.children[i].children[2].children[1].value\n",
    "    \n",
    "print(\"利率 p1 : {},  手续费 p2 : {} , 利率 r1 : {} ,  手续费 r2 : {}\".format(p1,p2,r1,r2))    "
   ]
  },
  {
   "cell_type": "code",
   "execution_count": 19,
   "metadata": {},
   "outputs": [
    {
     "name": "stdout",
     "output_type": "stream",
     "text": [
      "客户数     资金量\n"
     ]
    },
    {
     "data": {
      "text/plain": [
       "([20, 20, 20, 20, 20], [200000, 200000, 200000, 200000, 200000])"
      ]
     },
     "execution_count": 19,
     "metadata": {},
     "output_type": "execute_result"
    }
   ],
   "source": [
    "# 调用模型\n",
    "my_scen.cal_n(p1,p2,r1,r2)"
   ]
  },
  {
   "cell_type": "code",
   "execution_count": null,
   "metadata": {},
   "outputs": [],
   "source": []
  }
 ],
 "metadata": {
  "kernelspec": {
   "display_name": "Python 3",
   "language": "python",
   "name": "python3"
  },
  "language_info": {
   "codemirror_mode": {
    "name": "ipython",
    "version": 3
   },
   "file_extension": ".py",
   "mimetype": "text/x-python",
   "name": "python",
   "nbconvert_exporter": "python",
   "pygments_lexer": "ipython3",
   "version": "3.8.2"
  }
 },
 "nbformat": 4,
 "nbformat_minor": 2
}
