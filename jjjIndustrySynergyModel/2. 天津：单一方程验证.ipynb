{
 "cells": [
  {
   "cell_type": "markdown",
   "metadata": {},
   "source": [
    "- 方法相同、拟合参数表达不同 ：  模拟拟合参数不同，EQ13\n",
    "- 回归方程 ：要加时间限制，否则结果不一样；\n",
    "- 函数中自动跳过为空的数据 ；联立方程可以定义每个方程的数据源？ \n",
    "- 单一方程式 ：预测与excel有差异 ，excel预测值是“联立方程的预测结果”？\n",
    "- 单一方程参数 = 联立方程参数 ？ 基线拟合参数 = 场景拟合参数\n",
    "- d 哑变量，是否作为数据源不变，还是需要提取规则，当其它发生变化，可能引起d变量发生改变"
   ]
  },
  {
   "cell_type": "code",
   "execution_count": 2,
   "metadata": {
    "ExecuteTime": {
     "end_time": "2020-07-21T03:09:17.612593Z",
     "start_time": "2020-07-21T03:09:16.347507Z"
    }
   },
   "outputs": [],
   "source": [
    "#引包：引入所需python包\n",
    "import xlrd\n",
    "import os\n",
    "import re\n",
    "import pandas as pd\n",
    "import numpy as np\n",
    "import statsmodels.formula.api as sm\n",
    "\n",
    "from sklearn.metrics import roc_curve,auc\n",
    "import matplotlib as mpl\n",
    "from matplotlib import pyplot as plt\n",
    "from numpy import nan\n",
    "from sklearn import linear_model, datasets\n",
    "from sklearn.model_selection import train_test_split\n",
    "from statsmodels.tsa.statespace.sarimax import SARIMAX\n",
    "import seaborn as sns\n",
    "import time\n",
    "\n",
    "from scipy.stats import kstest\n",
    "from scipy import stats\n",
    "\n",
    "import warnings\n",
    "warnings.filterwarnings('ignore')"
   ]
  },
  {
   "cell_type": "code",
   "execution_count": 3,
   "metadata": {
    "ExecuteTime": {
     "end_time": "2020-07-21T03:09:23.438495Z",
     "start_time": "2020-07-21T03:09:23.434708Z"
    }
   },
   "outputs": [
    {
     "name": "stdout",
     "output_type": "stream",
     "text": [
      "['【20200703】-预测误差(2015-2017).xls', '【20200703】-模拟（2016，10）-3.xls', '【20200703】-模拟（2016，6-8）-2.xls', '【20200703】-模拟（2016,1-4）-1.xls', '其它数据.csv', '.ipynb_checkpoints', 'alleviewsdata.xlsx', '方程描述.csv']\n"
     ]
    }
   ],
   "source": [
    "dir = r\"./data/\"\n",
    "print(os.listdir(dir))  #手术种类"
   ]
  },
  {
   "cell_type": "markdown",
   "metadata": {},
   "source": [
    "# 数据源"
   ]
  },
  {
   "cell_type": "markdown",
   "metadata": {},
   "source": [
    "## excel数据源\n",
    "- 通过\"预测误差表\"获得数据源；\n",
    "\n",
    "- 也可以通过模拟误差获得数据源，但是那样更复杂一些。"
   ]
  },
  {
   "cell_type": "code",
   "execution_count": 4,
   "metadata": {
    "ExecuteTime": {
     "end_time": "2020-07-21T03:09:32.220950Z",
     "start_time": "2020-07-21T03:09:30.849262Z"
    }
   },
   "outputs": [
    {
     "data": {
      "text/plain": [
       "Index(['con_fn_bj', 'con_fn_bj_0', 'con_fn_bj_1', 'con_fn_bj_10',\n",
       "       'con_fn_bj_2', 'con_fn_bj_3', 'con_fn_bj_4', 'con_fn_bj_5',\n",
       "       'con_fn_bj_6', 'con_fn_bj_7',\n",
       "       ...\n",
       "       'yht_un_tj_1', 'yht_un_tj_10', 'yht_un_tj_2', 'yht_un_tj_3',\n",
       "       'yht_un_tj_4', 'yht_un_tj_5', 'yht_un_tj_6', 'yht_un_tj_7',\n",
       "       'yht_un_tj_8', 'yht_un_tj_9'],\n",
       "      dtype='object', length=3722)"
      ]
     },
     "execution_count": 4,
     "metadata": {},
     "output_type": "execute_result"
    }
   ],
   "source": [
    "file = \"alleviewsdata.xlsx\"\n",
    "df_ev= pd.read_excel(dir+file,\"Sheet1\",index_col = 0 ,na_values=['9999'])\n",
    "df_ev.columns = df_ev.columns.str.lower()\n",
    "df_ev.columns"
   ]
  },
  {
   "cell_type": "markdown",
   "metadata": {},
   "source": [
    "## 衍生变量\n",
    "- 根据定义式衍生的变量"
   ]
  },
  {
   "cell_type": "markdown",
   "metadata": {},
   "source": [
    "# 定义\n",
    "## 参数\n",
    "## 函数"
   ]
  },
  {
   "cell_type": "markdown",
   "metadata": {},
   "source": [
    "# 天津\n",
    "## Eq 100 : gdp1r_tj 行为方程 no 结果有差异\n",
    "行为方程 ： gdp1r_tj  = cul_area_tj + gdp1r_tj(-1)"
   ]
  },
  {
   "cell_type": "code",
   "execution_count": 11,
   "metadata": {
    "ExecuteTime": {
     "end_time": "2020-07-10T07:51:58.595761Z",
     "start_time": "2020-07-10T07:51:58.516919Z"
    }
   },
   "outputs": [
    {
     "data": {
      "text/html": [
       "<table class=\"simpletable\">\n",
       "<caption>OLS Regression Results</caption>\n",
       "<tr>\n",
       "  <th>Dep. Variable:</th>        <td>gdp1r_tj</td>     <th>  R-squared:         </th> <td>   0.998</td>\n",
       "</tr>\n",
       "<tr>\n",
       "  <th>Model:</th>                   <td>OLS</td>       <th>  Adj. R-squared:    </th> <td>   0.998</td>\n",
       "</tr>\n",
       "<tr>\n",
       "  <th>Method:</th>             <td>Least Squares</td>  <th>  F-statistic:       </th> <td>   4584.</td>\n",
       "</tr>\n",
       "<tr>\n",
       "  <th>Date:</th>             <td>Fri, 10 Jul 2020</td> <th>  Prob (F-statistic):</th> <td>4.26e-25</td>\n",
       "</tr>\n",
       "<tr>\n",
       "  <th>Time:</th>                 <td>07:51:58</td>     <th>  Log-Likelihood:    </th> <td> -35.029</td>\n",
       "</tr>\n",
       "<tr>\n",
       "  <th>No. Observations:</th>      <td>    21</td>      <th>  AIC:               </th> <td>   76.06</td>\n",
       "</tr>\n",
       "<tr>\n",
       "  <th>Df Residuals:</th>          <td>    18</td>      <th>  BIC:               </th> <td>   79.19</td>\n",
       "</tr>\n",
       "<tr>\n",
       "  <th>Df Model:</th>              <td>     2</td>      <th>                     </th>     <td> </td>   \n",
       "</tr>\n",
       "<tr>\n",
       "  <th>Covariance Type:</th>      <td>nonrobust</td>    <th>                     </th>     <td> </td>   \n",
       "</tr>\n",
       "</table>\n",
       "<table class=\"simpletable\">\n",
       "<tr>\n",
       "       <td></td>          <th>coef</th>     <th>std err</th>      <th>t</th>      <th>P>|t|</th>  <th>[0.025</th>    <th>0.975]</th>  \n",
       "</tr>\n",
       "<tr>\n",
       "  <th>Intercept</th>   <td>    4.1284</td> <td>    1.297</td> <td>    3.184</td> <td> 0.005</td> <td>    1.404</td> <td>    6.852</td>\n",
       "</tr>\n",
       "<tr>\n",
       "  <th>cul_area_tj</th> <td>    0.0475</td> <td>    0.025</td> <td>    1.928</td> <td> 0.070</td> <td>   -0.004</td> <td>    0.099</td>\n",
       "</tr>\n",
       "<tr>\n",
       "  <th>gdplr_tj_s1</th> <td>    0.9907</td> <td>    0.012</td> <td>   81.846</td> <td> 0.000</td> <td>    0.965</td> <td>    1.016</td>\n",
       "</tr>\n",
       "</table>\n",
       "<table class=\"simpletable\">\n",
       "<tr>\n",
       "  <th>Omnibus:</th>       <td> 5.357</td> <th>  Durbin-Watson:     </th> <td>   1.157</td>\n",
       "</tr>\n",
       "<tr>\n",
       "  <th>Prob(Omnibus):</th> <td> 0.069</td> <th>  Jarque-Bera (JB):  </th> <td>   3.514</td>\n",
       "</tr>\n",
       "<tr>\n",
       "  <th>Skew:</th>          <td>-0.980</td> <th>  Prob(JB):          </th> <td>   0.173</td>\n",
       "</tr>\n",
       "<tr>\n",
       "  <th>Kurtosis:</th>      <td> 3.422</td> <th>  Cond. No.          </th> <td>    550.</td>\n",
       "</tr>\n",
       "</table><br/><br/>Warnings:<br/>[1] Standard Errors assume that the covariance matrix of the errors is correctly specified."
      ],
      "text/plain": [
       "<class 'statsmodels.iolib.summary.Summary'>\n",
       "\"\"\"\n",
       "                            OLS Regression Results                            \n",
       "==============================================================================\n",
       "Dep. Variable:               gdp1r_tj   R-squared:                       0.998\n",
       "Model:                            OLS   Adj. R-squared:                  0.998\n",
       "Method:                 Least Squares   F-statistic:                     4584.\n",
       "Date:                Fri, 10 Jul 2020   Prob (F-statistic):           4.26e-25\n",
       "Time:                        07:51:58   Log-Likelihood:                -35.029\n",
       "No. Observations:                  21   AIC:                             76.06\n",
       "Df Residuals:                      18   BIC:                             79.19\n",
       "Df Model:                           2                                         \n",
       "Covariance Type:            nonrobust                                         \n",
       "===============================================================================\n",
       "                  coef    std err          t      P>|t|      [0.025      0.975]\n",
       "-------------------------------------------------------------------------------\n",
       "Intercept       4.1284      1.297      3.184      0.005       1.404       6.852\n",
       "cul_area_tj     0.0475      0.025      1.928      0.070      -0.004       0.099\n",
       "gdplr_tj_s1     0.9907      0.012     81.846      0.000       0.965       1.016\n",
       "==============================================================================\n",
       "Omnibus:                        5.357   Durbin-Watson:                   1.157\n",
       "Prob(Omnibus):                  0.069   Jarque-Bera (JB):                3.514\n",
       "Skew:                          -0.980   Prob(JB):                        0.173\n",
       "Kurtosis:                       3.422   Cond. No.                         550.\n",
       "==============================================================================\n",
       "\n",
       "Warnings:\n",
       "[1] Standard Errors assume that the covariance matrix of the errors is correctly specified.\n",
       "\"\"\""
      ]
     },
     "execution_count": 11,
     "metadata": {},
     "output_type": "execute_result"
    }
   ],
   "source": [
    "test1 = df_ev[[\"gdp1r_tj\",\"cul_area_tj\"]]\n",
    "test1[\"gdplr_tj_s1\"] = test1[\"gdp1r_tj\"].shift(1)  ##直接写进表达式，结果有差异\n",
    "test1 = test1[(test1.index>1996) & (test1.index <2018)]\n",
    "results = sm.ols(formula = \"gdp1r_tj ~ cul_area_tj  + gdplr_tj_s1 \",data = test1).fit()\n",
    "results.summary()"
   ]
  },
  {
   "cell_type": "code",
   "execution_count": 114,
   "metadata": {
    "ExecuteTime": {
     "end_time": "2020-07-08T10:08:12.817346Z",
     "start_time": "2020-07-08T10:08:12.811667Z"
    }
   },
   "outputs": [
    {
     "data": {
      "text/plain": [
       "array([126.82820558, 129.03194867, 130.07270933, 133.38891309,\n",
       "       137.72502094, 141.37904066, 142.38851322, 141.8252671 ,\n",
       "       138.50468726, 138.98539273, 139.88213844, 142.42550053,\n",
       "       150.03792225, 147.17252221, 148.18577519, 152.51597548,\n",
       "       156.50725341, 158.46014552, 139.83986369, 128.98768591,\n",
       "       119.96448788])"
      ]
     },
     "execution_count": 114,
     "metadata": {},
     "output_type": "execute_result"
    }
   ],
   "source": [
    "results.predict()"
   ]
  },
  {
   "cell_type": "markdown",
   "metadata": {},
   "source": [
    "## Eq101: gdpn_tj 定义方程 ok\n",
    "定义方程 ： gdpn_tj  = gdp1n_tj  + gdp2n_tj  + gdp3n_tj"
   ]
  },
  {
   "cell_type": "code",
   "execution_count": 12,
   "metadata": {
    "ExecuteTime": {
     "end_time": "2020-07-10T07:54:00.227454Z",
     "start_time": "2020-07-10T07:54:00.152568Z"
    }
   },
   "outputs": [
    {
     "data": {
      "text/html": [
       "<div>\n",
       "<style scoped>\n",
       "    .dataframe tbody tr th:only-of-type {\n",
       "        vertical-align: middle;\n",
       "    }\n",
       "\n",
       "    .dataframe tbody tr th {\n",
       "        vertical-align: top;\n",
       "    }\n",
       "\n",
       "    .dataframe thead th {\n",
       "        text-align: right;\n",
       "    }\n",
       "</style>\n",
       "<table border=\"1\" class=\"dataframe\">\n",
       "  <thead>\n",
       "    <tr style=\"text-align: right;\">\n",
       "      <th></th>\n",
       "      <th>gdpn_tj</th>\n",
       "      <th>gdp1n_tj</th>\n",
       "      <th>gdp2n_tj</th>\n",
       "      <th>gdp3n_tj</th>\n",
       "      <th>预测</th>\n",
       "    </tr>\n",
       "  </thead>\n",
       "  <tbody>\n",
       "    <tr>\n",
       "      <th>1997</th>\n",
       "      <td>1264.63</td>\n",
       "      <td>69.52</td>\n",
       "      <td>676.01</td>\n",
       "      <td>519.10</td>\n",
       "      <td>1264.63</td>\n",
       "    </tr>\n",
       "    <tr>\n",
       "      <th>1998</th>\n",
       "      <td>1374.60</td>\n",
       "      <td>74.14</td>\n",
       "      <td>697.99</td>\n",
       "      <td>602.47</td>\n",
       "      <td>1374.60</td>\n",
       "    </tr>\n",
       "  </tbody>\n",
       "</table>\n",
       "</div>"
      ],
      "text/plain": [
       "      gdpn_tj  gdp1n_tj  gdp2n_tj  gdp3n_tj       预测\n",
       "1997  1264.63     69.52    676.01    519.10  1264.63\n",
       "1998  1374.60     74.14    697.99    602.47  1374.60"
      ]
     },
     "execution_count": 12,
     "metadata": {},
     "output_type": "execute_result"
    }
   ],
   "source": [
    "test1 = df_ev[[\"gdpn_tj\",\"gdp1n_tj\",\"gdp2n_tj\",\"gdp3n_tj\"]]\n",
    "test1 = test1[(test1.index>1996) & (test1.index <2018)]\n",
    "test1[\"预测\"] = test1[\"gdp1n_tj\"] + test1[\"gdp2n_tj\"] + test1[\"gdp3n_tj\"]\n",
    "test1.head(2)"
   ]
  },
  {
   "cell_type": "code",
   "execution_count": null,
   "metadata": {},
   "outputs": [],
   "source": [
    "        if (y in exogs) & (len([x for x in x_list if x in exogs])==0):   \n",
    "            \n",
    "            preds = pd.merge(preds,test1[[y]],how = \"left\",left_index =True ,right_index = True)\n",
    "            test_data[y] = preds[y]\n",
    "            exogs.remove(y)\n",
    "            Eqs.remove(Eqid)\n",
    "            print(Eqid ,y,\"----------------   求解成功 。\")\n",
    "        else:\n",
    "            print(Eqid ,y, \"还不能求解 ，因还未获得外生变量:  \",[x for x in x_list if x in exogs] )"
   ]
  },
  {
   "cell_type": "markdown",
   "metadata": {},
   "source": [
    "## Eq102 ：gdpr_tj 定义方程 ok\n",
    "定义方程 ： gdpr_tj  = gdp1r_tj  + gdp2r_tj  + gdp3r_tj"
   ]
  },
  {
   "cell_type": "code",
   "execution_count": 13,
   "metadata": {
    "ExecuteTime": {
     "end_time": "2020-07-10T07:55:04.369773Z",
     "start_time": "2020-07-10T07:55:04.303677Z"
    }
   },
   "outputs": [
    {
     "data": {
      "text/html": [
       "<div>\n",
       "<style scoped>\n",
       "    .dataframe tbody tr th:only-of-type {\n",
       "        vertical-align: middle;\n",
       "    }\n",
       "\n",
       "    .dataframe tbody tr th {\n",
       "        vertical-align: top;\n",
       "    }\n",
       "\n",
       "    .dataframe thead th {\n",
       "        text-align: right;\n",
       "    }\n",
       "</style>\n",
       "<table border=\"1\" class=\"dataframe\">\n",
       "  <thead>\n",
       "    <tr style=\"text-align: right;\">\n",
       "      <th></th>\n",
       "      <th>gdpr_tj</th>\n",
       "      <th>gdp1r_tj</th>\n",
       "      <th>gdp2r_tj</th>\n",
       "      <th>gdp3r_tj</th>\n",
       "      <th>预测</th>\n",
       "    </tr>\n",
       "  </thead>\n",
       "  <tbody>\n",
       "    <tr>\n",
       "      <th>1997</th>\n",
       "      <td>1706.422913</td>\n",
       "      <td>79.339985</td>\n",
       "      <td>627.011370</td>\n",
       "      <td>1000.071558</td>\n",
       "      <td>1706.422913</td>\n",
       "    </tr>\n",
       "    <tr>\n",
       "      <th>1998</th>\n",
       "      <td>1865.342166</td>\n",
       "      <td>83.624822</td>\n",
       "      <td>665.212326</td>\n",
       "      <td>1116.505019</td>\n",
       "      <td>1865.342166</td>\n",
       "    </tr>\n",
       "  </tbody>\n",
       "</table>\n",
       "</div>"
      ],
      "text/plain": [
       "          gdpr_tj   gdp1r_tj    gdp2r_tj     gdp3r_tj           预测\n",
       "1997  1706.422913  79.339985  627.011370  1000.071558  1706.422913\n",
       "1998  1865.342166  83.624822  665.212326  1116.505019  1865.342166"
      ]
     },
     "execution_count": 13,
     "metadata": {},
     "output_type": "execute_result"
    }
   ],
   "source": [
    "test1 = df_ev[[\"gdpr_tj\",\"gdp1r_tj\",\"gdp2r_tj\",\"gdp3r_tj\"]]\n",
    "test1 = test1[(test1.index>1996) & (test1.index <2018)]\n",
    "test1[\"预测\"] = test1[\"gdp1r_tj\"] + test1[\"gdp2r_tj\"] + test1[\"gdp3r_tj\"]\n",
    "test1.head(2)"
   ]
  },
  {
   "cell_type": "markdown",
   "metadata": {},
   "source": [
    "## Eq103 : gdp1n_tj 定义方程 ok\n",
    "定义方程 ： gdp1n_tj  = gdp1r_tj  * gdp1d_tj  / 100"
   ]
  },
  {
   "cell_type": "code",
   "execution_count": 14,
   "metadata": {
    "ExecuteTime": {
     "end_time": "2020-07-10T07:59:01.099859Z",
     "start_time": "2020-07-10T07:59:01.034701Z"
    }
   },
   "outputs": [
    {
     "data": {
      "text/html": [
       "<div>\n",
       "<style scoped>\n",
       "    .dataframe tbody tr th:only-of-type {\n",
       "        vertical-align: middle;\n",
       "    }\n",
       "\n",
       "    .dataframe tbody tr th {\n",
       "        vertical-align: top;\n",
       "    }\n",
       "\n",
       "    .dataframe thead th {\n",
       "        text-align: right;\n",
       "    }\n",
       "</style>\n",
       "<table border=\"1\" class=\"dataframe\">\n",
       "  <thead>\n",
       "    <tr style=\"text-align: right;\">\n",
       "      <th></th>\n",
       "      <th>gdp1n_tj</th>\n",
       "      <th>gdp1r_tj</th>\n",
       "      <th>gdp1d_tj</th>\n",
       "      <th>验证结果</th>\n",
       "    </tr>\n",
       "  </thead>\n",
       "  <tbody>\n",
       "    <tr>\n",
       "      <th>1997</th>\n",
       "      <td>69.52</td>\n",
       "      <td>79.339985</td>\n",
       "      <td>87.622905</td>\n",
       "      <td>69.52</td>\n",
       "    </tr>\n",
       "    <tr>\n",
       "      <th>1998</th>\n",
       "      <td>74.14</td>\n",
       "      <td>83.624822</td>\n",
       "      <td>88.657887</td>\n",
       "      <td>74.14</td>\n",
       "    </tr>\n",
       "  </tbody>\n",
       "</table>\n",
       "</div>"
      ],
      "text/plain": [
       "      gdp1n_tj   gdp1r_tj   gdp1d_tj   验证结果\n",
       "1997     69.52  79.339985  87.622905  69.52\n",
       "1998     74.14  83.624822  88.657887  74.14"
      ]
     },
     "execution_count": 14,
     "metadata": {},
     "output_type": "execute_result"
    }
   ],
   "source": [
    "test1 = df_ev[[\"gdp1n_tj\",\"gdp1r_tj\",\"gdp1d_tj\"]]\n",
    "test1 = test1[(test1.index>1996) & (test1.index <2018)]\n",
    "test1[\"验证结果\"] = test1[\"gdp1r_tj\"]*test1[\"gdp1d_tj\"]/100\n",
    "test1.head(2)"
   ]
  },
  {
   "cell_type": "markdown",
   "metadata": {},
   "source": [
    "## Eq104 : gdp2_indan_tj 定义方程 ok\n",
    "定义方程 ： gdp2_indan_tj  = gdp2_indar_tj  * gdp2_indad_tj  / 100\n"
   ]
  },
  {
   "cell_type": "code",
   "execution_count": 15,
   "metadata": {
    "ExecuteTime": {
     "end_time": "2020-07-10T08:01:25.990132Z",
     "start_time": "2020-07-10T08:01:25.923353Z"
    }
   },
   "outputs": [
    {
     "data": {
      "text/html": [
       "<div>\n",
       "<style scoped>\n",
       "    .dataframe tbody tr th:only-of-type {\n",
       "        vertical-align: middle;\n",
       "    }\n",
       "\n",
       "    .dataframe tbody tr th {\n",
       "        vertical-align: top;\n",
       "    }\n",
       "\n",
       "    .dataframe thead th {\n",
       "        text-align: right;\n",
       "    }\n",
       "</style>\n",
       "<table border=\"1\" class=\"dataframe\">\n",
       "  <thead>\n",
       "    <tr style=\"text-align: right;\">\n",
       "      <th></th>\n",
       "      <th>gdp2_indan_tj</th>\n",
       "      <th>gdp2_indar_tj</th>\n",
       "      <th>gdp2_indad_tj</th>\n",
       "      <th>验证结果</th>\n",
       "    </tr>\n",
       "  </thead>\n",
       "  <tbody>\n",
       "    <tr>\n",
       "      <th>1997</th>\n",
       "      <td>609.65</td>\n",
       "      <td>552.721132</td>\n",
       "      <td>110.299745</td>\n",
       "      <td>609.65</td>\n",
       "    </tr>\n",
       "    <tr>\n",
       "      <th>1998</th>\n",
       "      <td>622.15</td>\n",
       "      <td>591.437786</td>\n",
       "      <td>105.192806</td>\n",
       "      <td>622.15</td>\n",
       "    </tr>\n",
       "  </tbody>\n",
       "</table>\n",
       "</div>"
      ],
      "text/plain": [
       "      gdp2_indan_tj  gdp2_indar_tj  gdp2_indad_tj    验证结果\n",
       "1997         609.65     552.721132     110.299745  609.65\n",
       "1998         622.15     591.437786     105.192806  622.15"
      ]
     },
     "execution_count": 15,
     "metadata": {},
     "output_type": "execute_result"
    }
   ],
   "source": [
    "test1 = df_ev[[\"gdp2_indan_tj\",\"gdp2_indar_tj\",\"gdp2_indad_tj\"]]\n",
    "test1 = test1[(test1.index>1996) & (test1.index <2018)]\n",
    "test1[\"验证结果\"] = test1[\"gdp2_indar_tj\"]*test1[\"gdp2_indad_tj\"]/100\n",
    "test1.head(2)"
   ]
  },
  {
   "cell_type": "markdown",
   "metadata": {},
   "source": [
    "## Eq105：gdp2_bindan_tj 定义方程 ok\n",
    "定义方程 ： gdp2_bindan_tj  = gdp2_bindar_tj  * gdp2_bindad_tj  / 100"
   ]
  },
  {
   "cell_type": "code",
   "execution_count": 16,
   "metadata": {
    "ExecuteTime": {
     "end_time": "2020-07-10T08:02:24.537715Z",
     "start_time": "2020-07-10T08:02:24.448526Z"
    }
   },
   "outputs": [
    {
     "data": {
      "text/html": [
       "<div>\n",
       "<style scoped>\n",
       "    .dataframe tbody tr th:only-of-type {\n",
       "        vertical-align: middle;\n",
       "    }\n",
       "\n",
       "    .dataframe tbody tr th {\n",
       "        vertical-align: top;\n",
       "    }\n",
       "\n",
       "    .dataframe thead th {\n",
       "        text-align: right;\n",
       "    }\n",
       "</style>\n",
       "<table border=\"1\" class=\"dataframe\">\n",
       "  <thead>\n",
       "    <tr style=\"text-align: right;\">\n",
       "      <th></th>\n",
       "      <th>gdp2_bindan_tj</th>\n",
       "      <th>gdp2_bindar_tj</th>\n",
       "      <th>gdp2_bindad_tj</th>\n",
       "      <th>预测</th>\n",
       "    </tr>\n",
       "  </thead>\n",
       "  <tbody>\n",
       "    <tr>\n",
       "      <th>1997</th>\n",
       "      <td>66.36</td>\n",
       "      <td>140.365007</td>\n",
       "      <td>47.276740</td>\n",
       "      <td>66.36</td>\n",
       "    </tr>\n",
       "    <tr>\n",
       "      <th>1998</th>\n",
       "      <td>75.84</td>\n",
       "      <td>158.180566</td>\n",
       "      <td>47.945207</td>\n",
       "      <td>75.84</td>\n",
       "    </tr>\n",
       "  </tbody>\n",
       "</table>\n",
       "</div>"
      ],
      "text/plain": [
       "      gdp2_bindan_tj  gdp2_bindar_tj  gdp2_bindad_tj     预测\n",
       "1997           66.36      140.365007       47.276740  66.36\n",
       "1998           75.84      158.180566       47.945207  75.84"
      ]
     },
     "execution_count": 16,
     "metadata": {},
     "output_type": "execute_result"
    }
   ],
   "source": [
    "test1 = df_ev[[\"gdp2_bindan_tj\",\"gdp2_bindar_tj\",\"gdp2_bindad_tj\"]]\n",
    "test1 = test1[(test1.index>1996) & (test1.index <2018)]\n",
    "test1[\"预测\"] = test1[\"gdp2_bindar_tj\"]*test1[\"gdp2_bindad_tj\"]/100\n",
    "test1.head(2)"
   ]
  },
  {
   "cell_type": "markdown",
   "metadata": {},
   "source": [
    "## Eq106 : gdp2n_tj 定义方程 ok\n",
    "定义方程 ： gdp2n_tj  = gdp2r_tj  * gdp2d_tj  / 100\n"
   ]
  },
  {
   "cell_type": "code",
   "execution_count": 17,
   "metadata": {
    "ExecuteTime": {
     "end_time": "2020-07-10T08:03:16.470646Z",
     "start_time": "2020-07-10T08:03:16.403165Z"
    }
   },
   "outputs": [
    {
     "data": {
      "text/html": [
       "<div>\n",
       "<style scoped>\n",
       "    .dataframe tbody tr th:only-of-type {\n",
       "        vertical-align: middle;\n",
       "    }\n",
       "\n",
       "    .dataframe tbody tr th {\n",
       "        vertical-align: top;\n",
       "    }\n",
       "\n",
       "    .dataframe thead th {\n",
       "        text-align: right;\n",
       "    }\n",
       "</style>\n",
       "<table border=\"1\" class=\"dataframe\">\n",
       "  <thead>\n",
       "    <tr style=\"text-align: right;\">\n",
       "      <th></th>\n",
       "      <th>gdp2n_tj</th>\n",
       "      <th>gdp2r_tj</th>\n",
       "      <th>gdp2d_tj</th>\n",
       "      <th>预测</th>\n",
       "    </tr>\n",
       "  </thead>\n",
       "  <tbody>\n",
       "    <tr>\n",
       "      <th>1997</th>\n",
       "      <td>676.01</td>\n",
       "      <td>627.011370</td>\n",
       "      <td>107.814632</td>\n",
       "      <td>676.01</td>\n",
       "    </tr>\n",
       "    <tr>\n",
       "      <th>1998</th>\n",
       "      <td>697.99</td>\n",
       "      <td>665.212326</td>\n",
       "      <td>104.927400</td>\n",
       "      <td>697.99</td>\n",
       "    </tr>\n",
       "  </tbody>\n",
       "</table>\n",
       "</div>"
      ],
      "text/plain": [
       "      gdp2n_tj    gdp2r_tj    gdp2d_tj      预测\n",
       "1997    676.01  627.011370  107.814632  676.01\n",
       "1998    697.99  665.212326  104.927400  697.99"
      ]
     },
     "execution_count": 17,
     "metadata": {},
     "output_type": "execute_result"
    }
   ],
   "source": [
    "test1 = df_ev[[\"gdp2n_tj\",\"gdp2r_tj\",\"gdp2d_tj\"]]\n",
    "test1 = test1[(test1.index>1996) & (test1.index <2018)]\n",
    "test1[\"预测\"] = test1[\"gdp2r_tj\"]*test1[\"gdp2d_tj\"]/100\n",
    "test1.head(2)"
   ]
  },
  {
   "cell_type": "markdown",
   "metadata": {},
   "source": [
    "## Eq107 ： gdp2r_tj2 定义方程 ok\n",
    "定义方程 ： gdp2r_tj2  = gdp2_indar_tj  + gdp2_bindar_tj  + gdp2r_erro_tj"
   ]
  },
  {
   "cell_type": "code",
   "execution_count": 18,
   "metadata": {
    "ExecuteTime": {
     "end_time": "2020-07-10T08:04:42.880296Z",
     "start_time": "2020-07-10T08:04:42.815164Z"
    }
   },
   "outputs": [
    {
     "data": {
      "text/html": [
       "<div>\n",
       "<style scoped>\n",
       "    .dataframe tbody tr th:only-of-type {\n",
       "        vertical-align: middle;\n",
       "    }\n",
       "\n",
       "    .dataframe tbody tr th {\n",
       "        vertical-align: top;\n",
       "    }\n",
       "\n",
       "    .dataframe thead th {\n",
       "        text-align: right;\n",
       "    }\n",
       "</style>\n",
       "<table border=\"1\" class=\"dataframe\">\n",
       "  <thead>\n",
       "    <tr style=\"text-align: right;\">\n",
       "      <th></th>\n",
       "      <th>gdp2r_tj2</th>\n",
       "      <th>gdp2_indar_tj</th>\n",
       "      <th>gdp2_bindar_tj</th>\n",
       "      <th>gdp2r_erro_tj</th>\n",
       "      <th>预测</th>\n",
       "    </tr>\n",
       "  </thead>\n",
       "  <tbody>\n",
       "    <tr>\n",
       "      <th>1997</th>\n",
       "      <td>627.011370</td>\n",
       "      <td>552.721132</td>\n",
       "      <td>140.365007</td>\n",
       "      <td>-66.074770</td>\n",
       "      <td>627.011370</td>\n",
       "    </tr>\n",
       "    <tr>\n",
       "      <th>1998</th>\n",
       "      <td>665.212326</td>\n",
       "      <td>591.437786</td>\n",
       "      <td>158.180566</td>\n",
       "      <td>-84.406026</td>\n",
       "      <td>665.212326</td>\n",
       "    </tr>\n",
       "  </tbody>\n",
       "</table>\n",
       "</div>"
      ],
      "text/plain": [
       "       gdp2r_tj2  gdp2_indar_tj  gdp2_bindar_tj  gdp2r_erro_tj          预测\n",
       "1997  627.011370     552.721132      140.365007     -66.074770  627.011370\n",
       "1998  665.212326     591.437786      158.180566     -84.406026  665.212326"
      ]
     },
     "execution_count": 18,
     "metadata": {},
     "output_type": "execute_result"
    }
   ],
   "source": [
    "test1 = df_ev[[\"gdp2r_tj2\",\"gdp2_indar_tj\",\"gdp2_bindar_tj\",\"gdp2r_erro_tj\"]]\n",
    "test1 = test1[(test1.index>1996) & (test1.index <2018)]\n",
    "test1[\"预测\"] = test1[\"gdp2_indar_tj\"] + test1[\"gdp2_bindar_tj\"] + test1[\"gdp2r_erro_tj\"]\n",
    "test1.head(2)"
   ]
  },
  {
   "cell_type": "markdown",
   "metadata": {},
   "source": [
    "## Eq108 : gdp2r_tj1 行为方程 ok\n",
    "行为方程 ： gdp2r_tj1  = @coef(1)  + @coef(2) * gdp_tecn_tj / gdp2d_tj  + @coef(3) * gdp2r_tj1(-1)  + @coef(4) * d_gdp2r_tj_1\n",
    "\n",
    "- gdp_tecn_tj / gdp2d_tj : 可以将表达式写入方程中，但参数估计结果不一样"
   ]
  },
  {
   "cell_type": "code",
   "execution_count": 26,
   "metadata": {
    "ExecuteTime": {
     "end_time": "2020-07-10T08:12:08.453160Z",
     "start_time": "2020-07-10T08:12:08.334808Z"
    },
    "scrolled": true
   },
   "outputs": [
    {
     "data": {
      "text/html": [
       "<div>\n",
       "<style scoped>\n",
       "    .dataframe tbody tr th:only-of-type {\n",
       "        vertical-align: middle;\n",
       "    }\n",
       "\n",
       "    .dataframe tbody tr th {\n",
       "        vertical-align: top;\n",
       "    }\n",
       "\n",
       "    .dataframe thead th {\n",
       "        text-align: right;\n",
       "    }\n",
       "</style>\n",
       "<table border=\"1\" class=\"dataframe\">\n",
       "  <thead>\n",
       "    <tr style=\"text-align: right;\">\n",
       "      <th></th>\n",
       "      <th>gdp2r_tj1</th>\n",
       "      <th>gdp2_tecn_tj</th>\n",
       "      <th>gdp2d_tj</th>\n",
       "      <th>d_gdp2r_tj_1</th>\n",
       "      <th>gdp2r_tj1_s1</th>\n",
       "      <th>gdp2_tecn_gdp2d</th>\n",
       "    </tr>\n",
       "  </thead>\n",
       "  <tbody>\n",
       "    <tr>\n",
       "      <th>2014</th>\n",
       "      <td>7250.388989</td>\n",
       "      <td>971.870</td>\n",
       "      <td>109.422129</td>\n",
       "      <td>0.0</td>\n",
       "      <td>6595.951787</td>\n",
       "      <td>8.881841</td>\n",
       "    </tr>\n",
       "    <tr>\n",
       "      <th>2015</th>\n",
       "      <td>7967.070000</td>\n",
       "      <td>1148.218</td>\n",
       "      <td>100.000000</td>\n",
       "      <td>0.6</td>\n",
       "      <td>7250.388989</td>\n",
       "      <td>11.482180</td>\n",
       "    </tr>\n",
       "  </tbody>\n",
       "</table>\n",
       "</div>"
      ],
      "text/plain": [
       "        gdp2r_tj1  gdp2_tecn_tj    gdp2d_tj  d_gdp2r_tj_1  gdp2r_tj1_s1  \\\n",
       "2014  7250.388989       971.870  109.422129           0.0   6595.951787   \n",
       "2015  7967.070000      1148.218  100.000000           0.6   7250.388989   \n",
       "\n",
       "      gdp2_tecn_gdp2d  \n",
       "2014         8.881841  \n",
       "2015        11.482180  "
      ]
     },
     "execution_count": 26,
     "metadata": {},
     "output_type": "execute_result"
    }
   ],
   "source": [
    "test1 = df_ev[[\"gdp2r_tj1\",\"gdp2_tecn_tj\",\"gdp2d_tj\",\"d_gdp2r_tj_1\"]]\n",
    "test1[\"gdp2r_tj1_s1\"] = test1[\"gdp2r_tj1\"].shift(1)\n",
    "test1[\"gdp2_tecn_gdp2d\"] = test1[\"gdp2_tecn_tj\"]/test1[\"gdp2d_tj\"]\n",
    "test1 = test1[(test1.index>2013) & (test1.index <2020)]\n",
    "test1.head(2)"
   ]
  },
  {
   "cell_type": "code",
   "execution_count": 27,
   "metadata": {
    "ExecuteTime": {
     "end_time": "2020-07-10T08:12:10.021960Z",
     "start_time": "2020-07-10T08:12:09.998942Z"
    }
   },
   "outputs": [
    {
     "data": {
      "text/html": [
       "<table class=\"simpletable\">\n",
       "<caption>OLS Regression Results</caption>\n",
       "<tr>\n",
       "  <th>Dep. Variable:</th>        <td>gdp2r_tj1</td>    <th>  R-squared:         </th> <td>   0.998</td>\n",
       "</tr>\n",
       "<tr>\n",
       "  <th>Model:</th>                   <td>OLS</td>       <th>  Adj. R-squared:    </th> <td>   0.996</td>\n",
       "</tr>\n",
       "<tr>\n",
       "  <th>Method:</th>             <td>Least Squares</td>  <th>  F-statistic:       </th> <td>   400.3</td>\n",
       "</tr>\n",
       "<tr>\n",
       "  <th>Date:</th>             <td>Fri, 10 Jul 2020</td> <th>  Prob (F-statistic):</th>  <td>0.00249</td>\n",
       "</tr>\n",
       "<tr>\n",
       "  <th>Time:</th>                 <td>08:12:10</td>     <th>  Log-Likelihood:    </th> <td> -27.848</td>\n",
       "</tr>\n",
       "<tr>\n",
       "  <th>No. Observations:</th>      <td>     6</td>      <th>  AIC:               </th> <td>   63.70</td>\n",
       "</tr>\n",
       "<tr>\n",
       "  <th>Df Residuals:</th>          <td>     2</td>      <th>  BIC:               </th> <td>   62.86</td>\n",
       "</tr>\n",
       "<tr>\n",
       "  <th>Df Model:</th>              <td>     3</td>      <th>                     </th>     <td> </td>   \n",
       "</tr>\n",
       "<tr>\n",
       "  <th>Covariance Type:</th>      <td>nonrobust</td>    <th>                     </th>     <td> </td>   \n",
       "</tr>\n",
       "</table>\n",
       "<table class=\"simpletable\">\n",
       "<tr>\n",
       "         <td></td>            <th>coef</th>     <th>std err</th>      <th>t</th>      <th>P>|t|</th>  <th>[0.025</th>    <th>0.975]</th>  \n",
       "</tr>\n",
       "<tr>\n",
       "  <th>Intercept</th>       <td> 3203.5309</td> <td>  206.382</td> <td>   15.522</td> <td> 0.004</td> <td> 2315.539</td> <td> 4091.523</td>\n",
       "</tr>\n",
       "<tr>\n",
       "  <th>gdp2_tecn_gdp2d</th> <td>   32.9102</td> <td>    5.323</td> <td>    6.183</td> <td> 0.025</td> <td>   10.007</td> <td>   55.813</td>\n",
       "</tr>\n",
       "<tr>\n",
       "  <th>gdp2r_tj1_s1</th>    <td>    0.5709</td> <td>    0.033</td> <td>   17.441</td> <td> 0.003</td> <td>    0.430</td> <td>    0.712</td>\n",
       "</tr>\n",
       "<tr>\n",
       "  <th>d_gdp2r_tj_1</th>    <td>  356.2237</td> <td>   45.762</td> <td>    7.784</td> <td> 0.016</td> <td>  159.324</td> <td>  553.123</td>\n",
       "</tr>\n",
       "</table>\n",
       "<table class=\"simpletable\">\n",
       "<tr>\n",
       "  <th>Omnibus:</th>       <td>   nan</td> <th>  Durbin-Watson:     </th> <td>   3.592</td>\n",
       "</tr>\n",
       "<tr>\n",
       "  <th>Prob(Omnibus):</th> <td>   nan</td> <th>  Jarque-Bera (JB):  </th> <td>   0.262</td>\n",
       "</tr>\n",
       "<tr>\n",
       "  <th>Skew:</th>          <td>-0.197</td> <th>  Prob(JB):          </th> <td>   0.877</td>\n",
       "</tr>\n",
       "<tr>\n",
       "  <th>Kurtosis:</th>      <td> 2.055</td> <th>  Cond. No.          </th> <td>9.35e+04</td>\n",
       "</tr>\n",
       "</table><br/><br/>Warnings:<br/>[1] Standard Errors assume that the covariance matrix of the errors is correctly specified.<br/>[2] The condition number is large, 9.35e+04. This might indicate that there are<br/>strong multicollinearity or other numerical problems."
      ],
      "text/plain": [
       "<class 'statsmodels.iolib.summary.Summary'>\n",
       "\"\"\"\n",
       "                            OLS Regression Results                            \n",
       "==============================================================================\n",
       "Dep. Variable:              gdp2r_tj1   R-squared:                       0.998\n",
       "Model:                            OLS   Adj. R-squared:                  0.996\n",
       "Method:                 Least Squares   F-statistic:                     400.3\n",
       "Date:                Fri, 10 Jul 2020   Prob (F-statistic):            0.00249\n",
       "Time:                        08:12:10   Log-Likelihood:                -27.848\n",
       "No. Observations:                   6   AIC:                             63.70\n",
       "Df Residuals:                       2   BIC:                             62.86\n",
       "Df Model:                           3                                         \n",
       "Covariance Type:            nonrobust                                         \n",
       "===================================================================================\n",
       "                      coef    std err          t      P>|t|      [0.025      0.975]\n",
       "-----------------------------------------------------------------------------------\n",
       "Intercept        3203.5309    206.382     15.522      0.004    2315.539    4091.523\n",
       "gdp2_tecn_gdp2d    32.9102      5.323      6.183      0.025      10.007      55.813\n",
       "gdp2r_tj1_s1        0.5709      0.033     17.441      0.003       0.430       0.712\n",
       "d_gdp2r_tj_1      356.2237     45.762      7.784      0.016     159.324     553.123\n",
       "==============================================================================\n",
       "Omnibus:                          nan   Durbin-Watson:                   3.592\n",
       "Prob(Omnibus):                    nan   Jarque-Bera (JB):                0.262\n",
       "Skew:                          -0.197   Prob(JB):                        0.877\n",
       "Kurtosis:                       2.055   Cond. No.                     9.35e+04\n",
       "==============================================================================\n",
       "\n",
       "Warnings:\n",
       "[1] Standard Errors assume that the covariance matrix of the errors is correctly specified.\n",
       "[2] The condition number is large, 9.35e+04. This might indicate that there are\n",
       "strong multicollinearity or other numerical problems.\n",
       "\"\"\""
      ]
     },
     "execution_count": 27,
     "metadata": {},
     "output_type": "execute_result"
    }
   ],
   "source": [
    "#results = sm.ols(formula = \"gdp2r_tj1 ~ gdp_tecn_tj/gdp2d_tj  + gdp2r_tj1.shift(1) + d_gdp2r_tj_1\",data = test1 ).fit()\n",
    "results = sm.ols(formula = \"gdp2r_tj1 ~ gdp2_tecn_gdp2d  + gdp2r_tj1_s1 + d_gdp2r_tj_1\",data = test1 ).fit()\n",
    "results.summary()"
   ]
  },
  {
   "cell_type": "markdown",
   "metadata": {},
   "source": [
    "## Eq109 ：gdp2r_tj 定义方程  ok\n",
    "定义方程 ： gdp2r_tj  = (gdp2r_tj1  + gdp2r_tj2)  / 2"
   ]
  },
  {
   "cell_type": "code",
   "execution_count": 28,
   "metadata": {
    "ExecuteTime": {
     "end_time": "2020-07-10T08:13:15.175069Z",
     "start_time": "2020-07-10T08:13:15.107731Z"
    }
   },
   "outputs": [
    {
     "data": {
      "text/html": [
       "<div>\n",
       "<style scoped>\n",
       "    .dataframe tbody tr th:only-of-type {\n",
       "        vertical-align: middle;\n",
       "    }\n",
       "\n",
       "    .dataframe tbody tr th {\n",
       "        vertical-align: top;\n",
       "    }\n",
       "\n",
       "    .dataframe thead th {\n",
       "        text-align: right;\n",
       "    }\n",
       "</style>\n",
       "<table border=\"1\" class=\"dataframe\">\n",
       "  <thead>\n",
       "    <tr style=\"text-align: right;\">\n",
       "      <th></th>\n",
       "      <th>gdp2r_tj</th>\n",
       "      <th>gdp2r_tj1</th>\n",
       "      <th>gdp2r_tj2</th>\n",
       "      <th>预测</th>\n",
       "    </tr>\n",
       "  </thead>\n",
       "  <tbody>\n",
       "    <tr>\n",
       "      <th>1997</th>\n",
       "      <td>627.011370</td>\n",
       "      <td>627.011370</td>\n",
       "      <td>627.011370</td>\n",
       "      <td>627.011370</td>\n",
       "    </tr>\n",
       "    <tr>\n",
       "      <th>1998</th>\n",
       "      <td>665.212326</td>\n",
       "      <td>665.212326</td>\n",
       "      <td>665.212326</td>\n",
       "      <td>665.212326</td>\n",
       "    </tr>\n",
       "  </tbody>\n",
       "</table>\n",
       "</div>"
      ],
      "text/plain": [
       "        gdp2r_tj   gdp2r_tj1   gdp2r_tj2          预测\n",
       "1997  627.011370  627.011370  627.011370  627.011370\n",
       "1998  665.212326  665.212326  665.212326  665.212326"
      ]
     },
     "execution_count": 28,
     "metadata": {},
     "output_type": "execute_result"
    }
   ],
   "source": [
    "test1 = df_ev[[\"gdp2r_tj\",\"gdp2r_tj1\",\"gdp2r_tj2\"]]\n",
    "test1 = test1[(test1.index>1996) & (test1.index <2018)]\n",
    "test1[\"预测\"] = (test1[\"gdp2r_tj1\"] + test1[\"gdp2r_tj2\"])/2\n",
    "test1.head(2)"
   ]
  },
  {
   "cell_type": "markdown",
   "metadata": {},
   "source": [
    "## Eq110 :gdp3n_tj 定义方程 ok\n",
    "定义方程 ： gdp3n_tj  = gdp3r_tj  * gdp3d_tj  / 100"
   ]
  },
  {
   "cell_type": "code",
   "execution_count": 30,
   "metadata": {
    "ExecuteTime": {
     "end_time": "2020-07-10T08:14:07.221895Z",
     "start_time": "2020-07-10T08:14:07.155249Z"
    }
   },
   "outputs": [
    {
     "data": {
      "text/html": [
       "<div>\n",
       "<style scoped>\n",
       "    .dataframe tbody tr th:only-of-type {\n",
       "        vertical-align: middle;\n",
       "    }\n",
       "\n",
       "    .dataframe tbody tr th {\n",
       "        vertical-align: top;\n",
       "    }\n",
       "\n",
       "    .dataframe thead th {\n",
       "        text-align: right;\n",
       "    }\n",
       "</style>\n",
       "<table border=\"1\" class=\"dataframe\">\n",
       "  <thead>\n",
       "    <tr style=\"text-align: right;\">\n",
       "      <th></th>\n",
       "      <th>gdp3n_tj</th>\n",
       "      <th>gdp3r_tj</th>\n",
       "      <th>gdp3d_tj</th>\n",
       "      <th>预测</th>\n",
       "    </tr>\n",
       "  </thead>\n",
       "  <tbody>\n",
       "    <tr>\n",
       "      <th>1997</th>\n",
       "      <td>519.10</td>\n",
       "      <td>1000.071558</td>\n",
       "      <td>51.906286</td>\n",
       "      <td>519.10</td>\n",
       "    </tr>\n",
       "    <tr>\n",
       "      <th>1998</th>\n",
       "      <td>602.47</td>\n",
       "      <td>1116.505019</td>\n",
       "      <td>53.960349</td>\n",
       "      <td>602.47</td>\n",
       "    </tr>\n",
       "  </tbody>\n",
       "</table>\n",
       "</div>"
      ],
      "text/plain": [
       "      gdp3n_tj     gdp3r_tj   gdp3d_tj      预测\n",
       "1997    519.10  1000.071558  51.906286  519.10\n",
       "1998    602.47  1116.505019  53.960349  602.47"
      ]
     },
     "execution_count": 30,
     "metadata": {},
     "output_type": "execute_result"
    }
   ],
   "source": [
    "test1 = df_ev[[\"gdp3n_tj\",\"gdp3r_tj\",\"gdp3d_tj\"]]\n",
    "test1 = test1[(test1.index>1996) & (test1.index <2018)]\n",
    "test1[\"预测\"] = (test1[\"gdp3r_tj\"] * test1[\"gdp3d_tj\"])/100\n",
    "test1.head(2)"
   ]
  },
  {
   "cell_type": "markdown",
   "metadata": {
    "ExecuteTime": {
     "end_time": "2020-07-07T08:19:40.438826Z",
     "start_time": "2020-07-07T08:19:40.436178Z"
    }
   },
   "source": [
    "## Eq111 : gdp2_indar_tj 行为方程 ok\n",
    "log(gdp2_indar_tj)  = @coef(1)  + @coef(2) * log(consr_tj)  + @coef(3) * log(investr_tj)  + @coef(4) * log(exusd_tj * exrate_cn)  + @coef(5) * d_gdp2_indar_tj"
   ]
  },
  {
   "cell_type": "code",
   "execution_count": 35,
   "metadata": {
    "ExecuteTime": {
     "end_time": "2020-07-10T08:18:24.927929Z",
     "start_time": "2020-07-10T08:18:24.857122Z"
    }
   },
   "outputs": [
    {
     "data": {
      "text/html": [
       "<div>\n",
       "<style scoped>\n",
       "    .dataframe tbody tr th:only-of-type {\n",
       "        vertical-align: middle;\n",
       "    }\n",
       "\n",
       "    .dataframe tbody tr th {\n",
       "        vertical-align: top;\n",
       "    }\n",
       "\n",
       "    .dataframe thead th {\n",
       "        text-align: right;\n",
       "    }\n",
       "</style>\n",
       "<table border=\"1\" class=\"dataframe\">\n",
       "  <thead>\n",
       "    <tr style=\"text-align: right;\">\n",
       "      <th></th>\n",
       "      <th>gdp2_indar_tj</th>\n",
       "      <th>consr_tj</th>\n",
       "      <th>investr_tj</th>\n",
       "      <th>exusd_tj</th>\n",
       "      <th>exrate_cn</th>\n",
       "      <th>d_gdp2_indar_tj</th>\n",
       "      <th>investr_tj_s1</th>\n",
       "    </tr>\n",
       "  </thead>\n",
       "  <tbody>\n",
       "    <tr>\n",
       "      <th>2001</th>\n",
       "      <td>842.059957</td>\n",
       "      <td>1143.564338</td>\n",
       "      <td>910.766452</td>\n",
       "      <td>95.02</td>\n",
       "      <td>827.7</td>\n",
       "      <td>0.0</td>\n",
       "      <td>785.415921</td>\n",
       "    </tr>\n",
       "    <tr>\n",
       "      <th>2002</th>\n",
       "      <td>965.080761</td>\n",
       "      <td>1297.981315</td>\n",
       "      <td>1051.641182</td>\n",
       "      <td>115.95</td>\n",
       "      <td>827.7</td>\n",
       "      <td>-0.5</td>\n",
       "      <td>910.766452</td>\n",
       "    </tr>\n",
       "  </tbody>\n",
       "</table>\n",
       "</div>"
      ],
      "text/plain": [
       "      gdp2_indar_tj     consr_tj   investr_tj  exusd_tj  exrate_cn  \\\n",
       "2001     842.059957  1143.564338   910.766452     95.02      827.7   \n",
       "2002     965.080761  1297.981315  1051.641182    115.95      827.7   \n",
       "\n",
       "      d_gdp2_indar_tj  investr_tj_s1  \n",
       "2001              0.0     785.415921  \n",
       "2002             -0.5     910.766452  "
      ]
     },
     "execution_count": 35,
     "metadata": {},
     "output_type": "execute_result"
    }
   ],
   "source": [
    "test1 = df_ev[[\"gdp2_indar_tj\",\"consr_tj\",\"investr_tj\",\"exusd_tj\",\"exrate_cn\",\"d_gdp2_indar_tj\"]]\n",
    "test1[\"investr_tj_s1\"] = test1[\"investr_tj\"].shift(1)\n",
    "test1 = test1[(test1.index>2000) & (test1.index <2019)]\n",
    "test1.head(2)"
   ]
  },
  {
   "cell_type": "code",
   "execution_count": 36,
   "metadata": {
    "ExecuteTime": {
     "end_time": "2020-07-10T08:18:26.049952Z",
     "start_time": "2020-07-10T08:18:26.020956Z"
    }
   },
   "outputs": [
    {
     "data": {
      "text/html": [
       "<table class=\"simpletable\">\n",
       "<caption>OLS Regression Results</caption>\n",
       "<tr>\n",
       "  <th>Dep. Variable:</th>    <td>np.log(gdp2_indar_tj)</td> <th>  R-squared:         </th> <td>   0.999</td>\n",
       "</tr>\n",
       "<tr>\n",
       "  <th>Model:</th>                     <td>OLS</td>          <th>  Adj. R-squared:    </th> <td>   0.999</td>\n",
       "</tr>\n",
       "<tr>\n",
       "  <th>Method:</th>               <td>Least Squares</td>     <th>  F-statistic:       </th> <td>   6494.</td>\n",
       "</tr>\n",
       "<tr>\n",
       "  <th>Date:</th>               <td>Fri, 10 Jul 2020</td>    <th>  Prob (F-statistic):</th> <td>2.63e-21</td>\n",
       "</tr>\n",
       "<tr>\n",
       "  <th>Time:</th>                   <td>08:18:26</td>        <th>  Log-Likelihood:    </th> <td>  47.855</td>\n",
       "</tr>\n",
       "<tr>\n",
       "  <th>No. Observations:</th>        <td>    18</td>         <th>  AIC:               </th> <td>  -85.71</td>\n",
       "</tr>\n",
       "<tr>\n",
       "  <th>Df Residuals:</th>            <td>    13</td>         <th>  BIC:               </th> <td>  -81.26</td>\n",
       "</tr>\n",
       "<tr>\n",
       "  <th>Df Model:</th>                <td>     4</td>         <th>                     </th>     <td> </td>   \n",
       "</tr>\n",
       "<tr>\n",
       "  <th>Covariance Type:</th>        <td>nonrobust</td>       <th>                     </th>     <td> </td>   \n",
       "</tr>\n",
       "</table>\n",
       "<table class=\"simpletable\">\n",
       "<tr>\n",
       "                <td></td>                  <th>coef</th>     <th>std err</th>      <th>t</th>      <th>P>|t|</th>  <th>[0.025</th>    <th>0.975]</th>  \n",
       "</tr>\n",
       "<tr>\n",
       "  <th>Intercept</th>                    <td>   -3.2657</td> <td>    0.437</td> <td>   -7.477</td> <td> 0.000</td> <td>   -4.209</td> <td>   -2.322</td>\n",
       "</tr>\n",
       "<tr>\n",
       "  <th>np.log(consr_tj)</th>             <td>    0.8262</td> <td>    0.113</td> <td>    7.294</td> <td> 0.000</td> <td>    0.582</td> <td>    1.071</td>\n",
       "</tr>\n",
       "<tr>\n",
       "  <th>np.log(investr_tj_s1)</th>        <td>    0.1977</td> <td>    0.068</td> <td>    2.899</td> <td> 0.012</td> <td>    0.050</td> <td>    0.345</td>\n",
       "</tr>\n",
       "<tr>\n",
       "  <th>np.log(exusd_tj * exrate_cn)</th> <td>    0.2540</td> <td>    0.020</td> <td>   12.840</td> <td> 0.000</td> <td>    0.211</td> <td>    0.297</td>\n",
       "</tr>\n",
       "<tr>\n",
       "  <th>d_gdp2_indar_tj</th>              <td>    0.0666</td> <td>    0.007</td> <td>    9.558</td> <td> 0.000</td> <td>    0.052</td> <td>    0.082</td>\n",
       "</tr>\n",
       "</table>\n",
       "<table class=\"simpletable\">\n",
       "<tr>\n",
       "  <th>Omnibus:</th>       <td> 1.313</td> <th>  Durbin-Watson:     </th> <td>   1.869</td>\n",
       "</tr>\n",
       "<tr>\n",
       "  <th>Prob(Omnibus):</th> <td> 0.519</td> <th>  Jarque-Bera (JB):  </th> <td>   0.194</td>\n",
       "</tr>\n",
       "<tr>\n",
       "  <th>Skew:</th>          <td>-0.087</td> <th>  Prob(JB):          </th> <td>   0.907</td>\n",
       "</tr>\n",
       "<tr>\n",
       "  <th>Kurtosis:</th>      <td> 3.478</td> <th>  Cond. No.          </th> <td>1.63e+03</td>\n",
       "</tr>\n",
       "</table><br/><br/>Warnings:<br/>[1] Standard Errors assume that the covariance matrix of the errors is correctly specified.<br/>[2] The condition number is large, 1.63e+03. This might indicate that there are<br/>strong multicollinearity or other numerical problems."
      ],
      "text/plain": [
       "<class 'statsmodels.iolib.summary.Summary'>\n",
       "\"\"\"\n",
       "                              OLS Regression Results                             \n",
       "=================================================================================\n",
       "Dep. Variable:     np.log(gdp2_indar_tj)   R-squared:                       0.999\n",
       "Model:                               OLS   Adj. R-squared:                  0.999\n",
       "Method:                    Least Squares   F-statistic:                     6494.\n",
       "Date:                   Fri, 10 Jul 2020   Prob (F-statistic):           2.63e-21\n",
       "Time:                           08:18:26   Log-Likelihood:                 47.855\n",
       "No. Observations:                     18   AIC:                            -85.71\n",
       "Df Residuals:                         13   BIC:                            -81.26\n",
       "Df Model:                              4                                         \n",
       "Covariance Type:               nonrobust                                         \n",
       "================================================================================================\n",
       "                                   coef    std err          t      P>|t|      [0.025      0.975]\n",
       "------------------------------------------------------------------------------------------------\n",
       "Intercept                       -3.2657      0.437     -7.477      0.000      -4.209      -2.322\n",
       "np.log(consr_tj)                 0.8262      0.113      7.294      0.000       0.582       1.071\n",
       "np.log(investr_tj_s1)            0.1977      0.068      2.899      0.012       0.050       0.345\n",
       "np.log(exusd_tj * exrate_cn)     0.2540      0.020     12.840      0.000       0.211       0.297\n",
       "d_gdp2_indar_tj                  0.0666      0.007      9.558      0.000       0.052       0.082\n",
       "==============================================================================\n",
       "Omnibus:                        1.313   Durbin-Watson:                   1.869\n",
       "Prob(Omnibus):                  0.519   Jarque-Bera (JB):                0.194\n",
       "Skew:                          -0.087   Prob(JB):                        0.907\n",
       "Kurtosis:                       3.478   Cond. No.                     1.63e+03\n",
       "==============================================================================\n",
       "\n",
       "Warnings:\n",
       "[1] Standard Errors assume that the covariance matrix of the errors is correctly specified.\n",
       "[2] The condition number is large, 1.63e+03. This might indicate that there are\n",
       "strong multicollinearity or other numerical problems.\n",
       "\"\"\""
      ]
     },
     "execution_count": 36,
     "metadata": {},
     "output_type": "execute_result"
    }
   ],
   "source": [
    "results = sm.ols(formula = \"np.log(gdp2_indar_tj) ~ np.log(consr_tj)  + np.log(investr_tj_s1) + np.log(exusd_tj * exrate_cn) + d_gdp2_indar_tj\",data = test1 ).fit()\n",
    "results.summary()"
   ]
  },
  {
   "cell_type": "markdown",
   "metadata": {},
   "source": [
    "## Eq112 ：gdp2_bindar_tj 行为方程 NO 系数表达不一样\n",
    "gdp2_bindar_tj  = @coef(1)  + @coef(2) * investr_tj  + @coef(3) * gdp2_bindar_tj(-1)  + @coef(4) * d_gdp2_bindar_tj  + [ar(1) = @coef(5) , estsmpl = \"1998 2017\"]\n"
   ]
  },
  {
   "cell_type": "code",
   "execution_count": 39,
   "metadata": {
    "ExecuteTime": {
     "end_time": "2020-07-10T08:24:05.387122Z",
     "start_time": "2020-07-10T08:24:05.055247Z"
    }
   },
   "outputs": [
    {
     "data": {
      "text/html": [
       "<table class=\"simpletable\">\n",
       "<caption>SARIMAX Results</caption>\n",
       "<tr>\n",
       "  <th>Dep. Variable:</th>    <td>gdp2_bindar_tj</td>  <th>  No. Observations:  </th>   <td>20</td>   \n",
       "</tr>\n",
       "<tr>\n",
       "  <th>Model:</th>           <td>SARIMAX(1, 0, 0)</td> <th>  Log Likelihood     </th> <td>-68.338</td>\n",
       "</tr>\n",
       "<tr>\n",
       "  <th>Date:</th>            <td>Fri, 10 Jul 2020</td> <th>  AIC                </th> <td>148.676</td>\n",
       "</tr>\n",
       "<tr>\n",
       "  <th>Time:</th>                <td>08:24:05</td>     <th>  BIC                </th> <td>154.343</td>\n",
       "</tr>\n",
       "<tr>\n",
       "  <th>Sample:</th>                  <td>0</td>        <th>  HQIC               </th> <td>149.635</td>\n",
       "</tr>\n",
       "<tr>\n",
       "  <th></th>                       <td> - 20</td>      <th>                     </th>    <td> </td>   \n",
       "</tr>\n",
       "<tr>\n",
       "  <th>Covariance Type:</th>        <td>opg</td>       <th>                     </th>    <td> </td>   \n",
       "</tr>\n",
       "</table>\n",
       "<table class=\"simpletable\">\n",
       "<tr>\n",
       "          <td></td>             <th>coef</th>     <th>std err</th>      <th>z</th>      <th>P>|z|</th>  <th>[0.025</th>    <th>0.975]</th>  \n",
       "</tr>\n",
       "<tr>\n",
       "  <th>intercept</th>         <td>    2.7486</td> <td>    7.084</td> <td>    0.388</td> <td> 0.698</td> <td>  -11.136</td> <td>   16.633</td>\n",
       "</tr>\n",
       "<tr>\n",
       "  <th>investr_tj</th>        <td>    0.0171</td> <td>    0.012</td> <td>    1.399</td> <td> 0.162</td> <td>   -0.007</td> <td>    0.041</td>\n",
       "</tr>\n",
       "<tr>\n",
       "  <th>gdp2_bindar_tj_s1</th> <td>    0.0693</td> <td>    0.215</td> <td>    0.321</td> <td> 0.748</td> <td>   -0.353</td> <td>    0.492</td>\n",
       "</tr>\n",
       "<tr>\n",
       "  <th>d_gdp2_bindar_tj</th>  <td>   23.9886</td> <td>   23.055</td> <td>    1.040</td> <td> 0.298</td> <td>  -21.198</td> <td>   69.175</td>\n",
       "</tr>\n",
       "<tr>\n",
       "  <th>ar.L1</th>             <td>    1.0656</td> <td>    0.043</td> <td>   24.610</td> <td> 0.000</td> <td>    0.981</td> <td>    1.150</td>\n",
       "</tr>\n",
       "<tr>\n",
       "  <th>sigma2</th>            <td>   75.3507</td> <td>   30.561</td> <td>    2.466</td> <td> 0.014</td> <td>   15.452</td> <td>  135.250</td>\n",
       "</tr>\n",
       "</table>\n",
       "<table class=\"simpletable\">\n",
       "<tr>\n",
       "  <th>Ljung-Box (Q):</th>          <td>17.06</td> <th>  Jarque-Bera (JB):  </th> <td>0.17</td>\n",
       "</tr>\n",
       "<tr>\n",
       "  <th>Prob(Q):</th>                <td>0.52</td>  <th>  Prob(JB):          </th> <td>0.92</td>\n",
       "</tr>\n",
       "<tr>\n",
       "  <th>Heteroskedasticity (H):</th> <td>0.36</td>  <th>  Skew:              </th> <td>0.11</td>\n",
       "</tr>\n",
       "<tr>\n",
       "  <th>Prob(H) (two-sided):</th>    <td>0.24</td>  <th>  Kurtosis:          </th> <td>2.59</td>\n",
       "</tr>\n",
       "</table><br/><br/>Warnings:<br/>[1] Covariance matrix calculated using the outer product of gradients (complex-step)."
      ],
      "text/plain": [
       "<class 'statsmodels.iolib.summary.Summary'>\n",
       "\"\"\"\n",
       "                               SARIMAX Results                                \n",
       "==============================================================================\n",
       "Dep. Variable:         gdp2_bindar_tj   No. Observations:                   20\n",
       "Model:               SARIMAX(1, 0, 0)   Log Likelihood                 -68.338\n",
       "Date:                Fri, 10 Jul 2020   AIC                            148.676\n",
       "Time:                        08:24:05   BIC                            154.343\n",
       "Sample:                             0   HQIC                           149.635\n",
       "                                 - 20                                         \n",
       "Covariance Type:                  opg                                         \n",
       "=====================================================================================\n",
       "                        coef    std err          z      P>|z|      [0.025      0.975]\n",
       "-------------------------------------------------------------------------------------\n",
       "intercept             2.7486      7.084      0.388      0.698     -11.136      16.633\n",
       "investr_tj            0.0171      0.012      1.399      0.162      -0.007       0.041\n",
       "gdp2_bindar_tj_s1     0.0693      0.215      0.321      0.748      -0.353       0.492\n",
       "d_gdp2_bindar_tj     23.9886     23.055      1.040      0.298     -21.198      69.175\n",
       "ar.L1                 1.0656      0.043     24.610      0.000       0.981       1.150\n",
       "sigma2               75.3507     30.561      2.466      0.014      15.452     135.250\n",
       "===================================================================================\n",
       "Ljung-Box (Q):                       17.06   Jarque-Bera (JB):                 0.17\n",
       "Prob(Q):                              0.52   Prob(JB):                         0.92\n",
       "Heteroskedasticity (H):               0.36   Skew:                             0.11\n",
       "Prob(H) (two-sided):                  0.24   Kurtosis:                         2.59\n",
       "===================================================================================\n",
       "\n",
       "Warnings:\n",
       "[1] Covariance matrix calculated using the outer product of gradients (complex-step).\n",
       "\"\"\""
      ]
     },
     "execution_count": 39,
     "metadata": {},
     "output_type": "execute_result"
    }
   ],
   "source": [
    "test1 = df_ev[[\"gdp2_bindar_tj\",\"investr_tj\",\"d_gdp2_bindar_tj\"]]\n",
    "test1[\"gdp2_bindar_tj_s1\"] = test1[\"gdp2_bindar_tj\"].shift(1)\n",
    "test1 = test1[(test1.index>1997) & (test1.index <2018)]\n",
    "ar = 1 \n",
    "ma = 0\n",
    "mod = SARIMAX(endog = test1[\"gdp2_bindar_tj\"] , exog = test1[[\"investr_tj\",\"gdp2_bindar_tj_s1\",\"d_gdp2_bindar_tj\"]],order =(ar,0,ma),enforce_invertibility= False , trend = 'c', enforce_stationarity = False)\n",
    "results = mod.fit()\n",
    "results.summary() #results.summary().tables[1]"
   ]
  },
  {
   "cell_type": "code",
   "execution_count": 41,
   "metadata": {
    "ExecuteTime": {
     "end_time": "2020-07-10T08:25:40.450270Z",
     "start_time": "2020-07-10T08:25:40.442533Z"
    }
   },
   "outputs": [
    {
     "data": {
      "text/plain": [
       "1998     22.318889\n",
       "1999    171.010299\n",
       "2000    169.250078\n",
       "2001    172.116547\n",
       "2002    197.836235\n",
       "2003    223.348145\n",
       "2004    248.053692\n",
       "2005    252.572503\n",
       "2006    289.130691\n",
       "2007    340.350306\n",
       "2008    377.926519\n",
       "2009    429.305271\n",
       "2010    476.984877\n",
       "2011    518.729771\n",
       "2012    572.902581\n",
       "2013    617.294722\n",
       "2014    688.792221\n",
       "2015    747.187798\n",
       "2016    795.500637\n",
       "2017    709.237585\n",
       "dtype: float64"
      ]
     },
     "execution_count": 41,
     "metadata": {},
     "output_type": "execute_result"
    }
   ],
   "source": [
    "predict = results.predict(exog = test1[[\"investr_tj\",\"gdp2_bindar_tj_s1\",\"d_gdp2_bindar_tj\"]] )\n",
    "predict"
   ]
  },
  {
   "cell_type": "markdown",
   "metadata": {},
   "source": [
    "## Eq113 ：gdp3r_tj 行为方程  ok\n",
    "行为方程 ：log(gdp3r_tj)  = @coef(1)  + @coef(2) * log(gdp2r_tj)  + @coef(3) * log(gdp3r_tj(-1))  + @coef(4) * log(exusd_tj * exrate_cn)  + @coef(5) * d_gdp3r_tj\n"
   ]
  },
  {
   "cell_type": "code",
   "execution_count": 42,
   "metadata": {
    "ExecuteTime": {
     "end_time": "2020-07-10T08:29:46.105451Z",
     "start_time": "2020-07-10T08:29:45.983393Z"
    }
   },
   "outputs": [
    {
     "data": {
      "text/html": [
       "<div>\n",
       "<style scoped>\n",
       "    .dataframe tbody tr th:only-of-type {\n",
       "        vertical-align: middle;\n",
       "    }\n",
       "\n",
       "    .dataframe tbody tr th {\n",
       "        vertical-align: top;\n",
       "    }\n",
       "\n",
       "    .dataframe thead th {\n",
       "        text-align: right;\n",
       "    }\n",
       "</style>\n",
       "<table border=\"1\" class=\"dataframe\">\n",
       "  <thead>\n",
       "    <tr style=\"text-align: right;\">\n",
       "      <th></th>\n",
       "      <th>gdp3r_tj</th>\n",
       "      <th>gdp2r_tj</th>\n",
       "      <th>exusd_tj</th>\n",
       "      <th>exrate_cn</th>\n",
       "      <th>d_gdp3r_tj</th>\n",
       "      <th>exusexrte</th>\n",
       "      <th>gdp3r_tj_s1</th>\n",
       "    </tr>\n",
       "  </thead>\n",
       "  <tbody>\n",
       "    <tr>\n",
       "      <th>1997</th>\n",
       "      <td>1000.071558</td>\n",
       "      <td>627.011370</td>\n",
       "      <td>50.1818</td>\n",
       "      <td>828.98</td>\n",
       "      <td>0.0</td>\n",
       "      <td>41599.708564</td>\n",
       "      <td>885.109529</td>\n",
       "    </tr>\n",
       "    <tr>\n",
       "      <th>1998</th>\n",
       "      <td>1116.505019</td>\n",
       "      <td>665.212326</td>\n",
       "      <td>54.9856</td>\n",
       "      <td>827.91</td>\n",
       "      <td>0.0</td>\n",
       "      <td>45523.128096</td>\n",
       "      <td>1000.071558</td>\n",
       "    </tr>\n",
       "  </tbody>\n",
       "</table>\n",
       "</div>"
      ],
      "text/plain": [
       "         gdp3r_tj    gdp2r_tj  exusd_tj  exrate_cn  d_gdp3r_tj     exusexrte  \\\n",
       "1997  1000.071558  627.011370   50.1818     828.98         0.0  41599.708564   \n",
       "1998  1116.505019  665.212326   54.9856     827.91         0.0  45523.128096   \n",
       "\n",
       "      gdp3r_tj_s1  \n",
       "1997   885.109529  \n",
       "1998  1000.071558  "
      ]
     },
     "execution_count": 42,
     "metadata": {},
     "output_type": "execute_result"
    }
   ],
   "source": [
    "test1 = df_ev[[\"gdp3r_tj\",\"gdp2r_tj\",\"exusd_tj\",\"exrate_cn\",\"d_gdp3r_tj\"]]\n",
    "test1[\"exusexrte\"] = test1[\"exusd_tj\"]*test1[\"exrate_cn\"]\n",
    "test1[\"gdp3r_tj_s1\"] = test1[\"gdp3r_tj\"].shift(1)           \n",
    "test1 = test1[(test1.index>1996) & (test1.index <2019)]\n",
    "test1.head(2)"
   ]
  },
  {
   "cell_type": "code",
   "execution_count": 44,
   "metadata": {
    "ExecuteTime": {
     "end_time": "2020-07-10T08:30:03.476048Z",
     "start_time": "2020-07-10T08:30:03.446049Z"
    }
   },
   "outputs": [
    {
     "data": {
      "text/html": [
       "<table class=\"simpletable\">\n",
       "<caption>OLS Regression Results</caption>\n",
       "<tr>\n",
       "  <th>Dep. Variable:</th>    <td>np.log(gdp3r_tj)</td> <th>  R-squared:         </th> <td>   1.000</td> \n",
       "</tr>\n",
       "<tr>\n",
       "  <th>Model:</th>                   <td>OLS</td>       <th>  Adj. R-squared:    </th> <td>   1.000</td> \n",
       "</tr>\n",
       "<tr>\n",
       "  <th>Method:</th>             <td>Least Squares</td>  <th>  F-statistic:       </th> <td>7.793e+04</td>\n",
       "</tr>\n",
       "<tr>\n",
       "  <th>Date:</th>             <td>Fri, 10 Jul 2020</td> <th>  Prob (F-statistic):</th> <td>5.49e-36</td> \n",
       "</tr>\n",
       "<tr>\n",
       "  <th>Time:</th>                 <td>08:30:03</td>     <th>  Log-Likelihood:    </th> <td>  82.482</td> \n",
       "</tr>\n",
       "<tr>\n",
       "  <th>No. Observations:</th>      <td>    22</td>      <th>  AIC:               </th> <td>  -155.0</td> \n",
       "</tr>\n",
       "<tr>\n",
       "  <th>Df Residuals:</th>          <td>    17</td>      <th>  BIC:               </th> <td>  -149.5</td> \n",
       "</tr>\n",
       "<tr>\n",
       "  <th>Df Model:</th>              <td>     4</td>      <th>                     </th>     <td> </td>    \n",
       "</tr>\n",
       "<tr>\n",
       "  <th>Covariance Type:</th>      <td>nonrobust</td>    <th>                     </th>     <td> </td>    \n",
       "</tr>\n",
       "</table>\n",
       "<table class=\"simpletable\">\n",
       "<tr>\n",
       "           <td></td>              <th>coef</th>     <th>std err</th>      <th>t</th>      <th>P>|t|</th>  <th>[0.025</th>    <th>0.975]</th>  \n",
       "</tr>\n",
       "<tr>\n",
       "  <th>Intercept</th>           <td>    0.4584</td> <td>    0.065</td> <td>    7.001</td> <td> 0.000</td> <td>    0.320</td> <td>    0.596</td>\n",
       "</tr>\n",
       "<tr>\n",
       "  <th>np.log(gdp2r_tj)</th>    <td>    0.2190</td> <td>    0.024</td> <td>    9.215</td> <td> 0.000</td> <td>    0.169</td> <td>    0.269</td>\n",
       "</tr>\n",
       "<tr>\n",
       "  <th>np.log(exusexrte)</th>   <td>    0.0137</td> <td>    0.006</td> <td>    2.321</td> <td> 0.033</td> <td>    0.001</td> <td>    0.026</td>\n",
       "</tr>\n",
       "<tr>\n",
       "  <th>np.log(gdp3r_tj_s1)</th> <td>    0.7216</td> <td>    0.025</td> <td>   29.142</td> <td> 0.000</td> <td>    0.669</td> <td>    0.774</td>\n",
       "</tr>\n",
       "<tr>\n",
       "  <th>d_gdp3r_tj</th>          <td>    0.0169</td> <td>    0.005</td> <td>    3.665</td> <td> 0.002</td> <td>    0.007</td> <td>    0.027</td>\n",
       "</tr>\n",
       "</table>\n",
       "<table class=\"simpletable\">\n",
       "<tr>\n",
       "  <th>Omnibus:</th>       <td> 9.027</td> <th>  Durbin-Watson:     </th> <td>   2.478</td>\n",
       "</tr>\n",
       "<tr>\n",
       "  <th>Prob(Omnibus):</th> <td> 0.011</td> <th>  Jarque-Bera (JB):  </th> <td>   2.174</td>\n",
       "</tr>\n",
       "<tr>\n",
       "  <th>Skew:</th>          <td>-0.219</td> <th>  Prob(JB):          </th> <td>   0.337</td>\n",
       "</tr>\n",
       "<tr>\n",
       "  <th>Kurtosis:</th>      <td> 1.523</td> <th>  Cond. No.          </th> <td>    872.</td>\n",
       "</tr>\n",
       "</table><br/><br/>Warnings:<br/>[1] Standard Errors assume that the covariance matrix of the errors is correctly specified."
      ],
      "text/plain": [
       "<class 'statsmodels.iolib.summary.Summary'>\n",
       "\"\"\"\n",
       "                            OLS Regression Results                            \n",
       "==============================================================================\n",
       "Dep. Variable:       np.log(gdp3r_tj)   R-squared:                       1.000\n",
       "Model:                            OLS   Adj. R-squared:                  1.000\n",
       "Method:                 Least Squares   F-statistic:                 7.793e+04\n",
       "Date:                Fri, 10 Jul 2020   Prob (F-statistic):           5.49e-36\n",
       "Time:                        08:30:03   Log-Likelihood:                 82.482\n",
       "No. Observations:                  22   AIC:                            -155.0\n",
       "Df Residuals:                      17   BIC:                            -149.5\n",
       "Df Model:                           4                                         \n",
       "Covariance Type:            nonrobust                                         \n",
       "=======================================================================================\n",
       "                          coef    std err          t      P>|t|      [0.025      0.975]\n",
       "---------------------------------------------------------------------------------------\n",
       "Intercept               0.4584      0.065      7.001      0.000       0.320       0.596\n",
       "np.log(gdp2r_tj)        0.2190      0.024      9.215      0.000       0.169       0.269\n",
       "np.log(exusexrte)       0.0137      0.006      2.321      0.033       0.001       0.026\n",
       "np.log(gdp3r_tj_s1)     0.7216      0.025     29.142      0.000       0.669       0.774\n",
       "d_gdp3r_tj              0.0169      0.005      3.665      0.002       0.007       0.027\n",
       "==============================================================================\n",
       "Omnibus:                        9.027   Durbin-Watson:                   2.478\n",
       "Prob(Omnibus):                  0.011   Jarque-Bera (JB):                2.174\n",
       "Skew:                          -0.219   Prob(JB):                        0.337\n",
       "Kurtosis:                       1.523   Cond. No.                         872.\n",
       "==============================================================================\n",
       "\n",
       "Warnings:\n",
       "[1] Standard Errors assume that the covariance matrix of the errors is correctly specified.\n",
       "\"\"\""
      ]
     },
     "execution_count": 44,
     "metadata": {},
     "output_type": "execute_result"
    }
   ],
   "source": [
    "results = sm.ols(formula = \"np.log(gdp3r_tj) ~ np.log(gdp2r_tj)  + np.log(exusexrte) +  np.log(gdp3r_tj_s1) + d_gdp3r_tj\",data = test1 ).fit()\n",
    "results.summary()"
   ]
  },
  {
   "cell_type": "markdown",
   "metadata": {},
   "source": [
    "## Eq114：con_fr_tj 定义方程 NO  结果不一致\n",
    "\n",
    "定义方程 ： con_fr_tj  = con_pr_tj  + con_gr_tj\n"
   ]
  },
  {
   "cell_type": "code",
   "execution_count": 46,
   "metadata": {
    "ExecuteTime": {
     "end_time": "2020-07-10T08:31:16.626132Z",
     "start_time": "2020-07-10T08:31:16.551466Z"
    }
   },
   "outputs": [
    {
     "data": {
      "text/html": [
       "<div>\n",
       "<style scoped>\n",
       "    .dataframe tbody tr th:only-of-type {\n",
       "        vertical-align: middle;\n",
       "    }\n",
       "\n",
       "    .dataframe tbody tr th {\n",
       "        vertical-align: top;\n",
       "    }\n",
       "\n",
       "    .dataframe thead th {\n",
       "        text-align: right;\n",
       "    }\n",
       "</style>\n",
       "<table border=\"1\" class=\"dataframe\">\n",
       "  <thead>\n",
       "    <tr style=\"text-align: right;\">\n",
       "      <th></th>\n",
       "      <th>con_fr_tj</th>\n",
       "      <th>con_pr_tj</th>\n",
       "      <th>con_gr_tj</th>\n",
       "      <th>验证结果</th>\n",
       "    </tr>\n",
       "  </thead>\n",
       "  <tbody>\n",
       "    <tr>\n",
       "      <th>1996</th>\n",
       "      <td>798.410306</td>\n",
       "      <td>647.575202</td>\n",
       "      <td>166.917470</td>\n",
       "      <td>814.492672</td>\n",
       "    </tr>\n",
       "    <tr>\n",
       "      <th>1997</th>\n",
       "      <td>881.427828</td>\n",
       "      <td>724.672159</td>\n",
       "      <td>176.263620</td>\n",
       "      <td>900.935780</td>\n",
       "    </tr>\n",
       "    <tr>\n",
       "      <th>1998</th>\n",
       "      <td>966.004365</td>\n",
       "      <td>780.385991</td>\n",
       "      <td>204.984272</td>\n",
       "      <td>985.370263</td>\n",
       "    </tr>\n",
       "    <tr>\n",
       "      <th>1999</th>\n",
       "      <td>1106.120795</td>\n",
       "      <td>830.410734</td>\n",
       "      <td>289.236065</td>\n",
       "      <td>1119.646799</td>\n",
       "    </tr>\n",
       "  </tbody>\n",
       "</table>\n",
       "</div>"
      ],
      "text/plain": [
       "        con_fr_tj   con_pr_tj   con_gr_tj         验证结果\n",
       "1996   798.410306  647.575202  166.917470   814.492672\n",
       "1997   881.427828  724.672159  176.263620   900.935780\n",
       "1998   966.004365  780.385991  204.984272   985.370263\n",
       "1999  1106.120795  830.410734  289.236065  1119.646799"
      ]
     },
     "execution_count": 46,
     "metadata": {},
     "output_type": "execute_result"
    }
   ],
   "source": [
    "test1 = df_ev[[\"con_fr_tj\" ,\"con_pr_tj\" , \"con_gr_tj\"]]\n",
    "test1[\"验证结果\"] = (test1[\"con_pr_tj\"] + test1[\"con_gr_tj\"])\n",
    "test1.head(4)"
   ]
  },
  {
   "cell_type": "markdown",
   "metadata": {},
   "source": [
    "## Eq115：con_gr_tj 定义方程 ok\n",
    "定义方程 ： con_gr_tj  = con_gn_tj  / pcon_gd_tj  * 100"
   ]
  },
  {
   "cell_type": "code",
   "execution_count": 48,
   "metadata": {
    "ExecuteTime": {
     "end_time": "2020-07-10T08:32:24.424303Z",
     "start_time": "2020-07-10T08:32:24.324167Z"
    }
   },
   "outputs": [
    {
     "data": {
      "text/html": [
       "<div>\n",
       "<style scoped>\n",
       "    .dataframe tbody tr th:only-of-type {\n",
       "        vertical-align: middle;\n",
       "    }\n",
       "\n",
       "    .dataframe tbody tr th {\n",
       "        vertical-align: top;\n",
       "    }\n",
       "\n",
       "    .dataframe thead th {\n",
       "        text-align: right;\n",
       "    }\n",
       "</style>\n",
       "<table border=\"1\" class=\"dataframe\">\n",
       "  <thead>\n",
       "    <tr style=\"text-align: right;\">\n",
       "      <th></th>\n",
       "      <th>con_gr_tj</th>\n",
       "      <th>con_gn_tj</th>\n",
       "      <th>pcon_gd_tj</th>\n",
       "      <th>预测</th>\n",
       "    </tr>\n",
       "  </thead>\n",
       "  <tbody>\n",
       "    <tr>\n",
       "      <th>1996</th>\n",
       "      <td>166.917470</td>\n",
       "      <td>123.97</td>\n",
       "      <td>74.270237</td>\n",
       "      <td>166.917470</td>\n",
       "    </tr>\n",
       "    <tr>\n",
       "      <th>1997</th>\n",
       "      <td>176.263620</td>\n",
       "      <td>131.88</td>\n",
       "      <td>74.819750</td>\n",
       "      <td>176.263620</td>\n",
       "    </tr>\n",
       "    <tr>\n",
       "      <th>1998</th>\n",
       "      <td>204.984272</td>\n",
       "      <td>152.64</td>\n",
       "      <td>74.464250</td>\n",
       "      <td>204.984272</td>\n",
       "    </tr>\n",
       "    <tr>\n",
       "      <th>1999</th>\n",
       "      <td>289.236065</td>\n",
       "      <td>212.98</td>\n",
       "      <td>73.635354</td>\n",
       "      <td>289.236065</td>\n",
       "    </tr>\n",
       "  </tbody>\n",
       "</table>\n",
       "</div>"
      ],
      "text/plain": [
       "       con_gr_tj  con_gn_tj  pcon_gd_tj          预测\n",
       "1996  166.917470     123.97   74.270237  166.917470\n",
       "1997  176.263620     131.88   74.819750  176.263620\n",
       "1998  204.984272     152.64   74.464250  204.984272\n",
       "1999  289.236065     212.98   73.635354  289.236065"
      ]
     },
     "execution_count": 48,
     "metadata": {},
     "output_type": "execute_result"
    }
   ],
   "source": [
    "test1 = df_ev[[\"con_gr_tj\" ,\"con_gn_tj\" , \"pcon_gd_tj\"]]\n",
    "test1[\"预测\"] = (test1[\"con_gn_tj\"] /test1[\"pcon_gd_tj\"])*100\n",
    "test1.head(4)"
   ]
  },
  {
   "cell_type": "markdown",
   "metadata": {},
   "source": [
    "## Eq116 ： con_pr_tj 定义方程 ok\n",
    "\n",
    "定义方程 ： con_pr_tj  = con_pur_tj  + con_prr_tj\n"
   ]
  },
  {
   "cell_type": "code",
   "execution_count": 49,
   "metadata": {
    "ExecuteTime": {
     "end_time": "2020-07-10T08:33:50.886986Z",
     "start_time": "2020-07-10T08:33:50.748572Z"
    }
   },
   "outputs": [
    {
     "data": {
      "text/html": [
       "<div>\n",
       "<style scoped>\n",
       "    .dataframe tbody tr th:only-of-type {\n",
       "        vertical-align: middle;\n",
       "    }\n",
       "\n",
       "    .dataframe tbody tr th {\n",
       "        vertical-align: top;\n",
       "    }\n",
       "\n",
       "    .dataframe thead th {\n",
       "        text-align: right;\n",
       "    }\n",
       "</style>\n",
       "<table border=\"1\" class=\"dataframe\">\n",
       "  <thead>\n",
       "    <tr style=\"text-align: right;\">\n",
       "      <th></th>\n",
       "      <th>con_pr_tj</th>\n",
       "      <th>con_pur_tj</th>\n",
       "      <th>con_prr_tj</th>\n",
       "      <th>预测</th>\n",
       "    </tr>\n",
       "  </thead>\n",
       "  <tbody>\n",
       "    <tr>\n",
       "      <th>2017</th>\n",
       "      <td>5936.092487</td>\n",
       "      <td>5322.025218</td>\n",
       "      <td>614.067268</td>\n",
       "      <td>5936.092487</td>\n",
       "    </tr>\n",
       "    <tr>\n",
       "      <th>2018</th>\n",
       "      <td>NaN</td>\n",
       "      <td>NaN</td>\n",
       "      <td>NaN</td>\n",
       "      <td>NaN</td>\n",
       "    </tr>\n",
       "    <tr>\n",
       "      <th>2019</th>\n",
       "      <td>NaN</td>\n",
       "      <td>NaN</td>\n",
       "      <td>NaN</td>\n",
       "      <td>NaN</td>\n",
       "    </tr>\n",
       "    <tr>\n",
       "      <th>2020</th>\n",
       "      <td>NaN</td>\n",
       "      <td>NaN</td>\n",
       "      <td>NaN</td>\n",
       "      <td>NaN</td>\n",
       "    </tr>\n",
       "  </tbody>\n",
       "</table>\n",
       "</div>"
      ],
      "text/plain": [
       "        con_pr_tj   con_pur_tj  con_prr_tj           预测\n",
       "2017  5936.092487  5322.025218  614.067268  5936.092487\n",
       "2018          NaN          NaN         NaN          NaN\n",
       "2019          NaN          NaN         NaN          NaN\n",
       "2020          NaN          NaN         NaN          NaN"
      ]
     },
     "execution_count": 49,
     "metadata": {},
     "output_type": "execute_result"
    }
   ],
   "source": [
    "test1 = df_ev[[\"con_pr_tj\" ,\"con_pur_tj\" , \"con_prr_tj\"]]\n",
    "test1[\"预测\"] = (test1[\"con_pur_tj\"] + test1[\"con_prr_tj\"])\n",
    "test1.tail(4)"
   ]
  },
  {
   "cell_type": "markdown",
   "metadata": {},
   "source": [
    "## Eq117 ：con_fn_tj 定义方程 ok\n",
    "con_fn_tj  = con_pn_tj  + con_gn_tj"
   ]
  },
  {
   "cell_type": "code",
   "execution_count": 50,
   "metadata": {
    "ExecuteTime": {
     "end_time": "2020-07-10T08:34:40.689379Z",
     "start_time": "2020-07-10T08:34:40.617852Z"
    }
   },
   "outputs": [
    {
     "data": {
      "text/html": [
       "<div>\n",
       "<style scoped>\n",
       "    .dataframe tbody tr th:only-of-type {\n",
       "        vertical-align: middle;\n",
       "    }\n",
       "\n",
       "    .dataframe tbody tr th {\n",
       "        vertical-align: top;\n",
       "    }\n",
       "\n",
       "    .dataframe thead th {\n",
       "        text-align: right;\n",
       "    }\n",
       "</style>\n",
       "<table border=\"1\" class=\"dataframe\">\n",
       "  <thead>\n",
       "    <tr style=\"text-align: right;\">\n",
       "      <th></th>\n",
       "      <th>con_fn_tj</th>\n",
       "      <th>con_pn_tj</th>\n",
       "      <th>con_gn_tj</th>\n",
       "      <th>预测</th>\n",
       "    </tr>\n",
       "  </thead>\n",
       "  <tbody>\n",
       "    <tr>\n",
       "      <th>2017</th>\n",
       "      <td>8424.17</td>\n",
       "      <td>6078.15</td>\n",
       "      <td>2346.02</td>\n",
       "      <td>8424.17</td>\n",
       "    </tr>\n",
       "    <tr>\n",
       "      <th>2018</th>\n",
       "      <td>NaN</td>\n",
       "      <td>NaN</td>\n",
       "      <td>NaN</td>\n",
       "      <td>NaN</td>\n",
       "    </tr>\n",
       "    <tr>\n",
       "      <th>2019</th>\n",
       "      <td>NaN</td>\n",
       "      <td>NaN</td>\n",
       "      <td>NaN</td>\n",
       "      <td>NaN</td>\n",
       "    </tr>\n",
       "    <tr>\n",
       "      <th>2020</th>\n",
       "      <td>NaN</td>\n",
       "      <td>NaN</td>\n",
       "      <td>NaN</td>\n",
       "      <td>NaN</td>\n",
       "    </tr>\n",
       "  </tbody>\n",
       "</table>\n",
       "</div>"
      ],
      "text/plain": [
       "      con_fn_tj  con_pn_tj  con_gn_tj       预测\n",
       "2017    8424.17    6078.15    2346.02  8424.17\n",
       "2018        NaN        NaN        NaN      NaN\n",
       "2019        NaN        NaN        NaN      NaN\n",
       "2020        NaN        NaN        NaN      NaN"
      ]
     },
     "execution_count": 50,
     "metadata": {},
     "output_type": "execute_result"
    }
   ],
   "source": [
    "test1 = df_ev[[\"con_fn_tj\" ,\"con_pn_tj\" , \"con_gn_tj\"]]\n",
    "test1[\"预测\"] = (test1[\"con_pn_tj\"] + test1[\"con_gn_tj\"])\n",
    "test1.tail(4)"
   ]
  },
  {
   "cell_type": "markdown",
   "metadata": {},
   "source": [
    "## Eq118 ：con_pn_tj 定义方程 ok\n",
    "con_pn_tj  = con_pun_tj  + con_prn_tj"
   ]
  },
  {
   "cell_type": "code",
   "execution_count": 51,
   "metadata": {
    "ExecuteTime": {
     "end_time": "2020-07-10T08:35:34.388606Z",
     "start_time": "2020-07-10T08:35:34.316434Z"
    }
   },
   "outputs": [
    {
     "data": {
      "text/html": [
       "<div>\n",
       "<style scoped>\n",
       "    .dataframe tbody tr th:only-of-type {\n",
       "        vertical-align: middle;\n",
       "    }\n",
       "\n",
       "    .dataframe tbody tr th {\n",
       "        vertical-align: top;\n",
       "    }\n",
       "\n",
       "    .dataframe thead th {\n",
       "        text-align: right;\n",
       "    }\n",
       "</style>\n",
       "<table border=\"1\" class=\"dataframe\">\n",
       "  <thead>\n",
       "    <tr style=\"text-align: right;\">\n",
       "      <th></th>\n",
       "      <th>con_pn_tj</th>\n",
       "      <th>con_pun_tj</th>\n",
       "      <th>con_prn_tj</th>\n",
       "      <th>预测</th>\n",
       "    </tr>\n",
       "  </thead>\n",
       "  <tbody>\n",
       "    <tr>\n",
       "      <th>2017</th>\n",
       "      <td>6078.15</td>\n",
       "      <td>5440.53</td>\n",
       "      <td>637.62</td>\n",
       "      <td>6078.15</td>\n",
       "    </tr>\n",
       "    <tr>\n",
       "      <th>2018</th>\n",
       "      <td>NaN</td>\n",
       "      <td>NaN</td>\n",
       "      <td>NaN</td>\n",
       "      <td>NaN</td>\n",
       "    </tr>\n",
       "    <tr>\n",
       "      <th>2019</th>\n",
       "      <td>NaN</td>\n",
       "      <td>NaN</td>\n",
       "      <td>NaN</td>\n",
       "      <td>NaN</td>\n",
       "    </tr>\n",
       "    <tr>\n",
       "      <th>2020</th>\n",
       "      <td>NaN</td>\n",
       "      <td>NaN</td>\n",
       "      <td>NaN</td>\n",
       "      <td>NaN</td>\n",
       "    </tr>\n",
       "  </tbody>\n",
       "</table>\n",
       "</div>"
      ],
      "text/plain": [
       "      con_pn_tj  con_pun_tj  con_prn_tj       预测\n",
       "2017    6078.15     5440.53      637.62  6078.15\n",
       "2018        NaN         NaN         NaN      NaN\n",
       "2019        NaN         NaN         NaN      NaN\n",
       "2020        NaN         NaN         NaN      NaN"
      ]
     },
     "execution_count": 51,
     "metadata": {},
     "output_type": "execute_result"
    }
   ],
   "source": [
    "test1 = df_ev[[\"con_pn_tj\" ,\"con_pun_tj\" , \"con_prn_tj\"]]\n",
    "test1[\"预测\"] = (test1[\"con_pun_tj\"] + test1[\"con_prn_tj\"])\n",
    "test1.tail(4)"
   ]
  },
  {
   "cell_type": "markdown",
   "metadata": {},
   "source": [
    "## Eq119 ：con_pun_tj 定义方程 ok\n",
    "con_pun_tj  = con_pur_tj  * pcon_pud_tj  / 100"
   ]
  },
  {
   "cell_type": "code",
   "execution_count": 52,
   "metadata": {
    "ExecuteTime": {
     "end_time": "2020-07-10T08:36:29.420945Z",
     "start_time": "2020-07-10T08:36:29.349800Z"
    }
   },
   "outputs": [
    {
     "data": {
      "text/html": [
       "<div>\n",
       "<style scoped>\n",
       "    .dataframe tbody tr th:only-of-type {\n",
       "        vertical-align: middle;\n",
       "    }\n",
       "\n",
       "    .dataframe tbody tr th {\n",
       "        vertical-align: top;\n",
       "    }\n",
       "\n",
       "    .dataframe thead th {\n",
       "        text-align: right;\n",
       "    }\n",
       "</style>\n",
       "<table border=\"1\" class=\"dataframe\">\n",
       "  <thead>\n",
       "    <tr style=\"text-align: right;\">\n",
       "      <th></th>\n",
       "      <th>con_pun_tj</th>\n",
       "      <th>con_pur_tj</th>\n",
       "      <th>pcon_pud_tj</th>\n",
       "      <th>预测</th>\n",
       "    </tr>\n",
       "  </thead>\n",
       "  <tbody>\n",
       "    <tr>\n",
       "      <th>2017</th>\n",
       "      <td>5440.53</td>\n",
       "      <td>5322.025218</td>\n",
       "      <td>102.226686</td>\n",
       "      <td>5440.53</td>\n",
       "    </tr>\n",
       "    <tr>\n",
       "      <th>2018</th>\n",
       "      <td>NaN</td>\n",
       "      <td>NaN</td>\n",
       "      <td>NaN</td>\n",
       "      <td>NaN</td>\n",
       "    </tr>\n",
       "    <tr>\n",
       "      <th>2019</th>\n",
       "      <td>NaN</td>\n",
       "      <td>NaN</td>\n",
       "      <td>NaN</td>\n",
       "      <td>NaN</td>\n",
       "    </tr>\n",
       "    <tr>\n",
       "      <th>2020</th>\n",
       "      <td>NaN</td>\n",
       "      <td>NaN</td>\n",
       "      <td>NaN</td>\n",
       "      <td>NaN</td>\n",
       "    </tr>\n",
       "  </tbody>\n",
       "</table>\n",
       "</div>"
      ],
      "text/plain": [
       "      con_pun_tj   con_pur_tj  pcon_pud_tj       预测\n",
       "2017     5440.53  5322.025218   102.226686  5440.53\n",
       "2018         NaN          NaN          NaN      NaN\n",
       "2019         NaN          NaN          NaN      NaN\n",
       "2020         NaN          NaN          NaN      NaN"
      ]
     },
     "execution_count": 52,
     "metadata": {},
     "output_type": "execute_result"
    }
   ],
   "source": [
    "test1 = df_ev[[\"con_pun_tj\" ,\"con_pur_tj\",\"pcon_pud_tj\"]]\n",
    "test1[\"预测\"] = (test1[\"con_pur_tj\"] * test1[\"pcon_pud_tj\"])/100\n",
    "test1.tail(4)"
   ]
  },
  {
   "cell_type": "markdown",
   "metadata": {},
   "source": [
    "## Eq120 ：con_prn_tj 定义方程 ok\n",
    "con_prn_tj  = con_prr_tj  * pcon_prd_tj  / 100"
   ]
  },
  {
   "cell_type": "code",
   "execution_count": 53,
   "metadata": {
    "ExecuteTime": {
     "end_time": "2020-07-10T08:37:15.688479Z",
     "start_time": "2020-07-10T08:37:15.617199Z"
    }
   },
   "outputs": [
    {
     "data": {
      "text/html": [
       "<div>\n",
       "<style scoped>\n",
       "    .dataframe tbody tr th:only-of-type {\n",
       "        vertical-align: middle;\n",
       "    }\n",
       "\n",
       "    .dataframe tbody tr th {\n",
       "        vertical-align: top;\n",
       "    }\n",
       "\n",
       "    .dataframe thead th {\n",
       "        text-align: right;\n",
       "    }\n",
       "</style>\n",
       "<table border=\"1\" class=\"dataframe\">\n",
       "  <thead>\n",
       "    <tr style=\"text-align: right;\">\n",
       "      <th></th>\n",
       "      <th>con_prn_tj</th>\n",
       "      <th>con_prr_tj</th>\n",
       "      <th>pcon_prd_tj</th>\n",
       "      <th>验证结果</th>\n",
       "    </tr>\n",
       "  </thead>\n",
       "  <tbody>\n",
       "    <tr>\n",
       "      <th>2017</th>\n",
       "      <td>637.62</td>\n",
       "      <td>614.067268</td>\n",
       "      <td>103.83553</td>\n",
       "      <td>637.62</td>\n",
       "    </tr>\n",
       "    <tr>\n",
       "      <th>2018</th>\n",
       "      <td>NaN</td>\n",
       "      <td>NaN</td>\n",
       "      <td>NaN</td>\n",
       "      <td>NaN</td>\n",
       "    </tr>\n",
       "    <tr>\n",
       "      <th>2019</th>\n",
       "      <td>NaN</td>\n",
       "      <td>NaN</td>\n",
       "      <td>NaN</td>\n",
       "      <td>NaN</td>\n",
       "    </tr>\n",
       "    <tr>\n",
       "      <th>2020</th>\n",
       "      <td>NaN</td>\n",
       "      <td>NaN</td>\n",
       "      <td>NaN</td>\n",
       "      <td>NaN</td>\n",
       "    </tr>\n",
       "  </tbody>\n",
       "</table>\n",
       "</div>"
      ],
      "text/plain": [
       "      con_prn_tj  con_prr_tj  pcon_prd_tj    验证结果\n",
       "2017      637.62  614.067268    103.83553  637.62\n",
       "2018         NaN         NaN          NaN     NaN\n",
       "2019         NaN         NaN          NaN     NaN\n",
       "2020         NaN         NaN          NaN     NaN"
      ]
     },
     "execution_count": 53,
     "metadata": {},
     "output_type": "execute_result"
    }
   ],
   "source": [
    "test1 = df_ev[[\"con_prn_tj\" ,\"con_prr_tj\" , \"pcon_prd_tj\"]]\n",
    "test1[\"验证结果\"] = (test1[\"con_prr_tj\"] * test1[\"pcon_prd_tj\"])/100\n",
    "test1.tail(4)"
   ]
  },
  {
   "cell_type": "markdown",
   "metadata": {},
   "source": [
    "## Eq121 : con_gn_tj 行为方程 ok\n",
    "con_gn_tj  = @coef(1)  + @coef(2) * d(fen_tj)  + @coef(3) * con_gn_tj(-1)"
   ]
  },
  {
   "cell_type": "code",
   "execution_count": 54,
   "metadata": {
    "ExecuteTime": {
     "end_time": "2020-07-10T08:40:00.673440Z",
     "start_time": "2020-07-10T08:40:00.549680Z"
    }
   },
   "outputs": [
    {
     "data": {
      "text/html": [
       "<div>\n",
       "<style scoped>\n",
       "    .dataframe tbody tr th:only-of-type {\n",
       "        vertical-align: middle;\n",
       "    }\n",
       "\n",
       "    .dataframe tbody tr th {\n",
       "        vertical-align: top;\n",
       "    }\n",
       "\n",
       "    .dataframe thead th {\n",
       "        text-align: right;\n",
       "    }\n",
       "</style>\n",
       "<table border=\"1\" class=\"dataframe\">\n",
       "  <thead>\n",
       "    <tr style=\"text-align: right;\">\n",
       "      <th></th>\n",
       "      <th>con_gn_tj</th>\n",
       "      <th>fen_tj</th>\n",
       "      <th>fen_tj_diff</th>\n",
       "      <th>con_gn_tj_s1</th>\n",
       "    </tr>\n",
       "  </thead>\n",
       "  <tbody>\n",
       "    <tr>\n",
       "      <th>1997</th>\n",
       "      <td>131.88</td>\n",
       "      <td>122.78</td>\n",
       "      <td>122.78</td>\n",
       "      <td>123.97</td>\n",
       "    </tr>\n",
       "    <tr>\n",
       "      <th>1998</th>\n",
       "      <td>152.64</td>\n",
       "      <td>137.93</td>\n",
       "      <td>15.15</td>\n",
       "      <td>131.88</td>\n",
       "    </tr>\n",
       "  </tbody>\n",
       "</table>\n",
       "</div>"
      ],
      "text/plain": [
       "      con_gn_tj  fen_tj  fen_tj_diff  con_gn_tj_s1\n",
       "1997     131.88  122.78       122.78        123.97\n",
       "1998     152.64  137.93        15.15        131.88"
      ]
     },
     "execution_count": 54,
     "metadata": {},
     "output_type": "execute_result"
    }
   ],
   "source": [
    "test1 = df_ev[[\"con_gn_tj\",\"fen_tj\"]]\n",
    "test1[\"fen_tj_diff\"] = test1[\"fen_tj\"] - test1[\"fen_tj\"].shift(1)\n",
    "test1[\"con_gn_tj_s1\"] = test1[\"con_gn_tj\"].shift(1)\n",
    "test1 = test1[(test1.index>1996) & (test1.index <2018)]\n",
    "test1.head(2)"
   ]
  },
  {
   "cell_type": "code",
   "execution_count": 56,
   "metadata": {
    "ExecuteTime": {
     "end_time": "2020-07-10T08:40:32.105258Z",
     "start_time": "2020-07-10T08:40:32.080911Z"
    }
   },
   "outputs": [
    {
     "data": {
      "text/html": [
       "<table class=\"simpletable\">\n",
       "<caption>OLS Regression Results</caption>\n",
       "<tr>\n",
       "  <th>Dep. Variable:</th>        <td>con_gn_tj</td>    <th>  R-squared:         </th> <td>   0.998</td>\n",
       "</tr>\n",
       "<tr>\n",
       "  <th>Model:</th>                   <td>OLS</td>       <th>  Adj. R-squared:    </th> <td>   0.997</td>\n",
       "</tr>\n",
       "<tr>\n",
       "  <th>Method:</th>             <td>Least Squares</td>  <th>  F-statistic:       </th> <td>   3695.</td>\n",
       "</tr>\n",
       "<tr>\n",
       "  <th>Date:</th>             <td>Fri, 10 Jul 2020</td> <th>  Prob (F-statistic):</th> <td>2.95e-24</td>\n",
       "</tr>\n",
       "<tr>\n",
       "  <th>Time:</th>                 <td>08:40:32</td>     <th>  Log-Likelihood:    </th> <td> -106.03</td>\n",
       "</tr>\n",
       "<tr>\n",
       "  <th>No. Observations:</th>      <td>    21</td>      <th>  AIC:               </th> <td>   218.1</td>\n",
       "</tr>\n",
       "<tr>\n",
       "  <th>Df Residuals:</th>          <td>    18</td>      <th>  BIC:               </th> <td>   221.2</td>\n",
       "</tr>\n",
       "<tr>\n",
       "  <th>Df Model:</th>              <td>     2</td>      <th>                     </th>     <td> </td>   \n",
       "</tr>\n",
       "<tr>\n",
       "  <th>Covariance Type:</th>      <td>nonrobust</td>    <th>                     </th>     <td> </td>   \n",
       "</tr>\n",
       "</table>\n",
       "<table class=\"simpletable\">\n",
       "<tr>\n",
       "        <td></td>          <th>coef</th>     <th>std err</th>      <th>t</th>      <th>P>|t|</th>  <th>[0.025</th>    <th>0.975]</th>  \n",
       "</tr>\n",
       "<tr>\n",
       "  <th>Intercept</th>    <td>   39.0602</td> <td>   14.708</td> <td>    2.656</td> <td> 0.016</td> <td>    8.161</td> <td>   69.960</td>\n",
       "</tr>\n",
       "<tr>\n",
       "  <th>fen_tj_diff</th>  <td>    0.3061</td> <td>    0.048</td> <td>    6.317</td> <td> 0.000</td> <td>    0.204</td> <td>    0.408</td>\n",
       "</tr>\n",
       "<tr>\n",
       "  <th>con_gn_tj_s1</th> <td>    1.0207</td> <td>    0.013</td> <td>   78.552</td> <td> 0.000</td> <td>    0.993</td> <td>    1.048</td>\n",
       "</tr>\n",
       "</table>\n",
       "<table class=\"simpletable\">\n",
       "<tr>\n",
       "  <th>Omnibus:</th>       <td> 2.921</td> <th>  Durbin-Watson:     </th> <td>   1.052</td>\n",
       "</tr>\n",
       "<tr>\n",
       "  <th>Prob(Omnibus):</th> <td> 0.232</td> <th>  Jarque-Bera (JB):  </th> <td>   1.537</td>\n",
       "</tr>\n",
       "<tr>\n",
       "  <th>Skew:</th>          <td> 0.641</td> <th>  Prob(JB):          </th> <td>   0.464</td>\n",
       "</tr>\n",
       "<tr>\n",
       "  <th>Kurtosis:</th>      <td> 3.333</td> <th>  Cond. No.          </th> <td>1.95e+03</td>\n",
       "</tr>\n",
       "</table><br/><br/>Warnings:<br/>[1] Standard Errors assume that the covariance matrix of the errors is correctly specified.<br/>[2] The condition number is large, 1.95e+03. This might indicate that there are<br/>strong multicollinearity or other numerical problems."
      ],
      "text/plain": [
       "<class 'statsmodels.iolib.summary.Summary'>\n",
       "\"\"\"\n",
       "                            OLS Regression Results                            \n",
       "==============================================================================\n",
       "Dep. Variable:              con_gn_tj   R-squared:                       0.998\n",
       "Model:                            OLS   Adj. R-squared:                  0.997\n",
       "Method:                 Least Squares   F-statistic:                     3695.\n",
       "Date:                Fri, 10 Jul 2020   Prob (F-statistic):           2.95e-24\n",
       "Time:                        08:40:32   Log-Likelihood:                -106.03\n",
       "No. Observations:                  21   AIC:                             218.1\n",
       "Df Residuals:                      18   BIC:                             221.2\n",
       "Df Model:                           2                                         \n",
       "Covariance Type:            nonrobust                                         \n",
       "================================================================================\n",
       "                   coef    std err          t      P>|t|      [0.025      0.975]\n",
       "--------------------------------------------------------------------------------\n",
       "Intercept       39.0602     14.708      2.656      0.016       8.161      69.960\n",
       "fen_tj_diff      0.3061      0.048      6.317      0.000       0.204       0.408\n",
       "con_gn_tj_s1     1.0207      0.013     78.552      0.000       0.993       1.048\n",
       "==============================================================================\n",
       "Omnibus:                        2.921   Durbin-Watson:                   1.052\n",
       "Prob(Omnibus):                  0.232   Jarque-Bera (JB):                1.537\n",
       "Skew:                           0.641   Prob(JB):                        0.464\n",
       "Kurtosis:                       3.333   Cond. No.                     1.95e+03\n",
       "==============================================================================\n",
       "\n",
       "Warnings:\n",
       "[1] Standard Errors assume that the covariance matrix of the errors is correctly specified.\n",
       "[2] The condition number is large, 1.95e+03. This might indicate that there are\n",
       "strong multicollinearity or other numerical problems.\n",
       "\"\"\""
      ]
     },
     "execution_count": 56,
     "metadata": {},
     "output_type": "execute_result"
    }
   ],
   "source": [
    "results = sm.ols(formula = \"con_gn_tj ~ fen_tj_diff + con_gn_tj_s1\",data = test1).fit()\n",
    "results.summary()"
   ]
  },
  {
   "cell_type": "markdown",
   "metadata": {},
   "source": [
    "## Eq122 ： investn_tj 定义方程 ok\n",
    "investn_tj  = investr_tj  * faipi_tj  / 100"
   ]
  },
  {
   "cell_type": "code",
   "execution_count": 57,
   "metadata": {
    "ExecuteTime": {
     "end_time": "2020-07-10T08:41:27.928646Z",
     "start_time": "2020-07-10T08:41:27.855741Z"
    }
   },
   "outputs": [
    {
     "data": {
      "text/html": [
       "<div>\n",
       "<style scoped>\n",
       "    .dataframe tbody tr th:only-of-type {\n",
       "        vertical-align: middle;\n",
       "    }\n",
       "\n",
       "    .dataframe tbody tr th {\n",
       "        vertical-align: top;\n",
       "    }\n",
       "\n",
       "    .dataframe thead th {\n",
       "        text-align: right;\n",
       "    }\n",
       "</style>\n",
       "<table border=\"1\" class=\"dataframe\">\n",
       "  <thead>\n",
       "    <tr style=\"text-align: right;\">\n",
       "      <th></th>\n",
       "      <th>investn_tj</th>\n",
       "      <th>investr_tj</th>\n",
       "      <th>faipi_tj</th>\n",
       "      <th>预测</th>\n",
       "    </tr>\n",
       "  </thead>\n",
       "  <tbody>\n",
       "    <tr>\n",
       "      <th>2017</th>\n",
       "      <td>11274.6948</td>\n",
       "      <td>10875.121101</td>\n",
       "      <td>103.674200</td>\n",
       "      <td>11274.6948</td>\n",
       "    </tr>\n",
       "    <tr>\n",
       "      <th>2018</th>\n",
       "      <td>NaN</td>\n",
       "      <td>NaN</td>\n",
       "      <td>108.339539</td>\n",
       "      <td>NaN</td>\n",
       "    </tr>\n",
       "    <tr>\n",
       "      <th>2019</th>\n",
       "      <td>NaN</td>\n",
       "      <td>NaN</td>\n",
       "      <td>110.181311</td>\n",
       "      <td>NaN</td>\n",
       "    </tr>\n",
       "    <tr>\n",
       "      <th>2020</th>\n",
       "      <td>NaN</td>\n",
       "      <td>NaN</td>\n",
       "      <td>NaN</td>\n",
       "      <td>NaN</td>\n",
       "    </tr>\n",
       "  </tbody>\n",
       "</table>\n",
       "</div>"
      ],
      "text/plain": [
       "      investn_tj    investr_tj    faipi_tj          预测\n",
       "2017  11274.6948  10875.121101  103.674200  11274.6948\n",
       "2018         NaN           NaN  108.339539         NaN\n",
       "2019         NaN           NaN  110.181311         NaN\n",
       "2020         NaN           NaN         NaN         NaN"
      ]
     },
     "execution_count": 57,
     "metadata": {},
     "output_type": "execute_result"
    }
   ],
   "source": [
    "test1 = df_ev[[\"investn_tj\" ,\"investr_tj\" , \"faipi_tj\"]]\n",
    "test1[\"预测\"] = (test1[\"investr_tj\"] * test1[\"faipi_tj\"]) /100\n",
    "test1.tail(4)"
   ]
  },
  {
   "cell_type": "markdown",
   "metadata": {},
   "source": [
    "## Eq123 : inv_fon_tj 定义方程  ok\n",
    "inv_fon_tj  = inv_for_tj  * pinv_fod_tj  / 100"
   ]
  },
  {
   "cell_type": "code",
   "execution_count": 58,
   "metadata": {
    "ExecuteTime": {
     "end_time": "2020-07-10T08:43:33.836829Z",
     "start_time": "2020-07-10T08:43:33.760453Z"
    }
   },
   "outputs": [
    {
     "data": {
      "text/html": [
       "<div>\n",
       "<style scoped>\n",
       "    .dataframe tbody tr th:only-of-type {\n",
       "        vertical-align: middle;\n",
       "    }\n",
       "\n",
       "    .dataframe tbody tr th {\n",
       "        vertical-align: top;\n",
       "    }\n",
       "\n",
       "    .dataframe thead th {\n",
       "        text-align: right;\n",
       "    }\n",
       "</style>\n",
       "<table border=\"1\" class=\"dataframe\">\n",
       "  <thead>\n",
       "    <tr style=\"text-align: right;\">\n",
       "      <th></th>\n",
       "      <th>inv_fon_tj</th>\n",
       "      <th>inv_for_tj</th>\n",
       "      <th>pinv_fod_tj</th>\n",
       "      <th>预测</th>\n",
       "    </tr>\n",
       "  </thead>\n",
       "  <tbody>\n",
       "    <tr>\n",
       "      <th>2017</th>\n",
       "      <td>10467.18</td>\n",
       "      <td>10725.095104</td>\n",
       "      <td>97.595218</td>\n",
       "      <td>10467.18</td>\n",
       "    </tr>\n",
       "    <tr>\n",
       "      <th>2018</th>\n",
       "      <td>NaN</td>\n",
       "      <td>NaN</td>\n",
       "      <td>NaN</td>\n",
       "      <td>NaN</td>\n",
       "    </tr>\n",
       "    <tr>\n",
       "      <th>2019</th>\n",
       "      <td>NaN</td>\n",
       "      <td>NaN</td>\n",
       "      <td>NaN</td>\n",
       "      <td>NaN</td>\n",
       "    </tr>\n",
       "    <tr>\n",
       "      <th>2020</th>\n",
       "      <td>NaN</td>\n",
       "      <td>NaN</td>\n",
       "      <td>NaN</td>\n",
       "      <td>NaN</td>\n",
       "    </tr>\n",
       "  </tbody>\n",
       "</table>\n",
       "</div>"
      ],
      "text/plain": [
       "      inv_fon_tj    inv_for_tj  pinv_fod_tj        预测\n",
       "2017    10467.18  10725.095104    97.595218  10467.18\n",
       "2018         NaN           NaN          NaN       NaN\n",
       "2019         NaN           NaN          NaN       NaN\n",
       "2020         NaN           NaN          NaN       NaN"
      ]
     },
     "execution_count": 58,
     "metadata": {},
     "output_type": "execute_result"
    }
   ],
   "source": [
    "test1 = df_ev[[\"inv_fon_tj\" ,\"inv_for_tj\" , \"pinv_fod_tj\"]]\n",
    "test1[\"预测\"] = (test1[\"inv_for_tj\"] * test1[\"pinv_fod_tj\"])/100\n",
    "test1.tail(4)"
   ]
  },
  {
   "cell_type": "markdown",
   "metadata": {},
   "source": [
    "## Eq124 : inv_chn_tj 定义方程 ok\n",
    "inv_chn_tj  = inv_chr_tj  * pinv_chd_tj  / 100"
   ]
  },
  {
   "cell_type": "code",
   "execution_count": 59,
   "metadata": {
    "ExecuteTime": {
     "end_time": "2020-07-10T08:44:56.197499Z",
     "start_time": "2020-07-10T08:44:56.119984Z"
    }
   },
   "outputs": [
    {
     "data": {
      "text/html": [
       "<div>\n",
       "<style scoped>\n",
       "    .dataframe tbody tr th:only-of-type {\n",
       "        vertical-align: middle;\n",
       "    }\n",
       "\n",
       "    .dataframe tbody tr th {\n",
       "        vertical-align: top;\n",
       "    }\n",
       "\n",
       "    .dataframe thead th {\n",
       "        text-align: right;\n",
       "    }\n",
       "</style>\n",
       "<table border=\"1\" class=\"dataframe\">\n",
       "  <thead>\n",
       "    <tr style=\"text-align: right;\">\n",
       "      <th></th>\n",
       "      <th>inv_chn_tj</th>\n",
       "      <th>inv_chr_tj</th>\n",
       "      <th>pinv_chd_tj</th>\n",
       "      <th>预测</th>\n",
       "    </tr>\n",
       "  </thead>\n",
       "  <tbody>\n",
       "    <tr>\n",
       "      <th>1996</th>\n",
       "      <td>102.34</td>\n",
       "      <td>94.222611</td>\n",
       "      <td>108.615118</td>\n",
       "      <td>102.34</td>\n",
       "    </tr>\n",
       "    <tr>\n",
       "      <th>1997</th>\n",
       "      <td>105.84</td>\n",
       "      <td>96.188492</td>\n",
       "      <td>110.033953</td>\n",
       "      <td>105.84</td>\n",
       "    </tr>\n",
       "  </tbody>\n",
       "</table>\n",
       "</div>"
      ],
      "text/plain": [
       "      inv_chn_tj  inv_chr_tj  pinv_chd_tj      预测\n",
       "1996      102.34   94.222611   108.615118  102.34\n",
       "1997      105.84   96.188492   110.033953  105.84"
      ]
     },
     "execution_count": 59,
     "metadata": {},
     "output_type": "execute_result"
    }
   ],
   "source": [
    "test1 = df_ev[[\"inv_chn_tj\" ,\"inv_chr_tj\" , \"pinv_chd_tj\"]]\n",
    "test1[\"预测\"] = (test1[\"inv_chr_tj\"] * test1[\"pinv_chd_tj\"])/100\n",
    "test1.head(2)"
   ]
  },
  {
   "cell_type": "markdown",
   "metadata": {},
   "source": [
    "## Eq 125 : consr_tj   定义方程  no 预测与真实值相差较大\n",
    "consr_tj  = consn_tj  / rpi_tj  * 100"
   ]
  },
  {
   "cell_type": "code",
   "execution_count": 60,
   "metadata": {
    "ExecuteTime": {
     "end_time": "2020-07-10T08:45:41.380810Z",
     "start_time": "2020-07-10T08:45:41.288188Z"
    }
   },
   "outputs": [
    {
     "data": {
      "text/html": [
       "<div>\n",
       "<style scoped>\n",
       "    .dataframe tbody tr th:only-of-type {\n",
       "        vertical-align: middle;\n",
       "    }\n",
       "\n",
       "    .dataframe tbody tr th {\n",
       "        vertical-align: top;\n",
       "    }\n",
       "\n",
       "    .dataframe thead th {\n",
       "        text-align: right;\n",
       "    }\n",
       "</style>\n",
       "<table border=\"1\" class=\"dataframe\">\n",
       "  <thead>\n",
       "    <tr style=\"text-align: right;\">\n",
       "      <th></th>\n",
       "      <th>consr_tj</th>\n",
       "      <th>consn_tj</th>\n",
       "      <th>rpi_tj</th>\n",
       "      <th>预测</th>\n",
       "    </tr>\n",
       "  </thead>\n",
       "  <tbody>\n",
       "    <tr>\n",
       "      <th>1996</th>\n",
       "      <td>NaN</td>\n",
       "      <td>NaN</td>\n",
       "      <td>91.846182</td>\n",
       "      <td>NaN</td>\n",
       "    </tr>\n",
       "    <tr>\n",
       "      <th>1997</th>\n",
       "      <td>NaN</td>\n",
       "      <td>NaN</td>\n",
       "      <td>92.489105</td>\n",
       "      <td>NaN</td>\n",
       "    </tr>\n",
       "  </tbody>\n",
       "</table>\n",
       "</div>"
      ],
      "text/plain": [
       "      consr_tj  consn_tj     rpi_tj  预测\n",
       "1996       NaN       NaN  91.846182 NaN\n",
       "1997       NaN       NaN  92.489105 NaN"
      ]
     },
     "execution_count": 60,
     "metadata": {},
     "output_type": "execute_result"
    }
   ],
   "source": [
    "test1 = df_ev[[\"consr_tj\" ,\"consn_tj\" , \"rpi_tj\"]]\n",
    "test1[\"预测\"] = (test1[\"consn_tj\"] / test1[\"rpi_tj\"])*100\n",
    "test1.head(2)"
   ]
  },
  {
   "cell_type": "markdown",
   "metadata": {},
   "source": [
    "## Eq 126 :  inv_for_tj  定义方程 ok\n",
    "inv_for_tj  = inv_fir_tj  + inv_chr_tj"
   ]
  },
  {
   "cell_type": "code",
   "execution_count": 61,
   "metadata": {
    "ExecuteTime": {
     "end_time": "2020-07-10T08:47:36.081339Z",
     "start_time": "2020-07-10T08:47:35.986122Z"
    }
   },
   "outputs": [
    {
     "data": {
      "text/html": [
       "<div>\n",
       "<style scoped>\n",
       "    .dataframe tbody tr th:only-of-type {\n",
       "        vertical-align: middle;\n",
       "    }\n",
       "\n",
       "    .dataframe tbody tr th {\n",
       "        vertical-align: top;\n",
       "    }\n",
       "\n",
       "    .dataframe thead th {\n",
       "        text-align: right;\n",
       "    }\n",
       "</style>\n",
       "<table border=\"1\" class=\"dataframe\">\n",
       "  <thead>\n",
       "    <tr style=\"text-align: right;\">\n",
       "      <th></th>\n",
       "      <th>inv_for_tj</th>\n",
       "      <th>inv_fir_tj</th>\n",
       "      <th>inv_chr_tj</th>\n",
       "      <th>预测</th>\n",
       "    </tr>\n",
       "  </thead>\n",
       "  <tbody>\n",
       "    <tr>\n",
       "      <th>2017</th>\n",
       "      <td>10725.095104</td>\n",
       "      <td>10314.097004</td>\n",
       "      <td>410.9981</td>\n",
       "      <td>10725.095104</td>\n",
       "    </tr>\n",
       "    <tr>\n",
       "      <th>2018</th>\n",
       "      <td>NaN</td>\n",
       "      <td>NaN</td>\n",
       "      <td>NaN</td>\n",
       "      <td>NaN</td>\n",
       "    </tr>\n",
       "    <tr>\n",
       "      <th>2019</th>\n",
       "      <td>NaN</td>\n",
       "      <td>NaN</td>\n",
       "      <td>NaN</td>\n",
       "      <td>NaN</td>\n",
       "    </tr>\n",
       "    <tr>\n",
       "      <th>2020</th>\n",
       "      <td>NaN</td>\n",
       "      <td>NaN</td>\n",
       "      <td>NaN</td>\n",
       "      <td>NaN</td>\n",
       "    </tr>\n",
       "  </tbody>\n",
       "</table>\n",
       "</div>"
      ],
      "text/plain": [
       "        inv_for_tj    inv_fir_tj  inv_chr_tj            预测\n",
       "2017  10725.095104  10314.097004    410.9981  10725.095104\n",
       "2018           NaN           NaN         NaN           NaN\n",
       "2019           NaN           NaN         NaN           NaN\n",
       "2020           NaN           NaN         NaN           NaN"
      ]
     },
     "execution_count": 61,
     "metadata": {},
     "output_type": "execute_result"
    }
   ],
   "source": [
    "test1 = df_ev[[\"inv_for_tj\" ,\"inv_fir_tj\" , \"inv_chr_tj\"]]\n",
    "test1[\"预测\"] = test1[\"inv_fir_tj\"] + test1[\"inv_chr_tj\"]\n",
    "test1.tail(4)"
   ]
  },
  {
   "cell_type": "markdown",
   "metadata": {},
   "source": [
    "## Eq 127 : inv_fin_tj   定义方程 ok\n",
    "inv_fin_tj  = inv_fir_tj  * pinv_fid_tj  / 100"
   ]
  },
  {
   "cell_type": "code",
   "execution_count": 62,
   "metadata": {
    "ExecuteTime": {
     "end_time": "2020-07-10T08:48:25.099930Z",
     "start_time": "2020-07-10T08:48:25.008212Z"
    }
   },
   "outputs": [
    {
     "data": {
      "text/html": [
       "<div>\n",
       "<style scoped>\n",
       "    .dataframe tbody tr th:only-of-type {\n",
       "        vertical-align: middle;\n",
       "    }\n",
       "\n",
       "    .dataframe tbody tr th {\n",
       "        vertical-align: top;\n",
       "    }\n",
       "\n",
       "    .dataframe thead th {\n",
       "        text-align: right;\n",
       "    }\n",
       "</style>\n",
       "<table border=\"1\" class=\"dataframe\">\n",
       "  <thead>\n",
       "    <tr style=\"text-align: right;\">\n",
       "      <th></th>\n",
       "      <th>inv_fin_tj</th>\n",
       "      <th>inv_fir_tj</th>\n",
       "      <th>pinv_fid_tj</th>\n",
       "      <th>预测</th>\n",
       "    </tr>\n",
       "  </thead>\n",
       "  <tbody>\n",
       "    <tr>\n",
       "      <th>2017</th>\n",
       "      <td>10137.46</td>\n",
       "      <td>10314.097004</td>\n",
       "      <td>98.287422</td>\n",
       "      <td>10137.46</td>\n",
       "    </tr>\n",
       "    <tr>\n",
       "      <th>2018</th>\n",
       "      <td>NaN</td>\n",
       "      <td>NaN</td>\n",
       "      <td>NaN</td>\n",
       "      <td>NaN</td>\n",
       "    </tr>\n",
       "    <tr>\n",
       "      <th>2019</th>\n",
       "      <td>NaN</td>\n",
       "      <td>NaN</td>\n",
       "      <td>NaN</td>\n",
       "      <td>NaN</td>\n",
       "    </tr>\n",
       "    <tr>\n",
       "      <th>2020</th>\n",
       "      <td>NaN</td>\n",
       "      <td>NaN</td>\n",
       "      <td>NaN</td>\n",
       "      <td>NaN</td>\n",
       "    </tr>\n",
       "  </tbody>\n",
       "</table>\n",
       "</div>"
      ],
      "text/plain": [
       "      inv_fin_tj    inv_fir_tj  pinv_fid_tj        预测\n",
       "2017    10137.46  10314.097004    98.287422  10137.46\n",
       "2018         NaN           NaN          NaN       NaN\n",
       "2019         NaN           NaN          NaN       NaN\n",
       "2020         NaN           NaN          NaN       NaN"
      ]
     },
     "execution_count": 62,
     "metadata": {},
     "output_type": "execute_result"
    }
   ],
   "source": [
    "test1 = df_ev[[\"inv_fin_tj\" ,\"inv_fir_tj\" , \"pinv_fid_tj\"]]\n",
    "test1[\"预测\"] = (test1[\"inv_fir_tj\"] * test1[\"pinv_fid_tj\"])/100\n",
    "test1.tail(4)"
   ]
  },
  {
   "cell_type": "markdown",
   "metadata": {},
   "source": [
    "## Eq 128 :  gdper_tj  定义方程 ok\n",
    "gdper_tj  = con_fr_tj  + inv_for_tj  + nex_gsr_tj"
   ]
  },
  {
   "cell_type": "code",
   "execution_count": 63,
   "metadata": {
    "ExecuteTime": {
     "end_time": "2020-07-10T08:49:10.612272Z",
     "start_time": "2020-07-10T08:49:10.479481Z"
    }
   },
   "outputs": [
    {
     "data": {
      "text/html": [
       "<div>\n",
       "<style scoped>\n",
       "    .dataframe tbody tr th:only-of-type {\n",
       "        vertical-align: middle;\n",
       "    }\n",
       "\n",
       "    .dataframe tbody tr th {\n",
       "        vertical-align: top;\n",
       "    }\n",
       "\n",
       "    .dataframe thead th {\n",
       "        text-align: right;\n",
       "    }\n",
       "</style>\n",
       "<table border=\"1\" class=\"dataframe\">\n",
       "  <thead>\n",
       "    <tr style=\"text-align: right;\">\n",
       "      <th></th>\n",
       "      <th>gdper_tj</th>\n",
       "      <th>con_fr_tj</th>\n",
       "      <th>inv_for_tj</th>\n",
       "      <th>nex_gsr_tj</th>\n",
       "      <th>预测</th>\n",
       "    </tr>\n",
       "  </thead>\n",
       "  <tbody>\n",
       "    <tr>\n",
       "      <th>2017</th>\n",
       "      <td>18982.612429</td>\n",
       "      <td>8208.670038</td>\n",
       "      <td>10725.095104</td>\n",
       "      <td>48.847287</td>\n",
       "      <td>18982.612429</td>\n",
       "    </tr>\n",
       "    <tr>\n",
       "      <th>2018</th>\n",
       "      <td>19665.986476</td>\n",
       "      <td>NaN</td>\n",
       "      <td>NaN</td>\n",
       "      <td>NaN</td>\n",
       "      <td>NaN</td>\n",
       "    </tr>\n",
       "    <tr>\n",
       "      <th>2019</th>\n",
       "      <td>20609.953827</td>\n",
       "      <td>NaN</td>\n",
       "      <td>NaN</td>\n",
       "      <td>NaN</td>\n",
       "      <td>NaN</td>\n",
       "    </tr>\n",
       "    <tr>\n",
       "      <th>2020</th>\n",
       "      <td>NaN</td>\n",
       "      <td>NaN</td>\n",
       "      <td>NaN</td>\n",
       "      <td>NaN</td>\n",
       "      <td>NaN</td>\n",
       "    </tr>\n",
       "  </tbody>\n",
       "</table>\n",
       "</div>"
      ],
      "text/plain": [
       "          gdper_tj    con_fr_tj    inv_for_tj  nex_gsr_tj            预测\n",
       "2017  18982.612429  8208.670038  10725.095104   48.847287  18982.612429\n",
       "2018  19665.986476          NaN           NaN         NaN           NaN\n",
       "2019  20609.953827          NaN           NaN         NaN           NaN\n",
       "2020           NaN          NaN           NaN         NaN           NaN"
      ]
     },
     "execution_count": 63,
     "metadata": {},
     "output_type": "execute_result"
    }
   ],
   "source": [
    "test1 = df_ev[[\"gdper_tj\" ,\"con_fr_tj\",\"inv_for_tj\",\"nex_gsr_tj\"]]\n",
    "test1[\"预测\"] = test1[\"con_fr_tj\"] + test1[\"inv_for_tj\"] + test1[\"nex_gsr_tj\"]\n",
    "test1.tail(4)"
   ]
  },
  {
   "cell_type": "markdown",
   "metadata": {},
   "source": [
    "## Eq 129 : gdpen_tj   定义方程 ok\n",
    "gdpen_tj  = con_fn_tj  + inv_fon_tj  + nex_gsn_tj"
   ]
  },
  {
   "cell_type": "code",
   "execution_count": 74,
   "metadata": {
    "ExecuteTime": {
     "end_time": "2020-07-09T08:31:33.044728Z",
     "start_time": "2020-07-09T08:31:32.982303Z"
    }
   },
   "outputs": [
    {
     "data": {
      "text/html": [
       "<div>\n",
       "<style scoped>\n",
       "    .dataframe tbody tr th:only-of-type {\n",
       "        vertical-align: middle;\n",
       "    }\n",
       "\n",
       "    .dataframe tbody tr th {\n",
       "        vertical-align: top;\n",
       "    }\n",
       "\n",
       "    .dataframe thead th {\n",
       "        text-align: right;\n",
       "    }\n",
       "</style>\n",
       "<table border=\"1\" class=\"dataframe\">\n",
       "  <thead>\n",
       "    <tr style=\"text-align: right;\">\n",
       "      <th></th>\n",
       "      <th>gdpen_bj</th>\n",
       "      <th>con_fn_bj</th>\n",
       "      <th>inv_fon_bj</th>\n",
       "      <th>nex_gsn_bj</th>\n",
       "      <th>预测</th>\n",
       "    </tr>\n",
       "  </thead>\n",
       "  <tbody>\n",
       "    <tr>\n",
       "      <th>2017</th>\n",
       "      <td>28014.9</td>\n",
       "      <td>16842.1</td>\n",
       "      <td>10946.30</td>\n",
       "      <td>226.5</td>\n",
       "      <td>28014.90</td>\n",
       "    </tr>\n",
       "    <tr>\n",
       "      <th>2018</th>\n",
       "      <td>30320.0</td>\n",
       "      <td>18508.9</td>\n",
       "      <td>11286.03</td>\n",
       "      <td>525.1</td>\n",
       "      <td>30320.03</td>\n",
       "    </tr>\n",
       "    <tr>\n",
       "      <th>2019</th>\n",
       "      <td>NaN</td>\n",
       "      <td>NaN</td>\n",
       "      <td>NaN</td>\n",
       "      <td>NaN</td>\n",
       "      <td>NaN</td>\n",
       "    </tr>\n",
       "    <tr>\n",
       "      <th>2020</th>\n",
       "      <td>NaN</td>\n",
       "      <td>NaN</td>\n",
       "      <td>NaN</td>\n",
       "      <td>NaN</td>\n",
       "      <td>NaN</td>\n",
       "    </tr>\n",
       "  </tbody>\n",
       "</table>\n",
       "</div>"
      ],
      "text/plain": [
       "      gdpen_bj  con_fn_bj  inv_fon_bj  nex_gsn_bj        预测\n",
       "2017   28014.9    16842.1    10946.30       226.5  28014.90\n",
       "2018   30320.0    18508.9    11286.03       525.1  30320.03\n",
       "2019       NaN        NaN         NaN         NaN       NaN\n",
       "2020       NaN        NaN         NaN         NaN       NaN"
      ]
     },
     "execution_count": 74,
     "metadata": {},
     "output_type": "execute_result"
    }
   ],
   "source": [
    "test1 = df_ev[[\"gdpen_tj\" ,\"con_fn_tj\" , \"inv_fon_tj\",\"nex_gsn_tj\"]]\n",
    "test1[\"预测\"] = test1[\"con_fn_tj\"] + test1[\"inv_fon_tj\"] + test1[\"nex_gsn_tj\"]\n",
    "test1.tail(4)"
   ]
  },
  {
   "cell_type": "markdown",
   "metadata": {},
   "source": [
    "## Eq 130 :  nex_gsn_tj   定义方程 ok\n",
    "nex_gsn_tj  = nex_gsr_tj  * pnex_gsd_tj  / 100\n"
   ]
  },
  {
   "cell_type": "code",
   "execution_count": 65,
   "metadata": {
    "ExecuteTime": {
     "end_time": "2020-07-10T08:51:06.507252Z",
     "start_time": "2020-07-10T08:51:06.437308Z"
    }
   },
   "outputs": [
    {
     "data": {
      "text/html": [
       "<div>\n",
       "<style scoped>\n",
       "    .dataframe tbody tr th:only-of-type {\n",
       "        vertical-align: middle;\n",
       "    }\n",
       "\n",
       "    .dataframe tbody tr th {\n",
       "        vertical-align: top;\n",
       "    }\n",
       "\n",
       "    .dataframe thead th {\n",
       "        text-align: right;\n",
       "    }\n",
       "</style>\n",
       "<table border=\"1\" class=\"dataframe\">\n",
       "  <thead>\n",
       "    <tr style=\"text-align: right;\">\n",
       "      <th></th>\n",
       "      <th>nex_gsn_tj</th>\n",
       "      <th>nex_gsr_tj</th>\n",
       "      <th>pnex_gsd_tj</th>\n",
       "      <th>预测</th>\n",
       "    </tr>\n",
       "  </thead>\n",
       "  <tbody>\n",
       "    <tr>\n",
       "      <th>2017</th>\n",
       "      <td>-342.16</td>\n",
       "      <td>48.847287</td>\n",
       "      <td>-700.468794</td>\n",
       "      <td>-342.16</td>\n",
       "    </tr>\n",
       "    <tr>\n",
       "      <th>2018</th>\n",
       "      <td>NaN</td>\n",
       "      <td>NaN</td>\n",
       "      <td>683.630614</td>\n",
       "      <td>NaN</td>\n",
       "    </tr>\n",
       "    <tr>\n",
       "      <th>2019</th>\n",
       "      <td>NaN</td>\n",
       "      <td>NaN</td>\n",
       "      <td>-667.197197</td>\n",
       "      <td>NaN</td>\n",
       "    </tr>\n",
       "    <tr>\n",
       "      <th>2020</th>\n",
       "      <td>NaN</td>\n",
       "      <td>NaN</td>\n",
       "      <td>NaN</td>\n",
       "      <td>NaN</td>\n",
       "    </tr>\n",
       "  </tbody>\n",
       "</table>\n",
       "</div>"
      ],
      "text/plain": [
       "      nex_gsn_tj  nex_gsr_tj  pnex_gsd_tj      预测\n",
       "2017     -342.16   48.847287  -700.468794 -342.16\n",
       "2018         NaN         NaN   683.630614     NaN\n",
       "2019         NaN         NaN  -667.197197     NaN\n",
       "2020         NaN         NaN          NaN     NaN"
      ]
     },
     "execution_count": 65,
     "metadata": {},
     "output_type": "execute_result"
    }
   ],
   "source": [
    "test1 = df_ev[[\"nex_gsn_tj\" ,\"nex_gsr_tj\" , \"pnex_gsd_tj\"]]\n",
    "test1[\"预测\"] = (test1[\"nex_gsr_tj\"] * test1[\"pnex_gsd_tj\"])/100\n",
    "test1.tail(4)"
   ]
  },
  {
   "cell_type": "markdown",
   "metadata": {},
   "source": [
    "## Eq131 : con_pur_tj 行为方程 ok\n",
    "con_pur_tj  = @coef(1)  + @coef(2) * yht_un_tj / pcon_pud_tj * 100  + @coef(3) * con_pur_tj(-1)  + [ar(1) = @coef(4) , estsmpl = \"2006 2017\"]"
   ]
  },
  {
   "cell_type": "code",
   "execution_count": 67,
   "metadata": {
    "ExecuteTime": {
     "end_time": "2020-07-10T08:55:07.625867Z",
     "start_time": "2020-07-10T08:55:07.508260Z"
    }
   },
   "outputs": [
    {
     "data": {
      "text/html": [
       "<div>\n",
       "<style scoped>\n",
       "    .dataframe tbody tr th:only-of-type {\n",
       "        vertical-align: middle;\n",
       "    }\n",
       "\n",
       "    .dataframe tbody tr th {\n",
       "        vertical-align: top;\n",
       "    }\n",
       "\n",
       "    .dataframe thead th {\n",
       "        text-align: right;\n",
       "    }\n",
       "</style>\n",
       "<table border=\"1\" class=\"dataframe\">\n",
       "  <thead>\n",
       "    <tr style=\"text-align: right;\">\n",
       "      <th></th>\n",
       "      <th>con_pur_tj</th>\n",
       "      <th>yht_un_tj</th>\n",
       "      <th>pcon_pud_tj</th>\n",
       "      <th>yht_pcon_100</th>\n",
       "      <th>con_pur_tj_s1</th>\n",
       "    </tr>\n",
       "  </thead>\n",
       "  <tbody>\n",
       "    <tr>\n",
       "      <th>2006</th>\n",
       "      <td>1394.296824</td>\n",
       "      <td>1080.002084</td>\n",
       "      <td>78.743118</td>\n",
       "      <td>1371.551071</td>\n",
       "      <td>1225.311880</td>\n",
       "    </tr>\n",
       "    <tr>\n",
       "      <th>2007</th>\n",
       "      <td>1595.094723</td>\n",
       "      <td>1281.642302</td>\n",
       "      <td>81.143871</td>\n",
       "      <td>1579.469025</td>\n",
       "      <td>1394.296824</td>\n",
       "    </tr>\n",
       "  </tbody>\n",
       "</table>\n",
       "</div>"
      ],
      "text/plain": [
       "       con_pur_tj    yht_un_tj  pcon_pud_tj  yht_pcon_100  con_pur_tj_s1\n",
       "2006  1394.296824  1080.002084    78.743118   1371.551071    1225.311880\n",
       "2007  1595.094723  1281.642302    81.143871   1579.469025    1394.296824"
      ]
     },
     "execution_count": 67,
     "metadata": {},
     "output_type": "execute_result"
    }
   ],
   "source": [
    "test1 = df_ev[[\"con_pur_tj\" ,\"yht_un_tj\" , \"pcon_pud_tj\"]]\n",
    "test1[\"yht_pcon_100\"] = test1[\"yht_un_tj\"]/test1[\"pcon_pud_tj\"]*100\n",
    "test1[\"con_pur_tj_s1\"] = test1[\"con_pur_tj\"].shift(1)\n",
    "test1 = test1[(test1.index>2005) & (test1.index <2018)]\n",
    "test1.head(2)"
   ]
  },
  {
   "cell_type": "code",
   "execution_count": 68,
   "metadata": {
    "ExecuteTime": {
     "end_time": "2020-07-10T08:55:09.358625Z",
     "start_time": "2020-07-10T08:55:09.200878Z"
    }
   },
   "outputs": [
    {
     "data": {
      "text/html": [
       "<table class=\"simpletable\">\n",
       "<caption>SARIMAX Results</caption>\n",
       "<tr>\n",
       "  <th>Dep. Variable:</th>      <td>con_pur_tj</td>    <th>  No. Observations:  </th>   <td>12</td>   \n",
       "</tr>\n",
       "<tr>\n",
       "  <th>Model:</th>           <td>SARIMAX(1, 0, 0)</td> <th>  Log Likelihood     </th> <td>-56.875</td>\n",
       "</tr>\n",
       "<tr>\n",
       "  <th>Date:</th>            <td>Fri, 10 Jul 2020</td> <th>  AIC                </th> <td>123.750</td>\n",
       "</tr>\n",
       "<tr>\n",
       "  <th>Time:</th>                <td>08:55:09</td>     <th>  BIC                </th> <td>125.739</td>\n",
       "</tr>\n",
       "<tr>\n",
       "  <th>Sample:</th>                  <td>0</td>        <th>  HQIC               </th> <td>122.496</td>\n",
       "</tr>\n",
       "<tr>\n",
       "  <th></th>                       <td> - 12</td>      <th>                     </th>    <td> </td>   \n",
       "</tr>\n",
       "<tr>\n",
       "  <th>Covariance Type:</th>        <td>opg</td>       <th>                     </th>    <td> </td>   \n",
       "</tr>\n",
       "</table>\n",
       "<table class=\"simpletable\">\n",
       "<tr>\n",
       "        <td></td>           <th>coef</th>     <th>std err</th>      <th>z</th>      <th>P>|z|</th>  <th>[0.025</th>    <th>0.975]</th>  \n",
       "</tr>\n",
       "<tr>\n",
       "  <th>intercept</th>     <td>   60.7738</td> <td>   68.338</td> <td>    0.889</td> <td> 0.374</td> <td>  -73.166</td> <td>  194.713</td>\n",
       "</tr>\n",
       "<tr>\n",
       "  <th>yht_pcon_100</th>  <td>    0.4686</td> <td>    0.244</td> <td>    1.921</td> <td> 0.055</td> <td>   -0.010</td> <td>    0.947</td>\n",
       "</tr>\n",
       "<tr>\n",
       "  <th>con_pur_tj_s1</th> <td>    0.5555</td> <td>    0.282</td> <td>    1.969</td> <td> 0.049</td> <td>    0.003</td> <td>    1.108</td>\n",
       "</tr>\n",
       "<tr>\n",
       "  <th>ar.L1</th>         <td>    0.7083</td> <td>    0.515</td> <td>    1.375</td> <td> 0.169</td> <td>   -0.301</td> <td>    1.718</td>\n",
       "</tr>\n",
       "<tr>\n",
       "  <th>sigma2</th>        <td> 1816.1087</td> <td> 1159.111</td> <td>    1.567</td> <td> 0.117</td> <td> -455.707</td> <td> 4087.924</td>\n",
       "</tr>\n",
       "</table>\n",
       "<table class=\"simpletable\">\n",
       "<tr>\n",
       "  <th>Ljung-Box (Q):</th>          <td>10.39</td> <th>  Jarque-Bera (JB):  </th> <td>0.63</td>\n",
       "</tr>\n",
       "<tr>\n",
       "  <th>Prob(Q):</th>                <td>0.41</td>  <th>  Prob(JB):          </th> <td>0.73</td>\n",
       "</tr>\n",
       "<tr>\n",
       "  <th>Heteroskedasticity (H):</th> <td>0.24</td>  <th>  Skew:              </th> <td>0.49</td>\n",
       "</tr>\n",
       "<tr>\n",
       "  <th>Prob(H) (two-sided):</th>    <td>0.20</td>  <th>  Kurtosis:          </th> <td>2.36</td>\n",
       "</tr>\n",
       "</table><br/><br/>Warnings:<br/>[1] Covariance matrix calculated using the outer product of gradients (complex-step)."
      ],
      "text/plain": [
       "<class 'statsmodels.iolib.summary.Summary'>\n",
       "\"\"\"\n",
       "                               SARIMAX Results                                \n",
       "==============================================================================\n",
       "Dep. Variable:             con_pur_tj   No. Observations:                   12\n",
       "Model:               SARIMAX(1, 0, 0)   Log Likelihood                 -56.875\n",
       "Date:                Fri, 10 Jul 2020   AIC                            123.750\n",
       "Time:                        08:55:09   BIC                            125.739\n",
       "Sample:                             0   HQIC                           122.496\n",
       "                                 - 12                                         \n",
       "Covariance Type:                  opg                                         \n",
       "=================================================================================\n",
       "                    coef    std err          z      P>|z|      [0.025      0.975]\n",
       "---------------------------------------------------------------------------------\n",
       "intercept        60.7738     68.338      0.889      0.374     -73.166     194.713\n",
       "yht_pcon_100      0.4686      0.244      1.921      0.055      -0.010       0.947\n",
       "con_pur_tj_s1     0.5555      0.282      1.969      0.049       0.003       1.108\n",
       "ar.L1             0.7083      0.515      1.375      0.169      -0.301       1.718\n",
       "sigma2         1816.1087   1159.111      1.567      0.117    -455.707    4087.924\n",
       "===================================================================================\n",
       "Ljung-Box (Q):                       10.39   Jarque-Bera (JB):                 0.63\n",
       "Prob(Q):                              0.41   Prob(JB):                         0.73\n",
       "Heteroskedasticity (H):               0.24   Skew:                             0.49\n",
       "Prob(H) (two-sided):                  0.20   Kurtosis:                         2.36\n",
       "===================================================================================\n",
       "\n",
       "Warnings:\n",
       "[1] Covariance matrix calculated using the outer product of gradients (complex-step).\n",
       "\"\"\""
      ]
     },
     "execution_count": 68,
     "metadata": {},
     "output_type": "execute_result"
    }
   ],
   "source": [
    "ar = 1 \n",
    "ma = 0\n",
    "mod = SARIMAX(endog = test1[\"con_pur_tj\"] , exog = test1[[\"yht_pcon_100\",\"con_pur_tj_s1\"]],order =(ar,0,ma),enforce_invertibility= False , trend = 'c', enforce_stationarity = False)\n",
    "results = mod.fit()\n",
    "\n",
    "results.summary() #results.summary().tables[1]"
   ]
  },
  {
   "cell_type": "markdown",
   "metadata": {},
   "source": [
    "## Eq132 : con_prr_tj 行为方程 ok\n",
    "eviews :function :d(x) :first difference ,d(x) = x - x(-1)\n",
    "\n",
    "方程 ： con_prr_tj  = @coef(1)  + @coef(2) * yht_rn_tj / pcon_prd_tj * 100  + @coef(3) * con_prr_tj(-1)  + @coef(4) * d_con_prr_tj"
   ]
  },
  {
   "cell_type": "code",
   "execution_count": 69,
   "metadata": {
    "ExecuteTime": {
     "end_time": "2020-07-10T08:57:27.733267Z",
     "start_time": "2020-07-10T08:57:27.601751Z"
    }
   },
   "outputs": [
    {
     "data": {
      "text/html": [
       "<div>\n",
       "<style scoped>\n",
       "    .dataframe tbody tr th:only-of-type {\n",
       "        vertical-align: middle;\n",
       "    }\n",
       "\n",
       "    .dataframe tbody tr th {\n",
       "        vertical-align: top;\n",
       "    }\n",
       "\n",
       "    .dataframe thead th {\n",
       "        text-align: right;\n",
       "    }\n",
       "</style>\n",
       "<table border=\"1\" class=\"dataframe\">\n",
       "  <thead>\n",
       "    <tr style=\"text-align: right;\">\n",
       "      <th></th>\n",
       "      <th>con_prr_bj</th>\n",
       "      <th>yht_rn_bj</th>\n",
       "      <th>pcon_prd_bj</th>\n",
       "      <th>d_con_prr_tj</th>\n",
       "      <th>yht_pcon_100</th>\n",
       "      <th>con_prr_tj_s1</th>\n",
       "    </tr>\n",
       "  </thead>\n",
       "  <tbody>\n",
       "    <tr>\n",
       "      <th>2008</th>\n",
       "      <td>346.029075</td>\n",
       "      <td>268.777750</td>\n",
       "      <td>89.695232</td>\n",
       "      <td>0</td>\n",
       "      <td>299.656676</td>\n",
       "      <td>313.998622</td>\n",
       "    </tr>\n",
       "    <tr>\n",
       "      <th>2009</th>\n",
       "      <td>384.730111</td>\n",
       "      <td>305.178093</td>\n",
       "      <td>94.787089</td>\n",
       "      <td>0</td>\n",
       "      <td>321.961669</td>\n",
       "      <td>346.029075</td>\n",
       "    </tr>\n",
       "  </tbody>\n",
       "</table>\n",
       "</div>"
      ],
      "text/plain": [
       "      con_prr_bj   yht_rn_bj  pcon_prd_bj  d_con_prr_tj  yht_pcon_100  \\\n",
       "2008  346.029075  268.777750    89.695232             0    299.656676   \n",
       "2009  384.730111  305.178093    94.787089             0    321.961669   \n",
       "\n",
       "      con_prr_tj_s1  \n",
       "2008     313.998622  \n",
       "2009     346.029075  "
      ]
     },
     "execution_count": 69,
     "metadata": {},
     "output_type": "execute_result"
    }
   ],
   "source": [
    "test1 = df_ev[[\"con_prr_tj\" ,\"yht_rn_tj\" , \"pcon_prd_tj\",\"d_con_prr_tj\"]]\n",
    "test1[\"yht_pcon_100\"] = test1[\"yht_rn_tj\"]/test1[\"pcon_prd_tj\"]*100\n",
    "test1[\"con_prr_tj_s1\"] = test1[\"con_prr_tj\"].shift(1)\n",
    "test1 = test1[(test1.index>2007) & (test1.index <2019)]\n",
    "test1.head(2)"
   ]
  },
  {
   "cell_type": "code",
   "execution_count": 70,
   "metadata": {
    "ExecuteTime": {
     "end_time": "2020-07-10T08:57:29.183847Z",
     "start_time": "2020-07-10T08:57:29.158108Z"
    }
   },
   "outputs": [
    {
     "data": {
      "text/html": [
       "<table class=\"simpletable\">\n",
       "<caption>OLS Regression Results</caption>\n",
       "<tr>\n",
       "  <th>Dep. Variable:</th>       <td>con_prr_bj</td>    <th>  R-squared:         </th> <td>   0.985</td>\n",
       "</tr>\n",
       "<tr>\n",
       "  <th>Model:</th>                   <td>OLS</td>       <th>  Adj. R-squared:    </th> <td>   0.979</td>\n",
       "</tr>\n",
       "<tr>\n",
       "  <th>Method:</th>             <td>Least Squares</td>  <th>  F-statistic:       </th> <td>   157.9</td>\n",
       "</tr>\n",
       "<tr>\n",
       "  <th>Date:</th>             <td>Fri, 10 Jul 2020</td> <th>  Prob (F-statistic):</th> <td>8.63e-07</td>\n",
       "</tr>\n",
       "<tr>\n",
       "  <th>Time:</th>                 <td>08:57:29</td>     <th>  Log-Likelihood:    </th> <td> -47.665</td>\n",
       "</tr>\n",
       "<tr>\n",
       "  <th>No. Observations:</th>      <td>    11</td>      <th>  AIC:               </th> <td>   103.3</td>\n",
       "</tr>\n",
       "<tr>\n",
       "  <th>Df Residuals:</th>          <td>     7</td>      <th>  BIC:               </th> <td>   104.9</td>\n",
       "</tr>\n",
       "<tr>\n",
       "  <th>Df Model:</th>              <td>     3</td>      <th>                     </th>     <td> </td>   \n",
       "</tr>\n",
       "<tr>\n",
       "  <th>Covariance Type:</th>      <td>nonrobust</td>    <th>                     </th>     <td> </td>   \n",
       "</tr>\n",
       "</table>\n",
       "<table class=\"simpletable\">\n",
       "<tr>\n",
       "        <td></td>           <th>coef</th>     <th>std err</th>      <th>t</th>      <th>P>|t|</th>  <th>[0.025</th>    <th>0.975]</th>  \n",
       "</tr>\n",
       "<tr>\n",
       "  <th>Intercept</th>     <td>   29.0714</td> <td>   29.992</td> <td>    0.969</td> <td> 0.365</td> <td>  -41.848</td> <td>   99.991</td>\n",
       "</tr>\n",
       "<tr>\n",
       "  <th>yht_pcon_100</th>  <td>    0.3971</td> <td>    0.285</td> <td>    1.394</td> <td> 0.206</td> <td>   -0.277</td> <td>    1.071</td>\n",
       "</tr>\n",
       "<tr>\n",
       "  <th>con_prr_tj_s1</th> <td>    0.6406</td> <td>    0.303</td> <td>    2.114</td> <td> 0.072</td> <td>   -0.076</td> <td>    1.357</td>\n",
       "</tr>\n",
       "<tr>\n",
       "  <th>d_con_prr_tj</th>  <td>   63.7718</td> <td>   25.346</td> <td>    2.516</td> <td> 0.040</td> <td>    3.837</td> <td>  123.707</td>\n",
       "</tr>\n",
       "</table>\n",
       "<table class=\"simpletable\">\n",
       "<tr>\n",
       "  <th>Omnibus:</th>       <td> 2.736</td> <th>  Durbin-Watson:     </th> <td>   2.423</td>\n",
       "</tr>\n",
       "<tr>\n",
       "  <th>Prob(Omnibus):</th> <td> 0.255</td> <th>  Jarque-Bera (JB):  </th> <td>   0.411</td>\n",
       "</tr>\n",
       "<tr>\n",
       "  <th>Skew:</th>          <td>-0.073</td> <th>  Prob(JB):          </th> <td>   0.814</td>\n",
       "</tr>\n",
       "<tr>\n",
       "  <th>Kurtosis:</th>      <td> 3.936</td> <th>  Cond. No.          </th> <td>3.39e+03</td>\n",
       "</tr>\n",
       "</table><br/><br/>Warnings:<br/>[1] Standard Errors assume that the covariance matrix of the errors is correctly specified.<br/>[2] The condition number is large, 3.39e+03. This might indicate that there are<br/>strong multicollinearity or other numerical problems."
      ],
      "text/plain": [
       "<class 'statsmodels.iolib.summary.Summary'>\n",
       "\"\"\"\n",
       "                            OLS Regression Results                            \n",
       "==============================================================================\n",
       "Dep. Variable:             con_prr_bj   R-squared:                       0.985\n",
       "Model:                            OLS   Adj. R-squared:                  0.979\n",
       "Method:                 Least Squares   F-statistic:                     157.9\n",
       "Date:                Fri, 10 Jul 2020   Prob (F-statistic):           8.63e-07\n",
       "Time:                        08:57:29   Log-Likelihood:                -47.665\n",
       "No. Observations:                  11   AIC:                             103.3\n",
       "Df Residuals:                       7   BIC:                             104.9\n",
       "Df Model:                           3                                         \n",
       "Covariance Type:            nonrobust                                         \n",
       "=================================================================================\n",
       "                    coef    std err          t      P>|t|      [0.025      0.975]\n",
       "---------------------------------------------------------------------------------\n",
       "Intercept        29.0714     29.992      0.969      0.365     -41.848      99.991\n",
       "yht_pcon_100      0.3971      0.285      1.394      0.206      -0.277       1.071\n",
       "con_prr_tj_s1     0.6406      0.303      2.114      0.072      -0.076       1.357\n",
       "d_con_prr_tj     63.7718     25.346      2.516      0.040       3.837     123.707\n",
       "==============================================================================\n",
       "Omnibus:                        2.736   Durbin-Watson:                   2.423\n",
       "Prob(Omnibus):                  0.255   Jarque-Bera (JB):                0.411\n",
       "Skew:                          -0.073   Prob(JB):                        0.814\n",
       "Kurtosis:                       3.936   Cond. No.                     3.39e+03\n",
       "==============================================================================\n",
       "\n",
       "Warnings:\n",
       "[1] Standard Errors assume that the covariance matrix of the errors is correctly specified.\n",
       "[2] The condition number is large, 3.39e+03. This might indicate that there are\n",
       "strong multicollinearity or other numerical problems.\n",
       "\"\"\""
      ]
     },
     "execution_count": 70,
     "metadata": {},
     "output_type": "execute_result"
    }
   ],
   "source": [
    "results = sm.ols(formula = \"con_prr_tj ~ yht_pcon_100 + con_prr_tj_s1 + d_con_prr_tj\",data = test1 ).fit()\n",
    "results.summary()"
   ]
  },
  {
   "cell_type": "markdown",
   "metadata": {},
   "source": [
    "## Eq133 : investr_tj 行为方程\n",
    "investr_tj  = @coef(1)  + @coef(2) * investr_tj(-1)  + @coef(3) * d(loann_tj) / faipi_tj * 100  + @coef(4) * d_investr_tj\n"
   ]
  },
  {
   "cell_type": "code",
   "execution_count": 74,
   "metadata": {
    "ExecuteTime": {
     "end_time": "2020-07-10T09:06:39.208478Z",
     "start_time": "2020-07-10T09:06:38.975227Z"
    }
   },
   "outputs": [
    {
     "data": {
      "text/html": [
       "<div>\n",
       "<style scoped>\n",
       "    .dataframe tbody tr th:only-of-type {\n",
       "        vertical-align: middle;\n",
       "    }\n",
       "\n",
       "    .dataframe tbody tr th {\n",
       "        vertical-align: top;\n",
       "    }\n",
       "\n",
       "    .dataframe thead th {\n",
       "        text-align: right;\n",
       "    }\n",
       "</style>\n",
       "<table border=\"1\" class=\"dataframe\">\n",
       "  <thead>\n",
       "    <tr style=\"text-align: right;\">\n",
       "      <th></th>\n",
       "      <th>investr_tj</th>\n",
       "      <th>loann_tj</th>\n",
       "      <th>faipi_tj</th>\n",
       "      <th>d_investr_tj</th>\n",
       "      <th>investr_tj_s1</th>\n",
       "      <th>loann_tj_diff</th>\n",
       "      <th>loan_fai_100</th>\n",
       "    </tr>\n",
       "  </thead>\n",
       "  <tbody>\n",
       "    <tr>\n",
       "      <th>2006</th>\n",
       "      <td>2155.859512</td>\n",
       "      <td>5182.76</td>\n",
       "      <td>84.411808</td>\n",
       "      <td>0</td>\n",
       "      <td>1774.589218</td>\n",
       "      <td>NaN</td>\n",
       "      <td>NaN</td>\n",
       "    </tr>\n",
       "    <tr>\n",
       "      <th>2007</th>\n",
       "      <td>2720.257234</td>\n",
       "      <td>6241.07</td>\n",
       "      <td>86.606515</td>\n",
       "      <td>0</td>\n",
       "      <td>2155.859512</td>\n",
       "      <td>1058.31</td>\n",
       "      <td>1221.975039</td>\n",
       "    </tr>\n",
       "  </tbody>\n",
       "</table>\n",
       "</div>"
      ],
      "text/plain": [
       "       investr_tj  loann_tj   faipi_tj  d_investr_tj  investr_tj_s1  \\\n",
       "2006  2155.859512   5182.76  84.411808             0    1774.589218   \n",
       "2007  2720.257234   6241.07  86.606515             0    2155.859512   \n",
       "\n",
       "      loann_tj_diff  loan_fai_100  \n",
       "2006            NaN           NaN  \n",
       "2007        1058.31   1221.975039  "
      ]
     },
     "execution_count": 74,
     "metadata": {},
     "output_type": "execute_result"
    }
   ],
   "source": [
    "test1 = df_ev[[\"investr_tj\" ,\"loann_tj\" , \"faipi_tj\",\"d_investr_tj\"]]\n",
    "test1[\"investr_tj_s1\"] = test1[\"investr_tj\"].shift(1)\n",
    "test1[\"loann_tj_diff\"] = test1[\"loann_tj\"] - test1[\"loann_tj\"].shift(1) \n",
    "test1[\"loan_fai_100\"] = test1[\"loann_tj_diff\"]/test1[\"faipi_tj\"]*100\n",
    "test1 = test1[(test1.index>2005) & (test1.index <2019)]\n",
    "test1.head(2)"
   ]
  },
  {
   "cell_type": "code",
   "execution_count": 75,
   "metadata": {
    "ExecuteTime": {
     "end_time": "2020-07-10T09:06:40.601898Z",
     "start_time": "2020-07-10T09:06:40.576077Z"
    }
   },
   "outputs": [
    {
     "data": {
      "text/html": [
       "<table class=\"simpletable\">\n",
       "<caption>OLS Regression Results</caption>\n",
       "<tr>\n",
       "  <th>Dep. Variable:</th>       <td>investr_tj</td>    <th>  R-squared:         </th> <td>   0.996</td>\n",
       "</tr>\n",
       "<tr>\n",
       "  <th>Model:</th>                   <td>OLS</td>       <th>  Adj. R-squared:    </th> <td>   0.994</td>\n",
       "</tr>\n",
       "<tr>\n",
       "  <th>Method:</th>             <td>Least Squares</td>  <th>  F-statistic:       </th> <td>   574.8</td>\n",
       "</tr>\n",
       "<tr>\n",
       "  <th>Date:</th>             <td>Fri, 10 Jul 2020</td> <th>  Prob (F-statistic):</th> <td>9.77e-09</td>\n",
       "</tr>\n",
       "<tr>\n",
       "  <th>Time:</th>                 <td>09:06:40</td>     <th>  Log-Likelihood:    </th> <td> -74.313</td>\n",
       "</tr>\n",
       "<tr>\n",
       "  <th>No. Observations:</th>      <td>    11</td>      <th>  AIC:               </th> <td>   156.6</td>\n",
       "</tr>\n",
       "<tr>\n",
       "  <th>Df Residuals:</th>          <td>     7</td>      <th>  BIC:               </th> <td>   158.2</td>\n",
       "</tr>\n",
       "<tr>\n",
       "  <th>Df Model:</th>              <td>     3</td>      <th>                     </th>     <td> </td>   \n",
       "</tr>\n",
       "<tr>\n",
       "  <th>Covariance Type:</th>      <td>nonrobust</td>    <th>                     </th>     <td> </td>   \n",
       "</tr>\n",
       "</table>\n",
       "<table class=\"simpletable\">\n",
       "<tr>\n",
       "        <td></td>           <th>coef</th>     <th>std err</th>      <th>t</th>      <th>P>|t|</th>  <th>[0.025</th>    <th>0.975]</th>  \n",
       "</tr>\n",
       "<tr>\n",
       "  <th>Intercept</th>     <td>   80.3282</td> <td>  307.425</td> <td>    0.261</td> <td> 0.801</td> <td> -646.616</td> <td>  807.272</td>\n",
       "</tr>\n",
       "<tr>\n",
       "  <th>investr_tj_s1</th> <td>    1.0124</td> <td>    0.029</td> <td>   34.875</td> <td> 0.000</td> <td>    0.944</td> <td>    1.081</td>\n",
       "</tr>\n",
       "<tr>\n",
       "  <th>loan_fai_100</th>  <td>    0.4690</td> <td>    0.134</td> <td>    3.501</td> <td> 0.010</td> <td>    0.152</td> <td>    0.786</td>\n",
       "</tr>\n",
       "<tr>\n",
       "  <th>d_investr_tj</th>  <td> 1715.4235</td> <td>  160.237</td> <td>   10.706</td> <td> 0.000</td> <td> 1336.523</td> <td> 2094.324</td>\n",
       "</tr>\n",
       "</table>\n",
       "<table class=\"simpletable\">\n",
       "<tr>\n",
       "  <th>Omnibus:</th>       <td> 8.990</td> <th>  Durbin-Watson:     </th> <td>   2.516</td>\n",
       "</tr>\n",
       "<tr>\n",
       "  <th>Prob(Omnibus):</th> <td> 0.011</td> <th>  Jarque-Bera (JB):  </th> <td>   4.177</td>\n",
       "</tr>\n",
       "<tr>\n",
       "  <th>Skew:</th>          <td>-1.372</td> <th>  Prob(JB):          </th> <td>   0.124</td>\n",
       "</tr>\n",
       "<tr>\n",
       "  <th>Kurtosis:</th>      <td> 4.260</td> <th>  Cond. No.          </th> <td>3.45e+04</td>\n",
       "</tr>\n",
       "</table><br/><br/>Warnings:<br/>[1] Standard Errors assume that the covariance matrix of the errors is correctly specified.<br/>[2] The condition number is large, 3.45e+04. This might indicate that there are<br/>strong multicollinearity or other numerical problems."
      ],
      "text/plain": [
       "<class 'statsmodels.iolib.summary.Summary'>\n",
       "\"\"\"\n",
       "                            OLS Regression Results                            \n",
       "==============================================================================\n",
       "Dep. Variable:             investr_tj   R-squared:                       0.996\n",
       "Model:                            OLS   Adj. R-squared:                  0.994\n",
       "Method:                 Least Squares   F-statistic:                     574.8\n",
       "Date:                Fri, 10 Jul 2020   Prob (F-statistic):           9.77e-09\n",
       "Time:                        09:06:40   Log-Likelihood:                -74.313\n",
       "No. Observations:                  11   AIC:                             156.6\n",
       "Df Residuals:                       7   BIC:                             158.2\n",
       "Df Model:                           3                                         \n",
       "Covariance Type:            nonrobust                                         \n",
       "=================================================================================\n",
       "                    coef    std err          t      P>|t|      [0.025      0.975]\n",
       "---------------------------------------------------------------------------------\n",
       "Intercept        80.3282    307.425      0.261      0.801    -646.616     807.272\n",
       "investr_tj_s1     1.0124      0.029     34.875      0.000       0.944       1.081\n",
       "loan_fai_100      0.4690      0.134      3.501      0.010       0.152       0.786\n",
       "d_investr_tj   1715.4235    160.237     10.706      0.000    1336.523    2094.324\n",
       "==============================================================================\n",
       "Omnibus:                        8.990   Durbin-Watson:                   2.516\n",
       "Prob(Omnibus):                  0.011   Jarque-Bera (JB):                4.177\n",
       "Skew:                          -1.372   Prob(JB):                        0.124\n",
       "Kurtosis:                       4.260   Cond. No.                     3.45e+04\n",
       "==============================================================================\n",
       "\n",
       "Warnings:\n",
       "[1] Standard Errors assume that the covariance matrix of the errors is correctly specified.\n",
       "[2] The condition number is large, 3.45e+04. This might indicate that there are\n",
       "strong multicollinearity or other numerical problems.\n",
       "\"\"\""
      ]
     },
     "execution_count": 75,
     "metadata": {},
     "output_type": "execute_result"
    }
   ],
   "source": [
    "results = sm.ols(formula = \"investr_tj ~ investr_tj_s1 + loan_fai_100 + d_investr_tj\",data = test1 ).fit()\n",
    "results.summary()"
   ]
  },
  {
   "cell_type": "markdown",
   "metadata": {},
   "source": [
    "## Eq134 : inv_fir_tj 行为方程\n",
    "inv_fir_tj  = @coef(1)  + @coef(2) * investr_tj  + @coef(3) * inv_fir_tj(-1)"
   ]
  },
  {
   "cell_type": "code",
   "execution_count": 81,
   "metadata": {
    "ExecuteTime": {
     "end_time": "2020-07-10T09:09:31.954357Z",
     "start_time": "2020-07-10T09:09:31.895486Z"
    }
   },
   "outputs": [
    {
     "data": {
      "text/html": [
       "<div>\n",
       "<style scoped>\n",
       "    .dataframe tbody tr th:only-of-type {\n",
       "        vertical-align: middle;\n",
       "    }\n",
       "\n",
       "    .dataframe tbody tr th {\n",
       "        vertical-align: top;\n",
       "    }\n",
       "\n",
       "    .dataframe thead th {\n",
       "        text-align: right;\n",
       "    }\n",
       "</style>\n",
       "<table border=\"1\" class=\"dataframe\">\n",
       "  <thead>\n",
       "    <tr style=\"text-align: right;\">\n",
       "      <th></th>\n",
       "      <th>inv_fir_tj</th>\n",
       "      <th>investr_tj</th>\n",
       "      <th>inv_fir_tj_s1</th>\n",
       "    </tr>\n",
       "  </thead>\n",
       "  <tbody>\n",
       "    <tr>\n",
       "      <th>1997</th>\n",
       "      <td>627.647701</td>\n",
       "      <td>630.655332</td>\n",
       "      <td>547.868876</td>\n",
       "    </tr>\n",
       "    <tr>\n",
       "      <th>1998</th>\n",
       "      <td>730.016960</td>\n",
       "      <td>736.162705</td>\n",
       "      <td>627.647701</td>\n",
       "    </tr>\n",
       "  </tbody>\n",
       "</table>\n",
       "</div>"
      ],
      "text/plain": [
       "      inv_fir_tj  investr_tj  inv_fir_tj_s1\n",
       "1997  627.647701  630.655332     547.868876\n",
       "1998  730.016960  736.162705     627.647701"
      ]
     },
     "execution_count": 81,
     "metadata": {},
     "output_type": "execute_result"
    }
   ],
   "source": [
    "test1 = df_ev[[\"inv_fir_tj\" ,\"investr_tj\" ]]\n",
    "test1[\"inv_fir_tj_s1\"] = test1[\"inv_fir_tj\"].shift(1)\n",
    "test1 = test1[(test1.index>1996) & (test1.index <2018)]\n",
    "test1.head(2)"
   ]
  },
  {
   "cell_type": "code",
   "execution_count": 82,
   "metadata": {
    "ExecuteTime": {
     "end_time": "2020-07-10T09:09:33.242360Z",
     "start_time": "2020-07-10T09:09:33.219200Z"
    }
   },
   "outputs": [
    {
     "data": {
      "text/html": [
       "<table class=\"simpletable\">\n",
       "<caption>OLS Regression Results</caption>\n",
       "<tr>\n",
       "  <th>Dep. Variable:</th>       <td>inv_fir_tj</td>    <th>  R-squared:         </th> <td>   0.995</td>\n",
       "</tr>\n",
       "<tr>\n",
       "  <th>Model:</th>                   <td>OLS</td>       <th>  Adj. R-squared:    </th> <td>   0.995</td>\n",
       "</tr>\n",
       "<tr>\n",
       "  <th>Method:</th>             <td>Least Squares</td>  <th>  F-statistic:       </th> <td>   1836.</td>\n",
       "</tr>\n",
       "<tr>\n",
       "  <th>Date:</th>             <td>Fri, 10 Jul 2020</td> <th>  Prob (F-statistic):</th> <td>1.56e-21</td>\n",
       "</tr>\n",
       "<tr>\n",
       "  <th>Time:</th>                 <td>09:09:33</td>     <th>  Log-Likelihood:    </th> <td> -144.88</td>\n",
       "</tr>\n",
       "<tr>\n",
       "  <th>No. Observations:</th>      <td>    21</td>      <th>  AIC:               </th> <td>   295.8</td>\n",
       "</tr>\n",
       "<tr>\n",
       "  <th>Df Residuals:</th>          <td>    18</td>      <th>  BIC:               </th> <td>   298.9</td>\n",
       "</tr>\n",
       "<tr>\n",
       "  <th>Df Model:</th>              <td>     2</td>      <th>                     </th>     <td> </td>   \n",
       "</tr>\n",
       "<tr>\n",
       "  <th>Covariance Type:</th>      <td>nonrobust</td>    <th>                     </th>     <td> </td>   \n",
       "</tr>\n",
       "</table>\n",
       "<table class=\"simpletable\">\n",
       "<tr>\n",
       "        <td></td>           <th>coef</th>     <th>std err</th>      <th>t</th>      <th>P>|t|</th>  <th>[0.025</th>    <th>0.975]</th>  \n",
       "</tr>\n",
       "<tr>\n",
       "  <th>Intercept</th>     <td>  215.0497</td> <td>   86.032</td> <td>    2.500</td> <td> 0.022</td> <td>   34.304</td> <td>  395.795</td>\n",
       "</tr>\n",
       "<tr>\n",
       "  <th>investr_tj</th>    <td>    0.2544</td> <td>    0.068</td> <td>    3.729</td> <td> 0.002</td> <td>    0.111</td> <td>    0.398</td>\n",
       "</tr>\n",
       "<tr>\n",
       "  <th>inv_fir_tj_s1</th> <td>    0.7273</td> <td>    0.091</td> <td>    7.966</td> <td> 0.000</td> <td>    0.535</td> <td>    0.919</td>\n",
       "</tr>\n",
       "</table>\n",
       "<table class=\"simpletable\">\n",
       "<tr>\n",
       "  <th>Omnibus:</th>       <td> 6.244</td> <th>  Durbin-Watson:     </th> <td>   0.788</td>\n",
       "</tr>\n",
       "<tr>\n",
       "  <th>Prob(Omnibus):</th> <td> 0.044</td> <th>  Jarque-Bera (JB):  </th> <td>   3.882</td>\n",
       "</tr>\n",
       "<tr>\n",
       "  <th>Skew:</th>          <td> 0.932</td> <th>  Prob(JB):          </th> <td>   0.144</td>\n",
       "</tr>\n",
       "<tr>\n",
       "  <th>Kurtosis:</th>      <td> 3.983</td> <th>  Cond. No.          </th> <td>1.24e+04</td>\n",
       "</tr>\n",
       "</table><br/><br/>Warnings:<br/>[1] Standard Errors assume that the covariance matrix of the errors is correctly specified.<br/>[2] The condition number is large, 1.24e+04. This might indicate that there are<br/>strong multicollinearity or other numerical problems."
      ],
      "text/plain": [
       "<class 'statsmodels.iolib.summary.Summary'>\n",
       "\"\"\"\n",
       "                            OLS Regression Results                            \n",
       "==============================================================================\n",
       "Dep. Variable:             inv_fir_tj   R-squared:                       0.995\n",
       "Model:                            OLS   Adj. R-squared:                  0.995\n",
       "Method:                 Least Squares   F-statistic:                     1836.\n",
       "Date:                Fri, 10 Jul 2020   Prob (F-statistic):           1.56e-21\n",
       "Time:                        09:09:33   Log-Likelihood:                -144.88\n",
       "No. Observations:                  21   AIC:                             295.8\n",
       "Df Residuals:                      18   BIC:                             298.9\n",
       "Df Model:                           2                                         \n",
       "Covariance Type:            nonrobust                                         \n",
       "=================================================================================\n",
       "                    coef    std err          t      P>|t|      [0.025      0.975]\n",
       "---------------------------------------------------------------------------------\n",
       "Intercept       215.0497     86.032      2.500      0.022      34.304     395.795\n",
       "investr_tj        0.2544      0.068      3.729      0.002       0.111       0.398\n",
       "inv_fir_tj_s1     0.7273      0.091      7.966      0.000       0.535       0.919\n",
       "==============================================================================\n",
       "Omnibus:                        6.244   Durbin-Watson:                   0.788\n",
       "Prob(Omnibus):                  0.044   Jarque-Bera (JB):                3.882\n",
       "Skew:                           0.932   Prob(JB):                        0.144\n",
       "Kurtosis:                       3.983   Cond. No.                     1.24e+04\n",
       "==============================================================================\n",
       "\n",
       "Warnings:\n",
       "[1] Standard Errors assume that the covariance matrix of the errors is correctly specified.\n",
       "[2] The condition number is large, 1.24e+04. This might indicate that there are\n",
       "strong multicollinearity or other numerical problems.\n",
       "\"\"\""
      ]
     },
     "execution_count": 82,
     "metadata": {},
     "output_type": "execute_result"
    }
   ],
   "source": [
    "results = sm.ols(formula = \"inv_fir_tj ~ investr_tj + inv_fir_tj_s1\",data = test1 ).fit()\n",
    "results.summary()"
   ]
  },
  {
   "cell_type": "markdown",
   "metadata": {},
   "source": [
    "## Eq135 : nex_gsr_tj 行为方程\n",
    "nex_gsr_tj  = @coef(1)  + @coef(2) * gdpr_tj  + @coef(3) * nex_gsr_tj(-1)  + @coef(4) * d_nex_gsr_tj"
   ]
  },
  {
   "cell_type": "code",
   "execution_count": 87,
   "metadata": {
    "ExecuteTime": {
     "end_time": "2020-07-10T09:13:00.216410Z",
     "start_time": "2020-07-10T09:13:00.154942Z"
    }
   },
   "outputs": [
    {
     "data": {
      "text/html": [
       "<div>\n",
       "<style scoped>\n",
       "    .dataframe tbody tr th:only-of-type {\n",
       "        vertical-align: middle;\n",
       "    }\n",
       "\n",
       "    .dataframe tbody tr th {\n",
       "        vertical-align: top;\n",
       "    }\n",
       "\n",
       "    .dataframe thead th {\n",
       "        text-align: right;\n",
       "    }\n",
       "</style>\n",
       "<table border=\"1\" class=\"dataframe\">\n",
       "  <thead>\n",
       "    <tr style=\"text-align: right;\">\n",
       "      <th></th>\n",
       "      <th>nex_gsr_tj</th>\n",
       "      <th>gdpr_tj</th>\n",
       "      <th>d_nex_gsr_tj</th>\n",
       "      <th>nex_gsr_tj_sum</th>\n",
       "    </tr>\n",
       "  </thead>\n",
       "  <tbody>\n",
       "    <tr>\n",
       "      <th>1998</th>\n",
       "      <td>94.547979</td>\n",
       "      <td>1865.342166</td>\n",
       "      <td>0.0</td>\n",
       "      <td>183.084742</td>\n",
       "    </tr>\n",
       "    <tr>\n",
       "      <th>1999</th>\n",
       "      <td>139.352266</td>\n",
       "      <td>2051.845038</td>\n",
       "      <td>0.0</td>\n",
       "      <td>195.706870</td>\n",
       "    </tr>\n",
       "  </tbody>\n",
       "</table>\n",
       "</div>"
      ],
      "text/plain": [
       "      nex_gsr_tj      gdpr_tj  d_nex_gsr_tj  nex_gsr_tj_sum\n",
       "1998   94.547979  1865.342166           0.0      183.084742\n",
       "1999  139.352266  2051.845038           0.0      195.706870"
      ]
     },
     "execution_count": 87,
     "metadata": {},
     "output_type": "execute_result"
    }
   ],
   "source": [
    "test1 = df_ev[[\"nex_gsr_tj\",\"gdpr_tj\" ,\"d_nex_gsr_tj\" ]]\n",
    "test1[\"nex_gsr_tj_sum\"] = test1[\"nex_gsr_tj\"].shift(1) + test1[\"nex_gsr_tj\"].shift(2)\n",
    "test1 = test1[(test1.index>1997) & (test1.index <2018)]\n",
    "test1.head(2)"
   ]
  },
  {
   "cell_type": "code",
   "execution_count": 88,
   "metadata": {
    "ExecuteTime": {
     "end_time": "2020-07-10T09:13:01.412371Z",
     "start_time": "2020-07-10T09:13:01.385513Z"
    }
   },
   "outputs": [
    {
     "data": {
      "text/html": [
       "<table class=\"simpletable\">\n",
       "<caption>OLS Regression Results</caption>\n",
       "<tr>\n",
       "  <th>Dep. Variable:</th>       <td>nex_gsr_tj</td>    <th>  R-squared:         </th> <td>   0.985</td>\n",
       "</tr>\n",
       "<tr>\n",
       "  <th>Model:</th>                   <td>OLS</td>       <th>  Adj. R-squared:    </th> <td>   0.982</td>\n",
       "</tr>\n",
       "<tr>\n",
       "  <th>Method:</th>             <td>Least Squares</td>  <th>  F-statistic:       </th> <td>   351.6</td>\n",
       "</tr>\n",
       "<tr>\n",
       "  <th>Date:</th>             <td>Fri, 10 Jul 2020</td> <th>  Prob (F-statistic):</th> <td>8.25e-15</td>\n",
       "</tr>\n",
       "<tr>\n",
       "  <th>Time:</th>                 <td>09:13:01</td>     <th>  Log-Likelihood:    </th> <td> -111.12</td>\n",
       "</tr>\n",
       "<tr>\n",
       "  <th>No. Observations:</th>      <td>    20</td>      <th>  AIC:               </th> <td>   230.2</td>\n",
       "</tr>\n",
       "<tr>\n",
       "  <th>Df Residuals:</th>          <td>    16</td>      <th>  BIC:               </th> <td>   234.2</td>\n",
       "</tr>\n",
       "<tr>\n",
       "  <th>Df Model:</th>              <td>     3</td>      <th>                     </th>     <td> </td>   \n",
       "</tr>\n",
       "<tr>\n",
       "  <th>Covariance Type:</th>      <td>nonrobust</td>    <th>                     </th>     <td> </td>   \n",
       "</tr>\n",
       "</table>\n",
       "<table class=\"simpletable\">\n",
       "<tr>\n",
       "         <td></td>           <th>coef</th>     <th>std err</th>      <th>t</th>      <th>P>|t|</th>  <th>[0.025</th>    <th>0.975]</th>  \n",
       "</tr>\n",
       "<tr>\n",
       "  <th>Intercept</th>      <td>    8.0917</td> <td>   32.592</td> <td>    0.248</td> <td> 0.807</td> <td>  -61.001</td> <td>   77.184</td>\n",
       "</tr>\n",
       "<tr>\n",
       "  <th>gdpr_tj</th>        <td>    0.0136</td> <td>    0.004</td> <td>    3.396</td> <td> 0.004</td> <td>    0.005</td> <td>    0.022</td>\n",
       "</tr>\n",
       "<tr>\n",
       "  <th>nex_gsr_tj_sum</th> <td>    0.4746</td> <td>    0.023</td> <td>   20.687</td> <td> 0.000</td> <td>    0.426</td> <td>    0.523</td>\n",
       "</tr>\n",
       "<tr>\n",
       "  <th>d_nex_gsr_tj</th>   <td>  577.3317</td> <td>   28.592</td> <td>   20.192</td> <td> 0.000</td> <td>  516.719</td> <td>  637.944</td>\n",
       "</tr>\n",
       "</table>\n",
       "<table class=\"simpletable\">\n",
       "<tr>\n",
       "  <th>Omnibus:</th>       <td> 0.320</td> <th>  Durbin-Watson:     </th> <td>   2.707</td>\n",
       "</tr>\n",
       "<tr>\n",
       "  <th>Prob(Omnibus):</th> <td> 0.852</td> <th>  Jarque-Bera (JB):  </th> <td>   0.480</td>\n",
       "</tr>\n",
       "<tr>\n",
       "  <th>Skew:</th>          <td>-0.090</td> <th>  Prob(JB):          </th> <td>   0.787</td>\n",
       "</tr>\n",
       "<tr>\n",
       "  <th>Kurtosis:</th>      <td> 2.263</td> <th>  Cond. No.          </th> <td>2.16e+04</td>\n",
       "</tr>\n",
       "</table><br/><br/>Warnings:<br/>[1] Standard Errors assume that the covariance matrix of the errors is correctly specified.<br/>[2] The condition number is large, 2.16e+04. This might indicate that there are<br/>strong multicollinearity or other numerical problems."
      ],
      "text/plain": [
       "<class 'statsmodels.iolib.summary.Summary'>\n",
       "\"\"\"\n",
       "                            OLS Regression Results                            \n",
       "==============================================================================\n",
       "Dep. Variable:             nex_gsr_tj   R-squared:                       0.985\n",
       "Model:                            OLS   Adj. R-squared:                  0.982\n",
       "Method:                 Least Squares   F-statistic:                     351.6\n",
       "Date:                Fri, 10 Jul 2020   Prob (F-statistic):           8.25e-15\n",
       "Time:                        09:13:01   Log-Likelihood:                -111.12\n",
       "No. Observations:                  20   AIC:                             230.2\n",
       "Df Residuals:                      16   BIC:                             234.2\n",
       "Df Model:                           3                                         \n",
       "Covariance Type:            nonrobust                                         \n",
       "==================================================================================\n",
       "                     coef    std err          t      P>|t|      [0.025      0.975]\n",
       "----------------------------------------------------------------------------------\n",
       "Intercept          8.0917     32.592      0.248      0.807     -61.001      77.184\n",
       "gdpr_tj            0.0136      0.004      3.396      0.004       0.005       0.022\n",
       "nex_gsr_tj_sum     0.4746      0.023     20.687      0.000       0.426       0.523\n",
       "d_nex_gsr_tj     577.3317     28.592     20.192      0.000     516.719     637.944\n",
       "==============================================================================\n",
       "Omnibus:                        0.320   Durbin-Watson:                   2.707\n",
       "Prob(Omnibus):                  0.852   Jarque-Bera (JB):                0.480\n",
       "Skew:                          -0.090   Prob(JB):                        0.787\n",
       "Kurtosis:                       2.263   Cond. No.                     2.16e+04\n",
       "==============================================================================\n",
       "\n",
       "Warnings:\n",
       "[1] Standard Errors assume that the covariance matrix of the errors is correctly specified.\n",
       "[2] The condition number is large, 2.16e+04. This might indicate that there are\n",
       "strong multicollinearity or other numerical problems.\n",
       "\"\"\""
      ]
     },
     "execution_count": 88,
     "metadata": {},
     "output_type": "execute_result"
    }
   ],
   "source": [
    "results = sm.ols(formula = \"nex_gsr_tj ~ gdpr_tj + nex_gsr_tj_sum + d_nex_gsr_tj\",data = test1 ).fit()\n",
    "results.summary()"
   ]
  },
  {
   "cell_type": "markdown",
   "metadata": {},
   "source": [
    "## Eq136 : consn_tj 行为方程\n",
    "- consn_tj  = @coef(1)  + @coef(2) * (yht_n_tj - yht_n_tj(-1))  + @coef(3) * consn_tj(-1)  + @coef(4) * d_consn_tj\n",
    "\n",
    "- consn_tj  = @coef(1)  + @coef(2) * d(yht_n_tj)  + @coef(3) * consn_tj(-1)  + @coef(4) * d_consn_tj"
   ]
  },
  {
   "cell_type": "code",
   "execution_count": 89,
   "metadata": {
    "ExecuteTime": {
     "end_time": "2020-07-10T09:15:02.858169Z",
     "start_time": "2020-07-10T09:15:02.705611Z"
    }
   },
   "outputs": [
    {
     "data": {
      "text/html": [
       "<div>\n",
       "<style scoped>\n",
       "    .dataframe tbody tr th:only-of-type {\n",
       "        vertical-align: middle;\n",
       "    }\n",
       "\n",
       "    .dataframe tbody tr th {\n",
       "        vertical-align: top;\n",
       "    }\n",
       "\n",
       "    .dataframe thead th {\n",
       "        text-align: right;\n",
       "    }\n",
       "</style>\n",
       "<table border=\"1\" class=\"dataframe\">\n",
       "  <thead>\n",
       "    <tr style=\"text-align: right;\">\n",
       "      <th></th>\n",
       "      <th>consn_tj</th>\n",
       "      <th>yht_n_tj</th>\n",
       "      <th>d_consn_tj</th>\n",
       "      <th>yht_n_tj_s1</th>\n",
       "      <th>consn_tj_s1</th>\n",
       "      <th>n_s1_diff</th>\n",
       "    </tr>\n",
       "  </thead>\n",
       "  <tbody>\n",
       "    <tr>\n",
       "      <th>1996</th>\n",
       "      <td>NaN</td>\n",
       "      <td>NaN</td>\n",
       "      <td>0.0</td>\n",
       "      <td>NaN</td>\n",
       "      <td>NaN</td>\n",
       "      <td>NaN</td>\n",
       "    </tr>\n",
       "    <tr>\n",
       "      <th>1997</th>\n",
       "      <td>NaN</td>\n",
       "      <td>NaN</td>\n",
       "      <td>0.0</td>\n",
       "      <td>NaN</td>\n",
       "      <td>NaN</td>\n",
       "      <td>NaN</td>\n",
       "    </tr>\n",
       "  </tbody>\n",
       "</table>\n",
       "</div>"
      ],
      "text/plain": [
       "      consn_tj  yht_n_tj  d_consn_tj  yht_n_tj_s1  consn_tj_s1  n_s1_diff\n",
       "1996       NaN       NaN         0.0          NaN          NaN        NaN\n",
       "1997       NaN       NaN         0.0          NaN          NaN        NaN"
      ]
     },
     "execution_count": 89,
     "metadata": {},
     "output_type": "execute_result"
    }
   ],
   "source": [
    "test1 = df_ev[[\"consn_tj\" ,\"yht_n_tj\" , \"d_consn_tj\"]]\n",
    "test1[\"yht_n_tj_s1\"] = test1[\"yht_n_tj\"].shift(1)\n",
    "test1[\"consn_tj_s1\"] = test1[\"consn_tj\"].shift(1)\n",
    "test1[\"n_s1_diff\"] = test1[\"yht_n_tj\"] - test1[\"yht_n_tj_s1\"]\n",
    "test1.head(2)"
   ]
  },
  {
   "cell_type": "code",
   "execution_count": 90,
   "metadata": {
    "ExecuteTime": {
     "end_time": "2020-07-10T09:15:18.498617Z",
     "start_time": "2020-07-10T09:15:18.454856Z"
    }
   },
   "outputs": [
    {
     "data": {
      "text/html": [
       "<table class=\"simpletable\">\n",
       "<caption>OLS Regression Results</caption>\n",
       "<tr>\n",
       "  <th>Dep. Variable:</th>        <td>consn_tj</td>     <th>  R-squared:         </th> <td>   0.998</td>\n",
       "</tr>\n",
       "<tr>\n",
       "  <th>Model:</th>                   <td>OLS</td>       <th>  Adj. R-squared:    </th> <td>   0.997</td>\n",
       "</tr>\n",
       "<tr>\n",
       "  <th>Method:</th>             <td>Least Squares</td>  <th>  F-statistic:       </th> <td>   1416.</td>\n",
       "</tr>\n",
       "<tr>\n",
       "  <th>Date:</th>             <td>Fri, 10 Jul 2020</td> <th>  Prob (F-statistic):</th> <td>2.37e-12</td>\n",
       "</tr>\n",
       "<tr>\n",
       "  <th>Time:</th>                 <td>09:15:18</td>     <th>  Log-Likelihood:    </th> <td> -73.681</td>\n",
       "</tr>\n",
       "<tr>\n",
       "  <th>No. Observations:</th>      <td>    13</td>      <th>  AIC:               </th> <td>   155.4</td>\n",
       "</tr>\n",
       "<tr>\n",
       "  <th>Df Residuals:</th>          <td>     9</td>      <th>  BIC:               </th> <td>   157.6</td>\n",
       "</tr>\n",
       "<tr>\n",
       "  <th>Df Model:</th>              <td>     3</td>      <th>                     </th>     <td> </td>   \n",
       "</tr>\n",
       "<tr>\n",
       "  <th>Covariance Type:</th>      <td>nonrobust</td>    <th>                     </th>     <td> </td>   \n",
       "</tr>\n",
       "</table>\n",
       "<table class=\"simpletable\">\n",
       "<tr>\n",
       "       <td></td>          <th>coef</th>     <th>std err</th>      <th>t</th>      <th>P>|t|</th>  <th>[0.025</th>    <th>0.975]</th>  \n",
       "</tr>\n",
       "<tr>\n",
       "  <th>Intercept</th>   <td>   34.1068</td> <td>   98.338</td> <td>    0.347</td> <td> 0.737</td> <td> -188.348</td> <td>  256.562</td>\n",
       "</tr>\n",
       "<tr>\n",
       "  <th>n_s1_diff</th>   <td>    1.5906</td> <td>    0.393</td> <td>    4.047</td> <td> 0.003</td> <td>    0.701</td> <td>    2.480</td>\n",
       "</tr>\n",
       "<tr>\n",
       "  <th>consn_tj_s1</th> <td>    0.9143</td> <td>    0.029</td> <td>   32.062</td> <td> 0.000</td> <td>    0.850</td> <td>    0.979</td>\n",
       "</tr>\n",
       "<tr>\n",
       "  <th>d_consn_tj</th>  <td>  158.8848</td> <td>   41.970</td> <td>    3.786</td> <td> 0.004</td> <td>   63.943</td> <td>  253.827</td>\n",
       "</tr>\n",
       "</table>\n",
       "<table class=\"simpletable\">\n",
       "<tr>\n",
       "  <th>Omnibus:</th>       <td> 1.037</td> <th>  Durbin-Watson:     </th> <td>   2.102</td>\n",
       "</tr>\n",
       "<tr>\n",
       "  <th>Prob(Omnibus):</th> <td> 0.595</td> <th>  Jarque-Bera (JB):  </th> <td>   0.722</td>\n",
       "</tr>\n",
       "<tr>\n",
       "  <th>Skew:</th>          <td>-0.527</td> <th>  Prob(JB):          </th> <td>   0.697</td>\n",
       "</tr>\n",
       "<tr>\n",
       "  <th>Kurtosis:</th>      <td> 2.530</td> <th>  Cond. No.          </th> <td>1.61e+04</td>\n",
       "</tr>\n",
       "</table><br/><br/>Warnings:<br/>[1] Standard Errors assume that the covariance matrix of the errors is correctly specified.<br/>[2] The condition number is large, 1.61e+04. This might indicate that there are<br/>strong multicollinearity or other numerical problems."
      ],
      "text/plain": [
       "<class 'statsmodels.iolib.summary.Summary'>\n",
       "\"\"\"\n",
       "                            OLS Regression Results                            \n",
       "==============================================================================\n",
       "Dep. Variable:               consn_tj   R-squared:                       0.998\n",
       "Model:                            OLS   Adj. R-squared:                  0.997\n",
       "Method:                 Least Squares   F-statistic:                     1416.\n",
       "Date:                Fri, 10 Jul 2020   Prob (F-statistic):           2.37e-12\n",
       "Time:                        09:15:18   Log-Likelihood:                -73.681\n",
       "No. Observations:                  13   AIC:                             155.4\n",
       "Df Residuals:                       9   BIC:                             157.6\n",
       "Df Model:                           3                                         \n",
       "Covariance Type:            nonrobust                                         \n",
       "===============================================================================\n",
       "                  coef    std err          t      P>|t|      [0.025      0.975]\n",
       "-------------------------------------------------------------------------------\n",
       "Intercept      34.1068     98.338      0.347      0.737    -188.348     256.562\n",
       "n_s1_diff       1.5906      0.393      4.047      0.003       0.701       2.480\n",
       "consn_tj_s1     0.9143      0.029     32.062      0.000       0.850       0.979\n",
       "d_consn_tj    158.8848     41.970      3.786      0.004      63.943     253.827\n",
       "==============================================================================\n",
       "Omnibus:                        1.037   Durbin-Watson:                   2.102\n",
       "Prob(Omnibus):                  0.595   Jarque-Bera (JB):                0.722\n",
       "Skew:                          -0.527   Prob(JB):                        0.697\n",
       "Kurtosis:                       2.530   Cond. No.                     1.61e+04\n",
       "==============================================================================\n",
       "\n",
       "Warnings:\n",
       "[1] Standard Errors assume that the covariance matrix of the errors is correctly specified.\n",
       "[2] The condition number is large, 1.61e+04. This might indicate that there are\n",
       "strong multicollinearity or other numerical problems.\n",
       "\"\"\""
      ]
     },
     "execution_count": 90,
     "metadata": {},
     "output_type": "execute_result"
    }
   ],
   "source": [
    "results = sm.ols(formula = \"consn_tj ~ n_s1_diff +consn_tj_s1 + d_consn_tj\",data = test1 ).fit()\n",
    "results.summary()"
   ]
  },
  {
   "cell_type": "markdown",
   "metadata": {},
   "source": [
    "## Eq137: exusd_tj 行为方程\n",
    "exusd_tj  = @coef(1)  + @coef(2) * exusd_ch  + @coef(3) * exusd_tj(-1)  + @coef(4) * d_exusd_tj  + [ar(1) = @coef(5) , ar(2) = @coef(6) , estsmpl = \"1999 2018\"]\n"
   ]
  },
  {
   "cell_type": "code",
   "execution_count": 91,
   "metadata": {
    "ExecuteTime": {
     "end_time": "2020-07-10T09:19:47.233628Z",
     "start_time": "2020-07-10T09:19:47.127630Z"
    }
   },
   "outputs": [
    {
     "data": {
      "text/html": [
       "<div>\n",
       "<style scoped>\n",
       "    .dataframe tbody tr th:only-of-type {\n",
       "        vertical-align: middle;\n",
       "    }\n",
       "\n",
       "    .dataframe tbody tr th {\n",
       "        vertical-align: top;\n",
       "    }\n",
       "\n",
       "    .dataframe thead th {\n",
       "        text-align: right;\n",
       "    }\n",
       "</style>\n",
       "<table border=\"1\" class=\"dataframe\">\n",
       "  <thead>\n",
       "    <tr style=\"text-align: right;\">\n",
       "      <th></th>\n",
       "      <th>exusd_tj</th>\n",
       "      <th>exusd_ch</th>\n",
       "      <th>d_exusd_tj</th>\n",
       "      <th>exusd_tj_s1</th>\n",
       "      <th>exusd_tj_diff</th>\n",
       "    </tr>\n",
       "  </thead>\n",
       "  <tbody>\n",
       "    <tr>\n",
       "      <th>1999</th>\n",
       "      <td>63.3199</td>\n",
       "      <td>1949.31</td>\n",
       "      <td>0.0</td>\n",
       "      <td>54.9856</td>\n",
       "      <td>8.3343</td>\n",
       "    </tr>\n",
       "    <tr>\n",
       "      <th>2000</th>\n",
       "      <td>86.2906</td>\n",
       "      <td>2492.03</td>\n",
       "      <td>0.0</td>\n",
       "      <td>63.3199</td>\n",
       "      <td>22.9707</td>\n",
       "    </tr>\n",
       "  </tbody>\n",
       "</table>\n",
       "</div>"
      ],
      "text/plain": [
       "      exusd_tj  exusd_ch  d_exusd_tj  exusd_tj_s1  exusd_tj_diff\n",
       "1999   63.3199   1949.31         0.0      54.9856         8.3343\n",
       "2000   86.2906   2492.03         0.0      63.3199        22.9707"
      ]
     },
     "execution_count": 91,
     "metadata": {},
     "output_type": "execute_result"
    }
   ],
   "source": [
    "test1 = df_ev[[\"exusd_tj\" ,\"exusd_ch\" , \"d_exusd_tj\"]]\n",
    "test1[\"exusd_tj_s1\"] = test1[\"exusd_tj\"].shift(1) \n",
    "#test1[\"exusd_tj_diff\"] = test1[\"exusd_tj\"] - test1[\"exusd_tj\"].shift(1)\n",
    "test1 = test1[(test1.index>1998) & (test1.index <2019)]\n",
    "test1.head(2)"
   ]
  },
  {
   "cell_type": "code",
   "execution_count": 94,
   "metadata": {
    "ExecuteTime": {
     "end_time": "2020-07-10T09:21:32.243958Z",
     "start_time": "2020-07-10T09:21:32.122194Z"
    }
   },
   "outputs": [
    {
     "data": {
      "text/html": [
       "<table class=\"simpletable\">\n",
       "<caption>SARIMAX Results</caption>\n",
       "<tr>\n",
       "  <th>Dep. Variable:</th>       <td>exusd_tj</td>     <th>  No. Observations:  </th>    <td>20</td>   \n",
       "</tr>\n",
       "<tr>\n",
       "  <th>Model:</th>           <td>SARIMAX(2, 0, 0)</td> <th>  Log Likelihood     </th>  <td>190.692</td>\n",
       "</tr>\n",
       "<tr>\n",
       "  <th>Date:</th>            <td>Fri, 10 Jul 2020</td> <th>  AIC                </th> <td>-365.384</td>\n",
       "</tr>\n",
       "<tr>\n",
       "  <th>Time:</th>                <td>09:21:32</td>     <th>  BIC                </th> <td>-358.261</td>\n",
       "</tr>\n",
       "<tr>\n",
       "  <th>Sample:</th>                  <td>0</td>        <th>  HQIC               </th> <td>-364.401</td>\n",
       "</tr>\n",
       "<tr>\n",
       "  <th></th>                       <td> - 20</td>      <th>                     </th>     <td> </td>   \n",
       "</tr>\n",
       "<tr>\n",
       "  <th>Covariance Type:</th>        <td>opg</td>       <th>                     </th>     <td> </td>   \n",
       "</tr>\n",
       "</table>\n",
       "<table class=\"simpletable\">\n",
       "<tr>\n",
       "        <td></td>           <th>coef</th>     <th>std err</th>      <th>z</th>      <th>P>|z|</th>  <th>[0.025</th>    <th>0.975]</th>  \n",
       "</tr>\n",
       "<tr>\n",
       "  <th>intercept</th>     <td>-3.412e-14</td> <td> 1.46e-23</td> <td>-2.33e+09</td> <td> 0.000</td> <td>-3.41e-14</td> <td>-3.41e-14</td>\n",
       "</tr>\n",
       "<tr>\n",
       "  <th>exusd_ch</th>      <td> 1.214e-17</td> <td> 2.35e-19</td> <td>   51.637</td> <td> 0.000</td> <td> 1.17e-17</td> <td> 1.26e-17</td>\n",
       "</tr>\n",
       "<tr>\n",
       "  <th>exusd_tj_s1</th>   <td>    1.0000</td> <td> 6.98e-22</td> <td> 1.43e+21</td> <td> 0.000</td> <td>    1.000</td> <td>    1.000</td>\n",
       "</tr>\n",
       "<tr>\n",
       "  <th>exusd_tj_diff</th> <td>    1.0000</td> <td> 5.63e-21</td> <td> 1.78e+20</td> <td> 0.000</td> <td>    1.000</td> <td>    1.000</td>\n",
       "</tr>\n",
       "<tr>\n",
       "  <th>d_exusd_tj</th>    <td> 1.421e-14</td> <td> 2.68e-23</td> <td> 5.31e+08</td> <td> 0.000</td> <td> 1.42e-14</td> <td> 1.42e-14</td>\n",
       "</tr>\n",
       "<tr>\n",
       "  <th>ar.L1</th>         <td>    1.0778</td> <td> 5.99e-36</td> <td>  1.8e+35</td> <td> 0.000</td> <td>    1.078</td> <td>    1.078</td>\n",
       "</tr>\n",
       "<tr>\n",
       "  <th>ar.L2</th>         <td>   -0.1519</td> <td> 1.84e-36</td> <td>-8.27e+34</td> <td> 0.000</td> <td>   -0.152</td> <td>   -0.152</td>\n",
       "</tr>\n",
       "<tr>\n",
       "  <th>sigma2</th>        <td>     1e-10</td> <td> 4.67e-10</td> <td>    0.214</td> <td> 0.830</td> <td>-8.16e-10</td> <td> 1.02e-09</td>\n",
       "</tr>\n",
       "</table>\n",
       "<table class=\"simpletable\">\n",
       "<tr>\n",
       "  <th>Ljung-Box (Q):</th>          <td>14.60</td> <th>  Jarque-Bera (JB):  </th> <td>0.88</td> \n",
       "</tr>\n",
       "<tr>\n",
       "  <th>Prob(Q):</th>                <td>0.62</td>  <th>  Prob(JB):          </th> <td>0.65</td> \n",
       "</tr>\n",
       "<tr>\n",
       "  <th>Heteroskedasticity (H):</th> <td>1.45</td>  <th>  Skew:              </th> <td>-0.10</td>\n",
       "</tr>\n",
       "<tr>\n",
       "  <th>Prob(H) (two-sided):</th>    <td>0.66</td>  <th>  Kurtosis:          </th> <td>1.94</td> \n",
       "</tr>\n",
       "</table><br/><br/>Warnings:<br/>[1] Covariance matrix calculated using the outer product of gradients (complex-step).<br/>[2] Covariance matrix is singular or near-singular, with condition number    inf. Standard errors may be unstable."
      ],
      "text/plain": [
       "<class 'statsmodels.iolib.summary.Summary'>\n",
       "\"\"\"\n",
       "                               SARIMAX Results                                \n",
       "==============================================================================\n",
       "Dep. Variable:               exusd_tj   No. Observations:                   20\n",
       "Model:               SARIMAX(2, 0, 0)   Log Likelihood                 190.692\n",
       "Date:                Fri, 10 Jul 2020   AIC                           -365.384\n",
       "Time:                        09:21:32   BIC                           -358.261\n",
       "Sample:                             0   HQIC                          -364.401\n",
       "                                 - 20                                         \n",
       "Covariance Type:                  opg                                         \n",
       "=================================================================================\n",
       "                    coef    std err          z      P>|z|      [0.025      0.975]\n",
       "---------------------------------------------------------------------------------\n",
       "intercept     -3.412e-14   1.46e-23  -2.33e+09      0.000   -3.41e-14   -3.41e-14\n",
       "exusd_ch       1.214e-17   2.35e-19     51.637      0.000    1.17e-17    1.26e-17\n",
       "exusd_tj_s1       1.0000   6.98e-22   1.43e+21      0.000       1.000       1.000\n",
       "exusd_tj_diff     1.0000   5.63e-21   1.78e+20      0.000       1.000       1.000\n",
       "d_exusd_tj     1.421e-14   2.68e-23   5.31e+08      0.000    1.42e-14    1.42e-14\n",
       "ar.L1             1.0778   5.99e-36    1.8e+35      0.000       1.078       1.078\n",
       "ar.L2            -0.1519   1.84e-36  -8.27e+34      0.000      -0.152      -0.152\n",
       "sigma2             1e-10   4.67e-10      0.214      0.830   -8.16e-10    1.02e-09\n",
       "===================================================================================\n",
       "Ljung-Box (Q):                       14.60   Jarque-Bera (JB):                 0.88\n",
       "Prob(Q):                              0.62   Prob(JB):                         0.65\n",
       "Heteroskedasticity (H):               1.45   Skew:                            -0.10\n",
       "Prob(H) (two-sided):                  0.66   Kurtosis:                         1.94\n",
       "===================================================================================\n",
       "\n",
       "Warnings:\n",
       "[1] Covariance matrix calculated using the outer product of gradients (complex-step).\n",
       "[2] Covariance matrix is singular or near-singular, with condition number    inf. Standard errors may be unstable.\n",
       "\"\"\""
      ]
     },
     "execution_count": 94,
     "metadata": {},
     "output_type": "execute_result"
    }
   ],
   "source": [
    "ar = (1 ,1)\n",
    "ma = 0\n",
    "mod = SARIMAX(endog = test1[\"exusd_tj\"] , exog = test1[[\"exusd_ch\",\"exusd_tj_s1\" ,\"d_exusd_tj\"]],order =(ar,0,ma),enforce_invertibility= False , trend = 'c', enforce_stationarity = False)\n",
    "results = mod.fit()\n",
    "results.summary()"
   ]
  },
  {
   "cell_type": "markdown",
   "metadata": {},
   "source": [
    "## Eq138 : imusd_tj 行为方程 ok  结果有细微差异\n",
    "log(imusd_tj)  = @coef(1)  + @coef(2) * log(imusd_tj(-1))  + @coef(3) * log(exusd_tj)  + @coef(4) * d_imusd_tj"
   ]
  },
  {
   "cell_type": "code",
   "execution_count": 98,
   "metadata": {
    "ExecuteTime": {
     "end_time": "2020-07-10T09:24:33.930434Z",
     "start_time": "2020-07-10T09:24:33.856101Z"
    }
   },
   "outputs": [
    {
     "data": {
      "text/html": [
       "<div>\n",
       "<style scoped>\n",
       "    .dataframe tbody tr th:only-of-type {\n",
       "        vertical-align: middle;\n",
       "    }\n",
       "\n",
       "    .dataframe tbody tr th {\n",
       "        vertical-align: top;\n",
       "    }\n",
       "\n",
       "    .dataframe thead th {\n",
       "        text-align: right;\n",
       "    }\n",
       "</style>\n",
       "<table border=\"1\" class=\"dataframe\">\n",
       "  <thead>\n",
       "    <tr style=\"text-align: right;\">\n",
       "      <th></th>\n",
       "      <th>imusd_tj</th>\n",
       "      <th>exusd_tj</th>\n",
       "      <th>d_imusd_tj</th>\n",
       "      <th>imusd_tj_s1</th>\n",
       "    </tr>\n",
       "  </thead>\n",
       "  <tbody>\n",
       "    <tr>\n",
       "      <th>1996</th>\n",
       "      <td>353.212159</td>\n",
       "      <td>40.4913</td>\n",
       "      <td>0.0</td>\n",
       "      <td>NaN</td>\n",
       "    </tr>\n",
       "    <tr>\n",
       "      <th>1997</th>\n",
       "      <td>414.877963</td>\n",
       "      <td>50.1818</td>\n",
       "      <td>0.0</td>\n",
       "      <td>353.212159</td>\n",
       "    </tr>\n",
       "  </tbody>\n",
       "</table>\n",
       "</div>"
      ],
      "text/plain": [
       "        imusd_tj  exusd_tj  d_imusd_tj  imusd_tj_s1\n",
       "1996  353.212159   40.4913         0.0          NaN\n",
       "1997  414.877963   50.1818         0.0   353.212159"
      ]
     },
     "execution_count": 98,
     "metadata": {},
     "output_type": "execute_result"
    }
   ],
   "source": [
    "test1 = df_ev[[\"imusd_tj\" ,\"exusd_tj\" , \"d_imusd_tj\"]]\n",
    "test1[\"imusd_tj_s1\"] = test1[\"imusd_tj\"].shift(1)\n",
    "test1.head(2)"
   ]
  },
  {
   "cell_type": "code",
   "execution_count": 99,
   "metadata": {
    "ExecuteTime": {
     "end_time": "2020-07-10T09:24:35.427837Z",
     "start_time": "2020-07-10T09:24:35.399223Z"
    }
   },
   "outputs": [
    {
     "data": {
      "text/html": [
       "<table class=\"simpletable\">\n",
       "<caption>OLS Regression Results</caption>\n",
       "<tr>\n",
       "  <th>Dep. Variable:</th>    <td>np.log(imusd_tj)</td> <th>  R-squared:         </th> <td>   0.996</td>\n",
       "</tr>\n",
       "<tr>\n",
       "  <th>Model:</th>                   <td>OLS</td>       <th>  Adj. R-squared:    </th> <td>   0.996</td>\n",
       "</tr>\n",
       "<tr>\n",
       "  <th>Method:</th>             <td>Least Squares</td>  <th>  F-statistic:       </th> <td>   1754.</td>\n",
       "</tr>\n",
       "<tr>\n",
       "  <th>Date:</th>             <td>Fri, 10 Jul 2020</td> <th>  Prob (F-statistic):</th> <td>2.18e-23</td>\n",
       "</tr>\n",
       "<tr>\n",
       "  <th>Time:</th>                 <td>09:24:35</td>     <th>  Log-Likelihood:    </th> <td>  36.491</td>\n",
       "</tr>\n",
       "<tr>\n",
       "  <th>No. Observations:</th>      <td>    23</td>      <th>  AIC:               </th> <td>  -64.98</td>\n",
       "</tr>\n",
       "<tr>\n",
       "  <th>Df Residuals:</th>          <td>    19</td>      <th>  BIC:               </th> <td>  -60.44</td>\n",
       "</tr>\n",
       "<tr>\n",
       "  <th>Df Model:</th>              <td>     3</td>      <th>                     </th>     <td> </td>   \n",
       "</tr>\n",
       "<tr>\n",
       "  <th>Covariance Type:</th>      <td>nonrobust</td>    <th>                     </th>     <td> </td>   \n",
       "</tr>\n",
       "</table>\n",
       "<table class=\"simpletable\">\n",
       "<tr>\n",
       "           <td></td>              <th>coef</th>     <th>std err</th>      <th>t</th>      <th>P>|t|</th>  <th>[0.025</th>    <th>0.975]</th>  \n",
       "</tr>\n",
       "<tr>\n",
       "  <th>Intercept</th>           <td>    1.2849</td> <td>    0.127</td> <td>   10.147</td> <td> 0.000</td> <td>    1.020</td> <td>    1.550</td>\n",
       "</tr>\n",
       "<tr>\n",
       "  <th>np.log(imusd_tj_s1)</th> <td>    0.3504</td> <td>    0.069</td> <td>    5.103</td> <td> 0.000</td> <td>    0.207</td> <td>    0.494</td>\n",
       "</tr>\n",
       "<tr>\n",
       "  <th>np.log(exusd_tj)</th>    <td>    0.6791</td> <td>    0.078</td> <td>    8.740</td> <td> 0.000</td> <td>    0.516</td> <td>    0.842</td>\n",
       "</tr>\n",
       "<tr>\n",
       "  <th>d_imusd_tj</th>          <td>    0.1201</td> <td>    0.016</td> <td>    7.678</td> <td> 0.000</td> <td>    0.087</td> <td>    0.153</td>\n",
       "</tr>\n",
       "</table>\n",
       "<table class=\"simpletable\">\n",
       "<tr>\n",
       "  <th>Omnibus:</th>       <td> 1.372</td> <th>  Durbin-Watson:     </th> <td>   2.179</td>\n",
       "</tr>\n",
       "<tr>\n",
       "  <th>Prob(Omnibus):</th> <td> 0.504</td> <th>  Jarque-Bera (JB):  </th> <td>   1.126</td>\n",
       "</tr>\n",
       "<tr>\n",
       "  <th>Skew:</th>          <td>-0.508</td> <th>  Prob(JB):          </th> <td>   0.569</td>\n",
       "</tr>\n",
       "<tr>\n",
       "  <th>Kurtosis:</th>      <td> 2.624</td> <th>  Cond. No.          </th> <td>    126.</td>\n",
       "</tr>\n",
       "</table><br/><br/>Warnings:<br/>[1] Standard Errors assume that the covariance matrix of the errors is correctly specified."
      ],
      "text/plain": [
       "<class 'statsmodels.iolib.summary.Summary'>\n",
       "\"\"\"\n",
       "                            OLS Regression Results                            \n",
       "==============================================================================\n",
       "Dep. Variable:       np.log(imusd_tj)   R-squared:                       0.996\n",
       "Model:                            OLS   Adj. R-squared:                  0.996\n",
       "Method:                 Least Squares   F-statistic:                     1754.\n",
       "Date:                Fri, 10 Jul 2020   Prob (F-statistic):           2.18e-23\n",
       "Time:                        09:24:35   Log-Likelihood:                 36.491\n",
       "No. Observations:                  23   AIC:                            -64.98\n",
       "Df Residuals:                      19   BIC:                            -60.44\n",
       "Df Model:                           3                                         \n",
       "Covariance Type:            nonrobust                                         \n",
       "=======================================================================================\n",
       "                          coef    std err          t      P>|t|      [0.025      0.975]\n",
       "---------------------------------------------------------------------------------------\n",
       "Intercept               1.2849      0.127     10.147      0.000       1.020       1.550\n",
       "np.log(imusd_tj_s1)     0.3504      0.069      5.103      0.000       0.207       0.494\n",
       "np.log(exusd_tj)        0.6791      0.078      8.740      0.000       0.516       0.842\n",
       "d_imusd_tj              0.1201      0.016      7.678      0.000       0.087       0.153\n",
       "==============================================================================\n",
       "Omnibus:                        1.372   Durbin-Watson:                   2.179\n",
       "Prob(Omnibus):                  0.504   Jarque-Bera (JB):                1.126\n",
       "Skew:                          -0.508   Prob(JB):                        0.569\n",
       "Kurtosis:                       2.624   Cond. No.                         126.\n",
       "==============================================================================\n",
       "\n",
       "Warnings:\n",
       "[1] Standard Errors assume that the covariance matrix of the errors is correctly specified.\n",
       "\"\"\""
      ]
     },
     "execution_count": 99,
     "metadata": {},
     "output_type": "execute_result"
    }
   ],
   "source": [
    "results = sm.ols(formula = \"np.log(imusd_tj) ~ np.log(imusd_tj_s1) + np.log(exusd_tj) + d_imusd_tj\",data = test1 ).fit()\n",
    "results.summary()"
   ]
  },
  {
   "cell_type": "markdown",
   "metadata": {},
   "source": [
    "## Eq139  yht_n_tj  定义方程\n",
    "yht_n_tj  = yht_rn_tj  + yht_un_tj"
   ]
  },
  {
   "cell_type": "code",
   "execution_count": 105,
   "metadata": {
    "ExecuteTime": {
     "end_time": "2020-07-09T09:09:10.944088Z",
     "start_time": "2020-07-09T09:09:10.840597Z"
    }
   },
   "outputs": [
    {
     "data": {
      "text/html": [
       "<div>\n",
       "<style scoped>\n",
       "    .dataframe tbody tr th:only-of-type {\n",
       "        vertical-align: middle;\n",
       "    }\n",
       "\n",
       "    .dataframe tbody tr th {\n",
       "        vertical-align: top;\n",
       "    }\n",
       "\n",
       "    .dataframe thead th {\n",
       "        text-align: right;\n",
       "    }\n",
       "</style>\n",
       "<table border=\"1\" class=\"dataframe\">\n",
       "  <thead>\n",
       "    <tr style=\"text-align: right;\">\n",
       "      <th></th>\n",
       "      <th>yht_n_bj</th>\n",
       "      <th>yht_rn_bj</th>\n",
       "      <th>yht_un_bj</th>\n",
       "      <th>预测</th>\n",
       "    </tr>\n",
       "  </thead>\n",
       "  <tbody>\n",
       "    <tr>\n",
       "      <th>2017</th>\n",
       "      <td>12328.3000</td>\n",
       "      <td>711.2038</td>\n",
       "      <td>11617.0900</td>\n",
       "      <td>12328.2938</td>\n",
       "    </tr>\n",
       "    <tr>\n",
       "      <th>2018</th>\n",
       "      <td>13439.5858</td>\n",
       "      <td>770.3292</td>\n",
       "      <td>12669.2566</td>\n",
       "      <td>13439.5858</td>\n",
       "    </tr>\n",
       "    <tr>\n",
       "      <th>2019</th>\n",
       "      <td>NaN</td>\n",
       "      <td>NaN</td>\n",
       "      <td>NaN</td>\n",
       "      <td>NaN</td>\n",
       "    </tr>\n",
       "    <tr>\n",
       "      <th>2020</th>\n",
       "      <td>NaN</td>\n",
       "      <td>NaN</td>\n",
       "      <td>NaN</td>\n",
       "      <td>NaN</td>\n",
       "    </tr>\n",
       "  </tbody>\n",
       "</table>\n",
       "</div>"
      ],
      "text/plain": [
       "        yht_n_bj  yht_rn_bj   yht_un_bj          预测\n",
       "2017  12328.3000   711.2038  11617.0900  12328.2938\n",
       "2018  13439.5858   770.3292  12669.2566  13439.5858\n",
       "2019         NaN        NaN         NaN         NaN\n",
       "2020         NaN        NaN         NaN         NaN"
      ]
     },
     "execution_count": 105,
     "metadata": {},
     "output_type": "execute_result"
    }
   ],
   "source": [
    "test1 = df_ev[[\"yht_n_tj\" ,\"yht_rn_tj\",\"yht_un_tj\"]]\n",
    "test1[\"预测\"] = test1[\"yht_rn_tj\"] + test1[\"yht_un_tj\"]\n",
    "test1.tail(4)"
   ]
  },
  {
   "cell_type": "markdown",
   "metadata": {},
   "source": [
    "## Eq140 :yh_un_tj  定义方程\n",
    "yh_un_tj  = yht_un_tj  / popu_tj"
   ]
  },
  {
   "cell_type": "code",
   "execution_count": 100,
   "metadata": {
    "ExecuteTime": {
     "end_time": "2020-07-10T09:26:17.658227Z",
     "start_time": "2020-07-10T09:26:17.597432Z"
    }
   },
   "outputs": [
    {
     "data": {
      "text/html": [
       "<div>\n",
       "<style scoped>\n",
       "    .dataframe tbody tr th:only-of-type {\n",
       "        vertical-align: middle;\n",
       "    }\n",
       "\n",
       "    .dataframe tbody tr th {\n",
       "        vertical-align: top;\n",
       "    }\n",
       "\n",
       "    .dataframe thead th {\n",
       "        text-align: right;\n",
       "    }\n",
       "</style>\n",
       "<table border=\"1\" class=\"dataframe\">\n",
       "  <thead>\n",
       "    <tr style=\"text-align: right;\">\n",
       "      <th></th>\n",
       "      <th>yh_un_tj</th>\n",
       "      <th>yht_un_tj</th>\n",
       "      <th>popu_tj</th>\n",
       "      <th>预测</th>\n",
       "    </tr>\n",
       "  </thead>\n",
       "  <tbody>\n",
       "    <tr>\n",
       "      <th>2017</th>\n",
       "      <td>40277.539313</td>\n",
       "      <td>5186.355000</td>\n",
       "      <td>0.129111</td>\n",
       "      <td>40169.737668</td>\n",
       "    </tr>\n",
       "    <tr>\n",
       "      <th>2018</th>\n",
       "      <td>42976.252637</td>\n",
       "      <td>5573.203418</td>\n",
       "      <td>0.129681</td>\n",
       "      <td>42976.252637</td>\n",
       "    </tr>\n",
       "    <tr>\n",
       "      <th>2019</th>\n",
       "      <td>46119.000000</td>\n",
       "      <td>NaN</td>\n",
       "      <td>0.130382</td>\n",
       "      <td>NaN</td>\n",
       "    </tr>\n",
       "    <tr>\n",
       "      <th>2020</th>\n",
       "      <td>NaN</td>\n",
       "      <td>NaN</td>\n",
       "      <td>NaN</td>\n",
       "      <td>NaN</td>\n",
       "    </tr>\n",
       "  </tbody>\n",
       "</table>\n",
       "</div>"
      ],
      "text/plain": [
       "          yh_un_tj    yht_un_tj   popu_tj            预测\n",
       "2017  40277.539313  5186.355000  0.129111  40169.737668\n",
       "2018  42976.252637  5573.203418  0.129681  42976.252637\n",
       "2019  46119.000000          NaN  0.130382           NaN\n",
       "2020           NaN          NaN       NaN           NaN"
      ]
     },
     "execution_count": 100,
     "metadata": {},
     "output_type": "execute_result"
    }
   ],
   "source": [
    "test1 = df_ev[[\"yh_un_tj\" ,\"yht_un_tj\",\"popu_tj\"]]\n",
    "test1[\"预测\"] = (test1[\"yht_un_tj\"] / test1[\"popu_tj\"])\n",
    "test1.tail(4)"
   ]
  },
  {
   "cell_type": "markdown",
   "metadata": {},
   "source": [
    "## Eq141 : yh_rn_tj 定义方程\n",
    "yh_rn_tj  = yht_rn_tj  / popr_tj\n"
   ]
  },
  {
   "cell_type": "code",
   "execution_count": 101,
   "metadata": {
    "ExecuteTime": {
     "end_time": "2020-07-10T09:27:08.056470Z",
     "start_time": "2020-07-10T09:27:07.996885Z"
    }
   },
   "outputs": [
    {
     "data": {
      "text/html": [
       "<div>\n",
       "<style scoped>\n",
       "    .dataframe tbody tr th:only-of-type {\n",
       "        vertical-align: middle;\n",
       "    }\n",
       "\n",
       "    .dataframe tbody tr th {\n",
       "        vertical-align: top;\n",
       "    }\n",
       "\n",
       "    .dataframe thead th {\n",
       "        text-align: right;\n",
       "    }\n",
       "</style>\n",
       "<table border=\"1\" class=\"dataframe\">\n",
       "  <thead>\n",
       "    <tr style=\"text-align: right;\">\n",
       "      <th></th>\n",
       "      <th>yh_rn_tj</th>\n",
       "      <th>yht_rn_tj</th>\n",
       "      <th>popr_tj</th>\n",
       "      <th>预测</th>\n",
       "    </tr>\n",
       "  </thead>\n",
       "  <tbody>\n",
       "    <tr>\n",
       "      <th>2017</th>\n",
       "      <td>21753.675338</td>\n",
       "      <td>572.077600</td>\n",
       "      <td>0.026576</td>\n",
       "      <td>21526.098736</td>\n",
       "    </tr>\n",
       "    <tr>\n",
       "      <th>2018</th>\n",
       "      <td>23065.225282</td>\n",
       "      <td>606.131055</td>\n",
       "      <td>0.026279</td>\n",
       "      <td>23065.225282</td>\n",
       "    </tr>\n",
       "    <tr>\n",
       "      <th>2019</th>\n",
       "      <td>24804.000000</td>\n",
       "      <td>NaN</td>\n",
       "      <td>0.025801</td>\n",
       "      <td>NaN</td>\n",
       "    </tr>\n",
       "    <tr>\n",
       "      <th>2020</th>\n",
       "      <td>NaN</td>\n",
       "      <td>NaN</td>\n",
       "      <td>NaN</td>\n",
       "      <td>NaN</td>\n",
       "    </tr>\n",
       "  </tbody>\n",
       "</table>\n",
       "</div>"
      ],
      "text/plain": [
       "          yh_rn_tj   yht_rn_tj   popr_tj            预测\n",
       "2017  21753.675338  572.077600  0.026576  21526.098736\n",
       "2018  23065.225282  606.131055  0.026279  23065.225282\n",
       "2019  24804.000000         NaN  0.025801           NaN\n",
       "2020           NaN         NaN       NaN           NaN"
      ]
     },
     "execution_count": 101,
     "metadata": {},
     "output_type": "execute_result"
    }
   ],
   "source": [
    "test1 = df_ev[[\"yh_rn_tj\" ,\"yht_rn_tj\",\"popr_tj\"]]\n",
    "test1[\"预测\"] = (test1[\"yht_rn_tj\"] / test1[\"popr_tj\"])\n",
    "test1.tail(4)"
   ]
  },
  {
   "cell_type": "markdown",
   "metadata": {},
   "source": [
    "## Eq142 :  yhn_tj 定义方程\n",
    "yhn_tj  = yht_n_tj  / totpop_tj"
   ]
  },
  {
   "cell_type": "code",
   "execution_count": 102,
   "metadata": {
    "ExecuteTime": {
     "end_time": "2020-07-10T09:27:57.092029Z",
     "start_time": "2020-07-10T09:27:57.031312Z"
    }
   },
   "outputs": [
    {
     "data": {
      "text/html": [
       "<div>\n",
       "<style scoped>\n",
       "    .dataframe tbody tr th:only-of-type {\n",
       "        vertical-align: middle;\n",
       "    }\n",
       "\n",
       "    .dataframe tbody tr th {\n",
       "        vertical-align: top;\n",
       "    }\n",
       "\n",
       "    .dataframe thead th {\n",
       "        text-align: right;\n",
       "    }\n",
       "</style>\n",
       "<table border=\"1\" class=\"dataframe\">\n",
       "  <thead>\n",
       "    <tr style=\"text-align: right;\">\n",
       "      <th></th>\n",
       "      <th>yhn_tj</th>\n",
       "      <th>yht_n_tj</th>\n",
       "      <th>totpop_tj</th>\n",
       "      <th>预测</th>\n",
       "    </tr>\n",
       "  </thead>\n",
       "  <tbody>\n",
       "    <tr>\n",
       "      <th>2017</th>\n",
       "      <td>37022.0</td>\n",
       "      <td>5758.432000</td>\n",
       "      <td>0.155687</td>\n",
       "      <td>36987.237213</td>\n",
       "    </tr>\n",
       "    <tr>\n",
       "      <th>2018</th>\n",
       "      <td>39506.0</td>\n",
       "      <td>6179.334473</td>\n",
       "      <td>0.155960</td>\n",
       "      <td>39621.277721</td>\n",
       "    </tr>\n",
       "    <tr>\n",
       "      <th>2019</th>\n",
       "      <td>42404.0</td>\n",
       "      <td>NaN</td>\n",
       "      <td>0.156183</td>\n",
       "      <td>NaN</td>\n",
       "    </tr>\n",
       "    <tr>\n",
       "      <th>2020</th>\n",
       "      <td>NaN</td>\n",
       "      <td>NaN</td>\n",
       "      <td>NaN</td>\n",
       "      <td>NaN</td>\n",
       "    </tr>\n",
       "  </tbody>\n",
       "</table>\n",
       "</div>"
      ],
      "text/plain": [
       "       yhn_tj     yht_n_tj  totpop_tj            预测\n",
       "2017  37022.0  5758.432000   0.155687  36987.237213\n",
       "2018  39506.0  6179.334473   0.155960  39621.277721\n",
       "2019  42404.0          NaN   0.156183           NaN\n",
       "2020      NaN          NaN        NaN           NaN"
      ]
     },
     "execution_count": 102,
     "metadata": {},
     "output_type": "execute_result"
    }
   ],
   "source": [
    "test1 = df_ev[[\"yhn_tj\" ,\"yht_n_tj\",\"totpop_tj\"]]\n",
    "test1[\"预测\"] = (test1[\"yht_n_tj\"] / test1[\"totpop_tj\"])\n",
    "test1.tail(4)"
   ]
  },
  {
   "cell_type": "markdown",
   "metadata": {},
   "source": [
    "## Eq143 :  conet_un_tj 定义方程\n",
    "conet_un_tj  = cone_un_tj  * popu_tj"
   ]
  },
  {
   "cell_type": "code",
   "execution_count": 103,
   "metadata": {
    "ExecuteTime": {
     "end_time": "2020-07-10T09:28:39.190918Z",
     "start_time": "2020-07-10T09:28:39.130897Z"
    }
   },
   "outputs": [
    {
     "data": {
      "text/html": [
       "<div>\n",
       "<style scoped>\n",
       "    .dataframe tbody tr th:only-of-type {\n",
       "        vertical-align: middle;\n",
       "    }\n",
       "\n",
       "    .dataframe tbody tr th {\n",
       "        vertical-align: top;\n",
       "    }\n",
       "\n",
       "    .dataframe thead th {\n",
       "        text-align: right;\n",
       "    }\n",
       "</style>\n",
       "<table border=\"1\" class=\"dataframe\">\n",
       "  <thead>\n",
       "    <tr style=\"text-align: right;\">\n",
       "      <th></th>\n",
       "      <th>conet_un_tj</th>\n",
       "      <th>cone_un_tj</th>\n",
       "      <th>popu_tj</th>\n",
       "      <th>预测</th>\n",
       "    </tr>\n",
       "  </thead>\n",
       "  <tbody>\n",
       "    <tr>\n",
       "      <th>2017</th>\n",
       "      <td>3944.828000</td>\n",
       "      <td>30283.646587</td>\n",
       "      <td>0.129111</td>\n",
       "      <td>3909.951895</td>\n",
       "    </tr>\n",
       "    <tr>\n",
       "      <th>2018</th>\n",
       "      <td>4234.747316</td>\n",
       "      <td>32655.109968</td>\n",
       "      <td>0.129681</td>\n",
       "      <td>4234.747316</td>\n",
       "    </tr>\n",
       "    <tr>\n",
       "      <th>2019</th>\n",
       "      <td>NaN</td>\n",
       "      <td>NaN</td>\n",
       "      <td>0.130382</td>\n",
       "      <td>NaN</td>\n",
       "    </tr>\n",
       "    <tr>\n",
       "      <th>2020</th>\n",
       "      <td>NaN</td>\n",
       "      <td>NaN</td>\n",
       "      <td>NaN</td>\n",
       "      <td>NaN</td>\n",
       "    </tr>\n",
       "  </tbody>\n",
       "</table>\n",
       "</div>"
      ],
      "text/plain": [
       "      conet_un_tj    cone_un_tj   popu_tj           预测\n",
       "2017  3944.828000  30283.646587  0.129111  3909.951895\n",
       "2018  4234.747316  32655.109968  0.129681  4234.747316\n",
       "2019          NaN           NaN  0.130382          NaN\n",
       "2020          NaN           NaN       NaN          NaN"
      ]
     },
     "execution_count": 103,
     "metadata": {},
     "output_type": "execute_result"
    }
   ],
   "source": [
    "test1 = df_ev[[\"conet_un_tj\" ,\"cone_un_tj\",\"popu_tj\"]]\n",
    "test1[\"预测\"] = test1[\"cone_un_tj\"] * test1[\"popu_tj\"]\n",
    "test1.tail(4)"
   ]
  },
  {
   "cell_type": "markdown",
   "metadata": {},
   "source": [
    "## Eq144   定义方程\n",
    "conet_rn_tj  = cone_rn_tj  * popr_tj"
   ]
  },
  {
   "cell_type": "code",
   "execution_count": 104,
   "metadata": {
    "ExecuteTime": {
     "end_time": "2020-07-10T09:29:15.645481Z",
     "start_time": "2020-07-10T09:29:15.583746Z"
    }
   },
   "outputs": [
    {
     "data": {
      "text/html": [
       "<div>\n",
       "<style scoped>\n",
       "    .dataframe tbody tr th:only-of-type {\n",
       "        vertical-align: middle;\n",
       "    }\n",
       "\n",
       "    .dataframe tbody tr th {\n",
       "        vertical-align: top;\n",
       "    }\n",
       "\n",
       "    .dataframe thead th {\n",
       "        text-align: right;\n",
       "    }\n",
       "</style>\n",
       "<table border=\"1\" class=\"dataframe\">\n",
       "  <thead>\n",
       "    <tr style=\"text-align: right;\">\n",
       "      <th></th>\n",
       "      <th>conet_rn_tj</th>\n",
       "      <th>cone_rn_tj</th>\n",
       "      <th>popr_tj</th>\n",
       "      <th>预测</th>\n",
       "    </tr>\n",
       "  </thead>\n",
       "  <tbody>\n",
       "    <tr>\n",
       "      <th>2017</th>\n",
       "      <td>417.188300</td>\n",
       "      <td>16385.884207</td>\n",
       "      <td>0.026576</td>\n",
       "      <td>435.471259</td>\n",
       "    </tr>\n",
       "    <tr>\n",
       "      <th>2018</th>\n",
       "      <td>443.151411</td>\n",
       "      <td>16863.328539</td>\n",
       "      <td>0.026279</td>\n",
       "      <td>443.151411</td>\n",
       "    </tr>\n",
       "    <tr>\n",
       "      <th>2019</th>\n",
       "      <td>NaN</td>\n",
       "      <td>NaN</td>\n",
       "      <td>0.025801</td>\n",
       "      <td>NaN</td>\n",
       "    </tr>\n",
       "    <tr>\n",
       "      <th>2020</th>\n",
       "      <td>NaN</td>\n",
       "      <td>NaN</td>\n",
       "      <td>NaN</td>\n",
       "      <td>NaN</td>\n",
       "    </tr>\n",
       "  </tbody>\n",
       "</table>\n",
       "</div>"
      ],
      "text/plain": [
       "      conet_rn_tj    cone_rn_tj   popr_tj          预测\n",
       "2017   417.188300  16385.884207  0.026576  435.471259\n",
       "2018   443.151411  16863.328539  0.026279  443.151411\n",
       "2019          NaN           NaN  0.025801         NaN\n",
       "2020          NaN           NaN       NaN         NaN"
      ]
     },
     "execution_count": 104,
     "metadata": {},
     "output_type": "execute_result"
    }
   ],
   "source": [
    "test1 = df_ev[[\"conet_rn_tj\" ,\"cone_rn_tj\",\"popr_tj\"]]\n",
    "test1[\"预测\"] = test1[\"cone_rn_tj\"] * test1[\"popr_tj\"]\n",
    "test1.tail(4)"
   ]
  },
  {
   "cell_type": "markdown",
   "metadata": {},
   "source": [
    "## Eq145 : yht_un_tj 行为方程  ok\n",
    "yht_un_tj  = @coef(1)  + @coef(2) * (gdp2n_tj + gdp3n_tj - taxn_tj)  + @coef(3) * yht_un_tj(-1)\n"
   ]
  },
  {
   "cell_type": "code",
   "execution_count": 105,
   "metadata": {
    "ExecuteTime": {
     "end_time": "2020-07-10T09:30:25.075436Z",
     "start_time": "2020-07-10T09:30:24.939272Z"
    }
   },
   "outputs": [
    {
     "data": {
      "text/html": [
       "<div>\n",
       "<style scoped>\n",
       "    .dataframe tbody tr th:only-of-type {\n",
       "        vertical-align: middle;\n",
       "    }\n",
       "\n",
       "    .dataframe tbody tr th {\n",
       "        vertical-align: top;\n",
       "    }\n",
       "\n",
       "    .dataframe thead th {\n",
       "        text-align: right;\n",
       "    }\n",
       "</style>\n",
       "<table border=\"1\" class=\"dataframe\">\n",
       "  <thead>\n",
       "    <tr style=\"text-align: right;\">\n",
       "      <th></th>\n",
       "      <th>yht_un_tj</th>\n",
       "      <th>gdp2n_tj</th>\n",
       "      <th>gdp3n_tj</th>\n",
       "      <th>taxn_tj</th>\n",
       "      <th>yht_un_tj_s1</th>\n",
       "      <th>gdp2gdp3tax</th>\n",
       "    </tr>\n",
       "  </thead>\n",
       "  <tbody>\n",
       "    <tr>\n",
       "      <th>1996</th>\n",
       "      <td>NaN</td>\n",
       "      <td>609.10</td>\n",
       "      <td>445.16</td>\n",
       "      <td>NaN</td>\n",
       "      <td>NaN</td>\n",
       "      <td>NaN</td>\n",
       "    </tr>\n",
       "    <tr>\n",
       "      <th>1997</th>\n",
       "      <td>NaN</td>\n",
       "      <td>676.01</td>\n",
       "      <td>519.10</td>\n",
       "      <td>NaN</td>\n",
       "      <td>NaN</td>\n",
       "      <td>NaN</td>\n",
       "    </tr>\n",
       "  </tbody>\n",
       "</table>\n",
       "</div>"
      ],
      "text/plain": [
       "      yht_un_tj  gdp2n_tj  gdp3n_tj  taxn_tj  yht_un_tj_s1  gdp2gdp3tax\n",
       "1996        NaN    609.10    445.16      NaN           NaN          NaN\n",
       "1997        NaN    676.01    519.10      NaN           NaN          NaN"
      ]
     },
     "execution_count": 105,
     "metadata": {},
     "output_type": "execute_result"
    }
   ],
   "source": [
    "test1 = df_ev[[\"yht_un_tj\",\"gdp2n_tj\",\"gdp3n_tj\",\"taxn_tj\"]]\n",
    "test1[\"yht_un_tj_s1\"] = test1[\"yht_un_tj\"].shift(1)\n",
    "test1[\"gdp2gdp3tax\"] = test1[\"gdp2n_tj\"] + test1[\"gdp3n_tj\"] - test1[\"taxn_tj\"]\n",
    "test1.head(2)"
   ]
  },
  {
   "cell_type": "code",
   "execution_count": 106,
   "metadata": {
    "ExecuteTime": {
     "end_time": "2020-07-10T09:30:26.077942Z",
     "start_time": "2020-07-10T09:30:26.030631Z"
    }
   },
   "outputs": [
    {
     "data": {
      "text/html": [
       "<table class=\"simpletable\">\n",
       "<caption>OLS Regression Results</caption>\n",
       "<tr>\n",
       "  <th>Dep. Variable:</th>        <td>yht_un_tj</td>    <th>  R-squared:         </th> <td>   1.000</td> \n",
       "</tr>\n",
       "<tr>\n",
       "  <th>Model:</th>                   <td>OLS</td>       <th>  Adj. R-squared:    </th> <td>   0.999</td> \n",
       "</tr>\n",
       "<tr>\n",
       "  <th>Method:</th>             <td>Least Squares</td>  <th>  F-statistic:       </th> <td>1.169e+04</td>\n",
       "</tr>\n",
       "<tr>\n",
       "  <th>Date:</th>             <td>Fri, 10 Jul 2020</td> <th>  Prob (F-statistic):</th> <td>1.43e-17</td> \n",
       "</tr>\n",
       "<tr>\n",
       "  <th>Time:</th>                 <td>09:30:26</td>     <th>  Log-Likelihood:    </th> <td> -62.779</td> \n",
       "</tr>\n",
       "<tr>\n",
       "  <th>No. Observations:</th>      <td>    13</td>      <th>  AIC:               </th> <td>   131.6</td> \n",
       "</tr>\n",
       "<tr>\n",
       "  <th>Df Residuals:</th>          <td>    10</td>      <th>  BIC:               </th> <td>   133.3</td> \n",
       "</tr>\n",
       "<tr>\n",
       "  <th>Df Model:</th>              <td>     2</td>      <th>                     </th>     <td> </td>    \n",
       "</tr>\n",
       "<tr>\n",
       "  <th>Covariance Type:</th>      <td>nonrobust</td>    <th>                     </th>     <td> </td>    \n",
       "</tr>\n",
       "</table>\n",
       "<table class=\"simpletable\">\n",
       "<tr>\n",
       "        <td></td>          <th>coef</th>     <th>std err</th>      <th>t</th>      <th>P>|t|</th>  <th>[0.025</th>    <th>0.975]</th>  \n",
       "</tr>\n",
       "<tr>\n",
       "  <th>Intercept</th>    <td>   75.4956</td> <td>   32.575</td> <td>    2.318</td> <td> 0.043</td> <td>    2.914</td> <td>  148.077</td>\n",
       "</tr>\n",
       "<tr>\n",
       "  <th>gdp2gdp3tax</th>  <td>    0.0659</td> <td>    0.011</td> <td>    6.223</td> <td> 0.000</td> <td>    0.042</td> <td>    0.089</td>\n",
       "</tr>\n",
       "<tr>\n",
       "  <th>yht_un_tj_s1</th> <td>    0.8389</td> <td>    0.034</td> <td>   24.670</td> <td> 0.000</td> <td>    0.763</td> <td>    0.915</td>\n",
       "</tr>\n",
       "</table>\n",
       "<table class=\"simpletable\">\n",
       "<tr>\n",
       "  <th>Omnibus:</th>       <td> 3.409</td> <th>  Durbin-Watson:     </th> <td>   2.473</td>\n",
       "</tr>\n",
       "<tr>\n",
       "  <th>Prob(Omnibus):</th> <td> 0.182</td> <th>  Jarque-Bera (JB):  </th> <td>   1.986</td>\n",
       "</tr>\n",
       "<tr>\n",
       "  <th>Skew:</th>          <td> 0.954</td> <th>  Prob(JB):          </th> <td>   0.370</td>\n",
       "</tr>\n",
       "<tr>\n",
       "  <th>Kurtosis:</th>      <td> 2.842</td> <th>  Cond. No.          </th> <td>4.22e+04</td>\n",
       "</tr>\n",
       "</table><br/><br/>Warnings:<br/>[1] Standard Errors assume that the covariance matrix of the errors is correctly specified.<br/>[2] The condition number is large, 4.22e+04. This might indicate that there are<br/>strong multicollinearity or other numerical problems."
      ],
      "text/plain": [
       "<class 'statsmodels.iolib.summary.Summary'>\n",
       "\"\"\"\n",
       "                            OLS Regression Results                            \n",
       "==============================================================================\n",
       "Dep. Variable:              yht_un_tj   R-squared:                       1.000\n",
       "Model:                            OLS   Adj. R-squared:                  0.999\n",
       "Method:                 Least Squares   F-statistic:                 1.169e+04\n",
       "Date:                Fri, 10 Jul 2020   Prob (F-statistic):           1.43e-17\n",
       "Time:                        09:30:26   Log-Likelihood:                -62.779\n",
       "No. Observations:                  13   AIC:                             131.6\n",
       "Df Residuals:                      10   BIC:                             133.3\n",
       "Df Model:                           2                                         \n",
       "Covariance Type:            nonrobust                                         \n",
       "================================================================================\n",
       "                   coef    std err          t      P>|t|      [0.025      0.975]\n",
       "--------------------------------------------------------------------------------\n",
       "Intercept       75.4956     32.575      2.318      0.043       2.914     148.077\n",
       "gdp2gdp3tax      0.0659      0.011      6.223      0.000       0.042       0.089\n",
       "yht_un_tj_s1     0.8389      0.034     24.670      0.000       0.763       0.915\n",
       "==============================================================================\n",
       "Omnibus:                        3.409   Durbin-Watson:                   2.473\n",
       "Prob(Omnibus):                  0.182   Jarque-Bera (JB):                1.986\n",
       "Skew:                           0.954   Prob(JB):                        0.370\n",
       "Kurtosis:                       2.842   Cond. No.                     4.22e+04\n",
       "==============================================================================\n",
       "\n",
       "Warnings:\n",
       "[1] Standard Errors assume that the covariance matrix of the errors is correctly specified.\n",
       "[2] The condition number is large, 4.22e+04. This might indicate that there are\n",
       "strong multicollinearity or other numerical problems.\n",
       "\"\"\""
      ]
     },
     "execution_count": 106,
     "metadata": {},
     "output_type": "execute_result"
    }
   ],
   "source": [
    "results = sm.ols(formula = \"yht_un_tj ~ gdp2gdp3tax + yht_un_tj_s1\",data = test1 ).fit()\n",
    "results.summary()"
   ]
  },
  {
   "cell_type": "markdown",
   "metadata": {},
   "source": [
    "## Eq146 : yht_rn_bj 行为方程\n",
    "yht_rn_tj  = @coef(1)  + @coef(2) * (gdp1n_tj + gdp3n_tj)  + @coef(3) * yht_rn_tj(-1)"
   ]
  },
  {
   "cell_type": "code",
   "execution_count": 108,
   "metadata": {
    "ExecuteTime": {
     "end_time": "2020-07-10T09:43:40.673642Z",
     "start_time": "2020-07-10T09:43:40.501291Z"
    }
   },
   "outputs": [
    {
     "data": {
      "text/html": [
       "<div>\n",
       "<style scoped>\n",
       "    .dataframe tbody tr th:only-of-type {\n",
       "        vertical-align: middle;\n",
       "    }\n",
       "\n",
       "    .dataframe tbody tr th {\n",
       "        vertical-align: top;\n",
       "    }\n",
       "\n",
       "    .dataframe thead th {\n",
       "        text-align: right;\n",
       "    }\n",
       "</style>\n",
       "<table border=\"1\" class=\"dataframe\">\n",
       "  <thead>\n",
       "    <tr style=\"text-align: right;\">\n",
       "      <th></th>\n",
       "      <th>yht_rn_tj</th>\n",
       "      <th>gdp1n_tj</th>\n",
       "      <th>gdp3n_tj</th>\n",
       "      <th>gdpn_tj_13sum</th>\n",
       "      <th>yht_rn_tj_s1</th>\n",
       "    </tr>\n",
       "  </thead>\n",
       "  <tbody>\n",
       "    <tr>\n",
       "      <th>1996</th>\n",
       "      <td>NaN</td>\n",
       "      <td>67.67</td>\n",
       "      <td>445.16</td>\n",
       "      <td>512.83</td>\n",
       "      <td>NaN</td>\n",
       "    </tr>\n",
       "    <tr>\n",
       "      <th>1997</th>\n",
       "      <td>NaN</td>\n",
       "      <td>69.52</td>\n",
       "      <td>519.10</td>\n",
       "      <td>588.62</td>\n",
       "      <td>NaN</td>\n",
       "    </tr>\n",
       "  </tbody>\n",
       "</table>\n",
       "</div>"
      ],
      "text/plain": [
       "      yht_rn_tj  gdp1n_tj  gdp3n_tj  gdpn_tj_13sum  yht_rn_tj_s1\n",
       "1996        NaN     67.67    445.16         512.83           NaN\n",
       "1997        NaN     69.52    519.10         588.62           NaN"
      ]
     },
     "execution_count": 108,
     "metadata": {},
     "output_type": "execute_result"
    }
   ],
   "source": [
    "test1 = df_ev[[\"yht_rn_tj\",\"gdp1n_tj\",\"gdp3n_tj\"]]\n",
    "test1[\"gdpn_tj_13sum\"] = test1[\"gdp1n_tj\"] + test1[\"gdp3n_tj\"]\n",
    "test1[\"yht_rn_tj_s1\"] = test1[\"yht_rn_tj\"].shift(1)\n",
    "test1.head(2)"
   ]
  },
  {
   "cell_type": "code",
   "execution_count": 109,
   "metadata": {
    "ExecuteTime": {
     "end_time": "2020-07-10T09:43:41.870700Z",
     "start_time": "2020-07-10T09:43:41.819084Z"
    }
   },
   "outputs": [
    {
     "data": {
      "text/html": [
       "<table class=\"simpletable\">\n",
       "<caption>OLS Regression Results</caption>\n",
       "<tr>\n",
       "  <th>Dep. Variable:</th>        <td>yht_rn_tj</td>    <th>  R-squared:         </th> <td>   0.998</td>\n",
       "</tr>\n",
       "<tr>\n",
       "  <th>Model:</th>                   <td>OLS</td>       <th>  Adj. R-squared:    </th> <td>   0.998</td>\n",
       "</tr>\n",
       "<tr>\n",
       "  <th>Method:</th>             <td>Least Squares</td>  <th>  F-statistic:       </th> <td>   2475.</td>\n",
       "</tr>\n",
       "<tr>\n",
       "  <th>Date:</th>             <td>Fri, 10 Jul 2020</td> <th>  Prob (F-statistic):</th> <td>3.33e-14</td>\n",
       "</tr>\n",
       "<tr>\n",
       "  <th>Time:</th>                 <td>09:43:41</td>     <th>  Log-Likelihood:    </th> <td> -43.205</td>\n",
       "</tr>\n",
       "<tr>\n",
       "  <th>No. Observations:</th>      <td>    13</td>      <th>  AIC:               </th> <td>   92.41</td>\n",
       "</tr>\n",
       "<tr>\n",
       "  <th>Df Residuals:</th>          <td>    10</td>      <th>  BIC:               </th> <td>   94.10</td>\n",
       "</tr>\n",
       "<tr>\n",
       "  <th>Df Model:</th>              <td>     2</td>      <th>                     </th>     <td> </td>   \n",
       "</tr>\n",
       "<tr>\n",
       "  <th>Covariance Type:</th>      <td>nonrobust</td>    <th>                     </th>     <td> </td>   \n",
       "</tr>\n",
       "</table>\n",
       "<table class=\"simpletable\">\n",
       "<tr>\n",
       "        <td></td>           <th>coef</th>     <th>std err</th>      <th>t</th>      <th>P>|t|</th>  <th>[0.025</th>    <th>0.975]</th>  \n",
       "</tr>\n",
       "<tr>\n",
       "  <th>Intercept</th>     <td>   44.4973</td> <td>    7.934</td> <td>    5.608</td> <td> 0.000</td> <td>   26.818</td> <td>   62.176</td>\n",
       "</tr>\n",
       "<tr>\n",
       "  <th>gdpn_tj_13sum</th> <td>    0.0277</td> <td>    0.007</td> <td>    3.729</td> <td> 0.004</td> <td>    0.011</td> <td>    0.044</td>\n",
       "</tr>\n",
       "<tr>\n",
       "  <th>yht_rn_tj_s1</th>  <td>    0.4358</td> <td>    0.163</td> <td>    2.681</td> <td> 0.023</td> <td>    0.074</td> <td>    0.798</td>\n",
       "</tr>\n",
       "</table>\n",
       "<table class=\"simpletable\">\n",
       "<tr>\n",
       "  <th>Omnibus:</th>       <td> 0.537</td> <th>  Durbin-Watson:     </th> <td>   1.451</td>\n",
       "</tr>\n",
       "<tr>\n",
       "  <th>Prob(Omnibus):</th> <td> 0.765</td> <th>  Jarque-Bera (JB):  </th> <td>   0.583</td>\n",
       "</tr>\n",
       "<tr>\n",
       "  <th>Skew:</th>          <td> 0.270</td> <th>  Prob(JB):          </th> <td>   0.747</td>\n",
       "</tr>\n",
       "<tr>\n",
       "  <th>Kurtosis:</th>      <td> 2.115</td> <th>  Cond. No.          </th> <td>2.68e+04</td>\n",
       "</tr>\n",
       "</table><br/><br/>Warnings:<br/>[1] Standard Errors assume that the covariance matrix of the errors is correctly specified.<br/>[2] The condition number is large, 2.68e+04. This might indicate that there are<br/>strong multicollinearity or other numerical problems."
      ],
      "text/plain": [
       "<class 'statsmodels.iolib.summary.Summary'>\n",
       "\"\"\"\n",
       "                            OLS Regression Results                            \n",
       "==============================================================================\n",
       "Dep. Variable:              yht_rn_tj   R-squared:                       0.998\n",
       "Model:                            OLS   Adj. R-squared:                  0.998\n",
       "Method:                 Least Squares   F-statistic:                     2475.\n",
       "Date:                Fri, 10 Jul 2020   Prob (F-statistic):           3.33e-14\n",
       "Time:                        09:43:41   Log-Likelihood:                -43.205\n",
       "No. Observations:                  13   AIC:                             92.41\n",
       "Df Residuals:                      10   BIC:                             94.10\n",
       "Df Model:                           2                                         \n",
       "Covariance Type:            nonrobust                                         \n",
       "=================================================================================\n",
       "                    coef    std err          t      P>|t|      [0.025      0.975]\n",
       "---------------------------------------------------------------------------------\n",
       "Intercept        44.4973      7.934      5.608      0.000      26.818      62.176\n",
       "gdpn_tj_13sum     0.0277      0.007      3.729      0.004       0.011       0.044\n",
       "yht_rn_tj_s1      0.4358      0.163      2.681      0.023       0.074       0.798\n",
       "==============================================================================\n",
       "Omnibus:                        0.537   Durbin-Watson:                   1.451\n",
       "Prob(Omnibus):                  0.765   Jarque-Bera (JB):                0.583\n",
       "Skew:                           0.270   Prob(JB):                        0.747\n",
       "Kurtosis:                       2.115   Cond. No.                     2.68e+04\n",
       "==============================================================================\n",
       "\n",
       "Warnings:\n",
       "[1] Standard Errors assume that the covariance matrix of the errors is correctly specified.\n",
       "[2] The condition number is large, 2.68e+04. This might indicate that there are\n",
       "strong multicollinearity or other numerical problems.\n",
       "\"\"\""
      ]
     },
     "execution_count": 109,
     "metadata": {},
     "output_type": "execute_result"
    }
   ],
   "source": [
    "results = sm.ols(formula = \"yht_rn_tj ~ gdpn_tj_13sum +  yht_rn_tj_s1\",data = test1 ).fit()\n",
    "results.summary()"
   ]
  },
  {
   "cell_type": "markdown",
   "metadata": {},
   "source": [
    "## Eq147 : cone_un_tj 行为方程\n",
    "cone_un_tj  = @coef(1)  + @coef(2) * yh_un_tj"
   ]
  },
  {
   "cell_type": "code",
   "execution_count": 111,
   "metadata": {
    "ExecuteTime": {
     "end_time": "2020-07-10T09:45:43.245402Z",
     "start_time": "2020-07-10T09:45:43.235772Z"
    }
   },
   "outputs": [
    {
     "data": {
      "text/html": [
       "<div>\n",
       "<style scoped>\n",
       "    .dataframe tbody tr th:only-of-type {\n",
       "        vertical-align: middle;\n",
       "    }\n",
       "\n",
       "    .dataframe tbody tr th {\n",
       "        vertical-align: top;\n",
       "    }\n",
       "\n",
       "    .dataframe thead th {\n",
       "        text-align: right;\n",
       "    }\n",
       "</style>\n",
       "<table border=\"1\" class=\"dataframe\">\n",
       "  <thead>\n",
       "    <tr style=\"text-align: right;\">\n",
       "      <th></th>\n",
       "      <th>cone_un_tj</th>\n",
       "      <th>yh_un_tj</th>\n",
       "    </tr>\n",
       "  </thead>\n",
       "  <tbody>\n",
       "    <tr>\n",
       "      <th>1996</th>\n",
       "      <td>4679.61</td>\n",
       "      <td>5967.0</td>\n",
       "    </tr>\n",
       "    <tr>\n",
       "      <th>1997</th>\n",
       "      <td>5204.15</td>\n",
       "      <td>6609.0</td>\n",
       "    </tr>\n",
       "  </tbody>\n",
       "</table>\n",
       "</div>"
      ],
      "text/plain": [
       "      cone_un_tj  yh_un_tj\n",
       "1996     4679.61    5967.0\n",
       "1997     5204.15    6609.0"
      ]
     },
     "execution_count": 111,
     "metadata": {},
     "output_type": "execute_result"
    }
   ],
   "source": [
    "test1 = df_ev[[\"cone_un_tj\" , \"yh_un_tj\" ]]\n",
    "test1.head(2)"
   ]
  },
  {
   "cell_type": "code",
   "execution_count": 112,
   "metadata": {
    "ExecuteTime": {
     "end_time": "2020-07-10T09:45:44.938316Z",
     "start_time": "2020-07-10T09:45:44.916294Z"
    }
   },
   "outputs": [
    {
     "data": {
      "text/html": [
       "<table class=\"simpletable\">\n",
       "<caption>OLS Regression Results</caption>\n",
       "<tr>\n",
       "  <th>Dep. Variable:</th>       <td>cone_un_tj</td>    <th>  R-squared:         </th> <td>   0.999</td> \n",
       "</tr>\n",
       "<tr>\n",
       "  <th>Model:</th>                   <td>OLS</td>       <th>  Adj. R-squared:    </th> <td>   0.999</td> \n",
       "</tr>\n",
       "<tr>\n",
       "  <th>Method:</th>             <td>Least Squares</td>  <th>  F-statistic:       </th> <td>2.642e+04</td>\n",
       "</tr>\n",
       "<tr>\n",
       "  <th>Date:</th>             <td>Fri, 10 Jul 2020</td> <th>  Prob (F-statistic):</th> <td>4.84e-34</td> \n",
       "</tr>\n",
       "<tr>\n",
       "  <th>Time:</th>                 <td>09:45:44</td>     <th>  Log-Likelihood:    </th> <td> -159.29</td> \n",
       "</tr>\n",
       "<tr>\n",
       "  <th>No. Observations:</th>      <td>    23</td>      <th>  AIC:               </th> <td>   322.6</td> \n",
       "</tr>\n",
       "<tr>\n",
       "  <th>Df Residuals:</th>          <td>    21</td>      <th>  BIC:               </th> <td>   324.8</td> \n",
       "</tr>\n",
       "<tr>\n",
       "  <th>Df Model:</th>              <td>     1</td>      <th>                     </th>     <td> </td>    \n",
       "</tr>\n",
       "<tr>\n",
       "  <th>Covariance Type:</th>      <td>nonrobust</td>    <th>                     </th>     <td> </td>    \n",
       "</tr>\n",
       "</table>\n",
       "<table class=\"simpletable\">\n",
       "<tr>\n",
       "      <td></td>         <th>coef</th>     <th>std err</th>      <th>t</th>      <th>P>|t|</th>  <th>[0.025</th>    <th>0.975]</th>  \n",
       "</tr>\n",
       "<tr>\n",
       "  <th>Intercept</th> <td>  514.3755</td> <td>  103.148</td> <td>    4.987</td> <td> 0.000</td> <td>  299.867</td> <td>  728.884</td>\n",
       "</tr>\n",
       "<tr>\n",
       "  <th>yh_un_tj</th>  <td>    0.7512</td> <td>    0.005</td> <td>  162.549</td> <td> 0.000</td> <td>    0.742</td> <td>    0.761</td>\n",
       "</tr>\n",
       "</table>\n",
       "<table class=\"simpletable\">\n",
       "<tr>\n",
       "  <th>Omnibus:</th>       <td> 0.598</td> <th>  Durbin-Watson:     </th> <td>   0.704</td>\n",
       "</tr>\n",
       "<tr>\n",
       "  <th>Prob(Omnibus):</th> <td> 0.742</td> <th>  Jarque-Bera (JB):  </th> <td>   0.642</td>\n",
       "</tr>\n",
       "<tr>\n",
       "  <th>Skew:</th>          <td>-0.128</td> <th>  Prob(JB):          </th> <td>   0.726</td>\n",
       "</tr>\n",
       "<tr>\n",
       "  <th>Kurtosis:</th>      <td> 2.223</td> <th>  Cond. No.          </th> <td>4.28e+04</td>\n",
       "</tr>\n",
       "</table><br/><br/>Warnings:<br/>[1] Standard Errors assume that the covariance matrix of the errors is correctly specified.<br/>[2] The condition number is large, 4.28e+04. This might indicate that there are<br/>strong multicollinearity or other numerical problems."
      ],
      "text/plain": [
       "<class 'statsmodels.iolib.summary.Summary'>\n",
       "\"\"\"\n",
       "                            OLS Regression Results                            \n",
       "==============================================================================\n",
       "Dep. Variable:             cone_un_tj   R-squared:                       0.999\n",
       "Model:                            OLS   Adj. R-squared:                  0.999\n",
       "Method:                 Least Squares   F-statistic:                 2.642e+04\n",
       "Date:                Fri, 10 Jul 2020   Prob (F-statistic):           4.84e-34\n",
       "Time:                        09:45:44   Log-Likelihood:                -159.29\n",
       "No. Observations:                  23   AIC:                             322.6\n",
       "Df Residuals:                      21   BIC:                             324.8\n",
       "Df Model:                           1                                         \n",
       "Covariance Type:            nonrobust                                         \n",
       "==============================================================================\n",
       "                 coef    std err          t      P>|t|      [0.025      0.975]\n",
       "------------------------------------------------------------------------------\n",
       "Intercept    514.3755    103.148      4.987      0.000     299.867     728.884\n",
       "yh_un_tj       0.7512      0.005    162.549      0.000       0.742       0.761\n",
       "==============================================================================\n",
       "Omnibus:                        0.598   Durbin-Watson:                   0.704\n",
       "Prob(Omnibus):                  0.742   Jarque-Bera (JB):                0.642\n",
       "Skew:                          -0.128   Prob(JB):                        0.726\n",
       "Kurtosis:                       2.223   Cond. No.                     4.28e+04\n",
       "==============================================================================\n",
       "\n",
       "Warnings:\n",
       "[1] Standard Errors assume that the covariance matrix of the errors is correctly specified.\n",
       "[2] The condition number is large, 4.28e+04. This might indicate that there are\n",
       "strong multicollinearity or other numerical problems.\n",
       "\"\"\""
      ]
     },
     "execution_count": 112,
     "metadata": {},
     "output_type": "execute_result"
    }
   ],
   "source": [
    "results = sm.ols(formula = \"cone_un_tj ~ yh_un_tj \",data = test1 ).fit()\n",
    "results.summary()"
   ]
  },
  {
   "cell_type": "markdown",
   "metadata": {},
   "source": [
    "## Eq148 : cone_rn_tj 行为方程\n",
    "\n",
    "cone_rn_tj  = @coef(1)  + @coef(2) * (yh_rn_tj - yh_rn_tj(-1))  + @coef(3) * cone_rn_tj(-1)  + @coef(4) * d_cone_rn_tj"
   ]
  },
  {
   "cell_type": "code",
   "execution_count": 114,
   "metadata": {
    "ExecuteTime": {
     "end_time": "2020-07-10T09:48:20.838128Z",
     "start_time": "2020-07-10T09:48:20.725752Z"
    }
   },
   "outputs": [
    {
     "data": {
      "text/html": [
       "<div>\n",
       "<style scoped>\n",
       "    .dataframe tbody tr th:only-of-type {\n",
       "        vertical-align: middle;\n",
       "    }\n",
       "\n",
       "    .dataframe tbody tr th {\n",
       "        vertical-align: top;\n",
       "    }\n",
       "\n",
       "    .dataframe thead th {\n",
       "        text-align: right;\n",
       "    }\n",
       "</style>\n",
       "<table border=\"1\" class=\"dataframe\">\n",
       "  <thead>\n",
       "    <tr style=\"text-align: right;\">\n",
       "      <th></th>\n",
       "      <th>cone_rn_tj</th>\n",
       "      <th>yh_rn_tj</th>\n",
       "      <th>d_cone_rn_tj</th>\n",
       "      <th>yh_rn_tj_diff</th>\n",
       "      <th>cone_rn_tj_s1</th>\n",
       "    </tr>\n",
       "  </thead>\n",
       "  <tbody>\n",
       "    <tr>\n",
       "      <th>1996</th>\n",
       "      <td>NaN</td>\n",
       "      <td>NaN</td>\n",
       "      <td>0</td>\n",
       "      <td>NaN</td>\n",
       "      <td>NaN</td>\n",
       "    </tr>\n",
       "    <tr>\n",
       "      <th>1997</th>\n",
       "      <td>NaN</td>\n",
       "      <td>NaN</td>\n",
       "      <td>0</td>\n",
       "      <td>NaN</td>\n",
       "      <td>NaN</td>\n",
       "    </tr>\n",
       "  </tbody>\n",
       "</table>\n",
       "</div>"
      ],
      "text/plain": [
       "      cone_rn_tj  yh_rn_tj  d_cone_rn_tj  yh_rn_tj_diff  cone_rn_tj_s1\n",
       "1996         NaN       NaN             0            NaN            NaN\n",
       "1997         NaN       NaN             0            NaN            NaN"
      ]
     },
     "execution_count": 114,
     "metadata": {},
     "output_type": "execute_result"
    }
   ],
   "source": [
    "test1 = df_ev[[\"cone_rn_tj\" , \"yh_rn_tj\" ,\"d_cone_rn_tj\" ]]\n",
    "test1[\"yh_rn_tj_diff\"] = test1[\"yh_rn_tj\"] - test1[\"yh_rn_tj\"].shift(1)\n",
    "test1[\"cone_rn_tj_s1\"] = test1[\"cone_rn_tj\"].shift(1)\n",
    "test1.head(2)"
   ]
  },
  {
   "cell_type": "code",
   "execution_count": 115,
   "metadata": {
    "ExecuteTime": {
     "end_time": "2020-07-10T09:48:33.370253Z",
     "start_time": "2020-07-10T09:48:33.342345Z"
    }
   },
   "outputs": [
    {
     "data": {
      "text/html": [
       "<table class=\"simpletable\">\n",
       "<caption>OLS Regression Results</caption>\n",
       "<tr>\n",
       "  <th>Dep. Variable:</th>       <td>cone_rn_tj</td>    <th>  R-squared:         </th> <td>   0.998</td>\n",
       "</tr>\n",
       "<tr>\n",
       "  <th>Model:</th>                   <td>OLS</td>       <th>  Adj. R-squared:    </th> <td>   0.997</td>\n",
       "</tr>\n",
       "<tr>\n",
       "  <th>Method:</th>             <td>Least Squares</td>  <th>  F-statistic:       </th> <td>   2096.</td>\n",
       "</tr>\n",
       "<tr>\n",
       "  <th>Date:</th>             <td>Fri, 10 Jul 2020</td> <th>  Prob (F-statistic):</th> <td>1.06e-17</td>\n",
       "</tr>\n",
       "<tr>\n",
       "  <th>Time:</th>                 <td>09:48:33</td>     <th>  Log-Likelihood:    </th> <td> -117.31</td>\n",
       "</tr>\n",
       "<tr>\n",
       "  <th>No. Observations:</th>      <td>    17</td>      <th>  AIC:               </th> <td>   242.6</td>\n",
       "</tr>\n",
       "<tr>\n",
       "  <th>Df Residuals:</th>          <td>    13</td>      <th>  BIC:               </th> <td>   246.0</td>\n",
       "</tr>\n",
       "<tr>\n",
       "  <th>Df Model:</th>              <td>     3</td>      <th>                     </th>     <td> </td>   \n",
       "</tr>\n",
       "<tr>\n",
       "  <th>Covariance Type:</th>      <td>nonrobust</td>    <th>                     </th>     <td> </td>   \n",
       "</tr>\n",
       "</table>\n",
       "<table class=\"simpletable\">\n",
       "<tr>\n",
       "        <td></td>           <th>coef</th>     <th>std err</th>      <th>t</th>      <th>P>|t|</th>  <th>[0.025</th>    <th>0.975]</th>  \n",
       "</tr>\n",
       "<tr>\n",
       "  <th>Intercept</th>     <td> -143.2606</td> <td>  147.338</td> <td>   -0.972</td> <td> 0.349</td> <td> -461.565</td> <td>  175.044</td>\n",
       "</tr>\n",
       "<tr>\n",
       "  <th>yh_rn_tj_diff</th> <td>    1.3571</td> <td>    0.165</td> <td>    8.217</td> <td> 0.000</td> <td>    1.000</td> <td>    1.714</td>\n",
       "</tr>\n",
       "<tr>\n",
       "  <th>cone_rn_tj_s1</th> <td>    0.9252</td> <td>    0.019</td> <td>   48.942</td> <td> 0.000</td> <td>    0.884</td> <td>    0.966</td>\n",
       "</tr>\n",
       "<tr>\n",
       "  <th>d_cone_rn_tj</th>  <td>   78.0178</td> <td>   29.592</td> <td>    2.636</td> <td> 0.021</td> <td>   14.089</td> <td>  141.946</td>\n",
       "</tr>\n",
       "</table>\n",
       "<table class=\"simpletable\">\n",
       "<tr>\n",
       "  <th>Omnibus:</th>       <td> 0.852</td> <th>  Durbin-Watson:     </th> <td>   1.286</td>\n",
       "</tr>\n",
       "<tr>\n",
       "  <th>Prob(Omnibus):</th> <td> 0.653</td> <th>  Jarque-Bera (JB):  </th> <td>   0.601</td>\n",
       "</tr>\n",
       "<tr>\n",
       "  <th>Skew:</th>          <td> 0.429</td> <th>  Prob(JB):          </th> <td>   0.741</td>\n",
       "</tr>\n",
       "<tr>\n",
       "  <th>Kurtosis:</th>      <td> 2.664</td> <th>  Cond. No.          </th> <td>2.03e+04</td>\n",
       "</tr>\n",
       "</table><br/><br/>Warnings:<br/>[1] Standard Errors assume that the covariance matrix of the errors is correctly specified.<br/>[2] The condition number is large, 2.03e+04. This might indicate that there are<br/>strong multicollinearity or other numerical problems."
      ],
      "text/plain": [
       "<class 'statsmodels.iolib.summary.Summary'>\n",
       "\"\"\"\n",
       "                            OLS Regression Results                            \n",
       "==============================================================================\n",
       "Dep. Variable:             cone_rn_tj   R-squared:                       0.998\n",
       "Model:                            OLS   Adj. R-squared:                  0.997\n",
       "Method:                 Least Squares   F-statistic:                     2096.\n",
       "Date:                Fri, 10 Jul 2020   Prob (F-statistic):           1.06e-17\n",
       "Time:                        09:48:33   Log-Likelihood:                -117.31\n",
       "No. Observations:                  17   AIC:                             242.6\n",
       "Df Residuals:                      13   BIC:                             246.0\n",
       "Df Model:                           3                                         \n",
       "Covariance Type:            nonrobust                                         \n",
       "=================================================================================\n",
       "                    coef    std err          t      P>|t|      [0.025      0.975]\n",
       "---------------------------------------------------------------------------------\n",
       "Intercept      -143.2606    147.338     -0.972      0.349    -461.565     175.044\n",
       "yh_rn_tj_diff     1.3571      0.165      8.217      0.000       1.000       1.714\n",
       "cone_rn_tj_s1     0.9252      0.019     48.942      0.000       0.884       0.966\n",
       "d_cone_rn_tj     78.0178     29.592      2.636      0.021      14.089     141.946\n",
       "==============================================================================\n",
       "Omnibus:                        0.852   Durbin-Watson:                   1.286\n",
       "Prob(Omnibus):                  0.653   Jarque-Bera (JB):                0.601\n",
       "Skew:                           0.429   Prob(JB):                        0.741\n",
       "Kurtosis:                       2.664   Cond. No.                     2.03e+04\n",
       "==============================================================================\n",
       "\n",
       "Warnings:\n",
       "[1] Standard Errors assume that the covariance matrix of the errors is correctly specified.\n",
       "[2] The condition number is large, 2.03e+04. This might indicate that there are\n",
       "strong multicollinearity or other numerical problems.\n",
       "\"\"\""
      ]
     },
     "execution_count": 115,
     "metadata": {},
     "output_type": "execute_result"
    }
   ],
   "source": [
    "results = sm.ols(formula = \"cone_rn_tj ~ yh_rn_tj_diff + cone_rn_tj_s1 + d_cone_rn_tj \",data = test1 ).fit()\n",
    "results.summary()"
   ]
  },
  {
   "cell_type": "markdown",
   "metadata": {},
   "source": [
    "## Eq149 : frn_tj 行为方程\n",
    "frn_tj  = @coef(1)  + @coef(2) * taxn_tj  + @coef(3) * d(frn_tj)  + @coef(4) * d_frn_tj\n"
   ]
  },
  {
   "cell_type": "code",
   "execution_count": 121,
   "metadata": {
    "ExecuteTime": {
     "end_time": "2020-07-10T09:54:23.236931Z",
     "start_time": "2020-07-10T09:54:23.173640Z"
    }
   },
   "outputs": [
    {
     "data": {
      "text/html": [
       "<div>\n",
       "<style scoped>\n",
       "    .dataframe tbody tr th:only-of-type {\n",
       "        vertical-align: middle;\n",
       "    }\n",
       "\n",
       "    .dataframe tbody tr th {\n",
       "        vertical-align: top;\n",
       "    }\n",
       "\n",
       "    .dataframe thead th {\n",
       "        text-align: right;\n",
       "    }\n",
       "</style>\n",
       "<table border=\"1\" class=\"dataframe\">\n",
       "  <thead>\n",
       "    <tr style=\"text-align: right;\">\n",
       "      <th></th>\n",
       "      <th>frn_tj</th>\n",
       "      <th>taxn_tj</th>\n",
       "      <th>d_frn_tj</th>\n",
       "      <th>frn_tj_diff</th>\n",
       "    </tr>\n",
       "  </thead>\n",
       "  <tbody>\n",
       "    <tr>\n",
       "      <th>2001</th>\n",
       "      <td>163.64</td>\n",
       "      <td>153.8020</td>\n",
       "      <td>0.0</td>\n",
       "      <td>30.03</td>\n",
       "    </tr>\n",
       "    <tr>\n",
       "      <th>2002</th>\n",
       "      <td>171.83</td>\n",
       "      <td>154.8131</td>\n",
       "      <td>0.0</td>\n",
       "      <td>8.19</td>\n",
       "    </tr>\n",
       "  </tbody>\n",
       "</table>\n",
       "</div>"
      ],
      "text/plain": [
       "      frn_tj   taxn_tj  d_frn_tj  frn_tj_diff\n",
       "2001  163.64  153.8020       0.0        30.03\n",
       "2002  171.83  154.8131       0.0         8.19"
      ]
     },
     "execution_count": 121,
     "metadata": {},
     "output_type": "execute_result"
    }
   ],
   "source": [
    "test1 = df_ev[[\"frn_tj\",\"taxn_tj\",\"d_frn_tj\"]]\n",
    "test1[\"frn_tj_diff\"] = test1[\"frn_tj\"] - test1[\"frn_tj\"].shift(1)\n",
    "test1 = test1[(test1.index>2000) & (test1.index <2019)]\n",
    "test1.head(2)"
   ]
  },
  {
   "cell_type": "code",
   "execution_count": 122,
   "metadata": {
    "ExecuteTime": {
     "end_time": "2020-07-10T09:54:25.797931Z",
     "start_time": "2020-07-10T09:54:25.773797Z"
    }
   },
   "outputs": [
    {
     "data": {
      "text/html": [
       "<table class=\"simpletable\">\n",
       "<caption>OLS Regression Results</caption>\n",
       "<tr>\n",
       "  <th>Dep. Variable:</th>         <td>frn_tj</td>      <th>  R-squared:         </th> <td>   0.996</td>\n",
       "</tr>\n",
       "<tr>\n",
       "  <th>Model:</th>                   <td>OLS</td>       <th>  Adj. R-squared:    </th> <td>   0.996</td>\n",
       "</tr>\n",
       "<tr>\n",
       "  <th>Method:</th>             <td>Least Squares</td>  <th>  F-statistic:       </th> <td>   1283.</td>\n",
       "</tr>\n",
       "<tr>\n",
       "  <th>Date:</th>             <td>Fri, 10 Jul 2020</td> <th>  Prob (F-statistic):</th> <td>2.58e-17</td>\n",
       "</tr>\n",
       "<tr>\n",
       "  <th>Time:</th>                 <td>09:54:25</td>     <th>  Log-Likelihood:    </th> <td> -97.865</td>\n",
       "</tr>\n",
       "<tr>\n",
       "  <th>No. Observations:</th>      <td>    18</td>      <th>  AIC:               </th> <td>   203.7</td>\n",
       "</tr>\n",
       "<tr>\n",
       "  <th>Df Residuals:</th>          <td>    14</td>      <th>  BIC:               </th> <td>   207.3</td>\n",
       "</tr>\n",
       "<tr>\n",
       "  <th>Df Model:</th>              <td>     3</td>      <th>                     </th>     <td> </td>   \n",
       "</tr>\n",
       "<tr>\n",
       "  <th>Covariance Type:</th>      <td>nonrobust</td>    <th>                     </th>     <td> </td>   \n",
       "</tr>\n",
       "</table>\n",
       "<table class=\"simpletable\">\n",
       "<tr>\n",
       "       <td></td>          <th>coef</th>     <th>std err</th>      <th>t</th>      <th>P>|t|</th>  <th>[0.025</th>    <th>0.975]</th>  \n",
       "</tr>\n",
       "<tr>\n",
       "  <th>Intercept</th>   <td> -120.7810</td> <td>   28.553</td> <td>   -4.230</td> <td> 0.001</td> <td> -182.021</td> <td>  -59.541</td>\n",
       "</tr>\n",
       "<tr>\n",
       "  <th>taxn_tj</th>     <td>    1.5207</td> <td>    0.030</td> <td>   51.360</td> <td> 0.000</td> <td>    1.457</td> <td>    1.584</td>\n",
       "</tr>\n",
       "<tr>\n",
       "  <th>frn_tj_diff</th> <td>    0.6164</td> <td>    0.084</td> <td>    7.322</td> <td> 0.000</td> <td>    0.436</td> <td>    0.797</td>\n",
       "</tr>\n",
       "<tr>\n",
       "  <th>d_frn_tj</th>    <td>  129.4358</td> <td>   18.928</td> <td>    6.838</td> <td> 0.000</td> <td>   88.839</td> <td>  170.033</td>\n",
       "</tr>\n",
       "</table>\n",
       "<table class=\"simpletable\">\n",
       "<tr>\n",
       "  <th>Omnibus:</th>       <td> 1.664</td> <th>  Durbin-Watson:     </th> <td>   1.784</td>\n",
       "</tr>\n",
       "<tr>\n",
       "  <th>Prob(Omnibus):</th> <td> 0.435</td> <th>  Jarque-Bera (JB):  </th> <td>   1.393</td>\n",
       "</tr>\n",
       "<tr>\n",
       "  <th>Skew:</th>          <td>-0.575</td> <th>  Prob(JB):          </th> <td>   0.498</td>\n",
       "</tr>\n",
       "<tr>\n",
       "  <th>Kurtosis:</th>      <td> 2.268</td> <th>  Cond. No.          </th> <td>1.98e+03</td>\n",
       "</tr>\n",
       "</table><br/><br/>Warnings:<br/>[1] Standard Errors assume that the covariance matrix of the errors is correctly specified.<br/>[2] The condition number is large, 1.98e+03. This might indicate that there are<br/>strong multicollinearity or other numerical problems."
      ],
      "text/plain": [
       "<class 'statsmodels.iolib.summary.Summary'>\n",
       "\"\"\"\n",
       "                            OLS Regression Results                            \n",
       "==============================================================================\n",
       "Dep. Variable:                 frn_tj   R-squared:                       0.996\n",
       "Model:                            OLS   Adj. R-squared:                  0.996\n",
       "Method:                 Least Squares   F-statistic:                     1283.\n",
       "Date:                Fri, 10 Jul 2020   Prob (F-statistic):           2.58e-17\n",
       "Time:                        09:54:25   Log-Likelihood:                -97.865\n",
       "No. Observations:                  18   AIC:                             203.7\n",
       "Df Residuals:                      14   BIC:                             207.3\n",
       "Df Model:                           3                                         \n",
       "Covariance Type:            nonrobust                                         \n",
       "===============================================================================\n",
       "                  coef    std err          t      P>|t|      [0.025      0.975]\n",
       "-------------------------------------------------------------------------------\n",
       "Intercept    -120.7810     28.553     -4.230      0.001    -182.021     -59.541\n",
       "taxn_tj         1.5207      0.030     51.360      0.000       1.457       1.584\n",
       "frn_tj_diff     0.6164      0.084      7.322      0.000       0.436       0.797\n",
       "d_frn_tj      129.4358     18.928      6.838      0.000      88.839     170.033\n",
       "==============================================================================\n",
       "Omnibus:                        1.664   Durbin-Watson:                   1.784\n",
       "Prob(Omnibus):                  0.435   Jarque-Bera (JB):                1.393\n",
       "Skew:                          -0.575   Prob(JB):                        0.498\n",
       "Kurtosis:                       2.268   Cond. No.                     1.98e+03\n",
       "==============================================================================\n",
       "\n",
       "Warnings:\n",
       "[1] Standard Errors assume that the covariance matrix of the errors is correctly specified.\n",
       "[2] The condition number is large, 1.98e+03. This might indicate that there are\n",
       "strong multicollinearity or other numerical problems.\n",
       "\"\"\""
      ]
     },
     "execution_count": 122,
     "metadata": {},
     "output_type": "execute_result"
    }
   ],
   "source": [
    "results = sm.ols(formula = \"frn_tj ~ taxn_tj + frn_tj_diff + d_frn_tj \",data = test1 ).fit()\n",
    "results.summary()"
   ]
  },
  {
   "cell_type": "markdown",
   "metadata": {},
   "source": [
    "## Eq150 ： taxn_tj1  no d_taxn_tj_1是模拟结果数据？\n",
    "log(taxn_tj1)  = @coef(1)  + @coef(2) * log(tax_vadn_tj + tax_cinn_tj + tax_pinn_tj)  + @coef(3) * d_taxn_tj_1 "
   ]
  },
  {
   "cell_type": "code",
   "execution_count": 125,
   "metadata": {
    "ExecuteTime": {
     "end_time": "2020-07-10T09:58:16.677557Z",
     "start_time": "2020-07-10T09:58:16.613398Z"
    }
   },
   "outputs": [
    {
     "data": {
      "text/html": [
       "<div>\n",
       "<style scoped>\n",
       "    .dataframe tbody tr th:only-of-type {\n",
       "        vertical-align: middle;\n",
       "    }\n",
       "\n",
       "    .dataframe tbody tr th {\n",
       "        vertical-align: top;\n",
       "    }\n",
       "\n",
       "    .dataframe thead th {\n",
       "        text-align: right;\n",
       "    }\n",
       "</style>\n",
       "<table border=\"1\" class=\"dataframe\">\n",
       "  <thead>\n",
       "    <tr style=\"text-align: right;\">\n",
       "      <th></th>\n",
       "      <th>taxn_tj1</th>\n",
       "      <th>tax_vadn_tj</th>\n",
       "      <th>tax_cinn_tj</th>\n",
       "      <th>tax_pinn_tj</th>\n",
       "      <th>d_taxn_tj_1</th>\n",
       "      <th>tax_sum</th>\n",
       "    </tr>\n",
       "  </thead>\n",
       "  <tbody>\n",
       "    <tr>\n",
       "      <th>1998</th>\n",
       "      <td>NaN</td>\n",
       "      <td>18.99</td>\n",
       "      <td>20.34</td>\n",
       "      <td>7.91</td>\n",
       "      <td>0.0</td>\n",
       "      <td>47.24</td>\n",
       "    </tr>\n",
       "    <tr>\n",
       "      <th>1999</th>\n",
       "      <td>NaN</td>\n",
       "      <td>20.83</td>\n",
       "      <td>24.02</td>\n",
       "      <td>8.86</td>\n",
       "      <td>0.0</td>\n",
       "      <td>53.71</td>\n",
       "    </tr>\n",
       "  </tbody>\n",
       "</table>\n",
       "</div>"
      ],
      "text/plain": [
       "      taxn_tj1  tax_vadn_tj  tax_cinn_tj  tax_pinn_tj  d_taxn_tj_1  tax_sum\n",
       "1998       NaN        18.99        20.34         7.91          0.0    47.24\n",
       "1999       NaN        20.83        24.02         8.86          0.0    53.71"
      ]
     },
     "execution_count": 125,
     "metadata": {},
     "output_type": "execute_result"
    }
   ],
   "source": [
    "test1 = df_ev[[\"taxn_tj1\",\"tax_vadn_tj\",\"tax_cinn_tj\",\"tax_pinn_tj\",\"d_taxn_tj_1\"]]\n",
    "test1[\"tax_sum\"] = test1[\"tax_vadn_tj\"] + test1[\"tax_cinn_tj\"] + test1[\"tax_pinn_tj\"]\n",
    "test1 = test1[(test1.index>1997) & (test1.index <2019)]\n",
    "test1.head(2)"
   ]
  },
  {
   "cell_type": "code",
   "execution_count": 126,
   "metadata": {
    "ExecuteTime": {
     "end_time": "2020-07-10T09:58:17.782249Z",
     "start_time": "2020-07-10T09:58:17.757944Z"
    }
   },
   "outputs": [
    {
     "data": {
      "text/html": [
       "<table class=\"simpletable\">\n",
       "<caption>OLS Regression Results</caption>\n",
       "<tr>\n",
       "  <th>Dep. Variable:</th>    <td>np.log(taxn_tj1)</td> <th>  R-squared:         </th> <td>   0.994</td>\n",
       "</tr>\n",
       "<tr>\n",
       "  <th>Model:</th>                   <td>OLS</td>       <th>  Adj. R-squared:    </th> <td>   0.993</td>\n",
       "</tr>\n",
       "<tr>\n",
       "  <th>Method:</th>             <td>Least Squares</td>  <th>  F-statistic:       </th> <td>   1243.</td>\n",
       "</tr>\n",
       "<tr>\n",
       "  <th>Date:</th>             <td>Fri, 10 Jul 2020</td> <th>  Prob (F-statistic):</th> <td>2.16e-17</td>\n",
       "</tr>\n",
       "<tr>\n",
       "  <th>Time:</th>                 <td>09:58:17</td>     <th>  Log-Likelihood:    </th> <td>  23.131</td>\n",
       "</tr>\n",
       "<tr>\n",
       "  <th>No. Observations:</th>      <td>    18</td>      <th>  AIC:               </th> <td>  -40.26</td>\n",
       "</tr>\n",
       "<tr>\n",
       "  <th>Df Residuals:</th>          <td>    15</td>      <th>  BIC:               </th> <td>  -37.59</td>\n",
       "</tr>\n",
       "<tr>\n",
       "  <th>Df Model:</th>              <td>     2</td>      <th>                     </th>     <td> </td>   \n",
       "</tr>\n",
       "<tr>\n",
       "  <th>Covariance Type:</th>      <td>nonrobust</td>    <th>                     </th>     <td> </td>   \n",
       "</tr>\n",
       "</table>\n",
       "<table class=\"simpletable\">\n",
       "<tr>\n",
       "         <td></td>            <th>coef</th>     <th>std err</th>      <th>t</th>      <th>P>|t|</th>  <th>[0.025</th>    <th>0.975]</th>  \n",
       "</tr>\n",
       "<tr>\n",
       "  <th>Intercept</th>       <td>    0.4388</td> <td>    0.123</td> <td>    3.557</td> <td> 0.003</td> <td>    0.176</td> <td>    0.702</td>\n",
       "</tr>\n",
       "<tr>\n",
       "  <th>np.log(tax_sum)</th> <td>    1.0835</td> <td>    0.023</td> <td>   48.074</td> <td> 0.000</td> <td>    1.035</td> <td>    1.132</td>\n",
       "</tr>\n",
       "<tr>\n",
       "  <th>d_taxn_tj_1</th>     <td>    0.2046</td> <td>    0.019</td> <td>   10.930</td> <td> 0.000</td> <td>    0.165</td> <td>    0.245</td>\n",
       "</tr>\n",
       "</table>\n",
       "<table class=\"simpletable\">\n",
       "<tr>\n",
       "  <th>Omnibus:</th>       <td> 2.610</td> <th>  Durbin-Watson:     </th> <td>   1.536</td>\n",
       "</tr>\n",
       "<tr>\n",
       "  <th>Prob(Omnibus):</th> <td> 0.271</td> <th>  Jarque-Bera (JB):  </th> <td>   1.151</td>\n",
       "</tr>\n",
       "<tr>\n",
       "  <th>Skew:</th>          <td> 0.122</td> <th>  Prob(JB):          </th> <td>   0.562</td>\n",
       "</tr>\n",
       "<tr>\n",
       "  <th>Kurtosis:</th>      <td> 1.785</td> <th>  Cond. No.          </th> <td>    42.1</td>\n",
       "</tr>\n",
       "</table><br/><br/>Warnings:<br/>[1] Standard Errors assume that the covariance matrix of the errors is correctly specified."
      ],
      "text/plain": [
       "<class 'statsmodels.iolib.summary.Summary'>\n",
       "\"\"\"\n",
       "                            OLS Regression Results                            \n",
       "==============================================================================\n",
       "Dep. Variable:       np.log(taxn_tj1)   R-squared:                       0.994\n",
       "Model:                            OLS   Adj. R-squared:                  0.993\n",
       "Method:                 Least Squares   F-statistic:                     1243.\n",
       "Date:                Fri, 10 Jul 2020   Prob (F-statistic):           2.16e-17\n",
       "Time:                        09:58:17   Log-Likelihood:                 23.131\n",
       "No. Observations:                  18   AIC:                            -40.26\n",
       "Df Residuals:                      15   BIC:                            -37.59\n",
       "Df Model:                           2                                         \n",
       "Covariance Type:            nonrobust                                         \n",
       "===================================================================================\n",
       "                      coef    std err          t      P>|t|      [0.025      0.975]\n",
       "-----------------------------------------------------------------------------------\n",
       "Intercept           0.4388      0.123      3.557      0.003       0.176       0.702\n",
       "np.log(tax_sum)     1.0835      0.023     48.074      0.000       1.035       1.132\n",
       "d_taxn_tj_1         0.2046      0.019     10.930      0.000       0.165       0.245\n",
       "==============================================================================\n",
       "Omnibus:                        2.610   Durbin-Watson:                   1.536\n",
       "Prob(Omnibus):                  0.271   Jarque-Bera (JB):                1.151\n",
       "Skew:                           0.122   Prob(JB):                        0.562\n",
       "Kurtosis:                       1.785   Cond. No.                         42.1\n",
       "==============================================================================\n",
       "\n",
       "Warnings:\n",
       "[1] Standard Errors assume that the covariance matrix of the errors is correctly specified.\n",
       "\"\"\""
      ]
     },
     "execution_count": 126,
     "metadata": {},
     "output_type": "execute_result"
    }
   ],
   "source": [
    "results = sm.ols(formula = \"np.log(taxn_tj1) ~ np.log(tax_sum) + d_taxn_tj_1 \",data = test1 ).fit()\n",
    "results.summary()"
   ]
  },
  {
   "cell_type": "markdown",
   "metadata": {},
   "source": [
    "## Eq151 taxn_tj2 行为方程  no d_taxn_tj_2非数据源的话，需要衍生规则\n",
    "\n",
    "taxn_tj2  = @coef(1)  + @coef(2) * gdpn_tj  + @coef(3) * d_taxn_tj_2"
   ]
  },
  {
   "cell_type": "code",
   "execution_count": 132,
   "metadata": {
    "ExecuteTime": {
     "end_time": "2020-07-10T10:02:11.640719Z",
     "start_time": "2020-07-10T10:02:11.630780Z"
    }
   },
   "outputs": [
    {
     "data": {
      "text/html": [
       "<div>\n",
       "<style scoped>\n",
       "    .dataframe tbody tr th:only-of-type {\n",
       "        vertical-align: middle;\n",
       "    }\n",
       "\n",
       "    .dataframe tbody tr th {\n",
       "        vertical-align: top;\n",
       "    }\n",
       "\n",
       "    .dataframe thead th {\n",
       "        text-align: right;\n",
       "    }\n",
       "</style>\n",
       "<table border=\"1\" class=\"dataframe\">\n",
       "  <thead>\n",
       "    <tr style=\"text-align: right;\">\n",
       "      <th></th>\n",
       "      <th>taxn_tj2</th>\n",
       "      <th>gdpn_tj</th>\n",
       "      <th>d_taxn_tj_2</th>\n",
       "    </tr>\n",
       "  </thead>\n",
       "  <tbody>\n",
       "    <tr>\n",
       "      <th>1996</th>\n",
       "      <td>NaN</td>\n",
       "      <td>1121.93</td>\n",
       "      <td>0.0</td>\n",
       "    </tr>\n",
       "    <tr>\n",
       "      <th>1997</th>\n",
       "      <td>NaN</td>\n",
       "      <td>1264.63</td>\n",
       "      <td>0.0</td>\n",
       "    </tr>\n",
       "  </tbody>\n",
       "</table>\n",
       "</div>"
      ],
      "text/plain": [
       "      taxn_tj2  gdpn_tj  d_taxn_tj_2\n",
       "1996       NaN  1121.93          0.0\n",
       "1997       NaN  1264.63          0.0"
      ]
     },
     "execution_count": 132,
     "metadata": {},
     "output_type": "execute_result"
    }
   ],
   "source": [
    "test1 = df_ev[[\"taxn_tj2\",\"gdpn_tj\",\"d_taxn_tj_2\"]]\n",
    "test1.head(2)"
   ]
  },
  {
   "cell_type": "code",
   "execution_count": 133,
   "metadata": {
    "ExecuteTime": {
     "end_time": "2020-07-10T10:02:12.818519Z",
     "start_time": "2020-07-10T10:02:12.794820Z"
    }
   },
   "outputs": [
    {
     "data": {
      "text/html": [
       "<table class=\"simpletable\">\n",
       "<caption>OLS Regression Results</caption>\n",
       "<tr>\n",
       "  <th>Dep. Variable:</th>        <td>taxn_tj2</td>     <th>  R-squared:         </th> <td>   0.974</td>\n",
       "</tr>\n",
       "<tr>\n",
       "  <th>Model:</th>                   <td>OLS</td>       <th>  Adj. R-squared:    </th> <td>   0.971</td>\n",
       "</tr>\n",
       "<tr>\n",
       "  <th>Method:</th>             <td>Least Squares</td>  <th>  F-statistic:       </th> <td>   304.5</td>\n",
       "</tr>\n",
       "<tr>\n",
       "  <th>Date:</th>             <td>Fri, 10 Jul 2020</td> <th>  Prob (F-statistic):</th> <td>1.84e-13</td>\n",
       "</tr>\n",
       "<tr>\n",
       "  <th>Time:</th>                 <td>10:02:12</td>     <th>  Log-Likelihood:    </th> <td> -113.01</td>\n",
       "</tr>\n",
       "<tr>\n",
       "  <th>No. Observations:</th>      <td>    19</td>      <th>  AIC:               </th> <td>   232.0</td>\n",
       "</tr>\n",
       "<tr>\n",
       "  <th>Df Residuals:</th>          <td>    16</td>      <th>  BIC:               </th> <td>   234.9</td>\n",
       "</tr>\n",
       "<tr>\n",
       "  <th>Df Model:</th>              <td>     2</td>      <th>                     </th>     <td> </td>   \n",
       "</tr>\n",
       "<tr>\n",
       "  <th>Covariance Type:</th>      <td>nonrobust</td>    <th>                     </th>     <td> </td>   \n",
       "</tr>\n",
       "</table>\n",
       "<table class=\"simpletable\">\n",
       "<tr>\n",
       "       <td></td>          <th>coef</th>     <th>std err</th>      <th>t</th>      <th>P>|t|</th>  <th>[0.025</th>    <th>0.975]</th>  \n",
       "</tr>\n",
       "<tr>\n",
       "  <th>Intercept</th>   <td>  -69.4325</td> <td>   46.035</td> <td>   -1.508</td> <td> 0.151</td> <td> -167.022</td> <td>   28.157</td>\n",
       "</tr>\n",
       "<tr>\n",
       "  <th>gdpn_tj</th>     <td>    0.0947</td> <td>    0.005</td> <td>   20.372</td> <td> 0.000</td> <td>    0.085</td> <td>    0.105</td>\n",
       "</tr>\n",
       "<tr>\n",
       "  <th>d_taxn_tj_2</th> <td>   31.6849</td> <td>   79.294</td> <td>    0.400</td> <td> 0.695</td> <td> -136.410</td> <td>  199.780</td>\n",
       "</tr>\n",
       "</table>\n",
       "<table class=\"simpletable\">\n",
       "<tr>\n",
       "  <th>Omnibus:</th>       <td>39.765</td> <th>  Durbin-Watson:     </th> <td>   1.350</td>\n",
       "</tr>\n",
       "<tr>\n",
       "  <th>Prob(Omnibus):</th> <td> 0.000</td> <th>  Jarque-Bera (JB):  </th> <td> 114.465</td>\n",
       "</tr>\n",
       "<tr>\n",
       "  <th>Skew:</th>          <td> 3.200</td> <th>  Prob(JB):          </th> <td>1.39e-25</td>\n",
       "</tr>\n",
       "<tr>\n",
       "  <th>Kurtosis:</th>      <td>13.180</td> <th>  Cond. No.          </th> <td>4.01e+04</td>\n",
       "</tr>\n",
       "</table><br/><br/>Warnings:<br/>[1] Standard Errors assume that the covariance matrix of the errors is correctly specified.<br/>[2] The condition number is large, 4.01e+04. This might indicate that there are<br/>strong multicollinearity or other numerical problems."
      ],
      "text/plain": [
       "<class 'statsmodels.iolib.summary.Summary'>\n",
       "\"\"\"\n",
       "                            OLS Regression Results                            \n",
       "==============================================================================\n",
       "Dep. Variable:               taxn_tj2   R-squared:                       0.974\n",
       "Model:                            OLS   Adj. R-squared:                  0.971\n",
       "Method:                 Least Squares   F-statistic:                     304.5\n",
       "Date:                Fri, 10 Jul 2020   Prob (F-statistic):           1.84e-13\n",
       "Time:                        10:02:12   Log-Likelihood:                -113.01\n",
       "No. Observations:                  19   AIC:                             232.0\n",
       "Df Residuals:                      16   BIC:                             234.9\n",
       "Df Model:                           2                                         \n",
       "Covariance Type:            nonrobust                                         \n",
       "===============================================================================\n",
       "                  coef    std err          t      P>|t|      [0.025      0.975]\n",
       "-------------------------------------------------------------------------------\n",
       "Intercept     -69.4325     46.035     -1.508      0.151    -167.022      28.157\n",
       "gdpn_tj         0.0947      0.005     20.372      0.000       0.085       0.105\n",
       "d_taxn_tj_2    31.6849     79.294      0.400      0.695    -136.410     199.780\n",
       "==============================================================================\n",
       "Omnibus:                       39.765   Durbin-Watson:                   1.350\n",
       "Prob(Omnibus):                  0.000   Jarque-Bera (JB):              114.465\n",
       "Skew:                           3.200   Prob(JB):                     1.39e-25\n",
       "Kurtosis:                      13.180   Cond. No.                     4.01e+04\n",
       "==============================================================================\n",
       "\n",
       "Warnings:\n",
       "[1] Standard Errors assume that the covariance matrix of the errors is correctly specified.\n",
       "[2] The condition number is large, 4.01e+04. This might indicate that there are\n",
       "strong multicollinearity or other numerical problems.\n",
       "\"\"\""
      ]
     },
     "execution_count": 133,
     "metadata": {},
     "output_type": "execute_result"
    }
   ],
   "source": [
    "results = sm.ols(formula = \"taxn_tj2 ~ gdpn_tj+ d_taxn_tj_2 \",data = test1 ).fit()\n",
    "results.summary()"
   ]
  },
  {
   "cell_type": "markdown",
   "metadata": {},
   "source": [
    "## Eq152 : taxn_tj 定义方程式\n",
    "taxn_tj  = (taxn_tj1  + taxn_tj2)  / 2"
   ]
  },
  {
   "cell_type": "code",
   "execution_count": 135,
   "metadata": {
    "ExecuteTime": {
     "end_time": "2020-07-10T10:03:18.720921Z",
     "start_time": "2020-07-10T10:03:18.659888Z"
    }
   },
   "outputs": [
    {
     "data": {
      "text/html": [
       "<div>\n",
       "<style scoped>\n",
       "    .dataframe tbody tr th:only-of-type {\n",
       "        vertical-align: middle;\n",
       "    }\n",
       "\n",
       "    .dataframe tbody tr th {\n",
       "        vertical-align: top;\n",
       "    }\n",
       "\n",
       "    .dataframe thead th {\n",
       "        text-align: right;\n",
       "    }\n",
       "</style>\n",
       "<table border=\"1\" class=\"dataframe\">\n",
       "  <thead>\n",
       "    <tr style=\"text-align: right;\">\n",
       "      <th></th>\n",
       "      <th>taxn_tj</th>\n",
       "      <th>taxn_tj1</th>\n",
       "      <th>taxn_tj2</th>\n",
       "      <th>预测</th>\n",
       "    </tr>\n",
       "  </thead>\n",
       "  <tbody>\n",
       "    <tr>\n",
       "      <th>2019</th>\n",
       "      <td>1634.2</td>\n",
       "      <td>1634.2</td>\n",
       "      <td>1634.2</td>\n",
       "      <td>1634.2</td>\n",
       "    </tr>\n",
       "    <tr>\n",
       "      <th>2020</th>\n",
       "      <td>NaN</td>\n",
       "      <td>NaN</td>\n",
       "      <td>NaN</td>\n",
       "      <td>NaN</td>\n",
       "    </tr>\n",
       "  </tbody>\n",
       "</table>\n",
       "</div>"
      ],
      "text/plain": [
       "      taxn_tj  taxn_tj1  taxn_tj2      预测\n",
       "2019   1634.2    1634.2    1634.2  1634.2\n",
       "2020      NaN       NaN       NaN     NaN"
      ]
     },
     "execution_count": 135,
     "metadata": {},
     "output_type": "execute_result"
    }
   ],
   "source": [
    "test1 = df_ev[[\"taxn_tj\",\"taxn_tj1\",\"taxn_tj2\"]]\n",
    "test1[\"预测\"] = (test1[\"taxn_tj1\"] + test1[\"taxn_tj2\"])/2\n",
    "test1.tail(2)"
   ]
  },
  {
   "cell_type": "markdown",
   "metadata": {},
   "source": [
    "## Eq153 : tax_vadn_tj 行为方程式  ok\n",
    "log(tax_vadn_tj)  = @coef(1)  + @coef(2) * log(gdpn_tj)  + @coef(3) * log(tax_vadn_tj(-1))  + @coef(4) * d_tax_vadn_tj"
   ]
  },
  {
   "cell_type": "code",
   "execution_count": 140,
   "metadata": {
    "ExecuteTime": {
     "end_time": "2020-07-10T10:06:02.760062Z",
     "start_time": "2020-07-10T10:06:02.650639Z"
    }
   },
   "outputs": [
    {
     "data": {
      "text/html": [
       "<div>\n",
       "<style scoped>\n",
       "    .dataframe tbody tr th:only-of-type {\n",
       "        vertical-align: middle;\n",
       "    }\n",
       "\n",
       "    .dataframe tbody tr th {\n",
       "        vertical-align: top;\n",
       "    }\n",
       "\n",
       "    .dataframe thead th {\n",
       "        text-align: right;\n",
       "    }\n",
       "</style>\n",
       "<table border=\"1\" class=\"dataframe\">\n",
       "  <thead>\n",
       "    <tr style=\"text-align: right;\">\n",
       "      <th></th>\n",
       "      <th>tax_vadn_tj</th>\n",
       "      <th>gdpn_tj</th>\n",
       "      <th>d_tax_vadn_tj</th>\n",
       "      <th>tax_vadn_tj_s1</th>\n",
       "      <th>log_tax_vadn</th>\n",
       "    </tr>\n",
       "  </thead>\n",
       "  <tbody>\n",
       "    <tr>\n",
       "      <th>1997</th>\n",
       "      <td>17.30</td>\n",
       "      <td>1264.63</td>\n",
       "      <td>0.0</td>\n",
       "      <td>17.25</td>\n",
       "      <td>2.850707</td>\n",
       "    </tr>\n",
       "    <tr>\n",
       "      <th>1998</th>\n",
       "      <td>18.99</td>\n",
       "      <td>1374.60</td>\n",
       "      <td>0.0</td>\n",
       "      <td>17.30</td>\n",
       "      <td>2.943913</td>\n",
       "    </tr>\n",
       "  </tbody>\n",
       "</table>\n",
       "</div>"
      ],
      "text/plain": [
       "      tax_vadn_tj  gdpn_tj  d_tax_vadn_tj  tax_vadn_tj_s1  log_tax_vadn\n",
       "1997        17.30  1264.63            0.0           17.25      2.850707\n",
       "1998        18.99  1374.60            0.0           17.30      2.943913"
      ]
     },
     "execution_count": 140,
     "metadata": {},
     "output_type": "execute_result"
    }
   ],
   "source": [
    "test1 = df_ev[[\"tax_vadn_tj\",\"gdpn_tj\",\"d_tax_vadn_tj\"]]\n",
    "test1[\"tax_vadn_tj_s1\"] = test1[\"tax_vadn_tj\"].shift(1)\n",
    "test1[\"log_tax_vadn\"] = np.log(test1[\"tax_vadn_tj\"])\n",
    "test1 = test1[(test1.index>1996) & (test1.index <2019)]\n",
    "test1.head(2)"
   ]
  },
  {
   "cell_type": "code",
   "execution_count": 141,
   "metadata": {
    "ExecuteTime": {
     "end_time": "2020-07-10T10:06:04.233044Z",
     "start_time": "2020-07-10T10:06:04.207642Z"
    }
   },
   "outputs": [
    {
     "data": {
      "text/html": [
       "<table class=\"simpletable\">\n",
       "<caption>OLS Regression Results</caption>\n",
       "<tr>\n",
       "  <th>Dep. Variable:</th>    <td>np.log(tax_vadn_tj)</td> <th>  R-squared:         </th> <td>   0.996</td>\n",
       "</tr>\n",
       "<tr>\n",
       "  <th>Model:</th>                    <td>OLS</td>         <th>  Adj. R-squared:    </th> <td>   0.995</td>\n",
       "</tr>\n",
       "<tr>\n",
       "  <th>Method:</th>              <td>Least Squares</td>    <th>  F-statistic:       </th> <td>   1519.</td>\n",
       "</tr>\n",
       "<tr>\n",
       "  <th>Date:</th>              <td>Fri, 10 Jul 2020</td>   <th>  Prob (F-statistic):</th> <td>7.94e-22</td>\n",
       "</tr>\n",
       "<tr>\n",
       "  <th>Time:</th>                  <td>10:06:04</td>       <th>  Log-Likelihood:    </th> <td>  27.781</td>\n",
       "</tr>\n",
       "<tr>\n",
       "  <th>No. Observations:</th>       <td>    22</td>        <th>  AIC:               </th> <td>  -47.56</td>\n",
       "</tr>\n",
       "<tr>\n",
       "  <th>Df Residuals:</th>           <td>    18</td>        <th>  BIC:               </th> <td>  -43.20</td>\n",
       "</tr>\n",
       "<tr>\n",
       "  <th>Df Model:</th>               <td>     3</td>        <th>                     </th>     <td> </td>   \n",
       "</tr>\n",
       "<tr>\n",
       "  <th>Covariance Type:</th>       <td>nonrobust</td>      <th>                     </th>     <td> </td>   \n",
       "</tr>\n",
       "</table>\n",
       "<table class=\"simpletable\">\n",
       "<tr>\n",
       "             <td></td>               <th>coef</th>     <th>std err</th>      <th>t</th>      <th>P>|t|</th>  <th>[0.025</th>    <th>0.975]</th>  \n",
       "</tr>\n",
       "<tr>\n",
       "  <th>Intercept</th>              <td>   -0.5962</td> <td>    0.330</td> <td>   -1.807</td> <td> 0.088</td> <td>   -1.289</td> <td>    0.097</td>\n",
       "</tr>\n",
       "<tr>\n",
       "  <th>np.log(gdpn_tj)</th>        <td>    0.1542</td> <td>    0.066</td> <td>    2.324</td> <td> 0.032</td> <td>    0.015</td> <td>    0.294</td>\n",
       "</tr>\n",
       "<tr>\n",
       "  <th>np.log(tax_vadn_tj_s1)</th> <td>    0.8685</td> <td>    0.059</td> <td>   14.623</td> <td> 0.000</td> <td>    0.744</td> <td>    0.993</td>\n",
       "</tr>\n",
       "<tr>\n",
       "  <th>d_tax_vadn_tj</th>          <td>    0.3501</td> <td>    0.033</td> <td>   10.480</td> <td> 0.000</td> <td>    0.280</td> <td>    0.420</td>\n",
       "</tr>\n",
       "</table>\n",
       "<table class=\"simpletable\">\n",
       "<tr>\n",
       "  <th>Omnibus:</th>       <td> 0.732</td> <th>  Durbin-Watson:     </th> <td>   1.680</td>\n",
       "</tr>\n",
       "<tr>\n",
       "  <th>Prob(Omnibus):</th> <td> 0.694</td> <th>  Jarque-Bera (JB):  </th> <td>   0.118</td>\n",
       "</tr>\n",
       "<tr>\n",
       "  <th>Skew:</th>          <td>-0.161</td> <th>  Prob(JB):          </th> <td>   0.943</td>\n",
       "</tr>\n",
       "<tr>\n",
       "  <th>Kurtosis:</th>      <td> 3.158</td> <th>  Cond. No.          </th> <td>    207.</td>\n",
       "</tr>\n",
       "</table><br/><br/>Warnings:<br/>[1] Standard Errors assume that the covariance matrix of the errors is correctly specified."
      ],
      "text/plain": [
       "<class 'statsmodels.iolib.summary.Summary'>\n",
       "\"\"\"\n",
       "                             OLS Regression Results                            \n",
       "===============================================================================\n",
       "Dep. Variable:     np.log(tax_vadn_tj)   R-squared:                       0.996\n",
       "Model:                             OLS   Adj. R-squared:                  0.995\n",
       "Method:                  Least Squares   F-statistic:                     1519.\n",
       "Date:                 Fri, 10 Jul 2020   Prob (F-statistic):           7.94e-22\n",
       "Time:                         10:06:04   Log-Likelihood:                 27.781\n",
       "No. Observations:                   22   AIC:                            -47.56\n",
       "Df Residuals:                       18   BIC:                            -43.20\n",
       "Df Model:                            3                                         \n",
       "Covariance Type:             nonrobust                                         \n",
       "==========================================================================================\n",
       "                             coef    std err          t      P>|t|      [0.025      0.975]\n",
       "------------------------------------------------------------------------------------------\n",
       "Intercept                 -0.5962      0.330     -1.807      0.088      -1.289       0.097\n",
       "np.log(gdpn_tj)            0.1542      0.066      2.324      0.032       0.015       0.294\n",
       "np.log(tax_vadn_tj_s1)     0.8685      0.059     14.623      0.000       0.744       0.993\n",
       "d_tax_vadn_tj              0.3501      0.033     10.480      0.000       0.280       0.420\n",
       "==============================================================================\n",
       "Omnibus:                        0.732   Durbin-Watson:                   1.680\n",
       "Prob(Omnibus):                  0.694   Jarque-Bera (JB):                0.118\n",
       "Skew:                          -0.161   Prob(JB):                        0.943\n",
       "Kurtosis:                       3.158   Cond. No.                         207.\n",
       "==============================================================================\n",
       "\n",
       "Warnings:\n",
       "[1] Standard Errors assume that the covariance matrix of the errors is correctly specified.\n",
       "\"\"\""
      ]
     },
     "execution_count": 141,
     "metadata": {},
     "output_type": "execute_result"
    }
   ],
   "source": [
    "results = sm.ols(formula = \"np.log(tax_vadn_tj) ~ np.log(gdpn_tj) + np.log(tax_vadn_tj_s1) + d_tax_vadn_tj \",data = test1 ).fit()\n",
    "results.summary()"
   ]
  },
  {
   "cell_type": "markdown",
   "metadata": {},
   "source": [
    "## Eq154 : tax_cinn_tj 行为方程 ok\n",
    "tax_cinn_tj  = @coef(1)  + @coef(2) * gdpn_tj  + @coef(3) * tax_cinn_tj(-1)"
   ]
  },
  {
   "cell_type": "code",
   "execution_count": 5,
   "metadata": {
    "ExecuteTime": {
     "end_time": "2020-07-13T03:58:30.956049Z",
     "start_time": "2020-07-13T03:58:30.847954Z"
    }
   },
   "outputs": [
    {
     "data": {
      "text/html": [
       "<div>\n",
       "<style scoped>\n",
       "    .dataframe tbody tr th:only-of-type {\n",
       "        vertical-align: middle;\n",
       "    }\n",
       "\n",
       "    .dataframe tbody tr th {\n",
       "        vertical-align: top;\n",
       "    }\n",
       "\n",
       "    .dataframe thead th {\n",
       "        text-align: right;\n",
       "    }\n",
       "</style>\n",
       "<table border=\"1\" class=\"dataframe\">\n",
       "  <thead>\n",
       "    <tr style=\"text-align: right;\">\n",
       "      <th></th>\n",
       "      <th>tax_cinn_tj</th>\n",
       "      <th>gdpn_tj</th>\n",
       "      <th>tax_cinn_tj_s1</th>\n",
       "    </tr>\n",
       "  </thead>\n",
       "  <tbody>\n",
       "    <tr>\n",
       "      <th>1997</th>\n",
       "      <td>21.48</td>\n",
       "      <td>1264.63</td>\n",
       "      <td>19.06</td>\n",
       "    </tr>\n",
       "    <tr>\n",
       "      <th>1998</th>\n",
       "      <td>20.34</td>\n",
       "      <td>1374.60</td>\n",
       "      <td>21.48</td>\n",
       "    </tr>\n",
       "  </tbody>\n",
       "</table>\n",
       "</div>"
      ],
      "text/plain": [
       "      tax_cinn_tj  gdpn_tj  tax_cinn_tj_s1\n",
       "1997        21.48  1264.63           19.06\n",
       "1998        20.34  1374.60           21.48"
      ]
     },
     "execution_count": 5,
     "metadata": {},
     "output_type": "execute_result"
    }
   ],
   "source": [
    "test1 = df_ev[[\"tax_cinn_tj\",\"gdpn_tj\"]]\n",
    "test1[\"tax_cinn_tj_s1\"] = test1[\"tax_cinn_tj\"].shift(1)\n",
    "test1 = test1[(test1.index>1996) & (test1.index <2019)]\n",
    "test1.head(2)"
   ]
  },
  {
   "cell_type": "code",
   "execution_count": 6,
   "metadata": {
    "ExecuteTime": {
     "end_time": "2020-07-13T03:58:37.336464Z",
     "start_time": "2020-07-13T03:58:37.293206Z"
    }
   },
   "outputs": [
    {
     "data": {
      "text/html": [
       "<table class=\"simpletable\">\n",
       "<caption>OLS Regression Results</caption>\n",
       "<tr>\n",
       "  <th>Dep. Variable:</th>       <td>tax_cinn_tj</td>   <th>  R-squared:         </th> <td>   0.991</td>\n",
       "</tr>\n",
       "<tr>\n",
       "  <th>Model:</th>                   <td>OLS</td>       <th>  Adj. R-squared:    </th> <td>   0.990</td>\n",
       "</tr>\n",
       "<tr>\n",
       "  <th>Method:</th>             <td>Least Squares</td>  <th>  F-statistic:       </th> <td>   1056.</td>\n",
       "</tr>\n",
       "<tr>\n",
       "  <th>Date:</th>             <td>Mon, 13 Jul 2020</td> <th>  Prob (F-statistic):</th> <td>3.35e-20</td>\n",
       "</tr>\n",
       "<tr>\n",
       "  <th>Time:</th>                 <td>03:58:37</td>     <th>  Log-Likelihood:    </th> <td> -81.204</td>\n",
       "</tr>\n",
       "<tr>\n",
       "  <th>No. Observations:</th>      <td>    22</td>      <th>  AIC:               </th> <td>   168.4</td>\n",
       "</tr>\n",
       "<tr>\n",
       "  <th>Df Residuals:</th>          <td>    19</td>      <th>  BIC:               </th> <td>   171.7</td>\n",
       "</tr>\n",
       "<tr>\n",
       "  <th>Df Model:</th>              <td>     2</td>      <th>                     </th>     <td> </td>   \n",
       "</tr>\n",
       "<tr>\n",
       "  <th>Covariance Type:</th>      <td>nonrobust</td>    <th>                     </th>     <td> </td>   \n",
       "</tr>\n",
       "</table>\n",
       "<table class=\"simpletable\">\n",
       "<tr>\n",
       "         <td></td>           <th>coef</th>     <th>std err</th>      <th>t</th>      <th>P>|t|</th>  <th>[0.025</th>    <th>0.975]</th>  \n",
       "</tr>\n",
       "<tr>\n",
       "  <th>Intercept</th>      <td>   -3.4952</td> <td>    3.979</td> <td>   -0.878</td> <td> 0.391</td> <td>  -11.823</td> <td>    4.833</td>\n",
       "</tr>\n",
       "<tr>\n",
       "  <th>gdpn_tj</th>        <td>    0.0089</td> <td>    0.002</td> <td>    4.655</td> <td> 0.000</td> <td>    0.005</td> <td>    0.013</td>\n",
       "</tr>\n",
       "<tr>\n",
       "  <th>tax_cinn_tj_s1</th> <td>    0.4892</td> <td>    0.126</td> <td>    3.869</td> <td> 0.001</td> <td>    0.225</td> <td>    0.754</td>\n",
       "</tr>\n",
       "</table>\n",
       "<table class=\"simpletable\">\n",
       "<tr>\n",
       "  <th>Omnibus:</th>       <td> 0.497</td> <th>  Durbin-Watson:     </th> <td>   2.041</td>\n",
       "</tr>\n",
       "<tr>\n",
       "  <th>Prob(Omnibus):</th> <td> 0.780</td> <th>  Jarque-Bera (JB):  </th> <td>   0.130</td>\n",
       "</tr>\n",
       "<tr>\n",
       "  <th>Skew:</th>          <td> 0.188</td> <th>  Prob(JB):          </th> <td>   0.937</td>\n",
       "</tr>\n",
       "<tr>\n",
       "  <th>Kurtosis:</th>      <td> 2.977</td> <th>  Cond. No.          </th> <td>1.85e+04</td>\n",
       "</tr>\n",
       "</table><br/><br/>Warnings:<br/>[1] Standard Errors assume that the covariance matrix of the errors is correctly specified.<br/>[2] The condition number is large, 1.85e+04. This might indicate that there are<br/>strong multicollinearity or other numerical problems."
      ],
      "text/plain": [
       "<class 'statsmodels.iolib.summary.Summary'>\n",
       "\"\"\"\n",
       "                            OLS Regression Results                            \n",
       "==============================================================================\n",
       "Dep. Variable:            tax_cinn_tj   R-squared:                       0.991\n",
       "Model:                            OLS   Adj. R-squared:                  0.990\n",
       "Method:                 Least Squares   F-statistic:                     1056.\n",
       "Date:                Mon, 13 Jul 2020   Prob (F-statistic):           3.35e-20\n",
       "Time:                        03:58:37   Log-Likelihood:                -81.204\n",
       "No. Observations:                  22   AIC:                             168.4\n",
       "Df Residuals:                      19   BIC:                             171.7\n",
       "Df Model:                           2                                         \n",
       "Covariance Type:            nonrobust                                         \n",
       "==================================================================================\n",
       "                     coef    std err          t      P>|t|      [0.025      0.975]\n",
       "----------------------------------------------------------------------------------\n",
       "Intercept         -3.4952      3.979     -0.878      0.391     -11.823       4.833\n",
       "gdpn_tj            0.0089      0.002      4.655      0.000       0.005       0.013\n",
       "tax_cinn_tj_s1     0.4892      0.126      3.869      0.001       0.225       0.754\n",
       "==============================================================================\n",
       "Omnibus:                        0.497   Durbin-Watson:                   2.041\n",
       "Prob(Omnibus):                  0.780   Jarque-Bera (JB):                0.130\n",
       "Skew:                           0.188   Prob(JB):                        0.937\n",
       "Kurtosis:                       2.977   Cond. No.                     1.85e+04\n",
       "==============================================================================\n",
       "\n",
       "Warnings:\n",
       "[1] Standard Errors assume that the covariance matrix of the errors is correctly specified.\n",
       "[2] The condition number is large, 1.85e+04. This might indicate that there are\n",
       "strong multicollinearity or other numerical problems.\n",
       "\"\"\""
      ]
     },
     "execution_count": 6,
     "metadata": {},
     "output_type": "execute_result"
    }
   ],
   "source": [
    "results = sm.ols(formula = \"tax_cinn_tj ~ gdpn_tj+ tax_cinn_tj_s1 \",data = test1 ).fit()\n",
    "results.summary()"
   ]
  },
  {
   "cell_type": "markdown",
   "metadata": {},
   "source": [
    "## Eq155 ： tax_pinn_tj 行为方程\n",
    "tax_pinn_tj  = @coef(1)  + @coef(2) * yht_n_tj  + @coef(3) * tax_pinn_tj(-1) + @coef(4) * d_tax_pinn_tj"
   ]
  },
  {
   "cell_type": "code",
   "execution_count": 7,
   "metadata": {
    "ExecuteTime": {
     "end_time": "2020-07-13T04:00:26.585176Z",
     "start_time": "2020-07-13T04:00:26.526246Z"
    }
   },
   "outputs": [
    {
     "data": {
      "text/html": [
       "<div>\n",
       "<style scoped>\n",
       "    .dataframe tbody tr th:only-of-type {\n",
       "        vertical-align: middle;\n",
       "    }\n",
       "\n",
       "    .dataframe tbody tr th {\n",
       "        vertical-align: top;\n",
       "    }\n",
       "\n",
       "    .dataframe thead th {\n",
       "        text-align: right;\n",
       "    }\n",
       "</style>\n",
       "<table border=\"1\" class=\"dataframe\">\n",
       "  <thead>\n",
       "    <tr style=\"text-align: right;\">\n",
       "      <th></th>\n",
       "      <th>tax_pinn_tj</th>\n",
       "      <th>yht_n_tj</th>\n",
       "      <th>d_tax_pinn_tj</th>\n",
       "      <th>tax_pinn_tj_s1</th>\n",
       "    </tr>\n",
       "  </thead>\n",
       "  <tbody>\n",
       "    <tr>\n",
       "      <th>1997</th>\n",
       "      <td>6.49</td>\n",
       "      <td>NaN</td>\n",
       "      <td>0</td>\n",
       "      <td>5.30</td>\n",
       "    </tr>\n",
       "    <tr>\n",
       "      <th>1998</th>\n",
       "      <td>7.91</td>\n",
       "      <td>NaN</td>\n",
       "      <td>0</td>\n",
       "      <td>6.49</td>\n",
       "    </tr>\n",
       "  </tbody>\n",
       "</table>\n",
       "</div>"
      ],
      "text/plain": [
       "      tax_pinn_tj  yht_n_tj  d_tax_pinn_tj  tax_pinn_tj_s1\n",
       "1997         6.49       NaN              0            5.30\n",
       "1998         7.91       NaN              0            6.49"
      ]
     },
     "execution_count": 7,
     "metadata": {},
     "output_type": "execute_result"
    }
   ],
   "source": [
    "test1 = df_ev[[\"tax_pinn_tj\",\"yht_n_tj\",\"d_tax_pinn_tj\"]]\n",
    "test1[\"tax_pinn_tj_s1\"] = test1[\"tax_pinn_tj\"].shift(1)\n",
    "test1 = test1[(test1.index>1996) & (test1.index <2019)]\n",
    "test1.head(2)"
   ]
  },
  {
   "cell_type": "code",
   "execution_count": 8,
   "metadata": {
    "ExecuteTime": {
     "end_time": "2020-07-13T04:00:28.005072Z",
     "start_time": "2020-07-13T04:00:27.979580Z"
    }
   },
   "outputs": [
    {
     "data": {
      "text/html": [
       "<table class=\"simpletable\">\n",
       "<caption>OLS Regression Results</caption>\n",
       "<tr>\n",
       "  <th>Dep. Variable:</th>       <td>tax_pinn_tj</td>   <th>  R-squared:         </th> <td>   0.995</td>\n",
       "</tr>\n",
       "<tr>\n",
       "  <th>Model:</th>                   <td>OLS</td>       <th>  Adj. R-squared:    </th> <td>   0.994</td>\n",
       "</tr>\n",
       "<tr>\n",
       "  <th>Method:</th>             <td>Least Squares</td>  <th>  F-statistic:       </th> <td>   715.5</td>\n",
       "</tr>\n",
       "<tr>\n",
       "  <th>Date:</th>             <td>Mon, 13 Jul 2020</td> <th>  Prob (F-statistic):</th> <td>5.79e-12</td>\n",
       "</tr>\n",
       "<tr>\n",
       "  <th>Time:</th>                 <td>04:00:27</td>     <th>  Log-Likelihood:    </th> <td> -31.540</td>\n",
       "</tr>\n",
       "<tr>\n",
       "  <th>No. Observations:</th>      <td>    14</td>      <th>  AIC:               </th> <td>   71.08</td>\n",
       "</tr>\n",
       "<tr>\n",
       "  <th>Df Residuals:</th>          <td>    10</td>      <th>  BIC:               </th> <td>   73.64</td>\n",
       "</tr>\n",
       "<tr>\n",
       "  <th>Df Model:</th>              <td>     3</td>      <th>                     </th>     <td> </td>   \n",
       "</tr>\n",
       "<tr>\n",
       "  <th>Covariance Type:</th>      <td>nonrobust</td>    <th>                     </th>     <td> </td>   \n",
       "</tr>\n",
       "</table>\n",
       "<table class=\"simpletable\">\n",
       "<tr>\n",
       "         <td></td>           <th>coef</th>     <th>std err</th>      <th>t</th>      <th>P>|t|</th>  <th>[0.025</th>    <th>0.975]</th>  \n",
       "</tr>\n",
       "<tr>\n",
       "  <th>Intercept</th>      <td>   -0.1091</td> <td>    1.740</td> <td>   -0.063</td> <td> 0.951</td> <td>   -3.987</td> <td>    3.769</td>\n",
       "</tr>\n",
       "<tr>\n",
       "  <th>yht_n_tj</th>       <td>    0.0035</td> <td>    0.002</td> <td>    1.865</td> <td> 0.092</td> <td>   -0.001</td> <td>    0.008</td>\n",
       "</tr>\n",
       "<tr>\n",
       "  <th>tax_pinn_tj_s1</th> <td>    0.9476</td> <td>    0.107</td> <td>    8.820</td> <td> 0.000</td> <td>    0.708</td> <td>    1.187</td>\n",
       "</tr>\n",
       "<tr>\n",
       "  <th>d_tax_pinn_tj</th>  <td>    5.8034</td> <td>    1.414</td> <td>    4.104</td> <td> 0.002</td> <td>    2.652</td> <td>    8.954</td>\n",
       "</tr>\n",
       "</table>\n",
       "<table class=\"simpletable\">\n",
       "<tr>\n",
       "  <th>Omnibus:</th>       <td> 1.555</td> <th>  Durbin-Watson:     </th> <td>   2.634</td>\n",
       "</tr>\n",
       "<tr>\n",
       "  <th>Prob(Omnibus):</th> <td> 0.460</td> <th>  Jarque-Bera (JB):  </th> <td>   0.995</td>\n",
       "</tr>\n",
       "<tr>\n",
       "  <th>Skew:</th>          <td> 0.628</td> <th>  Prob(JB):          </th> <td>   0.608</td>\n",
       "</tr>\n",
       "<tr>\n",
       "  <th>Kurtosis:</th>      <td> 2.642</td> <th>  Cond. No.          </th> <td>9.05e+03</td>\n",
       "</tr>\n",
       "</table><br/><br/>Warnings:<br/>[1] Standard Errors assume that the covariance matrix of the errors is correctly specified.<br/>[2] The condition number is large, 9.05e+03. This might indicate that there are<br/>strong multicollinearity or other numerical problems."
      ],
      "text/plain": [
       "<class 'statsmodels.iolib.summary.Summary'>\n",
       "\"\"\"\n",
       "                            OLS Regression Results                            \n",
       "==============================================================================\n",
       "Dep. Variable:            tax_pinn_tj   R-squared:                       0.995\n",
       "Model:                            OLS   Adj. R-squared:                  0.994\n",
       "Method:                 Least Squares   F-statistic:                     715.5\n",
       "Date:                Mon, 13 Jul 2020   Prob (F-statistic):           5.79e-12\n",
       "Time:                        04:00:27   Log-Likelihood:                -31.540\n",
       "No. Observations:                  14   AIC:                             71.08\n",
       "Df Residuals:                      10   BIC:                             73.64\n",
       "Df Model:                           3                                         \n",
       "Covariance Type:            nonrobust                                         \n",
       "==================================================================================\n",
       "                     coef    std err          t      P>|t|      [0.025      0.975]\n",
       "----------------------------------------------------------------------------------\n",
       "Intercept         -0.1091      1.740     -0.063      0.951      -3.987       3.769\n",
       "yht_n_tj           0.0035      0.002      1.865      0.092      -0.001       0.008\n",
       "tax_pinn_tj_s1     0.9476      0.107      8.820      0.000       0.708       1.187\n",
       "d_tax_pinn_tj      5.8034      1.414      4.104      0.002       2.652       8.954\n",
       "==============================================================================\n",
       "Omnibus:                        1.555   Durbin-Watson:                   2.634\n",
       "Prob(Omnibus):                  0.460   Jarque-Bera (JB):                0.995\n",
       "Skew:                           0.628   Prob(JB):                        0.608\n",
       "Kurtosis:                       2.642   Cond. No.                     9.05e+03\n",
       "==============================================================================\n",
       "\n",
       "Warnings:\n",
       "[1] Standard Errors assume that the covariance matrix of the errors is correctly specified.\n",
       "[2] The condition number is large, 9.05e+03. This might indicate that there are\n",
       "strong multicollinearity or other numerical problems.\n",
       "\"\"\""
      ]
     },
     "execution_count": 8,
     "metadata": {},
     "output_type": "execute_result"
    }
   ],
   "source": [
    "results = sm.ols(formula = \"tax_pinn_tj ~ yht_n_tj+ tax_pinn_tj_s1 + d_tax_pinn_tj \",data = test1 ).fit()\n",
    "results.summary()"
   ]
  },
  {
   "cell_type": "markdown",
   "metadata": {},
   "source": [
    "## Eq156 ： fen_bj1 行为方程\n",
    "fen_tj1  = @coef(1)  + @coef(2) * frn_tj  + @coef(3) * d_fen_tj_1  + [ar(1) = @coef(4) , estsmpl = \"1998 2018\"]"
   ]
  },
  {
   "cell_type": "code",
   "execution_count": 15,
   "metadata": {
    "ExecuteTime": {
     "end_time": "2020-07-13T04:03:25.726542Z",
     "start_time": "2020-07-13T04:03:25.713673Z"
    }
   },
   "outputs": [
    {
     "data": {
      "text/html": [
       "<div>\n",
       "<style scoped>\n",
       "    .dataframe tbody tr th:only-of-type {\n",
       "        vertical-align: middle;\n",
       "    }\n",
       "\n",
       "    .dataframe tbody tr th {\n",
       "        vertical-align: top;\n",
       "    }\n",
       "\n",
       "    .dataframe thead th {\n",
       "        text-align: right;\n",
       "    }\n",
       "</style>\n",
       "<table border=\"1\" class=\"dataframe\">\n",
       "  <thead>\n",
       "    <tr style=\"text-align: right;\">\n",
       "      <th></th>\n",
       "      <th>fen_tj1</th>\n",
       "      <th>frn_tj</th>\n",
       "      <th>d_fen_tj_1</th>\n",
       "    </tr>\n",
       "  </thead>\n",
       "  <tbody>\n",
       "    <tr>\n",
       "      <th>1996</th>\n",
       "      <td>NaN</td>\n",
       "      <td>0.00</td>\n",
       "      <td>0.0</td>\n",
       "    </tr>\n",
       "    <tr>\n",
       "      <th>1997</th>\n",
       "      <td>122.78</td>\n",
       "      <td>89.91</td>\n",
       "      <td>0.0</td>\n",
       "    </tr>\n",
       "  </tbody>\n",
       "</table>\n",
       "</div>"
      ],
      "text/plain": [
       "      fen_tj1  frn_tj  d_fen_tj_1\n",
       "1996      NaN    0.00         0.0\n",
       "1997   122.78   89.91         0.0"
      ]
     },
     "execution_count": 15,
     "metadata": {},
     "output_type": "execute_result"
    }
   ],
   "source": [
    "test1 = df_ev[[\"fen_tj1\",\"frn_tj\",\"d_fen_tj_1\"]]\n",
    "test1.head(2)"
   ]
  },
  {
   "cell_type": "code",
   "execution_count": 16,
   "metadata": {
    "ExecuteTime": {
     "end_time": "2020-07-13T04:03:27.068355Z",
     "start_time": "2020-07-13T04:03:26.861119Z"
    }
   },
   "outputs": [
    {
     "data": {
      "text/html": [
       "<table class=\"simpletable\">\n",
       "<caption>SARIMAX Results</caption>\n",
       "<tr>\n",
       "  <th>Dep. Variable:</th>        <td>fen_tj1</td>     <th>  No. Observations:  </th>    <td>21</td>   \n",
       "</tr>\n",
       "<tr>\n",
       "  <th>Model:</th>           <td>SARIMAX(1, 0, 0)</td> <th>  Log Likelihood     </th> <td>-113.628</td>\n",
       "</tr>\n",
       "<tr>\n",
       "  <th>Date:</th>            <td>Mon, 13 Jul 2020</td> <th>  AIC                </th>  <td>237.256</td>\n",
       "</tr>\n",
       "<tr>\n",
       "  <th>Time:</th>                <td>04:03:27</td>     <th>  BIC                </th>  <td>242.235</td>\n",
       "</tr>\n",
       "<tr>\n",
       "  <th>Sample:</th>                  <td>0</td>        <th>  HQIC               </th>  <td>238.228</td>\n",
       "</tr>\n",
       "<tr>\n",
       "  <th></th>                       <td> - 21</td>      <th>                     </th>     <td> </td>   \n",
       "</tr>\n",
       "<tr>\n",
       "  <th>Covariance Type:</th>        <td>opg</td>       <th>                     </th>     <td> </td>   \n",
       "</tr>\n",
       "</table>\n",
       "<table class=\"simpletable\">\n",
       "<tr>\n",
       "       <td></td>         <th>coef</th>     <th>std err</th>      <th>z</th>      <th>P>|z|</th>  <th>[0.025</th>    <th>0.975]</th>  \n",
       "</tr>\n",
       "<tr>\n",
       "  <th>intercept</th>  <td>   32.5399</td> <td>   74.326</td> <td>    0.438</td> <td> 0.662</td> <td> -113.136</td> <td>  178.216</td>\n",
       "</tr>\n",
       "<tr>\n",
       "  <th>frn_tj</th>     <td>    0.5816</td> <td>    0.102</td> <td>    5.692</td> <td> 0.000</td> <td>    0.381</td> <td>    0.782</td>\n",
       "</tr>\n",
       "<tr>\n",
       "  <th>d_fen_tj_1</th> <td>   70.8188</td> <td>    7.990</td> <td>    8.863</td> <td> 0.000</td> <td>   55.158</td> <td>   86.479</td>\n",
       "</tr>\n",
       "<tr>\n",
       "  <th>ar.L1</th>      <td>    1.0897</td> <td>    0.065</td> <td>   16.756</td> <td> 0.000</td> <td>    0.962</td> <td>    1.217</td>\n",
       "</tr>\n",
       "<tr>\n",
       "  <th>sigma2</th>     <td> 5010.5906</td> <td> 2807.723</td> <td>    1.785</td> <td> 0.074</td> <td> -492.446</td> <td> 1.05e+04</td>\n",
       "</tr>\n",
       "</table>\n",
       "<table class=\"simpletable\">\n",
       "<tr>\n",
       "  <th>Ljung-Box (Q):</th>          <td>5.42</td>  <th>  Jarque-Bera (JB):  </th> <td>0.08</td>\n",
       "</tr>\n",
       "<tr>\n",
       "  <th>Prob(Q):</th>                <td>1.00</td>  <th>  Prob(JB):          </th> <td>0.96</td>\n",
       "</tr>\n",
       "<tr>\n",
       "  <th>Heteroskedasticity (H):</th> <td>21.24</td> <th>  Skew:              </th> <td>0.16</td>\n",
       "</tr>\n",
       "<tr>\n",
       "  <th>Prob(H) (two-sided):</th>    <td>0.00</td>  <th>  Kurtosis:          </th> <td>3.04</td>\n",
       "</tr>\n",
       "</table><br/><br/>Warnings:<br/>[1] Covariance matrix calculated using the outer product of gradients (complex-step)."
      ],
      "text/plain": [
       "<class 'statsmodels.iolib.summary.Summary'>\n",
       "\"\"\"\n",
       "                               SARIMAX Results                                \n",
       "==============================================================================\n",
       "Dep. Variable:                fen_tj1   No. Observations:                   21\n",
       "Model:               SARIMAX(1, 0, 0)   Log Likelihood                -113.628\n",
       "Date:                Mon, 13 Jul 2020   AIC                            237.256\n",
       "Time:                        04:03:27   BIC                            242.235\n",
       "Sample:                             0   HQIC                           238.228\n",
       "                                 - 21                                         \n",
       "Covariance Type:                  opg                                         \n",
       "==============================================================================\n",
       "                 coef    std err          z      P>|z|      [0.025      0.975]\n",
       "------------------------------------------------------------------------------\n",
       "intercept     32.5399     74.326      0.438      0.662    -113.136     178.216\n",
       "frn_tj         0.5816      0.102      5.692      0.000       0.381       0.782\n",
       "d_fen_tj_1    70.8188      7.990      8.863      0.000      55.158      86.479\n",
       "ar.L1          1.0897      0.065     16.756      0.000       0.962       1.217\n",
       "sigma2      5010.5906   2807.723      1.785      0.074    -492.446    1.05e+04\n",
       "===================================================================================\n",
       "Ljung-Box (Q):                        5.42   Jarque-Bera (JB):                 0.08\n",
       "Prob(Q):                              1.00   Prob(JB):                         0.96\n",
       "Heteroskedasticity (H):              21.24   Skew:                             0.16\n",
       "Prob(H) (two-sided):                  0.00   Kurtosis:                         3.04\n",
       "===================================================================================\n",
       "\n",
       "Warnings:\n",
       "[1] Covariance matrix calculated using the outer product of gradients (complex-step).\n",
       "\"\"\""
      ]
     },
     "execution_count": 16,
     "metadata": {},
     "output_type": "execute_result"
    }
   ],
   "source": [
    "test1 = test1[(test1.index>1997) & (test1.index <2019)]\n",
    "ar = 1 \n",
    "ma = 0\n",
    "mod = SARIMAX(endog = test1[\"fen_tj1\"] , exog = test1[[\"frn_tj\",\"d_fen_tj_1\"]] ,order =(ar,0,ma),enforce_invertibility= False , trend = 'c', enforce_stationarity = False)\n",
    "results = mod.fit()\n",
    "results.summary() #results.summary().tables[1]"
   ]
  },
  {
   "cell_type": "markdown",
   "metadata": {},
   "source": [
    "## Eq157 ： fen_tj_2 行为方程 ok 数据源d_fen_tj_2 ？\n",
    "fen_tj2  = @coef(1)  + @coef(2) * (fe_edun_tj + fe_tecn_tj + fe_culn_tj + fe_ssen_tj + fe_medn_tj + fe_eepn_tj)  + @coef(3) * d_fen_tj_2"
   ]
  },
  {
   "cell_type": "code",
   "execution_count": 19,
   "metadata": {
    "ExecuteTime": {
     "end_time": "2020-07-13T04:06:36.473019Z",
     "start_time": "2020-07-13T04:06:36.402576Z"
    }
   },
   "outputs": [
    {
     "data": {
      "text/html": [
       "<div>\n",
       "<style scoped>\n",
       "    .dataframe tbody tr th:only-of-type {\n",
       "        vertical-align: middle;\n",
       "    }\n",
       "\n",
       "    .dataframe tbody tr th {\n",
       "        vertical-align: top;\n",
       "    }\n",
       "\n",
       "    .dataframe thead th {\n",
       "        text-align: right;\n",
       "    }\n",
       "</style>\n",
       "<table border=\"1\" class=\"dataframe\">\n",
       "  <thead>\n",
       "    <tr style=\"text-align: right;\">\n",
       "      <th></th>\n",
       "      <th>fen_tj2</th>\n",
       "      <th>fe_edun_tj</th>\n",
       "      <th>fe_tecn_tj</th>\n",
       "      <th>fe_culn_tj</th>\n",
       "      <th>fe_ssen_tj</th>\n",
       "      <th>fe_medn_tj</th>\n",
       "      <th>fe_eepn_tj</th>\n",
       "      <th>d_fen_tj_2</th>\n",
       "      <th>fen_sum</th>\n",
       "    </tr>\n",
       "  </thead>\n",
       "  <tbody>\n",
       "    <tr>\n",
       "      <th>2007</th>\n",
       "      <td>674.33</td>\n",
       "      <td>110.0248</td>\n",
       "      <td>22.3384</td>\n",
       "      <td>15.9616</td>\n",
       "      <td>79.5714</td>\n",
       "      <td>33.0964</td>\n",
       "      <td>58.0130</td>\n",
       "      <td>0</td>\n",
       "      <td>319.0056</td>\n",
       "    </tr>\n",
       "    <tr>\n",
       "      <th>2008</th>\n",
       "      <td>867.72</td>\n",
       "      <td>141.6985</td>\n",
       "      <td>28.6530</td>\n",
       "      <td>18.0120</td>\n",
       "      <td>105.7164</td>\n",
       "      <td>41.9156</td>\n",
       "      <td>10.9789</td>\n",
       "      <td>0</td>\n",
       "      <td>346.9744</td>\n",
       "    </tr>\n",
       "  </tbody>\n",
       "</table>\n",
       "</div>"
      ],
      "text/plain": [
       "      fen_tj2  fe_edun_tj  fe_tecn_tj  fe_culn_tj  fe_ssen_tj  fe_medn_tj  \\\n",
       "2007   674.33    110.0248     22.3384     15.9616     79.5714     33.0964   \n",
       "2008   867.72    141.6985     28.6530     18.0120    105.7164     41.9156   \n",
       "\n",
       "      fe_eepn_tj  d_fen_tj_2   fen_sum  \n",
       "2007     58.0130           0  319.0056  \n",
       "2008     10.9789           0  346.9744  "
      ]
     },
     "execution_count": 19,
     "metadata": {},
     "output_type": "execute_result"
    }
   ],
   "source": [
    "test1 = df_ev[[\"fen_tj2\",\"fe_edun_tj\",\"fe_tecn_tj\",\"fe_culn_tj\",\"fe_ssen_tj\",\"fe_medn_tj\",\"fe_eepn_tj\",\"d_fen_tj_2\"]]\n",
    "test1[\"fen_sum\"] = test1[[\"fe_edun_tj\",\"fe_tecn_tj\",\"fe_culn_tj\",\"fe_ssen_tj\",\"fe_medn_tj\",\"fe_eepn_tj\"]].sum(axis =1)\n",
    "test1 = test1[(test1.index>2006) & (test1.index <2019)]\n",
    "test1.head(2)"
   ]
  },
  {
   "cell_type": "code",
   "execution_count": 20,
   "metadata": {
    "ExecuteTime": {
     "end_time": "2020-07-13T04:06:37.720615Z",
     "start_time": "2020-07-13T04:06:37.697953Z"
    }
   },
   "outputs": [
    {
     "data": {
      "text/html": [
       "<table class=\"simpletable\">\n",
       "<caption>OLS Regression Results</caption>\n",
       "<tr>\n",
       "  <th>Dep. Variable:</th>         <td>fen_tj2</td>     <th>  R-squared:         </th> <td>   0.997</td>\n",
       "</tr>\n",
       "<tr>\n",
       "  <th>Model:</th>                   <td>OLS</td>       <th>  Adj. R-squared:    </th> <td>   0.996</td>\n",
       "</tr>\n",
       "<tr>\n",
       "  <th>Method:</th>             <td>Least Squares</td>  <th>  F-statistic:       </th> <td>   1385.</td>\n",
       "</tr>\n",
       "<tr>\n",
       "  <th>Date:</th>             <td>Mon, 13 Jul 2020</td> <th>  Prob (F-statistic):</th> <td>6.26e-12</td>\n",
       "</tr>\n",
       "<tr>\n",
       "  <th>Time:</th>                 <td>04:06:37</td>     <th>  Log-Likelihood:    </th> <td> -65.587</td>\n",
       "</tr>\n",
       "<tr>\n",
       "  <th>No. Observations:</th>      <td>    12</td>      <th>  AIC:               </th> <td>   137.2</td>\n",
       "</tr>\n",
       "<tr>\n",
       "  <th>Df Residuals:</th>          <td>     9</td>      <th>  BIC:               </th> <td>   138.6</td>\n",
       "</tr>\n",
       "<tr>\n",
       "  <th>Df Model:</th>              <td>     2</td>      <th>                     </th>     <td> </td>   \n",
       "</tr>\n",
       "<tr>\n",
       "  <th>Covariance Type:</th>      <td>nonrobust</td>    <th>                     </th>     <td> </td>   \n",
       "</tr>\n",
       "</table>\n",
       "<table class=\"simpletable\">\n",
       "<tr>\n",
       "       <td></td>         <th>coef</th>     <th>std err</th>      <th>t</th>      <th>P>|t|</th>  <th>[0.025</th>    <th>0.975]</th>  \n",
       "</tr>\n",
       "<tr>\n",
       "  <th>Intercept</th>  <td>   33.5474</td> <td>   46.566</td> <td>    0.720</td> <td> 0.490</td> <td>  -71.792</td> <td>  138.887</td>\n",
       "</tr>\n",
       "<tr>\n",
       "  <th>fen_sum</th>    <td>    2.4715</td> <td>    0.048</td> <td>   51.354</td> <td> 0.000</td> <td>    2.363</td> <td>    2.580</td>\n",
       "</tr>\n",
       "<tr>\n",
       "  <th>d_fen_tj_2</th> <td>  142.1044</td> <td>   18.430</td> <td>    7.711</td> <td> 0.000</td> <td>  100.413</td> <td>  183.796</td>\n",
       "</tr>\n",
       "</table>\n",
       "<table class=\"simpletable\">\n",
       "<tr>\n",
       "  <th>Omnibus:</th>       <td> 6.807</td> <th>  Durbin-Watson:     </th> <td>   0.836</td>\n",
       "</tr>\n",
       "<tr>\n",
       "  <th>Prob(Omnibus):</th> <td> 0.033</td> <th>  Jarque-Bera (JB):  </th> <td>   2.948</td>\n",
       "</tr>\n",
       "<tr>\n",
       "  <th>Skew:</th>          <td>-1.045</td> <th>  Prob(JB):          </th> <td>   0.229</td>\n",
       "</tr>\n",
       "<tr>\n",
       "  <th>Kurtosis:</th>      <td> 4.236</td> <th>  Cond. No.          </th> <td>2.37e+03</td>\n",
       "</tr>\n",
       "</table><br/><br/>Warnings:<br/>[1] Standard Errors assume that the covariance matrix of the errors is correctly specified.<br/>[2] The condition number is large, 2.37e+03. This might indicate that there are<br/>strong multicollinearity or other numerical problems."
      ],
      "text/plain": [
       "<class 'statsmodels.iolib.summary.Summary'>\n",
       "\"\"\"\n",
       "                            OLS Regression Results                            \n",
       "==============================================================================\n",
       "Dep. Variable:                fen_tj2   R-squared:                       0.997\n",
       "Model:                            OLS   Adj. R-squared:                  0.996\n",
       "Method:                 Least Squares   F-statistic:                     1385.\n",
       "Date:                Mon, 13 Jul 2020   Prob (F-statistic):           6.26e-12\n",
       "Time:                        04:06:37   Log-Likelihood:                -65.587\n",
       "No. Observations:                  12   AIC:                             137.2\n",
       "Df Residuals:                       9   BIC:                             138.6\n",
       "Df Model:                           2                                         \n",
       "Covariance Type:            nonrobust                                         \n",
       "==============================================================================\n",
       "                 coef    std err          t      P>|t|      [0.025      0.975]\n",
       "------------------------------------------------------------------------------\n",
       "Intercept     33.5474     46.566      0.720      0.490     -71.792     138.887\n",
       "fen_sum        2.4715      0.048     51.354      0.000       2.363       2.580\n",
       "d_fen_tj_2   142.1044     18.430      7.711      0.000     100.413     183.796\n",
       "==============================================================================\n",
       "Omnibus:                        6.807   Durbin-Watson:                   0.836\n",
       "Prob(Omnibus):                  0.033   Jarque-Bera (JB):                2.948\n",
       "Skew:                          -1.045   Prob(JB):                        0.229\n",
       "Kurtosis:                       4.236   Cond. No.                     2.37e+03\n",
       "==============================================================================\n",
       "\n",
       "Warnings:\n",
       "[1] Standard Errors assume that the covariance matrix of the errors is correctly specified.\n",
       "[2] The condition number is large, 2.37e+03. This might indicate that there are\n",
       "strong multicollinearity or other numerical problems.\n",
       "\"\"\""
      ]
     },
     "execution_count": 20,
     "metadata": {},
     "output_type": "execute_result"
    }
   ],
   "source": [
    "results = sm.ols(formula = \"fen_tj2 ~ fen_sum + d_fen_tj_2 \",data = test1 ).fit()\n",
    "results.summary()"
   ]
  },
  {
   "cell_type": "markdown",
   "metadata": {},
   "source": [
    "## Eq158 ： fen_tj 定义方程\n",
    "fen_tj  = (fen_tj1  + fen_tj2)  / 2"
   ]
  },
  {
   "cell_type": "code",
   "execution_count": 21,
   "metadata": {
    "ExecuteTime": {
     "end_time": "2020-07-13T04:08:00.944459Z",
     "start_time": "2020-07-13T04:08:00.873606Z"
    }
   },
   "outputs": [
    {
     "data": {
      "text/html": [
       "<div>\n",
       "<style scoped>\n",
       "    .dataframe tbody tr th:only-of-type {\n",
       "        vertical-align: middle;\n",
       "    }\n",
       "\n",
       "    .dataframe tbody tr th {\n",
       "        vertical-align: top;\n",
       "    }\n",
       "\n",
       "    .dataframe thead th {\n",
       "        text-align: right;\n",
       "    }\n",
       "</style>\n",
       "<table border=\"1\" class=\"dataframe\">\n",
       "  <thead>\n",
       "    <tr style=\"text-align: right;\">\n",
       "      <th></th>\n",
       "      <th>fen_tj</th>\n",
       "      <th>fen_tj1</th>\n",
       "      <th>fen_tj2</th>\n",
       "      <th>预测</th>\n",
       "    </tr>\n",
       "  </thead>\n",
       "  <tbody>\n",
       "    <tr>\n",
       "      <th>1996</th>\n",
       "      <td>0.00</td>\n",
       "      <td>NaN</td>\n",
       "      <td>NaN</td>\n",
       "      <td>NaN</td>\n",
       "    </tr>\n",
       "    <tr>\n",
       "      <th>1997</th>\n",
       "      <td>122.78</td>\n",
       "      <td>122.78</td>\n",
       "      <td>122.78</td>\n",
       "      <td>122.78</td>\n",
       "    </tr>\n",
       "  </tbody>\n",
       "</table>\n",
       "</div>"
      ],
      "text/plain": [
       "      fen_tj  fen_tj1  fen_tj2      预测\n",
       "1996    0.00      NaN      NaN     NaN\n",
       "1997  122.78   122.78   122.78  122.78"
      ]
     },
     "execution_count": 21,
     "metadata": {},
     "output_type": "execute_result"
    }
   ],
   "source": [
    "test1 = df_ev[[\"fen_tj\",\"fen_tj1\",\"fen_tj2\"]]\n",
    "test1[\"预测\"] = (test1[\"fen_tj1\"]+test1[\"fen_tj2\"])/2\n",
    "test1.head(2)"
   ]
  },
  {
   "cell_type": "markdown",
   "metadata": {},
   "source": [
    "## Eq159 :  depn_tj 行为方程  ok  \n",
    "log(depn_tj)  = @coef(1)  + @coef(2) * log(dep_san_tj)  + @coef(3) * log(depn_tj(-1))  + @coef(4) * d_depn_tj"
   ]
  },
  {
   "cell_type": "code",
   "execution_count": 22,
   "metadata": {
    "ExecuteTime": {
     "end_time": "2020-07-13T04:09:02.034486Z",
     "start_time": "2020-07-13T04:09:01.948087Z"
    }
   },
   "outputs": [
    {
     "data": {
      "text/html": [
       "<div>\n",
       "<style scoped>\n",
       "    .dataframe tbody tr th:only-of-type {\n",
       "        vertical-align: middle;\n",
       "    }\n",
       "\n",
       "    .dataframe tbody tr th {\n",
       "        vertical-align: top;\n",
       "    }\n",
       "\n",
       "    .dataframe thead th {\n",
       "        text-align: right;\n",
       "    }\n",
       "</style>\n",
       "<table border=\"1\" class=\"dataframe\">\n",
       "  <thead>\n",
       "    <tr style=\"text-align: right;\">\n",
       "      <th></th>\n",
       "      <th>depn_tj</th>\n",
       "      <th>dep_san_tj</th>\n",
       "      <th>d_depn_tj</th>\n",
       "      <th>depn_tj_s1</th>\n",
       "    </tr>\n",
       "  </thead>\n",
       "  <tbody>\n",
       "    <tr>\n",
       "      <th>2005</th>\n",
       "      <td>5716.09</td>\n",
       "      <td>2462.66</td>\n",
       "      <td>0.0</td>\n",
       "      <td>4750.28</td>\n",
       "    </tr>\n",
       "    <tr>\n",
       "      <th>2006</th>\n",
       "      <td>6564.47</td>\n",
       "      <td>2811.71</td>\n",
       "      <td>0.0</td>\n",
       "      <td>5716.09</td>\n",
       "    </tr>\n",
       "  </tbody>\n",
       "</table>\n",
       "</div>"
      ],
      "text/plain": [
       "      depn_tj  dep_san_tj  d_depn_tj  depn_tj_s1\n",
       "2005  5716.09     2462.66        0.0     4750.28\n",
       "2006  6564.47     2811.71        0.0     5716.09"
      ]
     },
     "execution_count": 22,
     "metadata": {},
     "output_type": "execute_result"
    }
   ],
   "source": [
    "test1 = df_ev[[\"depn_tj\",\"dep_san_tj\",\"d_depn_tj\"]]\n",
    "test1[\"depn_tj_s1\"] = test1[\"depn_tj\"].shift(1)\n",
    "test1 = test1[(test1.index>2004) & (test1.index <2019)]\n",
    "test1.head(2)"
   ]
  },
  {
   "cell_type": "code",
   "execution_count": 23,
   "metadata": {
    "ExecuteTime": {
     "end_time": "2020-07-13T04:09:03.215890Z",
     "start_time": "2020-07-13T04:09:03.189033Z"
    }
   },
   "outputs": [
    {
     "data": {
      "text/html": [
       "<table class=\"simpletable\">\n",
       "<caption>OLS Regression Results</caption>\n",
       "<tr>\n",
       "  <th>Dep. Variable:</th>     <td>np.log(depn_tj)</td> <th>  R-squared:         </th> <td>   0.998</td>\n",
       "</tr>\n",
       "<tr>\n",
       "  <th>Model:</th>                   <td>OLS</td>       <th>  Adj. R-squared:    </th> <td>   0.997</td>\n",
       "</tr>\n",
       "<tr>\n",
       "  <th>Method:</th>             <td>Least Squares</td>  <th>  F-statistic:       </th> <td>   1678.</td>\n",
       "</tr>\n",
       "<tr>\n",
       "  <th>Date:</th>             <td>Mon, 13 Jul 2020</td> <th>  Prob (F-statistic):</th> <td>8.27e-14</td>\n",
       "</tr>\n",
       "<tr>\n",
       "  <th>Time:</th>                 <td>04:09:03</td>     <th>  Log-Likelihood:    </th> <td>  31.840</td>\n",
       "</tr>\n",
       "<tr>\n",
       "  <th>No. Observations:</th>      <td>    14</td>      <th>  AIC:               </th> <td>  -55.68</td>\n",
       "</tr>\n",
       "<tr>\n",
       "  <th>Df Residuals:</th>          <td>    10</td>      <th>  BIC:               </th> <td>  -53.12</td>\n",
       "</tr>\n",
       "<tr>\n",
       "  <th>Df Model:</th>              <td>     3</td>      <th>                     </th>     <td> </td>   \n",
       "</tr>\n",
       "<tr>\n",
       "  <th>Covariance Type:</th>      <td>nonrobust</td>    <th>                     </th>     <td> </td>   \n",
       "</tr>\n",
       "</table>\n",
       "<table class=\"simpletable\">\n",
       "<tr>\n",
       "           <td></td>             <th>coef</th>     <th>std err</th>      <th>t</th>      <th>P>|t|</th>  <th>[0.025</th>    <th>0.975]</th>  \n",
       "</tr>\n",
       "<tr>\n",
       "  <th>Intercept</th>          <td>   -0.3918</td> <td>    0.254</td> <td>   -1.545</td> <td> 0.153</td> <td>   -0.957</td> <td>    0.173</td>\n",
       "</tr>\n",
       "<tr>\n",
       "  <th>np.log(dep_san_tj)</th> <td>    0.8307</td> <td>    0.153</td> <td>    5.444</td> <td> 0.000</td> <td>    0.491</td> <td>    1.171</td>\n",
       "</tr>\n",
       "<tr>\n",
       "  <th>np.log(depn_tj_s1)</th> <td>    0.3019</td> <td>    0.117</td> <td>    2.590</td> <td> 0.027</td> <td>    0.042</td> <td>    0.562</td>\n",
       "</tr>\n",
       "<tr>\n",
       "  <th>d_depn_tj</th>          <td>    0.1310</td> <td>    0.029</td> <td>    4.585</td> <td> 0.001</td> <td>    0.067</td> <td>    0.195</td>\n",
       "</tr>\n",
       "</table>\n",
       "<table class=\"simpletable\">\n",
       "<tr>\n",
       "  <th>Omnibus:</th>       <td> 0.890</td> <th>  Durbin-Watson:     </th> <td>   2.867</td>\n",
       "</tr>\n",
       "<tr>\n",
       "  <th>Prob(Omnibus):</th> <td> 0.641</td> <th>  Jarque-Bera (JB):  </th> <td>   0.757</td>\n",
       "</tr>\n",
       "<tr>\n",
       "  <th>Skew:</th>          <td> 0.300</td> <th>  Prob(JB):          </th> <td>   0.685</td>\n",
       "</tr>\n",
       "<tr>\n",
       "  <th>Kurtosis:</th>      <td> 2.031</td> <th>  Cond. No.          </th> <td>    503.</td>\n",
       "</tr>\n",
       "</table><br/><br/>Warnings:<br/>[1] Standard Errors assume that the covariance matrix of the errors is correctly specified."
      ],
      "text/plain": [
       "<class 'statsmodels.iolib.summary.Summary'>\n",
       "\"\"\"\n",
       "                            OLS Regression Results                            \n",
       "==============================================================================\n",
       "Dep. Variable:        np.log(depn_tj)   R-squared:                       0.998\n",
       "Model:                            OLS   Adj. R-squared:                  0.997\n",
       "Method:                 Least Squares   F-statistic:                     1678.\n",
       "Date:                Mon, 13 Jul 2020   Prob (F-statistic):           8.27e-14\n",
       "Time:                        04:09:03   Log-Likelihood:                 31.840\n",
       "No. Observations:                  14   AIC:                            -55.68\n",
       "Df Residuals:                      10   BIC:                            -53.12\n",
       "Df Model:                           3                                         \n",
       "Covariance Type:            nonrobust                                         \n",
       "======================================================================================\n",
       "                         coef    std err          t      P>|t|      [0.025      0.975]\n",
       "--------------------------------------------------------------------------------------\n",
       "Intercept             -0.3918      0.254     -1.545      0.153      -0.957       0.173\n",
       "np.log(dep_san_tj)     0.8307      0.153      5.444      0.000       0.491       1.171\n",
       "np.log(depn_tj_s1)     0.3019      0.117      2.590      0.027       0.042       0.562\n",
       "d_depn_tj              0.1310      0.029      4.585      0.001       0.067       0.195\n",
       "==============================================================================\n",
       "Omnibus:                        0.890   Durbin-Watson:                   2.867\n",
       "Prob(Omnibus):                  0.641   Jarque-Bera (JB):                0.757\n",
       "Skew:                           0.300   Prob(JB):                        0.685\n",
       "Kurtosis:                       2.031   Cond. No.                         503.\n",
       "==============================================================================\n",
       "\n",
       "Warnings:\n",
       "[1] Standard Errors assume that the covariance matrix of the errors is correctly specified.\n",
       "\"\"\""
      ]
     },
     "execution_count": 23,
     "metadata": {},
     "output_type": "execute_result"
    }
   ],
   "source": [
    "results = sm.ols(formula = \"np.log(depn_tj) ~ np.log(dep_san_tj) + np.log(depn_tj_s1) + d_depn_tj \",data = test1 ).fit()\n",
    "results.summary()"
   ]
  },
  {
   "cell_type": "markdown",
   "metadata": {},
   "source": [
    "## Eq160 : dep_san_tj  行为方程  ok  \n",
    "dep_san_tj  = @coef(1)  + @coef(2) * d(yht_n_tj)  + @coef(3) * dep_san_tj(-1)  + @coef(4) * d_dep_san_tj"
   ]
  },
  {
   "cell_type": "code",
   "execution_count": 26,
   "metadata": {
    "ExecuteTime": {
     "end_time": "2020-07-13T04:12:32.409936Z",
     "start_time": "2020-07-13T04:12:32.299990Z"
    }
   },
   "outputs": [
    {
     "data": {
      "text/html": [
       "<div>\n",
       "<style scoped>\n",
       "    .dataframe tbody tr th:only-of-type {\n",
       "        vertical-align: middle;\n",
       "    }\n",
       "\n",
       "    .dataframe tbody tr th {\n",
       "        vertical-align: top;\n",
       "    }\n",
       "\n",
       "    .dataframe thead th {\n",
       "        text-align: right;\n",
       "    }\n",
       "</style>\n",
       "<table border=\"1\" class=\"dataframe\">\n",
       "  <thead>\n",
       "    <tr style=\"text-align: right;\">\n",
       "      <th></th>\n",
       "      <th>dep_san_tj</th>\n",
       "      <th>yht_n_tj</th>\n",
       "      <th>d_dep_san_tj</th>\n",
       "      <th>yht_n_tj_diff</th>\n",
       "      <th>dep_san_tj_s1</th>\n",
       "    </tr>\n",
       "  </thead>\n",
       "  <tbody>\n",
       "    <tr>\n",
       "      <th>2002</th>\n",
       "      <td>1486.38</td>\n",
       "      <td>NaN</td>\n",
       "      <td>0.0</td>\n",
       "      <td>NaN</td>\n",
       "      <td>1284.95</td>\n",
       "    </tr>\n",
       "    <tr>\n",
       "      <th>2003</th>\n",
       "      <td>1825.32</td>\n",
       "      <td>NaN</td>\n",
       "      <td>0.0</td>\n",
       "      <td>NaN</td>\n",
       "      <td>1486.38</td>\n",
       "    </tr>\n",
       "  </tbody>\n",
       "</table>\n",
       "</div>"
      ],
      "text/plain": [
       "      dep_san_tj  yht_n_tj  d_dep_san_tj  yht_n_tj_diff  dep_san_tj_s1\n",
       "2002     1486.38       NaN           0.0            NaN        1284.95\n",
       "2003     1825.32       NaN           0.0            NaN        1486.38"
      ]
     },
     "execution_count": 26,
     "metadata": {},
     "output_type": "execute_result"
    }
   ],
   "source": [
    "test1 = df_ev[[\"dep_san_tj\",\"yht_n_tj\",\"d_dep_san_tj\"]]\n",
    "test1[\"yht_n_tj_diff\"] = test1[\"yht_n_tj\"] - test1[\"yht_n_tj\"].shift(1)\n",
    "test1[\"dep_san_tj_s1\"] = test1[\"dep_san_tj\"].shift(1)\n",
    "test1 = test1[(test1.index>2001) & (test1.index <2019)]\n",
    "test1.head(2)"
   ]
  },
  {
   "cell_type": "code",
   "execution_count": 27,
   "metadata": {
    "ExecuteTime": {
     "end_time": "2020-07-13T04:12:57.138244Z",
     "start_time": "2020-07-13T04:12:57.111237Z"
    }
   },
   "outputs": [
    {
     "data": {
      "text/html": [
       "<table class=\"simpletable\">\n",
       "<caption>OLS Regression Results</caption>\n",
       "<tr>\n",
       "  <th>Dep. Variable:</th>       <td>dep_san_tj</td>    <th>  R-squared:         </th> <td>   0.995</td>\n",
       "</tr>\n",
       "<tr>\n",
       "  <th>Model:</th>                   <td>OLS</td>       <th>  Adj. R-squared:    </th> <td>   0.993</td>\n",
       "</tr>\n",
       "<tr>\n",
       "  <th>Method:</th>             <td>Least Squares</td>  <th>  F-statistic:       </th> <td>   564.3</td>\n",
       "</tr>\n",
       "<tr>\n",
       "  <th>Date:</th>             <td>Mon, 13 Jul 2020</td> <th>  Prob (F-statistic):</th> <td>1.47e-10</td>\n",
       "</tr>\n",
       "<tr>\n",
       "  <th>Time:</th>                 <td>04:12:57</td>     <th>  Log-Likelihood:    </th> <td> -85.782</td>\n",
       "</tr>\n",
       "<tr>\n",
       "  <th>No. Observations:</th>      <td>    13</td>      <th>  AIC:               </th> <td>   179.6</td>\n",
       "</tr>\n",
       "<tr>\n",
       "  <th>Df Residuals:</th>          <td>     9</td>      <th>  BIC:               </th> <td>   181.8</td>\n",
       "</tr>\n",
       "<tr>\n",
       "  <th>Df Model:</th>              <td>     3</td>      <th>                     </th>     <td> </td>   \n",
       "</tr>\n",
       "<tr>\n",
       "  <th>Covariance Type:</th>      <td>nonrobust</td>    <th>                     </th>     <td> </td>   \n",
       "</tr>\n",
       "</table>\n",
       "<table class=\"simpletable\">\n",
       "<tr>\n",
       "        <td></td>           <th>coef</th>     <th>std err</th>      <th>t</th>      <th>P>|t|</th>  <th>[0.025</th>    <th>0.975]</th>  \n",
       "</tr>\n",
       "<tr>\n",
       "  <th>Intercept</th>     <td>  292.5599</td> <td>  240.722</td> <td>    1.215</td> <td> 0.255</td> <td> -251.990</td> <td>  837.110</td>\n",
       "</tr>\n",
       "<tr>\n",
       "  <th>yht_n_tj_diff</th> <td>    2.1487</td> <td>    1.012</td> <td>    2.123</td> <td> 0.063</td> <td>   -0.141</td> <td>    4.438</td>\n",
       "</tr>\n",
       "<tr>\n",
       "  <th>dep_san_tj_s1</th> <td>    0.9038</td> <td>    0.047</td> <td>   19.093</td> <td> 0.000</td> <td>    0.797</td> <td>    1.011</td>\n",
       "</tr>\n",
       "<tr>\n",
       "  <th>d_dep_san_tj</th>  <td>   95.2220</td> <td>   27.136</td> <td>    3.509</td> <td> 0.007</td> <td>   33.837</td> <td>  156.607</td>\n",
       "</tr>\n",
       "</table>\n",
       "<table class=\"simpletable\">\n",
       "<tr>\n",
       "  <th>Omnibus:</th>       <td> 0.447</td> <th>  Durbin-Watson:     </th> <td>   2.409</td>\n",
       "</tr>\n",
       "<tr>\n",
       "  <th>Prob(Omnibus):</th> <td> 0.800</td> <th>  Jarque-Bera (JB):  </th> <td>   0.533</td>\n",
       "</tr>\n",
       "<tr>\n",
       "  <th>Skew:</th>          <td> 0.240</td> <th>  Prob(JB):          </th> <td>   0.766</td>\n",
       "</tr>\n",
       "<tr>\n",
       "  <th>Kurtosis:</th>      <td> 2.132</td> <th>  Cond. No.          </th> <td>2.66e+04</td>\n",
       "</tr>\n",
       "</table><br/><br/>Warnings:<br/>[1] Standard Errors assume that the covariance matrix of the errors is correctly specified.<br/>[2] The condition number is large, 2.66e+04. This might indicate that there are<br/>strong multicollinearity or other numerical problems."
      ],
      "text/plain": [
       "<class 'statsmodels.iolib.summary.Summary'>\n",
       "\"\"\"\n",
       "                            OLS Regression Results                            \n",
       "==============================================================================\n",
       "Dep. Variable:             dep_san_tj   R-squared:                       0.995\n",
       "Model:                            OLS   Adj. R-squared:                  0.993\n",
       "Method:                 Least Squares   F-statistic:                     564.3\n",
       "Date:                Mon, 13 Jul 2020   Prob (F-statistic):           1.47e-10\n",
       "Time:                        04:12:57   Log-Likelihood:                -85.782\n",
       "No. Observations:                  13   AIC:                             179.6\n",
       "Df Residuals:                       9   BIC:                             181.8\n",
       "Df Model:                           3                                         \n",
       "Covariance Type:            nonrobust                                         \n",
       "=================================================================================\n",
       "                    coef    std err          t      P>|t|      [0.025      0.975]\n",
       "---------------------------------------------------------------------------------\n",
       "Intercept       292.5599    240.722      1.215      0.255    -251.990     837.110\n",
       "yht_n_tj_diff     2.1487      1.012      2.123      0.063      -0.141       4.438\n",
       "dep_san_tj_s1     0.9038      0.047     19.093      0.000       0.797       1.011\n",
       "d_dep_san_tj     95.2220     27.136      3.509      0.007      33.837     156.607\n",
       "==============================================================================\n",
       "Omnibus:                        0.447   Durbin-Watson:                   2.409\n",
       "Prob(Omnibus):                  0.800   Jarque-Bera (JB):                0.533\n",
       "Skew:                           0.240   Prob(JB):                        0.766\n",
       "Kurtosis:                       2.132   Cond. No.                     2.66e+04\n",
       "==============================================================================\n",
       "\n",
       "Warnings:\n",
       "[1] Standard Errors assume that the covariance matrix of the errors is correctly specified.\n",
       "[2] The condition number is large, 2.66e+04. This might indicate that there are\n",
       "strong multicollinearity or other numerical problems.\n",
       "\"\"\""
      ]
     },
     "execution_count": 27,
     "metadata": {},
     "output_type": "execute_result"
    }
   ],
   "source": [
    "results = sm.ols(formula = \"dep_san_tj ~ yht_n_tj_diff + dep_san_tj_s1 + d_dep_san_tj \",data = test1 ).fit()\n",
    "results.summary()"
   ]
  },
  {
   "cell_type": "markdown",
   "metadata": {},
   "source": [
    "## Eq161 :  loan_ln_tj 行为方程  ok\n",
    "\n",
    "log(loan_ln_bj)  = @coef(1)  + @coef(2) * log(depn_bj)  "
   ]
  },
  {
   "cell_type": "code",
   "execution_count": 28,
   "metadata": {
    "ExecuteTime": {
     "end_time": "2020-07-13T04:14:41.969611Z",
     "start_time": "2020-07-13T04:14:41.958319Z"
    }
   },
   "outputs": [
    {
     "data": {
      "text/html": [
       "<div>\n",
       "<style scoped>\n",
       "    .dataframe tbody tr th:only-of-type {\n",
       "        vertical-align: middle;\n",
       "    }\n",
       "\n",
       "    .dataframe tbody tr th {\n",
       "        vertical-align: top;\n",
       "    }\n",
       "\n",
       "    .dataframe thead th {\n",
       "        text-align: right;\n",
       "    }\n",
       "</style>\n",
       "<table border=\"1\" class=\"dataframe\">\n",
       "  <thead>\n",
       "    <tr style=\"text-align: right;\">\n",
       "      <th></th>\n",
       "      <th>loan_ln_tj</th>\n",
       "      <th>depn_tj</th>\n",
       "    </tr>\n",
       "  </thead>\n",
       "  <tbody>\n",
       "    <tr>\n",
       "      <th>2004</th>\n",
       "      <td>1789.90</td>\n",
       "      <td>4750.28</td>\n",
       "    </tr>\n",
       "    <tr>\n",
       "      <th>2005</th>\n",
       "      <td>2204.62</td>\n",
       "      <td>5716.09</td>\n",
       "    </tr>\n",
       "  </tbody>\n",
       "</table>\n",
       "</div>"
      ],
      "text/plain": [
       "      loan_ln_tj  depn_tj\n",
       "2004     1789.90  4750.28\n",
       "2005     2204.62  5716.09"
      ]
     },
     "execution_count": 28,
     "metadata": {},
     "output_type": "execute_result"
    }
   ],
   "source": [
    "test1 = df_ev[[\"loan_ln_tj\",\"depn_tj\"]]\n",
    "test1 = test1[(test1.index>2003) & (test1.index <2019)]\n",
    "test1.head(2)"
   ]
  },
  {
   "cell_type": "code",
   "execution_count": 29,
   "metadata": {
    "ExecuteTime": {
     "end_time": "2020-07-13T04:14:42.932035Z",
     "start_time": "2020-07-13T04:14:42.909656Z"
    }
   },
   "outputs": [
    {
     "data": {
      "text/html": [
       "<table class=\"simpletable\">\n",
       "<caption>OLS Regression Results</caption>\n",
       "<tr>\n",
       "  <th>Dep. Variable:</th>    <td>np.log(loan_ln_tj)</td> <th>  R-squared:         </th> <td>   0.992</td>\n",
       "</tr>\n",
       "<tr>\n",
       "  <th>Model:</th>                    <td>OLS</td>        <th>  Adj. R-squared:    </th> <td>   0.992</td>\n",
       "</tr>\n",
       "<tr>\n",
       "  <th>Method:</th>              <td>Least Squares</td>   <th>  F-statistic:       </th> <td>   1704.</td>\n",
       "</tr>\n",
       "<tr>\n",
       "  <th>Date:</th>              <td>Mon, 13 Jul 2020</td>  <th>  Prob (F-statistic):</th> <td>3.57e-15</td>\n",
       "</tr>\n",
       "<tr>\n",
       "  <th>Time:</th>                  <td>04:14:42</td>      <th>  Log-Likelihood:    </th> <td>  19.489</td>\n",
       "</tr>\n",
       "<tr>\n",
       "  <th>No. Observations:</th>       <td>    15</td>       <th>  AIC:               </th> <td>  -34.98</td>\n",
       "</tr>\n",
       "<tr>\n",
       "  <th>Df Residuals:</th>           <td>    13</td>       <th>  BIC:               </th> <td>  -33.56</td>\n",
       "</tr>\n",
       "<tr>\n",
       "  <th>Df Model:</th>               <td>     1</td>       <th>                     </th>     <td> </td>   \n",
       "</tr>\n",
       "<tr>\n",
       "  <th>Covariance Type:</th>       <td>nonrobust</td>     <th>                     </th>     <td> </td>   \n",
       "</tr>\n",
       "</table>\n",
       "<table class=\"simpletable\">\n",
       "<tr>\n",
       "         <td></td>            <th>coef</th>     <th>std err</th>      <th>t</th>      <th>P>|t|</th>  <th>[0.025</th>    <th>0.975]</th>  \n",
       "</tr>\n",
       "<tr>\n",
       "  <th>Intercept</th>       <td>   -2.7961</td> <td>    0.284</td> <td>   -9.843</td> <td> 0.000</td> <td>   -3.410</td> <td>   -2.182</td>\n",
       "</tr>\n",
       "<tr>\n",
       "  <th>np.log(depn_tj)</th> <td>    1.2181</td> <td>    0.030</td> <td>   41.283</td> <td> 0.000</td> <td>    1.154</td> <td>    1.282</td>\n",
       "</tr>\n",
       "</table>\n",
       "<table class=\"simpletable\">\n",
       "<tr>\n",
       "  <th>Omnibus:</th>       <td> 1.505</td> <th>  Durbin-Watson:     </th> <td>   0.752</td>\n",
       "</tr>\n",
       "<tr>\n",
       "  <th>Prob(Omnibus):</th> <td> 0.471</td> <th>  Jarque-Bera (JB):  </th> <td>   0.877</td>\n",
       "</tr>\n",
       "<tr>\n",
       "  <th>Skew:</th>          <td> 0.161</td> <th>  Prob(JB):          </th> <td>   0.645</td>\n",
       "</tr>\n",
       "<tr>\n",
       "  <th>Kurtosis:</th>      <td> 1.860</td> <th>  Cond. No.          </th> <td>    151.</td>\n",
       "</tr>\n",
       "</table><br/><br/>Warnings:<br/>[1] Standard Errors assume that the covariance matrix of the errors is correctly specified."
      ],
      "text/plain": [
       "<class 'statsmodels.iolib.summary.Summary'>\n",
       "\"\"\"\n",
       "                            OLS Regression Results                            \n",
       "==============================================================================\n",
       "Dep. Variable:     np.log(loan_ln_tj)   R-squared:                       0.992\n",
       "Model:                            OLS   Adj. R-squared:                  0.992\n",
       "Method:                 Least Squares   F-statistic:                     1704.\n",
       "Date:                Mon, 13 Jul 2020   Prob (F-statistic):           3.57e-15\n",
       "Time:                        04:14:42   Log-Likelihood:                 19.489\n",
       "No. Observations:                  15   AIC:                            -34.98\n",
       "Df Residuals:                      13   BIC:                            -33.56\n",
       "Df Model:                           1                                         \n",
       "Covariance Type:            nonrobust                                         \n",
       "===================================================================================\n",
       "                      coef    std err          t      P>|t|      [0.025      0.975]\n",
       "-----------------------------------------------------------------------------------\n",
       "Intercept          -2.7961      0.284     -9.843      0.000      -3.410      -2.182\n",
       "np.log(depn_tj)     1.2181      0.030     41.283      0.000       1.154       1.282\n",
       "==============================================================================\n",
       "Omnibus:                        1.505   Durbin-Watson:                   0.752\n",
       "Prob(Omnibus):                  0.471   Jarque-Bera (JB):                0.877\n",
       "Skew:                           0.161   Prob(JB):                        0.645\n",
       "Kurtosis:                       1.860   Cond. No.                         151.\n",
       "==============================================================================\n",
       "\n",
       "Warnings:\n",
       "[1] Standard Errors assume that the covariance matrix of the errors is correctly specified.\n",
       "\"\"\""
      ]
     },
     "execution_count": 29,
     "metadata": {},
     "output_type": "execute_result"
    }
   ],
   "source": [
    "results = sm.ols(formula = \"np.log(loan_ln_tj) ~ np.log(depn_tj)  \",data = test1 ).fit()\n",
    "results.summary()"
   ]
  },
  {
   "cell_type": "markdown",
   "metadata": {},
   "source": [
    "## Eq162 :  loann_tj 行为方程 ok\n",
    "\n",
    "loann_tj  = @coef(1)  + @coef(2) * depn_tj  + @coef(3) * loann_tj(-1)  + @coef(4) * intratel_cn"
   ]
  },
  {
   "cell_type": "code",
   "execution_count": 30,
   "metadata": {
    "ExecuteTime": {
     "end_time": "2020-07-13T04:23:40.665844Z",
     "start_time": "2020-07-13T04:23:40.599083Z"
    }
   },
   "outputs": [
    {
     "data": {
      "text/html": [
       "<div>\n",
       "<style scoped>\n",
       "    .dataframe tbody tr th:only-of-type {\n",
       "        vertical-align: middle;\n",
       "    }\n",
       "\n",
       "    .dataframe tbody tr th {\n",
       "        vertical-align: top;\n",
       "    }\n",
       "\n",
       "    .dataframe thead th {\n",
       "        text-align: right;\n",
       "    }\n",
       "</style>\n",
       "<table border=\"1\" class=\"dataframe\">\n",
       "  <thead>\n",
       "    <tr style=\"text-align: right;\">\n",
       "      <th></th>\n",
       "      <th>loann_tj</th>\n",
       "      <th>depn_tj</th>\n",
       "      <th>intratel_cn</th>\n",
       "      <th>loann_tj_s1</th>\n",
       "    </tr>\n",
       "  </thead>\n",
       "  <tbody>\n",
       "    <tr>\n",
       "      <th>2007</th>\n",
       "      <td>6241.07</td>\n",
       "      <td>7930.31</td>\n",
       "      <td>6.717452</td>\n",
       "      <td>5182.76</td>\n",
       "    </tr>\n",
       "    <tr>\n",
       "      <th>2008</th>\n",
       "      <td>7383.29</td>\n",
       "      <td>9606.36</td>\n",
       "      <td>7.172705</td>\n",
       "      <td>6241.07</td>\n",
       "    </tr>\n",
       "  </tbody>\n",
       "</table>\n",
       "</div>"
      ],
      "text/plain": [
       "      loann_tj  depn_tj  intratel_cn  loann_tj_s1\n",
       "2007   6241.07  7930.31     6.717452      5182.76\n",
       "2008   7383.29  9606.36     7.172705      6241.07"
      ]
     },
     "execution_count": 30,
     "metadata": {},
     "output_type": "execute_result"
    }
   ],
   "source": [
    "test1 = df_ev[[\"loann_tj\",\"depn_tj\",\"intratel_cn\"]]\n",
    "test1[\"loann_tj_s1\"] = test1[\"loann_tj\"].shift(1)\n",
    "test1 = test1[(test1.index>2006) & (test1.index <2019)]\n",
    "test1.head(2)"
   ]
  },
  {
   "cell_type": "code",
   "execution_count": 31,
   "metadata": {
    "ExecuteTime": {
     "end_time": "2020-07-13T04:24:27.200374Z",
     "start_time": "2020-07-13T04:24:27.175094Z"
    }
   },
   "outputs": [
    {
     "data": {
      "text/html": [
       "<table class=\"simpletable\">\n",
       "<caption>OLS Regression Results</caption>\n",
       "<tr>\n",
       "  <th>Dep. Variable:</th>        <td>loann_tj</td>     <th>  R-squared:         </th> <td>   0.999</td>\n",
       "</tr>\n",
       "<tr>\n",
       "  <th>Model:</th>                   <td>OLS</td>       <th>  Adj. R-squared:    </th> <td>   0.999</td>\n",
       "</tr>\n",
       "<tr>\n",
       "  <th>Method:</th>             <td>Least Squares</td>  <th>  F-statistic:       </th> <td>   3587.</td>\n",
       "</tr>\n",
       "<tr>\n",
       "  <th>Date:</th>             <td>Mon, 13 Jul 2020</td> <th>  Prob (F-statistic):</th> <td>7.49e-13</td>\n",
       "</tr>\n",
       "<tr>\n",
       "  <th>Time:</th>                 <td>04:24:27</td>     <th>  Log-Likelihood:    </th> <td> -82.130</td>\n",
       "</tr>\n",
       "<tr>\n",
       "  <th>No. Observations:</th>      <td>    12</td>      <th>  AIC:               </th> <td>   172.3</td>\n",
       "</tr>\n",
       "<tr>\n",
       "  <th>Df Residuals:</th>          <td>     8</td>      <th>  BIC:               </th> <td>   174.2</td>\n",
       "</tr>\n",
       "<tr>\n",
       "  <th>Df Model:</th>              <td>     3</td>      <th>                     </th>     <td> </td>   \n",
       "</tr>\n",
       "<tr>\n",
       "  <th>Covariance Type:</th>      <td>nonrobust</td>    <th>                     </th>     <td> </td>   \n",
       "</tr>\n",
       "</table>\n",
       "<table class=\"simpletable\">\n",
       "<tr>\n",
       "       <td></td>          <th>coef</th>     <th>std err</th>      <th>t</th>      <th>P>|t|</th>  <th>[0.025</th>    <th>0.975]</th>  \n",
       "</tr>\n",
       "<tr>\n",
       "  <th>Intercept</th>   <td> 4994.5701</td> <td> 1210.996</td> <td>    4.124</td> <td> 0.003</td> <td> 2202.008</td> <td> 7787.132</td>\n",
       "</tr>\n",
       "<tr>\n",
       "  <th>depn_tj</th>     <td>    0.1769</td> <td>    0.056</td> <td>    3.182</td> <td> 0.013</td> <td>    0.049</td> <td>    0.305</td>\n",
       "</tr>\n",
       "<tr>\n",
       "  <th>loann_tj_s1</th> <td>    0.8223</td> <td>    0.049</td> <td>   16.639</td> <td> 0.000</td> <td>    0.708</td> <td>    0.936</td>\n",
       "</tr>\n",
       "<tr>\n",
       "  <th>intratel_cn</th> <td> -610.0670</td> <td>  150.466</td> <td>   -4.055</td> <td> 0.004</td> <td> -957.042</td> <td> -263.092</td>\n",
       "</tr>\n",
       "</table>\n",
       "<table class=\"simpletable\">\n",
       "<tr>\n",
       "  <th>Omnibus:</th>       <td> 1.134</td> <th>  Durbin-Watson:     </th> <td>   2.281</td>\n",
       "</tr>\n",
       "<tr>\n",
       "  <th>Prob(Omnibus):</th> <td> 0.567</td> <th>  Jarque-Bera (JB):  </th> <td>   0.801</td>\n",
       "</tr>\n",
       "<tr>\n",
       "  <th>Skew:</th>          <td> 0.308</td> <th>  Prob(JB):          </th> <td>   0.670</td>\n",
       "</tr>\n",
       "<tr>\n",
       "  <th>Kurtosis:</th>      <td> 1.894</td> <th>  Cond. No.          </th> <td>4.33e+05</td>\n",
       "</tr>\n",
       "</table><br/><br/>Warnings:<br/>[1] Standard Errors assume that the covariance matrix of the errors is correctly specified.<br/>[2] The condition number is large, 4.33e+05. This might indicate that there are<br/>strong multicollinearity or other numerical problems."
      ],
      "text/plain": [
       "<class 'statsmodels.iolib.summary.Summary'>\n",
       "\"\"\"\n",
       "                            OLS Regression Results                            \n",
       "==============================================================================\n",
       "Dep. Variable:               loann_tj   R-squared:                       0.999\n",
       "Model:                            OLS   Adj. R-squared:                  0.999\n",
       "Method:                 Least Squares   F-statistic:                     3587.\n",
       "Date:                Mon, 13 Jul 2020   Prob (F-statistic):           7.49e-13\n",
       "Time:                        04:24:27   Log-Likelihood:                -82.130\n",
       "No. Observations:                  12   AIC:                             172.3\n",
       "Df Residuals:                       8   BIC:                             174.2\n",
       "Df Model:                           3                                         \n",
       "Covariance Type:            nonrobust                                         \n",
       "===============================================================================\n",
       "                  coef    std err          t      P>|t|      [0.025      0.975]\n",
       "-------------------------------------------------------------------------------\n",
       "Intercept    4994.5701   1210.996      4.124      0.003    2202.008    7787.132\n",
       "depn_tj         0.1769      0.056      3.182      0.013       0.049       0.305\n",
       "loann_tj_s1     0.8223      0.049     16.639      0.000       0.708       0.936\n",
       "intratel_cn  -610.0670    150.466     -4.055      0.004    -957.042    -263.092\n",
       "==============================================================================\n",
       "Omnibus:                        1.134   Durbin-Watson:                   2.281\n",
       "Prob(Omnibus):                  0.567   Jarque-Bera (JB):                0.801\n",
       "Skew:                           0.308   Prob(JB):                        0.670\n",
       "Kurtosis:                       1.894   Cond. No.                     4.33e+05\n",
       "==============================================================================\n",
       "\n",
       "Warnings:\n",
       "[1] Standard Errors assume that the covariance matrix of the errors is correctly specified.\n",
       "[2] The condition number is large, 4.33e+05. This might indicate that there are\n",
       "strong multicollinearity or other numerical problems.\n",
       "\"\"\""
      ]
     },
     "execution_count": 31,
     "metadata": {},
     "output_type": "execute_result"
    }
   ],
   "source": [
    "results = sm.ols(formula = \"loann_tj ~ depn_tj+ loann_tj_s1  + intratel_cn  \",data = test1 ).fit()\n",
    "results.summary()"
   ]
  },
  {
   "cell_type": "markdown",
   "metadata": {},
   "source": [
    "## Eq 163 : emp1_tj 定义方程 ok\n",
    "\n",
    "emp1_tj  = totemp_tj  - emp2_tj  - emp3_tj"
   ]
  },
  {
   "cell_type": "code",
   "execution_count": 35,
   "metadata": {
    "ExecuteTime": {
     "end_time": "2020-07-13T04:26:21.400333Z",
     "start_time": "2020-07-13T04:26:21.318518Z"
    }
   },
   "outputs": [
    {
     "data": {
      "text/html": [
       "<div>\n",
       "<style scoped>\n",
       "    .dataframe tbody tr th:only-of-type {\n",
       "        vertical-align: middle;\n",
       "    }\n",
       "\n",
       "    .dataframe tbody tr th {\n",
       "        vertical-align: top;\n",
       "    }\n",
       "\n",
       "    .dataframe thead th {\n",
       "        text-align: right;\n",
       "    }\n",
       "</style>\n",
       "<table border=\"1\" class=\"dataframe\">\n",
       "  <thead>\n",
       "    <tr style=\"text-align: right;\">\n",
       "      <th></th>\n",
       "      <th>emp1_tj</th>\n",
       "      <th>totemp_tj</th>\n",
       "      <th>emp2_tj</th>\n",
       "      <th>emp3_tj</th>\n",
       "      <th>预测</th>\n",
       "    </tr>\n",
       "  </thead>\n",
       "  <tbody>\n",
       "    <tr>\n",
       "      <th>2017</th>\n",
       "      <td>62.71</td>\n",
       "      <td>894.83</td>\n",
       "      <td>290.90</td>\n",
       "      <td>541.22</td>\n",
       "      <td>62.71</td>\n",
       "    </tr>\n",
       "    <tr>\n",
       "      <th>2018</th>\n",
       "      <td>60.07</td>\n",
       "      <td>896.56</td>\n",
       "      <td>285.02</td>\n",
       "      <td>551.47</td>\n",
       "      <td>60.07</td>\n",
       "    </tr>\n",
       "    <tr>\n",
       "      <th>2019</th>\n",
       "      <td>NaN</td>\n",
       "      <td>NaN</td>\n",
       "      <td>NaN</td>\n",
       "      <td>NaN</td>\n",
       "      <td>NaN</td>\n",
       "    </tr>\n",
       "    <tr>\n",
       "      <th>2020</th>\n",
       "      <td>NaN</td>\n",
       "      <td>NaN</td>\n",
       "      <td>NaN</td>\n",
       "      <td>NaN</td>\n",
       "      <td>NaN</td>\n",
       "    </tr>\n",
       "  </tbody>\n",
       "</table>\n",
       "</div>"
      ],
      "text/plain": [
       "      emp1_tj  totemp_tj  emp2_tj  emp3_tj     预测\n",
       "2017    62.71     894.83   290.90   541.22  62.71\n",
       "2018    60.07     896.56   285.02   551.47  60.07\n",
       "2019      NaN        NaN      NaN      NaN    NaN\n",
       "2020      NaN        NaN      NaN      NaN    NaN"
      ]
     },
     "execution_count": 35,
     "metadata": {},
     "output_type": "execute_result"
    }
   ],
   "source": [
    "test1 = df_ev[[\"emp1_tj\" , \"totemp_tj\" , \"emp2_tj\" , \"emp3_tj\"]]\n",
    "test1[\"预测\"] = test1[\"totemp_tj\"] - test1[\"emp2_tj\"] - test1[\"emp3_tj\"]\n",
    "test1.tail(4)"
   ]
  },
  {
   "cell_type": "markdown",
   "metadata": {},
   "source": [
    "## Eq164 : popr_tj 定义方程\n",
    "popr_tj  = totpop_tj  - popu_tj"
   ]
  },
  {
   "cell_type": "code",
   "execution_count": 36,
   "metadata": {
    "ExecuteTime": {
     "end_time": "2020-07-13T04:35:00.497992Z",
     "start_time": "2020-07-13T04:35:00.382865Z"
    }
   },
   "outputs": [
    {
     "data": {
      "text/html": [
       "<div>\n",
       "<style scoped>\n",
       "    .dataframe tbody tr th:only-of-type {\n",
       "        vertical-align: middle;\n",
       "    }\n",
       "\n",
       "    .dataframe tbody tr th {\n",
       "        vertical-align: top;\n",
       "    }\n",
       "\n",
       "    .dataframe thead th {\n",
       "        text-align: right;\n",
       "    }\n",
       "</style>\n",
       "<table border=\"1\" class=\"dataframe\">\n",
       "  <thead>\n",
       "    <tr style=\"text-align: right;\">\n",
       "      <th></th>\n",
       "      <th>popr_tj</th>\n",
       "      <th>totpop_tj</th>\n",
       "      <th>popu_tj</th>\n",
       "      <th>预测</th>\n",
       "    </tr>\n",
       "  </thead>\n",
       "  <tbody>\n",
       "    <tr>\n",
       "      <th>1996</th>\n",
       "      <td>NaN</td>\n",
       "      <td>0.094819</td>\n",
       "      <td>NaN</td>\n",
       "      <td>NaN</td>\n",
       "    </tr>\n",
       "    <tr>\n",
       "      <th>1997</th>\n",
       "      <td>NaN</td>\n",
       "      <td>0.095259</td>\n",
       "      <td>NaN</td>\n",
       "      <td>NaN</td>\n",
       "    </tr>\n",
       "  </tbody>\n",
       "</table>\n",
       "</div>"
      ],
      "text/plain": [
       "      popr_tj  totpop_tj  popu_tj  预测\n",
       "1996      NaN   0.094819      NaN NaN\n",
       "1997      NaN   0.095259      NaN NaN"
      ]
     },
     "execution_count": 36,
     "metadata": {},
     "output_type": "execute_result"
    }
   ],
   "source": [
    "test1 = df_ev[[\"popr_tj\" , \"totpop_tj\" , \"popu_tj\" ]]\n",
    "test1[\"预测\"] = test1[\"totpop_tj\"] - test1[\"popu_tj\"] \n",
    "test1.head(2)"
   ]
  },
  {
   "cell_type": "markdown",
   "metadata": {},
   "source": [
    "## Eq165 ： totemp_tj 行为方程 ok\n",
    "totemp_tj  = @coef(1)  + @coef(2) * @pch(gdpr_tj)  + @coef(3) * totemp_tj(-1)"
   ]
  },
  {
   "cell_type": "code",
   "execution_count": 7,
   "metadata": {
    "ExecuteTime": {
     "end_time": "2020-07-13T06:37:30.155119Z",
     "start_time": "2020-07-13T06:37:30.052478Z"
    }
   },
   "outputs": [
    {
     "data": {
      "text/html": [
       "<div>\n",
       "<style scoped>\n",
       "    .dataframe tbody tr th:only-of-type {\n",
       "        vertical-align: middle;\n",
       "    }\n",
       "\n",
       "    .dataframe tbody tr th {\n",
       "        vertical-align: top;\n",
       "    }\n",
       "\n",
       "    .dataframe thead th {\n",
       "        text-align: right;\n",
       "    }\n",
       "</style>\n",
       "<table border=\"1\" class=\"dataframe\">\n",
       "  <thead>\n",
       "    <tr style=\"text-align: right;\">\n",
       "      <th></th>\n",
       "      <th>totemp_tj</th>\n",
       "      <th>gdpr_tj</th>\n",
       "      <th>gdpr_tj_pch</th>\n",
       "      <th>totemp_tj_s1</th>\n",
       "    </tr>\n",
       "  </thead>\n",
       "  <tbody>\n",
       "    <tr>\n",
       "      <th>1997</th>\n",
       "      <td>513.33</td>\n",
       "      <td>1706.422913</td>\n",
       "      <td>0.120856</td>\n",
       "      <td>512.00</td>\n",
       "    </tr>\n",
       "    <tr>\n",
       "      <th>1998</th>\n",
       "      <td>508.10</td>\n",
       "      <td>1865.342166</td>\n",
       "      <td>0.093130</td>\n",
       "      <td>513.33</td>\n",
       "    </tr>\n",
       "  </tbody>\n",
       "</table>\n",
       "</div>"
      ],
      "text/plain": [
       "      totemp_tj      gdpr_tj  gdpr_tj_pch  totemp_tj_s1\n",
       "1997     513.33  1706.422913     0.120856        512.00\n",
       "1998     508.10  1865.342166     0.093130        513.33"
      ]
     },
     "execution_count": 7,
     "metadata": {},
     "output_type": "execute_result"
    }
   ],
   "source": [
    "test1 = df_ev[[\"totemp_tj\",\"gdpr_tj\"]]\n",
    "test1[\"gdpr_tj_pch\"] =( test1[\"gdpr_tj\"] - test1[\"gdpr_tj\"].shift(1))/test1[\"gdpr_tj\"].shift(1)\n",
    "test1[\"totemp_tj_s1\"] = test1[\"totemp_tj\"].shift(1)\n",
    "test1 = test1[(test1.index>1996) & (test1.index <2019)]\n",
    "test1.head(2)"
   ]
  },
  {
   "cell_type": "code",
   "execution_count": 8,
   "metadata": {
    "ExecuteTime": {
     "end_time": "2020-07-13T06:37:31.742744Z",
     "start_time": "2020-07-13T06:37:31.719194Z"
    }
   },
   "outputs": [
    {
     "data": {
      "text/html": [
       "<table class=\"simpletable\">\n",
       "<caption>OLS Regression Results</caption>\n",
       "<tr>\n",
       "  <th>Dep. Variable:</th>        <td>totemp_tj</td>    <th>  R-squared:         </th> <td>   0.997</td>\n",
       "</tr>\n",
       "<tr>\n",
       "  <th>Model:</th>                   <td>OLS</td>       <th>  Adj. R-squared:    </th> <td>   0.996</td>\n",
       "</tr>\n",
       "<tr>\n",
       "  <th>Method:</th>             <td>Least Squares</td>  <th>  F-statistic:       </th> <td>   2775.</td>\n",
       "</tr>\n",
       "<tr>\n",
       "  <th>Date:</th>             <td>Mon, 13 Jul 2020</td> <th>  Prob (F-statistic):</th> <td>3.66e-24</td>\n",
       "</tr>\n",
       "<tr>\n",
       "  <th>Time:</th>                 <td>06:37:31</td>     <th>  Log-Likelihood:    </th> <td> -80.390</td>\n",
       "</tr>\n",
       "<tr>\n",
       "  <th>No. Observations:</th>      <td>    22</td>      <th>  AIC:               </th> <td>   166.8</td>\n",
       "</tr>\n",
       "<tr>\n",
       "  <th>Df Residuals:</th>          <td>    19</td>      <th>  BIC:               </th> <td>   170.1</td>\n",
       "</tr>\n",
       "<tr>\n",
       "  <th>Df Model:</th>              <td>     2</td>      <th>                     </th>     <td> </td>   \n",
       "</tr>\n",
       "<tr>\n",
       "  <th>Covariance Type:</th>      <td>nonrobust</td>    <th>                     </th>     <td> </td>   \n",
       "</tr>\n",
       "</table>\n",
       "<table class=\"simpletable\">\n",
       "<tr>\n",
       "        <td></td>          <th>coef</th>     <th>std err</th>      <th>t</th>      <th>P>|t|</th>  <th>[0.025</th>    <th>0.975]</th>  \n",
       "</tr>\n",
       "<tr>\n",
       "  <th>Intercept</th>    <td> -101.4715</td> <td>   16.090</td> <td>   -6.306</td> <td> 0.000</td> <td> -135.149</td> <td>  -67.794</td>\n",
       "</tr>\n",
       "<tr>\n",
       "  <th>gdpr_tj_pch</th>  <td>  503.8051</td> <td>   64.591</td> <td>    7.800</td> <td> 0.000</td> <td>  368.614</td> <td>  638.996</td>\n",
       "</tr>\n",
       "<tr>\n",
       "  <th>totemp_tj_s1</th> <td>    1.0869</td> <td>    0.016</td> <td>   68.152</td> <td> 0.000</td> <td>    1.053</td> <td>    1.120</td>\n",
       "</tr>\n",
       "</table>\n",
       "<table class=\"simpletable\">\n",
       "<tr>\n",
       "  <th>Omnibus:</th>       <td> 2.562</td> <th>  Durbin-Watson:     </th> <td>   2.068</td>\n",
       "</tr>\n",
       "<tr>\n",
       "  <th>Prob(Omnibus):</th> <td> 0.278</td> <th>  Jarque-Bera (JB):  </th> <td>   1.029</td>\n",
       "</tr>\n",
       "<tr>\n",
       "  <th>Skew:</th>          <td> 0.340</td> <th>  Prob(JB):          </th> <td>   0.598</td>\n",
       "</tr>\n",
       "<tr>\n",
       "  <th>Kurtosis:</th>      <td> 3.813</td> <th>  Cond. No.          </th> <td>2.06e+04</td>\n",
       "</tr>\n",
       "</table><br/><br/>Warnings:<br/>[1] Standard Errors assume that the covariance matrix of the errors is correctly specified.<br/>[2] The condition number is large, 2.06e+04. This might indicate that there are<br/>strong multicollinearity or other numerical problems."
      ],
      "text/plain": [
       "<class 'statsmodels.iolib.summary.Summary'>\n",
       "\"\"\"\n",
       "                            OLS Regression Results                            \n",
       "==============================================================================\n",
       "Dep. Variable:              totemp_tj   R-squared:                       0.997\n",
       "Model:                            OLS   Adj. R-squared:                  0.996\n",
       "Method:                 Least Squares   F-statistic:                     2775.\n",
       "Date:                Mon, 13 Jul 2020   Prob (F-statistic):           3.66e-24\n",
       "Time:                        06:37:31   Log-Likelihood:                -80.390\n",
       "No. Observations:                  22   AIC:                             166.8\n",
       "Df Residuals:                      19   BIC:                             170.1\n",
       "Df Model:                           2                                         \n",
       "Covariance Type:            nonrobust                                         \n",
       "================================================================================\n",
       "                   coef    std err          t      P>|t|      [0.025      0.975]\n",
       "--------------------------------------------------------------------------------\n",
       "Intercept     -101.4715     16.090     -6.306      0.000    -135.149     -67.794\n",
       "gdpr_tj_pch    503.8051     64.591      7.800      0.000     368.614     638.996\n",
       "totemp_tj_s1     1.0869      0.016     68.152      0.000       1.053       1.120\n",
       "==============================================================================\n",
       "Omnibus:                        2.562   Durbin-Watson:                   2.068\n",
       "Prob(Omnibus):                  0.278   Jarque-Bera (JB):                1.029\n",
       "Skew:                           0.340   Prob(JB):                        0.598\n",
       "Kurtosis:                       3.813   Cond. No.                     2.06e+04\n",
       "==============================================================================\n",
       "\n",
       "Warnings:\n",
       "[1] Standard Errors assume that the covariance matrix of the errors is correctly specified.\n",
       "[2] The condition number is large, 2.06e+04. This might indicate that there are\n",
       "strong multicollinearity or other numerical problems.\n",
       "\"\"\""
      ]
     },
     "execution_count": 8,
     "metadata": {},
     "output_type": "execute_result"
    }
   ],
   "source": [
    "results = sm.ols(formula = \"totemp_tj ~ gdpr_tj_pch + totemp_tj_s1  \",data = test1 ).fit()\n",
    "results.summary()"
   ]
  },
  {
   "cell_type": "markdown",
   "metadata": {},
   "source": [
    "## Eq166 : emp2_tj 行为方程  ok\n",
    "emp2_tj  = @coef(1)  + @coef(2) * @pch(gdp2r_tj)  + @coef(3) * emp2_tj(-1)  + @coef(4) * d_emp2_tj"
   ]
  },
  {
   "cell_type": "code",
   "execution_count": 14,
   "metadata": {
    "ExecuteTime": {
     "end_time": "2020-07-13T06:44:18.348297Z",
     "start_time": "2020-07-13T06:44:18.242596Z"
    }
   },
   "outputs": [
    {
     "data": {
      "text/html": [
       "<div>\n",
       "<style scoped>\n",
       "    .dataframe tbody tr th:only-of-type {\n",
       "        vertical-align: middle;\n",
       "    }\n",
       "\n",
       "    .dataframe tbody tr th {\n",
       "        vertical-align: top;\n",
       "    }\n",
       "\n",
       "    .dataframe thead th {\n",
       "        text-align: right;\n",
       "    }\n",
       "</style>\n",
       "<table border=\"1\" class=\"dataframe\">\n",
       "  <thead>\n",
       "    <tr style=\"text-align: right;\">\n",
       "      <th></th>\n",
       "      <th>emp2_tj</th>\n",
       "      <th>gdp2r_tj</th>\n",
       "      <th>d_emp2_tj</th>\n",
       "      <th>gdp2r_tj_pch</th>\n",
       "      <th>emp2_tj_s1</th>\n",
       "    </tr>\n",
       "  </thead>\n",
       "  <tbody>\n",
       "    <tr>\n",
       "      <th>2007</th>\n",
       "      <td>261.35</td>\n",
       "      <td>2512.516924</td>\n",
       "      <td>0.0</td>\n",
       "      <td>0.169069</td>\n",
       "      <td>234.85</td>\n",
       "    </tr>\n",
       "    <tr>\n",
       "      <th>2008</th>\n",
       "      <td>271.90</td>\n",
       "      <td>2981.661424</td>\n",
       "      <td>-0.5</td>\n",
       "      <td>0.186723</td>\n",
       "      <td>261.35</td>\n",
       "    </tr>\n",
       "  </tbody>\n",
       "</table>\n",
       "</div>"
      ],
      "text/plain": [
       "      emp2_tj     gdp2r_tj  d_emp2_tj  gdp2r_tj_pch  emp2_tj_s1\n",
       "2007   261.35  2512.516924        0.0      0.169069      234.85\n",
       "2008   271.90  2981.661424       -0.5      0.186723      261.35"
      ]
     },
     "execution_count": 14,
     "metadata": {},
     "output_type": "execute_result"
    }
   ],
   "source": [
    "test1 = df_ev[[\"emp2_tj\",\"gdp2r_tj\",\"d_emp2_tj\"]]\n",
    "test1[\"gdp2r_tj_pch\"] =  (test1[\"gdp2r_tj\"] - test1[\"gdp2r_tj\"].shift(1) )/  test1[\"gdp2r_tj\"].shift(1)  #增长率\n",
    "test1[\"emp2_tj_s1\"] = test1[\"emp2_tj\"].shift(1)\n",
    "test1 = test1[(test1.index>2006) & (test1.index <2019)]\n",
    "test1.head(2)"
   ]
  },
  {
   "cell_type": "code",
   "execution_count": 15,
   "metadata": {
    "ExecuteTime": {
     "end_time": "2020-07-13T06:44:19.537228Z",
     "start_time": "2020-07-13T06:44:19.512341Z"
    }
   },
   "outputs": [
    {
     "data": {
      "text/html": [
       "<table class=\"simpletable\">\n",
       "<caption>OLS Regression Results</caption>\n",
       "<tr>\n",
       "  <th>Dep. Variable:</th>         <td>emp2_tj</td>     <th>  R-squared:         </th> <td>   0.993</td>\n",
       "</tr>\n",
       "<tr>\n",
       "  <th>Model:</th>                   <td>OLS</td>       <th>  Adj. R-squared:    </th> <td>   0.990</td>\n",
       "</tr>\n",
       "<tr>\n",
       "  <th>Method:</th>             <td>Least Squares</td>  <th>  F-statistic:       </th> <td>   364.4</td>\n",
       "</tr>\n",
       "<tr>\n",
       "  <th>Date:</th>             <td>Mon, 13 Jul 2020</td> <th>  Prob (F-statistic):</th> <td>6.83e-09</td>\n",
       "</tr>\n",
       "<tr>\n",
       "  <th>Time:</th>                 <td>06:44:19</td>     <th>  Log-Likelihood:    </th> <td> -27.148</td>\n",
       "</tr>\n",
       "<tr>\n",
       "  <th>No. Observations:</th>      <td>    12</td>      <th>  AIC:               </th> <td>   62.30</td>\n",
       "</tr>\n",
       "<tr>\n",
       "  <th>Df Residuals:</th>          <td>     8</td>      <th>  BIC:               </th> <td>   64.24</td>\n",
       "</tr>\n",
       "<tr>\n",
       "  <th>Df Model:</th>              <td>     3</td>      <th>                     </th>     <td> </td>   \n",
       "</tr>\n",
       "<tr>\n",
       "  <th>Covariance Type:</th>      <td>nonrobust</td>    <th>                     </th>     <td> </td>   \n",
       "</tr>\n",
       "</table>\n",
       "<table class=\"simpletable\">\n",
       "<tr>\n",
       "        <td></td>          <th>coef</th>     <th>std err</th>      <th>t</th>      <th>P>|t|</th>  <th>[0.025</th>    <th>0.975]</th>  \n",
       "</tr>\n",
       "<tr>\n",
       "  <th>Intercept</th>    <td>   64.8717</td> <td>    9.616</td> <td>    6.746</td> <td> 0.000</td> <td>   42.697</td> <td>   87.046</td>\n",
       "</tr>\n",
       "<tr>\n",
       "  <th>gdp2r_tj_pch</th> <td>  125.1391</td> <td>   14.022</td> <td>    8.924</td> <td> 0.000</td> <td>   92.804</td> <td>  157.475</td>\n",
       "</tr>\n",
       "<tr>\n",
       "  <th>emp2_tj_s1</th>   <td>    0.7424</td> <td>    0.029</td> <td>   25.743</td> <td> 0.000</td> <td>    0.676</td> <td>    0.809</td>\n",
       "</tr>\n",
       "<tr>\n",
       "  <th>d_emp2_tj</th>    <td>   14.1692</td> <td>    1.217</td> <td>   11.644</td> <td> 0.000</td> <td>   11.363</td> <td>   16.975</td>\n",
       "</tr>\n",
       "</table>\n",
       "<table class=\"simpletable\">\n",
       "<tr>\n",
       "  <th>Omnibus:</th>       <td> 5.251</td> <th>  Durbin-Watson:     </th> <td>   2.597</td>\n",
       "</tr>\n",
       "<tr>\n",
       "  <th>Prob(Omnibus):</th> <td> 0.072</td> <th>  Jarque-Bera (JB):  </th> <td>   1.310</td>\n",
       "</tr>\n",
       "<tr>\n",
       "  <th>Skew:</th>          <td>-0.066</td> <th>  Prob(JB):          </th> <td>   0.520</td>\n",
       "</tr>\n",
       "<tr>\n",
       "  <th>Kurtosis:</th>      <td> 1.387</td> <th>  Cond. No.          </th> <td>5.71e+03</td>\n",
       "</tr>\n",
       "</table><br/><br/>Warnings:<br/>[1] Standard Errors assume that the covariance matrix of the errors is correctly specified.<br/>[2] The condition number is large, 5.71e+03. This might indicate that there are<br/>strong multicollinearity or other numerical problems."
      ],
      "text/plain": [
       "<class 'statsmodels.iolib.summary.Summary'>\n",
       "\"\"\"\n",
       "                            OLS Regression Results                            \n",
       "==============================================================================\n",
       "Dep. Variable:                emp2_tj   R-squared:                       0.993\n",
       "Model:                            OLS   Adj. R-squared:                  0.990\n",
       "Method:                 Least Squares   F-statistic:                     364.4\n",
       "Date:                Mon, 13 Jul 2020   Prob (F-statistic):           6.83e-09\n",
       "Time:                        06:44:19   Log-Likelihood:                -27.148\n",
       "No. Observations:                  12   AIC:                             62.30\n",
       "Df Residuals:                       8   BIC:                             64.24\n",
       "Df Model:                           3                                         \n",
       "Covariance Type:            nonrobust                                         \n",
       "================================================================================\n",
       "                   coef    std err          t      P>|t|      [0.025      0.975]\n",
       "--------------------------------------------------------------------------------\n",
       "Intercept       64.8717      9.616      6.746      0.000      42.697      87.046\n",
       "gdp2r_tj_pch   125.1391     14.022      8.924      0.000      92.804     157.475\n",
       "emp2_tj_s1       0.7424      0.029     25.743      0.000       0.676       0.809\n",
       "d_emp2_tj       14.1692      1.217     11.644      0.000      11.363      16.975\n",
       "==============================================================================\n",
       "Omnibus:                        5.251   Durbin-Watson:                   2.597\n",
       "Prob(Omnibus):                  0.072   Jarque-Bera (JB):                1.310\n",
       "Skew:                          -0.066   Prob(JB):                        0.520\n",
       "Kurtosis:                       1.387   Cond. No.                     5.71e+03\n",
       "==============================================================================\n",
       "\n",
       "Warnings:\n",
       "[1] Standard Errors assume that the covariance matrix of the errors is correctly specified.\n",
       "[2] The condition number is large, 5.71e+03. This might indicate that there are\n",
       "strong multicollinearity or other numerical problems.\n",
       "\"\"\""
      ]
     },
     "execution_count": 15,
     "metadata": {},
     "output_type": "execute_result"
    }
   ],
   "source": [
    "results = sm.ols(formula = \"emp2_tj ~  gdp2r_tj_pch   + emp2_tj_s1 + d_emp2_tj \",data = test1 ).fit()\n",
    "results.summary()"
   ]
  },
  {
   "cell_type": "markdown",
   "metadata": {},
   "source": [
    "## Eq 167 : emp3_tj 行为方程 ok \n",
    "emp3_tj  = @coef(1)  + @coef(2) * @pch(gdp3r_tj)  + @coef(3) * emp3_tj(-1)  + @coef(4) * d_emp3_tj"
   ]
  },
  {
   "cell_type": "code",
   "execution_count": 19,
   "metadata": {
    "ExecuteTime": {
     "end_time": "2020-07-13T06:46:38.880378Z",
     "start_time": "2020-07-13T06:46:38.776006Z"
    }
   },
   "outputs": [
    {
     "data": {
      "text/html": [
       "<div>\n",
       "<style scoped>\n",
       "    .dataframe tbody tr th:only-of-type {\n",
       "        vertical-align: middle;\n",
       "    }\n",
       "\n",
       "    .dataframe tbody tr th {\n",
       "        vertical-align: top;\n",
       "    }\n",
       "\n",
       "    .dataframe thead th {\n",
       "        text-align: right;\n",
       "    }\n",
       "</style>\n",
       "<table border=\"1\" class=\"dataframe\">\n",
       "  <thead>\n",
       "    <tr style=\"text-align: right;\">\n",
       "      <th></th>\n",
       "      <th>emp3_tj</th>\n",
       "      <th>gdp3r_tj</th>\n",
       "      <th>d_emp3_tj</th>\n",
       "      <th>gdp3r_tj_pch</th>\n",
       "      <th>emp3_tj_s1</th>\n",
       "    </tr>\n",
       "  </thead>\n",
       "  <tbody>\n",
       "    <tr>\n",
       "      <th>2007</th>\n",
       "      <td>275.60</td>\n",
       "      <td>3190.305410</td>\n",
       "      <td>0.0</td>\n",
       "      <td>0.152039</td>\n",
       "      <td>246.96</td>\n",
       "    </tr>\n",
       "    <tr>\n",
       "      <th>2008</th>\n",
       "      <td>299.12</td>\n",
       "      <td>3689.998196</td>\n",
       "      <td>0.0</td>\n",
       "      <td>0.156629</td>\n",
       "      <td>275.60</td>\n",
       "    </tr>\n",
       "  </tbody>\n",
       "</table>\n",
       "</div>"
      ],
      "text/plain": [
       "      emp3_tj     gdp3r_tj  d_emp3_tj  gdp3r_tj_pch  emp3_tj_s1\n",
       "2007   275.60  3190.305410        0.0      0.152039      246.96\n",
       "2008   299.12  3689.998196        0.0      0.156629      275.60"
      ]
     },
     "execution_count": 19,
     "metadata": {},
     "output_type": "execute_result"
    }
   ],
   "source": [
    "test1 = df_ev[[\"emp3_tj\",\"gdp3r_tj\" ,\"d_emp3_tj\"]]\n",
    "test1[\"gdp3r_tj_pch\"] =  (test1[\"gdp3r_tj\"] - test1[\"gdp3r_tj\"].shift(1) )/  test1[\"gdp3r_tj\"].shift(1)  #增长率\n",
    "test1[\"emp3_tj_s1\"] = test1[\"emp3_tj\"].shift(1)\n",
    "test1 = test1[(test1.index>2006) & (test1.index <2019)]\n",
    "test1.head(2)"
   ]
  },
  {
   "cell_type": "code",
   "execution_count": 20,
   "metadata": {
    "ExecuteTime": {
     "end_time": "2020-07-13T06:46:40.086301Z",
     "start_time": "2020-07-13T06:46:40.058814Z"
    }
   },
   "outputs": [
    {
     "data": {
      "text/html": [
       "<table class=\"simpletable\">\n",
       "<caption>OLS Regression Results</caption>\n",
       "<tr>\n",
       "  <th>Dep. Variable:</th>         <td>emp3_tj</td>     <th>  R-squared:         </th> <td>   0.999</td>\n",
       "</tr>\n",
       "<tr>\n",
       "  <th>Model:</th>                   <td>OLS</td>       <th>  Adj. R-squared:    </th> <td>   0.999</td>\n",
       "</tr>\n",
       "<tr>\n",
       "  <th>Method:</th>             <td>Least Squares</td>  <th>  F-statistic:       </th> <td>   3424.</td>\n",
       "</tr>\n",
       "<tr>\n",
       "  <th>Date:</th>             <td>Mon, 13 Jul 2020</td> <th>  Prob (F-statistic):</th> <td>9.02e-13</td>\n",
       "</tr>\n",
       "<tr>\n",
       "  <th>Time:</th>                 <td>06:46:40</td>     <th>  Log-Likelihood:    </th> <td> -28.659</td>\n",
       "</tr>\n",
       "<tr>\n",
       "  <th>No. Observations:</th>      <td>    12</td>      <th>  AIC:               </th> <td>   65.32</td>\n",
       "</tr>\n",
       "<tr>\n",
       "  <th>Df Residuals:</th>          <td>     8</td>      <th>  BIC:               </th> <td>   67.26</td>\n",
       "</tr>\n",
       "<tr>\n",
       "  <th>Df Model:</th>              <td>     3</td>      <th>                     </th>     <td> </td>   \n",
       "</tr>\n",
       "<tr>\n",
       "  <th>Covariance Type:</th>      <td>nonrobust</td>    <th>                     </th>     <td> </td>   \n",
       "</tr>\n",
       "</table>\n",
       "<table class=\"simpletable\">\n",
       "<tr>\n",
       "        <td></td>          <th>coef</th>     <th>std err</th>      <th>t</th>      <th>P>|t|</th>  <th>[0.025</th>    <th>0.975]</th>  \n",
       "</tr>\n",
       "<tr>\n",
       "  <th>Intercept</th>    <td>    1.7129</td> <td>   21.404</td> <td>    0.080</td> <td> 0.938</td> <td>  -47.645</td> <td>   51.071</td>\n",
       "</tr>\n",
       "<tr>\n",
       "  <th>gdp3r_tj_pch</th> <td>  162.7237</td> <td>   83.317</td> <td>    1.953</td> <td> 0.087</td> <td>  -29.406</td> <td>  354.853</td>\n",
       "</tr>\n",
       "<tr>\n",
       "  <th>emp3_tj_s1</th>   <td>    1.0004</td> <td>    0.030</td> <td>   33.904</td> <td> 0.000</td> <td>    0.932</td> <td>    1.068</td>\n",
       "</tr>\n",
       "<tr>\n",
       "  <th>d_emp3_tj</th>    <td>   24.8958</td> <td>    2.537</td> <td>    9.811</td> <td> 0.000</td> <td>   19.044</td> <td>   30.747</td>\n",
       "</tr>\n",
       "</table>\n",
       "<table class=\"simpletable\">\n",
       "<tr>\n",
       "  <th>Omnibus:</th>       <td> 0.103</td> <th>  Durbin-Watson:     </th> <td>   3.003</td>\n",
       "</tr>\n",
       "<tr>\n",
       "  <th>Prob(Omnibus):</th> <td> 0.950</td> <th>  Jarque-Bera (JB):  </th> <td>   0.291</td>\n",
       "</tr>\n",
       "<tr>\n",
       "  <th>Skew:</th>          <td>-0.153</td> <th>  Prob(JB):          </th> <td>   0.864</td>\n",
       "</tr>\n",
       "<tr>\n",
       "  <th>Kurtosis:</th>      <td> 2.301</td> <th>  Cond. No.          </th> <td>3.75e+04</td>\n",
       "</tr>\n",
       "</table><br/><br/>Warnings:<br/>[1] Standard Errors assume that the covariance matrix of the errors is correctly specified.<br/>[2] The condition number is large, 3.75e+04. This might indicate that there are<br/>strong multicollinearity or other numerical problems."
      ],
      "text/plain": [
       "<class 'statsmodels.iolib.summary.Summary'>\n",
       "\"\"\"\n",
       "                            OLS Regression Results                            \n",
       "==============================================================================\n",
       "Dep. Variable:                emp3_tj   R-squared:                       0.999\n",
       "Model:                            OLS   Adj. R-squared:                  0.999\n",
       "Method:                 Least Squares   F-statistic:                     3424.\n",
       "Date:                Mon, 13 Jul 2020   Prob (F-statistic):           9.02e-13\n",
       "Time:                        06:46:40   Log-Likelihood:                -28.659\n",
       "No. Observations:                  12   AIC:                             65.32\n",
       "Df Residuals:                       8   BIC:                             67.26\n",
       "Df Model:                           3                                         \n",
       "Covariance Type:            nonrobust                                         \n",
       "================================================================================\n",
       "                   coef    std err          t      P>|t|      [0.025      0.975]\n",
       "--------------------------------------------------------------------------------\n",
       "Intercept        1.7129     21.404      0.080      0.938     -47.645      51.071\n",
       "gdp3r_tj_pch   162.7237     83.317      1.953      0.087     -29.406     354.853\n",
       "emp3_tj_s1       1.0004      0.030     33.904      0.000       0.932       1.068\n",
       "d_emp3_tj       24.8958      2.537      9.811      0.000      19.044      30.747\n",
       "==============================================================================\n",
       "Omnibus:                        0.103   Durbin-Watson:                   3.003\n",
       "Prob(Omnibus):                  0.950   Jarque-Bera (JB):                0.291\n",
       "Skew:                          -0.153   Prob(JB):                        0.864\n",
       "Kurtosis:                       2.301   Cond. No.                     3.75e+04\n",
       "==============================================================================\n",
       "\n",
       "Warnings:\n",
       "[1] Standard Errors assume that the covariance matrix of the errors is correctly specified.\n",
       "[2] The condition number is large, 3.75e+04. This might indicate that there are\n",
       "strong multicollinearity or other numerical problems.\n",
       "\"\"\""
      ]
     },
     "execution_count": 20,
     "metadata": {},
     "output_type": "execute_result"
    }
   ],
   "source": [
    "results = sm.ols(formula = \"emp3_tj ~ gdp3r_tj_pch + emp3_tj_s1  + d_emp3_tj\",data = test1 ).fit()\n",
    "results.summary()"
   ]
  },
  {
   "cell_type": "markdown",
   "metadata": {},
   "source": [
    "## Eq168 ： totpop_tj 行为方程  ok\n",
    "totpop_tj  = @coef(1)  + @coef(2) * d(gdpr_tj)  + @coef(3) * totpop_tj(-1)  + @coef(4) * d_totpop_tj\n"
   ]
  },
  {
   "cell_type": "code",
   "execution_count": 21,
   "metadata": {
    "ExecuteTime": {
     "end_time": "2020-07-13T06:48:49.424658Z",
     "start_time": "2020-07-13T06:48:49.321950Z"
    }
   },
   "outputs": [
    {
     "data": {
      "text/html": [
       "<div>\n",
       "<style scoped>\n",
       "    .dataframe tbody tr th:only-of-type {\n",
       "        vertical-align: middle;\n",
       "    }\n",
       "\n",
       "    .dataframe tbody tr th {\n",
       "        vertical-align: top;\n",
       "    }\n",
       "\n",
       "    .dataframe thead th {\n",
       "        text-align: right;\n",
       "    }\n",
       "</style>\n",
       "<table border=\"1\" class=\"dataframe\">\n",
       "  <thead>\n",
       "    <tr style=\"text-align: right;\">\n",
       "      <th></th>\n",
       "      <th>totpop_tj</th>\n",
       "      <th>gdpr_tj</th>\n",
       "      <th>d_totpop_tj</th>\n",
       "      <th>gdpr_tj_diff</th>\n",
       "      <th>totpop_tj_s1</th>\n",
       "    </tr>\n",
       "  </thead>\n",
       "  <tbody>\n",
       "    <tr>\n",
       "      <th>1998</th>\n",
       "      <td>0.095664</td>\n",
       "      <td>1865.342166</td>\n",
       "      <td>0</td>\n",
       "      <td>158.919254</td>\n",
       "      <td>0.095259</td>\n",
       "    </tr>\n",
       "    <tr>\n",
       "      <th>1999</th>\n",
       "      <td>0.095948</td>\n",
       "      <td>2051.845038</td>\n",
       "      <td>0</td>\n",
       "      <td>186.502872</td>\n",
       "      <td>0.095664</td>\n",
       "    </tr>\n",
       "  </tbody>\n",
       "</table>\n",
       "</div>"
      ],
      "text/plain": [
       "      totpop_tj      gdpr_tj  d_totpop_tj  gdpr_tj_diff  totpop_tj_s1\n",
       "1998   0.095664  1865.342166            0    158.919254      0.095259\n",
       "1999   0.095948  2051.845038            0    186.502872      0.095664"
      ]
     },
     "execution_count": 21,
     "metadata": {},
     "output_type": "execute_result"
    }
   ],
   "source": [
    "test1 = df_ev[[\"totpop_tj\",\"gdpr_tj\",\"d_totpop_tj\"]]\n",
    "test1[\"gdpr_tj_diff\"] = test1[\"gdpr_tj\"] - test1[\"gdpr_tj\"].shift(1)\n",
    "test1[\"totpop_tj_s1\"] = test1[\"totpop_tj\"].shift(1)\n",
    "test1 = test1[(test1.index>1997) & (test1.index <2019)]\n",
    "test1.head(2)"
   ]
  },
  {
   "cell_type": "code",
   "execution_count": 22,
   "metadata": {
    "ExecuteTime": {
     "end_time": "2020-07-13T06:48:50.428195Z",
     "start_time": "2020-07-13T06:48:50.402816Z"
    }
   },
   "outputs": [
    {
     "data": {
      "text/html": [
       "<table class=\"simpletable\">\n",
       "<caption>OLS Regression Results</caption>\n",
       "<tr>\n",
       "  <th>Dep. Variable:</th>        <td>totpop_tj</td>    <th>  R-squared:         </th> <td>   0.999</td> \n",
       "</tr>\n",
       "<tr>\n",
       "  <th>Model:</th>                   <td>OLS</td>       <th>  Adj. R-squared:    </th> <td>   0.999</td> \n",
       "</tr>\n",
       "<tr>\n",
       "  <th>Method:</th>             <td>Least Squares</td>  <th>  F-statistic:       </th> <td>1.003e+04</td>\n",
       "</tr>\n",
       "<tr>\n",
       "  <th>Date:</th>             <td>Mon, 13 Jul 2020</td> <th>  Prob (F-statistic):</th> <td>8.45e-28</td> \n",
       "</tr>\n",
       "<tr>\n",
       "  <th>Time:</th>                 <td>06:48:50</td>     <th>  Log-Likelihood:    </th> <td>  128.17</td> \n",
       "</tr>\n",
       "<tr>\n",
       "  <th>No. Observations:</th>      <td>    21</td>      <th>  AIC:               </th> <td>  -248.3</td> \n",
       "</tr>\n",
       "<tr>\n",
       "  <th>Df Residuals:</th>          <td>    17</td>      <th>  BIC:               </th> <td>  -244.2</td> \n",
       "</tr>\n",
       "<tr>\n",
       "  <th>Df Model:</th>              <td>     3</td>      <th>                     </th>     <td> </td>    \n",
       "</tr>\n",
       "<tr>\n",
       "  <th>Covariance Type:</th>      <td>nonrobust</td>    <th>                     </th>     <td> </td>    \n",
       "</tr>\n",
       "</table>\n",
       "<table class=\"simpletable\">\n",
       "<tr>\n",
       "        <td></td>          <th>coef</th>     <th>std err</th>      <th>t</th>      <th>P>|t|</th>  <th>[0.025</th>    <th>0.975]</th>  \n",
       "</tr>\n",
       "<tr>\n",
       "  <th>Intercept</th>    <td>    0.0045</td> <td>    0.001</td> <td>    4.998</td> <td> 0.000</td> <td>    0.003</td> <td>    0.006</td>\n",
       "</tr>\n",
       "<tr>\n",
       "  <th>totpop_tj_s1</th> <td>    0.9430</td> <td>    0.009</td> <td>  106.272</td> <td> 0.000</td> <td>    0.924</td> <td>    0.962</td>\n",
       "</tr>\n",
       "<tr>\n",
       "  <th>gdpr_tj_diff</th> <td> 6.071e-06</td> <td> 3.77e-07</td> <td>   16.100</td> <td> 0.000</td> <td> 5.28e-06</td> <td> 6.87e-06</td>\n",
       "</tr>\n",
       "<tr>\n",
       "  <th>d_totpop_tj</th>  <td>    0.0012</td> <td>    0.000</td> <td>    8.397</td> <td> 0.000</td> <td>    0.001</td> <td>    0.001</td>\n",
       "</tr>\n",
       "</table>\n",
       "<table class=\"simpletable\">\n",
       "<tr>\n",
       "  <th>Omnibus:</th>       <td> 0.183</td> <th>  Durbin-Watson:     </th> <td>   1.662</td>\n",
       "</tr>\n",
       "<tr>\n",
       "  <th>Prob(Omnibus):</th> <td> 0.912</td> <th>  Jarque-Bera (JB):  </th> <td>   0.327</td>\n",
       "</tr>\n",
       "<tr>\n",
       "  <th>Skew:</th>          <td> 0.182</td> <th>  Prob(JB):          </th> <td>   0.849</td>\n",
       "</tr>\n",
       "<tr>\n",
       "  <th>Kurtosis:</th>      <td> 2.509</td> <th>  Cond. No.          </th> <td>6.75e+04</td>\n",
       "</tr>\n",
       "</table><br/><br/>Warnings:<br/>[1] Standard Errors assume that the covariance matrix of the errors is correctly specified.<br/>[2] The condition number is large, 6.75e+04. This might indicate that there are<br/>strong multicollinearity or other numerical problems."
      ],
      "text/plain": [
       "<class 'statsmodels.iolib.summary.Summary'>\n",
       "\"\"\"\n",
       "                            OLS Regression Results                            \n",
       "==============================================================================\n",
       "Dep. Variable:              totpop_tj   R-squared:                       0.999\n",
       "Model:                            OLS   Adj. R-squared:                  0.999\n",
       "Method:                 Least Squares   F-statistic:                 1.003e+04\n",
       "Date:                Mon, 13 Jul 2020   Prob (F-statistic):           8.45e-28\n",
       "Time:                        06:48:50   Log-Likelihood:                 128.17\n",
       "No. Observations:                  21   AIC:                            -248.3\n",
       "Df Residuals:                      17   BIC:                            -244.2\n",
       "Df Model:                           3                                         \n",
       "Covariance Type:            nonrobust                                         \n",
       "================================================================================\n",
       "                   coef    std err          t      P>|t|      [0.025      0.975]\n",
       "--------------------------------------------------------------------------------\n",
       "Intercept        0.0045      0.001      4.998      0.000       0.003       0.006\n",
       "totpop_tj_s1     0.9430      0.009    106.272      0.000       0.924       0.962\n",
       "gdpr_tj_diff  6.071e-06   3.77e-07     16.100      0.000    5.28e-06    6.87e-06\n",
       "d_totpop_tj      0.0012      0.000      8.397      0.000       0.001       0.001\n",
       "==============================================================================\n",
       "Omnibus:                        0.183   Durbin-Watson:                   1.662\n",
       "Prob(Omnibus):                  0.912   Jarque-Bera (JB):                0.327\n",
       "Skew:                           0.182   Prob(JB):                        0.849\n",
       "Kurtosis:                       2.509   Cond. No.                     6.75e+04\n",
       "==============================================================================\n",
       "\n",
       "Warnings:\n",
       "[1] Standard Errors assume that the covariance matrix of the errors is correctly specified.\n",
       "[2] The condition number is large, 6.75e+04. This might indicate that there are\n",
       "strong multicollinearity or other numerical problems.\n",
       "\"\"\""
      ]
     },
     "execution_count": 22,
     "metadata": {},
     "output_type": "execute_result"
    }
   ],
   "source": [
    "results = sm.ols(formula = \"totpop_tj ~  totpop_tj_s1  + gdpr_tj_diff + d_totpop_tj\",data = test1 ).fit()\n",
    "results.summary()"
   ]
  },
  {
   "cell_type": "markdown",
   "metadata": {},
   "source": [
    "## Eq169 : popu_tj 行为方程 ok\n",
    "popu_tj  = @coef(1)  + @coef(2) * popu_tj(-1) "
   ]
  },
  {
   "cell_type": "code",
   "execution_count": 28,
   "metadata": {
    "ExecuteTime": {
     "end_time": "2020-07-13T06:55:14.316529Z",
     "start_time": "2020-07-13T06:55:14.258874Z"
    }
   },
   "outputs": [
    {
     "data": {
      "text/html": [
       "<div>\n",
       "<style scoped>\n",
       "    .dataframe tbody tr th:only-of-type {\n",
       "        vertical-align: middle;\n",
       "    }\n",
       "\n",
       "    .dataframe tbody tr th {\n",
       "        vertical-align: top;\n",
       "    }\n",
       "\n",
       "    .dataframe thead th {\n",
       "        text-align: right;\n",
       "    }\n",
       "</style>\n",
       "<table border=\"1\" class=\"dataframe\">\n",
       "  <thead>\n",
       "    <tr style=\"text-align: right;\">\n",
       "      <th></th>\n",
       "      <th>popu_tj</th>\n",
       "      <th>popu_tj_s1</th>\n",
       "    </tr>\n",
       "  </thead>\n",
       "  <tbody>\n",
       "    <tr>\n",
       "      <th>2006</th>\n",
       "      <td>0.081410</td>\n",
       "      <td>0.07834</td>\n",
       "    </tr>\n",
       "    <tr>\n",
       "      <th>2007</th>\n",
       "      <td>0.085089</td>\n",
       "      <td>0.08141</td>\n",
       "    </tr>\n",
       "  </tbody>\n",
       "</table>\n",
       "</div>"
      ],
      "text/plain": [
       "       popu_tj  popu_tj_s1\n",
       "2006  0.081410     0.07834\n",
       "2007  0.085089     0.08141"
      ]
     },
     "execution_count": 28,
     "metadata": {},
     "output_type": "execute_result"
    }
   ],
   "source": [
    "test1 = df_ev[[\"popu_tj\" ]]\n",
    "test1[\"popu_tj_s1\"] = test1[\"popu_tj\"].shift(1)\n",
    "test1 = test1[(test1.index>2005) & (test1.index <2019)]\n",
    "test1.head(2)"
   ]
  },
  {
   "cell_type": "code",
   "execution_count": 29,
   "metadata": {
    "ExecuteTime": {
     "end_time": "2020-07-13T06:55:21.513556Z",
     "start_time": "2020-07-13T06:55:21.491942Z"
    }
   },
   "outputs": [
    {
     "data": {
      "text/html": [
       "<table class=\"simpletable\">\n",
       "<caption>OLS Regression Results</caption>\n",
       "<tr>\n",
       "  <th>Dep. Variable:</th>         <td>popu_tj</td>     <th>  R-squared:         </th> <td>   0.988</td>\n",
       "</tr>\n",
       "<tr>\n",
       "  <th>Model:</th>                   <td>OLS</td>       <th>  Adj. R-squared:    </th> <td>   0.987</td>\n",
       "</tr>\n",
       "<tr>\n",
       "  <th>Method:</th>             <td>Least Squares</td>  <th>  F-statistic:       </th> <td>   909.6</td>\n",
       "</tr>\n",
       "<tr>\n",
       "  <th>Date:</th>             <td>Mon, 13 Jul 2020</td> <th>  Prob (F-statistic):</th> <td>6.29e-12</td>\n",
       "</tr>\n",
       "<tr>\n",
       "  <th>Time:</th>                 <td>06:55:21</td>     <th>  Log-Likelihood:    </th> <td>  63.132</td>\n",
       "</tr>\n",
       "<tr>\n",
       "  <th>No. Observations:</th>      <td>    13</td>      <th>  AIC:               </th> <td>  -122.3</td>\n",
       "</tr>\n",
       "<tr>\n",
       "  <th>Df Residuals:</th>          <td>    11</td>      <th>  BIC:               </th> <td>  -121.1</td>\n",
       "</tr>\n",
       "<tr>\n",
       "  <th>Df Model:</th>              <td>     1</td>      <th>                     </th>     <td> </td>   \n",
       "</tr>\n",
       "<tr>\n",
       "  <th>Covariance Type:</th>      <td>nonrobust</td>    <th>                     </th>     <td> </td>   \n",
       "</tr>\n",
       "</table>\n",
       "<table class=\"simpletable\">\n",
       "<tr>\n",
       "       <td></td>         <th>coef</th>     <th>std err</th>      <th>t</th>      <th>P>|t|</th>  <th>[0.025</th>    <th>0.975]</th>  \n",
       "</tr>\n",
       "<tr>\n",
       "  <th>Intercept</th>  <td>    0.0110</td> <td>    0.003</td> <td>    3.274</td> <td> 0.007</td> <td>    0.004</td> <td>    0.018</td>\n",
       "</tr>\n",
       "<tr>\n",
       "  <th>popu_tj_s1</th> <td>    0.9340</td> <td>    0.031</td> <td>   30.160</td> <td> 0.000</td> <td>    0.866</td> <td>    1.002</td>\n",
       "</tr>\n",
       "</table>\n",
       "<table class=\"simpletable\">\n",
       "<tr>\n",
       "  <th>Omnibus:</th>       <td> 1.875</td> <th>  Durbin-Watson:     </th> <td>   0.548</td>\n",
       "</tr>\n",
       "<tr>\n",
       "  <th>Prob(Omnibus):</th> <td> 0.392</td> <th>  Jarque-Bera (JB):  </th> <td>   0.899</td>\n",
       "</tr>\n",
       "<tr>\n",
       "  <th>Skew:</th>          <td>-0.119</td> <th>  Prob(JB):          </th> <td>   0.638</td>\n",
       "</tr>\n",
       "<tr>\n",
       "  <th>Kurtosis:</th>      <td> 1.734</td> <th>  Cond. No.          </th> <td>    55.2</td>\n",
       "</tr>\n",
       "</table><br/><br/>Warnings:<br/>[1] Standard Errors assume that the covariance matrix of the errors is correctly specified."
      ],
      "text/plain": [
       "<class 'statsmodels.iolib.summary.Summary'>\n",
       "\"\"\"\n",
       "                            OLS Regression Results                            \n",
       "==============================================================================\n",
       "Dep. Variable:                popu_tj   R-squared:                       0.988\n",
       "Model:                            OLS   Adj. R-squared:                  0.987\n",
       "Method:                 Least Squares   F-statistic:                     909.6\n",
       "Date:                Mon, 13 Jul 2020   Prob (F-statistic):           6.29e-12\n",
       "Time:                        06:55:21   Log-Likelihood:                 63.132\n",
       "No. Observations:                  13   AIC:                            -122.3\n",
       "Df Residuals:                      11   BIC:                            -121.1\n",
       "Df Model:                           1                                         \n",
       "Covariance Type:            nonrobust                                         \n",
       "==============================================================================\n",
       "                 coef    std err          t      P>|t|      [0.025      0.975]\n",
       "------------------------------------------------------------------------------\n",
       "Intercept      0.0110      0.003      3.274      0.007       0.004       0.018\n",
       "popu_tj_s1     0.9340      0.031     30.160      0.000       0.866       1.002\n",
       "==============================================================================\n",
       "Omnibus:                        1.875   Durbin-Watson:                   0.548\n",
       "Prob(Omnibus):                  0.392   Jarque-Bera (JB):                0.899\n",
       "Skew:                          -0.119   Prob(JB):                        0.638\n",
       "Kurtosis:                       1.734   Cond. No.                         55.2\n",
       "==============================================================================\n",
       "\n",
       "Warnings:\n",
       "[1] Standard Errors assume that the covariance matrix of the errors is correctly specified.\n",
       "\"\"\""
      ]
     },
     "execution_count": 29,
     "metadata": {},
     "output_type": "execute_result"
    }
   ],
   "source": [
    "results = sm.ols(formula = \"popu_tj ~  popu_tj_s1\",data = test1 ).fit()\n",
    "results.summary()"
   ]
  },
  {
   "cell_type": "markdown",
   "metadata": {},
   "source": [
    "## Eq170 : rpi_tj 行为方程 ok\n",
    "rpi_tj  = @coef(1)  + @coef(2) * d(cpi_tj)  + @coef(3) * rpi_tj(-1) "
   ]
  },
  {
   "cell_type": "code",
   "execution_count": 32,
   "metadata": {
    "ExecuteTime": {
     "end_time": "2020-07-13T07:01:52.013178Z",
     "start_time": "2020-07-13T07:01:51.908469Z"
    }
   },
   "outputs": [
    {
     "data": {
      "text/html": [
       "<div>\n",
       "<style scoped>\n",
       "    .dataframe tbody tr th:only-of-type {\n",
       "        vertical-align: middle;\n",
       "    }\n",
       "\n",
       "    .dataframe tbody tr th {\n",
       "        vertical-align: top;\n",
       "    }\n",
       "\n",
       "    .dataframe thead th {\n",
       "        text-align: right;\n",
       "    }\n",
       "</style>\n",
       "<table border=\"1\" class=\"dataframe\">\n",
       "  <thead>\n",
       "    <tr style=\"text-align: right;\">\n",
       "      <th></th>\n",
       "      <th>rpi_tj</th>\n",
       "      <th>cpi_tj</th>\n",
       "      <th>cpi_tj_diff</th>\n",
       "      <th>rpi_tj_s1</th>\n",
       "    </tr>\n",
       "  </thead>\n",
       "  <tbody>\n",
       "    <tr>\n",
       "      <th>1997</th>\n",
       "      <td>92.489105</td>\n",
       "      <td>73.412284</td>\n",
       "      <td>2.207353</td>\n",
       "      <td>91.846182</td>\n",
       "    </tr>\n",
       "    <tr>\n",
       "      <th>1998</th>\n",
       "      <td>89.344476</td>\n",
       "      <td>73.045223</td>\n",
       "      <td>-0.367061</td>\n",
       "      <td>92.489105</td>\n",
       "    </tr>\n",
       "  </tbody>\n",
       "</table>\n",
       "</div>"
      ],
      "text/plain": [
       "         rpi_tj     cpi_tj  cpi_tj_diff  rpi_tj_s1\n",
       "1997  92.489105  73.412284     2.207353  91.846182\n",
       "1998  89.344476  73.045223    -0.367061  92.489105"
      ]
     },
     "execution_count": 32,
     "metadata": {},
     "output_type": "execute_result"
    }
   ],
   "source": [
    "test1 = df_ev[[\"rpi_tj\",\"cpi_tj\"]]\n",
    "test1[\"cpi_tj_diff\"] = test1[\"cpi_tj\"] - test1[\"cpi_tj\"].shift(1)\n",
    "test1[\"rpi_tj_s1\"] = test1[\"rpi_tj\"].shift(1)\n",
    "test1 = test1[(test1.index>1996) & (test1.index <2019)]\n",
    "test1.head(2)"
   ]
  },
  {
   "cell_type": "code",
   "execution_count": 33,
   "metadata": {
    "ExecuteTime": {
     "end_time": "2020-07-13T07:01:53.663741Z",
     "start_time": "2020-07-13T07:01:53.640160Z"
    }
   },
   "outputs": [
    {
     "data": {
      "text/html": [
       "<table class=\"simpletable\">\n",
       "<caption>OLS Regression Results</caption>\n",
       "<tr>\n",
       "  <th>Dep. Variable:</th>         <td>rpi_tj</td>      <th>  R-squared:         </th> <td>   0.991</td>\n",
       "</tr>\n",
       "<tr>\n",
       "  <th>Model:</th>                   <td>OLS</td>       <th>  Adj. R-squared:    </th> <td>   0.990</td>\n",
       "</tr>\n",
       "<tr>\n",
       "  <th>Method:</th>             <td>Least Squares</td>  <th>  F-statistic:       </th> <td>   1012.</td>\n",
       "</tr>\n",
       "<tr>\n",
       "  <th>Date:</th>             <td>Mon, 13 Jul 2020</td> <th>  Prob (F-statistic):</th> <td>5.04e-20</td>\n",
       "</tr>\n",
       "<tr>\n",
       "  <th>Time:</th>                 <td>07:01:53</td>     <th>  Log-Likelihood:    </th> <td> -24.148</td>\n",
       "</tr>\n",
       "<tr>\n",
       "  <th>No. Observations:</th>      <td>    22</td>      <th>  AIC:               </th> <td>   54.30</td>\n",
       "</tr>\n",
       "<tr>\n",
       "  <th>Df Residuals:</th>          <td>    19</td>      <th>  BIC:               </th> <td>   57.57</td>\n",
       "</tr>\n",
       "<tr>\n",
       "  <th>Df Model:</th>              <td>     2</td>      <th>                     </th>     <td> </td>   \n",
       "</tr>\n",
       "<tr>\n",
       "  <th>Covariance Type:</th>      <td>nonrobust</td>    <th>                     </th>     <td> </td>   \n",
       "</tr>\n",
       "</table>\n",
       "<table class=\"simpletable\">\n",
       "<tr>\n",
       "       <td></td>          <th>coef</th>     <th>std err</th>      <th>t</th>      <th>P>|t|</th>  <th>[0.025</th>    <th>0.975]</th>  \n",
       "</tr>\n",
       "<tr>\n",
       "  <th>Intercept</th>   <td>   -0.9749</td> <td>    2.142</td> <td>   -0.455</td> <td> 0.654</td> <td>   -5.457</td> <td>    3.507</td>\n",
       "</tr>\n",
       "<tr>\n",
       "  <th>cpi_tj_diff</th> <td>    1.2960</td> <td>    0.115</td> <td>   11.300</td> <td> 0.000</td> <td>    1.056</td> <td>    1.536</td>\n",
       "</tr>\n",
       "<tr>\n",
       "  <th>rpi_tj_s1</th>   <td>    0.9934</td> <td>    0.024</td> <td>   41.482</td> <td> 0.000</td> <td>    0.943</td> <td>    1.044</td>\n",
       "</tr>\n",
       "</table>\n",
       "<table class=\"simpletable\">\n",
       "<tr>\n",
       "  <th>Omnibus:</th>       <td> 0.721</td> <th>  Durbin-Watson:     </th> <td>   1.566</td>\n",
       "</tr>\n",
       "<tr>\n",
       "  <th>Prob(Omnibus):</th> <td> 0.697</td> <th>  Jarque-Bera (JB):  </th> <td>   0.118</td>\n",
       "</tr>\n",
       "<tr>\n",
       "  <th>Skew:</th>          <td> 0.163</td> <th>  Prob(JB):          </th> <td>   0.943</td>\n",
       "</tr>\n",
       "<tr>\n",
       "  <th>Kurtosis:</th>      <td> 3.150</td> <th>  Cond. No.          </th> <td>1.16e+03</td>\n",
       "</tr>\n",
       "</table><br/><br/>Warnings:<br/>[1] Standard Errors assume that the covariance matrix of the errors is correctly specified.<br/>[2] The condition number is large, 1.16e+03. This might indicate that there are<br/>strong multicollinearity or other numerical problems."
      ],
      "text/plain": [
       "<class 'statsmodels.iolib.summary.Summary'>\n",
       "\"\"\"\n",
       "                            OLS Regression Results                            \n",
       "==============================================================================\n",
       "Dep. Variable:                 rpi_tj   R-squared:                       0.991\n",
       "Model:                            OLS   Adj. R-squared:                  0.990\n",
       "Method:                 Least Squares   F-statistic:                     1012.\n",
       "Date:                Mon, 13 Jul 2020   Prob (F-statistic):           5.04e-20\n",
       "Time:                        07:01:53   Log-Likelihood:                -24.148\n",
       "No. Observations:                  22   AIC:                             54.30\n",
       "Df Residuals:                      19   BIC:                             57.57\n",
       "Df Model:                           2                                         \n",
       "Covariance Type:            nonrobust                                         \n",
       "===============================================================================\n",
       "                  coef    std err          t      P>|t|      [0.025      0.975]\n",
       "-------------------------------------------------------------------------------\n",
       "Intercept      -0.9749      2.142     -0.455      0.654      -5.457       3.507\n",
       "cpi_tj_diff     1.2960      0.115     11.300      0.000       1.056       1.536\n",
       "rpi_tj_s1       0.9934      0.024     41.482      0.000       0.943       1.044\n",
       "==============================================================================\n",
       "Omnibus:                        0.721   Durbin-Watson:                   1.566\n",
       "Prob(Omnibus):                  0.697   Jarque-Bera (JB):                0.118\n",
       "Skew:                           0.163   Prob(JB):                        0.943\n",
       "Kurtosis:                       3.150   Cond. No.                     1.16e+03\n",
       "==============================================================================\n",
       "\n",
       "Warnings:\n",
       "[1] Standard Errors assume that the covariance matrix of the errors is correctly specified.\n",
       "[2] The condition number is large, 1.16e+03. This might indicate that there are\n",
       "strong multicollinearity or other numerical problems.\n",
       "\"\"\""
      ]
     },
     "execution_count": 33,
     "metadata": {},
     "output_type": "execute_result"
    }
   ],
   "source": [
    "results = sm.ols(formula = \"rpi_tj ~ cpi_tj_diff + rpi_tj_s1  \",data = test1 ).fit()\n",
    "results.summary()"
   ]
  },
  {
   "cell_type": "markdown",
   "metadata": {
    "ExecuteTime": {
     "end_time": "2020-07-10T03:31:30.121679Z",
     "start_time": "2020-07-10T03:31:30.102895Z"
    }
   },
   "source": [
    "## Eq171 : cpi_tj 行为方程  ok\n",
    "cpi_tj  = @coef(1)  + @coef(2) * cpi_tj(-1)  + @coef(3) * gdpd_tj  + @coef(4) * d_cpi_tj "
   ]
  },
  {
   "cell_type": "code",
   "execution_count": 36,
   "metadata": {
    "ExecuteTime": {
     "end_time": "2020-07-13T07:06:46.964668Z",
     "start_time": "2020-07-13T07:06:46.904036Z"
    }
   },
   "outputs": [
    {
     "data": {
      "text/html": [
       "<div>\n",
       "<style scoped>\n",
       "    .dataframe tbody tr th:only-of-type {\n",
       "        vertical-align: middle;\n",
       "    }\n",
       "\n",
       "    .dataframe tbody tr th {\n",
       "        vertical-align: top;\n",
       "    }\n",
       "\n",
       "    .dataframe thead th {\n",
       "        text-align: right;\n",
       "    }\n",
       "</style>\n",
       "<table border=\"1\" class=\"dataframe\">\n",
       "  <thead>\n",
       "    <tr style=\"text-align: right;\">\n",
       "      <th></th>\n",
       "      <th>cpi_tj</th>\n",
       "      <th>gdpd_tj</th>\n",
       "      <th>d_cpi_tj</th>\n",
       "      <th>cpi_tj_s1</th>\n",
       "    </tr>\n",
       "  </thead>\n",
       "  <tbody>\n",
       "    <tr>\n",
       "      <th>1997</th>\n",
       "      <td>73.412284</td>\n",
       "      <td>74.109999</td>\n",
       "      <td>1</td>\n",
       "      <td>71.204931</td>\n",
       "    </tr>\n",
       "    <tr>\n",
       "      <th>1998</th>\n",
       "      <td>73.045223</td>\n",
       "      <td>73.691574</td>\n",
       "      <td>0</td>\n",
       "      <td>73.412284</td>\n",
       "    </tr>\n",
       "  </tbody>\n",
       "</table>\n",
       "</div>"
      ],
      "text/plain": [
       "         cpi_tj    gdpd_tj  d_cpi_tj  cpi_tj_s1\n",
       "1997  73.412284  74.109999         1  71.204931\n",
       "1998  73.045223  73.691574         0  73.412284"
      ]
     },
     "execution_count": 36,
     "metadata": {},
     "output_type": "execute_result"
    }
   ],
   "source": [
    "test1 = df_ev[[\"cpi_tj\",\"gdpd_tj\" ,\"d_cpi_tj\"]]\n",
    "test1[\"cpi_tj_s1\"] = test1[\"cpi_tj\"].shift(1)\n",
    "test1 = test1[(test1.index>1996) & (test1.index <2019)]\n",
    "test1.head(2)"
   ]
  },
  {
   "cell_type": "code",
   "execution_count": 38,
   "metadata": {
    "ExecuteTime": {
     "end_time": "2020-07-13T07:07:28.807499Z",
     "start_time": "2020-07-13T07:07:28.774055Z"
    }
   },
   "outputs": [
    {
     "data": {
      "text/html": [
       "<table class=\"simpletable\">\n",
       "<caption>OLS Regression Results</caption>\n",
       "<tr>\n",
       "  <th>Dep. Variable:</th>         <td>cpi_tj</td>      <th>  R-squared:         </th> <td>   0.997</td>\n",
       "</tr>\n",
       "<tr>\n",
       "  <th>Model:</th>                   <td>OLS</td>       <th>  Adj. R-squared:    </th> <td>   0.997</td>\n",
       "</tr>\n",
       "<tr>\n",
       "  <th>Method:</th>             <td>Least Squares</td>  <th>  F-statistic:       </th> <td>   2301.</td>\n",
       "</tr>\n",
       "<tr>\n",
       "  <th>Date:</th>             <td>Mon, 13 Jul 2020</td> <th>  Prob (F-statistic):</th> <td>1.91e-23</td>\n",
       "</tr>\n",
       "<tr>\n",
       "  <th>Time:</th>                 <td>07:07:28</td>     <th>  Log-Likelihood:    </th> <td> -20.112</td>\n",
       "</tr>\n",
       "<tr>\n",
       "  <th>No. Observations:</th>      <td>    22</td>      <th>  AIC:               </th> <td>   48.22</td>\n",
       "</tr>\n",
       "<tr>\n",
       "  <th>Df Residuals:</th>          <td>    18</td>      <th>  BIC:               </th> <td>   52.59</td>\n",
       "</tr>\n",
       "<tr>\n",
       "  <th>Df Model:</th>              <td>     3</td>      <th>                     </th>     <td> </td>   \n",
       "</tr>\n",
       "<tr>\n",
       "  <th>Covariance Type:</th>      <td>nonrobust</td>    <th>                     </th>     <td> </td>   \n",
       "</tr>\n",
       "</table>\n",
       "<table class=\"simpletable\">\n",
       "<tr>\n",
       "      <td></td>         <th>coef</th>     <th>std err</th>      <th>t</th>      <th>P>|t|</th>  <th>[0.025</th>    <th>0.975]</th>  \n",
       "</tr>\n",
       "<tr>\n",
       "  <th>Intercept</th> <td>   -6.2589</td> <td>    1.160</td> <td>   -5.395</td> <td> 0.000</td> <td>   -8.696</td> <td>   -3.822</td>\n",
       "</tr>\n",
       "<tr>\n",
       "  <th>cpi_tj_s1</th> <td>    0.9642</td> <td>    0.020</td> <td>   47.505</td> <td> 0.000</td> <td>    0.922</td> <td>    1.007</td>\n",
       "</tr>\n",
       "<tr>\n",
       "  <th>gdpd_tj</th>   <td>    0.1201</td> <td>    0.019</td> <td>    6.251</td> <td> 0.000</td> <td>    0.080</td> <td>    0.160</td>\n",
       "</tr>\n",
       "<tr>\n",
       "  <th>d_cpi_tj</th>  <td>    1.6273</td> <td>    0.275</td> <td>    5.910</td> <td> 0.000</td> <td>    1.049</td> <td>    2.206</td>\n",
       "</tr>\n",
       "</table>\n",
       "<table class=\"simpletable\">\n",
       "<tr>\n",
       "  <th>Omnibus:</th>       <td> 1.240</td> <th>  Durbin-Watson:     </th> <td>   2.144</td>\n",
       "</tr>\n",
       "<tr>\n",
       "  <th>Prob(Omnibus):</th> <td> 0.538</td> <th>  Jarque-Bera (JB):  </th> <td>   1.027</td>\n",
       "</tr>\n",
       "<tr>\n",
       "  <th>Skew:</th>          <td> 0.313</td> <th>  Prob(JB):          </th> <td>   0.599</td>\n",
       "</tr>\n",
       "<tr>\n",
       "  <th>Kurtosis:</th>      <td> 2.147</td> <th>  Cond. No.          </th> <td>1.01e+03</td>\n",
       "</tr>\n",
       "</table><br/><br/>Warnings:<br/>[1] Standard Errors assume that the covariance matrix of the errors is correctly specified.<br/>[2] The condition number is large, 1.01e+03. This might indicate that there are<br/>strong multicollinearity or other numerical problems."
      ],
      "text/plain": [
       "<class 'statsmodels.iolib.summary.Summary'>\n",
       "\"\"\"\n",
       "                            OLS Regression Results                            \n",
       "==============================================================================\n",
       "Dep. Variable:                 cpi_tj   R-squared:                       0.997\n",
       "Model:                            OLS   Adj. R-squared:                  0.997\n",
       "Method:                 Least Squares   F-statistic:                     2301.\n",
       "Date:                Mon, 13 Jul 2020   Prob (F-statistic):           1.91e-23\n",
       "Time:                        07:07:28   Log-Likelihood:                -20.112\n",
       "No. Observations:                  22   AIC:                             48.22\n",
       "Df Residuals:                      18   BIC:                             52.59\n",
       "Df Model:                           3                                         \n",
       "Covariance Type:            nonrobust                                         \n",
       "==============================================================================\n",
       "                 coef    std err          t      P>|t|      [0.025      0.975]\n",
       "------------------------------------------------------------------------------\n",
       "Intercept     -6.2589      1.160     -5.395      0.000      -8.696      -3.822\n",
       "cpi_tj_s1      0.9642      0.020     47.505      0.000       0.922       1.007\n",
       "gdpd_tj        0.1201      0.019      6.251      0.000       0.080       0.160\n",
       "d_cpi_tj       1.6273      0.275      5.910      0.000       1.049       2.206\n",
       "==============================================================================\n",
       "Omnibus:                        1.240   Durbin-Watson:                   2.144\n",
       "Prob(Omnibus):                  0.538   Jarque-Bera (JB):                1.027\n",
       "Skew:                           0.313   Prob(JB):                        0.599\n",
       "Kurtosis:                       2.147   Cond. No.                     1.01e+03\n",
       "==============================================================================\n",
       "\n",
       "Warnings:\n",
       "[1] Standard Errors assume that the covariance matrix of the errors is correctly specified.\n",
       "[2] The condition number is large, 1.01e+03. This might indicate that there are\n",
       "strong multicollinearity or other numerical problems.\n",
       "\"\"\""
      ]
     },
     "execution_count": 38,
     "metadata": {},
     "output_type": "execute_result"
    }
   ],
   "source": [
    "results = sm.ols(formula = \"cpi_tj ~ cpi_tj_s1 + gdpd_tj + d_cpi_tj\",data = test1 ).fit()\n",
    "results.summary()"
   ]
  },
  {
   "cell_type": "markdown",
   "metadata": {},
   "source": [
    "## Eq172 ：gdp1d_tj 行为方程  ok\n",
    "gdp1d_tj  = @coef(1)  + @coef(2) * d(rpi_tj)  + @coef(3) * gdp1d_tj(-1)  + @coef(4) * cpi_tj  + @coef(5) * d_gdp1d_tj"
   ]
  },
  {
   "cell_type": "code",
   "execution_count": 39,
   "metadata": {
    "ExecuteTime": {
     "end_time": "2020-07-13T07:12:49.642542Z",
     "start_time": "2020-07-13T07:12:49.536356Z"
    }
   },
   "outputs": [
    {
     "data": {
      "text/html": [
       "<div>\n",
       "<style scoped>\n",
       "    .dataframe tbody tr th:only-of-type {\n",
       "        vertical-align: middle;\n",
       "    }\n",
       "\n",
       "    .dataframe tbody tr th {\n",
       "        vertical-align: top;\n",
       "    }\n",
       "\n",
       "    .dataframe thead th {\n",
       "        text-align: right;\n",
       "    }\n",
       "</style>\n",
       "<table border=\"1\" class=\"dataframe\">\n",
       "  <thead>\n",
       "    <tr style=\"text-align: right;\">\n",
       "      <th></th>\n",
       "      <th>gdp1d_tj</th>\n",
       "      <th>rpi_tj</th>\n",
       "      <th>cpi_tj</th>\n",
       "      <th>d_gdp1d_tj</th>\n",
       "      <th>rpi_tj_diff</th>\n",
       "      <th>gdp1d_tj_s1</th>\n",
       "    </tr>\n",
       "  </thead>\n",
       "  <tbody>\n",
       "    <tr>\n",
       "      <th>1997</th>\n",
       "      <td>87.622905</td>\n",
       "      <td>92.489105</td>\n",
       "      <td>73.412284</td>\n",
       "      <td>0.0</td>\n",
       "      <td>0.642923</td>\n",
       "      <td>91.529518</td>\n",
       "    </tr>\n",
       "    <tr>\n",
       "      <th>1998</th>\n",
       "      <td>88.657887</td>\n",
       "      <td>89.344476</td>\n",
       "      <td>73.045223</td>\n",
       "      <td>0.5</td>\n",
       "      <td>-3.144630</td>\n",
       "      <td>87.622905</td>\n",
       "    </tr>\n",
       "  </tbody>\n",
       "</table>\n",
       "</div>"
      ],
      "text/plain": [
       "       gdp1d_tj     rpi_tj     cpi_tj  d_gdp1d_tj  rpi_tj_diff  gdp1d_tj_s1\n",
       "1997  87.622905  92.489105  73.412284         0.0     0.642923    91.529518\n",
       "1998  88.657887  89.344476  73.045223         0.5    -3.144630    87.622905"
      ]
     },
     "execution_count": 39,
     "metadata": {},
     "output_type": "execute_result"
    }
   ],
   "source": [
    "test1 = df_ev[[\"gdp1d_tj\",\"rpi_tj\",\"cpi_tj\",\"d_gdp1d_tj\"]]\n",
    "test1[\"rpi_tj_diff\"] = test1[\"rpi_tj\"] - test1[\"rpi_tj\"].shift(1)\n",
    "test1[\"gdp1d_tj_s1\"] = test1[\"gdp1d_tj\"].shift(1)\n",
    "test1 = test1[(test1.index>1996) & (test1.index <2019)]\n",
    "test1.head(2)"
   ]
  },
  {
   "cell_type": "code",
   "execution_count": 40,
   "metadata": {
    "ExecuteTime": {
     "end_time": "2020-07-13T07:12:50.830941Z",
     "start_time": "2020-07-13T07:12:50.804221Z"
    }
   },
   "outputs": [
    {
     "data": {
      "text/html": [
       "<table class=\"simpletable\">\n",
       "<caption>OLS Regression Results</caption>\n",
       "<tr>\n",
       "  <th>Dep. Variable:</th>        <td>gdp1d_tj</td>     <th>  R-squared:         </th> <td>   0.980</td>\n",
       "</tr>\n",
       "<tr>\n",
       "  <th>Model:</th>                   <td>OLS</td>       <th>  Adj. R-squared:    </th> <td>   0.975</td>\n",
       "</tr>\n",
       "<tr>\n",
       "  <th>Method:</th>             <td>Least Squares</td>  <th>  F-statistic:       </th> <td>   206.6</td>\n",
       "</tr>\n",
       "<tr>\n",
       "  <th>Date:</th>             <td>Mon, 13 Jul 2020</td> <th>  Prob (F-statistic):</th> <td>3.61e-14</td>\n",
       "</tr>\n",
       "<tr>\n",
       "  <th>Time:</th>                 <td>07:12:50</td>     <th>  Log-Likelihood:    </th> <td> -29.013</td>\n",
       "</tr>\n",
       "<tr>\n",
       "  <th>No. Observations:</th>      <td>    22</td>      <th>  AIC:               </th> <td>   68.03</td>\n",
       "</tr>\n",
       "<tr>\n",
       "  <th>Df Residuals:</th>          <td>    17</td>      <th>  BIC:               </th> <td>   73.48</td>\n",
       "</tr>\n",
       "<tr>\n",
       "  <th>Df Model:</th>              <td>     4</td>      <th>                     </th>     <td> </td>   \n",
       "</tr>\n",
       "<tr>\n",
       "  <th>Covariance Type:</th>      <td>nonrobust</td>    <th>                     </th>     <td> </td>   \n",
       "</tr>\n",
       "</table>\n",
       "<table class=\"simpletable\">\n",
       "<tr>\n",
       "       <td></td>          <th>coef</th>     <th>std err</th>      <th>t</th>      <th>P>|t|</th>  <th>[0.025</th>    <th>0.975]</th>  \n",
       "</tr>\n",
       "<tr>\n",
       "  <th>Intercept</th>   <td>   21.9992</td> <td>    4.298</td> <td>    5.119</td> <td> 0.000</td> <td>   12.932</td> <td>   31.067</td>\n",
       "</tr>\n",
       "<tr>\n",
       "  <th>rpi_tj_diff</th> <td>    0.4085</td> <td>    0.130</td> <td>    3.136</td> <td> 0.006</td> <td>    0.134</td> <td>    0.683</td>\n",
       "</tr>\n",
       "<tr>\n",
       "  <th>gdp1d_tj_s1</th> <td>    0.5134</td> <td>    0.073</td> <td>    7.061</td> <td> 0.000</td> <td>    0.360</td> <td>    0.667</td>\n",
       "</tr>\n",
       "<tr>\n",
       "  <th>cpi_tj</th>      <td>    0.2660</td> <td>    0.040</td> <td>    6.587</td> <td> 0.000</td> <td>    0.181</td> <td>    0.351</td>\n",
       "</tr>\n",
       "<tr>\n",
       "  <th>d_gdp1d_tj</th>  <td>    4.7254</td> <td>    0.407</td> <td>   11.597</td> <td> 0.000</td> <td>    3.866</td> <td>    5.585</td>\n",
       "</tr>\n",
       "</table>\n",
       "<table class=\"simpletable\">\n",
       "<tr>\n",
       "  <th>Omnibus:</th>       <td> 8.337</td> <th>  Durbin-Watson:     </th> <td>   1.706</td>\n",
       "</tr>\n",
       "<tr>\n",
       "  <th>Prob(Omnibus):</th> <td> 0.015</td> <th>  Jarque-Bera (JB):  </th> <td>   2.036</td>\n",
       "</tr>\n",
       "<tr>\n",
       "  <th>Skew:</th>          <td>-0.157</td> <th>  Prob(JB):          </th> <td>   0.361</td>\n",
       "</tr>\n",
       "<tr>\n",
       "  <th>Kurtosis:</th>      <td> 1.543</td> <th>  Cond. No.          </th> <td>2.46e+03</td>\n",
       "</tr>\n",
       "</table><br/><br/>Warnings:<br/>[1] Standard Errors assume that the covariance matrix of the errors is correctly specified.<br/>[2] The condition number is large, 2.46e+03. This might indicate that there are<br/>strong multicollinearity or other numerical problems."
      ],
      "text/plain": [
       "<class 'statsmodels.iolib.summary.Summary'>\n",
       "\"\"\"\n",
       "                            OLS Regression Results                            \n",
       "==============================================================================\n",
       "Dep. Variable:               gdp1d_tj   R-squared:                       0.980\n",
       "Model:                            OLS   Adj. R-squared:                  0.975\n",
       "Method:                 Least Squares   F-statistic:                     206.6\n",
       "Date:                Mon, 13 Jul 2020   Prob (F-statistic):           3.61e-14\n",
       "Time:                        07:12:50   Log-Likelihood:                -29.013\n",
       "No. Observations:                  22   AIC:                             68.03\n",
       "Df Residuals:                      17   BIC:                             73.48\n",
       "Df Model:                           4                                         \n",
       "Covariance Type:            nonrobust                                         \n",
       "===============================================================================\n",
       "                  coef    std err          t      P>|t|      [0.025      0.975]\n",
       "-------------------------------------------------------------------------------\n",
       "Intercept      21.9992      4.298      5.119      0.000      12.932      31.067\n",
       "rpi_tj_diff     0.4085      0.130      3.136      0.006       0.134       0.683\n",
       "gdp1d_tj_s1     0.5134      0.073      7.061      0.000       0.360       0.667\n",
       "cpi_tj          0.2660      0.040      6.587      0.000       0.181       0.351\n",
       "d_gdp1d_tj      4.7254      0.407     11.597      0.000       3.866       5.585\n",
       "==============================================================================\n",
       "Omnibus:                        8.337   Durbin-Watson:                   1.706\n",
       "Prob(Omnibus):                  0.015   Jarque-Bera (JB):                2.036\n",
       "Skew:                          -0.157   Prob(JB):                        0.361\n",
       "Kurtosis:                       1.543   Cond. No.                     2.46e+03\n",
       "==============================================================================\n",
       "\n",
       "Warnings:\n",
       "[1] Standard Errors assume that the covariance matrix of the errors is correctly specified.\n",
       "[2] The condition number is large, 2.46e+03. This might indicate that there are\n",
       "strong multicollinearity or other numerical problems.\n",
       "\"\"\""
      ]
     },
     "execution_count": 40,
     "metadata": {},
     "output_type": "execute_result"
    }
   ],
   "source": [
    "results = sm.ols(formula = \"gdp1d_tj ~ rpi_tj_diff + gdp1d_tj_s1 + cpi_tj + d_gdp1d_tj\",data = test1 ).fit()\n",
    "results.summary()"
   ]
  },
  {
   "cell_type": "markdown",
   "metadata": {},
   "source": [
    "## Eq173 :gdp2d_tj  行为方程  ok\n",
    "gdp2d_tj  = @coef(1)  + @coef(2) * ppi_tj  + @coef(3) * gdp2d_tj(-1)  + @coef(4) * d(faipi_tj)  + @coef(5) * d_gdp2d_tj"
   ]
  },
  {
   "cell_type": "code",
   "execution_count": 43,
   "metadata": {
    "ExecuteTime": {
     "end_time": "2020-07-13T07:21:44.851890Z",
     "start_time": "2020-07-13T07:21:44.736930Z"
    }
   },
   "outputs": [
    {
     "data": {
      "text/html": [
       "<div>\n",
       "<style scoped>\n",
       "    .dataframe tbody tr th:only-of-type {\n",
       "        vertical-align: middle;\n",
       "    }\n",
       "\n",
       "    .dataframe tbody tr th {\n",
       "        vertical-align: top;\n",
       "    }\n",
       "\n",
       "    .dataframe thead th {\n",
       "        text-align: right;\n",
       "    }\n",
       "</style>\n",
       "<table border=\"1\" class=\"dataframe\">\n",
       "  <thead>\n",
       "    <tr style=\"text-align: right;\">\n",
       "      <th></th>\n",
       "      <th>gdp2d_tj</th>\n",
       "      <th>ppi_tj</th>\n",
       "      <th>faipi_tj</th>\n",
       "      <th>d_gdp2d_tj</th>\n",
       "      <th>gdp2d_tj_s1</th>\n",
       "      <th>faipi_tj_diff</th>\n",
       "    </tr>\n",
       "  </thead>\n",
       "  <tbody>\n",
       "    <tr>\n",
       "      <th>1997</th>\n",
       "      <td>107.814632</td>\n",
       "      <td>123.600414</td>\n",
       "      <td>77.384583</td>\n",
       "      <td>0.0</td>\n",
       "      <td>108.114214</td>\n",
       "      <td>0.614163</td>\n",
       "    </tr>\n",
       "    <tr>\n",
       "      <th>1998</th>\n",
       "      <td>104.927400</td>\n",
       "      <td>117.049592</td>\n",
       "      <td>76.533353</td>\n",
       "      <td>0.0</td>\n",
       "      <td>107.814632</td>\n",
       "      <td>-0.851230</td>\n",
       "    </tr>\n",
       "  </tbody>\n",
       "</table>\n",
       "</div>"
      ],
      "text/plain": [
       "        gdp2d_tj      ppi_tj   faipi_tj  d_gdp2d_tj  gdp2d_tj_s1  \\\n",
       "1997  107.814632  123.600414  77.384583         0.0   108.114214   \n",
       "1998  104.927400  117.049592  76.533353         0.0   107.814632   \n",
       "\n",
       "      faipi_tj_diff  \n",
       "1997       0.614163  \n",
       "1998      -0.851230  "
      ]
     },
     "execution_count": 43,
     "metadata": {},
     "output_type": "execute_result"
    }
   ],
   "source": [
    "test1 = df_ev[[\"gdp2d_tj\",\"ppi_tj\",\"faipi_tj\",\"d_gdp2d_tj\"]]\n",
    "test1[\"gdp2d_tj_s1\"] = test1[\"gdp2d_tj\"].shift(1)\n",
    "test1[\"faipi_tj_diff\"] = test1[\"faipi_tj\"] - test1[\"faipi_tj\"].shift(1)\n",
    "test1 = test1[(test1.index>1996) & (test1.index <2019)]\n",
    "test1.head(2)"
   ]
  },
  {
   "cell_type": "code",
   "execution_count": 44,
   "metadata": {
    "ExecuteTime": {
     "end_time": "2020-07-13T07:21:45.881008Z",
     "start_time": "2020-07-13T07:21:45.854635Z"
    }
   },
   "outputs": [
    {
     "data": {
      "text/html": [
       "<table class=\"simpletable\">\n",
       "<caption>OLS Regression Results</caption>\n",
       "<tr>\n",
       "  <th>Dep. Variable:</th>        <td>gdp2d_tj</td>     <th>  R-squared:         </th> <td>   0.977</td>\n",
       "</tr>\n",
       "<tr>\n",
       "  <th>Model:</th>                   <td>OLS</td>       <th>  Adj. R-squared:    </th> <td>   0.972</td>\n",
       "</tr>\n",
       "<tr>\n",
       "  <th>Method:</th>             <td>Least Squares</td>  <th>  F-statistic:       </th> <td>   180.7</td>\n",
       "</tr>\n",
       "<tr>\n",
       "  <th>Date:</th>             <td>Mon, 13 Jul 2020</td> <th>  Prob (F-statistic):</th> <td>1.09e-13</td>\n",
       "</tr>\n",
       "<tr>\n",
       "  <th>Time:</th>                 <td>07:21:45</td>     <th>  Log-Likelihood:    </th> <td> -41.399</td>\n",
       "</tr>\n",
       "<tr>\n",
       "  <th>No. Observations:</th>      <td>    22</td>      <th>  AIC:               </th> <td>   92.80</td>\n",
       "</tr>\n",
       "<tr>\n",
       "  <th>Df Residuals:</th>          <td>    17</td>      <th>  BIC:               </th> <td>   98.25</td>\n",
       "</tr>\n",
       "<tr>\n",
       "  <th>Df Model:</th>              <td>     4</td>      <th>                     </th>     <td> </td>   \n",
       "</tr>\n",
       "<tr>\n",
       "  <th>Covariance Type:</th>      <td>nonrobust</td>    <th>                     </th>     <td> </td>   \n",
       "</tr>\n",
       "</table>\n",
       "<table class=\"simpletable\">\n",
       "<tr>\n",
       "        <td></td>           <th>coef</th>     <th>std err</th>      <th>t</th>      <th>P>|t|</th>  <th>[0.025</th>    <th>0.975]</th>  \n",
       "</tr>\n",
       "<tr>\n",
       "  <th>Intercept</th>     <td>  -11.4974</td> <td>    8.282</td> <td>   -1.388</td> <td> 0.183</td> <td>  -28.970</td> <td>    5.975</td>\n",
       "</tr>\n",
       "<tr>\n",
       "  <th>ppi_tj</th>        <td>    0.2849</td> <td>    0.080</td> <td>    3.553</td> <td> 0.002</td> <td>    0.116</td> <td>    0.454</td>\n",
       "</tr>\n",
       "<tr>\n",
       "  <th>gdp2d_tj_s1</th>   <td>    0.7857</td> <td>    0.051</td> <td>   15.294</td> <td> 0.000</td> <td>    0.677</td> <td>    0.894</td>\n",
       "</tr>\n",
       "<tr>\n",
       "  <th>faipi_tj_diff</th> <td>    1.3002</td> <td>    0.177</td> <td>    7.343</td> <td> 0.000</td> <td>    0.927</td> <td>    1.674</td>\n",
       "</tr>\n",
       "<tr>\n",
       "  <th>d_gdp2d_tj</th>    <td>    4.4260</td> <td>    0.648</td> <td>    6.833</td> <td> 0.000</td> <td>    3.059</td> <td>    5.793</td>\n",
       "</tr>\n",
       "</table>\n",
       "<table class=\"simpletable\">\n",
       "<tr>\n",
       "  <th>Omnibus:</th>       <td> 2.463</td> <th>  Durbin-Watson:     </th> <td>   1.808</td>\n",
       "</tr>\n",
       "<tr>\n",
       "  <th>Prob(Omnibus):</th> <td> 0.292</td> <th>  Jarque-Bera (JB):  </th> <td>   1.733</td>\n",
       "</tr>\n",
       "<tr>\n",
       "  <th>Skew:</th>          <td>-0.684</td> <th>  Prob(JB):          </th> <td>   0.420</td>\n",
       "</tr>\n",
       "<tr>\n",
       "  <th>Kurtosis:</th>      <td> 2.852</td> <th>  Cond. No.          </th> <td>3.38e+03</td>\n",
       "</tr>\n",
       "</table><br/><br/>Warnings:<br/>[1] Standard Errors assume that the covariance matrix of the errors is correctly specified.<br/>[2] The condition number is large, 3.38e+03. This might indicate that there are<br/>strong multicollinearity or other numerical problems."
      ],
      "text/plain": [
       "<class 'statsmodels.iolib.summary.Summary'>\n",
       "\"\"\"\n",
       "                            OLS Regression Results                            \n",
       "==============================================================================\n",
       "Dep. Variable:               gdp2d_tj   R-squared:                       0.977\n",
       "Model:                            OLS   Adj. R-squared:                  0.972\n",
       "Method:                 Least Squares   F-statistic:                     180.7\n",
       "Date:                Mon, 13 Jul 2020   Prob (F-statistic):           1.09e-13\n",
       "Time:                        07:21:45   Log-Likelihood:                -41.399\n",
       "No. Observations:                  22   AIC:                             92.80\n",
       "Df Residuals:                      17   BIC:                             98.25\n",
       "Df Model:                           4                                         \n",
       "Covariance Type:            nonrobust                                         \n",
       "=================================================================================\n",
       "                    coef    std err          t      P>|t|      [0.025      0.975]\n",
       "---------------------------------------------------------------------------------\n",
       "Intercept       -11.4974      8.282     -1.388      0.183     -28.970       5.975\n",
       "ppi_tj            0.2849      0.080      3.553      0.002       0.116       0.454\n",
       "gdp2d_tj_s1       0.7857      0.051     15.294      0.000       0.677       0.894\n",
       "faipi_tj_diff     1.3002      0.177      7.343      0.000       0.927       1.674\n",
       "d_gdp2d_tj        4.4260      0.648      6.833      0.000       3.059       5.793\n",
       "==============================================================================\n",
       "Omnibus:                        2.463   Durbin-Watson:                   1.808\n",
       "Prob(Omnibus):                  0.292   Jarque-Bera (JB):                1.733\n",
       "Skew:                          -0.684   Prob(JB):                        0.420\n",
       "Kurtosis:                       2.852   Cond. No.                     3.38e+03\n",
       "==============================================================================\n",
       "\n",
       "Warnings:\n",
       "[1] Standard Errors assume that the covariance matrix of the errors is correctly specified.\n",
       "[2] The condition number is large, 3.38e+03. This might indicate that there are\n",
       "strong multicollinearity or other numerical problems.\n",
       "\"\"\""
      ]
     },
     "execution_count": 44,
     "metadata": {},
     "output_type": "execute_result"
    }
   ],
   "source": [
    "results = sm.ols(formula = \"gdp2d_tj ~ ppi_tj + gdp2d_tj_s1 + faipi_tj_diff + d_gdp2d_tj\",data = test1 ).fit()\n",
    "results.summary()"
   ]
  },
  {
   "cell_type": "markdown",
   "metadata": {},
   "source": [
    "## Eq174 : gdp3d_tj 行为方程 ok\n",
    "gdp3d_tj  = @coef(1)  + @coef(2) * gdp1d_tj  + @coef(3) * gdp2d_tj  + @coef(4) * gdp3d_tj(-1)"
   ]
  },
  {
   "cell_type": "code",
   "execution_count": 45,
   "metadata": {
    "ExecuteTime": {
     "end_time": "2020-07-13T07:26:27.332778Z",
     "start_time": "2020-07-13T07:26:27.272495Z"
    }
   },
   "outputs": [
    {
     "data": {
      "text/html": [
       "<div>\n",
       "<style scoped>\n",
       "    .dataframe tbody tr th:only-of-type {\n",
       "        vertical-align: middle;\n",
       "    }\n",
       "\n",
       "    .dataframe tbody tr th {\n",
       "        vertical-align: top;\n",
       "    }\n",
       "\n",
       "    .dataframe thead th {\n",
       "        text-align: right;\n",
       "    }\n",
       "</style>\n",
       "<table border=\"1\" class=\"dataframe\">\n",
       "  <thead>\n",
       "    <tr style=\"text-align: right;\">\n",
       "      <th></th>\n",
       "      <th>gdp3d_tj</th>\n",
       "      <th>gdp2d_tj</th>\n",
       "      <th>gdp1d_tj</th>\n",
       "      <th>gdp3d_tj_s1</th>\n",
       "    </tr>\n",
       "  </thead>\n",
       "  <tbody>\n",
       "    <tr>\n",
       "      <th>1997</th>\n",
       "      <td>51.906286</td>\n",
       "      <td>107.814632</td>\n",
       "      <td>87.622905</td>\n",
       "      <td>50.294340</td>\n",
       "    </tr>\n",
       "    <tr>\n",
       "      <th>1998</th>\n",
       "      <td>53.960349</td>\n",
       "      <td>104.927400</td>\n",
       "      <td>88.657887</td>\n",
       "      <td>51.906286</td>\n",
       "    </tr>\n",
       "  </tbody>\n",
       "</table>\n",
       "</div>"
      ],
      "text/plain": [
       "       gdp3d_tj    gdp2d_tj   gdp1d_tj  gdp3d_tj_s1\n",
       "1997  51.906286  107.814632  87.622905    50.294340\n",
       "1998  53.960349  104.927400  88.657887    51.906286"
      ]
     },
     "execution_count": 45,
     "metadata": {},
     "output_type": "execute_result"
    }
   ],
   "source": [
    "test1 = df_ev[[\"gdp3d_tj\",\"gdp2d_tj\",\"gdp1d_tj\"]]\n",
    "test1[\"gdp3d_tj_s1\"] = test1[\"gdp3d_tj\"].shift(1)\n",
    "test1 = test1[(test1.index>1996) & (test1.index <2019)]\n",
    "test1.head(2)"
   ]
  },
  {
   "cell_type": "code",
   "execution_count": 46,
   "metadata": {
    "ExecuteTime": {
     "end_time": "2020-07-13T07:26:28.343332Z",
     "start_time": "2020-07-13T07:26:28.318596Z"
    }
   },
   "outputs": [
    {
     "data": {
      "text/html": [
       "<table class=\"simpletable\">\n",
       "<caption>OLS Regression Results</caption>\n",
       "<tr>\n",
       "  <th>Dep. Variable:</th>        <td>gdp3d_tj</td>     <th>  R-squared:         </th> <td>   0.989</td>\n",
       "</tr>\n",
       "<tr>\n",
       "  <th>Model:</th>                   <td>OLS</td>       <th>  Adj. R-squared:    </th> <td>   0.987</td>\n",
       "</tr>\n",
       "<tr>\n",
       "  <th>Method:</th>             <td>Least Squares</td>  <th>  F-statistic:       </th> <td>   548.8</td>\n",
       "</tr>\n",
       "<tr>\n",
       "  <th>Date:</th>             <td>Mon, 13 Jul 2020</td> <th>  Prob (F-statistic):</th> <td>7.10e-18</td>\n",
       "</tr>\n",
       "<tr>\n",
       "  <th>Time:</th>                 <td>07:26:28</td>     <th>  Log-Likelihood:    </th> <td> -46.169</td>\n",
       "</tr>\n",
       "<tr>\n",
       "  <th>No. Observations:</th>      <td>    22</td>      <th>  AIC:               </th> <td>   100.3</td>\n",
       "</tr>\n",
       "<tr>\n",
       "  <th>Df Residuals:</th>          <td>    18</td>      <th>  BIC:               </th> <td>   104.7</td>\n",
       "</tr>\n",
       "<tr>\n",
       "  <th>Df Model:</th>              <td>     3</td>      <th>                     </th>     <td> </td>   \n",
       "</tr>\n",
       "<tr>\n",
       "  <th>Covariance Type:</th>      <td>nonrobust</td>    <th>                     </th>     <td> </td>   \n",
       "</tr>\n",
       "</table>\n",
       "<table class=\"simpletable\">\n",
       "<tr>\n",
       "       <td></td>          <th>coef</th>     <th>std err</th>      <th>t</th>      <th>P>|t|</th>  <th>[0.025</th>    <th>0.975]</th>  \n",
       "</tr>\n",
       "<tr>\n",
       "  <th>Intercept</th>   <td>  -30.7989</td> <td>   11.321</td> <td>   -2.721</td> <td> 0.014</td> <td>  -54.582</td> <td>   -7.015</td>\n",
       "</tr>\n",
       "<tr>\n",
       "  <th>gdp1d_tj</th>    <td>    0.2662</td> <td>    0.153</td> <td>    1.744</td> <td> 0.098</td> <td>   -0.054</td> <td>    0.587</td>\n",
       "</tr>\n",
       "<tr>\n",
       "  <th>gdp2d_tj</th>    <td>    0.1288</td> <td>    0.047</td> <td>    2.750</td> <td> 0.013</td> <td>    0.030</td> <td>    0.227</td>\n",
       "</tr>\n",
       "<tr>\n",
       "  <th>gdp3d_tj_s1</th> <td>    0.9303</td> <td>    0.053</td> <td>   17.712</td> <td> 0.000</td> <td>    0.820</td> <td>    1.041</td>\n",
       "</tr>\n",
       "</table>\n",
       "<table class=\"simpletable\">\n",
       "<tr>\n",
       "  <th>Omnibus:</th>       <td> 2.242</td> <th>  Durbin-Watson:     </th> <td>   1.916</td>\n",
       "</tr>\n",
       "<tr>\n",
       "  <th>Prob(Omnibus):</th> <td> 0.326</td> <th>  Jarque-Bera (JB):  </th> <td>   1.293</td>\n",
       "</tr>\n",
       "<tr>\n",
       "  <th>Skew:</th>          <td> 0.592</td> <th>  Prob(JB):          </th> <td>   0.524</td>\n",
       "</tr>\n",
       "<tr>\n",
       "  <th>Kurtosis:</th>      <td> 3.086</td> <th>  Cond. No.          </th> <td>3.92e+03</td>\n",
       "</tr>\n",
       "</table><br/><br/>Warnings:<br/>[1] Standard Errors assume that the covariance matrix of the errors is correctly specified.<br/>[2] The condition number is large, 3.92e+03. This might indicate that there are<br/>strong multicollinearity or other numerical problems."
      ],
      "text/plain": [
       "<class 'statsmodels.iolib.summary.Summary'>\n",
       "\"\"\"\n",
       "                            OLS Regression Results                            \n",
       "==============================================================================\n",
       "Dep. Variable:               gdp3d_tj   R-squared:                       0.989\n",
       "Model:                            OLS   Adj. R-squared:                  0.987\n",
       "Method:                 Least Squares   F-statistic:                     548.8\n",
       "Date:                Mon, 13 Jul 2020   Prob (F-statistic):           7.10e-18\n",
       "Time:                        07:26:28   Log-Likelihood:                -46.169\n",
       "No. Observations:                  22   AIC:                             100.3\n",
       "Df Residuals:                      18   BIC:                             104.7\n",
       "Df Model:                           3                                         \n",
       "Covariance Type:            nonrobust                                         \n",
       "===============================================================================\n",
       "                  coef    std err          t      P>|t|      [0.025      0.975]\n",
       "-------------------------------------------------------------------------------\n",
       "Intercept     -30.7989     11.321     -2.721      0.014     -54.582      -7.015\n",
       "gdp1d_tj        0.2662      0.153      1.744      0.098      -0.054       0.587\n",
       "gdp2d_tj        0.1288      0.047      2.750      0.013       0.030       0.227\n",
       "gdp3d_tj_s1     0.9303      0.053     17.712      0.000       0.820       1.041\n",
       "==============================================================================\n",
       "Omnibus:                        2.242   Durbin-Watson:                   1.916\n",
       "Prob(Omnibus):                  0.326   Jarque-Bera (JB):                1.293\n",
       "Skew:                           0.592   Prob(JB):                        0.524\n",
       "Kurtosis:                       3.086   Cond. No.                     3.92e+03\n",
       "==============================================================================\n",
       "\n",
       "Warnings:\n",
       "[1] Standard Errors assume that the covariance matrix of the errors is correctly specified.\n",
       "[2] The condition number is large, 3.92e+03. This might indicate that there are\n",
       "strong multicollinearity or other numerical problems.\n",
       "\"\"\""
      ]
     },
     "execution_count": 46,
     "metadata": {},
     "output_type": "execute_result"
    }
   ],
   "source": [
    "results = sm.ols(formula = \"gdp3d_tj ~ gdp1d_tj + gdp2d_tj + gdp3d_tj_s1\",data = test1 ).fit()\n",
    "results.summary()"
   ]
  },
  {
   "cell_type": "markdown",
   "metadata": {},
   "source": [
    "## Eq175 gdpd_tj 行为方程 ok\n",
    "gdpd_tj  = @coef(1)  + @coef(2) * gdp2d_tj  + @coef(3) * gdp3d_tj"
   ]
  },
  {
   "cell_type": "code",
   "execution_count": 47,
   "metadata": {
    "ExecuteTime": {
     "end_time": "2020-07-13T07:29:08.748146Z",
     "start_time": "2020-07-13T07:29:08.736047Z"
    }
   },
   "outputs": [
    {
     "data": {
      "text/html": [
       "<div>\n",
       "<style scoped>\n",
       "    .dataframe tbody tr th:only-of-type {\n",
       "        vertical-align: middle;\n",
       "    }\n",
       "\n",
       "    .dataframe tbody tr th {\n",
       "        vertical-align: top;\n",
       "    }\n",
       "\n",
       "    .dataframe thead th {\n",
       "        text-align: right;\n",
       "    }\n",
       "</style>\n",
       "<table border=\"1\" class=\"dataframe\">\n",
       "  <thead>\n",
       "    <tr style=\"text-align: right;\">\n",
       "      <th></th>\n",
       "      <th>gdpd_tj</th>\n",
       "      <th>gdp2d_tj</th>\n",
       "      <th>gdp3d_tj</th>\n",
       "    </tr>\n",
       "  </thead>\n",
       "  <tbody>\n",
       "    <tr>\n",
       "      <th>1996</th>\n",
       "      <td>73.693486</td>\n",
       "      <td>108.114214</td>\n",
       "      <td>50.294340</td>\n",
       "    </tr>\n",
       "    <tr>\n",
       "      <th>1997</th>\n",
       "      <td>74.109999</td>\n",
       "      <td>107.814632</td>\n",
       "      <td>51.906286</td>\n",
       "    </tr>\n",
       "  </tbody>\n",
       "</table>\n",
       "</div>"
      ],
      "text/plain": [
       "        gdpd_tj    gdp2d_tj   gdp3d_tj\n",
       "1996  73.693486  108.114214  50.294340\n",
       "1997  74.109999  107.814632  51.906286"
      ]
     },
     "execution_count": 47,
     "metadata": {},
     "output_type": "execute_result"
    }
   ],
   "source": [
    "test1 = df_ev[[\"gdpd_tj\",\"gdp2d_tj\",\"gdp3d_tj\"]]\n",
    "test1 = test1[(test1.index>1995) & (test1.index <2019)]\n",
    "test1.head(2)"
   ]
  },
  {
   "cell_type": "code",
   "execution_count": 48,
   "metadata": {
    "ExecuteTime": {
     "end_time": "2020-07-13T07:29:09.980375Z",
     "start_time": "2020-07-13T07:29:09.956875Z"
    }
   },
   "outputs": [
    {
     "data": {
      "text/html": [
       "<table class=\"simpletable\">\n",
       "<caption>OLS Regression Results</caption>\n",
       "<tr>\n",
       "  <th>Dep. Variable:</th>         <td>gdpd_tj</td>     <th>  R-squared:         </th> <td>   0.999</td> \n",
       "</tr>\n",
       "<tr>\n",
       "  <th>Model:</th>                   <td>OLS</td>       <th>  Adj. R-squared:    </th> <td>   0.999</td> \n",
       "</tr>\n",
       "<tr>\n",
       "  <th>Method:</th>             <td>Least Squares</td>  <th>  F-statistic:       </th> <td>1.250e+04</td>\n",
       "</tr>\n",
       "<tr>\n",
       "  <th>Date:</th>             <td>Mon, 13 Jul 2020</td> <th>  Prob (F-statistic):</th> <td>1.06e-31</td> \n",
       "</tr>\n",
       "<tr>\n",
       "  <th>Time:</th>                 <td>07:29:09</td>     <th>  Log-Likelihood:    </th> <td> -7.8154</td> \n",
       "</tr>\n",
       "<tr>\n",
       "  <th>No. Observations:</th>      <td>    23</td>      <th>  AIC:               </th> <td>   21.63</td> \n",
       "</tr>\n",
       "<tr>\n",
       "  <th>Df Residuals:</th>          <td>    20</td>      <th>  BIC:               </th> <td>   25.04</td> \n",
       "</tr>\n",
       "<tr>\n",
       "  <th>Df Model:</th>              <td>     2</td>      <th>                     </th>     <td> </td>    \n",
       "</tr>\n",
       "<tr>\n",
       "  <th>Covariance Type:</th>      <td>nonrobust</td>    <th>                     </th>     <td> </td>    \n",
       "</tr>\n",
       "</table>\n",
       "<table class=\"simpletable\">\n",
       "<tr>\n",
       "      <td></td>         <th>coef</th>     <th>std err</th>      <th>t</th>      <th>P>|t|</th>  <th>[0.025</th>    <th>0.975]</th>  \n",
       "</tr>\n",
       "<tr>\n",
       "  <th>Intercept</th> <td>  -11.0982</td> <td>    0.922</td> <td>  -12.040</td> <td> 0.000</td> <td>  -13.021</td> <td>   -9.175</td>\n",
       "</tr>\n",
       "<tr>\n",
       "  <th>gdp2d_tj</th>  <td>    0.4994</td> <td>    0.008</td> <td>   66.160</td> <td> 0.000</td> <td>    0.484</td> <td>    0.515</td>\n",
       "</tr>\n",
       "<tr>\n",
       "  <th>gdp3d_tj</th>  <td>    0.6126</td> <td>    0.004</td> <td>  153.510</td> <td> 0.000</td> <td>    0.604</td> <td>    0.621</td>\n",
       "</tr>\n",
       "</table>\n",
       "<table class=\"simpletable\">\n",
       "<tr>\n",
       "  <th>Omnibus:</th>       <td> 1.309</td> <th>  Durbin-Watson:     </th> <td>   1.130</td>\n",
       "</tr>\n",
       "<tr>\n",
       "  <th>Prob(Omnibus):</th> <td> 0.520</td> <th>  Jarque-Bera (JB):  </th> <td>   0.884</td>\n",
       "</tr>\n",
       "<tr>\n",
       "  <th>Skew:</th>          <td> 0.060</td> <th>  Prob(JB):          </th> <td>   0.643</td>\n",
       "</tr>\n",
       "<tr>\n",
       "  <th>Kurtosis:</th>      <td> 2.047</td> <th>  Cond. No.          </th> <td>1.61e+03</td>\n",
       "</tr>\n",
       "</table><br/><br/>Warnings:<br/>[1] Standard Errors assume that the covariance matrix of the errors is correctly specified.<br/>[2] The condition number is large, 1.61e+03. This might indicate that there are<br/>strong multicollinearity or other numerical problems."
      ],
      "text/plain": [
       "<class 'statsmodels.iolib.summary.Summary'>\n",
       "\"\"\"\n",
       "                            OLS Regression Results                            \n",
       "==============================================================================\n",
       "Dep. Variable:                gdpd_tj   R-squared:                       0.999\n",
       "Model:                            OLS   Adj. R-squared:                  0.999\n",
       "Method:                 Least Squares   F-statistic:                 1.250e+04\n",
       "Date:                Mon, 13 Jul 2020   Prob (F-statistic):           1.06e-31\n",
       "Time:                        07:29:09   Log-Likelihood:                -7.8154\n",
       "No. Observations:                  23   AIC:                             21.63\n",
       "Df Residuals:                      20   BIC:                             25.04\n",
       "Df Model:                           2                                         \n",
       "Covariance Type:            nonrobust                                         \n",
       "==============================================================================\n",
       "                 coef    std err          t      P>|t|      [0.025      0.975]\n",
       "------------------------------------------------------------------------------\n",
       "Intercept    -11.0982      0.922    -12.040      0.000     -13.021      -9.175\n",
       "gdp2d_tj       0.4994      0.008     66.160      0.000       0.484       0.515\n",
       "gdp3d_tj       0.6126      0.004    153.510      0.000       0.604       0.621\n",
       "==============================================================================\n",
       "Omnibus:                        1.309   Durbin-Watson:                   1.130\n",
       "Prob(Omnibus):                  0.520   Jarque-Bera (JB):                0.884\n",
       "Skew:                           0.060   Prob(JB):                        0.643\n",
       "Kurtosis:                       2.047   Cond. No.                     1.61e+03\n",
       "==============================================================================\n",
       "\n",
       "Warnings:\n",
       "[1] Standard Errors assume that the covariance matrix of the errors is correctly specified.\n",
       "[2] The condition number is large, 1.61e+03. This might indicate that there are\n",
       "strong multicollinearity or other numerical problems.\n",
       "\"\"\""
      ]
     },
     "execution_count": 48,
     "metadata": {},
     "output_type": "execute_result"
    }
   ],
   "source": [
    "results = sm.ols(formula = \"gdpd_tj ~  gdp2d_tj + gdp3d_tj\",data = test1 ).fit()\n",
    "results.summary()"
   ]
  },
  {
   "cell_type": "markdown",
   "metadata": {},
   "source": [
    "## Eq176 : ppi_tj 行为方程 ok\n",
    "log(ppi_tj)  = @coef(1)  + @coef(2) * (log(rpi_tj) - log(rpi_tj(-1)))  + @coef(3) * log(ppi_tj(-1))  + @coef(4) * d_ppi_tj"
   ]
  },
  {
   "cell_type": "code",
   "execution_count": 49,
   "metadata": {
    "ExecuteTime": {
     "end_time": "2020-07-13T07:30:53.390199Z",
     "start_time": "2020-07-13T07:30:53.286000Z"
    }
   },
   "outputs": [
    {
     "data": {
      "text/html": [
       "<div>\n",
       "<style scoped>\n",
       "    .dataframe tbody tr th:only-of-type {\n",
       "        vertical-align: middle;\n",
       "    }\n",
       "\n",
       "    .dataframe tbody tr th {\n",
       "        vertical-align: top;\n",
       "    }\n",
       "\n",
       "    .dataframe thead th {\n",
       "        text-align: right;\n",
       "    }\n",
       "</style>\n",
       "<table border=\"1\" class=\"dataframe\">\n",
       "  <thead>\n",
       "    <tr style=\"text-align: right;\">\n",
       "      <th></th>\n",
       "      <th>ppi_tj</th>\n",
       "      <th>rpi_tj</th>\n",
       "      <th>d_ppi_tj</th>\n",
       "      <th>rpi_tj_diff</th>\n",
       "      <th>ppi_tj_s1</th>\n",
       "    </tr>\n",
       "  </thead>\n",
       "  <tbody>\n",
       "    <tr>\n",
       "      <th>1997</th>\n",
       "      <td>123.600414</td>\n",
       "      <td>92.489105</td>\n",
       "      <td>0.0</td>\n",
       "      <td>0.006976</td>\n",
       "      <td>125.737959</td>\n",
       "    </tr>\n",
       "    <tr>\n",
       "      <th>1998</th>\n",
       "      <td>117.049592</td>\n",
       "      <td>89.344476</td>\n",
       "      <td>0.0</td>\n",
       "      <td>-0.034591</td>\n",
       "      <td>123.600414</td>\n",
       "    </tr>\n",
       "  </tbody>\n",
       "</table>\n",
       "</div>"
      ],
      "text/plain": [
       "          ppi_tj     rpi_tj  d_ppi_tj  rpi_tj_diff   ppi_tj_s1\n",
       "1997  123.600414  92.489105       0.0     0.006976  125.737959\n",
       "1998  117.049592  89.344476       0.0    -0.034591  123.600414"
      ]
     },
     "execution_count": 49,
     "metadata": {},
     "output_type": "execute_result"
    }
   ],
   "source": [
    "test1 = df_ev[[\"ppi_tj\",\"rpi_tj\",\"d_ppi_tj\"]]\n",
    "test1[\"rpi_tj_diff\"] = np.log(test1[\"rpi_tj\"])- np.log(test1[\"rpi_tj\"].shift(1))\n",
    "test1[\"ppi_tj_s1\"] = test1[\"ppi_tj\"].shift(1)\n",
    "test1 = test1[(test1.index>1996) & (test1.index <2019)]\n",
    "test1.head(2)"
   ]
  },
  {
   "cell_type": "code",
   "execution_count": 50,
   "metadata": {
    "ExecuteTime": {
     "end_time": "2020-07-13T07:30:54.614968Z",
     "start_time": "2020-07-13T07:30:54.587839Z"
    }
   },
   "outputs": [
    {
     "data": {
      "text/html": [
       "<table class=\"simpletable\">\n",
       "<caption>OLS Regression Results</caption>\n",
       "<tr>\n",
       "  <th>Dep. Variable:</th>     <td>np.log(ppi_tj)</td>  <th>  R-squared:         </th> <td>   0.946</td>\n",
       "</tr>\n",
       "<tr>\n",
       "  <th>Model:</th>                   <td>OLS</td>       <th>  Adj. R-squared:    </th> <td>   0.938</td>\n",
       "</tr>\n",
       "<tr>\n",
       "  <th>Method:</th>             <td>Least Squares</td>  <th>  F-statistic:       </th> <td>   106.0</td>\n",
       "</tr>\n",
       "<tr>\n",
       "  <th>Date:</th>             <td>Mon, 13 Jul 2020</td> <th>  Prob (F-statistic):</th> <td>1.25e-11</td>\n",
       "</tr>\n",
       "<tr>\n",
       "  <th>Time:</th>                 <td>07:30:54</td>     <th>  Log-Likelihood:    </th> <td>  64.064</td>\n",
       "</tr>\n",
       "<tr>\n",
       "  <th>No. Observations:</th>      <td>    22</td>      <th>  AIC:               </th> <td>  -120.1</td>\n",
       "</tr>\n",
       "<tr>\n",
       "  <th>Df Residuals:</th>          <td>    18</td>      <th>  BIC:               </th> <td>  -115.8</td>\n",
       "</tr>\n",
       "<tr>\n",
       "  <th>Df Model:</th>              <td>     3</td>      <th>                     </th>     <td> </td>   \n",
       "</tr>\n",
       "<tr>\n",
       "  <th>Covariance Type:</th>      <td>nonrobust</td>    <th>                     </th>     <td> </td>   \n",
       "</tr>\n",
       "</table>\n",
       "<table class=\"simpletable\">\n",
       "<tr>\n",
       "          <td></td>             <th>coef</th>     <th>std err</th>      <th>t</th>      <th>P>|t|</th>  <th>[0.025</th>    <th>0.975]</th>  \n",
       "</tr>\n",
       "<tr>\n",
       "  <th>Intercept</th>         <td>    2.2057</td> <td>    0.246</td> <td>    8.955</td> <td> 0.000</td> <td>    1.688</td> <td>    2.723</td>\n",
       "</tr>\n",
       "<tr>\n",
       "  <th>rpi_tj_diff</th>       <td>    0.5181</td> <td>    0.141</td> <td>    3.684</td> <td> 0.002</td> <td>    0.223</td> <td>    0.814</td>\n",
       "</tr>\n",
       "<tr>\n",
       "  <th>np.log(ppi_tj_s1)</th> <td>    0.5347</td> <td>    0.052</td> <td>   10.286</td> <td> 0.000</td> <td>    0.426</td> <td>    0.644</td>\n",
       "</tr>\n",
       "<tr>\n",
       "  <th>d_ppi_tj</th>          <td>    0.0657</td> <td>    0.006</td> <td>   10.307</td> <td> 0.000</td> <td>    0.052</td> <td>    0.079</td>\n",
       "</tr>\n",
       "</table>\n",
       "<table class=\"simpletable\">\n",
       "<tr>\n",
       "  <th>Omnibus:</th>       <td> 0.029</td> <th>  Durbin-Watson:     </th> <td>   2.216</td>\n",
       "</tr>\n",
       "<tr>\n",
       "  <th>Prob(Omnibus):</th> <td> 0.985</td> <th>  Jarque-Bera (JB):  </th> <td>   0.086</td>\n",
       "</tr>\n",
       "<tr>\n",
       "  <th>Skew:</th>          <td> 0.015</td> <th>  Prob(JB):          </th> <td>   0.958</td>\n",
       "</tr>\n",
       "<tr>\n",
       "  <th>Kurtosis:</th>      <td> 2.695</td> <th>  Cond. No.          </th> <td>    393.</td>\n",
       "</tr>\n",
       "</table><br/><br/>Warnings:<br/>[1] Standard Errors assume that the covariance matrix of the errors is correctly specified."
      ],
      "text/plain": [
       "<class 'statsmodels.iolib.summary.Summary'>\n",
       "\"\"\"\n",
       "                            OLS Regression Results                            \n",
       "==============================================================================\n",
       "Dep. Variable:         np.log(ppi_tj)   R-squared:                       0.946\n",
       "Model:                            OLS   Adj. R-squared:                  0.938\n",
       "Method:                 Least Squares   F-statistic:                     106.0\n",
       "Date:                Mon, 13 Jul 2020   Prob (F-statistic):           1.25e-11\n",
       "Time:                        07:30:54   Log-Likelihood:                 64.064\n",
       "No. Observations:                  22   AIC:                            -120.1\n",
       "Df Residuals:                      18   BIC:                            -115.8\n",
       "Df Model:                           3                                         \n",
       "Covariance Type:            nonrobust                                         \n",
       "=====================================================================================\n",
       "                        coef    std err          t      P>|t|      [0.025      0.975]\n",
       "-------------------------------------------------------------------------------------\n",
       "Intercept             2.2057      0.246      8.955      0.000       1.688       2.723\n",
       "rpi_tj_diff           0.5181      0.141      3.684      0.002       0.223       0.814\n",
       "np.log(ppi_tj_s1)     0.5347      0.052     10.286      0.000       0.426       0.644\n",
       "d_ppi_tj              0.0657      0.006     10.307      0.000       0.052       0.079\n",
       "==============================================================================\n",
       "Omnibus:                        0.029   Durbin-Watson:                   2.216\n",
       "Prob(Omnibus):                  0.985   Jarque-Bera (JB):                0.086\n",
       "Skew:                           0.015   Prob(JB):                        0.958\n",
       "Kurtosis:                       2.695   Cond. No.                         393.\n",
       "==============================================================================\n",
       "\n",
       "Warnings:\n",
       "[1] Standard Errors assume that the covariance matrix of the errors is correctly specified.\n",
       "\"\"\""
      ]
     },
     "execution_count": 50,
     "metadata": {},
     "output_type": "execute_result"
    }
   ],
   "source": [
    "results = sm.ols(formula = \"np.log(ppi_tj) ~ rpi_tj_diff + np.log(ppi_tj_s1)  + d_ppi_tj \",data = test1 ).fit()\n",
    "results.summary()"
   ]
  },
  {
   "cell_type": "markdown",
   "metadata": {},
   "source": [
    "## Eq177 ：faipi_tj 行为方程 ok arma\n",
    "log(faipi_tj)  = @coef(1)  + @coef(2) * d(ppi_tj)  + @coef(3) * log(faipi_tj(-1))  + [ar(2) = @coef(4) , estsmpl = \"1999 2018\"]"
   ]
  },
  {
   "cell_type": "code",
   "execution_count": 51,
   "metadata": {
    "ExecuteTime": {
     "end_time": "2020-07-13T07:37:54.414311Z",
     "start_time": "2020-07-13T07:37:54.309599Z"
    }
   },
   "outputs": [
    {
     "data": {
      "text/html": [
       "<div>\n",
       "<style scoped>\n",
       "    .dataframe tbody tr th:only-of-type {\n",
       "        vertical-align: middle;\n",
       "    }\n",
       "\n",
       "    .dataframe tbody tr th {\n",
       "        vertical-align: top;\n",
       "    }\n",
       "\n",
       "    .dataframe thead th {\n",
       "        text-align: right;\n",
       "    }\n",
       "</style>\n",
       "<table border=\"1\" class=\"dataframe\">\n",
       "  <thead>\n",
       "    <tr style=\"text-align: right;\">\n",
       "      <th></th>\n",
       "      <th>faipi_tj</th>\n",
       "      <th>ppi_tj</th>\n",
       "      <th>ppi_tj_diff</th>\n",
       "      <th>faipi_tj_s1</th>\n",
       "    </tr>\n",
       "  </thead>\n",
       "  <tbody>\n",
       "    <tr>\n",
       "      <th>1999</th>\n",
       "      <td>75.921086</td>\n",
       "      <td>112.835807</td>\n",
       "      <td>-4.213785</td>\n",
       "      <td>4.337727</td>\n",
       "    </tr>\n",
       "    <tr>\n",
       "      <th>2000</th>\n",
       "      <td>75.845165</td>\n",
       "      <td>115.995209</td>\n",
       "      <td>3.159403</td>\n",
       "      <td>4.329694</td>\n",
       "    </tr>\n",
       "  </tbody>\n",
       "</table>\n",
       "</div>"
      ],
      "text/plain": [
       "       faipi_tj      ppi_tj  ppi_tj_diff  faipi_tj_s1\n",
       "1999  75.921086  112.835807    -4.213785     4.337727\n",
       "2000  75.845165  115.995209     3.159403     4.329694"
      ]
     },
     "execution_count": 51,
     "metadata": {},
     "output_type": "execute_result"
    }
   ],
   "source": [
    "test1 = df_ev[[\"faipi_tj\",\"ppi_tj\"]]\n",
    "test1[\"ppi_tj_diff\"] = test1[\"ppi_tj\"] - test1[\"ppi_tj\"].shift(1)\n",
    "test1[\"faipi_tj_s1\"] = np.log(test1[\"faipi_tj\"].shift(1))\n",
    "test1 = test1[(test1.index>1998) & (test1.index <2019)]\n",
    "test1.head(2)"
   ]
  },
  {
   "cell_type": "code",
   "execution_count": 53,
   "metadata": {
    "ExecuteTime": {
     "end_time": "2020-07-13T07:38:23.595364Z",
     "start_time": "2020-07-13T07:38:23.246051Z"
    }
   },
   "outputs": [
    {
     "data": {
      "text/html": [
       "<table class=\"simpletable\">\n",
       "<caption>SARIMAX Results</caption>\n",
       "<tr>\n",
       "  <th>Dep. Variable:</th>        <td>faipi_tj</td>      <th>  No. Observations:  </th>   <td>20</td>   \n",
       "</tr>\n",
       "<tr>\n",
       "  <th>Model:</th>           <td>SARIMAX([2], 0, 0)</td> <th>  Log Likelihood     </th> <td>49.713</td> \n",
       "</tr>\n",
       "<tr>\n",
       "  <th>Date:</th>             <td>Mon, 13 Jul 2020</td>  <th>  AIC                </th> <td>-89.426</td>\n",
       "</tr>\n",
       "<tr>\n",
       "  <th>Time:</th>                 <td>07:38:23</td>      <th>  BIC                </th> <td>-84.975</td>\n",
       "</tr>\n",
       "<tr>\n",
       "  <th>Sample:</th>                   <td>0</td>         <th>  HQIC               </th> <td>-88.813</td>\n",
       "</tr>\n",
       "<tr>\n",
       "  <th></th>                        <td> - 20</td>       <th>                     </th>    <td> </td>   \n",
       "</tr>\n",
       "<tr>\n",
       "  <th>Covariance Type:</th>         <td>opg</td>        <th>                     </th>    <td> </td>   \n",
       "</tr>\n",
       "</table>\n",
       "<table class=\"simpletable\">\n",
       "<tr>\n",
       "       <td></td>          <th>coef</th>     <th>std err</th>      <th>z</th>      <th>P>|z|</th>  <th>[0.025</th>    <th>0.975]</th>  \n",
       "</tr>\n",
       "<tr>\n",
       "  <th>intercept</th>   <td>    0.0253</td> <td>    0.184</td> <td>    0.137</td> <td> 0.891</td> <td>   -0.336</td> <td>    0.386</td>\n",
       "</tr>\n",
       "<tr>\n",
       "  <th>ppi_tj_diff</th> <td>    0.0047</td> <td>    0.001</td> <td>    6.096</td> <td> 0.000</td> <td>    0.003</td> <td>    0.006</td>\n",
       "</tr>\n",
       "<tr>\n",
       "  <th>faipi_tj_s1</th> <td>    1.0006</td> <td>    0.029</td> <td>   34.663</td> <td> 0.000</td> <td>    0.944</td> <td>    1.057</td>\n",
       "</tr>\n",
       "<tr>\n",
       "  <th>ar.L2</th>       <td>   -0.4369</td> <td>    0.351</td> <td>   -1.244</td> <td> 0.213</td> <td>   -1.125</td> <td>    0.251</td>\n",
       "</tr>\n",
       "<tr>\n",
       "  <th>sigma2</th>      <td>    0.0002</td> <td>    0.000</td> <td>    1.806</td> <td> 0.071</td> <td>-1.99e-05</td> <td>    0.000</td>\n",
       "</tr>\n",
       "</table>\n",
       "<table class=\"simpletable\">\n",
       "<tr>\n",
       "  <th>Ljung-Box (Q):</th>          <td>17.15</td> <th>  Jarque-Bera (JB):  </th> <td>4.17</td>\n",
       "</tr>\n",
       "<tr>\n",
       "  <th>Prob(Q):</th>                <td>0.44</td>  <th>  Prob(JB):          </th> <td>0.12</td>\n",
       "</tr>\n",
       "<tr>\n",
       "  <th>Heteroskedasticity (H):</th> <td>0.74</td>  <th>  Skew:              </th> <td>1.17</td>\n",
       "</tr>\n",
       "<tr>\n",
       "  <th>Prob(H) (two-sided):</th>    <td>0.73</td>  <th>  Kurtosis:          </th> <td>3.33</td>\n",
       "</tr>\n",
       "</table><br/><br/>Warnings:<br/>[1] Covariance matrix calculated using the outer product of gradients (complex-step)."
      ],
      "text/plain": [
       "<class 'statsmodels.iolib.summary.Summary'>\n",
       "\"\"\"\n",
       "                               SARIMAX Results                                \n",
       "==============================================================================\n",
       "Dep. Variable:               faipi_tj   No. Observations:                   20\n",
       "Model:             SARIMAX([2], 0, 0)   Log Likelihood                  49.713\n",
       "Date:                Mon, 13 Jul 2020   AIC                            -89.426\n",
       "Time:                        07:38:23   BIC                            -84.975\n",
       "Sample:                             0   HQIC                           -88.813\n",
       "                                 - 20                                         \n",
       "Covariance Type:                  opg                                         \n",
       "===============================================================================\n",
       "                  coef    std err          z      P>|z|      [0.025      0.975]\n",
       "-------------------------------------------------------------------------------\n",
       "intercept       0.0253      0.184      0.137      0.891      -0.336       0.386\n",
       "ppi_tj_diff     0.0047      0.001      6.096      0.000       0.003       0.006\n",
       "faipi_tj_s1     1.0006      0.029     34.663      0.000       0.944       1.057\n",
       "ar.L2          -0.4369      0.351     -1.244      0.213      -1.125       0.251\n",
       "sigma2          0.0002      0.000      1.806      0.071   -1.99e-05       0.000\n",
       "===================================================================================\n",
       "Ljung-Box (Q):                       17.15   Jarque-Bera (JB):                 4.17\n",
       "Prob(Q):                              0.44   Prob(JB):                         0.12\n",
       "Heteroskedasticity (H):               0.74   Skew:                             1.17\n",
       "Prob(H) (two-sided):                  0.73   Kurtosis:                         3.33\n",
       "===================================================================================\n",
       "\n",
       "Warnings:\n",
       "[1] Covariance matrix calculated using the outer product of gradients (complex-step).\n",
       "\"\"\""
      ]
     },
     "execution_count": 53,
     "metadata": {},
     "output_type": "execute_result"
    }
   ],
   "source": [
    "ar = (0,1)\n",
    "ma = 0\n",
    "mod = SARIMAX(endog = np.log(test1[\"faipi_tj\"]) , exog = test1[[\"ppi_tj_diff\",\"faipi_tj_s1\"]],order =(ar,0,ma),enforce_invertibility= False , trend = 'c', enforce_stationarity = False)\n",
    "results = mod.fit()\n",
    "results.summary() #results.summary().tables[1]"
   ]
  },
  {
   "cell_type": "markdown",
   "metadata": {},
   "source": [
    "## Eq178 : gdp3_tspar_tj 定义方程\n",
    "gdp3_tspar_tj  = gdp3_tspan_tj  / pgdp3_tspad_tj  * 100"
   ]
  },
  {
   "cell_type": "code",
   "execution_count": 54,
   "metadata": {
    "ExecuteTime": {
     "end_time": "2020-07-13T07:40:04.055661Z",
     "start_time": "2020-07-13T07:40:03.992505Z"
    }
   },
   "outputs": [
    {
     "data": {
      "text/html": [
       "<div>\n",
       "<style scoped>\n",
       "    .dataframe tbody tr th:only-of-type {\n",
       "        vertical-align: middle;\n",
       "    }\n",
       "\n",
       "    .dataframe tbody tr th {\n",
       "        vertical-align: top;\n",
       "    }\n",
       "\n",
       "    .dataframe thead th {\n",
       "        text-align: right;\n",
       "    }\n",
       "</style>\n",
       "<table border=\"1\" class=\"dataframe\">\n",
       "  <thead>\n",
       "    <tr style=\"text-align: right;\">\n",
       "      <th></th>\n",
       "      <th>gdp3_tspar_tj</th>\n",
       "      <th>gdp3_tspan_tj</th>\n",
       "      <th>pgdp3_tspad_tj</th>\n",
       "      <th>预测</th>\n",
       "    </tr>\n",
       "  </thead>\n",
       "  <tbody>\n",
       "    <tr>\n",
       "      <th>2017</th>\n",
       "      <td>813.016279</td>\n",
       "      <td>780.40</td>\n",
       "      <td>95.988238</td>\n",
       "      <td>813.016279</td>\n",
       "    </tr>\n",
       "    <tr>\n",
       "      <th>2018</th>\n",
       "      <td>838.219784</td>\n",
       "      <td>816.33</td>\n",
       "      <td>97.388539</td>\n",
       "      <td>838.219784</td>\n",
       "    </tr>\n",
       "    <tr>\n",
       "      <th>2019</th>\n",
       "      <td>NaN</td>\n",
       "      <td>NaN</td>\n",
       "      <td>98.809268</td>\n",
       "      <td>NaN</td>\n",
       "    </tr>\n",
       "    <tr>\n",
       "      <th>2020</th>\n",
       "      <td>NaN</td>\n",
       "      <td>NaN</td>\n",
       "      <td>NaN</td>\n",
       "      <td>NaN</td>\n",
       "    </tr>\n",
       "  </tbody>\n",
       "</table>\n",
       "</div>"
      ],
      "text/plain": [
       "      gdp3_tspar_tj  gdp3_tspan_tj  pgdp3_tspad_tj          预测\n",
       "2017     813.016279         780.40       95.988238  813.016279\n",
       "2018     838.219784         816.33       97.388539  838.219784\n",
       "2019            NaN            NaN       98.809268         NaN\n",
       "2020            NaN            NaN             NaN         NaN"
      ]
     },
     "execution_count": 54,
     "metadata": {},
     "output_type": "execute_result"
    }
   ],
   "source": [
    "test1 = df_ev[[\"gdp3_tspar_tj\",\"gdp3_tspan_tj\",\"pgdp3_tspad_tj\"]]\n",
    "test1[\"预测\"] = test1[\"gdp3_tspan_tj\"] / test1[\"pgdp3_tspad_tj\"] *100\n",
    "test1.tail(4)"
   ]
  },
  {
   "cell_type": "markdown",
   "metadata": {},
   "source": [
    "## Eq179 :gdp3_tspan_tj  行为方程 ok\n",
    "\n",
    "gdp3_tspan_tj  = @coef(1)  + @coef(2) * gdp3_tratp_tj  + @coef(3) * gdp3_trapt_tj(-1)  + @coef(4) * d_gdp3_tspan_tj"
   ]
  },
  {
   "cell_type": "code",
   "execution_count": 56,
   "metadata": {
    "ExecuteTime": {
     "end_time": "2020-07-13T07:47:19.166554Z",
     "start_time": "2020-07-13T07:47:19.102061Z"
    }
   },
   "outputs": [
    {
     "data": {
      "text/html": [
       "<div>\n",
       "<style scoped>\n",
       "    .dataframe tbody tr th:only-of-type {\n",
       "        vertical-align: middle;\n",
       "    }\n",
       "\n",
       "    .dataframe tbody tr th {\n",
       "        vertical-align: top;\n",
       "    }\n",
       "\n",
       "    .dataframe thead th {\n",
       "        text-align: right;\n",
       "    }\n",
       "</style>\n",
       "<table border=\"1\" class=\"dataframe\">\n",
       "  <thead>\n",
       "    <tr style=\"text-align: right;\">\n",
       "      <th></th>\n",
       "      <th>gdp3_tspan_tj</th>\n",
       "      <th>gdp3_tratp_tj</th>\n",
       "      <th>gdp3_trapt_tj</th>\n",
       "      <th>d_gdp3_tspan_tj</th>\n",
       "      <th>gdp3_trapt_tj_s1</th>\n",
       "    </tr>\n",
       "  </thead>\n",
       "  <tbody>\n",
       "    <tr>\n",
       "      <th>2005</th>\n",
       "      <td>227.16</td>\n",
       "      <td>142.10</td>\n",
       "      <td>176.3477</td>\n",
       "      <td>0.0</td>\n",
       "      <td>146.7836</td>\n",
       "    </tr>\n",
       "    <tr>\n",
       "      <th>2006</th>\n",
       "      <td>252.86</td>\n",
       "      <td>163.41</td>\n",
       "      <td>227.7902</td>\n",
       "      <td>0.0</td>\n",
       "      <td>176.3477</td>\n",
       "    </tr>\n",
       "  </tbody>\n",
       "</table>\n",
       "</div>"
      ],
      "text/plain": [
       "      gdp3_tspan_tj  gdp3_tratp_tj  gdp3_trapt_tj  d_gdp3_tspan_tj  \\\n",
       "2005         227.16         142.10       176.3477              0.0   \n",
       "2006         252.86         163.41       227.7902              0.0   \n",
       "\n",
       "      gdp3_trapt_tj_s1  \n",
       "2005          146.7836  \n",
       "2006          176.3477  "
      ]
     },
     "execution_count": 56,
     "metadata": {},
     "output_type": "execute_result"
    }
   ],
   "source": [
    "test1 = df_ev[[\"gdp3_tspan_tj\",\"gdp3_tratp_tj\",\"gdp3_trapt_tj\",\"d_gdp3_tspan_tj\"]]\n",
    "test1[\"gdp3_trapt_tj_s1\"] = test1[\"gdp3_trapt_tj\"].shift(1)\n",
    "test1 = test1[(test1.index>2004) & (test1.index <2019)]\n",
    "test1.head(2)"
   ]
  },
  {
   "cell_type": "code",
   "execution_count": 57,
   "metadata": {
    "ExecuteTime": {
     "end_time": "2020-07-13T07:47:22.073726Z",
     "start_time": "2020-07-13T07:47:22.048610Z"
    }
   },
   "outputs": [
    {
     "data": {
      "text/html": [
       "<table class=\"simpletable\">\n",
       "<caption>OLS Regression Results</caption>\n",
       "<tr>\n",
       "  <th>Dep. Variable:</th>      <td>gdp3_tspan_tj</td>  <th>  R-squared:         </th> <td>   0.991</td>\n",
       "</tr>\n",
       "<tr>\n",
       "  <th>Model:</th>                   <td>OLS</td>       <th>  Adj. R-squared:    </th> <td>   0.988</td>\n",
       "</tr>\n",
       "<tr>\n",
       "  <th>Method:</th>             <td>Least Squares</td>  <th>  F-statistic:       </th> <td>   364.8</td>\n",
       "</tr>\n",
       "<tr>\n",
       "  <th>Date:</th>             <td>Mon, 13 Jul 2020</td> <th>  Prob (F-statistic):</th> <td>1.64e-10</td>\n",
       "</tr>\n",
       "<tr>\n",
       "  <th>Time:</th>                 <td>07:47:22</td>     <th>  Log-Likelihood:    </th> <td> -60.683</td>\n",
       "</tr>\n",
       "<tr>\n",
       "  <th>No. Observations:</th>      <td>    14</td>      <th>  AIC:               </th> <td>   129.4</td>\n",
       "</tr>\n",
       "<tr>\n",
       "  <th>Df Residuals:</th>          <td>    10</td>      <th>  BIC:               </th> <td>   131.9</td>\n",
       "</tr>\n",
       "<tr>\n",
       "  <th>Df Model:</th>              <td>     3</td>      <th>                     </th>     <td> </td>   \n",
       "</tr>\n",
       "<tr>\n",
       "  <th>Covariance Type:</th>      <td>nonrobust</td>    <th>                     </th>     <td> </td>   \n",
       "</tr>\n",
       "</table>\n",
       "<table class=\"simpletable\">\n",
       "<tr>\n",
       "          <td></td>            <th>coef</th>     <th>std err</th>      <th>t</th>      <th>P>|t|</th>  <th>[0.025</th>    <th>0.975]</th>  \n",
       "</tr>\n",
       "<tr>\n",
       "  <th>Intercept</th>        <td>  -34.6064</td> <td>   23.401</td> <td>   -1.479</td> <td> 0.170</td> <td>  -86.747</td> <td>   17.534</td>\n",
       "</tr>\n",
       "<tr>\n",
       "  <th>gdp3_tratp_tj</th>    <td>    1.3443</td> <td>    0.044</td> <td>   30.242</td> <td> 0.000</td> <td>    1.245</td> <td>    1.443</td>\n",
       "</tr>\n",
       "<tr>\n",
       "  <th>gdp3_trapt_tj_s1</th> <td>    0.4067</td> <td>    0.070</td> <td>    5.836</td> <td> 0.000</td> <td>    0.251</td> <td>    0.562</td>\n",
       "</tr>\n",
       "<tr>\n",
       "  <th>d_gdp3_tspan_tj</th>  <td>  118.8735</td> <td>   17.274</td> <td>    6.882</td> <td> 0.000</td> <td>   80.385</td> <td>  157.362</td>\n",
       "</tr>\n",
       "</table>\n",
       "<table class=\"simpletable\">\n",
       "<tr>\n",
       "  <th>Omnibus:</th>       <td> 0.070</td> <th>  Durbin-Watson:     </th> <td>   1.555</td>\n",
       "</tr>\n",
       "<tr>\n",
       "  <th>Prob(Omnibus):</th> <td> 0.966</td> <th>  Jarque-Bera (JB):  </th> <td>   0.130</td>\n",
       "</tr>\n",
       "<tr>\n",
       "  <th>Skew:</th>          <td> 0.097</td> <th>  Prob(JB):          </th> <td>   0.937</td>\n",
       "</tr>\n",
       "<tr>\n",
       "  <th>Kurtosis:</th>      <td> 2.570</td> <th>  Cond. No.          </th> <td>2.00e+03</td>\n",
       "</tr>\n",
       "</table><br/><br/>Warnings:<br/>[1] Standard Errors assume that the covariance matrix of the errors is correctly specified.<br/>[2] The condition number is large,  2e+03. This might indicate that there are<br/>strong multicollinearity or other numerical problems."
      ],
      "text/plain": [
       "<class 'statsmodels.iolib.summary.Summary'>\n",
       "\"\"\"\n",
       "                            OLS Regression Results                            \n",
       "==============================================================================\n",
       "Dep. Variable:          gdp3_tspan_tj   R-squared:                       0.991\n",
       "Model:                            OLS   Adj. R-squared:                  0.988\n",
       "Method:                 Least Squares   F-statistic:                     364.8\n",
       "Date:                Mon, 13 Jul 2020   Prob (F-statistic):           1.64e-10\n",
       "Time:                        07:47:22   Log-Likelihood:                -60.683\n",
       "No. Observations:                  14   AIC:                             129.4\n",
       "Df Residuals:                      10   BIC:                             131.9\n",
       "Df Model:                           3                                         \n",
       "Covariance Type:            nonrobust                                         \n",
       "====================================================================================\n",
       "                       coef    std err          t      P>|t|      [0.025      0.975]\n",
       "------------------------------------------------------------------------------------\n",
       "Intercept          -34.6064     23.401     -1.479      0.170     -86.747      17.534\n",
       "gdp3_tratp_tj        1.3443      0.044     30.242      0.000       1.245       1.443\n",
       "gdp3_trapt_tj_s1     0.4067      0.070      5.836      0.000       0.251       0.562\n",
       "d_gdp3_tspan_tj    118.8735     17.274      6.882      0.000      80.385     157.362\n",
       "==============================================================================\n",
       "Omnibus:                        0.070   Durbin-Watson:                   1.555\n",
       "Prob(Omnibus):                  0.966   Jarque-Bera (JB):                0.130\n",
       "Skew:                           0.097   Prob(JB):                        0.937\n",
       "Kurtosis:                       2.570   Cond. No.                     2.00e+03\n",
       "==============================================================================\n",
       "\n",
       "Warnings:\n",
       "[1] Standard Errors assume that the covariance matrix of the errors is correctly specified.\n",
       "[2] The condition number is large,  2e+03. This might indicate that there are\n",
       "strong multicollinearity or other numerical problems.\n",
       "\"\"\""
      ]
     },
     "execution_count": 57,
     "metadata": {},
     "output_type": "execute_result"
    }
   ],
   "source": [
    "results = sm.ols(formula = \" gdp3_tspan_tj~ gdp3_tratp_tj + gdp3_trapt_tj_s1 + d_gdp3_tspan_tj \",data = test1 ).fit()\n",
    "results.summary()"
   ]
  },
  {
   "cell_type": "markdown",
   "metadata": {},
   "source": [
    "## Eq180 gdp3_wrar_tj 定义方程式 ok\n",
    "gdp3_wrar_tj  = gdp3_wran_tj  / pgdp3_wrad_tj  * 100"
   ]
  },
  {
   "cell_type": "code",
   "execution_count": 58,
   "metadata": {
    "ExecuteTime": {
     "end_time": "2020-07-13T07:48:27.027480Z",
     "start_time": "2020-07-13T07:48:26.963236Z"
    }
   },
   "outputs": [
    {
     "data": {
      "text/html": [
       "<div>\n",
       "<style scoped>\n",
       "    .dataframe tbody tr th:only-of-type {\n",
       "        vertical-align: middle;\n",
       "    }\n",
       "\n",
       "    .dataframe tbody tr th {\n",
       "        vertical-align: top;\n",
       "    }\n",
       "\n",
       "    .dataframe thead th {\n",
       "        text-align: right;\n",
       "    }\n",
       "</style>\n",
       "<table border=\"1\" class=\"dataframe\">\n",
       "  <thead>\n",
       "    <tr style=\"text-align: right;\">\n",
       "      <th></th>\n",
       "      <th>gdp3_wrar_tj</th>\n",
       "      <th>gdp3_wran_tj</th>\n",
       "      <th>pgdp3_wrad_tj</th>\n",
       "      <th>预测</th>\n",
       "    </tr>\n",
       "  </thead>\n",
       "  <tbody>\n",
       "    <tr>\n",
       "      <th>2017</th>\n",
       "      <td>2286.568254</td>\n",
       "      <td>2306.98</td>\n",
       "      <td>100.890000</td>\n",
       "      <td>2286.629002</td>\n",
       "    </tr>\n",
       "    <tr>\n",
       "      <th>2018</th>\n",
       "      <td>2304.860800</td>\n",
       "      <td>2361.45</td>\n",
       "      <td>102.460000</td>\n",
       "      <td>2304.753074</td>\n",
       "    </tr>\n",
       "    <tr>\n",
       "      <th>2019</th>\n",
       "      <td>NaN</td>\n",
       "      <td>NaN</td>\n",
       "      <td>104.054432</td>\n",
       "      <td>NaN</td>\n",
       "    </tr>\n",
       "    <tr>\n",
       "      <th>2020</th>\n",
       "      <td>NaN</td>\n",
       "      <td>NaN</td>\n",
       "      <td>NaN</td>\n",
       "      <td>NaN</td>\n",
       "    </tr>\n",
       "  </tbody>\n",
       "</table>\n",
       "</div>"
      ],
      "text/plain": [
       "      gdp3_wrar_tj  gdp3_wran_tj  pgdp3_wrad_tj           预测\n",
       "2017   2286.568254       2306.98     100.890000  2286.629002\n",
       "2018   2304.860800       2361.45     102.460000  2304.753074\n",
       "2019           NaN           NaN     104.054432          NaN\n",
       "2020           NaN           NaN            NaN          NaN"
      ]
     },
     "execution_count": 58,
     "metadata": {},
     "output_type": "execute_result"
    }
   ],
   "source": [
    "test1 = df_ev[[\"gdp3_wrar_tj\",\"gdp3_wran_tj\",\"pgdp3_wrad_tj\"]]\n",
    "test1[\"预测\"] = test1[\"gdp3_wran_tj\"] / test1[\"pgdp3_wrad_tj\"] *100\n",
    "test1.tail(4)"
   ]
  },
  {
   "cell_type": "markdown",
   "metadata": {},
   "source": [
    "## Eq181 : gdp3_wran_tj 行为方程式  ok\n",
    "gdp3_wran_tj  = @coef(1)  + @coef(2) * consn_tj  + @coef(3) * gdp3_wran_tj(-1)  + @coef(4) * d_gdp3_wran_tj\n"
   ]
  },
  {
   "cell_type": "code",
   "execution_count": 60,
   "metadata": {
    "ExecuteTime": {
     "end_time": "2020-07-13T07:51:43.772315Z",
     "start_time": "2020-07-13T07:51:43.706900Z"
    }
   },
   "outputs": [
    {
     "data": {
      "text/html": [
       "<div>\n",
       "<style scoped>\n",
       "    .dataframe tbody tr th:only-of-type {\n",
       "        vertical-align: middle;\n",
       "    }\n",
       "\n",
       "    .dataframe tbody tr th {\n",
       "        vertical-align: top;\n",
       "    }\n",
       "\n",
       "    .dataframe thead th {\n",
       "        text-align: right;\n",
       "    }\n",
       "</style>\n",
       "<table border=\"1\" class=\"dataframe\">\n",
       "  <thead>\n",
       "    <tr style=\"text-align: right;\">\n",
       "      <th></th>\n",
       "      <th>gdp3_wran_tj</th>\n",
       "      <th>consn_tj</th>\n",
       "      <th>d_gdp3_wran_tj</th>\n",
       "      <th>gdp3_wran_tj_s1</th>\n",
       "    </tr>\n",
       "  </thead>\n",
       "  <tbody>\n",
       "    <tr>\n",
       "      <th>2006</th>\n",
       "      <td>468.12</td>\n",
       "      <td>1356.79</td>\n",
       "      <td>0.0</td>\n",
       "      <td>436.14</td>\n",
       "    </tr>\n",
       "    <tr>\n",
       "      <th>2007</th>\n",
       "      <td>498.61</td>\n",
       "      <td>1603.74</td>\n",
       "      <td>0.0</td>\n",
       "      <td>468.12</td>\n",
       "    </tr>\n",
       "  </tbody>\n",
       "</table>\n",
       "</div>"
      ],
      "text/plain": [
       "      gdp3_wran_tj  consn_tj  d_gdp3_wran_tj  gdp3_wran_tj_s1\n",
       "2006        468.12   1356.79             0.0           436.14\n",
       "2007        498.61   1603.74             0.0           468.12"
      ]
     },
     "execution_count": 60,
     "metadata": {},
     "output_type": "execute_result"
    }
   ],
   "source": [
    "test1 = df_ev[[\"gdp3_wran_tj\",\"consn_tj\",\"d_gdp3_wran_tj\" ]]\n",
    "test1[\"gdp3_wran_tj_s1\"] = test1[\"gdp3_wran_tj\"].shift(1)\n",
    "test1 = test1[(test1.index>2005) & (test1.index <2019)]\n",
    "test1.head(2)"
   ]
  },
  {
   "cell_type": "code",
   "execution_count": 61,
   "metadata": {
    "ExecuteTime": {
     "end_time": "2020-07-13T07:51:44.764405Z",
     "start_time": "2020-07-13T07:51:44.739372Z"
    }
   },
   "outputs": [
    {
     "data": {
      "text/html": [
       "<table class=\"simpletable\">\n",
       "<caption>OLS Regression Results</caption>\n",
       "<tr>\n",
       "  <th>Dep. Variable:</th>      <td>gdp3_wran_tj</td>   <th>  R-squared:         </th> <td>   0.998</td>\n",
       "</tr>\n",
       "<tr>\n",
       "  <th>Model:</th>                   <td>OLS</td>       <th>  Adj. R-squared:    </th> <td>   0.997</td>\n",
       "</tr>\n",
       "<tr>\n",
       "  <th>Method:</th>             <td>Least Squares</td>  <th>  F-statistic:       </th> <td>   1250.</td>\n",
       "</tr>\n",
       "<tr>\n",
       "  <th>Date:</th>             <td>Mon, 13 Jul 2020</td> <th>  Prob (F-statistic):</th> <td>4.15e-12</td>\n",
       "</tr>\n",
       "<tr>\n",
       "  <th>Time:</th>                 <td>07:51:44</td>     <th>  Log-Likelihood:    </th> <td> -63.901</td>\n",
       "</tr>\n",
       "<tr>\n",
       "  <th>No. Observations:</th>      <td>    13</td>      <th>  AIC:               </th> <td>   135.8</td>\n",
       "</tr>\n",
       "<tr>\n",
       "  <th>Df Residuals:</th>          <td>     9</td>      <th>  BIC:               </th> <td>   138.1</td>\n",
       "</tr>\n",
       "<tr>\n",
       "  <th>Df Model:</th>              <td>     3</td>      <th>                     </th>     <td> </td>   \n",
       "</tr>\n",
       "<tr>\n",
       "  <th>Covariance Type:</th>      <td>nonrobust</td>    <th>                     </th>     <td> </td>   \n",
       "</tr>\n",
       "</table>\n",
       "<table class=\"simpletable\">\n",
       "<tr>\n",
       "         <td></td>            <th>coef</th>     <th>std err</th>      <th>t</th>      <th>P>|t|</th>  <th>[0.025</th>    <th>0.975]</th>  \n",
       "</tr>\n",
       "<tr>\n",
       "  <th>Intercept</th>       <td>  -82.1915</td> <td>   46.865</td> <td>   -1.754</td> <td> 0.113</td> <td> -188.207</td> <td>   23.825</td>\n",
       "</tr>\n",
       "<tr>\n",
       "  <th>consn_tj</th>        <td>    0.2905</td> <td>    0.052</td> <td>    5.584</td> <td> 0.000</td> <td>    0.173</td> <td>    0.408</td>\n",
       "</tr>\n",
       "<tr>\n",
       "  <th>gdp3_wran_tj_s1</th> <td>    0.3423</td> <td>    0.117</td> <td>    2.937</td> <td> 0.017</td> <td>    0.079</td> <td>    0.606</td>\n",
       "</tr>\n",
       "<tr>\n",
       "  <th>d_gdp3_wran_tj</th>  <td>  173.3212</td> <td>   34.017</td> <td>    5.095</td> <td> 0.001</td> <td>   96.370</td> <td>  250.273</td>\n",
       "</tr>\n",
       "</table>\n",
       "<table class=\"simpletable\">\n",
       "<tr>\n",
       "  <th>Omnibus:</th>       <td> 3.215</td> <th>  Durbin-Watson:     </th> <td>   2.689</td>\n",
       "</tr>\n",
       "<tr>\n",
       "  <th>Prob(Omnibus):</th> <td> 0.200</td> <th>  Jarque-Bera (JB):  </th> <td>   1.130</td>\n",
       "</tr>\n",
       "<tr>\n",
       "  <th>Skew:</th>          <td>-0.138</td> <th>  Prob(JB):          </th> <td>   0.568</td>\n",
       "</tr>\n",
       "<tr>\n",
       "  <th>Kurtosis:</th>      <td> 1.582</td> <th>  Cond. No.          </th> <td>1.85e+04</td>\n",
       "</tr>\n",
       "</table><br/><br/>Warnings:<br/>[1] Standard Errors assume that the covariance matrix of the errors is correctly specified.<br/>[2] The condition number is large, 1.85e+04. This might indicate that there are<br/>strong multicollinearity or other numerical problems."
      ],
      "text/plain": [
       "<class 'statsmodels.iolib.summary.Summary'>\n",
       "\"\"\"\n",
       "                            OLS Regression Results                            \n",
       "==============================================================================\n",
       "Dep. Variable:           gdp3_wran_tj   R-squared:                       0.998\n",
       "Model:                            OLS   Adj. R-squared:                  0.997\n",
       "Method:                 Least Squares   F-statistic:                     1250.\n",
       "Date:                Mon, 13 Jul 2020   Prob (F-statistic):           4.15e-12\n",
       "Time:                        07:51:44   Log-Likelihood:                -63.901\n",
       "No. Observations:                  13   AIC:                             135.8\n",
       "Df Residuals:                       9   BIC:                             138.1\n",
       "Df Model:                           3                                         \n",
       "Covariance Type:            nonrobust                                         \n",
       "===================================================================================\n",
       "                      coef    std err          t      P>|t|      [0.025      0.975]\n",
       "-----------------------------------------------------------------------------------\n",
       "Intercept         -82.1915     46.865     -1.754      0.113    -188.207      23.825\n",
       "consn_tj            0.2905      0.052      5.584      0.000       0.173       0.408\n",
       "gdp3_wran_tj_s1     0.3423      0.117      2.937      0.017       0.079       0.606\n",
       "d_gdp3_wran_tj    173.3212     34.017      5.095      0.001      96.370     250.273\n",
       "==============================================================================\n",
       "Omnibus:                        3.215   Durbin-Watson:                   2.689\n",
       "Prob(Omnibus):                  0.200   Jarque-Bera (JB):                1.130\n",
       "Skew:                          -0.138   Prob(JB):                        0.568\n",
       "Kurtosis:                       1.582   Cond. No.                     1.85e+04\n",
       "==============================================================================\n",
       "\n",
       "Warnings:\n",
       "[1] Standard Errors assume that the covariance matrix of the errors is correctly specified.\n",
       "[2] The condition number is large, 1.85e+04. This might indicate that there are\n",
       "strong multicollinearity or other numerical problems.\n",
       "\"\"\""
      ]
     },
     "execution_count": 61,
     "metadata": {},
     "output_type": "execute_result"
    }
   ],
   "source": [
    "results = sm.ols(formula = \" gdp3_wran_tj~ consn_tj + gdp3_wran_tj_s1 + d_gdp3_wran_tj \",data = test1 ).fit()\n",
    "results.summary()"
   ]
  },
  {
   "cell_type": "markdown",
   "metadata": {},
   "source": [
    "## Eq182 : gdp3_fiar_tj 定义方程 ok\n",
    "gdp3_fiar_tj  = gdp3_fian_tj  / pgdp3_fiad_tj  * 100"
   ]
  },
  {
   "cell_type": "code",
   "execution_count": 112,
   "metadata": {
    "ExecuteTime": {
     "end_time": "2020-07-10T04:30:10.663281Z",
     "start_time": "2020-07-10T04:30:10.572590Z"
    }
   },
   "outputs": [
    {
     "data": {
      "text/html": [
       "<div>\n",
       "<style scoped>\n",
       "    .dataframe tbody tr th:only-of-type {\n",
       "        vertical-align: middle;\n",
       "    }\n",
       "\n",
       "    .dataframe tbody tr th {\n",
       "        vertical-align: top;\n",
       "    }\n",
       "\n",
       "    .dataframe thead th {\n",
       "        text-align: right;\n",
       "    }\n",
       "</style>\n",
       "<table border=\"1\" class=\"dataframe\">\n",
       "  <thead>\n",
       "    <tr style=\"text-align: right;\">\n",
       "      <th></th>\n",
       "      <th>gdp3_fiar_bj</th>\n",
       "      <th>gdp3_fian_bj</th>\n",
       "      <th>pgdp3_fiad_bj</th>\n",
       "      <th>预测</th>\n",
       "    </tr>\n",
       "  </thead>\n",
       "  <tbody>\n",
       "    <tr>\n",
       "      <th>2017</th>\n",
       "      <td>4587.84527</td>\n",
       "      <td>4655.4</td>\n",
       "      <td>101.472472</td>\n",
       "      <td>4587.845270</td>\n",
       "    </tr>\n",
       "    <tr>\n",
       "      <th>2018</th>\n",
       "      <td>4918.17013</td>\n",
       "      <td>5084.6</td>\n",
       "      <td>103.383980</td>\n",
       "      <td>4918.170130</td>\n",
       "    </tr>\n",
       "    <tr>\n",
       "      <th>2019</th>\n",
       "      <td>NaN</td>\n",
       "      <td>6544.8</td>\n",
       "      <td>105.331496</td>\n",
       "      <td>6213.526127</td>\n",
       "    </tr>\n",
       "    <tr>\n",
       "      <th>2020</th>\n",
       "      <td>NaN</td>\n",
       "      <td>NaN</td>\n",
       "      <td>NaN</td>\n",
       "      <td>NaN</td>\n",
       "    </tr>\n",
       "  </tbody>\n",
       "</table>\n",
       "</div>"
      ],
      "text/plain": [
       "      gdp3_fiar_bj  gdp3_fian_bj  pgdp3_fiad_bj           预测\n",
       "2017    4587.84527        4655.4     101.472472  4587.845270\n",
       "2018    4918.17013        5084.6     103.383980  4918.170130\n",
       "2019           NaN        6544.8     105.331496  6213.526127\n",
       "2020           NaN           NaN            NaN          NaN"
      ]
     },
     "execution_count": 112,
     "metadata": {},
     "output_type": "execute_result"
    }
   ],
   "source": [
    "test1 = df_ev[[\"gdp3_fiar_tj\",\"gdp3_fian_tj\",\"pgdp3_fiad_tj\"]]\n",
    "test1[\"预测\"] = test1[\"gdp3_fian_tj\"] / test1[\"pgdp3_fiad_tj\"] *100\n",
    "test1.tail(4)"
   ]
  },
  {
   "cell_type": "markdown",
   "metadata": {},
   "source": [
    "## Eq183 : gdp3_fian_tj 行为方程\n",
    "gdp3_fian_tj  = @coef(1)  + @coef(2) * depn_tj  + @coef(3) * gdp3_fian_tj(-1)"
   ]
  },
  {
   "cell_type": "code",
   "execution_count": 62,
   "metadata": {
    "ExecuteTime": {
     "end_time": "2020-07-13T07:53:28.668198Z",
     "start_time": "2020-07-13T07:53:28.603795Z"
    }
   },
   "outputs": [
    {
     "data": {
      "text/html": [
       "<div>\n",
       "<style scoped>\n",
       "    .dataframe tbody tr th:only-of-type {\n",
       "        vertical-align: middle;\n",
       "    }\n",
       "\n",
       "    .dataframe tbody tr th {\n",
       "        vertical-align: top;\n",
       "    }\n",
       "\n",
       "    .dataframe thead th {\n",
       "        text-align: right;\n",
       "    }\n",
       "</style>\n",
       "<table border=\"1\" class=\"dataframe\">\n",
       "  <thead>\n",
       "    <tr style=\"text-align: right;\">\n",
       "      <th></th>\n",
       "      <th>gdp3_fian_bj</th>\n",
       "      <th>depn_bj</th>\n",
       "      <th>gdp3_fian_bj_s1</th>\n",
       "    </tr>\n",
       "  </thead>\n",
       "  <tbody>\n",
       "    <tr>\n",
       "      <th>2006</th>\n",
       "      <td>982.4</td>\n",
       "      <td>31313.8</td>\n",
       "      <td>840.2</td>\n",
       "    </tr>\n",
       "    <tr>\n",
       "      <th>2007</th>\n",
       "      <td>1302.8</td>\n",
       "      <td>35369.7</td>\n",
       "      <td>982.4</td>\n",
       "    </tr>\n",
       "  </tbody>\n",
       "</table>\n",
       "</div>"
      ],
      "text/plain": [
       "      gdp3_fian_bj  depn_bj  gdp3_fian_bj_s1\n",
       "2006         982.4  31313.8            840.2\n",
       "2007        1302.8  35369.7            982.4"
      ]
     },
     "execution_count": 62,
     "metadata": {},
     "output_type": "execute_result"
    }
   ],
   "source": [
    "test1 = df_ev[[\"gdp3_fian_tj\",\"depn_tj\"]]\n",
    "test1[\"gdp3_fian_tj_s1\"] = test1[\"gdp3_fian_tj\"].shift(1)\n",
    "test1 = test1[(test1.index>2005) & (test1.index <2019)]\n",
    "test1.head(2)"
   ]
  },
  {
   "cell_type": "code",
   "execution_count": 118,
   "metadata": {
    "ExecuteTime": {
     "end_time": "2020-07-10T04:34:31.949651Z",
     "start_time": "2020-07-10T04:34:31.904778Z"
    }
   },
   "outputs": [
    {
     "data": {
      "text/html": [
       "<table class=\"simpletable\">\n",
       "<caption>OLS Regression Results</caption>\n",
       "<tr>\n",
       "  <th>Dep. Variable:</th>      <td>gdp3_fian_bj</td>   <th>  R-squared:         </th> <td>   0.997</td>\n",
       "</tr>\n",
       "<tr>\n",
       "  <th>Model:</th>                   <td>OLS</td>       <th>  Adj. R-squared:    </th> <td>   0.996</td>\n",
       "</tr>\n",
       "<tr>\n",
       "  <th>Method:</th>             <td>Least Squares</td>  <th>  F-statistic:       </th> <td>   1982.</td>\n",
       "</tr>\n",
       "<tr>\n",
       "  <th>Date:</th>             <td>Fri, 10 Jul 2020</td> <th>  Prob (F-statistic):</th> <td>7.56e-16</td>\n",
       "</tr>\n",
       "<tr>\n",
       "  <th>Time:</th>                 <td>04:34:31</td>     <th>  Log-Likelihood:    </th> <td> -86.414</td>\n",
       "</tr>\n",
       "<tr>\n",
       "  <th>No. Observations:</th>      <td>    15</td>      <th>  AIC:               </th> <td>   178.8</td>\n",
       "</tr>\n",
       "<tr>\n",
       "  <th>Df Residuals:</th>          <td>    12</td>      <th>  BIC:               </th> <td>   181.0</td>\n",
       "</tr>\n",
       "<tr>\n",
       "  <th>Df Model:</th>              <td>     2</td>      <th>                     </th>     <td> </td>   \n",
       "</tr>\n",
       "<tr>\n",
       "  <th>Covariance Type:</th>      <td>nonrobust</td>    <th>                     </th>     <td> </td>   \n",
       "</tr>\n",
       "</table>\n",
       "<table class=\"simpletable\">\n",
       "<tr>\n",
       "         <td></td>            <th>coef</th>     <th>std err</th>      <th>t</th>      <th>P>|t|</th>  <th>[0.025</th>    <th>0.975]</th>  \n",
       "</tr>\n",
       "<tr>\n",
       "  <th>Intercept</th>       <td>   62.0117</td> <td>   51.260</td> <td>    1.210</td> <td> 0.250</td> <td>  -49.674</td> <td>  173.698</td>\n",
       "</tr>\n",
       "<tr>\n",
       "  <th>depn_bj</th>         <td>    0.0095</td> <td>    0.005</td> <td>    2.098</td> <td> 0.058</td> <td>   -0.000</td> <td>    0.019</td>\n",
       "</tr>\n",
       "<tr>\n",
       "  <th>gdp3_fian_bj_s1</th> <td>    0.7751</td> <td>    0.147</td> <td>    5.280</td> <td> 0.000</td> <td>    0.455</td> <td>    1.095</td>\n",
       "</tr>\n",
       "</table>\n",
       "<table class=\"simpletable\">\n",
       "<tr>\n",
       "  <th>Omnibus:</th>       <td> 0.018</td> <th>  Durbin-Watson:     </th> <td>   1.612</td>\n",
       "</tr>\n",
       "<tr>\n",
       "  <th>Prob(Omnibus):</th> <td> 0.991</td> <th>  Jarque-Bera (JB):  </th> <td>   0.195</td>\n",
       "</tr>\n",
       "<tr>\n",
       "  <th>Skew:</th>          <td> 0.065</td> <th>  Prob(JB):          </th> <td>   0.907</td>\n",
       "</tr>\n",
       "<tr>\n",
       "  <th>Kurtosis:</th>      <td> 2.457</td> <th>  Cond. No.          </th> <td>2.03e+05</td>\n",
       "</tr>\n",
       "</table><br/><br/>Warnings:<br/>[1] Standard Errors assume that the covariance matrix of the errors is correctly specified.<br/>[2] The condition number is large, 2.03e+05. This might indicate that there are<br/>strong multicollinearity or other numerical problems."
      ],
      "text/plain": [
       "<class 'statsmodels.iolib.summary.Summary'>\n",
       "\"\"\"\n",
       "                            OLS Regression Results                            \n",
       "==============================================================================\n",
       "Dep. Variable:           gdp3_fian_bj   R-squared:                       0.997\n",
       "Model:                            OLS   Adj. R-squared:                  0.996\n",
       "Method:                 Least Squares   F-statistic:                     1982.\n",
       "Date:                Fri, 10 Jul 2020   Prob (F-statistic):           7.56e-16\n",
       "Time:                        04:34:31   Log-Likelihood:                -86.414\n",
       "No. Observations:                  15   AIC:                             178.8\n",
       "Df Residuals:                      12   BIC:                             181.0\n",
       "Df Model:                           2                                         \n",
       "Covariance Type:            nonrobust                                         \n",
       "===================================================================================\n",
       "                      coef    std err          t      P>|t|      [0.025      0.975]\n",
       "-----------------------------------------------------------------------------------\n",
       "Intercept          62.0117     51.260      1.210      0.250     -49.674     173.698\n",
       "depn_bj             0.0095      0.005      2.098      0.058      -0.000       0.019\n",
       "gdp3_fian_bj_s1     0.7751      0.147      5.280      0.000       0.455       1.095\n",
       "==============================================================================\n",
       "Omnibus:                        0.018   Durbin-Watson:                   1.612\n",
       "Prob(Omnibus):                  0.991   Jarque-Bera (JB):                0.195\n",
       "Skew:                           0.065   Prob(JB):                        0.907\n",
       "Kurtosis:                       2.457   Cond. No.                     2.03e+05\n",
       "==============================================================================\n",
       "\n",
       "Warnings:\n",
       "[1] Standard Errors assume that the covariance matrix of the errors is correctly specified.\n",
       "[2] The condition number is large, 2.03e+05. This might indicate that there are\n",
       "strong multicollinearity or other numerical problems.\n",
       "\"\"\""
      ]
     },
     "execution_count": 118,
     "metadata": {},
     "output_type": "execute_result"
    }
   ],
   "source": [
    "results = sm.ols(formula = \" gdp3_fian_tj~ depn_tj + gdp3_fian_tj_s1 \",data = test1 ).fit()\n",
    "results.summary()"
   ]
  },
  {
   "cell_type": "markdown",
   "metadata": {
    "ExecuteTime": {
     "end_time": "2020-07-10T04:35:11.602584Z",
     "start_time": "2020-07-10T04:35:11.590146Z"
    }
   },
   "source": [
    "## Eq184 : gdp3_rear_tj 定义方程  ok\n",
    "gdp3_rear_tj  = gdp3_rean_tj  / pgdp3_read_tj  * 100"
   ]
  },
  {
   "cell_type": "code",
   "execution_count": 63,
   "metadata": {
    "ExecuteTime": {
     "end_time": "2020-07-13T07:54:34.593024Z",
     "start_time": "2020-07-13T07:54:34.528654Z"
    }
   },
   "outputs": [
    {
     "data": {
      "text/html": [
       "<div>\n",
       "<style scoped>\n",
       "    .dataframe tbody tr th:only-of-type {\n",
       "        vertical-align: middle;\n",
       "    }\n",
       "\n",
       "    .dataframe tbody tr th {\n",
       "        vertical-align: top;\n",
       "    }\n",
       "\n",
       "    .dataframe thead th {\n",
       "        text-align: right;\n",
       "    }\n",
       "</style>\n",
       "<table border=\"1\" class=\"dataframe\">\n",
       "  <thead>\n",
       "    <tr style=\"text-align: right;\">\n",
       "      <th></th>\n",
       "      <th>gdp3_rear_tj</th>\n",
       "      <th>gdp3_rean_tj</th>\n",
       "      <th>pgdp3_read_tj</th>\n",
       "      <th>预测</th>\n",
       "    </tr>\n",
       "  </thead>\n",
       "  <tbody>\n",
       "    <tr>\n",
       "      <th>2017</th>\n",
       "      <td>514.050562</td>\n",
       "      <td>783.27</td>\n",
       "      <td>152.372171</td>\n",
       "      <td>514.050562</td>\n",
       "    </tr>\n",
       "    <tr>\n",
       "      <th>2018</th>\n",
       "      <td>546.468165</td>\n",
       "      <td>724.39</td>\n",
       "      <td>132.558500</td>\n",
       "      <td>546.468165</td>\n",
       "    </tr>\n",
       "    <tr>\n",
       "      <th>2019</th>\n",
       "      <td>NaN</td>\n",
       "      <td>NaN</td>\n",
       "      <td>115.321293</td>\n",
       "      <td>NaN</td>\n",
       "    </tr>\n",
       "    <tr>\n",
       "      <th>2020</th>\n",
       "      <td>NaN</td>\n",
       "      <td>NaN</td>\n",
       "      <td>NaN</td>\n",
       "      <td>NaN</td>\n",
       "    </tr>\n",
       "  </tbody>\n",
       "</table>\n",
       "</div>"
      ],
      "text/plain": [
       "      gdp3_rear_tj  gdp3_rean_tj  pgdp3_read_tj          预测\n",
       "2017    514.050562        783.27     152.372171  514.050562\n",
       "2018    546.468165        724.39     132.558500  546.468165\n",
       "2019           NaN           NaN     115.321293         NaN\n",
       "2020           NaN           NaN            NaN         NaN"
      ]
     },
     "execution_count": 63,
     "metadata": {},
     "output_type": "execute_result"
    }
   ],
   "source": [
    "test1 = df_ev[[\"gdp3_rear_tj\",\"gdp3_rean_tj\",\"pgdp3_read_tj\"]]\n",
    "test1[\"预测\"] = test1[\"gdp3_rean_tj\"] / test1[\"pgdp3_read_tj\"] *100\n",
    "test1.tail(4)"
   ]
  },
  {
   "cell_type": "markdown",
   "metadata": {},
   "source": [
    "## Eq185 : gdp3_rean_tj 行为方程  ok\n",
    "gdp3_rean_tj  = @coef(1)  + @coef(2) * inv_rean_tj  + @coef(3) * gdp3_rean_tj(-1) "
   ]
  },
  {
   "cell_type": "code",
   "execution_count": 122,
   "metadata": {
    "ExecuteTime": {
     "end_time": "2020-07-10T04:44:25.100292Z",
     "start_time": "2020-07-10T04:44:25.014116Z"
    }
   },
   "outputs": [
    {
     "data": {
      "text/html": [
       "<div>\n",
       "<style scoped>\n",
       "    .dataframe tbody tr th:only-of-type {\n",
       "        vertical-align: middle;\n",
       "    }\n",
       "\n",
       "    .dataframe tbody tr th {\n",
       "        vertical-align: top;\n",
       "    }\n",
       "\n",
       "    .dataframe thead th {\n",
       "        text-align: right;\n",
       "    }\n",
       "</style>\n",
       "<table border=\"1\" class=\"dataframe\">\n",
       "  <thead>\n",
       "    <tr style=\"text-align: right;\">\n",
       "      <th></th>\n",
       "      <th>inv_rean_bj</th>\n",
       "      <th>gdp3_rean_bj</th>\n",
       "      <th>d_gdp3_rean_bj</th>\n",
       "      <th>gdp3_rean_bj_s1</th>\n",
       "    </tr>\n",
       "  </thead>\n",
       "  <tbody>\n",
       "    <tr>\n",
       "      <th>2003</th>\n",
       "      <td>1223.61</td>\n",
       "      <td>341.9</td>\n",
       "      <td>0.0</td>\n",
       "      <td>298.0</td>\n",
       "    </tr>\n",
       "    <tr>\n",
       "      <th>2004</th>\n",
       "      <td>1491.84</td>\n",
       "      <td>436.1</td>\n",
       "      <td>0.0</td>\n",
       "      <td>341.9</td>\n",
       "    </tr>\n",
       "  </tbody>\n",
       "</table>\n",
       "</div>"
      ],
      "text/plain": [
       "      inv_rean_bj  gdp3_rean_bj  d_gdp3_rean_bj  gdp3_rean_bj_s1\n",
       "2003      1223.61         341.9             0.0            298.0\n",
       "2004      1491.84         436.1             0.0            341.9"
      ]
     },
     "execution_count": 122,
     "metadata": {},
     "output_type": "execute_result"
    }
   ],
   "source": [
    "test1 = df_ev[[\"gdp3_rean_tj\",\"inv_rean_tj\"]]\n",
    "test1[\"gdp3_rean_tj_s1\"] = test1[\"gdp3_rean_tj\"].shift(1)\n",
    "test1 = test1[(test1.index>2005) & (test1.index <2019)]\n",
    "test1.head(2)"
   ]
  },
  {
   "cell_type": "code",
   "execution_count": 124,
   "metadata": {
    "ExecuteTime": {
     "end_time": "2020-07-10T04:46:15.919801Z",
     "start_time": "2020-07-10T04:46:15.873341Z"
    }
   },
   "outputs": [
    {
     "data": {
      "text/html": [
       "<table class=\"simpletable\">\n",
       "<caption>OLS Regression Results</caption>\n",
       "<tr>\n",
       "  <th>Dep. Variable:</th>      <td>gdp3_rean_bj</td>   <th>  R-squared:         </th> <td>   0.992</td>\n",
       "</tr>\n",
       "<tr>\n",
       "  <th>Model:</th>                   <td>OLS</td>       <th>  Adj. R-squared:    </th> <td>   0.990</td>\n",
       "</tr>\n",
       "<tr>\n",
       "  <th>Method:</th>             <td>Least Squares</td>  <th>  F-statistic:       </th> <td>   458.7</td>\n",
       "</tr>\n",
       "<tr>\n",
       "  <th>Date:</th>             <td>Fri, 10 Jul 2020</td> <th>  Prob (F-statistic):</th> <td>7.86e-12</td>\n",
       "</tr>\n",
       "<tr>\n",
       "  <th>Time:</th>                 <td>04:46:15</td>     <th>  Log-Likelihood:    </th> <td> -75.723</td>\n",
       "</tr>\n",
       "<tr>\n",
       "  <th>No. Observations:</th>      <td>    15</td>      <th>  AIC:               </th> <td>   159.4</td>\n",
       "</tr>\n",
       "<tr>\n",
       "  <th>Df Residuals:</th>          <td>    11</td>      <th>  BIC:               </th> <td>   162.3</td>\n",
       "</tr>\n",
       "<tr>\n",
       "  <th>Df Model:</th>              <td>     3</td>      <th>                     </th>     <td> </td>   \n",
       "</tr>\n",
       "<tr>\n",
       "  <th>Covariance Type:</th>      <td>nonrobust</td>    <th>                     </th>     <td> </td>   \n",
       "</tr>\n",
       "</table>\n",
       "<table class=\"simpletable\">\n",
       "<tr>\n",
       "         <td></td>            <th>coef</th>     <th>std err</th>      <th>t</th>      <th>P>|t|</th>  <th>[0.025</th>    <th>0.975]</th>  \n",
       "</tr>\n",
       "<tr>\n",
       "  <th>Intercept</th>       <td>   34.6942</td> <td>   32.322</td> <td>    1.073</td> <td> 0.306</td> <td>  -36.445</td> <td>  105.834</td>\n",
       "</tr>\n",
       "<tr>\n",
       "  <th>inv_rean_bj</th>     <td>    0.0953</td> <td>    0.042</td> <td>    2.274</td> <td> 0.044</td> <td>    0.003</td> <td>    0.188</td>\n",
       "</tr>\n",
       "<tr>\n",
       "  <th>gdp3_rean_bj_s1</th> <td>    0.7694</td> <td>    0.119</td> <td>    6.461</td> <td> 0.000</td> <td>    0.507</td> <td>    1.031</td>\n",
       "</tr>\n",
       "<tr>\n",
       "  <th>d_gdp3_rean_bj</th>  <td>  170.0664</td> <td>   30.492</td> <td>    5.577</td> <td> 0.000</td> <td>  102.955</td> <td>  237.178</td>\n",
       "</tr>\n",
       "</table>\n",
       "<table class=\"simpletable\">\n",
       "<tr>\n",
       "  <th>Omnibus:</th>       <td> 2.453</td> <th>  Durbin-Watson:     </th> <td>   2.079</td>\n",
       "</tr>\n",
       "<tr>\n",
       "  <th>Prob(Omnibus):</th> <td> 0.293</td> <th>  Jarque-Bera (JB):  </th> <td>   1.398</td>\n",
       "</tr>\n",
       "<tr>\n",
       "  <th>Skew:</th>          <td> 0.465</td> <th>  Prob(JB):          </th> <td>   0.497</td>\n",
       "</tr>\n",
       "<tr>\n",
       "  <th>Kurtosis:</th>      <td> 1.830</td> <th>  Cond. No.          </th> <td>9.74e+03</td>\n",
       "</tr>\n",
       "</table><br/><br/>Warnings:<br/>[1] Standard Errors assume that the covariance matrix of the errors is correctly specified.<br/>[2] The condition number is large, 9.74e+03. This might indicate that there are<br/>strong multicollinearity or other numerical problems."
      ],
      "text/plain": [
       "<class 'statsmodels.iolib.summary.Summary'>\n",
       "\"\"\"\n",
       "                            OLS Regression Results                            \n",
       "==============================================================================\n",
       "Dep. Variable:           gdp3_rean_bj   R-squared:                       0.992\n",
       "Model:                            OLS   Adj. R-squared:                  0.990\n",
       "Method:                 Least Squares   F-statistic:                     458.7\n",
       "Date:                Fri, 10 Jul 2020   Prob (F-statistic):           7.86e-12\n",
       "Time:                        04:46:15   Log-Likelihood:                -75.723\n",
       "No. Observations:                  15   AIC:                             159.4\n",
       "Df Residuals:                      11   BIC:                             162.3\n",
       "Df Model:                           3                                         \n",
       "Covariance Type:            nonrobust                                         \n",
       "===================================================================================\n",
       "                      coef    std err          t      P>|t|      [0.025      0.975]\n",
       "-----------------------------------------------------------------------------------\n",
       "Intercept          34.6942     32.322      1.073      0.306     -36.445     105.834\n",
       "inv_rean_bj         0.0953      0.042      2.274      0.044       0.003       0.188\n",
       "gdp3_rean_bj_s1     0.7694      0.119      6.461      0.000       0.507       1.031\n",
       "d_gdp3_rean_bj    170.0664     30.492      5.577      0.000     102.955     237.178\n",
       "==============================================================================\n",
       "Omnibus:                        2.453   Durbin-Watson:                   2.079\n",
       "Prob(Omnibus):                  0.293   Jarque-Bera (JB):                1.398\n",
       "Skew:                           0.465   Prob(JB):                        0.497\n",
       "Kurtosis:                       1.830   Cond. No.                     9.74e+03\n",
       "==============================================================================\n",
       "\n",
       "Warnings:\n",
       "[1] Standard Errors assume that the covariance matrix of the errors is correctly specified.\n",
       "[2] The condition number is large, 9.74e+03. This might indicate that there are\n",
       "strong multicollinearity or other numerical problems.\n",
       "\"\"\""
      ]
     },
     "execution_count": 124,
     "metadata": {},
     "output_type": "execute_result"
    }
   ],
   "source": [
    "results = sm.ols(formula = \" gdp3_rean_tj~ inv_rean_tj + gdp3_rean_tj_s1  \",data = test1 ).fit()\n",
    "results.summary()"
   ]
  },
  {
   "cell_type": "markdown",
   "metadata": {},
   "source": [
    "## Eq 186 : gdp3_infr_tj 定义方程 ok\n",
    "gdp3_infr_tj  = gdp3_infn_tj  / pgdp3_infd_tj  * 100"
   ]
  },
  {
   "cell_type": "code",
   "execution_count": 125,
   "metadata": {
    "ExecuteTime": {
     "end_time": "2020-07-10T04:48:21.233249Z",
     "start_time": "2020-07-10T04:48:21.131544Z"
    }
   },
   "outputs": [
    {
     "data": {
      "text/html": [
       "<div>\n",
       "<style scoped>\n",
       "    .dataframe tbody tr th:only-of-type {\n",
       "        vertical-align: middle;\n",
       "    }\n",
       "\n",
       "    .dataframe tbody tr th {\n",
       "        vertical-align: top;\n",
       "    }\n",
       "\n",
       "    .dataframe thead th {\n",
       "        text-align: right;\n",
       "    }\n",
       "</style>\n",
       "<table border=\"1\" class=\"dataframe\">\n",
       "  <thead>\n",
       "    <tr style=\"text-align: right;\">\n",
       "      <th></th>\n",
       "      <th>gdp3_infr_bj</th>\n",
       "      <th>gdp3_infn_bj</th>\n",
       "      <th>pgdp3_infd_bj</th>\n",
       "      <th>预测</th>\n",
       "    </tr>\n",
       "  </thead>\n",
       "  <tbody>\n",
       "    <tr>\n",
       "      <th>2017</th>\n",
       "      <td>3098.746681</td>\n",
       "      <td>3229.0</td>\n",
       "      <td>104.203419</td>\n",
       "      <td>3098.746681</td>\n",
       "    </tr>\n",
       "    <tr>\n",
       "      <th>2018</th>\n",
       "      <td>3687.508550</td>\n",
       "      <td>3859.0</td>\n",
       "      <td>104.650605</td>\n",
       "      <td>3687.508550</td>\n",
       "    </tr>\n",
       "    <tr>\n",
       "      <th>2019</th>\n",
       "      <td>NaN</td>\n",
       "      <td>NaN</td>\n",
       "      <td>105.099709</td>\n",
       "      <td>NaN</td>\n",
       "    </tr>\n",
       "    <tr>\n",
       "      <th>2020</th>\n",
       "      <td>NaN</td>\n",
       "      <td>NaN</td>\n",
       "      <td>NaN</td>\n",
       "      <td>NaN</td>\n",
       "    </tr>\n",
       "  </tbody>\n",
       "</table>\n",
       "</div>"
      ],
      "text/plain": [
       "      gdp3_infr_bj  gdp3_infn_bj  pgdp3_infd_bj           预测\n",
       "2017   3098.746681        3229.0     104.203419  3098.746681\n",
       "2018   3687.508550        3859.0     104.650605  3687.508550\n",
       "2019           NaN           NaN     105.099709          NaN\n",
       "2020           NaN           NaN            NaN          NaN"
      ]
     },
     "execution_count": 125,
     "metadata": {},
     "output_type": "execute_result"
    }
   ],
   "source": [
    "test1 = df_ev[[\"gdp3_infr_tj\",\"gdp3_infn_tj\",\"pgdp3_infd_tj\"]]\n",
    "test1[\"预测\"] = test1[\"gdp3_infn_tj\"] / test1[\"pgdp3_infd_tj\"] *100\n",
    "test1.tail(4)"
   ]
  },
  {
   "cell_type": "markdown",
   "metadata": {},
   "source": [
    "## Eq 187 : gdp3_infn_tj 行为方程 ok\n",
    "\n",
    "gdp3_infn_tj  = @coef(1)  + @coef(2) * gdp2_tran_tj"
   ]
  },
  {
   "cell_type": "code",
   "execution_count": 64,
   "metadata": {
    "ExecuteTime": {
     "end_time": "2020-07-13T07:59:19.476089Z",
     "start_time": "2020-07-13T07:59:19.452496Z"
    }
   },
   "outputs": [
    {
     "data": {
      "text/html": [
       "<table class=\"simpletable\">\n",
       "<caption>OLS Regression Results</caption>\n",
       "<tr>\n",
       "  <th>Dep. Variable:</th>      <td>gdp3_infn_tj</td>   <th>  R-squared:         </th> <td>   0.990</td>\n",
       "</tr>\n",
       "<tr>\n",
       "  <th>Model:</th>                   <td>OLS</td>       <th>  Adj. R-squared:    </th> <td>   0.987</td>\n",
       "</tr>\n",
       "<tr>\n",
       "  <th>Method:</th>             <td>Least Squares</td>  <th>  F-statistic:       </th> <td>   296.2</td>\n",
       "</tr>\n",
       "<tr>\n",
       "  <th>Date:</th>             <td>Mon, 13 Jul 2020</td> <th>  Prob (F-statistic):</th> <td>0.000428</td>\n",
       "</tr>\n",
       "<tr>\n",
       "  <th>Time:</th>                 <td>07:59:19</td>     <th>  Log-Likelihood:    </th> <td> -20.619</td>\n",
       "</tr>\n",
       "<tr>\n",
       "  <th>No. Observations:</th>      <td>     5</td>      <th>  AIC:               </th> <td>   45.24</td>\n",
       "</tr>\n",
       "<tr>\n",
       "  <th>Df Residuals:</th>          <td>     3</td>      <th>  BIC:               </th> <td>   44.46</td>\n",
       "</tr>\n",
       "<tr>\n",
       "  <th>Df Model:</th>              <td>     1</td>      <th>                     </th>     <td> </td>   \n",
       "</tr>\n",
       "<tr>\n",
       "  <th>Covariance Type:</th>      <td>nonrobust</td>    <th>                     </th>     <td> </td>   \n",
       "</tr>\n",
       "</table>\n",
       "<table class=\"simpletable\">\n",
       "<tr>\n",
       "        <td></td>          <th>coef</th>     <th>std err</th>      <th>t</th>      <th>P>|t|</th>  <th>[0.025</th>    <th>0.975]</th>  \n",
       "</tr>\n",
       "<tr>\n",
       "  <th>Intercept</th>    <td> -348.2137</td> <td>   44.246</td> <td>   -7.870</td> <td> 0.004</td> <td> -489.024</td> <td> -207.403</td>\n",
       "</tr>\n",
       "<tr>\n",
       "  <th>gdp2_tran_tj</th> <td>    0.4234</td> <td>    0.025</td> <td>   17.209</td> <td> 0.000</td> <td>    0.345</td> <td>    0.502</td>\n",
       "</tr>\n",
       "</table>\n",
       "<table class=\"simpletable\">\n",
       "<tr>\n",
       "  <th>Omnibus:</th>       <td>   nan</td> <th>  Durbin-Watson:     </th> <td>   1.898</td>\n",
       "</tr>\n",
       "<tr>\n",
       "  <th>Prob(Omnibus):</th> <td>   nan</td> <th>  Jarque-Bera (JB):  </th> <td>   0.428</td>\n",
       "</tr>\n",
       "<tr>\n",
       "  <th>Skew:</th>          <td>-0.023</td> <th>  Prob(JB):          </th> <td>   0.807</td>\n",
       "</tr>\n",
       "<tr>\n",
       "  <th>Kurtosis:</th>      <td> 1.567</td> <th>  Cond. No.          </th> <td>9.22e+03</td>\n",
       "</tr>\n",
       "</table><br/><br/>Warnings:<br/>[1] Standard Errors assume that the covariance matrix of the errors is correctly specified.<br/>[2] The condition number is large, 9.22e+03. This might indicate that there are<br/>strong multicollinearity or other numerical problems."
      ],
      "text/plain": [
       "<class 'statsmodels.iolib.summary.Summary'>\n",
       "\"\"\"\n",
       "                            OLS Regression Results                            \n",
       "==============================================================================\n",
       "Dep. Variable:           gdp3_infn_tj   R-squared:                       0.990\n",
       "Model:                            OLS   Adj. R-squared:                  0.987\n",
       "Method:                 Least Squares   F-statistic:                     296.2\n",
       "Date:                Mon, 13 Jul 2020   Prob (F-statistic):           0.000428\n",
       "Time:                        07:59:19   Log-Likelihood:                -20.619\n",
       "No. Observations:                   5   AIC:                             45.24\n",
       "Df Residuals:                       3   BIC:                             44.46\n",
       "Df Model:                           1                                         \n",
       "Covariance Type:            nonrobust                                         \n",
       "================================================================================\n",
       "                   coef    std err          t      P>|t|      [0.025      0.975]\n",
       "--------------------------------------------------------------------------------\n",
       "Intercept     -348.2137     44.246     -7.870      0.004    -489.024    -207.403\n",
       "gdp2_tran_tj     0.4234      0.025     17.209      0.000       0.345       0.502\n",
       "==============================================================================\n",
       "Omnibus:                          nan   Durbin-Watson:                   1.898\n",
       "Prob(Omnibus):                    nan   Jarque-Bera (JB):                0.428\n",
       "Skew:                          -0.023   Prob(JB):                        0.807\n",
       "Kurtosis:                       1.567   Cond. No.                     9.22e+03\n",
       "==============================================================================\n",
       "\n",
       "Warnings:\n",
       "[1] Standard Errors assume that the covariance matrix of the errors is correctly specified.\n",
       "[2] The condition number is large, 9.22e+03. This might indicate that there are\n",
       "strong multicollinearity or other numerical problems.\n",
       "\"\"\""
      ]
     },
     "execution_count": 64,
     "metadata": {},
     "output_type": "execute_result"
    }
   ],
   "source": [
    "test1 = df_ev[[\"gdp3_infn_tj\",\"gdp2_tran_tj\"]]\n",
    "test1 = test1[(test1.index>2013) & (test1.index <2019)]\n",
    "results = sm.ols(formula = \" gdp3_infn_tj~ gdp2_tran_tj \",data = test1 ).fit()\n",
    "results.summary()"
   ]
  },
  {
   "cell_type": "markdown",
   "metadata": {},
   "source": [
    "## Eq188 : gdp3_renr_tj 定义方程\n",
    "gdp3_renr_tj  = gdp3_renn_tj  / pgdp3_rend_tj  * 100"
   ]
  },
  {
   "cell_type": "code",
   "execution_count": 65,
   "metadata": {
    "ExecuteTime": {
     "end_time": "2020-07-13T08:00:33.778807Z",
     "start_time": "2020-07-13T08:00:33.713965Z"
    }
   },
   "outputs": [
    {
     "data": {
      "text/html": [
       "<div>\n",
       "<style scoped>\n",
       "    .dataframe tbody tr th:only-of-type {\n",
       "        vertical-align: middle;\n",
       "    }\n",
       "\n",
       "    .dataframe tbody tr th {\n",
       "        vertical-align: top;\n",
       "    }\n",
       "\n",
       "    .dataframe thead th {\n",
       "        text-align: right;\n",
       "    }\n",
       "</style>\n",
       "<table border=\"1\" class=\"dataframe\">\n",
       "  <thead>\n",
       "    <tr style=\"text-align: right;\">\n",
       "      <th></th>\n",
       "      <th>gdp3_renr_tj</th>\n",
       "      <th>gdp3_renn_tj</th>\n",
       "      <th>pgdp3_rend_tj</th>\n",
       "      <th>预测</th>\n",
       "    </tr>\n",
       "  </thead>\n",
       "  <tbody>\n",
       "    <tr>\n",
       "      <th>2017</th>\n",
       "      <td>1002.768672</td>\n",
       "      <td>997.30</td>\n",
       "      <td>99.454643</td>\n",
       "      <td>1002.768673</td>\n",
       "    </tr>\n",
       "    <tr>\n",
       "      <th>2018</th>\n",
       "      <td>1061.932024</td>\n",
       "      <td>1001.48</td>\n",
       "      <td>94.307355</td>\n",
       "      <td>1061.932024</td>\n",
       "    </tr>\n",
       "    <tr>\n",
       "      <th>2019</th>\n",
       "      <td>NaN</td>\n",
       "      <td>NaN</td>\n",
       "      <td>89.426465</td>\n",
       "      <td>NaN</td>\n",
       "    </tr>\n",
       "    <tr>\n",
       "      <th>2020</th>\n",
       "      <td>NaN</td>\n",
       "      <td>NaN</td>\n",
       "      <td>NaN</td>\n",
       "      <td>NaN</td>\n",
       "    </tr>\n",
       "  </tbody>\n",
       "</table>\n",
       "</div>"
      ],
      "text/plain": [
       "      gdp3_renr_tj  gdp3_renn_tj  pgdp3_rend_tj           预测\n",
       "2017   1002.768672        997.30      99.454643  1002.768673\n",
       "2018   1061.932024       1001.48      94.307355  1061.932024\n",
       "2019           NaN           NaN      89.426465          NaN\n",
       "2020           NaN           NaN            NaN          NaN"
      ]
     },
     "execution_count": 65,
     "metadata": {},
     "output_type": "execute_result"
    }
   ],
   "source": [
    "test1 = df_ev[[\"gdp3_renr_tj\",\"gdp3_renn_tj\",\"pgdp3_rend_tj\"]]\n",
    "test1[\"预测\"] = test1[\"gdp3_renn_tj\"] / test1[\"pgdp3_rend_tj\"] *100\n",
    "test1.tail(4)"
   ]
  },
  {
   "cell_type": "markdown",
   "metadata": {},
   "source": [
    "## Eq189 : gdp3_renn_tj 行为方程 ok\n",
    "gdp3_renn_tj  = @coef(1)  + @coef(2) * gdp2_tran_tj  + @coef(3) * d_gdp3_renn_tj"
   ]
  },
  {
   "cell_type": "code",
   "execution_count": 67,
   "metadata": {
    "ExecuteTime": {
     "end_time": "2020-07-13T08:03:05.264803Z",
     "start_time": "2020-07-13T08:03:05.240970Z"
    }
   },
   "outputs": [
    {
     "data": {
      "text/html": [
       "<table class=\"simpletable\">\n",
       "<caption>OLS Regression Results</caption>\n",
       "<tr>\n",
       "  <th>Dep. Variable:</th>      <td>gdp3_renn_tj</td>   <th>  R-squared:         </th> <td>   0.999</td>\n",
       "</tr>\n",
       "<tr>\n",
       "  <th>Model:</th>                   <td>OLS</td>       <th>  Adj. R-squared:    </th> <td>   0.999</td>\n",
       "</tr>\n",
       "<tr>\n",
       "  <th>Method:</th>             <td>Least Squares</td>  <th>  F-statistic:       </th> <td>   1337.</td>\n",
       "</tr>\n",
       "<tr>\n",
       "  <th>Date:</th>             <td>Mon, 13 Jul 2020</td> <th>  Prob (F-statistic):</th> <td>0.000747</td>\n",
       "</tr>\n",
       "<tr>\n",
       "  <th>Time:</th>                 <td>08:03:05</td>     <th>  Log-Likelihood:    </th> <td> -14.081</td>\n",
       "</tr>\n",
       "<tr>\n",
       "  <th>No. Observations:</th>      <td>     5</td>      <th>  AIC:               </th> <td>   34.16</td>\n",
       "</tr>\n",
       "<tr>\n",
       "  <th>Df Residuals:</th>          <td>     2</td>      <th>  BIC:               </th> <td>   32.99</td>\n",
       "</tr>\n",
       "<tr>\n",
       "  <th>Df Model:</th>              <td>     2</td>      <th>                     </th>     <td> </td>   \n",
       "</tr>\n",
       "<tr>\n",
       "  <th>Covariance Type:</th>      <td>nonrobust</td>    <th>                     </th>     <td> </td>   \n",
       "</tr>\n",
       "</table>\n",
       "<table class=\"simpletable\">\n",
       "<tr>\n",
       "         <td></td>           <th>coef</th>     <th>std err</th>      <th>t</th>      <th>P>|t|</th>  <th>[0.025</th>    <th>0.975]</th>  \n",
       "</tr>\n",
       "<tr>\n",
       "  <th>Intercept</th>      <td>   55.7477</td> <td>   15.764</td> <td>    3.536</td> <td> 0.071</td> <td>  -12.079</td> <td>  123.574</td>\n",
       "</tr>\n",
       "<tr>\n",
       "  <th>gdp2_tran_tj</th>   <td>    0.4488</td> <td>    0.009</td> <td>   51.710</td> <td> 0.000</td> <td>    0.411</td> <td>    0.486</td>\n",
       "</tr>\n",
       "<tr>\n",
       "  <th>d_gdp3_renn_tj</th> <td>   80.2479</td> <td>    4.502</td> <td>   17.827</td> <td> 0.003</td> <td>   60.879</td> <td>   99.616</td>\n",
       "</tr>\n",
       "</table>\n",
       "<table class=\"simpletable\">\n",
       "<tr>\n",
       "  <th>Omnibus:</th>       <td>   nan</td> <th>  Durbin-Watson:     </th> <td>   3.395</td>\n",
       "</tr>\n",
       "<tr>\n",
       "  <th>Prob(Omnibus):</th> <td>   nan</td> <th>  Jarque-Bera (JB):  </th> <td>   0.645</td>\n",
       "</tr>\n",
       "<tr>\n",
       "  <th>Skew:</th>          <td> 0.462</td> <th>  Prob(JB):          </th> <td>   0.724</td>\n",
       "</tr>\n",
       "<tr>\n",
       "  <th>Kurtosis:</th>      <td> 1.503</td> <th>  Cond. No.          </th> <td>9.97e+03</td>\n",
       "</tr>\n",
       "</table><br/><br/>Warnings:<br/>[1] Standard Errors assume that the covariance matrix of the errors is correctly specified.<br/>[2] The condition number is large, 9.97e+03. This might indicate that there are<br/>strong multicollinearity or other numerical problems."
      ],
      "text/plain": [
       "<class 'statsmodels.iolib.summary.Summary'>\n",
       "\"\"\"\n",
       "                            OLS Regression Results                            \n",
       "==============================================================================\n",
       "Dep. Variable:           gdp3_renn_tj   R-squared:                       0.999\n",
       "Model:                            OLS   Adj. R-squared:                  0.999\n",
       "Method:                 Least Squares   F-statistic:                     1337.\n",
       "Date:                Mon, 13 Jul 2020   Prob (F-statistic):           0.000747\n",
       "Time:                        08:03:05   Log-Likelihood:                -14.081\n",
       "No. Observations:                   5   AIC:                             34.16\n",
       "Df Residuals:                       2   BIC:                             32.99\n",
       "Df Model:                           2                                         \n",
       "Covariance Type:            nonrobust                                         \n",
       "==================================================================================\n",
       "                     coef    std err          t      P>|t|      [0.025      0.975]\n",
       "----------------------------------------------------------------------------------\n",
       "Intercept         55.7477     15.764      3.536      0.071     -12.079     123.574\n",
       "gdp2_tran_tj       0.4488      0.009     51.710      0.000       0.411       0.486\n",
       "d_gdp3_renn_tj    80.2479      4.502     17.827      0.003      60.879      99.616\n",
       "==============================================================================\n",
       "Omnibus:                          nan   Durbin-Watson:                   3.395\n",
       "Prob(Omnibus):                    nan   Jarque-Bera (JB):                0.645\n",
       "Skew:                           0.462   Prob(JB):                        0.724\n",
       "Kurtosis:                       1.503   Cond. No.                     9.97e+03\n",
       "==============================================================================\n",
       "\n",
       "Warnings:\n",
       "[1] Standard Errors assume that the covariance matrix of the errors is correctly specified.\n",
       "[2] The condition number is large, 9.97e+03. This might indicate that there are\n",
       "strong multicollinearity or other numerical problems.\n",
       "\"\"\""
      ]
     },
     "execution_count": 67,
     "metadata": {},
     "output_type": "execute_result"
    }
   ],
   "source": [
    "test1 = df_ev[[\"gdp3_renn_tj\",\"gdp2_tran_tj\",\"d_gdp3_renn_tj\"]]\n",
    "test1 = test1[(test1.index>2013) & (test1.index <2019)]\n",
    "results = sm.ols(formula = \" gdp3_renn_tj~ gdp2_tran_tj + d_gdp3_renn_tj\",data = test1 ).fit()\n",
    "results.summary()"
   ]
  },
  {
   "cell_type": "markdown",
   "metadata": {},
   "source": [
    "## Eq190 :gdp3_sicr_tj 定义方程\n",
    "gdp3_sicr_tj  = gdp3_sicn_tj  / pgdp3_sicd_tj  * 100"
   ]
  },
  {
   "cell_type": "code",
   "execution_count": 68,
   "metadata": {
    "ExecuteTime": {
     "end_time": "2020-07-13T08:03:58.718270Z",
     "start_time": "2020-07-13T08:03:58.652783Z"
    }
   },
   "outputs": [
    {
     "data": {
      "text/html": [
       "<div>\n",
       "<style scoped>\n",
       "    .dataframe tbody tr th:only-of-type {\n",
       "        vertical-align: middle;\n",
       "    }\n",
       "\n",
       "    .dataframe tbody tr th {\n",
       "        vertical-align: top;\n",
       "    }\n",
       "\n",
       "    .dataframe thead th {\n",
       "        text-align: right;\n",
       "    }\n",
       "</style>\n",
       "<table border=\"1\" class=\"dataframe\">\n",
       "  <thead>\n",
       "    <tr style=\"text-align: right;\">\n",
       "      <th></th>\n",
       "      <th>gdp3_sicr_tj</th>\n",
       "      <th>gdp3_sicn_tj</th>\n",
       "      <th>pgdp3_sicd_tj</th>\n",
       "      <th>预测</th>\n",
       "    </tr>\n",
       "  </thead>\n",
       "  <tbody>\n",
       "    <tr>\n",
       "      <th>2017</th>\n",
       "      <td>879.654216</td>\n",
       "      <td>996.39</td>\n",
       "      <td>113.270645</td>\n",
       "      <td>879.654216</td>\n",
       "    </tr>\n",
       "    <tr>\n",
       "      <th>2018</th>\n",
       "      <td>968.499292</td>\n",
       "      <td>1005.18</td>\n",
       "      <td>103.787376</td>\n",
       "      <td>968.499292</td>\n",
       "    </tr>\n",
       "    <tr>\n",
       "      <th>2019</th>\n",
       "      <td>NaN</td>\n",
       "      <td>NaN</td>\n",
       "      <td>95.098067</td>\n",
       "      <td>NaN</td>\n",
       "    </tr>\n",
       "    <tr>\n",
       "      <th>2020</th>\n",
       "      <td>NaN</td>\n",
       "      <td>NaN</td>\n",
       "      <td>NaN</td>\n",
       "      <td>NaN</td>\n",
       "    </tr>\n",
       "  </tbody>\n",
       "</table>\n",
       "</div>"
      ],
      "text/plain": [
       "      gdp3_sicr_tj  gdp3_sicn_tj  pgdp3_sicd_tj          预测\n",
       "2017    879.654216        996.39     113.270645  879.654216\n",
       "2018    968.499292       1005.18     103.787376  968.499292\n",
       "2019           NaN           NaN      95.098067         NaN\n",
       "2020           NaN           NaN            NaN         NaN"
      ]
     },
     "execution_count": 68,
     "metadata": {},
     "output_type": "execute_result"
    }
   ],
   "source": [
    "test1 = df_ev[[\"gdp3_sicr_tj\",\"gdp3_sicn_tj\",\"pgdp3_sicd_tj\"]]\n",
    "test1[\"预测\"] = test1[\"gdp3_sicn_tj\"] / test1[\"pgdp3_sicd_tj\"] *100\n",
    "test1.tail(4)"
   ]
  },
  {
   "cell_type": "markdown",
   "metadata": {},
   "source": [
    "## Eq191 : gdp3_sicn_tj 行为方程 ok\n",
    "gdp3_sicn_tj  = @coef(1)  + @coef(2) * gdp2_tran_tj  + @coef(3) * d_gdp3_sicn_tj"
   ]
  },
  {
   "cell_type": "code",
   "execution_count": 69,
   "metadata": {
    "ExecuteTime": {
     "end_time": "2020-07-13T08:19:05.466206Z",
     "start_time": "2020-07-13T08:19:05.388000Z"
    }
   },
   "outputs": [
    {
     "data": {
      "text/html": [
       "<table class=\"simpletable\">\n",
       "<caption>OLS Regression Results</caption>\n",
       "<tr>\n",
       "  <th>Dep. Variable:</th>      <td>gdp3_sicn_tj</td>   <th>  R-squared:         </th> <td>   0.988</td>\n",
       "</tr>\n",
       "<tr>\n",
       "  <th>Model:</th>                   <td>OLS</td>       <th>  Adj. R-squared:    </th> <td>   0.977</td>\n",
       "</tr>\n",
       "<tr>\n",
       "  <th>Method:</th>             <td>Least Squares</td>  <th>  F-statistic:       </th> <td>   84.52</td>\n",
       "</tr>\n",
       "<tr>\n",
       "  <th>Date:</th>             <td>Mon, 13 Jul 2020</td> <th>  Prob (F-statistic):</th>  <td>0.0117</td> \n",
       "</tr>\n",
       "<tr>\n",
       "  <th>Time:</th>                 <td>08:19:05</td>     <th>  Log-Likelihood:    </th> <td> -20.957</td>\n",
       "</tr>\n",
       "<tr>\n",
       "  <th>No. Observations:</th>      <td>     5</td>      <th>  AIC:               </th> <td>   47.91</td>\n",
       "</tr>\n",
       "<tr>\n",
       "  <th>Df Residuals:</th>          <td>     2</td>      <th>  BIC:               </th> <td>   46.74</td>\n",
       "</tr>\n",
       "<tr>\n",
       "  <th>Df Model:</th>              <td>     2</td>      <th>                     </th>     <td> </td>   \n",
       "</tr>\n",
       "<tr>\n",
       "  <th>Covariance Type:</th>      <td>nonrobust</td>    <th>                     </th>     <td> </td>   \n",
       "</tr>\n",
       "</table>\n",
       "<table class=\"simpletable\">\n",
       "<tr>\n",
       "         <td></td>           <th>coef</th>     <th>std err</th>      <th>t</th>      <th>P>|t|</th>  <th>[0.025</th>    <th>0.975]</th>  \n",
       "</tr>\n",
       "<tr>\n",
       "  <th>Intercept</th>      <td>   54.0287</td> <td>   63.203</td> <td>    0.855</td> <td> 0.483</td> <td> -217.911</td> <td>  325.969</td>\n",
       "</tr>\n",
       "<tr>\n",
       "  <th>gdp2_tran_tj</th>   <td>    0.4530</td> <td>    0.035</td> <td>   12.977</td> <td> 0.006</td> <td>    0.303</td> <td>    0.603</td>\n",
       "</tr>\n",
       "<tr>\n",
       "  <th>d_gdp3_sicn_tj</th> <td>   81.5159</td> <td>   19.233</td> <td>    4.238</td> <td> 0.051</td> <td>   -1.235</td> <td>  164.267</td>\n",
       "</tr>\n",
       "</table>\n",
       "<table class=\"simpletable\">\n",
       "<tr>\n",
       "  <th>Omnibus:</th>       <td>   nan</td> <th>  Durbin-Watson:     </th> <td>   2.929</td>\n",
       "</tr>\n",
       "<tr>\n",
       "  <th>Prob(Omnibus):</th> <td>   nan</td> <th>  Jarque-Bera (JB):  </th> <td>   0.511</td>\n",
       "</tr>\n",
       "<tr>\n",
       "  <th>Skew:</th>          <td> 0.737</td> <th>  Prob(JB):          </th> <td>   0.774</td>\n",
       "</tr>\n",
       "<tr>\n",
       "  <th>Kurtosis:</th>      <td> 2.469</td> <th>  Cond. No.          </th> <td>1.01e+04</td>\n",
       "</tr>\n",
       "</table><br/><br/>Warnings:<br/>[1] Standard Errors assume that the covariance matrix of the errors is correctly specified.<br/>[2] The condition number is large, 1.01e+04. This might indicate that there are<br/>strong multicollinearity or other numerical problems."
      ],
      "text/plain": [
       "<class 'statsmodels.iolib.summary.Summary'>\n",
       "\"\"\"\n",
       "                            OLS Regression Results                            \n",
       "==============================================================================\n",
       "Dep. Variable:           gdp3_sicn_tj   R-squared:                       0.988\n",
       "Model:                            OLS   Adj. R-squared:                  0.977\n",
       "Method:                 Least Squares   F-statistic:                     84.52\n",
       "Date:                Mon, 13 Jul 2020   Prob (F-statistic):             0.0117\n",
       "Time:                        08:19:05   Log-Likelihood:                -20.957\n",
       "No. Observations:                   5   AIC:                             47.91\n",
       "Df Residuals:                       2   BIC:                             46.74\n",
       "Df Model:                           2                                         \n",
       "Covariance Type:            nonrobust                                         \n",
       "==================================================================================\n",
       "                     coef    std err          t      P>|t|      [0.025      0.975]\n",
       "----------------------------------------------------------------------------------\n",
       "Intercept         54.0287     63.203      0.855      0.483    -217.911     325.969\n",
       "gdp2_tran_tj       0.4530      0.035     12.977      0.006       0.303       0.603\n",
       "d_gdp3_sicn_tj    81.5159     19.233      4.238      0.051      -1.235     164.267\n",
       "==============================================================================\n",
       "Omnibus:                          nan   Durbin-Watson:                   2.929\n",
       "Prob(Omnibus):                    nan   Jarque-Bera (JB):                0.511\n",
       "Skew:                           0.737   Prob(JB):                        0.774\n",
       "Kurtosis:                       2.469   Cond. No.                     1.01e+04\n",
       "==============================================================================\n",
       "\n",
       "Warnings:\n",
       "[1] Standard Errors assume that the covariance matrix of the errors is correctly specified.\n",
       "[2] The condition number is large, 1.01e+04. This might indicate that there are\n",
       "strong multicollinearity or other numerical problems.\n",
       "\"\"\""
      ]
     },
     "execution_count": 69,
     "metadata": {},
     "output_type": "execute_result"
    }
   ],
   "source": [
    "test1 = df_ev[[\"gdp3_sicn_tj\",\"gdp2_tran_tj\",\"d_gdp3_sicn_tj\"]]\n",
    "test1[\"gdp3_sicn_tj_s1\"] = test1[\"gdp3_sicn_tj\"].shift(1)\n",
    "test1 = test1[(test1.index>2013) & (test1.index <2019)]\n",
    "results = sm.ols(formula = \" gdp3_sicn_tj~ gdp2_tran_tj  +  d_gdp3_sicn_tj\",data = test1 ).fit()\n",
    "results.summary()"
   ]
  },
  {
   "cell_type": "markdown",
   "metadata": {},
   "source": [
    "## Eq192 : gdp2_tecn_tj1  行为方程 ok\n",
    "gdp2_tecn_tj1  = @coef(1)  + @coef(2) * tta_tj  + @coef(3) * d_gdp2_tecn_tj_1"
   ]
  },
  {
   "cell_type": "code",
   "execution_count": 70,
   "metadata": {
    "ExecuteTime": {
     "end_time": "2020-07-13T08:21:16.697820Z",
     "start_time": "2020-07-13T08:21:16.651252Z"
    }
   },
   "outputs": [
    {
     "data": {
      "text/html": [
       "<table class=\"simpletable\">\n",
       "<caption>OLS Regression Results</caption>\n",
       "<tr>\n",
       "  <th>Dep. Variable:</th>      <td>gdp2_tecn_tj1</td>  <th>  R-squared:         </th> <td>   0.993</td>\n",
       "</tr>\n",
       "<tr>\n",
       "  <th>Model:</th>                   <td>OLS</td>       <th>  Adj. R-squared:    </th> <td>   0.986</td>\n",
       "</tr>\n",
       "<tr>\n",
       "  <th>Method:</th>             <td>Least Squares</td>  <th>  F-statistic:       </th> <td>   143.7</td>\n",
       "</tr>\n",
       "<tr>\n",
       "  <th>Date:</th>             <td>Mon, 13 Jul 2020</td> <th>  Prob (F-statistic):</th>  <td>0.00691</td>\n",
       "</tr>\n",
       "<tr>\n",
       "  <th>Time:</th>                 <td>08:21:16</td>     <th>  Log-Likelihood:    </th> <td> -18.646</td>\n",
       "</tr>\n",
       "<tr>\n",
       "  <th>No. Observations:</th>      <td>     5</td>      <th>  AIC:               </th> <td>   43.29</td>\n",
       "</tr>\n",
       "<tr>\n",
       "  <th>Df Residuals:</th>          <td>     2</td>      <th>  BIC:               </th> <td>   42.12</td>\n",
       "</tr>\n",
       "<tr>\n",
       "  <th>Df Model:</th>              <td>     2</td>      <th>                     </th>     <td> </td>   \n",
       "</tr>\n",
       "<tr>\n",
       "  <th>Covariance Type:</th>      <td>nonrobust</td>    <th>                     </th>     <td> </td>   \n",
       "</tr>\n",
       "</table>\n",
       "<table class=\"simpletable\">\n",
       "<tr>\n",
       "          <td></td>            <th>coef</th>     <th>std err</th>      <th>t</th>      <th>P>|t|</th>  <th>[0.025</th>    <th>0.975]</th>  \n",
       "</tr>\n",
       "<tr>\n",
       "  <th>Intercept</th>        <td>  614.2611</td> <td>   34.694</td> <td>   17.705</td> <td> 0.003</td> <td>  464.984</td> <td>  763.538</td>\n",
       "</tr>\n",
       "<tr>\n",
       "  <th>tta_tj</th>           <td>    1.3037</td> <td>    0.078</td> <td>   16.804</td> <td> 0.004</td> <td>    0.970</td> <td>    1.638</td>\n",
       "</tr>\n",
       "<tr>\n",
       "  <th>d_gdp2_tecn_tj_1</th> <td>   30.3818</td> <td>    8.928</td> <td>    3.403</td> <td> 0.077</td> <td>   -8.034</td> <td>   68.798</td>\n",
       "</tr>\n",
       "</table>\n",
       "<table class=\"simpletable\">\n",
       "<tr>\n",
       "  <th>Omnibus:</th>       <td>   nan</td> <th>  Durbin-Watson:     </th> <td>   2.214</td>\n",
       "</tr>\n",
       "<tr>\n",
       "  <th>Prob(Omnibus):</th> <td>   nan</td> <th>  Jarque-Bera (JB):  </th> <td>   1.708</td>\n",
       "</tr>\n",
       "<tr>\n",
       "  <th>Skew:</th>          <td> 1.430</td> <th>  Prob(JB):          </th> <td>   0.426</td>\n",
       "</tr>\n",
       "<tr>\n",
       "  <th>Kurtosis:</th>      <td> 3.153</td> <th>  Cond. No.          </th> <td>2.17e+03</td>\n",
       "</tr>\n",
       "</table><br/><br/>Warnings:<br/>[1] Standard Errors assume that the covariance matrix of the errors is correctly specified.<br/>[2] The condition number is large, 2.17e+03. This might indicate that there are<br/>strong multicollinearity or other numerical problems."
      ],
      "text/plain": [
       "<class 'statsmodels.iolib.summary.Summary'>\n",
       "\"\"\"\n",
       "                            OLS Regression Results                            \n",
       "==============================================================================\n",
       "Dep. Variable:          gdp2_tecn_tj1   R-squared:                       0.993\n",
       "Model:                            OLS   Adj. R-squared:                  0.986\n",
       "Method:                 Least Squares   F-statistic:                     143.7\n",
       "Date:                Mon, 13 Jul 2020   Prob (F-statistic):            0.00691\n",
       "Time:                        08:21:16   Log-Likelihood:                -18.646\n",
       "No. Observations:                   5   AIC:                             43.29\n",
       "Df Residuals:                       2   BIC:                             42.12\n",
       "Df Model:                           2                                         \n",
       "Covariance Type:            nonrobust                                         \n",
       "====================================================================================\n",
       "                       coef    std err          t      P>|t|      [0.025      0.975]\n",
       "------------------------------------------------------------------------------------\n",
       "Intercept          614.2611     34.694     17.705      0.003     464.984     763.538\n",
       "tta_tj               1.3037      0.078     16.804      0.004       0.970       1.638\n",
       "d_gdp2_tecn_tj_1    30.3818      8.928      3.403      0.077      -8.034      68.798\n",
       "==============================================================================\n",
       "Omnibus:                          nan   Durbin-Watson:                   2.214\n",
       "Prob(Omnibus):                    nan   Jarque-Bera (JB):                1.708\n",
       "Skew:                           1.430   Prob(JB):                        0.426\n",
       "Kurtosis:                       3.153   Cond. No.                     2.17e+03\n",
       "==============================================================================\n",
       "\n",
       "Warnings:\n",
       "[1] Standard Errors assume that the covariance matrix of the errors is correctly specified.\n",
       "[2] The condition number is large, 2.17e+03. This might indicate that there are\n",
       "strong multicollinearity or other numerical problems.\n",
       "\"\"\""
      ]
     },
     "execution_count": 70,
     "metadata": {},
     "output_type": "execute_result"
    }
   ],
   "source": [
    "test1 = df_ev[[\"gdp2_tecn_tj1\",\"tta_tj\",\"d_gdp2_tecn_tj_1\"]]\n",
    "test1 = test1[(test1.index>2013) & (test1.index <2019)]\n",
    "results = sm.ols(formula = \" gdp2_tecn_tj1~ tta_tj + d_gdp2_tecn_tj_1\",data = test1 ).fit()\n",
    "results.summary()"
   ]
  },
  {
   "cell_type": "markdown",
   "metadata": {},
   "source": [
    "## Eq193 : gdp2_tecn_tj2行为方程 ok\n",
    "gdp2_tecn_tj2  = @coef(1)  + @coef(2) * lse_tj  + @coef(3) * d_gdp2_tecn_tj_2"
   ]
  },
  {
   "cell_type": "code",
   "execution_count": 72,
   "metadata": {
    "ExecuteTime": {
     "end_time": "2020-07-13T08:26:16.755916Z",
     "start_time": "2020-07-13T08:26:16.706428Z"
    }
   },
   "outputs": [
    {
     "data": {
      "text/html": [
       "<table class=\"simpletable\">\n",
       "<caption>OLS Regression Results</caption>\n",
       "<tr>\n",
       "  <th>Dep. Variable:</th>      <td>gdp2_tecn_tj2</td>  <th>  R-squared:         </th> <td>   0.995</td>\n",
       "</tr>\n",
       "<tr>\n",
       "  <th>Model:</th>                   <td>OLS</td>       <th>  Adj. R-squared:    </th> <td>   0.990</td>\n",
       "</tr>\n",
       "<tr>\n",
       "  <th>Method:</th>             <td>Least Squares</td>  <th>  F-statistic:       </th> <td>   207.8</td>\n",
       "</tr>\n",
       "<tr>\n",
       "  <th>Date:</th>             <td>Mon, 13 Jul 2020</td> <th>  Prob (F-statistic):</th>  <td>0.00479</td>\n",
       "</tr>\n",
       "<tr>\n",
       "  <th>Time:</th>                 <td>08:26:16</td>     <th>  Log-Likelihood:    </th> <td> -17.849</td>\n",
       "</tr>\n",
       "<tr>\n",
       "  <th>No. Observations:</th>      <td>     5</td>      <th>  AIC:               </th> <td>   41.70</td>\n",
       "</tr>\n",
       "<tr>\n",
       "  <th>Df Residuals:</th>          <td>     2</td>      <th>  BIC:               </th> <td>   40.53</td>\n",
       "</tr>\n",
       "<tr>\n",
       "  <th>Df Model:</th>              <td>     2</td>      <th>                     </th>     <td> </td>   \n",
       "</tr>\n",
       "<tr>\n",
       "  <th>Covariance Type:</th>      <td>nonrobust</td>    <th>                     </th>     <td> </td>   \n",
       "</tr>\n",
       "</table>\n",
       "<table class=\"simpletable\">\n",
       "<tr>\n",
       "          <td></td>            <th>coef</th>     <th>std err</th>      <th>t</th>      <th>P>|t|</th>  <th>[0.025</th>    <th>0.975]</th>  \n",
       "</tr>\n",
       "<tr>\n",
       "  <th>Intercept</th>        <td>  605.2506</td> <td>   28.826</td> <td>   20.996</td> <td> 0.002</td> <td>  481.221</td> <td>  729.280</td>\n",
       "</tr>\n",
       "<tr>\n",
       "  <th>lse_tj</th>           <td>    0.0045</td> <td>    0.000</td> <td>   20.372</td> <td> 0.002</td> <td>    0.004</td> <td>    0.005</td>\n",
       "</tr>\n",
       "<tr>\n",
       "  <th>d_gdp2_tecn_tj_2</th> <td>   67.5075</td> <td>    9.303</td> <td>    7.257</td> <td> 0.018</td> <td>   27.480</td> <td>  107.535</td>\n",
       "</tr>\n",
       "</table>\n",
       "<table class=\"simpletable\">\n",
       "<tr>\n",
       "  <th>Omnibus:</th>       <td>   nan</td> <th>  Durbin-Watson:     </th> <td>   2.555</td>\n",
       "</tr>\n",
       "<tr>\n",
       "  <th>Prob(Omnibus):</th> <td>   nan</td> <th>  Jarque-Bera (JB):  </th> <td>   0.412</td>\n",
       "</tr>\n",
       "<tr>\n",
       "  <th>Skew:</th>          <td> 0.490</td> <th>  Prob(JB):          </th> <td>   0.814</td>\n",
       "</tr>\n",
       "<tr>\n",
       "  <th>Kurtosis:</th>      <td> 1.992</td> <th>  Cond. No.          </th> <td>6.16e+05</td>\n",
       "</tr>\n",
       "</table><br/><br/>Warnings:<br/>[1] Standard Errors assume that the covariance matrix of the errors is correctly specified.<br/>[2] The condition number is large, 6.16e+05. This might indicate that there are<br/>strong multicollinearity or other numerical problems."
      ],
      "text/plain": [
       "<class 'statsmodels.iolib.summary.Summary'>\n",
       "\"\"\"\n",
       "                            OLS Regression Results                            \n",
       "==============================================================================\n",
       "Dep. Variable:          gdp2_tecn_tj2   R-squared:                       0.995\n",
       "Model:                            OLS   Adj. R-squared:                  0.990\n",
       "Method:                 Least Squares   F-statistic:                     207.8\n",
       "Date:                Mon, 13 Jul 2020   Prob (F-statistic):            0.00479\n",
       "Time:                        08:26:16   Log-Likelihood:                -17.849\n",
       "No. Observations:                   5   AIC:                             41.70\n",
       "Df Residuals:                       2   BIC:                             40.53\n",
       "Df Model:                           2                                         \n",
       "Covariance Type:            nonrobust                                         \n",
       "====================================================================================\n",
       "                       coef    std err          t      P>|t|      [0.025      0.975]\n",
       "------------------------------------------------------------------------------------\n",
       "Intercept          605.2506     28.826     20.996      0.002     481.221     729.280\n",
       "lse_tj               0.0045      0.000     20.372      0.002       0.004       0.005\n",
       "d_gdp2_tecn_tj_2    67.5075      9.303      7.257      0.018      27.480     107.535\n",
       "==============================================================================\n",
       "Omnibus:                          nan   Durbin-Watson:                   2.555\n",
       "Prob(Omnibus):                    nan   Jarque-Bera (JB):                0.412\n",
       "Skew:                           0.490   Prob(JB):                        0.814\n",
       "Kurtosis:                       1.992   Cond. No.                     6.16e+05\n",
       "==============================================================================\n",
       "\n",
       "Warnings:\n",
       "[1] Standard Errors assume that the covariance matrix of the errors is correctly specified.\n",
       "[2] The condition number is large, 6.16e+05. This might indicate that there are\n",
       "strong multicollinearity or other numerical problems.\n",
       "\"\"\""
      ]
     },
     "execution_count": 72,
     "metadata": {},
     "output_type": "execute_result"
    }
   ],
   "source": [
    "test1 = df_ev[[\"gdp2_tecn_tj2\",\"lse_tj\",\"d_gdp2_tecn_tj_2\"]]\n",
    "test1 = test1[(test1.index>2013) & (test1.index <2019)]\n",
    "results = sm.ols(formula = \" gdp2_tecn_tj2 ~ lse_tj + d_gdp2_tecn_tj_2\",data = test1 ).fit()\n",
    "results.summary()"
   ]
  },
  {
   "cell_type": "markdown",
   "metadata": {},
   "source": [
    "## Eq 194 ：gdp2_tecn_tj 定义方程\n",
    "gdp2_tecn_tj  = (gdp2_tecn_tj1  + gdp2_tecn_tj2)  / 2"
   ]
  },
  {
   "cell_type": "code",
   "execution_count": 79,
   "metadata": {},
   "outputs": [
    {
     "data": {
      "text/html": [
       "<div>\n",
       "<style scoped>\n",
       "    .dataframe tbody tr th:only-of-type {\n",
       "        vertical-align: middle;\n",
       "    }\n",
       "\n",
       "    .dataframe tbody tr th {\n",
       "        vertical-align: top;\n",
       "    }\n",
       "\n",
       "    .dataframe thead th {\n",
       "        text-align: right;\n",
       "    }\n",
       "</style>\n",
       "<table border=\"1\" class=\"dataframe\">\n",
       "  <thead>\n",
       "    <tr style=\"text-align: right;\">\n",
       "      <th></th>\n",
       "      <th>gdp2_tecn_tj</th>\n",
       "      <th>gdp2_tecn_tj1</th>\n",
       "      <th>gdp2_tecn_tj2</th>\n",
       "      <th>预测</th>\n",
       "    </tr>\n",
       "  </thead>\n",
       "  <tbody>\n",
       "    <tr>\n",
       "      <th>2017</th>\n",
       "      <td>1308.576</td>\n",
       "      <td>1303.573</td>\n",
       "      <td>1313.578</td>\n",
       "      <td>1308.5755</td>\n",
       "    </tr>\n",
       "    <tr>\n",
       "      <th>2018</th>\n",
       "      <td>1298.540</td>\n",
       "      <td>1298.540</td>\n",
       "      <td>1298.540</td>\n",
       "      <td>1298.5400</td>\n",
       "    </tr>\n",
       "    <tr>\n",
       "      <th>2019</th>\n",
       "      <td>1412.020</td>\n",
       "      <td>1412.020</td>\n",
       "      <td>1412.020</td>\n",
       "      <td>1412.0200</td>\n",
       "    </tr>\n",
       "    <tr>\n",
       "      <th>2020</th>\n",
       "      <td>NaN</td>\n",
       "      <td>NaN</td>\n",
       "      <td>NaN</td>\n",
       "      <td>NaN</td>\n",
       "    </tr>\n",
       "  </tbody>\n",
       "</table>\n",
       "</div>"
      ],
      "text/plain": [
       "      gdp2_tecn_tj  gdp2_tecn_tj1  gdp2_tecn_tj2         预测\n",
       "2017      1308.576       1303.573       1313.578  1308.5755\n",
       "2018      1298.540       1298.540       1298.540  1298.5400\n",
       "2019      1412.020       1412.020       1412.020  1412.0200\n",
       "2020           NaN            NaN            NaN        NaN"
      ]
     },
     "execution_count": 79,
     "metadata": {},
     "output_type": "execute_result"
    }
   ],
   "source": [
    "test1 = df_ev[[\"gdp2_tecn_tj\",\"gdp2_tecn_tj1\",\"gdp2_tecn_tj2\"]]\n",
    "test1[\"预测\"] = (test1[\"gdp2_tecn_tj1\"] + test1[\"gdp2_tecn_tj2\"])/2\n",
    "test1.tail(4)"
   ]
  },
  {
   "cell_type": "markdown",
   "metadata": {},
   "source": [
    "## Eq 195 gdp2_medn_tj 行为方程\n",
    "\n",
    "gdp2_medn_tj  = @coef(1)  + @coef(2) * gdp2_tecn_tj  + @coef(3) * d_gdp2_medn_tj"
   ]
  },
  {
   "cell_type": "code",
   "execution_count": 80,
   "metadata": {},
   "outputs": [
    {
     "data": {
      "text/html": [
       "<table class=\"simpletable\">\n",
       "<caption>OLS Regression Results</caption>\n",
       "<tr>\n",
       "  <th>Dep. Variable:</th>      <td>gdp2_medn_tj</td>   <th>  R-squared:         </th> <td>   0.990</td>\n",
       "</tr>\n",
       "<tr>\n",
       "  <th>Model:</th>                   <td>OLS</td>       <th>  Adj. R-squared:    </th> <td>   0.980</td>\n",
       "</tr>\n",
       "<tr>\n",
       "  <th>Method:</th>             <td>Least Squares</td>  <th>  F-statistic:       </th> <td>   98.41</td>\n",
       "</tr>\n",
       "<tr>\n",
       "  <th>Date:</th>             <td>Mon, 13 Jul 2020</td> <th>  Prob (F-statistic):</th>  <td>0.0101</td> \n",
       "</tr>\n",
       "<tr>\n",
       "  <th>Time:</th>                 <td>09:10:17</td>     <th>  Log-Likelihood:    </th> <td> -18.242</td>\n",
       "</tr>\n",
       "<tr>\n",
       "  <th>No. Observations:</th>      <td>     5</td>      <th>  AIC:               </th> <td>   42.48</td>\n",
       "</tr>\n",
       "<tr>\n",
       "  <th>Df Residuals:</th>          <td>     2</td>      <th>  BIC:               </th> <td>   41.31</td>\n",
       "</tr>\n",
       "<tr>\n",
       "  <th>Df Model:</th>              <td>     2</td>      <th>                     </th>     <td> </td>   \n",
       "</tr>\n",
       "<tr>\n",
       "  <th>Covariance Type:</th>      <td>nonrobust</td>    <th>                     </th>     <td> </td>   \n",
       "</tr>\n",
       "</table>\n",
       "<table class=\"simpletable\">\n",
       "<tr>\n",
       "         <td></td>           <th>coef</th>     <th>std err</th>      <th>t</th>      <th>P>|t|</th>  <th>[0.025</th>    <th>0.975]</th>  \n",
       "</tr>\n",
       "<tr>\n",
       "  <th>Intercept</th>      <td> -324.6524</td> <td>   69.984</td> <td>   -4.639</td> <td> 0.043</td> <td> -625.771</td> <td>  -23.534</td>\n",
       "</tr>\n",
       "<tr>\n",
       "  <th>gdp2_tecn_tj</th>   <td>    0.5105</td> <td>    0.059</td> <td>    8.644</td> <td> 0.013</td> <td>    0.256</td> <td>    0.765</td>\n",
       "</tr>\n",
       "<tr>\n",
       "  <th>d_gdp2_medn_tj</th> <td>   57.0754</td> <td>    8.855</td> <td>    6.445</td> <td> 0.023</td> <td>   18.973</td> <td>   95.177</td>\n",
       "</tr>\n",
       "</table>\n",
       "<table class=\"simpletable\">\n",
       "<tr>\n",
       "  <th>Omnibus:</th>       <td>   nan</td> <th>  Durbin-Watson:     </th> <td>   2.915</td>\n",
       "</tr>\n",
       "<tr>\n",
       "  <th>Prob(Omnibus):</th> <td>   nan</td> <th>  Jarque-Bera (JB):  </th> <td>   1.156</td>\n",
       "</tr>\n",
       "<tr>\n",
       "  <th>Skew:</th>          <td>-1.177</td> <th>  Prob(JB):          </th> <td>   0.561</td>\n",
       "</tr>\n",
       "<tr>\n",
       "  <th>Kurtosis:</th>      <td> 2.926</td> <th>  Cond. No.          </th> <td>1.27e+04</td>\n",
       "</tr>\n",
       "</table><br/><br/>Warnings:<br/>[1] Standard Errors assume that the covariance matrix of the errors is correctly specified.<br/>[2] The condition number is large, 1.27e+04. This might indicate that there are<br/>strong multicollinearity or other numerical problems."
      ],
      "text/plain": [
       "<class 'statsmodels.iolib.summary.Summary'>\n",
       "\"\"\"\n",
       "                            OLS Regression Results                            \n",
       "==============================================================================\n",
       "Dep. Variable:           gdp2_medn_tj   R-squared:                       0.990\n",
       "Model:                            OLS   Adj. R-squared:                  0.980\n",
       "Method:                 Least Squares   F-statistic:                     98.41\n",
       "Date:                Mon, 13 Jul 2020   Prob (F-statistic):             0.0101\n",
       "Time:                        09:10:17   Log-Likelihood:                -18.242\n",
       "No. Observations:                   5   AIC:                             42.48\n",
       "Df Residuals:                       2   BIC:                             41.31\n",
       "Df Model:                           2                                         \n",
       "Covariance Type:            nonrobust                                         \n",
       "==================================================================================\n",
       "                     coef    std err          t      P>|t|      [0.025      0.975]\n",
       "----------------------------------------------------------------------------------\n",
       "Intercept       -324.6524     69.984     -4.639      0.043    -625.771     -23.534\n",
       "gdp2_tecn_tj       0.5105      0.059      8.644      0.013       0.256       0.765\n",
       "d_gdp2_medn_tj    57.0754      8.855      6.445      0.023      18.973      95.177\n",
       "==============================================================================\n",
       "Omnibus:                          nan   Durbin-Watson:                   2.915\n",
       "Prob(Omnibus):                    nan   Jarque-Bera (JB):                1.156\n",
       "Skew:                          -1.177   Prob(JB):                        0.561\n",
       "Kurtosis:                       2.926   Cond. No.                     1.27e+04\n",
       "==============================================================================\n",
       "\n",
       "Warnings:\n",
       "[1] Standard Errors assume that the covariance matrix of the errors is correctly specified.\n",
       "[2] The condition number is large, 1.27e+04. This might indicate that there are\n",
       "strong multicollinearity or other numerical problems.\n",
       "\"\"\""
      ]
     },
     "execution_count": 80,
     "metadata": {},
     "output_type": "execute_result"
    }
   ],
   "source": [
    "test1 = df_ev[[\"gdp2_medn_tj\",\"gdp2_tecn_tj\",\"d_gdp2_medn_tj\"]]\n",
    "test1 = test1[(test1.index>2013) & (test1.index <2019)]\n",
    "results = sm.ols(formula = \" gdp2_medn_tj~ gdp2_tecn_tj + d_gdp2_medn_tj \",data = test1 ).fit()\n",
    "results.summary()\n"
   ]
  },
  {
   "cell_type": "markdown",
   "metadata": {},
   "source": [
    "##  Eq196 : tta_tj 行为  北京和天津数据有影响\n",
    "tta_tj  = @coef(1)  + @coef(2) * tta_f_bj  + @coef(3) * tta_tj(-1)  + @coef(4) * d_tta_tj"
   ]
  },
  {
   "cell_type": "code",
   "execution_count": 83,
   "metadata": {
    "ExecuteTime": {
     "end_time": "2020-07-10T06:23:20.210186Z",
     "start_time": "2020-07-10T06:23:20.185776Z"
    }
   },
   "outputs": [
    {
     "data": {
      "text/html": [
       "<table class=\"simpletable\">\n",
       "<caption>OLS Regression Results</caption>\n",
       "<tr>\n",
       "  <th>Dep. Variable:</th>         <td>tta_tj</td>      <th>  R-squared:         </th> <td>   0.998</td>\n",
       "</tr>\n",
       "<tr>\n",
       "  <th>Model:</th>                   <td>OLS</td>       <th>  Adj. R-squared:    </th> <td>   0.997</td>\n",
       "</tr>\n",
       "<tr>\n",
       "  <th>Method:</th>             <td>Least Squares</td>  <th>  F-statistic:       </th> <td>   1222.</td>\n",
       "</tr>\n",
       "<tr>\n",
       "  <th>Date:</th>             <td>Mon, 13 Jul 2020</td> <th>  Prob (F-statistic):</th> <td>5.53e-11</td>\n",
       "</tr>\n",
       "<tr>\n",
       "  <th>Time:</th>                 <td>09:15:11</td>     <th>  Log-Likelihood:    </th> <td> -42.177</td>\n",
       "</tr>\n",
       "<tr>\n",
       "  <th>No. Observations:</th>      <td>    12</td>      <th>  AIC:               </th> <td>   92.35</td>\n",
       "</tr>\n",
       "<tr>\n",
       "  <th>Df Residuals:</th>          <td>     8</td>      <th>  BIC:               </th> <td>   94.29</td>\n",
       "</tr>\n",
       "<tr>\n",
       "  <th>Df Model:</th>              <td>     3</td>      <th>                     </th>     <td> </td>   \n",
       "</tr>\n",
       "<tr>\n",
       "  <th>Covariance Type:</th>      <td>nonrobust</td>    <th>                     </th>     <td> </td>   \n",
       "</tr>\n",
       "</table>\n",
       "<table class=\"simpletable\">\n",
       "<tr>\n",
       "      <td></td>         <th>coef</th>     <th>std err</th>      <th>t</th>      <th>P>|t|</th>  <th>[0.025</th>    <th>0.975]</th>  \n",
       "</tr>\n",
       "<tr>\n",
       "  <th>Intercept</th> <td>   -1.2314</td> <td>    6.166</td> <td>   -0.200</td> <td> 0.847</td> <td>  -15.451</td> <td>   12.988</td>\n",
       "</tr>\n",
       "<tr>\n",
       "  <th>tta_f_bj</th>  <td>    0.0564</td> <td>    0.011</td> <td>    5.221</td> <td> 0.001</td> <td>    0.031</td> <td>    0.081</td>\n",
       "</tr>\n",
       "<tr>\n",
       "  <th>tta_tj_s1</th> <td>    0.7965</td> <td>    0.056</td> <td>   14.221</td> <td> 0.000</td> <td>    0.667</td> <td>    0.926</td>\n",
       "</tr>\n",
       "<tr>\n",
       "  <th>d_tta_tj</th>  <td>   91.2760</td> <td>   10.636</td> <td>    8.582</td> <td> 0.000</td> <td>   66.749</td> <td>  115.803</td>\n",
       "</tr>\n",
       "</table>\n",
       "<table class=\"simpletable\">\n",
       "<tr>\n",
       "  <th>Omnibus:</th>       <td> 4.519</td> <th>  Durbin-Watson:     </th> <td>   3.130</td>\n",
       "</tr>\n",
       "<tr>\n",
       "  <th>Prob(Omnibus):</th> <td> 0.104</td> <th>  Jarque-Bera (JB):  </th> <td>   1.773</td>\n",
       "</tr>\n",
       "<tr>\n",
       "  <th>Skew:</th>          <td> 0.882</td> <th>  Prob(JB):          </th> <td>   0.412</td>\n",
       "</tr>\n",
       "<tr>\n",
       "  <th>Kurtosis:</th>      <td> 3.661</td> <th>  Cond. No.          </th> <td>6.02e+03</td>\n",
       "</tr>\n",
       "</table><br/><br/>Warnings:<br/>[1] Standard Errors assume that the covariance matrix of the errors is correctly specified.<br/>[2] The condition number is large, 6.02e+03. This might indicate that there are<br/>strong multicollinearity or other numerical problems."
      ],
      "text/plain": [
       "<class 'statsmodels.iolib.summary.Summary'>\n",
       "\"\"\"\n",
       "                            OLS Regression Results                            \n",
       "==============================================================================\n",
       "Dep. Variable:                 tta_tj   R-squared:                       0.998\n",
       "Model:                            OLS   Adj. R-squared:                  0.997\n",
       "Method:                 Least Squares   F-statistic:                     1222.\n",
       "Date:                Mon, 13 Jul 2020   Prob (F-statistic):           5.53e-11\n",
       "Time:                        09:15:11   Log-Likelihood:                -42.177\n",
       "No. Observations:                  12   AIC:                             92.35\n",
       "Df Residuals:                       8   BIC:                             94.29\n",
       "Df Model:                           3                                         \n",
       "Covariance Type:            nonrobust                                         \n",
       "==============================================================================\n",
       "                 coef    std err          t      P>|t|      [0.025      0.975]\n",
       "------------------------------------------------------------------------------\n",
       "Intercept     -1.2314      6.166     -0.200      0.847     -15.451      12.988\n",
       "tta_f_bj       0.0564      0.011      5.221      0.001       0.031       0.081\n",
       "tta_tj_s1      0.7965      0.056     14.221      0.000       0.667       0.926\n",
       "d_tta_tj      91.2760     10.636      8.582      0.000      66.749     115.803\n",
       "==============================================================================\n",
       "Omnibus:                        4.519   Durbin-Watson:                   3.130\n",
       "Prob(Omnibus):                  0.104   Jarque-Bera (JB):                1.773\n",
       "Skew:                           0.882   Prob(JB):                        0.412\n",
       "Kurtosis:                       3.661   Cond. No.                     6.02e+03\n",
       "==============================================================================\n",
       "\n",
       "Warnings:\n",
       "[1] Standard Errors assume that the covariance matrix of the errors is correctly specified.\n",
       "[2] The condition number is large, 6.02e+03. This might indicate that there are\n",
       "strong multicollinearity or other numerical problems.\n",
       "\"\"\""
      ]
     },
     "execution_count": 83,
     "metadata": {},
     "output_type": "execute_result"
    }
   ],
   "source": [
    "test1 = df_ev[[\"tta_tj\",\"tta_f_bj\",\"d_tta_tj\"]]\n",
    "test1[\"tta_tj_s1\"] = test1[\"tta_tj\"].shift(1)\n",
    "test1 = test1[(test1.index>2006) & (test1.index <2019)]\n",
    "results = sm.ols(formula = \" tta_tj~ tta_f_bj + tta_tj_s1 +d_tta_tj \",data = test1 ).fit()\n",
    "results.summary()"
   ]
  },
  {
   "cell_type": "markdown",
   "metadata": {},
   "source": [
    "## Eq197 : gdp2_airn_tj 行为方程 ok\n",
    "gdp2_airn_tj  = @coef(1)  + @coef(2) * d(gdp2_tecn_tj)  + @coef(3) * d_gdp2_airn_tj"
   ]
  },
  {
   "cell_type": "code",
   "execution_count": 7,
   "metadata": {
    "ExecuteTime": {
     "end_time": "2020-07-21T03:11:25.757001Z",
     "start_time": "2020-07-21T03:11:25.741657Z"
    }
   },
   "outputs": [
    {
     "data": {
      "text/html": [
       "<div>\n",
       "<style scoped>\n",
       "    .dataframe tbody tr th:only-of-type {\n",
       "        vertical-align: middle;\n",
       "    }\n",
       "\n",
       "    .dataframe tbody tr th {\n",
       "        vertical-align: top;\n",
       "    }\n",
       "\n",
       "    .dataframe thead th {\n",
       "        text-align: right;\n",
       "    }\n",
       "</style>\n",
       "<table border=\"1\" class=\"dataframe\">\n",
       "  <thead>\n",
       "    <tr style=\"text-align: right;\">\n",
       "      <th></th>\n",
       "      <th>gdp2_airn_tj</th>\n",
       "      <th>gdp2_tecn_tj</th>\n",
       "      <th>d_gdp2_airn_tj</th>\n",
       "      <th>gdp2_tecn_tj1</th>\n",
       "      <th>gdp2_tecn_tj2</th>\n",
       "    </tr>\n",
       "  </thead>\n",
       "  <tbody>\n",
       "    <tr>\n",
       "      <th>1996</th>\n",
       "      <td>NaN</td>\n",
       "      <td>NaN</td>\n",
       "      <td>0.0</td>\n",
       "      <td>NaN</td>\n",
       "      <td>NaN</td>\n",
       "    </tr>\n",
       "    <tr>\n",
       "      <th>1997</th>\n",
       "      <td>NaN</td>\n",
       "      <td>NaN</td>\n",
       "      <td>0.0</td>\n",
       "      <td>NaN</td>\n",
       "      <td>NaN</td>\n",
       "    </tr>\n",
       "    <tr>\n",
       "      <th>1998</th>\n",
       "      <td>NaN</td>\n",
       "      <td>NaN</td>\n",
       "      <td>0.0</td>\n",
       "      <td>NaN</td>\n",
       "      <td>NaN</td>\n",
       "    </tr>\n",
       "    <tr>\n",
       "      <th>1999</th>\n",
       "      <td>NaN</td>\n",
       "      <td>NaN</td>\n",
       "      <td>0.0</td>\n",
       "      <td>NaN</td>\n",
       "      <td>NaN</td>\n",
       "    </tr>\n",
       "    <tr>\n",
       "      <th>2000</th>\n",
       "      <td>NaN</td>\n",
       "      <td>NaN</td>\n",
       "      <td>0.0</td>\n",
       "      <td>NaN</td>\n",
       "      <td>NaN</td>\n",
       "    </tr>\n",
       "    <tr>\n",
       "      <th>2001</th>\n",
       "      <td>NaN</td>\n",
       "      <td>NaN</td>\n",
       "      <td>0.0</td>\n",
       "      <td>NaN</td>\n",
       "      <td>NaN</td>\n",
       "    </tr>\n",
       "    <tr>\n",
       "      <th>2002</th>\n",
       "      <td>NaN</td>\n",
       "      <td>NaN</td>\n",
       "      <td>0.0</td>\n",
       "      <td>NaN</td>\n",
       "      <td>NaN</td>\n",
       "    </tr>\n",
       "    <tr>\n",
       "      <th>2003</th>\n",
       "      <td>NaN</td>\n",
       "      <td>NaN</td>\n",
       "      <td>0.0</td>\n",
       "      <td>NaN</td>\n",
       "      <td>NaN</td>\n",
       "    </tr>\n",
       "    <tr>\n",
       "      <th>2004</th>\n",
       "      <td>NaN</td>\n",
       "      <td>NaN</td>\n",
       "      <td>0.0</td>\n",
       "      <td>NaN</td>\n",
       "      <td>NaN</td>\n",
       "    </tr>\n",
       "    <tr>\n",
       "      <th>2005</th>\n",
       "      <td>NaN</td>\n",
       "      <td>NaN</td>\n",
       "      <td>0.0</td>\n",
       "      <td>NaN</td>\n",
       "      <td>NaN</td>\n",
       "    </tr>\n",
       "    <tr>\n",
       "      <th>2006</th>\n",
       "      <td>NaN</td>\n",
       "      <td>NaN</td>\n",
       "      <td>0.0</td>\n",
       "      <td>NaN</td>\n",
       "      <td>NaN</td>\n",
       "    </tr>\n",
       "    <tr>\n",
       "      <th>2007</th>\n",
       "      <td>NaN</td>\n",
       "      <td>NaN</td>\n",
       "      <td>0.0</td>\n",
       "      <td>NaN</td>\n",
       "      <td>NaN</td>\n",
       "    </tr>\n",
       "    <tr>\n",
       "      <th>2008</th>\n",
       "      <td>NaN</td>\n",
       "      <td>NaN</td>\n",
       "      <td>0.0</td>\n",
       "      <td>NaN</td>\n",
       "      <td>NaN</td>\n",
       "    </tr>\n",
       "    <tr>\n",
       "      <th>2009</th>\n",
       "      <td>NaN</td>\n",
       "      <td>NaN</td>\n",
       "      <td>0.0</td>\n",
       "      <td>NaN</td>\n",
       "      <td>NaN</td>\n",
       "    </tr>\n",
       "    <tr>\n",
       "      <th>2010</th>\n",
       "      <td>NaN</td>\n",
       "      <td>NaN</td>\n",
       "      <td>0.0</td>\n",
       "      <td>NaN</td>\n",
       "      <td>NaN</td>\n",
       "    </tr>\n",
       "    <tr>\n",
       "      <th>2011</th>\n",
       "      <td>NaN</td>\n",
       "      <td>NaN</td>\n",
       "      <td>0.0</td>\n",
       "      <td>NaN</td>\n",
       "      <td>NaN</td>\n",
       "    </tr>\n",
       "    <tr>\n",
       "      <th>2012</th>\n",
       "      <td>NaN</td>\n",
       "      <td>NaN</td>\n",
       "      <td>0.0</td>\n",
       "      <td>NaN</td>\n",
       "      <td>NaN</td>\n",
       "    </tr>\n",
       "    <tr>\n",
       "      <th>2013</th>\n",
       "      <td>NaN</td>\n",
       "      <td>NaN</td>\n",
       "      <td>0.0</td>\n",
       "      <td>NaN</td>\n",
       "      <td>NaN</td>\n",
       "    </tr>\n",
       "    <tr>\n",
       "      <th>2014</th>\n",
       "      <td>110.621639</td>\n",
       "      <td>971.870</td>\n",
       "      <td>0.0</td>\n",
       "      <td>971.870</td>\n",
       "      <td>971.870</td>\n",
       "    </tr>\n",
       "    <tr>\n",
       "      <th>2015</th>\n",
       "      <td>161.070540</td>\n",
       "      <td>1148.218</td>\n",
       "      <td>0.0</td>\n",
       "      <td>1156.948</td>\n",
       "      <td>1139.488</td>\n",
       "    </tr>\n",
       "    <tr>\n",
       "      <th>2016</th>\n",
       "      <td>195.820824</td>\n",
       "      <td>1183.529</td>\n",
       "      <td>1.0</td>\n",
       "      <td>1202.249</td>\n",
       "      <td>1164.809</td>\n",
       "    </tr>\n",
       "    <tr>\n",
       "      <th>2017</th>\n",
       "      <td>24.649684</td>\n",
       "      <td>1308.576</td>\n",
       "      <td>-0.8</td>\n",
       "      <td>1303.573</td>\n",
       "      <td>1313.578</td>\n",
       "    </tr>\n",
       "    <tr>\n",
       "      <th>2018</th>\n",
       "      <td>25.576455</td>\n",
       "      <td>1298.540</td>\n",
       "      <td>0.0</td>\n",
       "      <td>1298.540</td>\n",
       "      <td>1298.540</td>\n",
       "    </tr>\n",
       "    <tr>\n",
       "      <th>2019</th>\n",
       "      <td>NaN</td>\n",
       "      <td>1412.020</td>\n",
       "      <td>0.0</td>\n",
       "      <td>1412.020</td>\n",
       "      <td>1412.020</td>\n",
       "    </tr>\n",
       "    <tr>\n",
       "      <th>2020</th>\n",
       "      <td>NaN</td>\n",
       "      <td>NaN</td>\n",
       "      <td>0.0</td>\n",
       "      <td>NaN</td>\n",
       "      <td>NaN</td>\n",
       "    </tr>\n",
       "  </tbody>\n",
       "</table>\n",
       "</div>"
      ],
      "text/plain": [
       "      gdp2_airn_tj  gdp2_tecn_tj  d_gdp2_airn_tj  gdp2_tecn_tj1  gdp2_tecn_tj2\n",
       "1996           NaN           NaN             0.0            NaN            NaN\n",
       "1997           NaN           NaN             0.0            NaN            NaN\n",
       "1998           NaN           NaN             0.0            NaN            NaN\n",
       "1999           NaN           NaN             0.0            NaN            NaN\n",
       "2000           NaN           NaN             0.0            NaN            NaN\n",
       "2001           NaN           NaN             0.0            NaN            NaN\n",
       "2002           NaN           NaN             0.0            NaN            NaN\n",
       "2003           NaN           NaN             0.0            NaN            NaN\n",
       "2004           NaN           NaN             0.0            NaN            NaN\n",
       "2005           NaN           NaN             0.0            NaN            NaN\n",
       "2006           NaN           NaN             0.0            NaN            NaN\n",
       "2007           NaN           NaN             0.0            NaN            NaN\n",
       "2008           NaN           NaN             0.0            NaN            NaN\n",
       "2009           NaN           NaN             0.0            NaN            NaN\n",
       "2010           NaN           NaN             0.0            NaN            NaN\n",
       "2011           NaN           NaN             0.0            NaN            NaN\n",
       "2012           NaN           NaN             0.0            NaN            NaN\n",
       "2013           NaN           NaN             0.0            NaN            NaN\n",
       "2014    110.621639       971.870             0.0        971.870        971.870\n",
       "2015    161.070540      1148.218             0.0       1156.948       1139.488\n",
       "2016    195.820824      1183.529             1.0       1202.249       1164.809\n",
       "2017     24.649684      1308.576            -0.8       1303.573       1313.578\n",
       "2018     25.576455      1298.540             0.0       1298.540       1298.540\n",
       "2019           NaN      1412.020             0.0       1412.020       1412.020\n",
       "2020           NaN           NaN             0.0            NaN            NaN"
      ]
     },
     "execution_count": 7,
     "metadata": {},
     "output_type": "execute_result"
    }
   ],
   "source": [
    "test1 = df_ev[[\"gdp2_airn_tj\",\"gdp2_tecn_tj\",\"d_gdp2_airn_tj\" ,\"gdp2_tecn_tj1\",\"gdp2_tecn_tj2\"]]\n",
    "test1"
   ]
  },
  {
   "cell_type": "code",
   "execution_count": 5,
   "metadata": {
    "ExecuteTime": {
     "end_time": "2020-07-21T03:10:00.575680Z",
     "start_time": "2020-07-21T03:10:00.487403Z"
    }
   },
   "outputs": [
    {
     "data": {
      "text/html": [
       "<table class=\"simpletable\">\n",
       "<caption>OLS Regression Results</caption>\n",
       "<tr>\n",
       "  <th>Dep. Variable:</th>      <td>gdp2_airn_tj</td>   <th>  R-squared:         </th> <td>   0.999</td>\n",
       "</tr>\n",
       "<tr>\n",
       "  <th>Model:</th>                   <td>OLS</td>       <th>  Adj. R-squared:    </th> <td>   0.996</td>\n",
       "</tr>\n",
       "<tr>\n",
       "  <th>Method:</th>             <td>Least Squares</td>  <th>  F-statistic:       </th> <td>   343.2</td>\n",
       "</tr>\n",
       "<tr>\n",
       "  <th>Date:</th>             <td>Tue, 21 Jul 2020</td> <th>  Prob (F-statistic):</th>  <td>0.0381</td> \n",
       "</tr>\n",
       "<tr>\n",
       "  <th>Time:</th>                 <td>03:10:00</td>     <th>  Log-Likelihood:    </th> <td> -10.019</td>\n",
       "</tr>\n",
       "<tr>\n",
       "  <th>No. Observations:</th>      <td>     4</td>      <th>  AIC:               </th> <td>   26.04</td>\n",
       "</tr>\n",
       "<tr>\n",
       "  <th>Df Residuals:</th>          <td>     1</td>      <th>  BIC:               </th> <td>   24.20</td>\n",
       "</tr>\n",
       "<tr>\n",
       "  <th>Df Model:</th>              <td>     2</td>      <th>                     </th>     <td> </td>   \n",
       "</tr>\n",
       "<tr>\n",
       "  <th>Covariance Type:</th>      <td>nonrobust</td>    <th>                     </th>     <td> </td>   \n",
       "</tr>\n",
       "</table>\n",
       "<table class=\"simpletable\">\n",
       "<tr>\n",
       "          <td></td>             <th>coef</th>     <th>std err</th>      <th>t</th>      <th>P>|t|</th>  <th>[0.025</th>    <th>0.975]</th>  \n",
       "</tr>\n",
       "<tr>\n",
       "  <th>Intercept</th>         <td>   35.7677</td> <td>    4.809</td> <td>    7.438</td> <td> 0.085</td> <td>  -25.337</td> <td>   96.873</td>\n",
       "</tr>\n",
       "<tr>\n",
       "  <th>gdp2_tecn_tj_diff</th> <td>    0.7276</td> <td>    0.045</td> <td>   16.192</td> <td> 0.039</td> <td>    0.157</td> <td>    1.299</td>\n",
       "</tr>\n",
       "<tr>\n",
       "  <th>d_gdp2_airn_tj</th>    <td>  131.7351</td> <td>    5.150</td> <td>   25.581</td> <td> 0.025</td> <td>   66.302</td> <td>  197.168</td>\n",
       "</tr>\n",
       "</table>\n",
       "<table class=\"simpletable\">\n",
       "<tr>\n",
       "  <th>Omnibus:</th>       <td>   nan</td> <th>  Durbin-Watson:     </th> <td>   2.004</td>\n",
       "</tr>\n",
       "<tr>\n",
       "  <th>Prob(Omnibus):</th> <td>   nan</td> <th>  Jarque-Bera (JB):  </th> <td>   0.650</td>\n",
       "</tr>\n",
       "<tr>\n",
       "  <th>Skew:</th>          <td> 0.018</td> <th>  Prob(JB):          </th> <td>   0.722</td>\n",
       "</tr>\n",
       "<tr>\n",
       "  <th>Kurtosis:</th>      <td> 1.025</td> <th>  Cond. No.          </th> <td>    217.</td>\n",
       "</tr>\n",
       "</table><br/><br/>Warnings:<br/>[1] Standard Errors assume that the covariance matrix of the errors is correctly specified."
      ],
      "text/plain": [
       "<class 'statsmodels.iolib.summary.Summary'>\n",
       "\"\"\"\n",
       "                            OLS Regression Results                            \n",
       "==============================================================================\n",
       "Dep. Variable:           gdp2_airn_tj   R-squared:                       0.999\n",
       "Model:                            OLS   Adj. R-squared:                  0.996\n",
       "Method:                 Least Squares   F-statistic:                     343.2\n",
       "Date:                Tue, 21 Jul 2020   Prob (F-statistic):             0.0381\n",
       "Time:                        03:10:00   Log-Likelihood:                -10.019\n",
       "No. Observations:                   4   AIC:                             26.04\n",
       "Df Residuals:                       1   BIC:                             24.20\n",
       "Df Model:                           2                                         \n",
       "Covariance Type:            nonrobust                                         \n",
       "=====================================================================================\n",
       "                        coef    std err          t      P>|t|      [0.025      0.975]\n",
       "-------------------------------------------------------------------------------------\n",
       "Intercept            35.7677      4.809      7.438      0.085     -25.337      96.873\n",
       "gdp2_tecn_tj_diff     0.7276      0.045     16.192      0.039       0.157       1.299\n",
       "d_gdp2_airn_tj      131.7351      5.150     25.581      0.025      66.302     197.168\n",
       "==============================================================================\n",
       "Omnibus:                          nan   Durbin-Watson:                   2.004\n",
       "Prob(Omnibus):                    nan   Jarque-Bera (JB):                0.650\n",
       "Skew:                           0.018   Prob(JB):                        0.722\n",
       "Kurtosis:                       1.025   Cond. No.                         217.\n",
       "==============================================================================\n",
       "\n",
       "Warnings:\n",
       "[1] Standard Errors assume that the covariance matrix of the errors is correctly specified.\n",
       "\"\"\""
      ]
     },
     "execution_count": 5,
     "metadata": {},
     "output_type": "execute_result"
    }
   ],
   "source": [
    "test1 = df_ev[[\"gdp2_airn_tj\",\"gdp2_tecn_tj\",\"d_gdp2_airn_tj\"]]\n",
    "test1[\"gdp2_tecn_tj_diff\"] = test1[\"gdp2_tecn_tj\"] - test1[\"gdp2_tecn_tj\"].shift(1)\n",
    "test1 = test1[(test1.index>2014) & (test1.index <2019)]\n",
    "#联立改成了 ：test1 = test1[(test1.index>2014) & (test1.index <2018)]\n",
    "results = sm.ols(formula = \" gdp2_airn_tj ~ gdp2_tecn_tj_diff + d_gdp2_airn_tj\",data = test1 ).fit()\n",
    "results.summary()"
   ]
  },
  {
   "cell_type": "markdown",
   "metadata": {},
   "source": [
    "## Eq198 : gdp2_caln_tj 行为方程 ok\n",
    "gdp2_caln_tj  = @coef(1)  + @coef(2) * gdp2_tecn_tj  + @coef(3) * d_gdp2_caln_tj"
   ]
  },
  {
   "cell_type": "code",
   "execution_count": 85,
   "metadata": {
    "ExecuteTime": {
     "end_time": "2020-07-10T06:30:51.894884Z",
     "start_time": "2020-07-10T06:30:51.778649Z"
    }
   },
   "outputs": [
    {
     "data": {
      "text/html": [
       "<table class=\"simpletable\">\n",
       "<caption>OLS Regression Results</caption>\n",
       "<tr>\n",
       "  <th>Dep. Variable:</th>      <td>gdp2_caln_tj</td>   <th>  R-squared:         </th> <td>   0.995</td>\n",
       "</tr>\n",
       "<tr>\n",
       "  <th>Model:</th>                   <td>OLS</td>       <th>  Adj. R-squared:    </th> <td>   0.990</td>\n",
       "</tr>\n",
       "<tr>\n",
       "  <th>Method:</th>             <td>Least Squares</td>  <th>  F-statistic:       </th> <td>   202.3</td>\n",
       "</tr>\n",
       "<tr>\n",
       "  <th>Date:</th>             <td>Mon, 13 Jul 2020</td> <th>  Prob (F-statistic):</th>  <td>0.00492</td>\n",
       "</tr>\n",
       "<tr>\n",
       "  <th>Time:</th>                 <td>09:24:35</td>     <th>  Log-Likelihood:    </th> <td> -13.891</td>\n",
       "</tr>\n",
       "<tr>\n",
       "  <th>No. Observations:</th>      <td>     5</td>      <th>  AIC:               </th> <td>   33.78</td>\n",
       "</tr>\n",
       "<tr>\n",
       "  <th>Df Residuals:</th>          <td>     2</td>      <th>  BIC:               </th> <td>   32.61</td>\n",
       "</tr>\n",
       "<tr>\n",
       "  <th>Df Model:</th>              <td>     2</td>      <th>                     </th>     <td> </td>   \n",
       "</tr>\n",
       "<tr>\n",
       "  <th>Covariance Type:</th>      <td>nonrobust</td>    <th>                     </th>     <td> </td>   \n",
       "</tr>\n",
       "</table>\n",
       "<table class=\"simpletable\">\n",
       "<tr>\n",
       "         <td></td>           <th>coef</th>     <th>std err</th>      <th>t</th>      <th>P>|t|</th>  <th>[0.025</th>    <th>0.975]</th>  \n",
       "</tr>\n",
       "<tr>\n",
       "  <th>Intercept</th>      <td>  301.0202</td> <td>   26.740</td> <td>   11.257</td> <td> 0.008</td> <td>  185.968</td> <td>  416.072</td>\n",
       "</tr>\n",
       "<tr>\n",
       "  <th>gdp2_tecn_tj</th>   <td>    0.2906</td> <td>    0.023</td> <td>   12.916</td> <td> 0.006</td> <td>    0.194</td> <td>    0.387</td>\n",
       "</tr>\n",
       "<tr>\n",
       "  <th>d_gdp2_caln_tj</th> <td>   57.4019</td> <td>    3.649</td> <td>   15.731</td> <td> 0.004</td> <td>   41.702</td> <td>   73.102</td>\n",
       "</tr>\n",
       "</table>\n",
       "<table class=\"simpletable\">\n",
       "<tr>\n",
       "  <th>Omnibus:</th>       <td>   nan</td> <th>  Durbin-Watson:     </th> <td>   2.455</td>\n",
       "</tr>\n",
       "<tr>\n",
       "  <th>Prob(Omnibus):</th> <td>   nan</td> <th>  Jarque-Bera (JB):  </th> <td>   0.497</td>\n",
       "</tr>\n",
       "<tr>\n",
       "  <th>Skew:</th>          <td>-0.012</td> <th>  Prob(JB):          </th> <td>   0.780</td>\n",
       "</tr>\n",
       "<tr>\n",
       "  <th>Kurtosis:</th>      <td> 1.455</td> <th>  Cond. No.          </th> <td>1.15e+04</td>\n",
       "</tr>\n",
       "</table><br/><br/>Warnings:<br/>[1] Standard Errors assume that the covariance matrix of the errors is correctly specified.<br/>[2] The condition number is large, 1.15e+04. This might indicate that there are<br/>strong multicollinearity or other numerical problems."
      ],
      "text/plain": [
       "<class 'statsmodels.iolib.summary.Summary'>\n",
       "\"\"\"\n",
       "                            OLS Regression Results                            \n",
       "==============================================================================\n",
       "Dep. Variable:           gdp2_caln_tj   R-squared:                       0.995\n",
       "Model:                            OLS   Adj. R-squared:                  0.990\n",
       "Method:                 Least Squares   F-statistic:                     202.3\n",
       "Date:                Mon, 13 Jul 2020   Prob (F-statistic):            0.00492\n",
       "Time:                        09:24:35   Log-Likelihood:                -13.891\n",
       "No. Observations:                   5   AIC:                             33.78\n",
       "Df Residuals:                       2   BIC:                             32.61\n",
       "Df Model:                           2                                         \n",
       "Covariance Type:            nonrobust                                         \n",
       "==================================================================================\n",
       "                     coef    std err          t      P>|t|      [0.025      0.975]\n",
       "----------------------------------------------------------------------------------\n",
       "Intercept        301.0202     26.740     11.257      0.008     185.968     416.072\n",
       "gdp2_tecn_tj       0.2906      0.023     12.916      0.006       0.194       0.387\n",
       "d_gdp2_caln_tj    57.4019      3.649     15.731      0.004      41.702      73.102\n",
       "==============================================================================\n",
       "Omnibus:                          nan   Durbin-Watson:                   2.455\n",
       "Prob(Omnibus):                    nan   Jarque-Bera (JB):                0.497\n",
       "Skew:                          -0.012   Prob(JB):                        0.780\n",
       "Kurtosis:                       1.455   Cond. No.                     1.15e+04\n",
       "==============================================================================\n",
       "\n",
       "Warnings:\n",
       "[1] Standard Errors assume that the covariance matrix of the errors is correctly specified.\n",
       "[2] The condition number is large, 1.15e+04. This might indicate that there are\n",
       "strong multicollinearity or other numerical problems.\n",
       "\"\"\""
      ]
     },
     "execution_count": 85,
     "metadata": {},
     "output_type": "execute_result"
    }
   ],
   "source": [
    "test1 = df_ev[[\"gdp2_caln_tj\",\"gdp2_tecn_tj\",\"d_gdp2_caln_tj\"]]\n",
    "test1 = test1[(test1.index>2013) & (test1.index <2019)]\n",
    "results = sm.ols(formula = \" gdp2_caln_tj ~ gdp2_tecn_tj + d_gdp2_caln_tj\",data = test1 ).fit()\n",
    "results.summary()"
   ]
  },
  {
   "cell_type": "markdown",
   "metadata": {},
   "source": [
    "## Eq199 : gdp2_mecn_tj 行为方程  ok\n",
    "gdp2_mecn_tj  = @coef(1)  + @coef(2) * gdp2_tecn_tj  + @coef(3) * d_gdp2_mecn_tj"
   ]
  },
  {
   "cell_type": "code",
   "execution_count": 86,
   "metadata": {
    "ExecuteTime": {
     "end_time": "2020-07-10T06:40:19.176030Z",
     "start_time": "2020-07-10T06:40:19.097090Z"
    }
   },
   "outputs": [
    {
     "data": {
      "text/html": [
       "<table class=\"simpletable\">\n",
       "<caption>OLS Regression Results</caption>\n",
       "<tr>\n",
       "  <th>Dep. Variable:</th>      <td>gdp2_mecn_tj</td>   <th>  R-squared:         </th> <td>   1.000</td>\n",
       "</tr>\n",
       "<tr>\n",
       "  <th>Model:</th>                   <td>OLS</td>       <th>  Adj. R-squared:    </th> <td>   1.000</td>\n",
       "</tr>\n",
       "<tr>\n",
       "  <th>Method:</th>             <td>Least Squares</td>  <th>  F-statistic:       </th> <td>   8301.</td>\n",
       "</tr>\n",
       "<tr>\n",
       "  <th>Date:</th>             <td>Mon, 13 Jul 2020</td> <th>  Prob (F-statistic):</th> <td>0.000120</td>\n",
       "</tr>\n",
       "<tr>\n",
       "  <th>Time:</th>                 <td>09:31:16</td>     <th>  Log-Likelihood:    </th> <td>  2.5050</td>\n",
       "</tr>\n",
       "<tr>\n",
       "  <th>No. Observations:</th>      <td>     5</td>      <th>  AIC:               </th> <td>  0.9900</td>\n",
       "</tr>\n",
       "<tr>\n",
       "  <th>Df Residuals:</th>          <td>     2</td>      <th>  BIC:               </th> <td> -0.1817</td>\n",
       "</tr>\n",
       "<tr>\n",
       "  <th>Df Model:</th>              <td>     2</td>      <th>                     </th>     <td> </td>   \n",
       "</tr>\n",
       "<tr>\n",
       "  <th>Covariance Type:</th>      <td>nonrobust</td>    <th>                     </th>     <td> </td>   \n",
       "</tr>\n",
       "</table>\n",
       "<table class=\"simpletable\">\n",
       "<tr>\n",
       "         <td></td>           <th>coef</th>     <th>std err</th>      <th>t</th>      <th>P>|t|</th>  <th>[0.025</th>    <th>0.975]</th>  \n",
       "</tr>\n",
       "<tr>\n",
       "  <th>Intercept</th>      <td>  -91.2491</td> <td>    1.045</td> <td>  -87.350</td> <td> 0.000</td> <td>  -95.744</td> <td>  -86.754</td>\n",
       "</tr>\n",
       "<tr>\n",
       "  <th>gdp2_tecn_tj</th>   <td>    0.1144</td> <td>    0.001</td> <td>  128.829</td> <td> 0.000</td> <td>    0.111</td> <td>    0.118</td>\n",
       "</tr>\n",
       "<tr>\n",
       "  <th>d_gdp2_mecn_tj</th> <td>    6.4000</td> <td>    0.156</td> <td>   41.052</td> <td> 0.001</td> <td>    5.729</td> <td>    7.071</td>\n",
       "</tr>\n",
       "</table>\n",
       "<table class=\"simpletable\">\n",
       "<tr>\n",
       "  <th>Omnibus:</th>       <td>   nan</td> <th>  Durbin-Watson:     </th> <td>   2.297</td>\n",
       "</tr>\n",
       "<tr>\n",
       "  <th>Prob(Omnibus):</th> <td>   nan</td> <th>  Jarque-Bera (JB):  </th> <td>   0.103</td>\n",
       "</tr>\n",
       "<tr>\n",
       "  <th>Skew:</th>          <td>-0.195</td> <th>  Prob(JB):          </th> <td>   0.950</td>\n",
       "</tr>\n",
       "<tr>\n",
       "  <th>Kurtosis:</th>      <td> 2.414</td> <th>  Cond. No.          </th> <td>1.20e+04</td>\n",
       "</tr>\n",
       "</table><br/><br/>Warnings:<br/>[1] Standard Errors assume that the covariance matrix of the errors is correctly specified.<br/>[2] The condition number is large, 1.2e+04. This might indicate that there are<br/>strong multicollinearity or other numerical problems."
      ],
      "text/plain": [
       "<class 'statsmodels.iolib.summary.Summary'>\n",
       "\"\"\"\n",
       "                            OLS Regression Results                            \n",
       "==============================================================================\n",
       "Dep. Variable:           gdp2_mecn_tj   R-squared:                       1.000\n",
       "Model:                            OLS   Adj. R-squared:                  1.000\n",
       "Method:                 Least Squares   F-statistic:                     8301.\n",
       "Date:                Mon, 13 Jul 2020   Prob (F-statistic):           0.000120\n",
       "Time:                        09:31:16   Log-Likelihood:                 2.5050\n",
       "No. Observations:                   5   AIC:                            0.9900\n",
       "Df Residuals:                       2   BIC:                           -0.1817\n",
       "Df Model:                           2                                         \n",
       "Covariance Type:            nonrobust                                         \n",
       "==================================================================================\n",
       "                     coef    std err          t      P>|t|      [0.025      0.975]\n",
       "----------------------------------------------------------------------------------\n",
       "Intercept        -91.2491      1.045    -87.350      0.000     -95.744     -86.754\n",
       "gdp2_tecn_tj       0.1144      0.001    128.829      0.000       0.111       0.118\n",
       "d_gdp2_mecn_tj     6.4000      0.156     41.052      0.001       5.729       7.071\n",
       "==============================================================================\n",
       "Omnibus:                          nan   Durbin-Watson:                   2.297\n",
       "Prob(Omnibus):                    nan   Jarque-Bera (JB):                0.103\n",
       "Skew:                          -0.195   Prob(JB):                        0.950\n",
       "Kurtosis:                       2.414   Cond. No.                     1.20e+04\n",
       "==============================================================================\n",
       "\n",
       "Warnings:\n",
       "[1] Standard Errors assume that the covariance matrix of the errors is correctly specified.\n",
       "[2] The condition number is large, 1.2e+04. This might indicate that there are\n",
       "strong multicollinearity or other numerical problems.\n",
       "\"\"\""
      ]
     },
     "execution_count": 86,
     "metadata": {},
     "output_type": "execute_result"
    }
   ],
   "source": [
    "test1 = df_ev[[\"gdp2_mecn_tj\",\"gdp2_tecn_tj\",\"d_gdp2_mecn_tj\"]]\n",
    "test1 = test1[(test1.index>2013) & (test1.index <2019)]\n",
    "results = sm.ols(formula = \" gdp2_mecn_tj ~ gdp2_tecn_tj + d_gdp2_mecn_tj\",data = test1 ).fit()\n",
    "results.summary()"
   ]
  },
  {
   "cell_type": "markdown",
   "metadata": {},
   "source": [
    "## Eq200 : gdp2_emin_tj 行为方程 ok 北京+天津\n",
    "gdp2_emin_tj  = @coef(1)  + @coef(2) * gdp_momn_bj  + @coef(3) * d_gdp2_emin_tj"
   ]
  },
  {
   "cell_type": "code",
   "execution_count": 6,
   "metadata": {
    "ExecuteTime": {
     "end_time": "2020-07-10T06:49:33.112592Z",
     "start_time": "2020-07-10T06:49:33.039438Z"
    }
   },
   "outputs": [
    {
     "data": {
      "text/html": [
       "<table class=\"simpletable\">\n",
       "<caption>OLS Regression Results</caption>\n",
       "<tr>\n",
       "  <th>Dep. Variable:</th>      <td>gdp2_emin_tj</td>   <th>  R-squared:         </th> <td>   0.985</td>\n",
       "</tr>\n",
       "<tr>\n",
       "  <th>Model:</th>                   <td>OLS</td>       <th>  Adj. R-squared:    </th> <td>   0.969</td>\n",
       "</tr>\n",
       "<tr>\n",
       "  <th>Method:</th>             <td>Least Squares</td>  <th>  F-statistic:       </th> <td>   64.10</td>\n",
       "</tr>\n",
       "<tr>\n",
       "  <th>Date:</th>             <td>Tue, 14 Jul 2020</td> <th>  Prob (F-statistic):</th>  <td>0.0154</td> \n",
       "</tr>\n",
       "<tr>\n",
       "  <th>Time:</th>                 <td>01:30:35</td>     <th>  Log-Likelihood:    </th> <td> -32.608</td>\n",
       "</tr>\n",
       "<tr>\n",
       "  <th>No. Observations:</th>      <td>     5</td>      <th>  AIC:               </th> <td>   71.22</td>\n",
       "</tr>\n",
       "<tr>\n",
       "  <th>Df Residuals:</th>          <td>     2</td>      <th>  BIC:               </th> <td>   70.04</td>\n",
       "</tr>\n",
       "<tr>\n",
       "  <th>Df Model:</th>              <td>     2</td>      <th>                     </th>     <td> </td>   \n",
       "</tr>\n",
       "<tr>\n",
       "  <th>Covariance Type:</th>      <td>nonrobust</td>    <th>                     </th>     <td> </td>   \n",
       "</tr>\n",
       "</table>\n",
       "<table class=\"simpletable\">\n",
       "<tr>\n",
       "         <td></td>           <th>coef</th>     <th>std err</th>      <th>t</th>      <th>P>|t|</th>  <th>[0.025</th>    <th>0.975]</th>  \n",
       "</tr>\n",
       "<tr>\n",
       "  <th>Intercept</th>      <td>-2.376e+04</td> <td> 2363.257</td> <td>  -10.055</td> <td> 0.010</td> <td>-3.39e+04</td> <td>-1.36e+04</td>\n",
       "</tr>\n",
       "<tr>\n",
       "  <th>gdp_momn_bj</th>    <td>   13.6501</td> <td>    1.222</td> <td>   11.172</td> <td> 0.008</td> <td>    8.393</td> <td>   18.907</td>\n",
       "</tr>\n",
       "<tr>\n",
       "  <th>d_gdp2_emin_tj</th> <td> 2659.7709</td> <td>  318.630</td> <td>    8.348</td> <td> 0.014</td> <td> 1288.818</td> <td> 4030.724</td>\n",
       "</tr>\n",
       "</table>\n",
       "<table class=\"simpletable\">\n",
       "<tr>\n",
       "  <th>Omnibus:</th>       <td>   nan</td> <th>  Durbin-Watson:     </th> <td>   2.473</td>\n",
       "</tr>\n",
       "<tr>\n",
       "  <th>Prob(Omnibus):</th> <td>   nan</td> <th>  Jarque-Bera (JB):  </th> <td>   0.411</td>\n",
       "</tr>\n",
       "<tr>\n",
       "  <th>Skew:</th>          <td>-0.497</td> <th>  Prob(JB):          </th> <td>   0.814</td>\n",
       "</tr>\n",
       "<tr>\n",
       "  <th>Kurtosis:</th>      <td> 2.008</td> <th>  Cond. No.          </th> <td>4.02e+04</td>\n",
       "</tr>\n",
       "</table><br/><br/>Warnings:<br/>[1] Standard Errors assume that the covariance matrix of the errors is correctly specified.<br/>[2] The condition number is large, 4.02e+04. This might indicate that there are<br/>strong multicollinearity or other numerical problems."
      ],
      "text/plain": [
       "<class 'statsmodels.iolib.summary.Summary'>\n",
       "\"\"\"\n",
       "                            OLS Regression Results                            \n",
       "==============================================================================\n",
       "Dep. Variable:           gdp2_emin_tj   R-squared:                       0.985\n",
       "Model:                            OLS   Adj. R-squared:                  0.969\n",
       "Method:                 Least Squares   F-statistic:                     64.10\n",
       "Date:                Tue, 14 Jul 2020   Prob (F-statistic):             0.0154\n",
       "Time:                        01:30:35   Log-Likelihood:                -32.608\n",
       "No. Observations:                   5   AIC:                             71.22\n",
       "Df Residuals:                       2   BIC:                             70.04\n",
       "Df Model:                           2                                         \n",
       "Covariance Type:            nonrobust                                         \n",
       "==================================================================================\n",
       "                     coef    std err          t      P>|t|      [0.025      0.975]\n",
       "----------------------------------------------------------------------------------\n",
       "Intercept      -2.376e+04   2363.257    -10.055      0.010   -3.39e+04   -1.36e+04\n",
       "gdp_momn_bj       13.6501      1.222     11.172      0.008       8.393      18.907\n",
       "d_gdp2_emin_tj  2659.7709    318.630      8.348      0.014    1288.818    4030.724\n",
       "==============================================================================\n",
       "Omnibus:                          nan   Durbin-Watson:                   2.473\n",
       "Prob(Omnibus):                    nan   Jarque-Bera (JB):                0.411\n",
       "Skew:                          -0.497   Prob(JB):                        0.814\n",
       "Kurtosis:                       2.008   Cond. No.                     4.02e+04\n",
       "==============================================================================\n",
       "\n",
       "Warnings:\n",
       "[1] Standard Errors assume that the covariance matrix of the errors is correctly specified.\n",
       "[2] The condition number is large, 4.02e+04. This might indicate that there are\n",
       "strong multicollinearity or other numerical problems.\n",
       "\"\"\""
      ]
     },
     "execution_count": 6,
     "metadata": {},
     "output_type": "execute_result"
    }
   ],
   "source": [
    "test1 = df_ev[[\"gdp2_emin_tj\",\"gdp_momn_bj\",\"d_gdp2_emin_tj\"]]\n",
    "test1 = test1[(test1.index>2013) & (test1.index <2019)]\n",
    "results = sm.ols(formula = \" gdp2_emin_tj ~  gdp_momn_bj + d_gdp2_emin_tj\",data = test1 ).fit()\n",
    "results.summary()"
   ]
  },
  {
   "cell_type": "markdown",
   "metadata": {},
   "source": [
    "## Eq201 : gdp2_tran_tj 行为方程 ok\n",
    "gdp2_tran_tj  = @coef(1)  + @coef(2) * gdp2_tecn_tj  + @coef(3) * d_gdp2_tran_tj\n"
   ]
  },
  {
   "cell_type": "code",
   "execution_count": 7,
   "metadata": {},
   "outputs": [
    {
     "data": {
      "text/html": [
       "<table class=\"simpletable\">\n",
       "<caption>OLS Regression Results</caption>\n",
       "<tr>\n",
       "  <th>Dep. Variable:</th>      <td>gdp2_tran_tj</td>   <th>  R-squared:         </th> <td>   0.995</td>\n",
       "</tr>\n",
       "<tr>\n",
       "  <th>Model:</th>                   <td>OLS</td>       <th>  Adj. R-squared:    </th> <td>   0.989</td>\n",
       "</tr>\n",
       "<tr>\n",
       "  <th>Method:</th>             <td>Least Squares</td>  <th>  F-statistic:       </th> <td>   182.5</td>\n",
       "</tr>\n",
       "<tr>\n",
       "  <th>Date:</th>             <td>Tue, 14 Jul 2020</td> <th>  Prob (F-statistic):</th>  <td>0.00545</td>\n",
       "</tr>\n",
       "<tr>\n",
       "  <th>Time:</th>                 <td>01:32:22</td>     <th>  Log-Likelihood:    </th> <td> -23.366</td>\n",
       "</tr>\n",
       "<tr>\n",
       "  <th>No. Observations:</th>      <td>     5</td>      <th>  AIC:               </th> <td>   52.73</td>\n",
       "</tr>\n",
       "<tr>\n",
       "  <th>Df Residuals:</th>          <td>     2</td>      <th>  BIC:               </th> <td>   51.56</td>\n",
       "</tr>\n",
       "<tr>\n",
       "  <th>Df Model:</th>              <td>     2</td>      <th>                     </th>     <td> </td>   \n",
       "</tr>\n",
       "<tr>\n",
       "  <th>Covariance Type:</th>      <td>nonrobust</td>    <th>                     </th>     <td> </td>   \n",
       "</tr>\n",
       "</table>\n",
       "<table class=\"simpletable\">\n",
       "<tr>\n",
       "         <td></td>           <th>coef</th>     <th>std err</th>      <th>t</th>      <th>P>|t|</th>  <th>[0.025</th>    <th>0.975]</th>  \n",
       "</tr>\n",
       "<tr>\n",
       "  <th>Intercept</th>      <td>-1096.7409</td> <td>  180.830</td> <td>   -6.065</td> <td> 0.026</td> <td>-1874.789</td> <td> -318.692</td>\n",
       "</tr>\n",
       "<tr>\n",
       "  <th>gdp2_tecn_tj</th>   <td>    2.4345</td> <td>    0.152</td> <td>   16.034</td> <td> 0.004</td> <td>    1.781</td> <td>    3.088</td>\n",
       "</tr>\n",
       "<tr>\n",
       "  <th>d_gdp2_tran_tj</th> <td>  172.5515</td> <td>   22.945</td> <td>    7.520</td> <td> 0.017</td> <td>   73.826</td> <td>  271.277</td>\n",
       "</tr>\n",
       "</table>\n",
       "<table class=\"simpletable\">\n",
       "<tr>\n",
       "  <th>Omnibus:</th>       <td>   nan</td> <th>  Durbin-Watson:     </th> <td>   2.313</td>\n",
       "</tr>\n",
       "<tr>\n",
       "  <th>Prob(Omnibus):</th> <td>   nan</td> <th>  Jarque-Bera (JB):  </th> <td>   0.555</td>\n",
       "</tr>\n",
       "<tr>\n",
       "  <th>Skew:</th>          <td>-0.054</td> <th>  Prob(JB):          </th> <td>   0.758</td>\n",
       "</tr>\n",
       "<tr>\n",
       "  <th>Kurtosis:</th>      <td> 1.371</td> <th>  Cond. No.          </th> <td>1.17e+04</td>\n",
       "</tr>\n",
       "</table><br/><br/>Warnings:<br/>[1] Standard Errors assume that the covariance matrix of the errors is correctly specified.<br/>[2] The condition number is large, 1.17e+04. This might indicate that there are<br/>strong multicollinearity or other numerical problems."
      ],
      "text/plain": [
       "<class 'statsmodels.iolib.summary.Summary'>\n",
       "\"\"\"\n",
       "                            OLS Regression Results                            \n",
       "==============================================================================\n",
       "Dep. Variable:           gdp2_tran_tj   R-squared:                       0.995\n",
       "Model:                            OLS   Adj. R-squared:                  0.989\n",
       "Method:                 Least Squares   F-statistic:                     182.5\n",
       "Date:                Tue, 14 Jul 2020   Prob (F-statistic):            0.00545\n",
       "Time:                        01:32:22   Log-Likelihood:                -23.366\n",
       "No. Observations:                   5   AIC:                             52.73\n",
       "Df Residuals:                       2   BIC:                             51.56\n",
       "Df Model:                           2                                         \n",
       "Covariance Type:            nonrobust                                         \n",
       "==================================================================================\n",
       "                     coef    std err          t      P>|t|      [0.025      0.975]\n",
       "----------------------------------------------------------------------------------\n",
       "Intercept      -1096.7409    180.830     -6.065      0.026   -1874.789    -318.692\n",
       "gdp2_tecn_tj       2.4345      0.152     16.034      0.004       1.781       3.088\n",
       "d_gdp2_tran_tj   172.5515     22.945      7.520      0.017      73.826     271.277\n",
       "==============================================================================\n",
       "Omnibus:                          nan   Durbin-Watson:                   2.313\n",
       "Prob(Omnibus):                    nan   Jarque-Bera (JB):                0.555\n",
       "Skew:                          -0.054   Prob(JB):                        0.758\n",
       "Kurtosis:                       1.371   Cond. No.                     1.17e+04\n",
       "==============================================================================\n",
       "\n",
       "Warnings:\n",
       "[1] Standard Errors assume that the covariance matrix of the errors is correctly specified.\n",
       "[2] The condition number is large, 1.17e+04. This might indicate that there are\n",
       "strong multicollinearity or other numerical problems.\n",
       "\"\"\""
      ]
     },
     "execution_count": 7,
     "metadata": {},
     "output_type": "execute_result"
    }
   ],
   "source": [
    "test1 = df_ev[[\"gdp2_tran_tj\",\"gdp2_tecn_tj\",\"d_gdp2_tran_tj\"]]\n",
    "test1 = test1[(test1.index>2013) & (test1.index <2019)]\n",
    "results = sm.ols(formula = \" gdp2_tran_tj ~  gdp2_tecn_tj + d_gdp2_tran_tj\",data = test1 ).fit()\n",
    "results.summary()"
   ]
  },
  {
   "cell_type": "markdown",
   "metadata": {},
   "source": [
    "## Eq202 : gdp3_infwn_tj 行为方程 ok\n",
    "gdp3_infwn_tj  = @coef(1)  + @coef(2) * gdp2_tran_tj  + @coef(3) * d_gdp3_infwn_tj\n"
   ]
  },
  {
   "cell_type": "code",
   "execution_count": 8,
   "metadata": {},
   "outputs": [
    {
     "data": {
      "text/html": [
       "<table class=\"simpletable\">\n",
       "<caption>OLS Regression Results</caption>\n",
       "<tr>\n",
       "  <th>Dep. Variable:</th>      <td>gdp3_infwn_tj</td>  <th>  R-squared:         </th> <td>   0.999</td>\n",
       "</tr>\n",
       "<tr>\n",
       "  <th>Model:</th>                   <td>OLS</td>       <th>  Adj. R-squared:    </th> <td>   0.998</td>\n",
       "</tr>\n",
       "<tr>\n",
       "  <th>Method:</th>             <td>Least Squares</td>  <th>  F-statistic:       </th> <td>   1142.</td>\n",
       "</tr>\n",
       "<tr>\n",
       "  <th>Date:</th>             <td>Tue, 14 Jul 2020</td> <th>  Prob (F-statistic):</th> <td>0.000875</td>\n",
       "</tr>\n",
       "<tr>\n",
       "  <th>Time:</th>                 <td>01:36:57</td>     <th>  Log-Likelihood:    </th> <td> -13.912</td>\n",
       "</tr>\n",
       "<tr>\n",
       "  <th>No. Observations:</th>      <td>     5</td>      <th>  AIC:               </th> <td>   33.82</td>\n",
       "</tr>\n",
       "<tr>\n",
       "  <th>Df Residuals:</th>          <td>     2</td>      <th>  BIC:               </th> <td>   32.65</td>\n",
       "</tr>\n",
       "<tr>\n",
       "  <th>Df Model:</th>              <td>     2</td>      <th>                     </th>     <td> </td>   \n",
       "</tr>\n",
       "<tr>\n",
       "  <th>Covariance Type:</th>      <td>nonrobust</td>    <th>                     </th>     <td> </td>   \n",
       "</tr>\n",
       "</table>\n",
       "<table class=\"simpletable\">\n",
       "<tr>\n",
       "         <td></td>            <th>coef</th>     <th>std err</th>      <th>t</th>      <th>P>|t|</th>  <th>[0.025</th>    <th>0.975]</th>  \n",
       "</tr>\n",
       "<tr>\n",
       "  <th>Intercept</th>       <td>  147.1726</td> <td>   14.751</td> <td>    9.977</td> <td> 0.010</td> <td>   83.703</td> <td>  210.642</td>\n",
       "</tr>\n",
       "<tr>\n",
       "  <th>gdp2_tran_tj</th>    <td>    0.2295</td> <td>    0.008</td> <td>   28.788</td> <td> 0.001</td> <td>    0.195</td> <td>    0.264</td>\n",
       "</tr>\n",
       "<tr>\n",
       "  <th>d_gdp3_infwn_tj</th> <td>  239.1186</td> <td>    7.185</td> <td>   33.278</td> <td> 0.001</td> <td>  208.202</td> <td>  270.035</td>\n",
       "</tr>\n",
       "</table>\n",
       "<table class=\"simpletable\">\n",
       "<tr>\n",
       "  <th>Omnibus:</th>       <td>   nan</td> <th>  Durbin-Watson:     </th> <td>   3.063</td>\n",
       "</tr>\n",
       "<tr>\n",
       "  <th>Prob(Omnibus):</th> <td>   nan</td> <th>  Jarque-Bera (JB):  </th> <td>   0.551</td>\n",
       "</tr>\n",
       "<tr>\n",
       "  <th>Skew:</th>          <td> 0.437</td> <th>  Prob(JB):          </th> <td>   0.759</td>\n",
       "</tr>\n",
       "<tr>\n",
       "  <th>Kurtosis:</th>      <td> 1.628</td> <th>  Cond. No.          </th> <td>9.71e+03</td>\n",
       "</tr>\n",
       "</table><br/><br/>Warnings:<br/>[1] Standard Errors assume that the covariance matrix of the errors is correctly specified.<br/>[2] The condition number is large, 9.71e+03. This might indicate that there are<br/>strong multicollinearity or other numerical problems."
      ],
      "text/plain": [
       "<class 'statsmodels.iolib.summary.Summary'>\n",
       "\"\"\"\n",
       "                            OLS Regression Results                            \n",
       "==============================================================================\n",
       "Dep. Variable:          gdp3_infwn_tj   R-squared:                       0.999\n",
       "Model:                            OLS   Adj. R-squared:                  0.998\n",
       "Method:                 Least Squares   F-statistic:                     1142.\n",
       "Date:                Tue, 14 Jul 2020   Prob (F-statistic):           0.000875\n",
       "Time:                        01:36:57   Log-Likelihood:                -13.912\n",
       "No. Observations:                   5   AIC:                             33.82\n",
       "Df Residuals:                       2   BIC:                             32.65\n",
       "Df Model:                           2                                         \n",
       "Covariance Type:            nonrobust                                         \n",
       "===================================================================================\n",
       "                      coef    std err          t      P>|t|      [0.025      0.975]\n",
       "-----------------------------------------------------------------------------------\n",
       "Intercept         147.1726     14.751      9.977      0.010      83.703     210.642\n",
       "gdp2_tran_tj        0.2295      0.008     28.788      0.001       0.195       0.264\n",
       "d_gdp3_infwn_tj   239.1186      7.185     33.278      0.001     208.202     270.035\n",
       "==============================================================================\n",
       "Omnibus:                          nan   Durbin-Watson:                   3.063\n",
       "Prob(Omnibus):                    nan   Jarque-Bera (JB):                0.551\n",
       "Skew:                           0.437   Prob(JB):                        0.759\n",
       "Kurtosis:                       1.628   Cond. No.                     9.71e+03\n",
       "==============================================================================\n",
       "\n",
       "Warnings:\n",
       "[1] Standard Errors assume that the covariance matrix of the errors is correctly specified.\n",
       "[2] The condition number is large, 9.71e+03. This might indicate that there are\n",
       "strong multicollinearity or other numerical problems.\n",
       "\"\"\""
      ]
     },
     "execution_count": 8,
     "metadata": {},
     "output_type": "execute_result"
    }
   ],
   "source": [
    "test1 = df_ev[[\"gdp3_infwn_tj\",\"gdp2_tran_tj\",\"d_gdp3_infwn_tj\"]]\n",
    "test1 = test1[(test1.index>2013) & (test1.index <2019)]\n",
    "results = sm.ols(formula = \" gdp3_infwn_tj ~  gdp2_tran_tj + d_gdp3_infwn_tj\",data = test1 ).fit()\n",
    "results.summary()"
   ]
  },
  {
   "cell_type": "markdown",
   "metadata": {},
   "source": [
    "## Eq203 : gdp2_hemin_tj 行为方程 ok 北京+天津\n",
    "gdp2_hemin_tj  = @coef(1)  + @coef(2) * d(gdp_momn_bj)  + @coef(3) * d_gdp2_hemin_tj"
   ]
  },
  {
   "cell_type": "code",
   "execution_count": 9,
   "metadata": {},
   "outputs": [
    {
     "data": {
      "text/html": [
       "<table class=\"simpletable\">\n",
       "<caption>OLS Regression Results</caption>\n",
       "<tr>\n",
       "  <th>Dep. Variable:</th>      <td>gdp2_hemin_tj</td>  <th>  R-squared:         </th> <td>   0.996</td>\n",
       "</tr>\n",
       "<tr>\n",
       "  <th>Model:</th>                   <td>OLS</td>       <th>  Adj. R-squared:    </th> <td>   0.992</td>\n",
       "</tr>\n",
       "<tr>\n",
       "  <th>Method:</th>             <td>Least Squares</td>  <th>  F-statistic:       </th> <td>   242.2</td>\n",
       "</tr>\n",
       "<tr>\n",
       "  <th>Date:</th>             <td>Tue, 14 Jul 2020</td> <th>  Prob (F-statistic):</th>  <td>0.00411</td>\n",
       "</tr>\n",
       "<tr>\n",
       "  <th>Time:</th>                 <td>01:39:47</td>     <th>  Log-Likelihood:    </th> <td> -13.445</td>\n",
       "</tr>\n",
       "<tr>\n",
       "  <th>No. Observations:</th>      <td>     5</td>      <th>  AIC:               </th> <td>   32.89</td>\n",
       "</tr>\n",
       "<tr>\n",
       "  <th>Df Residuals:</th>          <td>     2</td>      <th>  BIC:               </th> <td>   31.72</td>\n",
       "</tr>\n",
       "<tr>\n",
       "  <th>Df Model:</th>              <td>     2</td>      <th>                     </th>     <td> </td>   \n",
       "</tr>\n",
       "<tr>\n",
       "  <th>Covariance Type:</th>      <td>nonrobust</td>    <th>                     </th>     <td> </td>   \n",
       "</tr>\n",
       "</table>\n",
       "<table class=\"simpletable\">\n",
       "<tr>\n",
       "          <td></td>            <th>coef</th>     <th>std err</th>      <th>t</th>      <th>P>|t|</th>  <th>[0.025</th>    <th>0.975]</th>  \n",
       "</tr>\n",
       "<tr>\n",
       "  <th>Intercept</th>        <td>  304.7006</td> <td>    3.926</td> <td>   77.616</td> <td> 0.000</td> <td>  287.810</td> <td>  321.592</td>\n",
       "</tr>\n",
       "<tr>\n",
       "  <th>gdp_momn_bj_diff</th> <td>    0.4804</td> <td>    0.031</td> <td>   15.264</td> <td> 0.004</td> <td>    0.345</td> <td>    0.616</td>\n",
       "</tr>\n",
       "<tr>\n",
       "  <th>d_gdp2_hemin_tj</th>  <td>   70.7898</td> <td>    3.669</td> <td>   19.295</td> <td> 0.003</td> <td>   55.004</td> <td>   86.575</td>\n",
       "</tr>\n",
       "</table>\n",
       "<table class=\"simpletable\">\n",
       "<tr>\n",
       "  <th>Omnibus:</th>       <td>   nan</td> <th>  Durbin-Watson:     </th> <td>   0.683</td>\n",
       "</tr>\n",
       "<tr>\n",
       "  <th>Prob(Omnibus):</th> <td>   nan</td> <th>  Jarque-Bera (JB):  </th> <td>   0.524</td>\n",
       "</tr>\n",
       "<tr>\n",
       "  <th>Skew:</th>          <td> 0.749</td> <th>  Prob(JB):          </th> <td>   0.769</td>\n",
       "</tr>\n",
       "<tr>\n",
       "  <th>Kurtosis:</th>      <td> 2.476</td> <th>  Cond. No.          </th> <td>    205.</td>\n",
       "</tr>\n",
       "</table><br/><br/>Warnings:<br/>[1] Standard Errors assume that the covariance matrix of the errors is correctly specified."
      ],
      "text/plain": [
       "<class 'statsmodels.iolib.summary.Summary'>\n",
       "\"\"\"\n",
       "                            OLS Regression Results                            \n",
       "==============================================================================\n",
       "Dep. Variable:          gdp2_hemin_tj   R-squared:                       0.996\n",
       "Model:                            OLS   Adj. R-squared:                  0.992\n",
       "Method:                 Least Squares   F-statistic:                     242.2\n",
       "Date:                Tue, 14 Jul 2020   Prob (F-statistic):            0.00411\n",
       "Time:                        01:39:47   Log-Likelihood:                -13.445\n",
       "No. Observations:                   5   AIC:                             32.89\n",
       "Df Residuals:                       2   BIC:                             31.72\n",
       "Df Model:                           2                                         \n",
       "Covariance Type:            nonrobust                                         \n",
       "====================================================================================\n",
       "                       coef    std err          t      P>|t|      [0.025      0.975]\n",
       "------------------------------------------------------------------------------------\n",
       "Intercept          304.7006      3.926     77.616      0.000     287.810     321.592\n",
       "gdp_momn_bj_diff     0.4804      0.031     15.264      0.004       0.345       0.616\n",
       "d_gdp2_hemin_tj     70.7898      3.669     19.295      0.003      55.004      86.575\n",
       "==============================================================================\n",
       "Omnibus:                          nan   Durbin-Watson:                   0.683\n",
       "Prob(Omnibus):                    nan   Jarque-Bera (JB):                0.524\n",
       "Skew:                           0.749   Prob(JB):                        0.769\n",
       "Kurtosis:                       2.476   Cond. No.                         205.\n",
       "==============================================================================\n",
       "\n",
       "Warnings:\n",
       "[1] Standard Errors assume that the covariance matrix of the errors is correctly specified.\n",
       "\"\"\""
      ]
     },
     "execution_count": 9,
     "metadata": {},
     "output_type": "execute_result"
    }
   ],
   "source": [
    "test1 = df_ev[[\"gdp2_hemin_tj\",\"gdp_momn_bj\",\"d_gdp2_hemin_tj\"]]\n",
    "test1[\"gdp_momn_bj_diff\"] = test1[\"gdp_momn_bj\"] - test1[\"gdp_momn_bj\"].shift(1)\n",
    "test1 = test1[(test1.index>2013) & (test1.index <2019)]\n",
    "results = sm.ols(formula = \" gdp2_hemin_tj ~  gdp_momn_bj_diff + d_gdp2_hemin_tj\",data = test1 ).fit()\n",
    "results.summary()"
   ]
  },
  {
   "cell_type": "markdown",
   "metadata": {},
   "source": [
    "## Eq204 : gdp2_nmin_tj 行为方程 ok\n",
    "gdp2_nmin_tj  = @coef(1)  + @coef(2) * gdp2_tran_tj  + @coef(3) * d_gdp2_nmin_tj\n"
   ]
  },
  {
   "cell_type": "code",
   "execution_count": 10,
   "metadata": {},
   "outputs": [
    {
     "data": {
      "text/html": [
       "<table class=\"simpletable\">\n",
       "<caption>OLS Regression Results</caption>\n",
       "<tr>\n",
       "  <th>Dep. Variable:</th>      <td>gdp2_nmin_tj</td>   <th>  R-squared:         </th> <td>   0.996</td>\n",
       "</tr>\n",
       "<tr>\n",
       "  <th>Model:</th>                   <td>OLS</td>       <th>  Adj. R-squared:    </th> <td>   0.992</td>\n",
       "</tr>\n",
       "<tr>\n",
       "  <th>Method:</th>             <td>Least Squares</td>  <th>  F-statistic:       </th> <td>   235.3</td>\n",
       "</tr>\n",
       "<tr>\n",
       "  <th>Date:</th>             <td>Tue, 14 Jul 2020</td> <th>  Prob (F-statistic):</th>  <td>0.00423</td>\n",
       "</tr>\n",
       "<tr>\n",
       "  <th>Time:</th>                 <td>01:41:31</td>     <th>  Log-Likelihood:    </th> <td> -17.685</td>\n",
       "</tr>\n",
       "<tr>\n",
       "  <th>No. Observations:</th>      <td>     5</td>      <th>  AIC:               </th> <td>   41.37</td>\n",
       "</tr>\n",
       "<tr>\n",
       "  <th>Df Residuals:</th>          <td>     2</td>      <th>  BIC:               </th> <td>   40.20</td>\n",
       "</tr>\n",
       "<tr>\n",
       "  <th>Df Model:</th>              <td>     2</td>      <th>                     </th>     <td> </td>   \n",
       "</tr>\n",
       "<tr>\n",
       "  <th>Covariance Type:</th>      <td>nonrobust</td>    <th>                     </th>     <td> </td>   \n",
       "</tr>\n",
       "</table>\n",
       "<table class=\"simpletable\">\n",
       "<tr>\n",
       "         <td></td>           <th>coef</th>     <th>std err</th>      <th>t</th>      <th>P>|t|</th>  <th>[0.025</th>    <th>0.975]</th>  \n",
       "</tr>\n",
       "<tr>\n",
       "  <th>Intercept</th>      <td> -183.4866</td> <td>   30.144</td> <td>   -6.087</td> <td> 0.026</td> <td> -313.186</td> <td>  -53.787</td>\n",
       "</tr>\n",
       "<tr>\n",
       "  <th>gdp2_tran_tj</th>   <td>    0.2700</td> <td>    0.017</td> <td>   16.109</td> <td> 0.004</td> <td>    0.198</td> <td>    0.342</td>\n",
       "</tr>\n",
       "<tr>\n",
       "  <th>d_gdp2_nmin_tj</th> <td>  104.0133</td> <td>    6.982</td> <td>   14.897</td> <td> 0.004</td> <td>   73.972</td> <td>  134.055</td>\n",
       "</tr>\n",
       "</table>\n",
       "<table class=\"simpletable\">\n",
       "<tr>\n",
       "  <th>Omnibus:</th>       <td>   nan</td> <th>  Durbin-Watson:     </th> <td>   2.601</td>\n",
       "</tr>\n",
       "<tr>\n",
       "  <th>Prob(Omnibus):</th> <td>   nan</td> <th>  Jarque-Bera (JB):  </th> <td>   0.368</td>\n",
       "</tr>\n",
       "<tr>\n",
       "  <th>Skew:</th>          <td> 0.263</td> <th>  Prob(JB):          </th> <td>   0.832</td>\n",
       "</tr>\n",
       "<tr>\n",
       "  <th>Kurtosis:</th>      <td> 1.778</td> <th>  Cond. No.          </th> <td>9.22e+03</td>\n",
       "</tr>\n",
       "</table><br/><br/>Warnings:<br/>[1] Standard Errors assume that the covariance matrix of the errors is correctly specified.<br/>[2] The condition number is large, 9.22e+03. This might indicate that there are<br/>strong multicollinearity or other numerical problems."
      ],
      "text/plain": [
       "<class 'statsmodels.iolib.summary.Summary'>\n",
       "\"\"\"\n",
       "                            OLS Regression Results                            \n",
       "==============================================================================\n",
       "Dep. Variable:           gdp2_nmin_tj   R-squared:                       0.996\n",
       "Model:                            OLS   Adj. R-squared:                  0.992\n",
       "Method:                 Least Squares   F-statistic:                     235.3\n",
       "Date:                Tue, 14 Jul 2020   Prob (F-statistic):            0.00423\n",
       "Time:                        01:41:31   Log-Likelihood:                -17.685\n",
       "No. Observations:                   5   AIC:                             41.37\n",
       "Df Residuals:                       2   BIC:                             40.20\n",
       "Df Model:                           2                                         \n",
       "Covariance Type:            nonrobust                                         \n",
       "==================================================================================\n",
       "                     coef    std err          t      P>|t|      [0.025      0.975]\n",
       "----------------------------------------------------------------------------------\n",
       "Intercept       -183.4866     30.144     -6.087      0.026    -313.186     -53.787\n",
       "gdp2_tran_tj       0.2700      0.017     16.109      0.004       0.198       0.342\n",
       "d_gdp2_nmin_tj   104.0133      6.982     14.897      0.004      73.972     134.055\n",
       "==============================================================================\n",
       "Omnibus:                          nan   Durbin-Watson:                   2.601\n",
       "Prob(Omnibus):                    nan   Jarque-Bera (JB):                0.368\n",
       "Skew:                           0.263   Prob(JB):                        0.832\n",
       "Kurtosis:                       1.778   Cond. No.                     9.22e+03\n",
       "==============================================================================\n",
       "\n",
       "Warnings:\n",
       "[1] Standard Errors assume that the covariance matrix of the errors is correctly specified.\n",
       "[2] The condition number is large, 9.22e+03. This might indicate that there are\n",
       "strong multicollinearity or other numerical problems.\n",
       "\"\"\""
      ]
     },
     "execution_count": 10,
     "metadata": {},
     "output_type": "execute_result"
    }
   ],
   "source": [
    "test1 = df_ev[[\"gdp2_nmin_tj\",\"gdp2_tran_tj\",\"d_gdp2_nmin_tj\"]]\n",
    "test1 = test1[(test1.index>2013) & (test1.index <2019)]\n",
    "results = sm.ols(formula = \" gdp2_nmin_tj ~  gdp2_tran_tj + d_gdp2_nmin_tj\",data = test1 ).fit()\n",
    "results.summary()"
   ]
  },
  {
   "cell_type": "markdown",
   "metadata": {},
   "source": [
    "## Eq205 : gdp2_birn_tj行为方程 ok\n",
    "gdp2_birn_tj  = @coef(1)  + @coef(2) * gdp2_tran_tj  + @coef(3) * d_gdp2_birn_tj"
   ]
  },
  {
   "cell_type": "code",
   "execution_count": 11,
   "metadata": {},
   "outputs": [
    {
     "data": {
      "text/html": [
       "<table class=\"simpletable\">\n",
       "<caption>OLS Regression Results</caption>\n",
       "<tr>\n",
       "  <th>Dep. Variable:</th>      <td>gdp2_birn_tj</td>   <th>  R-squared:         </th> <td>   0.998</td>\n",
       "</tr>\n",
       "<tr>\n",
       "  <th>Model:</th>                   <td>OLS</td>       <th>  Adj. R-squared:    </th> <td>   0.996</td>\n",
       "</tr>\n",
       "<tr>\n",
       "  <th>Method:</th>             <td>Least Squares</td>  <th>  F-statistic:       </th> <td>   563.1</td>\n",
       "</tr>\n",
       "<tr>\n",
       "  <th>Date:</th>             <td>Tue, 14 Jul 2020</td> <th>  Prob (F-statistic):</th>  <td>0.00177</td>\n",
       "</tr>\n",
       "<tr>\n",
       "  <th>Time:</th>                 <td>01:42:36</td>     <th>  Log-Likelihood:    </th> <td> -16.063</td>\n",
       "</tr>\n",
       "<tr>\n",
       "  <th>No. Observations:</th>      <td>     5</td>      <th>  AIC:               </th> <td>   38.13</td>\n",
       "</tr>\n",
       "<tr>\n",
       "  <th>Df Residuals:</th>          <td>     2</td>      <th>  BIC:               </th> <td>   36.95</td>\n",
       "</tr>\n",
       "<tr>\n",
       "  <th>Df Model:</th>              <td>     2</td>      <th>                     </th>     <td> </td>   \n",
       "</tr>\n",
       "<tr>\n",
       "  <th>Covariance Type:</th>      <td>nonrobust</td>    <th>                     </th>     <td> </td>   \n",
       "</tr>\n",
       "</table>\n",
       "<table class=\"simpletable\">\n",
       "<tr>\n",
       "         <td></td>           <th>coef</th>     <th>std err</th>      <th>t</th>      <th>P>|t|</th>  <th>[0.025</th>    <th>0.975]</th>  \n",
       "</tr>\n",
       "<tr>\n",
       "  <th>Intercept</th>      <td> -312.3709</td> <td>   22.265</td> <td>  -14.030</td> <td> 0.005</td> <td> -408.168</td> <td> -216.574</td>\n",
       "</tr>\n",
       "<tr>\n",
       "  <th>gdp2_tran_tj</th>   <td>    0.3732</td> <td>    0.012</td> <td>   30.122</td> <td> 0.001</td> <td>    0.320</td> <td>    0.427</td>\n",
       "</tr>\n",
       "<tr>\n",
       "  <th>d_gdp2_birn_tj</th> <td>   55.9863</td> <td>    6.874</td> <td>    8.145</td> <td> 0.015</td> <td>   26.411</td> <td>   85.562</td>\n",
       "</tr>\n",
       "</table>\n",
       "<table class=\"simpletable\">\n",
       "<tr>\n",
       "  <th>Omnibus:</th>       <td>   nan</td> <th>  Durbin-Watson:     </th> <td>   1.548</td>\n",
       "</tr>\n",
       "<tr>\n",
       "  <th>Prob(Omnibus):</th> <td>   nan</td> <th>  Jarque-Bera (JB):  </th> <td>   0.629</td>\n",
       "</tr>\n",
       "<tr>\n",
       "  <th>Skew:</th>          <td> 0.119</td> <th>  Prob(JB):          </th> <td>   0.730</td>\n",
       "</tr>\n",
       "<tr>\n",
       "  <th>Kurtosis:</th>      <td> 1.279</td> <th>  Cond. No.          </th> <td>9.44e+03</td>\n",
       "</tr>\n",
       "</table><br/><br/>Warnings:<br/>[1] Standard Errors assume that the covariance matrix of the errors is correctly specified.<br/>[2] The condition number is large, 9.44e+03. This might indicate that there are<br/>strong multicollinearity or other numerical problems."
      ],
      "text/plain": [
       "<class 'statsmodels.iolib.summary.Summary'>\n",
       "\"\"\"\n",
       "                            OLS Regression Results                            \n",
       "==============================================================================\n",
       "Dep. Variable:           gdp2_birn_tj   R-squared:                       0.998\n",
       "Model:                            OLS   Adj. R-squared:                  0.996\n",
       "Method:                 Least Squares   F-statistic:                     563.1\n",
       "Date:                Tue, 14 Jul 2020   Prob (F-statistic):            0.00177\n",
       "Time:                        01:42:36   Log-Likelihood:                -16.063\n",
       "No. Observations:                   5   AIC:                             38.13\n",
       "Df Residuals:                       2   BIC:                             36.95\n",
       "Df Model:                           2                                         \n",
       "Covariance Type:            nonrobust                                         \n",
       "==================================================================================\n",
       "                     coef    std err          t      P>|t|      [0.025      0.975]\n",
       "----------------------------------------------------------------------------------\n",
       "Intercept       -312.3709     22.265    -14.030      0.005    -408.168    -216.574\n",
       "gdp2_tran_tj       0.3732      0.012     30.122      0.001       0.320       0.427\n",
       "d_gdp2_birn_tj    55.9863      6.874      8.145      0.015      26.411      85.562\n",
       "==============================================================================\n",
       "Omnibus:                          nan   Durbin-Watson:                   1.548\n",
       "Prob(Omnibus):                    nan   Jarque-Bera (JB):                0.629\n",
       "Skew:                           0.119   Prob(JB):                        0.730\n",
       "Kurtosis:                       1.279   Cond. No.                     9.44e+03\n",
       "==============================================================================\n",
       "\n",
       "Warnings:\n",
       "[1] Standard Errors assume that the covariance matrix of the errors is correctly specified.\n",
       "[2] The condition number is large, 9.44e+03. This might indicate that there are\n",
       "strong multicollinearity or other numerical problems.\n",
       "\"\"\""
      ]
     },
     "execution_count": 11,
     "metadata": {},
     "output_type": "execute_result"
    }
   ],
   "source": [
    "test1 = df_ev[[\"gdp2_birn_tj\",\"gdp2_tran_tj\",\"d_gdp2_birn_tj\"]]\n",
    "test1 = test1[(test1.index>2013) & (test1.index <2019)]\n",
    "results = sm.ols(formula = \" gdp2_birn_tj ~  gdp2_tran_tj + d_gdp2_birn_tj\",data = test1 ).fit()\n",
    "results.summary()"
   ]
  },
  {
   "cell_type": "markdown",
   "metadata": {},
   "source": [
    "## Eq206 : gdp2_necin_tj 行为方程 ok\n",
    "log(gdp2_necin_tj)  = @coef(1)  + @coef(2) * log(gdp2_hemin_tj)  + @coef(3) * d_gdp2_necin_tj\n"
   ]
  },
  {
   "cell_type": "code",
   "execution_count": 12,
   "metadata": {},
   "outputs": [
    {
     "data": {
      "text/html": [
       "<table class=\"simpletable\">\n",
       "<caption>OLS Regression Results</caption>\n",
       "<tr>\n",
       "  <th>Dep. Variable:</th>    <td>np.log(gdp2_necin_tj)</td> <th>  R-squared:         </th> <td>   0.992</td>\n",
       "</tr>\n",
       "<tr>\n",
       "  <th>Model:</th>                     <td>OLS</td>          <th>  Adj. R-squared:    </th> <td>   0.984</td>\n",
       "</tr>\n",
       "<tr>\n",
       "  <th>Method:</th>               <td>Least Squares</td>     <th>  F-statistic:       </th> <td>   124.5</td>\n",
       "</tr>\n",
       "<tr>\n",
       "  <th>Date:</th>               <td>Tue, 14 Jul 2020</td>    <th>  Prob (F-statistic):</th>  <td>0.00797</td>\n",
       "</tr>\n",
       "<tr>\n",
       "  <th>Time:</th>                   <td>01:44:25</td>        <th>  Log-Likelihood:    </th> <td>  5.9772</td>\n",
       "</tr>\n",
       "<tr>\n",
       "  <th>No. Observations:</th>        <td>     5</td>         <th>  AIC:               </th> <td>  -5.954</td>\n",
       "</tr>\n",
       "<tr>\n",
       "  <th>Df Residuals:</th>            <td>     2</td>         <th>  BIC:               </th> <td>  -7.126</td>\n",
       "</tr>\n",
       "<tr>\n",
       "  <th>Df Model:</th>                <td>     2</td>         <th>                     </th>     <td> </td>   \n",
       "</tr>\n",
       "<tr>\n",
       "  <th>Covariance Type:</th>        <td>nonrobust</td>       <th>                     </th>     <td> </td>   \n",
       "</tr>\n",
       "</table>\n",
       "<table class=\"simpletable\">\n",
       "<tr>\n",
       "            <td></td>               <th>coef</th>     <th>std err</th>      <th>t</th>      <th>P>|t|</th>  <th>[0.025</th>    <th>0.975]</th>  \n",
       "</tr>\n",
       "<tr>\n",
       "  <th>Intercept</th>             <td>  -16.0022</td> <td>    1.905</td> <td>   -8.401</td> <td> 0.014</td> <td>  -24.197</td> <td>   -7.807</td>\n",
       "</tr>\n",
       "<tr>\n",
       "  <th>np.log(gdp2_hemin_tj)</th> <td>    3.2727</td> <td>    0.327</td> <td>   10.016</td> <td> 0.010</td> <td>    1.867</td> <td>    4.679</td>\n",
       "</tr>\n",
       "<tr>\n",
       "  <th>d_gdp2_necin_tj</th>       <td>    0.5964</td> <td>    0.051</td> <td>   11.698</td> <td> 0.007</td> <td>    0.377</td> <td>    0.816</td>\n",
       "</tr>\n",
       "</table>\n",
       "<table class=\"simpletable\">\n",
       "<tr>\n",
       "  <th>Omnibus:</th>       <td>   nan</td> <th>  Durbin-Watson:     </th> <td>   3.213</td>\n",
       "</tr>\n",
       "<tr>\n",
       "  <th>Prob(Omnibus):</th> <td>   nan</td> <th>  Jarque-Bera (JB):  </th> <td>   0.270</td>\n",
       "</tr>\n",
       "<tr>\n",
       "  <th>Skew:</th>          <td>-0.121</td> <th>  Prob(JB):          </th> <td>   0.874</td>\n",
       "</tr>\n",
       "<tr>\n",
       "  <th>Kurtosis:</th>      <td> 1.887</td> <th>  Cond. No.          </th> <td>    221.</td>\n",
       "</tr>\n",
       "</table><br/><br/>Warnings:<br/>[1] Standard Errors assume that the covariance matrix of the errors is correctly specified."
      ],
      "text/plain": [
       "<class 'statsmodels.iolib.summary.Summary'>\n",
       "\"\"\"\n",
       "                              OLS Regression Results                             \n",
       "=================================================================================\n",
       "Dep. Variable:     np.log(gdp2_necin_tj)   R-squared:                       0.992\n",
       "Model:                               OLS   Adj. R-squared:                  0.984\n",
       "Method:                    Least Squares   F-statistic:                     124.5\n",
       "Date:                   Tue, 14 Jul 2020   Prob (F-statistic):            0.00797\n",
       "Time:                           01:44:25   Log-Likelihood:                 5.9772\n",
       "No. Observations:                      5   AIC:                            -5.954\n",
       "Df Residuals:                          2   BIC:                            -7.126\n",
       "Df Model:                              2                                         \n",
       "Covariance Type:               nonrobust                                         \n",
       "=========================================================================================\n",
       "                            coef    std err          t      P>|t|      [0.025      0.975]\n",
       "-----------------------------------------------------------------------------------------\n",
       "Intercept               -16.0022      1.905     -8.401      0.014     -24.197      -7.807\n",
       "np.log(gdp2_hemin_tj)     3.2727      0.327     10.016      0.010       1.867       4.679\n",
       "d_gdp2_necin_tj           0.5964      0.051     11.698      0.007       0.377       0.816\n",
       "==============================================================================\n",
       "Omnibus:                          nan   Durbin-Watson:                   3.213\n",
       "Prob(Omnibus):                    nan   Jarque-Bera (JB):                0.270\n",
       "Skew:                          -0.121   Prob(JB):                        0.874\n",
       "Kurtosis:                       1.887   Cond. No.                         221.\n",
       "==============================================================================\n",
       "\n",
       "Warnings:\n",
       "[1] Standard Errors assume that the covariance matrix of the errors is correctly specified.\n",
       "\"\"\""
      ]
     },
     "execution_count": 12,
     "metadata": {},
     "output_type": "execute_result"
    }
   ],
   "source": [
    "test1 = df_ev[[\"gdp2_necin_tj\",\"gdp2_hemin_tj\",\"d_gdp2_necin_tj\"]]\n",
    "test1 = test1[(test1.index>2013) & (test1.index <2019)]\n",
    "results = sm.ols(formula = \" np.log(gdp2_necin_tj) ~  np.log(gdp2_hemin_tj) + d_gdp2_necin_tj\",data = test1 ).fit()\n",
    "results.summary()"
   ]
  },
  {
   "cell_type": "markdown",
   "metadata": {},
   "source": [
    "## Eq207 : gdp2_nein_tj 行为方程 ok\n",
    "gdp2_nein_tj  = @coef(1)  + @coef(2) * gdp2_tran_tj\n"
   ]
  },
  {
   "cell_type": "code",
   "execution_count": 13,
   "metadata": {},
   "outputs": [
    {
     "data": {
      "text/html": [
       "<table class=\"simpletable\">\n",
       "<caption>OLS Regression Results</caption>\n",
       "<tr>\n",
       "  <th>Dep. Variable:</th>      <td>gdp2_nein_tj</td>   <th>  R-squared:         </th> <td>   0.992</td>\n",
       "</tr>\n",
       "<tr>\n",
       "  <th>Model:</th>                   <td>OLS</td>       <th>  Adj. R-squared:    </th> <td>   0.990</td>\n",
       "</tr>\n",
       "<tr>\n",
       "  <th>Method:</th>             <td>Least Squares</td>  <th>  F-statistic:       </th> <td>   394.7</td>\n",
       "</tr>\n",
       "<tr>\n",
       "  <th>Date:</th>             <td>Tue, 14 Jul 2020</td> <th>  Prob (F-statistic):</th> <td>0.000279</td>\n",
       "</tr>\n",
       "<tr>\n",
       "  <th>Time:</th>                 <td>01:45:51</td>     <th>  Log-Likelihood:    </th> <td> -14.060</td>\n",
       "</tr>\n",
       "<tr>\n",
       "  <th>No. Observations:</th>      <td>     5</td>      <th>  AIC:               </th> <td>   32.12</td>\n",
       "</tr>\n",
       "<tr>\n",
       "  <th>Df Residuals:</th>          <td>     3</td>      <th>  BIC:               </th> <td>   31.34</td>\n",
       "</tr>\n",
       "<tr>\n",
       "  <th>Df Model:</th>              <td>     1</td>      <th>                     </th>     <td> </td>   \n",
       "</tr>\n",
       "<tr>\n",
       "  <th>Covariance Type:</th>      <td>nonrobust</td>    <th>                     </th>     <td> </td>   \n",
       "</tr>\n",
       "</table>\n",
       "<table class=\"simpletable\">\n",
       "<tr>\n",
       "        <td></td>          <th>coef</th>     <th>std err</th>      <th>t</th>      <th>P>|t|</th>  <th>[0.025</th>    <th>0.975]</th>  \n",
       "</tr>\n",
       "<tr>\n",
       "  <th>Intercept</th>    <td> -137.6475</td> <td>   11.917</td> <td>  -11.551</td> <td> 0.001</td> <td> -175.572</td> <td>  -99.723</td>\n",
       "</tr>\n",
       "<tr>\n",
       "  <th>gdp2_tran_tj</th> <td>    0.1316</td> <td>    0.007</td> <td>   19.866</td> <td> 0.000</td> <td>    0.111</td> <td>    0.153</td>\n",
       "</tr>\n",
       "</table>\n",
       "<table class=\"simpletable\">\n",
       "<tr>\n",
       "  <th>Omnibus:</th>       <td>   nan</td> <th>  Durbin-Watson:     </th> <td>   1.700</td>\n",
       "</tr>\n",
       "<tr>\n",
       "  <th>Prob(Omnibus):</th> <td>   nan</td> <th>  Jarque-Bera (JB):  </th> <td>   0.573</td>\n",
       "</tr>\n",
       "<tr>\n",
       "  <th>Skew:</th>          <td> 0.446</td> <th>  Prob(JB):          </th> <td>   0.751</td>\n",
       "</tr>\n",
       "<tr>\n",
       "  <th>Kurtosis:</th>      <td> 1.602</td> <th>  Cond. No.          </th> <td>9.22e+03</td>\n",
       "</tr>\n",
       "</table><br/><br/>Warnings:<br/>[1] Standard Errors assume that the covariance matrix of the errors is correctly specified.<br/>[2] The condition number is large, 9.22e+03. This might indicate that there are<br/>strong multicollinearity or other numerical problems."
      ],
      "text/plain": [
       "<class 'statsmodels.iolib.summary.Summary'>\n",
       "\"\"\"\n",
       "                            OLS Regression Results                            \n",
       "==============================================================================\n",
       "Dep. Variable:           gdp2_nein_tj   R-squared:                       0.992\n",
       "Model:                            OLS   Adj. R-squared:                  0.990\n",
       "Method:                 Least Squares   F-statistic:                     394.7\n",
       "Date:                Tue, 14 Jul 2020   Prob (F-statistic):           0.000279\n",
       "Time:                        01:45:51   Log-Likelihood:                -14.060\n",
       "No. Observations:                   5   AIC:                             32.12\n",
       "Df Residuals:                       3   BIC:                             31.34\n",
       "Df Model:                           1                                         \n",
       "Covariance Type:            nonrobust                                         \n",
       "================================================================================\n",
       "                   coef    std err          t      P>|t|      [0.025      0.975]\n",
       "--------------------------------------------------------------------------------\n",
       "Intercept     -137.6475     11.917    -11.551      0.001    -175.572     -99.723\n",
       "gdp2_tran_tj     0.1316      0.007     19.866      0.000       0.111       0.153\n",
       "==============================================================================\n",
       "Omnibus:                          nan   Durbin-Watson:                   1.700\n",
       "Prob(Omnibus):                    nan   Jarque-Bera (JB):                0.573\n",
       "Skew:                           0.446   Prob(JB):                        0.751\n",
       "Kurtosis:                       1.602   Cond. No.                     9.22e+03\n",
       "==============================================================================\n",
       "\n",
       "Warnings:\n",
       "[1] Standard Errors assume that the covariance matrix of the errors is correctly specified.\n",
       "[2] The condition number is large, 9.22e+03. This might indicate that there are\n",
       "strong multicollinearity or other numerical problems.\n",
       "\"\"\""
      ]
     },
     "execution_count": 13,
     "metadata": {},
     "output_type": "execute_result"
    }
   ],
   "source": [
    "test1 = df_ev[[\"gdp2_nein_tj\",\"gdp2_tran_tj\"]]\n",
    "test1 = test1[(test1.index>2013) & (test1.index <2019)]\n",
    "results = sm.ols(formula = \" gdp2_nein_tj ~  gdp2_tran_tj\",data = test1 ).fit()\n",
    "results.summary()"
   ]
  },
  {
   "cell_type": "markdown",
   "metadata": {},
   "source": [
    "## Eq208 : gdp2_epin_tj 行为方程 ok\n",
    "gdp2_epin_tj  = @coef(1)  + @coef(2) * gdp2_hemin_tj  + @coef(3) * d_gdp2_epin_tj"
   ]
  },
  {
   "cell_type": "code",
   "execution_count": 14,
   "metadata": {},
   "outputs": [
    {
     "data": {
      "text/html": [
       "<table class=\"simpletable\">\n",
       "<caption>OLS Regression Results</caption>\n",
       "<tr>\n",
       "  <th>Dep. Variable:</th>      <td>gdp2_epin_tj</td>   <th>  R-squared:         </th> <td>   0.997</td>\n",
       "</tr>\n",
       "<tr>\n",
       "  <th>Model:</th>                   <td>OLS</td>       <th>  Adj. R-squared:    </th> <td>   0.994</td>\n",
       "</tr>\n",
       "<tr>\n",
       "  <th>Method:</th>             <td>Least Squares</td>  <th>  F-statistic:       </th> <td>   321.8</td>\n",
       "</tr>\n",
       "<tr>\n",
       "  <th>Date:</th>             <td>Tue, 14 Jul 2020</td> <th>  Prob (F-statistic):</th>  <td>0.00310</td>\n",
       "</tr>\n",
       "<tr>\n",
       "  <th>Time:</th>                 <td>01:47:25</td>     <th>  Log-Likelihood:    </th> <td> -6.2136</td>\n",
       "</tr>\n",
       "<tr>\n",
       "  <th>No. Observations:</th>      <td>     5</td>      <th>  AIC:               </th> <td>   18.43</td>\n",
       "</tr>\n",
       "<tr>\n",
       "  <th>Df Residuals:</th>          <td>     2</td>      <th>  BIC:               </th> <td>   17.26</td>\n",
       "</tr>\n",
       "<tr>\n",
       "  <th>Df Model:</th>              <td>     2</td>      <th>                     </th>     <td> </td>   \n",
       "</tr>\n",
       "<tr>\n",
       "  <th>Covariance Type:</th>      <td>nonrobust</td>    <th>                     </th>     <td> </td>   \n",
       "</tr>\n",
       "</table>\n",
       "<table class=\"simpletable\">\n",
       "<tr>\n",
       "         <td></td>           <th>coef</th>     <th>std err</th>      <th>t</th>      <th>P>|t|</th>  <th>[0.025</th>    <th>0.975]</th>  \n",
       "</tr>\n",
       "<tr>\n",
       "  <th>Intercept</th>      <td>  154.7850</td> <td>    3.714</td> <td>   41.676</td> <td> 0.001</td> <td>  138.805</td> <td>  170.765</td>\n",
       "</tr>\n",
       "<tr>\n",
       "  <th>gdp2_hemin_tj</th>  <td>    0.0548</td> <td>    0.011</td> <td>    5.135</td> <td> 0.036</td> <td>    0.009</td> <td>    0.101</td>\n",
       "</tr>\n",
       "<tr>\n",
       "  <th>d_gdp2_epin_tj</th> <td>   19.9541</td> <td>    0.802</td> <td>   24.879</td> <td> 0.002</td> <td>   16.503</td> <td>   23.405</td>\n",
       "</tr>\n",
       "</table>\n",
       "<table class=\"simpletable\">\n",
       "<tr>\n",
       "  <th>Omnibus:</th>       <td>   nan</td> <th>  Durbin-Watson:     </th> <td>   1.116</td>\n",
       "</tr>\n",
       "<tr>\n",
       "  <th>Prob(Omnibus):</th> <td>   nan</td> <th>  Jarque-Bera (JB):  </th> <td>   0.801</td>\n",
       "</tr>\n",
       "<tr>\n",
       "  <th>Skew:</th>          <td> 0.972</td> <th>  Prob(JB):          </th> <td>   0.670</td>\n",
       "</tr>\n",
       "<tr>\n",
       "  <th>Kurtosis:</th>      <td> 2.744</td> <th>  Cond. No.          </th> <td>2.18e+03</td>\n",
       "</tr>\n",
       "</table><br/><br/>Warnings:<br/>[1] Standard Errors assume that the covariance matrix of the errors is correctly specified.<br/>[2] The condition number is large, 2.18e+03. This might indicate that there are<br/>strong multicollinearity or other numerical problems."
      ],
      "text/plain": [
       "<class 'statsmodels.iolib.summary.Summary'>\n",
       "\"\"\"\n",
       "                            OLS Regression Results                            \n",
       "==============================================================================\n",
       "Dep. Variable:           gdp2_epin_tj   R-squared:                       0.997\n",
       "Model:                            OLS   Adj. R-squared:                  0.994\n",
       "Method:                 Least Squares   F-statistic:                     321.8\n",
       "Date:                Tue, 14 Jul 2020   Prob (F-statistic):            0.00310\n",
       "Time:                        01:47:25   Log-Likelihood:                -6.2136\n",
       "No. Observations:                   5   AIC:                             18.43\n",
       "Df Residuals:                       2   BIC:                             17.26\n",
       "Df Model:                           2                                         \n",
       "Covariance Type:            nonrobust                                         \n",
       "==================================================================================\n",
       "                     coef    std err          t      P>|t|      [0.025      0.975]\n",
       "----------------------------------------------------------------------------------\n",
       "Intercept        154.7850      3.714     41.676      0.001     138.805     170.765\n",
       "gdp2_hemin_tj      0.0548      0.011      5.135      0.036       0.009       0.101\n",
       "d_gdp2_epin_tj    19.9541      0.802     24.879      0.002      16.503      23.405\n",
       "==============================================================================\n",
       "Omnibus:                          nan   Durbin-Watson:                   1.116\n",
       "Prob(Omnibus):                    nan   Jarque-Bera (JB):                0.801\n",
       "Skew:                           0.972   Prob(JB):                        0.670\n",
       "Kurtosis:                       2.744   Cond. No.                     2.18e+03\n",
       "==============================================================================\n",
       "\n",
       "Warnings:\n",
       "[1] Standard Errors assume that the covariance matrix of the errors is correctly specified.\n",
       "[2] The condition number is large, 2.18e+03. This might indicate that there are\n",
       "strong multicollinearity or other numerical problems.\n",
       "\"\"\""
      ]
     },
     "execution_count": 14,
     "metadata": {},
     "output_type": "execute_result"
    }
   ],
   "source": [
    "test1 = df_ev[[\"gdp2_epin_tj\",\"gdp2_hemin_tj\",\"d_gdp2_epin_tj\"]]\n",
    "test1 = test1[(test1.index>2013) & (test1.index <2019)]\n",
    "results = sm.ols(formula = \" gdp2_epin_tj ~  gdp2_hemin_tj + d_gdp2_epin_tj\",data = test1 ).fit()\n",
    "results.summary()"
   ]
  },
  {
   "cell_type": "code",
   "execution_count": null,
   "metadata": {},
   "outputs": [],
   "source": []
  }
 ],
 "metadata": {
  "hide_input": false,
  "kernelspec": {
   "display_name": "Python 3",
   "language": "python",
   "name": "python3"
  },
  "language_info": {
   "codemirror_mode": {
    "name": "ipython",
    "version": 3
   },
   "file_extension": ".py",
   "mimetype": "text/x-python",
   "name": "python",
   "nbconvert_exporter": "python",
   "pygments_lexer": "ipython3",
   "version": "3.7.3"
  },
  "toc": {
   "base_numbering": 1,
   "nav_menu": {},
   "number_sections": true,
   "sideBar": false,
   "skip_h1_title": false,
   "title_cell": "Table of Contents",
   "title_sidebar": "Contents",
   "toc_cell": false,
   "toc_position": {
    "height": "1129.41px",
    "left": "32.9844px",
    "top": "131.84px",
    "width": "417.129px"
   },
   "toc_section_display": true,
   "toc_window_display": true
  }
 },
 "nbformat": 4,
 "nbformat_minor": 2
}
